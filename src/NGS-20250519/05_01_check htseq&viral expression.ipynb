{
 "cells": [
  {
   "cell_type": "markdown",
   "id": "acda6456-94a6-49d7-a127-7afcf45a9179",
   "metadata": {},
   "source": [
    "# Load libs"
   ]
  },
  {
   "cell_type": "code",
   "execution_count": 1,
   "id": "e82f7c74-38b8-4c12-9128-77b483a87f98",
   "metadata": {
    "scrolled": true
   },
   "outputs": [
    {
     "name": "stderr",
     "output_type": "stream",
     "text": [
      "Loading required package: S4Vectors\n",
      "\n",
      "Loading required package: stats4\n",
      "\n",
      "Loading required package: BiocGenerics\n",
      "\n",
      "\n",
      "Attaching package: ‘BiocGenerics’\n",
      "\n",
      "\n",
      "The following objects are masked from ‘package:stats’:\n",
      "\n",
      "    IQR, mad, sd, var, xtabs\n",
      "\n",
      "\n",
      "The following objects are masked from ‘package:base’:\n",
      "\n",
      "    anyDuplicated, aperm, append, as.data.frame, basename, cbind,\n",
      "    colnames, dirname, do.call, duplicated, eval, evalq, Filter, Find,\n",
      "    get, grep, grepl, intersect, is.unsorted, lapply, Map, mapply,\n",
      "    match, mget, order, paste, pmax, pmax.int, pmin, pmin.int,\n",
      "    Position, rank, rbind, Reduce, rownames, sapply, saveRDS, setdiff,\n",
      "    table, tapply, union, unique, unsplit, which.max, which.min\n",
      "\n",
      "\n",
      "\n",
      "Attaching package: ‘S4Vectors’\n",
      "\n",
      "\n",
      "The following object is masked from ‘package:utils’:\n",
      "\n",
      "    findMatches\n",
      "\n",
      "\n",
      "The following objects are masked from ‘package:base’:\n",
      "\n",
      "    expand.grid, I, unname\n",
      "\n",
      "\n",
      "Loading required package: IRanges\n",
      "\n",
      "Loading required package: GenomicRanges\n",
      "\n",
      "Loading required package: GenomeInfoDb\n",
      "\n",
      "Loading required package: SummarizedExperiment\n",
      "\n",
      "Loading required package: MatrixGenerics\n",
      "\n",
      "Loading required package: matrixStats\n",
      "\n",
      "\n",
      "Attaching package: ‘MatrixGenerics’\n",
      "\n",
      "\n",
      "The following objects are masked from ‘package:matrixStats’:\n",
      "\n",
      "    colAlls, colAnyNAs, colAnys, colAvgsPerRowSet, colCollapse,\n",
      "    colCounts, colCummaxs, colCummins, colCumprods, colCumsums,\n",
      "    colDiffs, colIQRDiffs, colIQRs, colLogSumExps, colMadDiffs,\n",
      "    colMads, colMaxs, colMeans2, colMedians, colMins, colOrderStats,\n",
      "    colProds, colQuantiles, colRanges, colRanks, colSdDiffs, colSds,\n",
      "    colSums2, colTabulates, colVarDiffs, colVars, colWeightedMads,\n",
      "    colWeightedMeans, colWeightedMedians, colWeightedSds,\n",
      "    colWeightedVars, rowAlls, rowAnyNAs, rowAnys, rowAvgsPerColSet,\n",
      "    rowCollapse, rowCounts, rowCummaxs, rowCummins, rowCumprods,\n",
      "    rowCumsums, rowDiffs, rowIQRDiffs, rowIQRs, rowLogSumExps,\n",
      "    rowMadDiffs, rowMads, rowMaxs, rowMeans2, rowMedians, rowMins,\n",
      "    rowOrderStats, rowProds, rowQuantiles, rowRanges, rowRanks,\n",
      "    rowSdDiffs, rowSds, rowSums2, rowTabulates, rowVarDiffs, rowVars,\n",
      "    rowWeightedMads, rowWeightedMeans, rowWeightedMedians,\n",
      "    rowWeightedSds, rowWeightedVars\n",
      "\n",
      "\n",
      "Loading required package: Biobase\n",
      "\n",
      "Welcome to Bioconductor\n",
      "\n",
      "    Vignettes contain introductory material; view with\n",
      "    'browseVignettes()'. To cite Bioconductor, see\n",
      "    'citation(\"Biobase\")', and for packages 'citation(\"pkgname\")'.\n",
      "\n",
      "\n",
      "\n",
      "Attaching package: ‘Biobase’\n",
      "\n",
      "\n",
      "The following object is masked from ‘package:MatrixGenerics’:\n",
      "\n",
      "    rowMedians\n",
      "\n",
      "\n",
      "The following objects are masked from ‘package:matrixStats’:\n",
      "\n",
      "    anyMissing, rowMedians\n",
      "\n",
      "\n"
     ]
    }
   ],
   "source": [
    "library(DESeq2)"
   ]
  },
  {
   "cell_type": "markdown",
   "id": "b1352bf1-dc7a-41ae-8a26-518d2bdc3b0d",
   "metadata": {},
   "source": [
    "# Prepare samples"
   ]
  },
  {
   "cell_type": "code",
   "execution_count": 2,
   "id": "deb891e8-2937-4181-aecb-35badc4e4dfc",
   "metadata": {},
   "outputs": [
    {
     "data": {
      "text/html": [
       "'/mnt/data4A/ksenia/projects/brainNGS/src/NGS-20250519'"
      ],
      "text/latex": [
       "'/mnt/data4A/ksenia/projects/brainNGS/src/NGS-20250519'"
      ],
      "text/markdown": [
       "'/mnt/data4A/ksenia/projects/brainNGS/src/NGS-20250519'"
      ],
      "text/plain": [
       "[1] \"/mnt/data4A/ksenia/projects/brainNGS/src/NGS-20250519\""
      ]
     },
     "metadata": {},
     "output_type": "display_data"
    }
   ],
   "source": [
    "getwd ()"
   ]
  },
  {
   "cell_type": "code",
   "execution_count": 3,
   "id": "6fd0a093-de1e-4c10-a886-92c8b4e7cdb0",
   "metadata": {},
   "outputs": [
    {
     "data": {
      "text/html": [
       "<table class=\"dataframe\">\n",
       "<caption>A data.frame: 16 × 7</caption>\n",
       "<thead>\n",
       "\t<tr><th></th><th scope=col>condition</th><th scope=col>replicate</th><th scope=col>tissue</th><th scope=col>organoid.stage</th><th scope=col>organoid.line</th><th scope=col>timepoint</th><th scope=col>name</th></tr>\n",
       "\t<tr><th></th><th scope=col>&lt;chr&gt;</th><th scope=col>&lt;chr&gt;</th><th scope=col>&lt;chr&gt;</th><th scope=col>&lt;chr&gt;</th><th scope=col>&lt;chr&gt;</th><th scope=col>&lt;chr&gt;</th><th scope=col>&lt;chr&gt;</th></tr>\n",
       "</thead>\n",
       "<tbody>\n",
       "\t<tr><th scope=row>VL11</th><td>MLB2          </td><td>s1</td><td>brain</td><td>NA    </td><td>NA    </td><td>10d</td><td>MLB2_brain_s1_10d_VL11        </td></tr>\n",
       "\t<tr><th scope=row>VL12</th><td>MLB2          </td><td>s2</td><td>brain</td><td>NA    </td><td>NA    </td><td>10d</td><td>MLB2_brain_s2_10d_VL12        </td></tr>\n",
       "\t<tr><th scope=row>VL13</th><td>VA1           </td><td>s1</td><td>brain</td><td>NA    </td><td>NA    </td><td>10d</td><td>VA1_brain_s1_10d_VL13         </td></tr>\n",
       "\t<tr><th scope=row>VL14</th><td>VA1           </td><td>s2</td><td>brain</td><td>NA    </td><td>NA    </td><td>10d</td><td>VA1_brain_s2_10d_VL14         </td></tr>\n",
       "\t<tr><th scope=row>VL15</th><td>HAstV4        </td><td>s1</td><td>brain</td><td>NA    </td><td>NA    </td><td>10d</td><td>HAstV4_brain_s1_10d_VL15      </td></tr>\n",
       "\t<tr><th scope=row>VL16</th><td>HAstV4        </td><td>s2</td><td>brain</td><td>NA    </td><td>NA    </td><td>10d</td><td>HAstV4_brain_s2_10d_VL16      </td></tr>\n",
       "\t<tr><th scope=row>VL17</th><td>mock          </td><td>s1</td><td>brain</td><td>NA    </td><td>NA    </td><td>10d</td><td>mock_brain_s1_10d_VL17        </td></tr>\n",
       "\t<tr><th scope=row>VL18</th><td>mock          </td><td>s2</td><td>brain</td><td>NA    </td><td>NA    </td><td>10d</td><td>mock_brain_s2_10d_VL18        </td></tr>\n",
       "\t<tr><th scope=row>VL19</th><td>mock + trypsin</td><td>s1</td><td>brain</td><td>NA    </td><td>NA    </td><td>10d</td><td>mock+trypsin_brain_s1_10d_VL19</td></tr>\n",
       "\t<tr><th scope=row>VL20</th><td>mock + trypsin</td><td>s2</td><td>brain</td><td>NA    </td><td>NA    </td><td>10d</td><td>mock+trypsin_brain_s2_10d_VL20</td></tr>\n",
       "\t<tr><th scope=row>VL21</th><td>mock          </td><td>s1</td><td>gut  </td><td>undiff</td><td>duo354</td><td>24h</td><td>mock_gut_undiff_duo354_s1_VL21</td></tr>\n",
       "\t<tr><th scope=row>VL22</th><td>mock          </td><td>s2</td><td>gut  </td><td>undiff</td><td>duo354</td><td>24h</td><td>mock_gut_undiff_duo354_s2_VL22</td></tr>\n",
       "\t<tr><th scope=row>VL23</th><td>mock          </td><td>s3</td><td>gut  </td><td>undiff</td><td>duo354</td><td>24h</td><td>mock_gut_undiff_duo354_s3_VL23</td></tr>\n",
       "\t<tr><th scope=row>VL24</th><td>MLB2          </td><td>s1</td><td>gut  </td><td>undiff</td><td>duo354</td><td>24h</td><td>MLB2_gut_undiff_duo354_s1_VL24</td></tr>\n",
       "\t<tr><th scope=row>VL25</th><td>MLB2          </td><td>s2</td><td>gut  </td><td>undiff</td><td>duo354</td><td>24h</td><td>MLB2_gut_undiff_duo354_s2_VL25</td></tr>\n",
       "\t<tr><th scope=row>VL26</th><td>MLB2          </td><td>s3</td><td>gut  </td><td>undiff</td><td>duo354</td><td>24h</td><td>MLB2_gut_undiff_duo354_s3_VL26</td></tr>\n",
       "</tbody>\n",
       "</table>\n"
      ],
      "text/latex": [
       "A data.frame: 16 × 7\n",
       "\\begin{tabular}{r|lllllll}\n",
       "  & condition & replicate & tissue & organoid.stage & organoid.line & timepoint & name\\\\\n",
       "  & <chr> & <chr> & <chr> & <chr> & <chr> & <chr> & <chr>\\\\\n",
       "\\hline\n",
       "\tVL11 & MLB2           & s1 & brain & NA     & NA     & 10d & MLB2\\_brain\\_s1\\_10d\\_VL11        \\\\\n",
       "\tVL12 & MLB2           & s2 & brain & NA     & NA     & 10d & MLB2\\_brain\\_s2\\_10d\\_VL12        \\\\\n",
       "\tVL13 & VA1            & s1 & brain & NA     & NA     & 10d & VA1\\_brain\\_s1\\_10d\\_VL13         \\\\\n",
       "\tVL14 & VA1            & s2 & brain & NA     & NA     & 10d & VA1\\_brain\\_s2\\_10d\\_VL14         \\\\\n",
       "\tVL15 & HAstV4         & s1 & brain & NA     & NA     & 10d & HAstV4\\_brain\\_s1\\_10d\\_VL15      \\\\\n",
       "\tVL16 & HAstV4         & s2 & brain & NA     & NA     & 10d & HAstV4\\_brain\\_s2\\_10d\\_VL16      \\\\\n",
       "\tVL17 & mock           & s1 & brain & NA     & NA     & 10d & mock\\_brain\\_s1\\_10d\\_VL17        \\\\\n",
       "\tVL18 & mock           & s2 & brain & NA     & NA     & 10d & mock\\_brain\\_s2\\_10d\\_VL18        \\\\\n",
       "\tVL19 & mock + trypsin & s1 & brain & NA     & NA     & 10d & mock+trypsin\\_brain\\_s1\\_10d\\_VL19\\\\\n",
       "\tVL20 & mock + trypsin & s2 & brain & NA     & NA     & 10d & mock+trypsin\\_brain\\_s2\\_10d\\_VL20\\\\\n",
       "\tVL21 & mock           & s1 & gut   & undiff & duo354 & 24h & mock\\_gut\\_undiff\\_duo354\\_s1\\_VL21\\\\\n",
       "\tVL22 & mock           & s2 & gut   & undiff & duo354 & 24h & mock\\_gut\\_undiff\\_duo354\\_s2\\_VL22\\\\\n",
       "\tVL23 & mock           & s3 & gut   & undiff & duo354 & 24h & mock\\_gut\\_undiff\\_duo354\\_s3\\_VL23\\\\\n",
       "\tVL24 & MLB2           & s1 & gut   & undiff & duo354 & 24h & MLB2\\_gut\\_undiff\\_duo354\\_s1\\_VL24\\\\\n",
       "\tVL25 & MLB2           & s2 & gut   & undiff & duo354 & 24h & MLB2\\_gut\\_undiff\\_duo354\\_s2\\_VL25\\\\\n",
       "\tVL26 & MLB2           & s3 & gut   & undiff & duo354 & 24h & MLB2\\_gut\\_undiff\\_duo354\\_s3\\_VL26\\\\\n",
       "\\end{tabular}\n"
      ],
      "text/markdown": [
       "\n",
       "A data.frame: 16 × 7\n",
       "\n",
       "| <!--/--> | condition &lt;chr&gt; | replicate &lt;chr&gt; | tissue &lt;chr&gt; | organoid.stage &lt;chr&gt; | organoid.line &lt;chr&gt; | timepoint &lt;chr&gt; | name &lt;chr&gt; |\n",
       "|---|---|---|---|---|---|---|---|\n",
       "| VL11 | MLB2           | s1 | brain | NA     | NA     | 10d | MLB2_brain_s1_10d_VL11         |\n",
       "| VL12 | MLB2           | s2 | brain | NA     | NA     | 10d | MLB2_brain_s2_10d_VL12         |\n",
       "| VL13 | VA1            | s1 | brain | NA     | NA     | 10d | VA1_brain_s1_10d_VL13          |\n",
       "| VL14 | VA1            | s2 | brain | NA     | NA     | 10d | VA1_brain_s2_10d_VL14          |\n",
       "| VL15 | HAstV4         | s1 | brain | NA     | NA     | 10d | HAstV4_brain_s1_10d_VL15       |\n",
       "| VL16 | HAstV4         | s2 | brain | NA     | NA     | 10d | HAstV4_brain_s2_10d_VL16       |\n",
       "| VL17 | mock           | s1 | brain | NA     | NA     | 10d | mock_brain_s1_10d_VL17         |\n",
       "| VL18 | mock           | s2 | brain | NA     | NA     | 10d | mock_brain_s2_10d_VL18         |\n",
       "| VL19 | mock + trypsin | s1 | brain | NA     | NA     | 10d | mock+trypsin_brain_s1_10d_VL19 |\n",
       "| VL20 | mock + trypsin | s2 | brain | NA     | NA     | 10d | mock+trypsin_brain_s2_10d_VL20 |\n",
       "| VL21 | mock           | s1 | gut   | undiff | duo354 | 24h | mock_gut_undiff_duo354_s1_VL21 |\n",
       "| VL22 | mock           | s2 | gut   | undiff | duo354 | 24h | mock_gut_undiff_duo354_s2_VL22 |\n",
       "| VL23 | mock           | s3 | gut   | undiff | duo354 | 24h | mock_gut_undiff_duo354_s3_VL23 |\n",
       "| VL24 | MLB2           | s1 | gut   | undiff | duo354 | 24h | MLB2_gut_undiff_duo354_s1_VL24 |\n",
       "| VL25 | MLB2           | s2 | gut   | undiff | duo354 | 24h | MLB2_gut_undiff_duo354_s2_VL25 |\n",
       "| VL26 | MLB2           | s3 | gut   | undiff | duo354 | 24h | MLB2_gut_undiff_duo354_s3_VL26 |\n",
       "\n"
      ],
      "text/plain": [
       "     condition      replicate tissue organoid.stage organoid.line timepoint\n",
       "VL11 MLB2           s1        brain  NA             NA            10d      \n",
       "VL12 MLB2           s2        brain  NA             NA            10d      \n",
       "VL13 VA1            s1        brain  NA             NA            10d      \n",
       "VL14 VA1            s2        brain  NA             NA            10d      \n",
       "VL15 HAstV4         s1        brain  NA             NA            10d      \n",
       "VL16 HAstV4         s2        brain  NA             NA            10d      \n",
       "VL17 mock           s1        brain  NA             NA            10d      \n",
       "VL18 mock           s2        brain  NA             NA            10d      \n",
       "VL19 mock + trypsin s1        brain  NA             NA            10d      \n",
       "VL20 mock + trypsin s2        brain  NA             NA            10d      \n",
       "VL21 mock           s1        gut    undiff         duo354        24h      \n",
       "VL22 mock           s2        gut    undiff         duo354        24h      \n",
       "VL23 mock           s3        gut    undiff         duo354        24h      \n",
       "VL24 MLB2           s1        gut    undiff         duo354        24h      \n",
       "VL25 MLB2           s2        gut    undiff         duo354        24h      \n",
       "VL26 MLB2           s3        gut    undiff         duo354        24h      \n",
       "     name                          \n",
       "VL11 MLB2_brain_s1_10d_VL11        \n",
       "VL12 MLB2_brain_s2_10d_VL12        \n",
       "VL13 VA1_brain_s1_10d_VL13         \n",
       "VL14 VA1_brain_s2_10d_VL14         \n",
       "VL15 HAstV4_brain_s1_10d_VL15      \n",
       "VL16 HAstV4_brain_s2_10d_VL16      \n",
       "VL17 mock_brain_s1_10d_VL17        \n",
       "VL18 mock_brain_s2_10d_VL18        \n",
       "VL19 mock+trypsin_brain_s1_10d_VL19\n",
       "VL20 mock+trypsin_brain_s2_10d_VL20\n",
       "VL21 mock_gut_undiff_duo354_s1_VL21\n",
       "VL22 mock_gut_undiff_duo354_s2_VL22\n",
       "VL23 mock_gut_undiff_duo354_s3_VL23\n",
       "VL24 MLB2_gut_undiff_duo354_s1_VL24\n",
       "VL25 MLB2_gut_undiff_duo354_s2_VL25\n",
       "VL26 MLB2_gut_undiff_duo354_s3_VL26"
      ]
     },
     "metadata": {},
     "output_type": "display_data"
    }
   ],
   "source": [
    "samples = read.csv('samples.csv',row.names = 1)\n",
    "samples"
   ]
  },
  {
   "cell_type": "code",
   "execution_count": 4,
   "id": "c4513981-513c-45b7-b3a0-68944088e0be",
   "metadata": {},
   "outputs": [
    {
     "name": "stdout",
     "output_type": "stream",
     "text": [
      "          condition replicate tissue organoid.stage organoid.line timepoint\n",
      "VL11           MLB2        s1  brain           <NA>          <NA>       10d\n",
      "VL12           MLB2        s2  brain           <NA>          <NA>       10d\n",
      "VL13            VA1        s1  brain           <NA>          <NA>       10d\n",
      "VL14            VA1        s2  brain           <NA>          <NA>       10d\n",
      "VL15         HAstV4        s1  brain           <NA>          <NA>       10d\n",
      "VL16         HAstV4        s2  brain           <NA>          <NA>       10d\n",
      "VL17           mock        s1  brain           <NA>          <NA>       10d\n",
      "VL18           mock        s2  brain           <NA>          <NA>       10d\n",
      "VL19 mock + trypsin        s1  brain           <NA>          <NA>       10d\n",
      "VL20 mock + trypsin        s2  brain           <NA>          <NA>       10d\n",
      "VL21           mock        s1    gut         undiff        duo354       24h\n",
      "VL22           mock        s2    gut         undiff        duo354       24h\n",
      "VL23           mock        s3    gut         undiff        duo354       24h\n",
      "VL24           MLB2        s1    gut         undiff        duo354       24h\n",
      "VL25           MLB2        s2    gut         undiff        duo354       24h\n",
      "VL26           MLB2        s3    gut         undiff        duo354       24h\n",
      "                               name   id\n",
      "VL11         MLB2_brain_s1_10d_VL11 VL11\n",
      "VL12         MLB2_brain_s2_10d_VL12 VL12\n",
      "VL13          VA1_brain_s1_10d_VL13 VL13\n",
      "VL14          VA1_brain_s2_10d_VL14 VL14\n",
      "VL15       HAstV4_brain_s1_10d_VL15 VL15\n",
      "VL16       HAstV4_brain_s2_10d_VL16 VL16\n",
      "VL17         mock_brain_s1_10d_VL17 VL17\n",
      "VL18         mock_brain_s2_10d_VL18 VL18\n",
      "VL19 mock+trypsin_brain_s1_10d_VL19 VL19\n",
      "VL20 mock+trypsin_brain_s2_10d_VL20 VL20\n",
      "VL21 mock_gut_undiff_duo354_s1_VL21 VL21\n",
      "VL22 mock_gut_undiff_duo354_s2_VL22 VL22\n",
      "VL23 mock_gut_undiff_duo354_s3_VL23 VL23\n",
      "VL24 MLB2_gut_undiff_duo354_s1_VL24 VL24\n",
      "VL25 MLB2_gut_undiff_duo354_s2_VL25 VL25\n",
      "VL26 MLB2_gut_undiff_duo354_s3_VL26 VL26\n"
     ]
    }
   ],
   "source": [
    "# Add the \"id\" column with values VL11 to VL26\n",
    "samples$id <- paste0(\"VL\", 11:26)\n",
    "\n",
    "# View the updated data frame\n",
    "print(samples)"
   ]
  },
  {
   "cell_type": "markdown",
   "id": "1134e072-d6ef-4e57-ae8c-9c4195e30bf8",
   "metadata": {},
   "source": [
    "# Load genes"
   ]
  },
  {
   "cell_type": "code",
   "execution_count": 5,
   "id": "ed1f5a4e-b91e-45c0-8761-ed6a2aa0e15b",
   "metadata": {},
   "outputs": [],
   "source": [
    "genes <- readRDS('../../rds/NGS-20250519/genes.rds')"
   ]
  },
  {
   "cell_type": "code",
   "execution_count": 6,
   "id": "b7b90dc5-d70a-4636-9488-a1e3a314a0ef",
   "metadata": {},
   "outputs": [
    {
     "data": {
      "text/html": [
       "<style>\n",
       ".list-inline {list-style: none; margin:0; padding: 0}\n",
       ".list-inline>li {display: inline-block}\n",
       ".list-inline>li:not(:last-child)::after {content: \"\\00b7\"; padding: 0 .5ex}\n",
       "</style>\n",
       "<ol class=list-inline><li>62757</li><li>7</li></ol>\n"
      ],
      "text/latex": [
       "\\begin{enumerate*}\n",
       "\\item 62757\n",
       "\\item 7\n",
       "\\end{enumerate*}\n"
      ],
      "text/markdown": [
       "1. 62757\n",
       "2. 7\n",
       "\n",
       "\n"
      ],
      "text/plain": [
       "[1] 62757     7"
      ]
     },
     "metadata": {},
     "output_type": "display_data"
    }
   ],
   "source": [
    "dim(genes)"
   ]
  },
  {
   "cell_type": "code",
   "execution_count": 4,
   "id": "61f18039-32bb-4db3-8e80-1030959c2797",
   "metadata": {},
   "outputs": [
    {
     "data": {
      "text/html": [
       "<table class=\"dataframe\">\n",
       "<caption>A data.frame: 3 × 9</caption>\n",
       "<thead>\n",
       "\t<tr><th></th><th scope=col>V1</th><th scope=col>V2</th><th scope=col>V3</th><th scope=col>V4</th><th scope=col>V5</th><th scope=col>V6</th><th scope=col>V7</th><th scope=col>V8</th><th scope=col>V9</th></tr>\n",
       "\t<tr><th></th><th scope=col>&lt;chr&gt;</th><th scope=col>&lt;chr&gt;</th><th scope=col>&lt;chr&gt;</th><th scope=col>&lt;int&gt;</th><th scope=col>&lt;int&gt;</th><th scope=col>&lt;chr&gt;</th><th scope=col>&lt;chr&gt;</th><th scope=col>&lt;chr&gt;</th><th scope=col>&lt;chr&gt;</th></tr>\n",
       "</thead>\n",
       "<tbody>\n",
       "\t<tr><th scope=row>1</th><td>1</td><td>havana        </td><td>gene</td><td> 182696</td><td> 184174</td><td>.</td><td>+</td><td>.</td><td>gene_id ENSG00000279928; gene_version 2; gene_name DDX11L17; gene_source havana; gene_biotype unprocessed_pseudogene;</td></tr>\n",
       "\t<tr><th scope=row>8</th><td>1</td><td>havana        </td><td>gene</td><td>2581560</td><td>2584533</td><td>.</td><td>+</td><td>.</td><td>gene_id ENSG00000228037; gene_version 1; gene_source havana; gene_biotype lncRNA;                                    </td></tr>\n",
       "\t<tr><th scope=row>13</th><td>1</td><td>ensembl_havana</td><td>gene</td><td>3069168</td><td>3438621</td><td>.</td><td>+</td><td>.</td><td>gene_id ENSG00000142611; gene_version 17; gene_name PRDM16; gene_source ensembl_havana; gene_biotype protein_coding; </td></tr>\n",
       "</tbody>\n",
       "</table>\n"
      ],
      "text/latex": [
       "A data.frame: 3 × 9\n",
       "\\begin{tabular}{r|lllllllll}\n",
       "  & V1 & V2 & V3 & V4 & V5 & V6 & V7 & V8 & V9\\\\\n",
       "  & <chr> & <chr> & <chr> & <int> & <int> & <chr> & <chr> & <chr> & <chr>\\\\\n",
       "\\hline\n",
       "\t1 & 1 & havana         & gene &  182696 &  184174 & . & + & . & gene\\_id ENSG00000279928; gene\\_version 2; gene\\_name DDX11L17; gene\\_source havana; gene\\_biotype unprocessed\\_pseudogene;\\\\\n",
       "\t8 & 1 & havana         & gene & 2581560 & 2584533 & . & + & . & gene\\_id ENSG00000228037; gene\\_version 1; gene\\_source havana; gene\\_biotype lncRNA;                                    \\\\\n",
       "\t13 & 1 & ensembl\\_havana & gene & 3069168 & 3438621 & . & + & . & gene\\_id ENSG00000142611; gene\\_version 17; gene\\_name PRDM16; gene\\_source ensembl\\_havana; gene\\_biotype protein\\_coding; \\\\\n",
       "\\end{tabular}\n"
      ],
      "text/markdown": [
       "\n",
       "A data.frame: 3 × 9\n",
       "\n",
       "| <!--/--> | V1 &lt;chr&gt; | V2 &lt;chr&gt; | V3 &lt;chr&gt; | V4 &lt;int&gt; | V5 &lt;int&gt; | V6 &lt;chr&gt; | V7 &lt;chr&gt; | V8 &lt;chr&gt; | V9 &lt;chr&gt; |\n",
       "|---|---|---|---|---|---|---|---|---|---|\n",
       "| 1 | 1 | havana         | gene |  182696 |  184174 | . | + | . | gene_id ENSG00000279928; gene_version 2; gene_name DDX11L17; gene_source havana; gene_biotype unprocessed_pseudogene; |\n",
       "| 8 | 1 | havana         | gene | 2581560 | 2584533 | . | + | . | gene_id ENSG00000228037; gene_version 1; gene_source havana; gene_biotype lncRNA;                                     |\n",
       "| 13 | 1 | ensembl_havana | gene | 3069168 | 3438621 | . | + | . | gene_id ENSG00000142611; gene_version 17; gene_name PRDM16; gene_source ensembl_havana; gene_biotype protein_coding;  |\n",
       "\n"
      ],
      "text/plain": [
       "   V1 V2             V3   V4      V5      V6 V7 V8\n",
       "1  1  havana         gene  182696  184174 .  +  . \n",
       "8  1  havana         gene 2581560 2584533 .  +  . \n",
       "13 1  ensembl_havana gene 3069168 3438621 .  +  . \n",
       "   V9                                                                                                                   \n",
       "1  gene_id ENSG00000279928; gene_version 2; gene_name DDX11L17; gene_source havana; gene_biotype unprocessed_pseudogene;\n",
       "8  gene_id ENSG00000228037; gene_version 1; gene_source havana; gene_biotype lncRNA;                                    \n",
       "13 gene_id ENSG00000142611; gene_version 17; gene_name PRDM16; gene_source ensembl_havana; gene_biotype protein_coding; "
      ]
     },
     "metadata": {},
     "output_type": "display_data"
    }
   ],
   "source": [
    "genes = read.table('../../ref/h38_e110_new/genes_new.gtf',sep='\\t')\n",
    "genes = genes[genes$V3 == 'gene',]\n",
    "genes[1:3,]"
   ]
  },
  {
   "cell_type": "code",
   "execution_count": null,
   "id": "ffdc6ccc-daea-4f02-b1ea-fa1943aee034",
   "metadata": {},
   "outputs": [],
   "source": []
  },
  {
   "cell_type": "code",
   "execution_count": 5,
   "id": "b865ef3f-b5e1-4bb8-a9c6-91a73775b18e",
   "metadata": {},
   "outputs": [
    {
     "data": {
      "text/html": [
       "<table class=\"dataframe\">\n",
       "<caption>A data.frame: 10 × 3</caption>\n",
       "<thead>\n",
       "\t<tr><th></th><th scope=col>gene_id</th><th scope=col>gene_name</th><th scope=col>gene_biotype</th></tr>\n",
       "\t<tr><th></th><th scope=col>&lt;chr&gt;</th><th scope=col>&lt;chr&gt;</th><th scope=col>&lt;chr&gt;</th></tr>\n",
       "</thead>\n",
       "<tbody>\n",
       "\t<tr><th scope=row>1</th><td>ENSG00000279928</td><td>DDX11L17 </td><td>unprocessed_pseudogene          </td></tr>\n",
       "\t<tr><th scope=row>2</th><td>ENSG00000228037</td><td>NA       </td><td>lncRNA                          </td></tr>\n",
       "\t<tr><th scope=row>3</th><td>ENSG00000142611</td><td>PRDM16   </td><td>protein_coding                  </td></tr>\n",
       "\t<tr><th scope=row>4</th><td>ENSG00000284616</td><td>NA       </td><td>lncRNA                          </td></tr>\n",
       "\t<tr><th scope=row>5</th><td>ENSG00000157911</td><td>PEX10    </td><td>protein_coding                  </td></tr>\n",
       "\t<tr><th scope=row>6</th><td>ENSG00000269896</td><td>NA       </td><td>transcribed_processed_pseudogene</td></tr>\n",
       "\t<tr><th scope=row>7</th><td>ENSG00000228463</td><td>NA       </td><td>transcribed_processed_pseudogene</td></tr>\n",
       "\t<tr><th scope=row>8</th><td>ENSG00000260972</td><td>NA       </td><td>lncRNA                          </td></tr>\n",
       "\t<tr><th scope=row>9</th><td>ENSG00000224340</td><td>RPL21P21 </td><td>processed_pseudogene            </td></tr>\n",
       "\t<tr><th scope=row>10</th><td>ENSG00000226374</td><td>LINC01345</td><td>lncRNA                          </td></tr>\n",
       "</tbody>\n",
       "</table>\n"
      ],
      "text/latex": [
       "A data.frame: 10 × 3\n",
       "\\begin{tabular}{r|lll}\n",
       "  & gene\\_id & gene\\_name & gene\\_biotype\\\\\n",
       "  & <chr> & <chr> & <chr>\\\\\n",
       "\\hline\n",
       "\t1 & ENSG00000279928 & DDX11L17  & unprocessed\\_pseudogene          \\\\\n",
       "\t2 & ENSG00000228037 & NA        & lncRNA                          \\\\\n",
       "\t3 & ENSG00000142611 & PRDM16    & protein\\_coding                  \\\\\n",
       "\t4 & ENSG00000284616 & NA        & lncRNA                          \\\\\n",
       "\t5 & ENSG00000157911 & PEX10     & protein\\_coding                  \\\\\n",
       "\t6 & ENSG00000269896 & NA        & transcribed\\_processed\\_pseudogene\\\\\n",
       "\t7 & ENSG00000228463 & NA        & transcribed\\_processed\\_pseudogene\\\\\n",
       "\t8 & ENSG00000260972 & NA        & lncRNA                          \\\\\n",
       "\t9 & ENSG00000224340 & RPL21P21  & processed\\_pseudogene            \\\\\n",
       "\t10 & ENSG00000226374 & LINC01345 & lncRNA                          \\\\\n",
       "\\end{tabular}\n"
      ],
      "text/markdown": [
       "\n",
       "A data.frame: 10 × 3\n",
       "\n",
       "| <!--/--> | gene_id &lt;chr&gt; | gene_name &lt;chr&gt; | gene_biotype &lt;chr&gt; |\n",
       "|---|---|---|---|\n",
       "| 1 | ENSG00000279928 | DDX11L17  | unprocessed_pseudogene           |\n",
       "| 2 | ENSG00000228037 | NA        | lncRNA                           |\n",
       "| 3 | ENSG00000142611 | PRDM16    | protein_coding                   |\n",
       "| 4 | ENSG00000284616 | NA        | lncRNA                           |\n",
       "| 5 | ENSG00000157911 | PEX10     | protein_coding                   |\n",
       "| 6 | ENSG00000269896 | NA        | transcribed_processed_pseudogene |\n",
       "| 7 | ENSG00000228463 | NA        | transcribed_processed_pseudogene |\n",
       "| 8 | ENSG00000260972 | NA        | lncRNA                           |\n",
       "| 9 | ENSG00000224340 | RPL21P21  | processed_pseudogene             |\n",
       "| 10 | ENSG00000226374 | LINC01345 | lncRNA                           |\n",
       "\n"
      ],
      "text/plain": [
       "   gene_id         gene_name gene_biotype                    \n",
       "1  ENSG00000279928 DDX11L17  unprocessed_pseudogene          \n",
       "2  ENSG00000228037 NA        lncRNA                          \n",
       "3  ENSG00000142611 PRDM16    protein_coding                  \n",
       "4  ENSG00000284616 NA        lncRNA                          \n",
       "5  ENSG00000157911 PEX10     protein_coding                  \n",
       "6  ENSG00000269896 NA        transcribed_processed_pseudogene\n",
       "7  ENSG00000228463 NA        transcribed_processed_pseudogene\n",
       "8  ENSG00000260972 NA        lncRNA                          \n",
       "9  ENSG00000224340 RPL21P21  processed_pseudogene            \n",
       "10 ENSG00000226374 LINC01345 lncRNA                          "
      ]
     },
     "metadata": {},
     "output_type": "display_data"
    }
   ],
   "source": [
    "attr_names = c('gene_id','gene_name','gene_biotype')\n",
    "attrs = strsplit(genes$V9,'; ')\n",
    "attrs = lapply(attrs,function(x){\n",
    "    x = strsplit(x,' ')\n",
    "    x = setNames(sub(';$','',sapply(x,'[',2)),\n",
    "             sapply(x,'[',1))\n",
    "    x[attr_names]\n",
    "})\n",
    "attrs = as.data.frame(do.call(rbind,attrs))\n",
    "colnames(attrs) = attr_names\n",
    "attrs[1:10,]"
   ]
  },
  {
   "cell_type": "code",
   "execution_count": 6,
   "id": "db7dd385-244a-486f-a007-735bf6692f27",
   "metadata": {},
   "outputs": [],
   "source": [
    "attrs$gene_biotype[is.na(attrs$gene_biotype)] = 'viral'"
   ]
  },
  {
   "cell_type": "code",
   "execution_count": 7,
   "id": "24da0ae6-dc64-4be1-b04a-0f704210f8e7",
   "metadata": {},
   "outputs": [
    {
     "data": {
      "text/html": [
       "<table class=\"dataframe\">\n",
       "<caption>A data.frame: 10 × 3</caption>\n",
       "<thead>\n",
       "\t<tr><th></th><th scope=col>gene_id</th><th scope=col>gene_name</th><th scope=col>gene_biotype</th></tr>\n",
       "\t<tr><th></th><th scope=col>&lt;chr&gt;</th><th scope=col>&lt;chr&gt;</th><th scope=col>&lt;chr&gt;</th></tr>\n",
       "</thead>\n",
       "<tbody>\n",
       "\t<tr><th scope=row>1</th><td>ENSG00000279928</td><td>DDX11L17 </td><td>unprocessed_pseudogene          </td></tr>\n",
       "\t<tr><th scope=row>2</th><td>ENSG00000228037</td><td>NA       </td><td>lncRNA                          </td></tr>\n",
       "\t<tr><th scope=row>3</th><td>ENSG00000142611</td><td>PRDM16   </td><td>protein_coding                  </td></tr>\n",
       "\t<tr><th scope=row>4</th><td>ENSG00000284616</td><td>NA       </td><td>lncRNA                          </td></tr>\n",
       "\t<tr><th scope=row>5</th><td>ENSG00000157911</td><td>PEX10    </td><td>protein_coding                  </td></tr>\n",
       "\t<tr><th scope=row>6</th><td>ENSG00000269896</td><td>NA       </td><td>transcribed_processed_pseudogene</td></tr>\n",
       "\t<tr><th scope=row>7</th><td>ENSG00000228463</td><td>NA       </td><td>transcribed_processed_pseudogene</td></tr>\n",
       "\t<tr><th scope=row>8</th><td>ENSG00000260972</td><td>NA       </td><td>lncRNA                          </td></tr>\n",
       "\t<tr><th scope=row>9</th><td>ENSG00000224340</td><td>RPL21P21 </td><td>processed_pseudogene            </td></tr>\n",
       "\t<tr><th scope=row>10</th><td>ENSG00000226374</td><td>LINC01345</td><td>lncRNA                          </td></tr>\n",
       "</tbody>\n",
       "</table>\n"
      ],
      "text/latex": [
       "A data.frame: 10 × 3\n",
       "\\begin{tabular}{r|lll}\n",
       "  & gene\\_id & gene\\_name & gene\\_biotype\\\\\n",
       "  & <chr> & <chr> & <chr>\\\\\n",
       "\\hline\n",
       "\t1 & ENSG00000279928 & DDX11L17  & unprocessed\\_pseudogene          \\\\\n",
       "\t2 & ENSG00000228037 & NA        & lncRNA                          \\\\\n",
       "\t3 & ENSG00000142611 & PRDM16    & protein\\_coding                  \\\\\n",
       "\t4 & ENSG00000284616 & NA        & lncRNA                          \\\\\n",
       "\t5 & ENSG00000157911 & PEX10     & protein\\_coding                  \\\\\n",
       "\t6 & ENSG00000269896 & NA        & transcribed\\_processed\\_pseudogene\\\\\n",
       "\t7 & ENSG00000228463 & NA        & transcribed\\_processed\\_pseudogene\\\\\n",
       "\t8 & ENSG00000260972 & NA        & lncRNA                          \\\\\n",
       "\t9 & ENSG00000224340 & RPL21P21  & processed\\_pseudogene            \\\\\n",
       "\t10 & ENSG00000226374 & LINC01345 & lncRNA                          \\\\\n",
       "\\end{tabular}\n"
      ],
      "text/markdown": [
       "\n",
       "A data.frame: 10 × 3\n",
       "\n",
       "| <!--/--> | gene_id &lt;chr&gt; | gene_name &lt;chr&gt; | gene_biotype &lt;chr&gt; |\n",
       "|---|---|---|---|\n",
       "| 1 | ENSG00000279928 | DDX11L17  | unprocessed_pseudogene           |\n",
       "| 2 | ENSG00000228037 | NA        | lncRNA                           |\n",
       "| 3 | ENSG00000142611 | PRDM16    | protein_coding                   |\n",
       "| 4 | ENSG00000284616 | NA        | lncRNA                           |\n",
       "| 5 | ENSG00000157911 | PEX10     | protein_coding                   |\n",
       "| 6 | ENSG00000269896 | NA        | transcribed_processed_pseudogene |\n",
       "| 7 | ENSG00000228463 | NA        | transcribed_processed_pseudogene |\n",
       "| 8 | ENSG00000260972 | NA        | lncRNA                           |\n",
       "| 9 | ENSG00000224340 | RPL21P21  | processed_pseudogene             |\n",
       "| 10 | ENSG00000226374 | LINC01345 | lncRNA                           |\n",
       "\n"
      ],
      "text/plain": [
       "   gene_id         gene_name gene_biotype                    \n",
       "1  ENSG00000279928 DDX11L17  unprocessed_pseudogene          \n",
       "2  ENSG00000228037 NA        lncRNA                          \n",
       "3  ENSG00000142611 PRDM16    protein_coding                  \n",
       "4  ENSG00000284616 NA        lncRNA                          \n",
       "5  ENSG00000157911 PEX10     protein_coding                  \n",
       "6  ENSG00000269896 NA        transcribed_processed_pseudogene\n",
       "7  ENSG00000228463 NA        transcribed_processed_pseudogene\n",
       "8  ENSG00000260972 NA        lncRNA                          \n",
       "9  ENSG00000224340 RPL21P21  processed_pseudogene            \n",
       "10 ENSG00000226374 LINC01345 lncRNA                          "
      ]
     },
     "metadata": {},
     "output_type": "display_data"
    }
   ],
   "source": [
    "attrs[1:10,]"
   ]
  },
  {
   "cell_type": "code",
   "execution_count": 8,
   "id": "98a0f4f1-25a5-4bf2-9cee-2ba4f04cc65e",
   "metadata": {
    "scrolled": true
   },
   "outputs": [
    {
     "data": {
      "text/html": [
       "<table class=\"dataframe\">\n",
       "<caption>A data.frame: 2 × 7</caption>\n",
       "<thead>\n",
       "\t<tr><th></th><th scope=col>chr</th><th scope=col>start</th><th scope=col>end</th><th scope=col>strand</th><th scope=col>gene_id</th><th scope=col>gene_name</th><th scope=col>gene_biotype</th></tr>\n",
       "\t<tr><th></th><th scope=col>&lt;chr&gt;</th><th scope=col>&lt;int&gt;</th><th scope=col>&lt;int&gt;</th><th scope=col>&lt;chr&gt;</th><th scope=col>&lt;chr&gt;</th><th scope=col>&lt;chr&gt;</th><th scope=col>&lt;chr&gt;</th></tr>\n",
       "</thead>\n",
       "<tbody>\n",
       "\t<tr><th scope=row>ENSG00000279928</th><td>1</td><td> 182696</td><td> 184174</td><td>+</td><td>ENSG00000279928</td><td>DDX11L17</td><td>unprocessed_pseudogene</td></tr>\n",
       "\t<tr><th scope=row>ENSG00000228037</th><td>1</td><td>2581560</td><td>2584533</td><td>+</td><td>ENSG00000228037</td><td>NA      </td><td>lncRNA                </td></tr>\n",
       "</tbody>\n",
       "</table>\n"
      ],
      "text/latex": [
       "A data.frame: 2 × 7\n",
       "\\begin{tabular}{r|lllllll}\n",
       "  & chr & start & end & strand & gene\\_id & gene\\_name & gene\\_biotype\\\\\n",
       "  & <chr> & <int> & <int> & <chr> & <chr> & <chr> & <chr>\\\\\n",
       "\\hline\n",
       "\tENSG00000279928 & 1 &  182696 &  184174 & + & ENSG00000279928 & DDX11L17 & unprocessed\\_pseudogene\\\\\n",
       "\tENSG00000228037 & 1 & 2581560 & 2584533 & + & ENSG00000228037 & NA       & lncRNA                \\\\\n",
       "\\end{tabular}\n"
      ],
      "text/markdown": [
       "\n",
       "A data.frame: 2 × 7\n",
       "\n",
       "| <!--/--> | chr &lt;chr&gt; | start &lt;int&gt; | end &lt;int&gt; | strand &lt;chr&gt; | gene_id &lt;chr&gt; | gene_name &lt;chr&gt; | gene_biotype &lt;chr&gt; |\n",
       "|---|---|---|---|---|---|---|---|\n",
       "| ENSG00000279928 | 1 |  182696 |  184174 | + | ENSG00000279928 | DDX11L17 | unprocessed_pseudogene |\n",
       "| ENSG00000228037 | 1 | 2581560 | 2584533 | + | ENSG00000228037 | NA       | lncRNA                 |\n",
       "\n"
      ],
      "text/plain": [
       "                chr start   end     strand gene_id         gene_name\n",
       "ENSG00000279928 1    182696  184174 +      ENSG00000279928 DDX11L17 \n",
       "ENSG00000228037 1   2581560 2584533 +      ENSG00000228037 NA       \n",
       "                gene_biotype          \n",
       "ENSG00000279928 unprocessed_pseudogene\n",
       "ENSG00000228037 lncRNA                "
      ]
     },
     "metadata": {},
     "output_type": "display_data"
    }
   ],
   "source": [
    "genes = genes[,c(1,4,5,7)]\n",
    "colnames(genes) = c('chr','start','end','strand')\n",
    "genes = cbind(genes,attrs)\n",
    "rownames(genes) = genes$gene_id\n",
    "genes[1:2,]"
   ]
  },
  {
   "cell_type": "code",
   "execution_count": 9,
   "id": "ec5a0447-1454-420e-ac48-4b7155c36ee0",
   "metadata": {},
   "outputs": [
    {
     "data": {
      "text/html": [],
      "text/latex": [],
      "text/markdown": [],
      "text/plain": [
       "named integer(0)"
      ]
     },
     "metadata": {},
     "output_type": "display_data"
    }
   ],
   "source": [
    "t=table(genes$gene_id)\n",
    "t[t>1]"
   ]
  },
  {
   "cell_type": "code",
   "execution_count": 10,
   "id": "199ef077-ec61-4b3e-a3cd-ef797d040a63",
   "metadata": {},
   "outputs": [
    {
     "data": {
      "text/plain": [
       "\n",
       "                          artifact                          IG_C_gene \n",
       "                                19                                 14 \n",
       "                   IG_C_pseudogene                          IG_D_gene \n",
       "                                 9                                 37 \n",
       "                         IG_J_gene                    IG_J_pseudogene \n",
       "                                18                                  3 \n",
       "                     IG_pseudogene                          IG_V_gene \n",
       "                                 1                                145 \n",
       "                   IG_V_pseudogene                             lncRNA \n",
       "                               187                              18866 \n",
       "                             miRNA                           misc_RNA \n",
       "                              1879                               2221 \n",
       "                           Mt_rRNA                            Mt_tRNA \n",
       "                                 2                                 22 \n",
       "              processed_pseudogene                     protein_coding \n",
       "                             10148                              20070 \n",
       "                        pseudogene                           ribozyme \n",
       "                                19                                  8 \n",
       "                              rRNA                    rRNA_pseudogene \n",
       "                                53                                497 \n",
       "                            scaRNA                              scRNA \n",
       "                                49                                  1 \n",
       "                            snoRNA                              snRNA \n",
       "                               942                               1910 \n",
       "                              sRNA                                TEC \n",
       "                                 5                               1056 \n",
       "                         TR_C_gene                          TR_D_gene \n",
       "                                 6                                  5 \n",
       "                         TR_J_gene                    TR_J_pseudogene \n",
       "                                79                                  4 \n",
       "                         TR_V_gene                    TR_V_pseudogene \n",
       "                               107                                 33 \n",
       "  transcribed_processed_pseudogene     transcribed_unitary_pseudogene \n",
       "                               512                                155 \n",
       "transcribed_unprocessed_pseudogene    translated_processed_pseudogene \n",
       "                               961                                  2 \n",
       "                unitary_pseudogene             unprocessed_pseudogene \n",
       "                                99                               2609 \n",
       "                         vault_RNA                              viral \n",
       "                                 1                                  3 "
      ]
     },
     "metadata": {},
     "output_type": "display_data"
    }
   ],
   "source": [
    "table(genes$gene_biotype)"
   ]
  },
  {
   "cell_type": "code",
   "execution_count": 63,
   "id": "3c284bf7-cc56-40fb-b026-eca52695ba8b",
   "metadata": {},
   "outputs": [],
   "source": [
    "#write.csv(genes,'../../output/brain/genes_brain.csv')"
   ]
  },
  {
   "cell_type": "code",
   "execution_count": 12,
   "id": "4c7b6c7b-bdd8-4f61-a415-c60b46f8ab82",
   "metadata": {},
   "outputs": [
    {
     "data": {
      "text/html": [
       "<style>\n",
       ".list-inline {list-style: none; margin:0; padding: 0}\n",
       ".list-inline>li {display: inline-block}\n",
       ".list-inline>li:not(:last-child)::after {content: \"\\00b7\"; padding: 0 .5ex}\n",
       "</style>\n",
       "<ol class=list-inline><li>62757</li><li>7</li></ol>\n"
      ],
      "text/latex": [
       "\\begin{enumerate*}\n",
       "\\item 62757\n",
       "\\item 7\n",
       "\\end{enumerate*}\n"
      ],
      "text/markdown": [
       "1. 62757\n",
       "2. 7\n",
       "\n",
       "\n"
      ],
      "text/plain": [
       "[1] 62757     7"
      ]
     },
     "metadata": {},
     "output_type": "display_data"
    }
   ],
   "source": [
    "dim(genes)"
   ]
  },
  {
   "cell_type": "markdown",
   "id": "903dc032-8f11-499c-9684-540f6bfaa95e",
   "metadata": {},
   "source": [
    "# load counts"
   ]
  },
  {
   "cell_type": "code",
   "execution_count": 7,
   "id": "0418e639-a149-4ef6-9574-ee81fd177b7e",
   "metadata": {},
   "outputs": [],
   "source": [
    "counts = lapply(samples$id, function(s){\n",
    "read.table(paste0('../../output/NGS-20250519/counts/',s,'.tsv'),row.names = 1)\n",
    "})"
   ]
  },
  {
   "cell_type": "code",
   "execution_count": 8,
   "id": "cd139b2e-2704-43a2-9a49-b05eea8e4a7f",
   "metadata": {},
   "outputs": [
    {
     "data": {
      "text/html": [
       "<style>\n",
       ".list-inline {list-style: none; margin:0; padding: 0}\n",
       ".list-inline>li {display: inline-block}\n",
       ".list-inline>li:not(:last-child)::after {content: \"\\00b7\"; padding: 0 .5ex}\n",
       "</style>\n",
       "<ol class=list-inline><li>'VL11'</li><li>'VL12'</li><li>'VL13'</li><li>'VL14'</li><li>'VL15'</li><li>'VL16'</li><li>'VL17'</li><li>'VL18'</li><li>'VL19'</li><li>'VL20'</li><li>'VL21'</li><li>'VL22'</li><li>'VL23'</li><li>'VL24'</li><li>'VL25'</li><li>'VL26'</li></ol>\n"
      ],
      "text/latex": [
       "\\begin{enumerate*}\n",
       "\\item 'VL11'\n",
       "\\item 'VL12'\n",
       "\\item 'VL13'\n",
       "\\item 'VL14'\n",
       "\\item 'VL15'\n",
       "\\item 'VL16'\n",
       "\\item 'VL17'\n",
       "\\item 'VL18'\n",
       "\\item 'VL19'\n",
       "\\item 'VL20'\n",
       "\\item 'VL21'\n",
       "\\item 'VL22'\n",
       "\\item 'VL23'\n",
       "\\item 'VL24'\n",
       "\\item 'VL25'\n",
       "\\item 'VL26'\n",
       "\\end{enumerate*}\n"
      ],
      "text/markdown": [
       "1. 'VL11'\n",
       "2. 'VL12'\n",
       "3. 'VL13'\n",
       "4. 'VL14'\n",
       "5. 'VL15'\n",
       "6. 'VL16'\n",
       "7. 'VL17'\n",
       "8. 'VL18'\n",
       "9. 'VL19'\n",
       "10. 'VL20'\n",
       "11. 'VL21'\n",
       "12. 'VL22'\n",
       "13. 'VL23'\n",
       "14. 'VL24'\n",
       "15. 'VL25'\n",
       "16. 'VL26'\n",
       "\n",
       "\n"
      ],
      "text/plain": [
       " [1] \"VL11\" \"VL12\" \"VL13\" \"VL14\" \"VL15\" \"VL16\" \"VL17\" \"VL18\" \"VL19\" \"VL20\"\n",
       "[11] \"VL21\" \"VL22\" \"VL23\" \"VL24\" \"VL25\" \"VL26\""
      ]
     },
     "metadata": {},
     "output_type": "display_data"
    }
   ],
   "source": [
    "samples$id"
   ]
  },
  {
   "cell_type": "code",
   "execution_count": 9,
   "id": "2567eaee-a59c-4c38-a3b8-effe1eb12d21",
   "metadata": {},
   "outputs": [
    {
     "data": {
      "text/html": [
       "<style>\n",
       ".list-inline {list-style: none; margin:0; padding: 0}\n",
       ".list-inline>li {display: inline-block}\n",
       ".list-inline>li:not(:last-child)::after {content: \"\\00b7\"; padding: 0 .5ex}\n",
       "</style>\n",
       "<ol class=list-inline><li>TRUE</li><li>TRUE</li><li>TRUE</li><li>TRUE</li><li>TRUE</li><li>TRUE</li><li>TRUE</li><li>TRUE</li><li>TRUE</li><li>TRUE</li><li>TRUE</li><li>TRUE</li><li>TRUE</li><li>TRUE</li><li>TRUE</li><li>TRUE</li></ol>\n"
      ],
      "text/latex": [
       "\\begin{enumerate*}\n",
       "\\item TRUE\n",
       "\\item TRUE\n",
       "\\item TRUE\n",
       "\\item TRUE\n",
       "\\item TRUE\n",
       "\\item TRUE\n",
       "\\item TRUE\n",
       "\\item TRUE\n",
       "\\item TRUE\n",
       "\\item TRUE\n",
       "\\item TRUE\n",
       "\\item TRUE\n",
       "\\item TRUE\n",
       "\\item TRUE\n",
       "\\item TRUE\n",
       "\\item TRUE\n",
       "\\end{enumerate*}\n"
      ],
      "text/markdown": [
       "1. TRUE\n",
       "2. TRUE\n",
       "3. TRUE\n",
       "4. TRUE\n",
       "5. TRUE\n",
       "6. TRUE\n",
       "7. TRUE\n",
       "8. TRUE\n",
       "9. TRUE\n",
       "10. TRUE\n",
       "11. TRUE\n",
       "12. TRUE\n",
       "13. TRUE\n",
       "14. TRUE\n",
       "15. TRUE\n",
       "16. TRUE\n",
       "\n",
       "\n"
      ],
      "text/plain": [
       " [1] TRUE TRUE TRUE TRUE TRUE TRUE TRUE TRUE TRUE TRUE TRUE TRUE TRUE TRUE TRUE\n",
       "[16] TRUE"
      ]
     },
     "metadata": {},
     "output_type": "display_data"
    }
   ],
   "source": [
    "sapply(counts,function(x)all(rownames(x) == rownames(counts[[1]])))"
   ]
  },
  {
   "cell_type": "code",
   "execution_count": 10,
   "id": "5610a640-d473-45f1-8366-855392baa93d",
   "metadata": {},
   "outputs": [
    {
     "data": {
      "text/html": [
       "<table class=\"dataframe\">\n",
       "<caption>A matrix: 4 × 16 of type int</caption>\n",
       "<thead>\n",
       "\t<tr><th></th><th scope=col>VL11</th><th scope=col>VL12</th><th scope=col>VL13</th><th scope=col>VL14</th><th scope=col>VL15</th><th scope=col>VL16</th><th scope=col>VL17</th><th scope=col>VL18</th><th scope=col>VL19</th><th scope=col>VL20</th><th scope=col>VL21</th><th scope=col>VL22</th><th scope=col>VL23</th><th scope=col>VL24</th><th scope=col>VL25</th><th scope=col>VL26</th></tr>\n",
       "</thead>\n",
       "<tbody>\n",
       "\t<tr><th scope=row>ENSG00000000003</th><td> 560</td><td> 849</td><td>1723</td><td>1616</td><td>1757</td><td>1610</td><td>1579</td><td>1559</td><td>1695</td><td>1562</td><td>1479</td><td>1717</td><td>1382</td><td>1802</td><td>1319</td><td>1685</td></tr>\n",
       "\t<tr><th scope=row>ENSG00000000005</th><td>   2</td><td>   5</td><td>   1</td><td>   1</td><td>  15</td><td>   1</td><td>   0</td><td>  13</td><td>   4</td><td>   0</td><td>   5</td><td>   1</td><td>   2</td><td>   0</td><td>   1</td><td>   7</td></tr>\n",
       "\t<tr><th scope=row>ENSG00000000419</th><td>1054</td><td>1236</td><td>1819</td><td>1616</td><td>1923</td><td>1657</td><td>1744</td><td>1498</td><td>1441</td><td>1224</td><td>1059</td><td>1205</td><td>1066</td><td>1432</td><td>1178</td><td>1415</td></tr>\n",
       "\t<tr><th scope=row>ENSG00000000457</th><td> 271</td><td> 241</td><td> 267</td><td> 209</td><td> 262</td><td> 225</td><td> 136</td><td> 176</td><td> 246</td><td> 238</td><td> 434</td><td> 534</td><td> 386</td><td> 466</td><td> 378</td><td> 415</td></tr>\n",
       "</tbody>\n",
       "</table>\n"
      ],
      "text/latex": [
       "A matrix: 4 × 16 of type int\n",
       "\\begin{tabular}{r|llllllllllllllll}\n",
       "  & VL11 & VL12 & VL13 & VL14 & VL15 & VL16 & VL17 & VL18 & VL19 & VL20 & VL21 & VL22 & VL23 & VL24 & VL25 & VL26\\\\\n",
       "\\hline\n",
       "\tENSG00000000003 &  560 &  849 & 1723 & 1616 & 1757 & 1610 & 1579 & 1559 & 1695 & 1562 & 1479 & 1717 & 1382 & 1802 & 1319 & 1685\\\\\n",
       "\tENSG00000000005 &    2 &    5 &    1 &    1 &   15 &    1 &    0 &   13 &    4 &    0 &    5 &    1 &    2 &    0 &    1 &    7\\\\\n",
       "\tENSG00000000419 & 1054 & 1236 & 1819 & 1616 & 1923 & 1657 & 1744 & 1498 & 1441 & 1224 & 1059 & 1205 & 1066 & 1432 & 1178 & 1415\\\\\n",
       "\tENSG00000000457 &  271 &  241 &  267 &  209 &  262 &  225 &  136 &  176 &  246 &  238 &  434 &  534 &  386 &  466 &  378 &  415\\\\\n",
       "\\end{tabular}\n"
      ],
      "text/markdown": [
       "\n",
       "A matrix: 4 × 16 of type int\n",
       "\n",
       "| <!--/--> | VL11 | VL12 | VL13 | VL14 | VL15 | VL16 | VL17 | VL18 | VL19 | VL20 | VL21 | VL22 | VL23 | VL24 | VL25 | VL26 |\n",
       "|---|---|---|---|---|---|---|---|---|---|---|---|---|---|---|---|---|\n",
       "| ENSG00000000003 |  560 |  849 | 1723 | 1616 | 1757 | 1610 | 1579 | 1559 | 1695 | 1562 | 1479 | 1717 | 1382 | 1802 | 1319 | 1685 |\n",
       "| ENSG00000000005 |    2 |    5 |    1 |    1 |   15 |    1 |    0 |   13 |    4 |    0 |    5 |    1 |    2 |    0 |    1 |    7 |\n",
       "| ENSG00000000419 | 1054 | 1236 | 1819 | 1616 | 1923 | 1657 | 1744 | 1498 | 1441 | 1224 | 1059 | 1205 | 1066 | 1432 | 1178 | 1415 |\n",
       "| ENSG00000000457 |  271 |  241 |  267 |  209 |  262 |  225 |  136 |  176 |  246 |  238 |  434 |  534 |  386 |  466 |  378 |  415 |\n",
       "\n"
      ],
      "text/plain": [
       "                VL11 VL12 VL13 VL14 VL15 VL16 VL17 VL18 VL19 VL20 VL21 VL22\n",
       "ENSG00000000003  560  849 1723 1616 1757 1610 1579 1559 1695 1562 1479 1717\n",
       "ENSG00000000005    2    5    1    1   15    1    0   13    4    0    5    1\n",
       "ENSG00000000419 1054 1236 1819 1616 1923 1657 1744 1498 1441 1224 1059 1205\n",
       "ENSG00000000457  271  241  267  209  262  225  136  176  246  238  434  534\n",
       "                VL23 VL24 VL25 VL26\n",
       "ENSG00000000003 1382 1802 1319 1685\n",
       "ENSG00000000005    2    0    1    7\n",
       "ENSG00000000419 1066 1432 1178 1415\n",
       "ENSG00000000457  386  466  378  415"
      ]
     },
     "metadata": {},
     "output_type": "display_data"
    }
   ],
   "source": [
    "counts = do.call(cbind,counts) # cbind(counts[[1]],counts[[2]],...)\n",
    "colnames(counts) = samples$id\n",
    "#rownames(counts)[rownames(counts)=='VA1_genome'] = 'VA1'\n",
    "counts = as.matrix(counts)\n",
    "counts[1:4,]"
   ]
  },
  {
   "cell_type": "code",
   "execution_count": 11,
   "id": "878ac63e-886c-48c4-8030-d3891409fd0a",
   "metadata": {},
   "outputs": [],
   "source": [
    "mapping_qc = counts[!(rownames(counts) %in% genes$gene_id),]\n",
    "counts = counts[genes$gene_id,]"
   ]
  },
  {
   "cell_type": "code",
   "execution_count": 12,
   "id": "2e170846-e4ed-429d-a66c-1db27b926524",
   "metadata": {
    "scrolled": true
   },
   "outputs": [
    {
     "data": {
      "text/html": [
       "<table class=\"dataframe\">\n",
       "<caption>A matrix: 45 × 16 of type dbl</caption>\n",
       "<thead>\n",
       "\t<tr><th></th><th scope=col>VL11</th><th scope=col>VL12</th><th scope=col>VL13</th><th scope=col>VL14</th><th scope=col>VL15</th><th scope=col>VL16</th><th scope=col>VL17</th><th scope=col>VL18</th><th scope=col>VL19</th><th scope=col>VL20</th><th scope=col>VL21</th><th scope=col>VL22</th><th scope=col>VL23</th><th scope=col>VL24</th><th scope=col>VL25</th><th scope=col>VL26</th></tr>\n",
       "</thead>\n",
       "<tbody>\n",
       "\t<tr><th scope=row>__no_feature</th><td> 1488290</td><td> 2077099</td><td> 2082837</td><td> 2192357</td><td> 2396538</td><td> 2314953</td><td> 2025956</td><td> 2369321</td><td> 2868856</td><td> 1332234</td><td> 1910484</td><td> 2246858</td><td> 2089148</td><td> 1952115</td><td> 1620286</td><td> 1958495</td></tr>\n",
       "\t<tr><th scope=row>__ambiguous</th><td>  858597</td><td>  954311</td><td> 1282087</td><td> 1168645</td><td> 1394236</td><td> 1322796</td><td> 1388516</td><td> 1171986</td><td> 1288431</td><td> 1056418</td><td>  952635</td><td>  981439</td><td>  828027</td><td> 1051623</td><td>  821323</td><td>  961791</td></tr>\n",
       "\t<tr><th scope=row>__too_low_aQual</th><td>       0</td><td>       0</td><td>       0</td><td>       0</td><td>       0</td><td>       0</td><td>       0</td><td>       0</td><td>       0</td><td>       0</td><td>       0</td><td>       0</td><td>       0</td><td>       0</td><td>       0</td><td>       0</td></tr>\n",
       "\t<tr><th scope=row>__not_aligned</th><td>       0</td><td>       0</td><td>       0</td><td>       0</td><td>       0</td><td>       0</td><td>       0</td><td>       0</td><td>       0</td><td>       0</td><td>       0</td><td>       0</td><td>       0</td><td>       0</td><td>       0</td><td>       0</td></tr>\n",
       "\t<tr><th scope=row>__alignment_not_unique</th><td>  677600</td><td>  800889</td><td> 1106959</td><td> 1011072</td><td> 1242636</td><td> 1130332</td><td> 1276677</td><td>  943415</td><td> 1120986</td><td>  862502</td><td>  978590</td><td> 1051067</td><td>  870455</td><td> 1131345</td><td>  879753</td><td> 1463900</td></tr>\n",
       "\t<tr><th scope=row>artifact</th><td>     346</td><td>     312</td><td>     345</td><td>     319</td><td>     466</td><td>     320</td><td>     223</td><td>     239</td><td>     288</td><td>     316</td><td>     927</td><td>    1061</td><td>     809</td><td>     999</td><td>     720</td><td>     934</td></tr>\n",
       "\t<tr><th scope=row>IG_C_gene</th><td>       0</td><td>       0</td><td>       2</td><td>       0</td><td>       0</td><td>       0</td><td>       2</td><td>       2</td><td>       0</td><td>       0</td><td>       0</td><td>       0</td><td>       0</td><td>       0</td><td>       0</td><td>       0</td></tr>\n",
       "\t<tr><th scope=row>IG_C_pseudogene</th><td>       3</td><td>       0</td><td>       0</td><td>       3</td><td>      12</td><td>       1</td><td>       1</td><td>       9</td><td>       1</td><td>       1</td><td>       0</td><td>      10</td><td>       0</td><td>       0</td><td>       0</td><td>       0</td></tr>\n",
       "\t<tr><th scope=row>IG_D_gene</th><td>       0</td><td>       0</td><td>       0</td><td>       0</td><td>       0</td><td>       0</td><td>       0</td><td>       0</td><td>       0</td><td>       0</td><td>       0</td><td>       0</td><td>       0</td><td>       0</td><td>       0</td><td>       0</td></tr>\n",
       "\t<tr><th scope=row>IG_J_gene</th><td>       0</td><td>       0</td><td>       0</td><td>       0</td><td>       0</td><td>       0</td><td>       0</td><td>       0</td><td>       0</td><td>       0</td><td>       0</td><td>       0</td><td>       0</td><td>       0</td><td>       0</td><td>       0</td></tr>\n",
       "\t<tr><th scope=row>IG_J_pseudogene</th><td>       0</td><td>       0</td><td>       0</td><td>       0</td><td>       0</td><td>       0</td><td>       0</td><td>       0</td><td>       0</td><td>       0</td><td>       0</td><td>       0</td><td>       0</td><td>       0</td><td>       0</td><td>       0</td></tr>\n",
       "\t<tr><th scope=row>IG_pseudogene</th><td>       0</td><td>       0</td><td>       0</td><td>       0</td><td>       0</td><td>       0</td><td>       0</td><td>       0</td><td>       0</td><td>       0</td><td>       0</td><td>       0</td><td>       0</td><td>       0</td><td>       0</td><td>       0</td></tr>\n",
       "\t<tr><th scope=row>IG_V_gene</th><td>       0</td><td>       0</td><td>       2</td><td>       2</td><td>       6</td><td>       4</td><td>       0</td><td>       0</td><td>       4</td><td>       1</td><td>      11</td><td>       9</td><td>       5</td><td>       9</td><td>       0</td><td>      13</td></tr>\n",
       "\t<tr><th scope=row>IG_V_pseudogene</th><td>       1</td><td>       5</td><td>       6</td><td>       3</td><td>       1</td><td>       4</td><td>       3</td><td>       1</td><td>       1</td><td>       2</td><td>      13</td><td>      26</td><td>      16</td><td>      22</td><td>       9</td><td>       7</td></tr>\n",
       "\t<tr><th scope=row>lncRNA</th><td>  352217</td><td>  408257</td><td>  478953</td><td>  455985</td><td>  549737</td><td>  523953</td><td>  424819</td><td>  466800</td><td>  503954</td><td>  404113</td><td>  240405</td><td>  265371</td><td>  225419</td><td>  246530</td><td>  189336</td><td>  228688</td></tr>\n",
       "\t<tr><th scope=row>miRNA</th><td>     488</td><td>     619</td><td>     694</td><td>     720</td><td>     851</td><td>     659</td><td>     705</td><td>     678</td><td>     839</td><td>     531</td><td>     699</td><td>     697</td><td>     703</td><td>     617</td><td>     424</td><td>     532</td></tr>\n",
       "\t<tr><th scope=row>misc_RNA</th><td>     906</td><td>    1129</td><td>    1230</td><td>    1413</td><td>    1453</td><td>    1459</td><td>    1151</td><td>    1295</td><td>    1668</td><td>     770</td><td>    1721</td><td>    1742</td><td>    1538</td><td>    1702</td><td>    1266</td><td>    1540</td></tr>\n",
       "\t<tr><th scope=row>Mt_rRNA</th><td>  119787</td><td>  187051</td><td>  229698</td><td>  233139</td><td>  360835</td><td>  289860</td><td>  328203</td><td>  291975</td><td>  249580</td><td>  222772</td><td>  793893</td><td>  792682</td><td>  827088</td><td>  982263</td><td>  952490</td><td> 1092349</td></tr>\n",
       "\t<tr><th scope=row>Mt_tRNA</th><td>     363</td><td>     543</td><td>     596</td><td>     622</td><td>    1074</td><td>     794</td><td>     729</td><td>     693</td><td>     699</td><td>     579</td><td>    3480</td><td>    3571</td><td>    3706</td><td>    4170</td><td>    3989</td><td>    4268</td></tr>\n",
       "\t<tr><th scope=row>processed_pseudogene</th><td>   25370</td><td>   35501</td><td>   48580</td><td>   51030</td><td>   62715</td><td>   64066</td><td>   73435</td><td>   54264</td><td>   54113</td><td>   44660</td><td>   22931</td><td>   23328</td><td>   24539</td><td>   29248</td><td>   23565</td><td>   33472</td></tr>\n",
       "\t<tr><th scope=row>protein_coding</th><td>16789591</td><td>18522508</td><td>24685854</td><td>22010835</td><td>25923367</td><td>25054249</td><td>26675408</td><td>22503222</td><td>25163417</td><td>21012505</td><td>23145240</td><td>24293860</td><td>20706763</td><td>24956359</td><td>20236511</td><td>23297438</td></tr>\n",
       "\t<tr><th scope=row>pseudogene</th><td>      39</td><td>      53</td><td>      38</td><td>      48</td><td>      53</td><td>      61</td><td>      47</td><td>      43</td><td>      44</td><td>      57</td><td>       7</td><td>      20</td><td>      22</td><td>      21</td><td>      35</td><td>      14</td></tr>\n",
       "\t<tr><th scope=row>ribozyme</th><td>       8</td><td>       7</td><td>      17</td><td>      12</td><td>       5</td><td>      23</td><td>       4</td><td>       6</td><td>       8</td><td>       2</td><td>      10</td><td>      11</td><td>       5</td><td>       9</td><td>       2</td><td>      15</td></tr>\n",
       "\t<tr><th scope=row>rRNA</th><td>       5</td><td>       1</td><td>      10</td><td>       1</td><td>       2</td><td>       0</td><td>       0</td><td>       1</td><td>       0</td><td>       2</td><td>       0</td><td>       2</td><td>       9</td><td>       4</td><td>       2</td><td>       8</td></tr>\n",
       "\t<tr><th scope=row>rRNA_pseudogene</th><td>     112</td><td>     188</td><td>     159</td><td>     201</td><td>     150</td><td>     128</td><td>     166</td><td>     155</td><td>     206</td><td>     130</td><td>      58</td><td>      64</td><td>      90</td><td>      48</td><td>      49</td><td>      58</td></tr>\n",
       "\t<tr><th scope=row>scaRNA</th><td>      12</td><td>      17</td><td>      17</td><td>      22</td><td>      18</td><td>      16</td><td>      29</td><td>      19</td><td>      31</td><td>       7</td><td>       8</td><td>      15</td><td>      20</td><td>      15</td><td>      18</td><td>      18</td></tr>\n",
       "\t<tr><th scope=row>scRNA</th><td>       0</td><td>       0</td><td>       3</td><td>       6</td><td>       7</td><td>      10</td><td>      21</td><td>       6</td><td>       3</td><td>       5</td><td>       0</td><td>       3</td><td>       4</td><td>       2</td><td>       1</td><td>       0</td></tr>\n",
       "\t<tr><th scope=row>snoRNA</th><td>     231</td><td>     429</td><td>     530</td><td>     490</td><td>     625</td><td>     539</td><td>     492</td><td>     636</td><td>     622</td><td>     286</td><td>     369</td><td>     491</td><td>     376</td><td>     407</td><td>     323</td><td>     381</td></tr>\n",
       "\t<tr><th scope=row>snRNA</th><td>     477</td><td>     758</td><td>     661</td><td>     824</td><td>     854</td><td>     834</td><td>     727</td><td>     808</td><td>    1048</td><td>     427</td><td>     330</td><td>     454</td><td>     422</td><td>     302</td><td>     265</td><td>     317</td></tr>\n",
       "\t<tr><th scope=row>sRNA</th><td>       0</td><td>       0</td><td>       0</td><td>       0</td><td>       0</td><td>       0</td><td>       0</td><td>       0</td><td>       0</td><td>       0</td><td>       0</td><td>       0</td><td>       0</td><td>       0</td><td>       0</td><td>       0</td></tr>\n",
       "\t<tr><th scope=row>TEC</th><td>    9921</td><td>   11135</td><td>   12810</td><td>   12367</td><td>   13809</td><td>   13418</td><td>   11666</td><td>   12352</td><td>   14744</td><td>    9774</td><td>    4727</td><td>    5352</td><td>    4557</td><td>    4596</td><td>    3362</td><td>    4203</td></tr>\n",
       "\t<tr><th scope=row>TR_C_gene</th><td>      11</td><td>       4</td><td>       4</td><td>       2</td><td>      14</td><td>       2</td><td>       1</td><td>       0</td><td>      14</td><td>       2</td><td>       2</td><td>       4</td><td>       8</td><td>       0</td><td>       1</td><td>       1</td></tr>\n",
       "\t<tr><th scope=row>TR_D_gene</th><td>       0</td><td>       0</td><td>       0</td><td>       0</td><td>       0</td><td>       0</td><td>       0</td><td>       0</td><td>       0</td><td>       0</td><td>       0</td><td>       0</td><td>       0</td><td>       0</td><td>       0</td><td>       0</td></tr>\n",
       "\t<tr><th scope=row>TR_J_gene</th><td>       2</td><td>       6</td><td>       0</td><td>       0</td><td>       0</td><td>       0</td><td>       2</td><td>       0</td><td>       1</td><td>       0</td><td>       0</td><td>       0</td><td>       0</td><td>       0</td><td>       0</td><td>       0</td></tr>\n",
       "\t<tr><th scope=row>TR_J_pseudogene</th><td>       0</td><td>       0</td><td>       0</td><td>       0</td><td>       0</td><td>       0</td><td>       0</td><td>       0</td><td>       0</td><td>       0</td><td>       0</td><td>       0</td><td>       0</td><td>       0</td><td>       0</td><td>       0</td></tr>\n",
       "\t<tr><th scope=row>TR_V_gene</th><td>       9</td><td>       4</td><td>       8</td><td>       7</td><td>      11</td><td>       2</td><td>       6</td><td>       2</td><td>       0</td><td>       5</td><td>       0</td><td>       0</td><td>       0</td><td>       7</td><td>       0</td><td>       0</td></tr>\n",
       "\t<tr><th scope=row>TR_V_pseudogene</th><td>      48</td><td>      14</td><td>      26</td><td>      15</td><td>      16</td><td>      33</td><td>      30</td><td>      22</td><td>      16</td><td>      22</td><td>       6</td><td>       5</td><td>       3</td><td>       3</td><td>       4</td><td>       4</td></tr>\n",
       "\t<tr><th scope=row>transcribed_processed_pseudogene</th><td>    9295</td><td>   10166</td><td>   13445</td><td>   12212</td><td>   16262</td><td>   14485</td><td>   15427</td><td>   12283</td><td>   14406</td><td>   12728</td><td>    6687</td><td>    7212</td><td>    6183</td><td>    7238</td><td>    5698</td><td>    7325</td></tr>\n",
       "\t<tr><th scope=row>transcribed_unitary_pseudogene</th><td>    7996</td><td>    6939</td><td>    9938</td><td>    8115</td><td>    9021</td><td>    8379</td><td>    6863</td><td>    6951</td><td>    9963</td><td>    8477</td><td>    8088</td><td>    8972</td><td>    7206</td><td>    8187</td><td>    6153</td><td>    6967</td></tr>\n",
       "\t<tr><th scope=row>transcribed_unprocessed_pseudogene</th><td>    3938</td><td>    3652</td><td>    3900</td><td>    3647</td><td>    3515</td><td>    3508</td><td>    3115</td><td>    3392</td><td>    3925</td><td>    2736</td><td>    1778</td><td>    2063</td><td>    1708</td><td>    1815</td><td>    1331</td><td>    1615</td></tr>\n",
       "\t<tr><th scope=row>translated_processed_pseudogene</th><td>       8</td><td>       5</td><td>      30</td><td>      21</td><td>      18</td><td>      17</td><td>      12</td><td>       6</td><td>       7</td><td>       9</td><td>      16</td><td>      11</td><td>      12</td><td>      21</td><td>      20</td><td>      30</td></tr>\n",
       "\t<tr><th scope=row>unitary_pseudogene</th><td>     292</td><td>     196</td><td>     220</td><td>     210</td><td>     200</td><td>     191</td><td>     195</td><td>     188</td><td>     202</td><td>     162</td><td>      45</td><td>      51</td><td>      35</td><td>      36</td><td>      19</td><td>      41</td></tr>\n",
       "\t<tr><th scope=row>unprocessed_pseudogene</th><td>    8051</td><td>    8557</td><td>   10059</td><td>    9239</td><td>   11584</td><td>   10046</td><td>    8542</td><td>    9136</td><td>    9985</td><td>    8058</td><td>   29985</td><td>   32263</td><td>   34802</td><td>   43214</td><td>   36888</td><td>   45210</td></tr>\n",
       "\t<tr><th scope=row>vault_RNA</th><td>       1</td><td>       0</td><td>       0</td><td>       0</td><td>       0</td><td>       0</td><td>       0</td><td>       0</td><td>       0</td><td>       1</td><td>       0</td><td>       0</td><td>       0</td><td>       0</td><td>       0</td><td>       0</td></tr>\n",
       "\t<tr><th scope=row>viral</th><td> 7759682</td><td> 4351901</td><td>  981036</td><td>  716999</td><td>      24</td><td>      32</td><td>       0</td><td>       0</td><td>       2</td><td>       0</td><td>       0</td><td>       0</td><td>       0</td><td>  360646</td><td>  350751</td><td>  404083</td></tr>\n",
       "</tbody>\n",
       "</table>\n"
      ],
      "text/latex": [
       "A matrix: 45 × 16 of type dbl\n",
       "\\begin{tabular}{r|llllllllllllllll}\n",
       "  & VL11 & VL12 & VL13 & VL14 & VL15 & VL16 & VL17 & VL18 & VL19 & VL20 & VL21 & VL22 & VL23 & VL24 & VL25 & VL26\\\\\n",
       "\\hline\n",
       "\t\\_\\_no\\_feature &  1488290 &  2077099 &  2082837 &  2192357 &  2396538 &  2314953 &  2025956 &  2369321 &  2868856 &  1332234 &  1910484 &  2246858 &  2089148 &  1952115 &  1620286 &  1958495\\\\\n",
       "\t\\_\\_ambiguous &   858597 &   954311 &  1282087 &  1168645 &  1394236 &  1322796 &  1388516 &  1171986 &  1288431 &  1056418 &   952635 &   981439 &   828027 &  1051623 &   821323 &   961791\\\\\n",
       "\t\\_\\_too\\_low\\_aQual &        0 &        0 &        0 &        0 &        0 &        0 &        0 &        0 &        0 &        0 &        0 &        0 &        0 &        0 &        0 &        0\\\\\n",
       "\t\\_\\_not\\_aligned &        0 &        0 &        0 &        0 &        0 &        0 &        0 &        0 &        0 &        0 &        0 &        0 &        0 &        0 &        0 &        0\\\\\n",
       "\t\\_\\_alignment\\_not\\_unique &   677600 &   800889 &  1106959 &  1011072 &  1242636 &  1130332 &  1276677 &   943415 &  1120986 &   862502 &   978590 &  1051067 &   870455 &  1131345 &   879753 &  1463900\\\\\n",
       "\tartifact &      346 &      312 &      345 &      319 &      466 &      320 &      223 &      239 &      288 &      316 &      927 &     1061 &      809 &      999 &      720 &      934\\\\\n",
       "\tIG\\_C\\_gene &        0 &        0 &        2 &        0 &        0 &        0 &        2 &        2 &        0 &        0 &        0 &        0 &        0 &        0 &        0 &        0\\\\\n",
       "\tIG\\_C\\_pseudogene &        3 &        0 &        0 &        3 &       12 &        1 &        1 &        9 &        1 &        1 &        0 &       10 &        0 &        0 &        0 &        0\\\\\n",
       "\tIG\\_D\\_gene &        0 &        0 &        0 &        0 &        0 &        0 &        0 &        0 &        0 &        0 &        0 &        0 &        0 &        0 &        0 &        0\\\\\n",
       "\tIG\\_J\\_gene &        0 &        0 &        0 &        0 &        0 &        0 &        0 &        0 &        0 &        0 &        0 &        0 &        0 &        0 &        0 &        0\\\\\n",
       "\tIG\\_J\\_pseudogene &        0 &        0 &        0 &        0 &        0 &        0 &        0 &        0 &        0 &        0 &        0 &        0 &        0 &        0 &        0 &        0\\\\\n",
       "\tIG\\_pseudogene &        0 &        0 &        0 &        0 &        0 &        0 &        0 &        0 &        0 &        0 &        0 &        0 &        0 &        0 &        0 &        0\\\\\n",
       "\tIG\\_V\\_gene &        0 &        0 &        2 &        2 &        6 &        4 &        0 &        0 &        4 &        1 &       11 &        9 &        5 &        9 &        0 &       13\\\\\n",
       "\tIG\\_V\\_pseudogene &        1 &        5 &        6 &        3 &        1 &        4 &        3 &        1 &        1 &        2 &       13 &       26 &       16 &       22 &        9 &        7\\\\\n",
       "\tlncRNA &   352217 &   408257 &   478953 &   455985 &   549737 &   523953 &   424819 &   466800 &   503954 &   404113 &   240405 &   265371 &   225419 &   246530 &   189336 &   228688\\\\\n",
       "\tmiRNA &      488 &      619 &      694 &      720 &      851 &      659 &      705 &      678 &      839 &      531 &      699 &      697 &      703 &      617 &      424 &      532\\\\\n",
       "\tmisc\\_RNA &      906 &     1129 &     1230 &     1413 &     1453 &     1459 &     1151 &     1295 &     1668 &      770 &     1721 &     1742 &     1538 &     1702 &     1266 &     1540\\\\\n",
       "\tMt\\_rRNA &   119787 &   187051 &   229698 &   233139 &   360835 &   289860 &   328203 &   291975 &   249580 &   222772 &   793893 &   792682 &   827088 &   982263 &   952490 &  1092349\\\\\n",
       "\tMt\\_tRNA &      363 &      543 &      596 &      622 &     1074 &      794 &      729 &      693 &      699 &      579 &     3480 &     3571 &     3706 &     4170 &     3989 &     4268\\\\\n",
       "\tprocessed\\_pseudogene &    25370 &    35501 &    48580 &    51030 &    62715 &    64066 &    73435 &    54264 &    54113 &    44660 &    22931 &    23328 &    24539 &    29248 &    23565 &    33472\\\\\n",
       "\tprotein\\_coding & 16789591 & 18522508 & 24685854 & 22010835 & 25923367 & 25054249 & 26675408 & 22503222 & 25163417 & 21012505 & 23145240 & 24293860 & 20706763 & 24956359 & 20236511 & 23297438\\\\\n",
       "\tpseudogene &       39 &       53 &       38 &       48 &       53 &       61 &       47 &       43 &       44 &       57 &        7 &       20 &       22 &       21 &       35 &       14\\\\\n",
       "\tribozyme &        8 &        7 &       17 &       12 &        5 &       23 &        4 &        6 &        8 &        2 &       10 &       11 &        5 &        9 &        2 &       15\\\\\n",
       "\trRNA &        5 &        1 &       10 &        1 &        2 &        0 &        0 &        1 &        0 &        2 &        0 &        2 &        9 &        4 &        2 &        8\\\\\n",
       "\trRNA\\_pseudogene &      112 &      188 &      159 &      201 &      150 &      128 &      166 &      155 &      206 &      130 &       58 &       64 &       90 &       48 &       49 &       58\\\\\n",
       "\tscaRNA &       12 &       17 &       17 &       22 &       18 &       16 &       29 &       19 &       31 &        7 &        8 &       15 &       20 &       15 &       18 &       18\\\\\n",
       "\tscRNA &        0 &        0 &        3 &        6 &        7 &       10 &       21 &        6 &        3 &        5 &        0 &        3 &        4 &        2 &        1 &        0\\\\\n",
       "\tsnoRNA &      231 &      429 &      530 &      490 &      625 &      539 &      492 &      636 &      622 &      286 &      369 &      491 &      376 &      407 &      323 &      381\\\\\n",
       "\tsnRNA &      477 &      758 &      661 &      824 &      854 &      834 &      727 &      808 &     1048 &      427 &      330 &      454 &      422 &      302 &      265 &      317\\\\\n",
       "\tsRNA &        0 &        0 &        0 &        0 &        0 &        0 &        0 &        0 &        0 &        0 &        0 &        0 &        0 &        0 &        0 &        0\\\\\n",
       "\tTEC &     9921 &    11135 &    12810 &    12367 &    13809 &    13418 &    11666 &    12352 &    14744 &     9774 &     4727 &     5352 &     4557 &     4596 &     3362 &     4203\\\\\n",
       "\tTR\\_C\\_gene &       11 &        4 &        4 &        2 &       14 &        2 &        1 &        0 &       14 &        2 &        2 &        4 &        8 &        0 &        1 &        1\\\\\n",
       "\tTR\\_D\\_gene &        0 &        0 &        0 &        0 &        0 &        0 &        0 &        0 &        0 &        0 &        0 &        0 &        0 &        0 &        0 &        0\\\\\n",
       "\tTR\\_J\\_gene &        2 &        6 &        0 &        0 &        0 &        0 &        2 &        0 &        1 &        0 &        0 &        0 &        0 &        0 &        0 &        0\\\\\n",
       "\tTR\\_J\\_pseudogene &        0 &        0 &        0 &        0 &        0 &        0 &        0 &        0 &        0 &        0 &        0 &        0 &        0 &        0 &        0 &        0\\\\\n",
       "\tTR\\_V\\_gene &        9 &        4 &        8 &        7 &       11 &        2 &        6 &        2 &        0 &        5 &        0 &        0 &        0 &        7 &        0 &        0\\\\\n",
       "\tTR\\_V\\_pseudogene &       48 &       14 &       26 &       15 &       16 &       33 &       30 &       22 &       16 &       22 &        6 &        5 &        3 &        3 &        4 &        4\\\\\n",
       "\ttranscribed\\_processed\\_pseudogene &     9295 &    10166 &    13445 &    12212 &    16262 &    14485 &    15427 &    12283 &    14406 &    12728 &     6687 &     7212 &     6183 &     7238 &     5698 &     7325\\\\\n",
       "\ttranscribed\\_unitary\\_pseudogene &     7996 &     6939 &     9938 &     8115 &     9021 &     8379 &     6863 &     6951 &     9963 &     8477 &     8088 &     8972 &     7206 &     8187 &     6153 &     6967\\\\\n",
       "\ttranscribed\\_unprocessed\\_pseudogene &     3938 &     3652 &     3900 &     3647 &     3515 &     3508 &     3115 &     3392 &     3925 &     2736 &     1778 &     2063 &     1708 &     1815 &     1331 &     1615\\\\\n",
       "\ttranslated\\_processed\\_pseudogene &        8 &        5 &       30 &       21 &       18 &       17 &       12 &        6 &        7 &        9 &       16 &       11 &       12 &       21 &       20 &       30\\\\\n",
       "\tunitary\\_pseudogene &      292 &      196 &      220 &      210 &      200 &      191 &      195 &      188 &      202 &      162 &       45 &       51 &       35 &       36 &       19 &       41\\\\\n",
       "\tunprocessed\\_pseudogene &     8051 &     8557 &    10059 &     9239 &    11584 &    10046 &     8542 &     9136 &     9985 &     8058 &    29985 &    32263 &    34802 &    43214 &    36888 &    45210\\\\\n",
       "\tvault\\_RNA &        1 &        0 &        0 &        0 &        0 &        0 &        0 &        0 &        0 &        1 &        0 &        0 &        0 &        0 &        0 &        0\\\\\n",
       "\tviral &  7759682 &  4351901 &   981036 &   716999 &       24 &       32 &        0 &        0 &        2 &        0 &        0 &        0 &        0 &   360646 &   350751 &   404083\\\\\n",
       "\\end{tabular}\n"
      ],
      "text/markdown": [
       "\n",
       "A matrix: 45 × 16 of type dbl\n",
       "\n",
       "| <!--/--> | VL11 | VL12 | VL13 | VL14 | VL15 | VL16 | VL17 | VL18 | VL19 | VL20 | VL21 | VL22 | VL23 | VL24 | VL25 | VL26 |\n",
       "|---|---|---|---|---|---|---|---|---|---|---|---|---|---|---|---|---|\n",
       "| __no_feature |  1488290 |  2077099 |  2082837 |  2192357 |  2396538 |  2314953 |  2025956 |  2369321 |  2868856 |  1332234 |  1910484 |  2246858 |  2089148 |  1952115 |  1620286 |  1958495 |\n",
       "| __ambiguous |   858597 |   954311 |  1282087 |  1168645 |  1394236 |  1322796 |  1388516 |  1171986 |  1288431 |  1056418 |   952635 |   981439 |   828027 |  1051623 |   821323 |   961791 |\n",
       "| __too_low_aQual |        0 |        0 |        0 |        0 |        0 |        0 |        0 |        0 |        0 |        0 |        0 |        0 |        0 |        0 |        0 |        0 |\n",
       "| __not_aligned |        0 |        0 |        0 |        0 |        0 |        0 |        0 |        0 |        0 |        0 |        0 |        0 |        0 |        0 |        0 |        0 |\n",
       "| __alignment_not_unique |   677600 |   800889 |  1106959 |  1011072 |  1242636 |  1130332 |  1276677 |   943415 |  1120986 |   862502 |   978590 |  1051067 |   870455 |  1131345 |   879753 |  1463900 |\n",
       "| artifact |      346 |      312 |      345 |      319 |      466 |      320 |      223 |      239 |      288 |      316 |      927 |     1061 |      809 |      999 |      720 |      934 |\n",
       "| IG_C_gene |        0 |        0 |        2 |        0 |        0 |        0 |        2 |        2 |        0 |        0 |        0 |        0 |        0 |        0 |        0 |        0 |\n",
       "| IG_C_pseudogene |        3 |        0 |        0 |        3 |       12 |        1 |        1 |        9 |        1 |        1 |        0 |       10 |        0 |        0 |        0 |        0 |\n",
       "| IG_D_gene |        0 |        0 |        0 |        0 |        0 |        0 |        0 |        0 |        0 |        0 |        0 |        0 |        0 |        0 |        0 |        0 |\n",
       "| IG_J_gene |        0 |        0 |        0 |        0 |        0 |        0 |        0 |        0 |        0 |        0 |        0 |        0 |        0 |        0 |        0 |        0 |\n",
       "| IG_J_pseudogene |        0 |        0 |        0 |        0 |        0 |        0 |        0 |        0 |        0 |        0 |        0 |        0 |        0 |        0 |        0 |        0 |\n",
       "| IG_pseudogene |        0 |        0 |        0 |        0 |        0 |        0 |        0 |        0 |        0 |        0 |        0 |        0 |        0 |        0 |        0 |        0 |\n",
       "| IG_V_gene |        0 |        0 |        2 |        2 |        6 |        4 |        0 |        0 |        4 |        1 |       11 |        9 |        5 |        9 |        0 |       13 |\n",
       "| IG_V_pseudogene |        1 |        5 |        6 |        3 |        1 |        4 |        3 |        1 |        1 |        2 |       13 |       26 |       16 |       22 |        9 |        7 |\n",
       "| lncRNA |   352217 |   408257 |   478953 |   455985 |   549737 |   523953 |   424819 |   466800 |   503954 |   404113 |   240405 |   265371 |   225419 |   246530 |   189336 |   228688 |\n",
       "| miRNA |      488 |      619 |      694 |      720 |      851 |      659 |      705 |      678 |      839 |      531 |      699 |      697 |      703 |      617 |      424 |      532 |\n",
       "| misc_RNA |      906 |     1129 |     1230 |     1413 |     1453 |     1459 |     1151 |     1295 |     1668 |      770 |     1721 |     1742 |     1538 |     1702 |     1266 |     1540 |\n",
       "| Mt_rRNA |   119787 |   187051 |   229698 |   233139 |   360835 |   289860 |   328203 |   291975 |   249580 |   222772 |   793893 |   792682 |   827088 |   982263 |   952490 |  1092349 |\n",
       "| Mt_tRNA |      363 |      543 |      596 |      622 |     1074 |      794 |      729 |      693 |      699 |      579 |     3480 |     3571 |     3706 |     4170 |     3989 |     4268 |\n",
       "| processed_pseudogene |    25370 |    35501 |    48580 |    51030 |    62715 |    64066 |    73435 |    54264 |    54113 |    44660 |    22931 |    23328 |    24539 |    29248 |    23565 |    33472 |\n",
       "| protein_coding | 16789591 | 18522508 | 24685854 | 22010835 | 25923367 | 25054249 | 26675408 | 22503222 | 25163417 | 21012505 | 23145240 | 24293860 | 20706763 | 24956359 | 20236511 | 23297438 |\n",
       "| pseudogene |       39 |       53 |       38 |       48 |       53 |       61 |       47 |       43 |       44 |       57 |        7 |       20 |       22 |       21 |       35 |       14 |\n",
       "| ribozyme |        8 |        7 |       17 |       12 |        5 |       23 |        4 |        6 |        8 |        2 |       10 |       11 |        5 |        9 |        2 |       15 |\n",
       "| rRNA |        5 |        1 |       10 |        1 |        2 |        0 |        0 |        1 |        0 |        2 |        0 |        2 |        9 |        4 |        2 |        8 |\n",
       "| rRNA_pseudogene |      112 |      188 |      159 |      201 |      150 |      128 |      166 |      155 |      206 |      130 |       58 |       64 |       90 |       48 |       49 |       58 |\n",
       "| scaRNA |       12 |       17 |       17 |       22 |       18 |       16 |       29 |       19 |       31 |        7 |        8 |       15 |       20 |       15 |       18 |       18 |\n",
       "| scRNA |        0 |        0 |        3 |        6 |        7 |       10 |       21 |        6 |        3 |        5 |        0 |        3 |        4 |        2 |        1 |        0 |\n",
       "| snoRNA |      231 |      429 |      530 |      490 |      625 |      539 |      492 |      636 |      622 |      286 |      369 |      491 |      376 |      407 |      323 |      381 |\n",
       "| snRNA |      477 |      758 |      661 |      824 |      854 |      834 |      727 |      808 |     1048 |      427 |      330 |      454 |      422 |      302 |      265 |      317 |\n",
       "| sRNA |        0 |        0 |        0 |        0 |        0 |        0 |        0 |        0 |        0 |        0 |        0 |        0 |        0 |        0 |        0 |        0 |\n",
       "| TEC |     9921 |    11135 |    12810 |    12367 |    13809 |    13418 |    11666 |    12352 |    14744 |     9774 |     4727 |     5352 |     4557 |     4596 |     3362 |     4203 |\n",
       "| TR_C_gene |       11 |        4 |        4 |        2 |       14 |        2 |        1 |        0 |       14 |        2 |        2 |        4 |        8 |        0 |        1 |        1 |\n",
       "| TR_D_gene |        0 |        0 |        0 |        0 |        0 |        0 |        0 |        0 |        0 |        0 |        0 |        0 |        0 |        0 |        0 |        0 |\n",
       "| TR_J_gene |        2 |        6 |        0 |        0 |        0 |        0 |        2 |        0 |        1 |        0 |        0 |        0 |        0 |        0 |        0 |        0 |\n",
       "| TR_J_pseudogene |        0 |        0 |        0 |        0 |        0 |        0 |        0 |        0 |        0 |        0 |        0 |        0 |        0 |        0 |        0 |        0 |\n",
       "| TR_V_gene |        9 |        4 |        8 |        7 |       11 |        2 |        6 |        2 |        0 |        5 |        0 |        0 |        0 |        7 |        0 |        0 |\n",
       "| TR_V_pseudogene |       48 |       14 |       26 |       15 |       16 |       33 |       30 |       22 |       16 |       22 |        6 |        5 |        3 |        3 |        4 |        4 |\n",
       "| transcribed_processed_pseudogene |     9295 |    10166 |    13445 |    12212 |    16262 |    14485 |    15427 |    12283 |    14406 |    12728 |     6687 |     7212 |     6183 |     7238 |     5698 |     7325 |\n",
       "| transcribed_unitary_pseudogene |     7996 |     6939 |     9938 |     8115 |     9021 |     8379 |     6863 |     6951 |     9963 |     8477 |     8088 |     8972 |     7206 |     8187 |     6153 |     6967 |\n",
       "| transcribed_unprocessed_pseudogene |     3938 |     3652 |     3900 |     3647 |     3515 |     3508 |     3115 |     3392 |     3925 |     2736 |     1778 |     2063 |     1708 |     1815 |     1331 |     1615 |\n",
       "| translated_processed_pseudogene |        8 |        5 |       30 |       21 |       18 |       17 |       12 |        6 |        7 |        9 |       16 |       11 |       12 |       21 |       20 |       30 |\n",
       "| unitary_pseudogene |      292 |      196 |      220 |      210 |      200 |      191 |      195 |      188 |      202 |      162 |       45 |       51 |       35 |       36 |       19 |       41 |\n",
       "| unprocessed_pseudogene |     8051 |     8557 |    10059 |     9239 |    11584 |    10046 |     8542 |     9136 |     9985 |     8058 |    29985 |    32263 |    34802 |    43214 |    36888 |    45210 |\n",
       "| vault_RNA |        1 |        0 |        0 |        0 |        0 |        0 |        0 |        0 |        0 |        1 |        0 |        0 |        0 |        0 |        0 |        0 |\n",
       "| viral |  7759682 |  4351901 |   981036 |   716999 |       24 |       32 |        0 |        0 |        2 |        0 |        0 |        0 |        0 |   360646 |   350751 |   404083 |\n",
       "\n"
      ],
      "text/plain": [
       "                                   VL11     VL12     VL13     VL14     VL15    \n",
       "__no_feature                        1488290  2077099  2082837  2192357  2396538\n",
       "__ambiguous                          858597   954311  1282087  1168645  1394236\n",
       "__too_low_aQual                           0        0        0        0        0\n",
       "__not_aligned                             0        0        0        0        0\n",
       "__alignment_not_unique               677600   800889  1106959  1011072  1242636\n",
       "artifact                                346      312      345      319      466\n",
       "IG_C_gene                                 0        0        2        0        0\n",
       "IG_C_pseudogene                           3        0        0        3       12\n",
       "IG_D_gene                                 0        0        0        0        0\n",
       "IG_J_gene                                 0        0        0        0        0\n",
       "IG_J_pseudogene                           0        0        0        0        0\n",
       "IG_pseudogene                             0        0        0        0        0\n",
       "IG_V_gene                                 0        0        2        2        6\n",
       "IG_V_pseudogene                           1        5        6        3        1\n",
       "lncRNA                               352217   408257   478953   455985   549737\n",
       "miRNA                                   488      619      694      720      851\n",
       "misc_RNA                                906     1129     1230     1413     1453\n",
       "Mt_rRNA                              119787   187051   229698   233139   360835\n",
       "Mt_tRNA                                 363      543      596      622     1074\n",
       "processed_pseudogene                  25370    35501    48580    51030    62715\n",
       "protein_coding                     16789591 18522508 24685854 22010835 25923367\n",
       "pseudogene                               39       53       38       48       53\n",
       "ribozyme                                  8        7       17       12        5\n",
       "rRNA                                      5        1       10        1        2\n",
       "rRNA_pseudogene                         112      188      159      201      150\n",
       "scaRNA                                   12       17       17       22       18\n",
       "scRNA                                     0        0        3        6        7\n",
       "snoRNA                                  231      429      530      490      625\n",
       "snRNA                                   477      758      661      824      854\n",
       "sRNA                                      0        0        0        0        0\n",
       "TEC                                    9921    11135    12810    12367    13809\n",
       "TR_C_gene                                11        4        4        2       14\n",
       "TR_D_gene                                 0        0        0        0        0\n",
       "TR_J_gene                                 2        6        0        0        0\n",
       "TR_J_pseudogene                           0        0        0        0        0\n",
       "TR_V_gene                                 9        4        8        7       11\n",
       "TR_V_pseudogene                          48       14       26       15       16\n",
       "transcribed_processed_pseudogene       9295    10166    13445    12212    16262\n",
       "transcribed_unitary_pseudogene         7996     6939     9938     8115     9021\n",
       "transcribed_unprocessed_pseudogene     3938     3652     3900     3647     3515\n",
       "translated_processed_pseudogene           8        5       30       21       18\n",
       "unitary_pseudogene                      292      196      220      210      200\n",
       "unprocessed_pseudogene                 8051     8557    10059     9239    11584\n",
       "vault_RNA                                 1        0        0        0        0\n",
       "viral                               7759682  4351901   981036   716999       24\n",
       "                                   VL16     VL17     VL18     VL19     VL20    \n",
       "__no_feature                        2314953  2025956  2369321  2868856  1332234\n",
       "__ambiguous                         1322796  1388516  1171986  1288431  1056418\n",
       "__too_low_aQual                           0        0        0        0        0\n",
       "__not_aligned                             0        0        0        0        0\n",
       "__alignment_not_unique              1130332  1276677   943415  1120986   862502\n",
       "artifact                                320      223      239      288      316\n",
       "IG_C_gene                                 0        2        2        0        0\n",
       "IG_C_pseudogene                           1        1        9        1        1\n",
       "IG_D_gene                                 0        0        0        0        0\n",
       "IG_J_gene                                 0        0        0        0        0\n",
       "IG_J_pseudogene                           0        0        0        0        0\n",
       "IG_pseudogene                             0        0        0        0        0\n",
       "IG_V_gene                                 4        0        0        4        1\n",
       "IG_V_pseudogene                           4        3        1        1        2\n",
       "lncRNA                               523953   424819   466800   503954   404113\n",
       "miRNA                                   659      705      678      839      531\n",
       "misc_RNA                               1459     1151     1295     1668      770\n",
       "Mt_rRNA                              289860   328203   291975   249580   222772\n",
       "Mt_tRNA                                 794      729      693      699      579\n",
       "processed_pseudogene                  64066    73435    54264    54113    44660\n",
       "protein_coding                     25054249 26675408 22503222 25163417 21012505\n",
       "pseudogene                               61       47       43       44       57\n",
       "ribozyme                                 23        4        6        8        2\n",
       "rRNA                                      0        0        1        0        2\n",
       "rRNA_pseudogene                         128      166      155      206      130\n",
       "scaRNA                                   16       29       19       31        7\n",
       "scRNA                                    10       21        6        3        5\n",
       "snoRNA                                  539      492      636      622      286\n",
       "snRNA                                   834      727      808     1048      427\n",
       "sRNA                                      0        0        0        0        0\n",
       "TEC                                   13418    11666    12352    14744     9774\n",
       "TR_C_gene                                 2        1        0       14        2\n",
       "TR_D_gene                                 0        0        0        0        0\n",
       "TR_J_gene                                 0        2        0        1        0\n",
       "TR_J_pseudogene                           0        0        0        0        0\n",
       "TR_V_gene                                 2        6        2        0        5\n",
       "TR_V_pseudogene                          33       30       22       16       22\n",
       "transcribed_processed_pseudogene      14485    15427    12283    14406    12728\n",
       "transcribed_unitary_pseudogene         8379     6863     6951     9963     8477\n",
       "transcribed_unprocessed_pseudogene     3508     3115     3392     3925     2736\n",
       "translated_processed_pseudogene          17       12        6        7        9\n",
       "unitary_pseudogene                      191      195      188      202      162\n",
       "unprocessed_pseudogene                10046     8542     9136     9985     8058\n",
       "vault_RNA                                 0        0        0        0        1\n",
       "viral                                    32        0        0        2        0\n",
       "                                   VL21     VL22     VL23     VL24     VL25    \n",
       "__no_feature                        1910484  2246858  2089148  1952115  1620286\n",
       "__ambiguous                          952635   981439   828027  1051623   821323\n",
       "__too_low_aQual                           0        0        0        0        0\n",
       "__not_aligned                             0        0        0        0        0\n",
       "__alignment_not_unique               978590  1051067   870455  1131345   879753\n",
       "artifact                                927     1061      809      999      720\n",
       "IG_C_gene                                 0        0        0        0        0\n",
       "IG_C_pseudogene                           0       10        0        0        0\n",
       "IG_D_gene                                 0        0        0        0        0\n",
       "IG_J_gene                                 0        0        0        0        0\n",
       "IG_J_pseudogene                           0        0        0        0        0\n",
       "IG_pseudogene                             0        0        0        0        0\n",
       "IG_V_gene                                11        9        5        9        0\n",
       "IG_V_pseudogene                          13       26       16       22        9\n",
       "lncRNA                               240405   265371   225419   246530   189336\n",
       "miRNA                                   699      697      703      617      424\n",
       "misc_RNA                               1721     1742     1538     1702     1266\n",
       "Mt_rRNA                              793893   792682   827088   982263   952490\n",
       "Mt_tRNA                                3480     3571     3706     4170     3989\n",
       "processed_pseudogene                  22931    23328    24539    29248    23565\n",
       "protein_coding                     23145240 24293860 20706763 24956359 20236511\n",
       "pseudogene                                7       20       22       21       35\n",
       "ribozyme                                 10       11        5        9        2\n",
       "rRNA                                      0        2        9        4        2\n",
       "rRNA_pseudogene                          58       64       90       48       49\n",
       "scaRNA                                    8       15       20       15       18\n",
       "scRNA                                     0        3        4        2        1\n",
       "snoRNA                                  369      491      376      407      323\n",
       "snRNA                                   330      454      422      302      265\n",
       "sRNA                                      0        0        0        0        0\n",
       "TEC                                    4727     5352     4557     4596     3362\n",
       "TR_C_gene                                 2        4        8        0        1\n",
       "TR_D_gene                                 0        0        0        0        0\n",
       "TR_J_gene                                 0        0        0        0        0\n",
       "TR_J_pseudogene                           0        0        0        0        0\n",
       "TR_V_gene                                 0        0        0        7        0\n",
       "TR_V_pseudogene                           6        5        3        3        4\n",
       "transcribed_processed_pseudogene       6687     7212     6183     7238     5698\n",
       "transcribed_unitary_pseudogene         8088     8972     7206     8187     6153\n",
       "transcribed_unprocessed_pseudogene     1778     2063     1708     1815     1331\n",
       "translated_processed_pseudogene          16       11       12       21       20\n",
       "unitary_pseudogene                       45       51       35       36       19\n",
       "unprocessed_pseudogene                29985    32263    34802    43214    36888\n",
       "vault_RNA                                 0        0        0        0        0\n",
       "viral                                     0        0        0   360646   350751\n",
       "                                   VL26    \n",
       "__no_feature                        1958495\n",
       "__ambiguous                          961791\n",
       "__too_low_aQual                           0\n",
       "__not_aligned                             0\n",
       "__alignment_not_unique              1463900\n",
       "artifact                                934\n",
       "IG_C_gene                                 0\n",
       "IG_C_pseudogene                           0\n",
       "IG_D_gene                                 0\n",
       "IG_J_gene                                 0\n",
       "IG_J_pseudogene                           0\n",
       "IG_pseudogene                             0\n",
       "IG_V_gene                                13\n",
       "IG_V_pseudogene                           7\n",
       "lncRNA                               228688\n",
       "miRNA                                   532\n",
       "misc_RNA                               1540\n",
       "Mt_rRNA                             1092349\n",
       "Mt_tRNA                                4268\n",
       "processed_pseudogene                  33472\n",
       "protein_coding                     23297438\n",
       "pseudogene                               14\n",
       "ribozyme                                 15\n",
       "rRNA                                      8\n",
       "rRNA_pseudogene                          58\n",
       "scaRNA                                   18\n",
       "scRNA                                     0\n",
       "snoRNA                                  381\n",
       "snRNA                                   317\n",
       "sRNA                                      0\n",
       "TEC                                    4203\n",
       "TR_C_gene                                 1\n",
       "TR_D_gene                                 0\n",
       "TR_J_gene                                 0\n",
       "TR_J_pseudogene                           0\n",
       "TR_V_gene                                 0\n",
       "TR_V_pseudogene                           4\n",
       "transcribed_processed_pseudogene       7325\n",
       "transcribed_unitary_pseudogene         6967\n",
       "transcribed_unprocessed_pseudogene     1615\n",
       "translated_processed_pseudogene          30\n",
       "unitary_pseudogene                       41\n",
       "unprocessed_pseudogene                45210\n",
       "vault_RNA                                 0\n",
       "viral                                404083"
      ]
     },
     "metadata": {},
     "output_type": "display_data"
    }
   ],
   "source": [
    "mapping_qc = rbind(mapping_qc,t(sapply(split.data.frame(counts,genes$gene_biotype),colSums)))\n",
    "mapping_qc"
   ]
  },
  {
   "cell_type": "code",
   "execution_count": 13,
   "id": "eaace6e5-bbd0-450d-8652-0e32611e7b5c",
   "metadata": {},
   "outputs": [
    {
     "data": {
      "text/html": [
       "<table class=\"dataframe\">\n",
       "<caption>A matrix: 45 × 16 of type dbl</caption>\n",
       "<thead>\n",
       "\t<tr><th></th><th scope=col>VL11</th><th scope=col>VL12</th><th scope=col>VL13</th><th scope=col>VL14</th><th scope=col>VL15</th><th scope=col>VL16</th><th scope=col>VL17</th><th scope=col>VL18</th><th scope=col>VL19</th><th scope=col>VL20</th><th scope=col>VL21</th><th scope=col>VL22</th><th scope=col>VL23</th><th scope=col>VL24</th><th scope=col>VL25</th><th scope=col>VL26</th></tr>\n",
       "</thead>\n",
       "<tbody>\n",
       "\t<tr><th scope=row>protein_coding</th><td>59.7</td><td>67.6</td><td>79.8</td><td>78.9</td><td>81.0</td><td>81.5</td><td>82.7</td><td>80.8</td><td>80.4</td><td>84.1</td><td>82.4</td><td>81.7</td><td>80.8</td><td>81.1</td><td>80.5</td><td>78.9</td></tr>\n",
       "\t<tr><th scope=row>__no_feature</th><td> 5.3</td><td> 7.6</td><td> 6.7</td><td> 7.9</td><td> 7.5</td><td> 7.5</td><td> 6.3</td><td> 8.5</td><td> 9.2</td><td> 5.3</td><td> 6.8</td><td> 7.6</td><td> 8.2</td><td> 6.3</td><td> 6.4</td><td> 6.6</td></tr>\n",
       "\t<tr><th scope=row>__ambiguous</th><td> 3.1</td><td> 3.5</td><td> 4.1</td><td> 4.2</td><td> 4.4</td><td> 4.3</td><td> 4.3</td><td> 4.2</td><td> 4.1</td><td> 4.2</td><td> 3.4</td><td> 3.3</td><td> 3.2</td><td> 3.4</td><td> 3.3</td><td> 3.3</td></tr>\n",
       "\t<tr><th scope=row>__alignment_not_unique</th><td> 2.4</td><td> 2.9</td><td> 3.6</td><td> 3.6</td><td> 3.9</td><td> 3.7</td><td> 4.0</td><td> 3.4</td><td> 3.6</td><td> 3.5</td><td> 3.5</td><td> 3.5</td><td> 3.4</td><td> 3.7</td><td> 3.5</td><td> 5.0</td></tr>\n",
       "\t<tr><th scope=row>viral</th><td>27.6</td><td>15.9</td><td> 3.2</td><td> 2.6</td><td> 0.0</td><td> 0.0</td><td> 0.0</td><td> 0.0</td><td> 0.0</td><td> 0.0</td><td> 0.0</td><td> 0.0</td><td> 0.0</td><td> 1.2</td><td> 1.4</td><td> 1.4</td></tr>\n",
       "\t<tr><th scope=row>Mt_rRNA</th><td> 0.4</td><td> 0.7</td><td> 0.7</td><td> 0.8</td><td> 1.1</td><td> 0.9</td><td> 1.0</td><td> 1.0</td><td> 0.8</td><td> 0.9</td><td> 2.8</td><td> 2.7</td><td> 3.2</td><td> 3.2</td><td> 3.8</td><td> 3.7</td></tr>\n",
       "\t<tr><th scope=row>lncRNA</th><td> 1.3</td><td> 1.5</td><td> 1.5</td><td> 1.6</td><td> 1.7</td><td> 1.7</td><td> 1.3</td><td> 1.7</td><td> 1.6</td><td> 1.6</td><td> 0.9</td><td> 0.9</td><td> 0.9</td><td> 0.8</td><td> 0.8</td><td> 0.8</td></tr>\n",
       "\t<tr><th scope=row>processed_pseudogene</th><td> 0.1</td><td> 0.1</td><td> 0.2</td><td> 0.2</td><td> 0.2</td><td> 0.2</td><td> 0.2</td><td> 0.2</td><td> 0.2</td><td> 0.2</td><td> 0.1</td><td> 0.1</td><td> 0.1</td><td> 0.1</td><td> 0.1</td><td> 0.1</td></tr>\n",
       "\t<tr><th scope=row>unprocessed_pseudogene</th><td> 0.0</td><td> 0.0</td><td> 0.0</td><td> 0.0</td><td> 0.0</td><td> 0.0</td><td> 0.0</td><td> 0.0</td><td> 0.0</td><td> 0.0</td><td> 0.1</td><td> 0.1</td><td> 0.1</td><td> 0.1</td><td> 0.1</td><td> 0.2</td></tr>\n",
       "\t<tr><th scope=row>transcribed_processed_pseudogene</th><td> 0.0</td><td> 0.0</td><td> 0.0</td><td> 0.0</td><td> 0.1</td><td> 0.0</td><td> 0.0</td><td> 0.0</td><td> 0.0</td><td> 0.1</td><td> 0.0</td><td> 0.0</td><td> 0.0</td><td> 0.0</td><td> 0.0</td><td> 0.0</td></tr>\n",
       "\t<tr><th scope=row>__too_low_aQual</th><td> 0.0</td><td> 0.0</td><td> 0.0</td><td> 0.0</td><td> 0.0</td><td> 0.0</td><td> 0.0</td><td> 0.0</td><td> 0.0</td><td> 0.0</td><td> 0.0</td><td> 0.0</td><td> 0.0</td><td> 0.0</td><td> 0.0</td><td> 0.0</td></tr>\n",
       "\t<tr><th scope=row>__not_aligned</th><td> 0.0</td><td> 0.0</td><td> 0.0</td><td> 0.0</td><td> 0.0</td><td> 0.0</td><td> 0.0</td><td> 0.0</td><td> 0.0</td><td> 0.0</td><td> 0.0</td><td> 0.0</td><td> 0.0</td><td> 0.0</td><td> 0.0</td><td> 0.0</td></tr>\n",
       "\t<tr><th scope=row>artifact</th><td> 0.0</td><td> 0.0</td><td> 0.0</td><td> 0.0</td><td> 0.0</td><td> 0.0</td><td> 0.0</td><td> 0.0</td><td> 0.0</td><td> 0.0</td><td> 0.0</td><td> 0.0</td><td> 0.0</td><td> 0.0</td><td> 0.0</td><td> 0.0</td></tr>\n",
       "\t<tr><th scope=row>IG_C_gene</th><td> 0.0</td><td> 0.0</td><td> 0.0</td><td> 0.0</td><td> 0.0</td><td> 0.0</td><td> 0.0</td><td> 0.0</td><td> 0.0</td><td> 0.0</td><td> 0.0</td><td> 0.0</td><td> 0.0</td><td> 0.0</td><td> 0.0</td><td> 0.0</td></tr>\n",
       "\t<tr><th scope=row>IG_C_pseudogene</th><td> 0.0</td><td> 0.0</td><td> 0.0</td><td> 0.0</td><td> 0.0</td><td> 0.0</td><td> 0.0</td><td> 0.0</td><td> 0.0</td><td> 0.0</td><td> 0.0</td><td> 0.0</td><td> 0.0</td><td> 0.0</td><td> 0.0</td><td> 0.0</td></tr>\n",
       "\t<tr><th scope=row>IG_D_gene</th><td> 0.0</td><td> 0.0</td><td> 0.0</td><td> 0.0</td><td> 0.0</td><td> 0.0</td><td> 0.0</td><td> 0.0</td><td> 0.0</td><td> 0.0</td><td> 0.0</td><td> 0.0</td><td> 0.0</td><td> 0.0</td><td> 0.0</td><td> 0.0</td></tr>\n",
       "\t<tr><th scope=row>IG_J_gene</th><td> 0.0</td><td> 0.0</td><td> 0.0</td><td> 0.0</td><td> 0.0</td><td> 0.0</td><td> 0.0</td><td> 0.0</td><td> 0.0</td><td> 0.0</td><td> 0.0</td><td> 0.0</td><td> 0.0</td><td> 0.0</td><td> 0.0</td><td> 0.0</td></tr>\n",
       "\t<tr><th scope=row>IG_J_pseudogene</th><td> 0.0</td><td> 0.0</td><td> 0.0</td><td> 0.0</td><td> 0.0</td><td> 0.0</td><td> 0.0</td><td> 0.0</td><td> 0.0</td><td> 0.0</td><td> 0.0</td><td> 0.0</td><td> 0.0</td><td> 0.0</td><td> 0.0</td><td> 0.0</td></tr>\n",
       "\t<tr><th scope=row>IG_pseudogene</th><td> 0.0</td><td> 0.0</td><td> 0.0</td><td> 0.0</td><td> 0.0</td><td> 0.0</td><td> 0.0</td><td> 0.0</td><td> 0.0</td><td> 0.0</td><td> 0.0</td><td> 0.0</td><td> 0.0</td><td> 0.0</td><td> 0.0</td><td> 0.0</td></tr>\n",
       "\t<tr><th scope=row>IG_V_gene</th><td> 0.0</td><td> 0.0</td><td> 0.0</td><td> 0.0</td><td> 0.0</td><td> 0.0</td><td> 0.0</td><td> 0.0</td><td> 0.0</td><td> 0.0</td><td> 0.0</td><td> 0.0</td><td> 0.0</td><td> 0.0</td><td> 0.0</td><td> 0.0</td></tr>\n",
       "\t<tr><th scope=row>IG_V_pseudogene</th><td> 0.0</td><td> 0.0</td><td> 0.0</td><td> 0.0</td><td> 0.0</td><td> 0.0</td><td> 0.0</td><td> 0.0</td><td> 0.0</td><td> 0.0</td><td> 0.0</td><td> 0.0</td><td> 0.0</td><td> 0.0</td><td> 0.0</td><td> 0.0</td></tr>\n",
       "\t<tr><th scope=row>miRNA</th><td> 0.0</td><td> 0.0</td><td> 0.0</td><td> 0.0</td><td> 0.0</td><td> 0.0</td><td> 0.0</td><td> 0.0</td><td> 0.0</td><td> 0.0</td><td> 0.0</td><td> 0.0</td><td> 0.0</td><td> 0.0</td><td> 0.0</td><td> 0.0</td></tr>\n",
       "\t<tr><th scope=row>misc_RNA</th><td> 0.0</td><td> 0.0</td><td> 0.0</td><td> 0.0</td><td> 0.0</td><td> 0.0</td><td> 0.0</td><td> 0.0</td><td> 0.0</td><td> 0.0</td><td> 0.0</td><td> 0.0</td><td> 0.0</td><td> 0.0</td><td> 0.0</td><td> 0.0</td></tr>\n",
       "\t<tr><th scope=row>Mt_tRNA</th><td> 0.0</td><td> 0.0</td><td> 0.0</td><td> 0.0</td><td> 0.0</td><td> 0.0</td><td> 0.0</td><td> 0.0</td><td> 0.0</td><td> 0.0</td><td> 0.0</td><td> 0.0</td><td> 0.0</td><td> 0.0</td><td> 0.0</td><td> 0.0</td></tr>\n",
       "\t<tr><th scope=row>pseudogene</th><td> 0.0</td><td> 0.0</td><td> 0.0</td><td> 0.0</td><td> 0.0</td><td> 0.0</td><td> 0.0</td><td> 0.0</td><td> 0.0</td><td> 0.0</td><td> 0.0</td><td> 0.0</td><td> 0.0</td><td> 0.0</td><td> 0.0</td><td> 0.0</td></tr>\n",
       "\t<tr><th scope=row>ribozyme</th><td> 0.0</td><td> 0.0</td><td> 0.0</td><td> 0.0</td><td> 0.0</td><td> 0.0</td><td> 0.0</td><td> 0.0</td><td> 0.0</td><td> 0.0</td><td> 0.0</td><td> 0.0</td><td> 0.0</td><td> 0.0</td><td> 0.0</td><td> 0.0</td></tr>\n",
       "\t<tr><th scope=row>rRNA</th><td> 0.0</td><td> 0.0</td><td> 0.0</td><td> 0.0</td><td> 0.0</td><td> 0.0</td><td> 0.0</td><td> 0.0</td><td> 0.0</td><td> 0.0</td><td> 0.0</td><td> 0.0</td><td> 0.0</td><td> 0.0</td><td> 0.0</td><td> 0.0</td></tr>\n",
       "\t<tr><th scope=row>rRNA_pseudogene</th><td> 0.0</td><td> 0.0</td><td> 0.0</td><td> 0.0</td><td> 0.0</td><td> 0.0</td><td> 0.0</td><td> 0.0</td><td> 0.0</td><td> 0.0</td><td> 0.0</td><td> 0.0</td><td> 0.0</td><td> 0.0</td><td> 0.0</td><td> 0.0</td></tr>\n",
       "\t<tr><th scope=row>scaRNA</th><td> 0.0</td><td> 0.0</td><td> 0.0</td><td> 0.0</td><td> 0.0</td><td> 0.0</td><td> 0.0</td><td> 0.0</td><td> 0.0</td><td> 0.0</td><td> 0.0</td><td> 0.0</td><td> 0.0</td><td> 0.0</td><td> 0.0</td><td> 0.0</td></tr>\n",
       "\t<tr><th scope=row>scRNA</th><td> 0.0</td><td> 0.0</td><td> 0.0</td><td> 0.0</td><td> 0.0</td><td> 0.0</td><td> 0.0</td><td> 0.0</td><td> 0.0</td><td> 0.0</td><td> 0.0</td><td> 0.0</td><td> 0.0</td><td> 0.0</td><td> 0.0</td><td> 0.0</td></tr>\n",
       "\t<tr><th scope=row>snoRNA</th><td> 0.0</td><td> 0.0</td><td> 0.0</td><td> 0.0</td><td> 0.0</td><td> 0.0</td><td> 0.0</td><td> 0.0</td><td> 0.0</td><td> 0.0</td><td> 0.0</td><td> 0.0</td><td> 0.0</td><td> 0.0</td><td> 0.0</td><td> 0.0</td></tr>\n",
       "\t<tr><th scope=row>snRNA</th><td> 0.0</td><td> 0.0</td><td> 0.0</td><td> 0.0</td><td> 0.0</td><td> 0.0</td><td> 0.0</td><td> 0.0</td><td> 0.0</td><td> 0.0</td><td> 0.0</td><td> 0.0</td><td> 0.0</td><td> 0.0</td><td> 0.0</td><td> 0.0</td></tr>\n",
       "\t<tr><th scope=row>sRNA</th><td> 0.0</td><td> 0.0</td><td> 0.0</td><td> 0.0</td><td> 0.0</td><td> 0.0</td><td> 0.0</td><td> 0.0</td><td> 0.0</td><td> 0.0</td><td> 0.0</td><td> 0.0</td><td> 0.0</td><td> 0.0</td><td> 0.0</td><td> 0.0</td></tr>\n",
       "\t<tr><th scope=row>TEC</th><td> 0.0</td><td> 0.0</td><td> 0.0</td><td> 0.0</td><td> 0.0</td><td> 0.0</td><td> 0.0</td><td> 0.0</td><td> 0.0</td><td> 0.0</td><td> 0.0</td><td> 0.0</td><td> 0.0</td><td> 0.0</td><td> 0.0</td><td> 0.0</td></tr>\n",
       "\t<tr><th scope=row>TR_C_gene</th><td> 0.0</td><td> 0.0</td><td> 0.0</td><td> 0.0</td><td> 0.0</td><td> 0.0</td><td> 0.0</td><td> 0.0</td><td> 0.0</td><td> 0.0</td><td> 0.0</td><td> 0.0</td><td> 0.0</td><td> 0.0</td><td> 0.0</td><td> 0.0</td></tr>\n",
       "\t<tr><th scope=row>TR_D_gene</th><td> 0.0</td><td> 0.0</td><td> 0.0</td><td> 0.0</td><td> 0.0</td><td> 0.0</td><td> 0.0</td><td> 0.0</td><td> 0.0</td><td> 0.0</td><td> 0.0</td><td> 0.0</td><td> 0.0</td><td> 0.0</td><td> 0.0</td><td> 0.0</td></tr>\n",
       "\t<tr><th scope=row>TR_J_gene</th><td> 0.0</td><td> 0.0</td><td> 0.0</td><td> 0.0</td><td> 0.0</td><td> 0.0</td><td> 0.0</td><td> 0.0</td><td> 0.0</td><td> 0.0</td><td> 0.0</td><td> 0.0</td><td> 0.0</td><td> 0.0</td><td> 0.0</td><td> 0.0</td></tr>\n",
       "\t<tr><th scope=row>TR_J_pseudogene</th><td> 0.0</td><td> 0.0</td><td> 0.0</td><td> 0.0</td><td> 0.0</td><td> 0.0</td><td> 0.0</td><td> 0.0</td><td> 0.0</td><td> 0.0</td><td> 0.0</td><td> 0.0</td><td> 0.0</td><td> 0.0</td><td> 0.0</td><td> 0.0</td></tr>\n",
       "\t<tr><th scope=row>TR_V_gene</th><td> 0.0</td><td> 0.0</td><td> 0.0</td><td> 0.0</td><td> 0.0</td><td> 0.0</td><td> 0.0</td><td> 0.0</td><td> 0.0</td><td> 0.0</td><td> 0.0</td><td> 0.0</td><td> 0.0</td><td> 0.0</td><td> 0.0</td><td> 0.0</td></tr>\n",
       "\t<tr><th scope=row>TR_V_pseudogene</th><td> 0.0</td><td> 0.0</td><td> 0.0</td><td> 0.0</td><td> 0.0</td><td> 0.0</td><td> 0.0</td><td> 0.0</td><td> 0.0</td><td> 0.0</td><td> 0.0</td><td> 0.0</td><td> 0.0</td><td> 0.0</td><td> 0.0</td><td> 0.0</td></tr>\n",
       "\t<tr><th scope=row>transcribed_unitary_pseudogene</th><td> 0.0</td><td> 0.0</td><td> 0.0</td><td> 0.0</td><td> 0.0</td><td> 0.0</td><td> 0.0</td><td> 0.0</td><td> 0.0</td><td> 0.0</td><td> 0.0</td><td> 0.0</td><td> 0.0</td><td> 0.0</td><td> 0.0</td><td> 0.0</td></tr>\n",
       "\t<tr><th scope=row>transcribed_unprocessed_pseudogene</th><td> 0.0</td><td> 0.0</td><td> 0.0</td><td> 0.0</td><td> 0.0</td><td> 0.0</td><td> 0.0</td><td> 0.0</td><td> 0.0</td><td> 0.0</td><td> 0.0</td><td> 0.0</td><td> 0.0</td><td> 0.0</td><td> 0.0</td><td> 0.0</td></tr>\n",
       "\t<tr><th scope=row>translated_processed_pseudogene</th><td> 0.0</td><td> 0.0</td><td> 0.0</td><td> 0.0</td><td> 0.0</td><td> 0.0</td><td> 0.0</td><td> 0.0</td><td> 0.0</td><td> 0.0</td><td> 0.0</td><td> 0.0</td><td> 0.0</td><td> 0.0</td><td> 0.0</td><td> 0.0</td></tr>\n",
       "\t<tr><th scope=row>unitary_pseudogene</th><td> 0.0</td><td> 0.0</td><td> 0.0</td><td> 0.0</td><td> 0.0</td><td> 0.0</td><td> 0.0</td><td> 0.0</td><td> 0.0</td><td> 0.0</td><td> 0.0</td><td> 0.0</td><td> 0.0</td><td> 0.0</td><td> 0.0</td><td> 0.0</td></tr>\n",
       "\t<tr><th scope=row>vault_RNA</th><td> 0.0</td><td> 0.0</td><td> 0.0</td><td> 0.0</td><td> 0.0</td><td> 0.0</td><td> 0.0</td><td> 0.0</td><td> 0.0</td><td> 0.0</td><td> 0.0</td><td> 0.0</td><td> 0.0</td><td> 0.0</td><td> 0.0</td><td> 0.0</td></tr>\n",
       "</tbody>\n",
       "</table>\n"
      ],
      "text/latex": [
       "A matrix: 45 × 16 of type dbl\n",
       "\\begin{tabular}{r|llllllllllllllll}\n",
       "  & VL11 & VL12 & VL13 & VL14 & VL15 & VL16 & VL17 & VL18 & VL19 & VL20 & VL21 & VL22 & VL23 & VL24 & VL25 & VL26\\\\\n",
       "\\hline\n",
       "\tprotein\\_coding & 59.7 & 67.6 & 79.8 & 78.9 & 81.0 & 81.5 & 82.7 & 80.8 & 80.4 & 84.1 & 82.4 & 81.7 & 80.8 & 81.1 & 80.5 & 78.9\\\\\n",
       "\t\\_\\_no\\_feature &  5.3 &  7.6 &  6.7 &  7.9 &  7.5 &  7.5 &  6.3 &  8.5 &  9.2 &  5.3 &  6.8 &  7.6 &  8.2 &  6.3 &  6.4 &  6.6\\\\\n",
       "\t\\_\\_ambiguous &  3.1 &  3.5 &  4.1 &  4.2 &  4.4 &  4.3 &  4.3 &  4.2 &  4.1 &  4.2 &  3.4 &  3.3 &  3.2 &  3.4 &  3.3 &  3.3\\\\\n",
       "\t\\_\\_alignment\\_not\\_unique &  2.4 &  2.9 &  3.6 &  3.6 &  3.9 &  3.7 &  4.0 &  3.4 &  3.6 &  3.5 &  3.5 &  3.5 &  3.4 &  3.7 &  3.5 &  5.0\\\\\n",
       "\tviral & 27.6 & 15.9 &  3.2 &  2.6 &  0.0 &  0.0 &  0.0 &  0.0 &  0.0 &  0.0 &  0.0 &  0.0 &  0.0 &  1.2 &  1.4 &  1.4\\\\\n",
       "\tMt\\_rRNA &  0.4 &  0.7 &  0.7 &  0.8 &  1.1 &  0.9 &  1.0 &  1.0 &  0.8 &  0.9 &  2.8 &  2.7 &  3.2 &  3.2 &  3.8 &  3.7\\\\\n",
       "\tlncRNA &  1.3 &  1.5 &  1.5 &  1.6 &  1.7 &  1.7 &  1.3 &  1.7 &  1.6 &  1.6 &  0.9 &  0.9 &  0.9 &  0.8 &  0.8 &  0.8\\\\\n",
       "\tprocessed\\_pseudogene &  0.1 &  0.1 &  0.2 &  0.2 &  0.2 &  0.2 &  0.2 &  0.2 &  0.2 &  0.2 &  0.1 &  0.1 &  0.1 &  0.1 &  0.1 &  0.1\\\\\n",
       "\tunprocessed\\_pseudogene &  0.0 &  0.0 &  0.0 &  0.0 &  0.0 &  0.0 &  0.0 &  0.0 &  0.0 &  0.0 &  0.1 &  0.1 &  0.1 &  0.1 &  0.1 &  0.2\\\\\n",
       "\ttranscribed\\_processed\\_pseudogene &  0.0 &  0.0 &  0.0 &  0.0 &  0.1 &  0.0 &  0.0 &  0.0 &  0.0 &  0.1 &  0.0 &  0.0 &  0.0 &  0.0 &  0.0 &  0.0\\\\\n",
       "\t\\_\\_too\\_low\\_aQual &  0.0 &  0.0 &  0.0 &  0.0 &  0.0 &  0.0 &  0.0 &  0.0 &  0.0 &  0.0 &  0.0 &  0.0 &  0.0 &  0.0 &  0.0 &  0.0\\\\\n",
       "\t\\_\\_not\\_aligned &  0.0 &  0.0 &  0.0 &  0.0 &  0.0 &  0.0 &  0.0 &  0.0 &  0.0 &  0.0 &  0.0 &  0.0 &  0.0 &  0.0 &  0.0 &  0.0\\\\\n",
       "\tartifact &  0.0 &  0.0 &  0.0 &  0.0 &  0.0 &  0.0 &  0.0 &  0.0 &  0.0 &  0.0 &  0.0 &  0.0 &  0.0 &  0.0 &  0.0 &  0.0\\\\\n",
       "\tIG\\_C\\_gene &  0.0 &  0.0 &  0.0 &  0.0 &  0.0 &  0.0 &  0.0 &  0.0 &  0.0 &  0.0 &  0.0 &  0.0 &  0.0 &  0.0 &  0.0 &  0.0\\\\\n",
       "\tIG\\_C\\_pseudogene &  0.0 &  0.0 &  0.0 &  0.0 &  0.0 &  0.0 &  0.0 &  0.0 &  0.0 &  0.0 &  0.0 &  0.0 &  0.0 &  0.0 &  0.0 &  0.0\\\\\n",
       "\tIG\\_D\\_gene &  0.0 &  0.0 &  0.0 &  0.0 &  0.0 &  0.0 &  0.0 &  0.0 &  0.0 &  0.0 &  0.0 &  0.0 &  0.0 &  0.0 &  0.0 &  0.0\\\\\n",
       "\tIG\\_J\\_gene &  0.0 &  0.0 &  0.0 &  0.0 &  0.0 &  0.0 &  0.0 &  0.0 &  0.0 &  0.0 &  0.0 &  0.0 &  0.0 &  0.0 &  0.0 &  0.0\\\\\n",
       "\tIG\\_J\\_pseudogene &  0.0 &  0.0 &  0.0 &  0.0 &  0.0 &  0.0 &  0.0 &  0.0 &  0.0 &  0.0 &  0.0 &  0.0 &  0.0 &  0.0 &  0.0 &  0.0\\\\\n",
       "\tIG\\_pseudogene &  0.0 &  0.0 &  0.0 &  0.0 &  0.0 &  0.0 &  0.0 &  0.0 &  0.0 &  0.0 &  0.0 &  0.0 &  0.0 &  0.0 &  0.0 &  0.0\\\\\n",
       "\tIG\\_V\\_gene &  0.0 &  0.0 &  0.0 &  0.0 &  0.0 &  0.0 &  0.0 &  0.0 &  0.0 &  0.0 &  0.0 &  0.0 &  0.0 &  0.0 &  0.0 &  0.0\\\\\n",
       "\tIG\\_V\\_pseudogene &  0.0 &  0.0 &  0.0 &  0.0 &  0.0 &  0.0 &  0.0 &  0.0 &  0.0 &  0.0 &  0.0 &  0.0 &  0.0 &  0.0 &  0.0 &  0.0\\\\\n",
       "\tmiRNA &  0.0 &  0.0 &  0.0 &  0.0 &  0.0 &  0.0 &  0.0 &  0.0 &  0.0 &  0.0 &  0.0 &  0.0 &  0.0 &  0.0 &  0.0 &  0.0\\\\\n",
       "\tmisc\\_RNA &  0.0 &  0.0 &  0.0 &  0.0 &  0.0 &  0.0 &  0.0 &  0.0 &  0.0 &  0.0 &  0.0 &  0.0 &  0.0 &  0.0 &  0.0 &  0.0\\\\\n",
       "\tMt\\_tRNA &  0.0 &  0.0 &  0.0 &  0.0 &  0.0 &  0.0 &  0.0 &  0.0 &  0.0 &  0.0 &  0.0 &  0.0 &  0.0 &  0.0 &  0.0 &  0.0\\\\\n",
       "\tpseudogene &  0.0 &  0.0 &  0.0 &  0.0 &  0.0 &  0.0 &  0.0 &  0.0 &  0.0 &  0.0 &  0.0 &  0.0 &  0.0 &  0.0 &  0.0 &  0.0\\\\\n",
       "\tribozyme &  0.0 &  0.0 &  0.0 &  0.0 &  0.0 &  0.0 &  0.0 &  0.0 &  0.0 &  0.0 &  0.0 &  0.0 &  0.0 &  0.0 &  0.0 &  0.0\\\\\n",
       "\trRNA &  0.0 &  0.0 &  0.0 &  0.0 &  0.0 &  0.0 &  0.0 &  0.0 &  0.0 &  0.0 &  0.0 &  0.0 &  0.0 &  0.0 &  0.0 &  0.0\\\\\n",
       "\trRNA\\_pseudogene &  0.0 &  0.0 &  0.0 &  0.0 &  0.0 &  0.0 &  0.0 &  0.0 &  0.0 &  0.0 &  0.0 &  0.0 &  0.0 &  0.0 &  0.0 &  0.0\\\\\n",
       "\tscaRNA &  0.0 &  0.0 &  0.0 &  0.0 &  0.0 &  0.0 &  0.0 &  0.0 &  0.0 &  0.0 &  0.0 &  0.0 &  0.0 &  0.0 &  0.0 &  0.0\\\\\n",
       "\tscRNA &  0.0 &  0.0 &  0.0 &  0.0 &  0.0 &  0.0 &  0.0 &  0.0 &  0.0 &  0.0 &  0.0 &  0.0 &  0.0 &  0.0 &  0.0 &  0.0\\\\\n",
       "\tsnoRNA &  0.0 &  0.0 &  0.0 &  0.0 &  0.0 &  0.0 &  0.0 &  0.0 &  0.0 &  0.0 &  0.0 &  0.0 &  0.0 &  0.0 &  0.0 &  0.0\\\\\n",
       "\tsnRNA &  0.0 &  0.0 &  0.0 &  0.0 &  0.0 &  0.0 &  0.0 &  0.0 &  0.0 &  0.0 &  0.0 &  0.0 &  0.0 &  0.0 &  0.0 &  0.0\\\\\n",
       "\tsRNA &  0.0 &  0.0 &  0.0 &  0.0 &  0.0 &  0.0 &  0.0 &  0.0 &  0.0 &  0.0 &  0.0 &  0.0 &  0.0 &  0.0 &  0.0 &  0.0\\\\\n",
       "\tTEC &  0.0 &  0.0 &  0.0 &  0.0 &  0.0 &  0.0 &  0.0 &  0.0 &  0.0 &  0.0 &  0.0 &  0.0 &  0.0 &  0.0 &  0.0 &  0.0\\\\\n",
       "\tTR\\_C\\_gene &  0.0 &  0.0 &  0.0 &  0.0 &  0.0 &  0.0 &  0.0 &  0.0 &  0.0 &  0.0 &  0.0 &  0.0 &  0.0 &  0.0 &  0.0 &  0.0\\\\\n",
       "\tTR\\_D\\_gene &  0.0 &  0.0 &  0.0 &  0.0 &  0.0 &  0.0 &  0.0 &  0.0 &  0.0 &  0.0 &  0.0 &  0.0 &  0.0 &  0.0 &  0.0 &  0.0\\\\\n",
       "\tTR\\_J\\_gene &  0.0 &  0.0 &  0.0 &  0.0 &  0.0 &  0.0 &  0.0 &  0.0 &  0.0 &  0.0 &  0.0 &  0.0 &  0.0 &  0.0 &  0.0 &  0.0\\\\\n",
       "\tTR\\_J\\_pseudogene &  0.0 &  0.0 &  0.0 &  0.0 &  0.0 &  0.0 &  0.0 &  0.0 &  0.0 &  0.0 &  0.0 &  0.0 &  0.0 &  0.0 &  0.0 &  0.0\\\\\n",
       "\tTR\\_V\\_gene &  0.0 &  0.0 &  0.0 &  0.0 &  0.0 &  0.0 &  0.0 &  0.0 &  0.0 &  0.0 &  0.0 &  0.0 &  0.0 &  0.0 &  0.0 &  0.0\\\\\n",
       "\tTR\\_V\\_pseudogene &  0.0 &  0.0 &  0.0 &  0.0 &  0.0 &  0.0 &  0.0 &  0.0 &  0.0 &  0.0 &  0.0 &  0.0 &  0.0 &  0.0 &  0.0 &  0.0\\\\\n",
       "\ttranscribed\\_unitary\\_pseudogene &  0.0 &  0.0 &  0.0 &  0.0 &  0.0 &  0.0 &  0.0 &  0.0 &  0.0 &  0.0 &  0.0 &  0.0 &  0.0 &  0.0 &  0.0 &  0.0\\\\\n",
       "\ttranscribed\\_unprocessed\\_pseudogene &  0.0 &  0.0 &  0.0 &  0.0 &  0.0 &  0.0 &  0.0 &  0.0 &  0.0 &  0.0 &  0.0 &  0.0 &  0.0 &  0.0 &  0.0 &  0.0\\\\\n",
       "\ttranslated\\_processed\\_pseudogene &  0.0 &  0.0 &  0.0 &  0.0 &  0.0 &  0.0 &  0.0 &  0.0 &  0.0 &  0.0 &  0.0 &  0.0 &  0.0 &  0.0 &  0.0 &  0.0\\\\\n",
       "\tunitary\\_pseudogene &  0.0 &  0.0 &  0.0 &  0.0 &  0.0 &  0.0 &  0.0 &  0.0 &  0.0 &  0.0 &  0.0 &  0.0 &  0.0 &  0.0 &  0.0 &  0.0\\\\\n",
       "\tvault\\_RNA &  0.0 &  0.0 &  0.0 &  0.0 &  0.0 &  0.0 &  0.0 &  0.0 &  0.0 &  0.0 &  0.0 &  0.0 &  0.0 &  0.0 &  0.0 &  0.0\\\\\n",
       "\\end{tabular}\n"
      ],
      "text/markdown": [
       "\n",
       "A matrix: 45 × 16 of type dbl\n",
       "\n",
       "| <!--/--> | VL11 | VL12 | VL13 | VL14 | VL15 | VL16 | VL17 | VL18 | VL19 | VL20 | VL21 | VL22 | VL23 | VL24 | VL25 | VL26 |\n",
       "|---|---|---|---|---|---|---|---|---|---|---|---|---|---|---|---|---|\n",
       "| protein_coding | 59.7 | 67.6 | 79.8 | 78.9 | 81.0 | 81.5 | 82.7 | 80.8 | 80.4 | 84.1 | 82.4 | 81.7 | 80.8 | 81.1 | 80.5 | 78.9 |\n",
       "| __no_feature |  5.3 |  7.6 |  6.7 |  7.9 |  7.5 |  7.5 |  6.3 |  8.5 |  9.2 |  5.3 |  6.8 |  7.6 |  8.2 |  6.3 |  6.4 |  6.6 |\n",
       "| __ambiguous |  3.1 |  3.5 |  4.1 |  4.2 |  4.4 |  4.3 |  4.3 |  4.2 |  4.1 |  4.2 |  3.4 |  3.3 |  3.2 |  3.4 |  3.3 |  3.3 |\n",
       "| __alignment_not_unique |  2.4 |  2.9 |  3.6 |  3.6 |  3.9 |  3.7 |  4.0 |  3.4 |  3.6 |  3.5 |  3.5 |  3.5 |  3.4 |  3.7 |  3.5 |  5.0 |\n",
       "| viral | 27.6 | 15.9 |  3.2 |  2.6 |  0.0 |  0.0 |  0.0 |  0.0 |  0.0 |  0.0 |  0.0 |  0.0 |  0.0 |  1.2 |  1.4 |  1.4 |\n",
       "| Mt_rRNA |  0.4 |  0.7 |  0.7 |  0.8 |  1.1 |  0.9 |  1.0 |  1.0 |  0.8 |  0.9 |  2.8 |  2.7 |  3.2 |  3.2 |  3.8 |  3.7 |\n",
       "| lncRNA |  1.3 |  1.5 |  1.5 |  1.6 |  1.7 |  1.7 |  1.3 |  1.7 |  1.6 |  1.6 |  0.9 |  0.9 |  0.9 |  0.8 |  0.8 |  0.8 |\n",
       "| processed_pseudogene |  0.1 |  0.1 |  0.2 |  0.2 |  0.2 |  0.2 |  0.2 |  0.2 |  0.2 |  0.2 |  0.1 |  0.1 |  0.1 |  0.1 |  0.1 |  0.1 |\n",
       "| unprocessed_pseudogene |  0.0 |  0.0 |  0.0 |  0.0 |  0.0 |  0.0 |  0.0 |  0.0 |  0.0 |  0.0 |  0.1 |  0.1 |  0.1 |  0.1 |  0.1 |  0.2 |\n",
       "| transcribed_processed_pseudogene |  0.0 |  0.0 |  0.0 |  0.0 |  0.1 |  0.0 |  0.0 |  0.0 |  0.0 |  0.1 |  0.0 |  0.0 |  0.0 |  0.0 |  0.0 |  0.0 |\n",
       "| __too_low_aQual |  0.0 |  0.0 |  0.0 |  0.0 |  0.0 |  0.0 |  0.0 |  0.0 |  0.0 |  0.0 |  0.0 |  0.0 |  0.0 |  0.0 |  0.0 |  0.0 |\n",
       "| __not_aligned |  0.0 |  0.0 |  0.0 |  0.0 |  0.0 |  0.0 |  0.0 |  0.0 |  0.0 |  0.0 |  0.0 |  0.0 |  0.0 |  0.0 |  0.0 |  0.0 |\n",
       "| artifact |  0.0 |  0.0 |  0.0 |  0.0 |  0.0 |  0.0 |  0.0 |  0.0 |  0.0 |  0.0 |  0.0 |  0.0 |  0.0 |  0.0 |  0.0 |  0.0 |\n",
       "| IG_C_gene |  0.0 |  0.0 |  0.0 |  0.0 |  0.0 |  0.0 |  0.0 |  0.0 |  0.0 |  0.0 |  0.0 |  0.0 |  0.0 |  0.0 |  0.0 |  0.0 |\n",
       "| IG_C_pseudogene |  0.0 |  0.0 |  0.0 |  0.0 |  0.0 |  0.0 |  0.0 |  0.0 |  0.0 |  0.0 |  0.0 |  0.0 |  0.0 |  0.0 |  0.0 |  0.0 |\n",
       "| IG_D_gene |  0.0 |  0.0 |  0.0 |  0.0 |  0.0 |  0.0 |  0.0 |  0.0 |  0.0 |  0.0 |  0.0 |  0.0 |  0.0 |  0.0 |  0.0 |  0.0 |\n",
       "| IG_J_gene |  0.0 |  0.0 |  0.0 |  0.0 |  0.0 |  0.0 |  0.0 |  0.0 |  0.0 |  0.0 |  0.0 |  0.0 |  0.0 |  0.0 |  0.0 |  0.0 |\n",
       "| IG_J_pseudogene |  0.0 |  0.0 |  0.0 |  0.0 |  0.0 |  0.0 |  0.0 |  0.0 |  0.0 |  0.0 |  0.0 |  0.0 |  0.0 |  0.0 |  0.0 |  0.0 |\n",
       "| IG_pseudogene |  0.0 |  0.0 |  0.0 |  0.0 |  0.0 |  0.0 |  0.0 |  0.0 |  0.0 |  0.0 |  0.0 |  0.0 |  0.0 |  0.0 |  0.0 |  0.0 |\n",
       "| IG_V_gene |  0.0 |  0.0 |  0.0 |  0.0 |  0.0 |  0.0 |  0.0 |  0.0 |  0.0 |  0.0 |  0.0 |  0.0 |  0.0 |  0.0 |  0.0 |  0.0 |\n",
       "| IG_V_pseudogene |  0.0 |  0.0 |  0.0 |  0.0 |  0.0 |  0.0 |  0.0 |  0.0 |  0.0 |  0.0 |  0.0 |  0.0 |  0.0 |  0.0 |  0.0 |  0.0 |\n",
       "| miRNA |  0.0 |  0.0 |  0.0 |  0.0 |  0.0 |  0.0 |  0.0 |  0.0 |  0.0 |  0.0 |  0.0 |  0.0 |  0.0 |  0.0 |  0.0 |  0.0 |\n",
       "| misc_RNA |  0.0 |  0.0 |  0.0 |  0.0 |  0.0 |  0.0 |  0.0 |  0.0 |  0.0 |  0.0 |  0.0 |  0.0 |  0.0 |  0.0 |  0.0 |  0.0 |\n",
       "| Mt_tRNA |  0.0 |  0.0 |  0.0 |  0.0 |  0.0 |  0.0 |  0.0 |  0.0 |  0.0 |  0.0 |  0.0 |  0.0 |  0.0 |  0.0 |  0.0 |  0.0 |\n",
       "| pseudogene |  0.0 |  0.0 |  0.0 |  0.0 |  0.0 |  0.0 |  0.0 |  0.0 |  0.0 |  0.0 |  0.0 |  0.0 |  0.0 |  0.0 |  0.0 |  0.0 |\n",
       "| ribozyme |  0.0 |  0.0 |  0.0 |  0.0 |  0.0 |  0.0 |  0.0 |  0.0 |  0.0 |  0.0 |  0.0 |  0.0 |  0.0 |  0.0 |  0.0 |  0.0 |\n",
       "| rRNA |  0.0 |  0.0 |  0.0 |  0.0 |  0.0 |  0.0 |  0.0 |  0.0 |  0.0 |  0.0 |  0.0 |  0.0 |  0.0 |  0.0 |  0.0 |  0.0 |\n",
       "| rRNA_pseudogene |  0.0 |  0.0 |  0.0 |  0.0 |  0.0 |  0.0 |  0.0 |  0.0 |  0.0 |  0.0 |  0.0 |  0.0 |  0.0 |  0.0 |  0.0 |  0.0 |\n",
       "| scaRNA |  0.0 |  0.0 |  0.0 |  0.0 |  0.0 |  0.0 |  0.0 |  0.0 |  0.0 |  0.0 |  0.0 |  0.0 |  0.0 |  0.0 |  0.0 |  0.0 |\n",
       "| scRNA |  0.0 |  0.0 |  0.0 |  0.0 |  0.0 |  0.0 |  0.0 |  0.0 |  0.0 |  0.0 |  0.0 |  0.0 |  0.0 |  0.0 |  0.0 |  0.0 |\n",
       "| snoRNA |  0.0 |  0.0 |  0.0 |  0.0 |  0.0 |  0.0 |  0.0 |  0.0 |  0.0 |  0.0 |  0.0 |  0.0 |  0.0 |  0.0 |  0.0 |  0.0 |\n",
       "| snRNA |  0.0 |  0.0 |  0.0 |  0.0 |  0.0 |  0.0 |  0.0 |  0.0 |  0.0 |  0.0 |  0.0 |  0.0 |  0.0 |  0.0 |  0.0 |  0.0 |\n",
       "| sRNA |  0.0 |  0.0 |  0.0 |  0.0 |  0.0 |  0.0 |  0.0 |  0.0 |  0.0 |  0.0 |  0.0 |  0.0 |  0.0 |  0.0 |  0.0 |  0.0 |\n",
       "| TEC |  0.0 |  0.0 |  0.0 |  0.0 |  0.0 |  0.0 |  0.0 |  0.0 |  0.0 |  0.0 |  0.0 |  0.0 |  0.0 |  0.0 |  0.0 |  0.0 |\n",
       "| TR_C_gene |  0.0 |  0.0 |  0.0 |  0.0 |  0.0 |  0.0 |  0.0 |  0.0 |  0.0 |  0.0 |  0.0 |  0.0 |  0.0 |  0.0 |  0.0 |  0.0 |\n",
       "| TR_D_gene |  0.0 |  0.0 |  0.0 |  0.0 |  0.0 |  0.0 |  0.0 |  0.0 |  0.0 |  0.0 |  0.0 |  0.0 |  0.0 |  0.0 |  0.0 |  0.0 |\n",
       "| TR_J_gene |  0.0 |  0.0 |  0.0 |  0.0 |  0.0 |  0.0 |  0.0 |  0.0 |  0.0 |  0.0 |  0.0 |  0.0 |  0.0 |  0.0 |  0.0 |  0.0 |\n",
       "| TR_J_pseudogene |  0.0 |  0.0 |  0.0 |  0.0 |  0.0 |  0.0 |  0.0 |  0.0 |  0.0 |  0.0 |  0.0 |  0.0 |  0.0 |  0.0 |  0.0 |  0.0 |\n",
       "| TR_V_gene |  0.0 |  0.0 |  0.0 |  0.0 |  0.0 |  0.0 |  0.0 |  0.0 |  0.0 |  0.0 |  0.0 |  0.0 |  0.0 |  0.0 |  0.0 |  0.0 |\n",
       "| TR_V_pseudogene |  0.0 |  0.0 |  0.0 |  0.0 |  0.0 |  0.0 |  0.0 |  0.0 |  0.0 |  0.0 |  0.0 |  0.0 |  0.0 |  0.0 |  0.0 |  0.0 |\n",
       "| transcribed_unitary_pseudogene |  0.0 |  0.0 |  0.0 |  0.0 |  0.0 |  0.0 |  0.0 |  0.0 |  0.0 |  0.0 |  0.0 |  0.0 |  0.0 |  0.0 |  0.0 |  0.0 |\n",
       "| transcribed_unprocessed_pseudogene |  0.0 |  0.0 |  0.0 |  0.0 |  0.0 |  0.0 |  0.0 |  0.0 |  0.0 |  0.0 |  0.0 |  0.0 |  0.0 |  0.0 |  0.0 |  0.0 |\n",
       "| translated_processed_pseudogene |  0.0 |  0.0 |  0.0 |  0.0 |  0.0 |  0.0 |  0.0 |  0.0 |  0.0 |  0.0 |  0.0 |  0.0 |  0.0 |  0.0 |  0.0 |  0.0 |\n",
       "| unitary_pseudogene |  0.0 |  0.0 |  0.0 |  0.0 |  0.0 |  0.0 |  0.0 |  0.0 |  0.0 |  0.0 |  0.0 |  0.0 |  0.0 |  0.0 |  0.0 |  0.0 |\n",
       "| vault_RNA |  0.0 |  0.0 |  0.0 |  0.0 |  0.0 |  0.0 |  0.0 |  0.0 |  0.0 |  0.0 |  0.0 |  0.0 |  0.0 |  0.0 |  0.0 |  0.0 |\n",
       "\n"
      ],
      "text/plain": [
       "                                   VL11 VL12 VL13 VL14 VL15 VL16 VL17 VL18 VL19\n",
       "protein_coding                     59.7 67.6 79.8 78.9 81.0 81.5 82.7 80.8 80.4\n",
       "__no_feature                        5.3  7.6  6.7  7.9  7.5  7.5  6.3  8.5  9.2\n",
       "__ambiguous                         3.1  3.5  4.1  4.2  4.4  4.3  4.3  4.2  4.1\n",
       "__alignment_not_unique              2.4  2.9  3.6  3.6  3.9  3.7  4.0  3.4  3.6\n",
       "viral                              27.6 15.9  3.2  2.6  0.0  0.0  0.0  0.0  0.0\n",
       "Mt_rRNA                             0.4  0.7  0.7  0.8  1.1  0.9  1.0  1.0  0.8\n",
       "lncRNA                              1.3  1.5  1.5  1.6  1.7  1.7  1.3  1.7  1.6\n",
       "processed_pseudogene                0.1  0.1  0.2  0.2  0.2  0.2  0.2  0.2  0.2\n",
       "unprocessed_pseudogene              0.0  0.0  0.0  0.0  0.0  0.0  0.0  0.0  0.0\n",
       "transcribed_processed_pseudogene    0.0  0.0  0.0  0.0  0.1  0.0  0.0  0.0  0.0\n",
       "__too_low_aQual                     0.0  0.0  0.0  0.0  0.0  0.0  0.0  0.0  0.0\n",
       "__not_aligned                       0.0  0.0  0.0  0.0  0.0  0.0  0.0  0.0  0.0\n",
       "artifact                            0.0  0.0  0.0  0.0  0.0  0.0  0.0  0.0  0.0\n",
       "IG_C_gene                           0.0  0.0  0.0  0.0  0.0  0.0  0.0  0.0  0.0\n",
       "IG_C_pseudogene                     0.0  0.0  0.0  0.0  0.0  0.0  0.0  0.0  0.0\n",
       "IG_D_gene                           0.0  0.0  0.0  0.0  0.0  0.0  0.0  0.0  0.0\n",
       "IG_J_gene                           0.0  0.0  0.0  0.0  0.0  0.0  0.0  0.0  0.0\n",
       "IG_J_pseudogene                     0.0  0.0  0.0  0.0  0.0  0.0  0.0  0.0  0.0\n",
       "IG_pseudogene                       0.0  0.0  0.0  0.0  0.0  0.0  0.0  0.0  0.0\n",
       "IG_V_gene                           0.0  0.0  0.0  0.0  0.0  0.0  0.0  0.0  0.0\n",
       "IG_V_pseudogene                     0.0  0.0  0.0  0.0  0.0  0.0  0.0  0.0  0.0\n",
       "miRNA                               0.0  0.0  0.0  0.0  0.0  0.0  0.0  0.0  0.0\n",
       "misc_RNA                            0.0  0.0  0.0  0.0  0.0  0.0  0.0  0.0  0.0\n",
       "Mt_tRNA                             0.0  0.0  0.0  0.0  0.0  0.0  0.0  0.0  0.0\n",
       "pseudogene                          0.0  0.0  0.0  0.0  0.0  0.0  0.0  0.0  0.0\n",
       "ribozyme                            0.0  0.0  0.0  0.0  0.0  0.0  0.0  0.0  0.0\n",
       "rRNA                                0.0  0.0  0.0  0.0  0.0  0.0  0.0  0.0  0.0\n",
       "rRNA_pseudogene                     0.0  0.0  0.0  0.0  0.0  0.0  0.0  0.0  0.0\n",
       "scaRNA                              0.0  0.0  0.0  0.0  0.0  0.0  0.0  0.0  0.0\n",
       "scRNA                               0.0  0.0  0.0  0.0  0.0  0.0  0.0  0.0  0.0\n",
       "snoRNA                              0.0  0.0  0.0  0.0  0.0  0.0  0.0  0.0  0.0\n",
       "snRNA                               0.0  0.0  0.0  0.0  0.0  0.0  0.0  0.0  0.0\n",
       "sRNA                                0.0  0.0  0.0  0.0  0.0  0.0  0.0  0.0  0.0\n",
       "TEC                                 0.0  0.0  0.0  0.0  0.0  0.0  0.0  0.0  0.0\n",
       "TR_C_gene                           0.0  0.0  0.0  0.0  0.0  0.0  0.0  0.0  0.0\n",
       "TR_D_gene                           0.0  0.0  0.0  0.0  0.0  0.0  0.0  0.0  0.0\n",
       "TR_J_gene                           0.0  0.0  0.0  0.0  0.0  0.0  0.0  0.0  0.0\n",
       "TR_J_pseudogene                     0.0  0.0  0.0  0.0  0.0  0.0  0.0  0.0  0.0\n",
       "TR_V_gene                           0.0  0.0  0.0  0.0  0.0  0.0  0.0  0.0  0.0\n",
       "TR_V_pseudogene                     0.0  0.0  0.0  0.0  0.0  0.0  0.0  0.0  0.0\n",
       "transcribed_unitary_pseudogene      0.0  0.0  0.0  0.0  0.0  0.0  0.0  0.0  0.0\n",
       "transcribed_unprocessed_pseudogene  0.0  0.0  0.0  0.0  0.0  0.0  0.0  0.0  0.0\n",
       "translated_processed_pseudogene     0.0  0.0  0.0  0.0  0.0  0.0  0.0  0.0  0.0\n",
       "unitary_pseudogene                  0.0  0.0  0.0  0.0  0.0  0.0  0.0  0.0  0.0\n",
       "vault_RNA                           0.0  0.0  0.0  0.0  0.0  0.0  0.0  0.0  0.0\n",
       "                                   VL20 VL21 VL22 VL23 VL24 VL25 VL26\n",
       "protein_coding                     84.1 82.4 81.7 80.8 81.1 80.5 78.9\n",
       "__no_feature                        5.3  6.8  7.6  8.2  6.3  6.4  6.6\n",
       "__ambiguous                         4.2  3.4  3.3  3.2  3.4  3.3  3.3\n",
       "__alignment_not_unique              3.5  3.5  3.5  3.4  3.7  3.5  5.0\n",
       "viral                               0.0  0.0  0.0  0.0  1.2  1.4  1.4\n",
       "Mt_rRNA                             0.9  2.8  2.7  3.2  3.2  3.8  3.7\n",
       "lncRNA                              1.6  0.9  0.9  0.9  0.8  0.8  0.8\n",
       "processed_pseudogene                0.2  0.1  0.1  0.1  0.1  0.1  0.1\n",
       "unprocessed_pseudogene              0.0  0.1  0.1  0.1  0.1  0.1  0.2\n",
       "transcribed_processed_pseudogene    0.1  0.0  0.0  0.0  0.0  0.0  0.0\n",
       "__too_low_aQual                     0.0  0.0  0.0  0.0  0.0  0.0  0.0\n",
       "__not_aligned                       0.0  0.0  0.0  0.0  0.0  0.0  0.0\n",
       "artifact                            0.0  0.0  0.0  0.0  0.0  0.0  0.0\n",
       "IG_C_gene                           0.0  0.0  0.0  0.0  0.0  0.0  0.0\n",
       "IG_C_pseudogene                     0.0  0.0  0.0  0.0  0.0  0.0  0.0\n",
       "IG_D_gene                           0.0  0.0  0.0  0.0  0.0  0.0  0.0\n",
       "IG_J_gene                           0.0  0.0  0.0  0.0  0.0  0.0  0.0\n",
       "IG_J_pseudogene                     0.0  0.0  0.0  0.0  0.0  0.0  0.0\n",
       "IG_pseudogene                       0.0  0.0  0.0  0.0  0.0  0.0  0.0\n",
       "IG_V_gene                           0.0  0.0  0.0  0.0  0.0  0.0  0.0\n",
       "IG_V_pseudogene                     0.0  0.0  0.0  0.0  0.0  0.0  0.0\n",
       "miRNA                               0.0  0.0  0.0  0.0  0.0  0.0  0.0\n",
       "misc_RNA                            0.0  0.0  0.0  0.0  0.0  0.0  0.0\n",
       "Mt_tRNA                             0.0  0.0  0.0  0.0  0.0  0.0  0.0\n",
       "pseudogene                          0.0  0.0  0.0  0.0  0.0  0.0  0.0\n",
       "ribozyme                            0.0  0.0  0.0  0.0  0.0  0.0  0.0\n",
       "rRNA                                0.0  0.0  0.0  0.0  0.0  0.0  0.0\n",
       "rRNA_pseudogene                     0.0  0.0  0.0  0.0  0.0  0.0  0.0\n",
       "scaRNA                              0.0  0.0  0.0  0.0  0.0  0.0  0.0\n",
       "scRNA                               0.0  0.0  0.0  0.0  0.0  0.0  0.0\n",
       "snoRNA                              0.0  0.0  0.0  0.0  0.0  0.0  0.0\n",
       "snRNA                               0.0  0.0  0.0  0.0  0.0  0.0  0.0\n",
       "sRNA                                0.0  0.0  0.0  0.0  0.0  0.0  0.0\n",
       "TEC                                 0.0  0.0  0.0  0.0  0.0  0.0  0.0\n",
       "TR_C_gene                           0.0  0.0  0.0  0.0  0.0  0.0  0.0\n",
       "TR_D_gene                           0.0  0.0  0.0  0.0  0.0  0.0  0.0\n",
       "TR_J_gene                           0.0  0.0  0.0  0.0  0.0  0.0  0.0\n",
       "TR_J_pseudogene                     0.0  0.0  0.0  0.0  0.0  0.0  0.0\n",
       "TR_V_gene                           0.0  0.0  0.0  0.0  0.0  0.0  0.0\n",
       "TR_V_pseudogene                     0.0  0.0  0.0  0.0  0.0  0.0  0.0\n",
       "transcribed_unitary_pseudogene      0.0  0.0  0.0  0.0  0.0  0.0  0.0\n",
       "transcribed_unprocessed_pseudogene  0.0  0.0  0.0  0.0  0.0  0.0  0.0\n",
       "translated_processed_pseudogene     0.0  0.0  0.0  0.0  0.0  0.0  0.0\n",
       "unitary_pseudogene                  0.0  0.0  0.0  0.0  0.0  0.0  0.0\n",
       "vault_RNA                           0.0  0.0  0.0  0.0  0.0  0.0  0.0"
      ]
     },
     "metadata": {},
     "output_type": "display_data"
    }
   ],
   "source": [
    "stat = round(sweep(mapping_qc,2,colSums(mapping_qc),'/')*100,digits = 1)\n",
    "stat[order(rowSums(stat),decreasing = T),]"
   ]
  },
  {
   "cell_type": "code",
   "execution_count": 14,
   "id": "b6519495-6e1c-4ad3-8bcf-58a7d1e4c3b9",
   "metadata": {},
   "outputs": [],
   "source": [
    "write.csv(mapping_qc,'../../output/NGS-20250519/counts_analysis/mapping_qc.csv')\n",
    "write.csv(counts,'../../output/NGS-20250519/counts_analysis/counts_all_genes.csv')"
   ]
  },
  {
   "cell_type": "markdown",
   "id": "49a73981-6885-478b-aad0-a1f7c4111f34",
   "metadata": {},
   "source": [
    "# Viral expression"
   ]
  },
  {
   "cell_type": "code",
   "execution_count": 2,
   "id": "1c3df573-4d85-4feb-8da8-d58717cd71e6",
   "metadata": {},
   "outputs": [
    {
     "data": {
      "text/html": [
       "<table class=\"dataframe\">\n",
       "<caption>A data.frame: 16 × 7</caption>\n",
       "<thead>\n",
       "\t<tr><th></th><th scope=col>condition</th><th scope=col>replicate</th><th scope=col>tissue</th><th scope=col>organoid.stage</th><th scope=col>organoid.line</th><th scope=col>timepoint</th><th scope=col>name</th></tr>\n",
       "\t<tr><th></th><th scope=col>&lt;chr&gt;</th><th scope=col>&lt;chr&gt;</th><th scope=col>&lt;chr&gt;</th><th scope=col>&lt;chr&gt;</th><th scope=col>&lt;chr&gt;</th><th scope=col>&lt;chr&gt;</th><th scope=col>&lt;chr&gt;</th></tr>\n",
       "</thead>\n",
       "<tbody>\n",
       "\t<tr><th scope=row>VL11</th><td>MLB2          </td><td>s1</td><td>brain</td><td>NA    </td><td>NA    </td><td>10d</td><td>MLB2_brain_s1_10d_VL11        </td></tr>\n",
       "\t<tr><th scope=row>VL12</th><td>MLB2          </td><td>s2</td><td>brain</td><td>NA    </td><td>NA    </td><td>10d</td><td>MLB2_brain_s2_10d_VL12        </td></tr>\n",
       "\t<tr><th scope=row>VL13</th><td>VA1           </td><td>s1</td><td>brain</td><td>NA    </td><td>NA    </td><td>10d</td><td>VA1_brain_s1_10d_VL13         </td></tr>\n",
       "\t<tr><th scope=row>VL14</th><td>VA1           </td><td>s2</td><td>brain</td><td>NA    </td><td>NA    </td><td>10d</td><td>VA1_brain_s2_10d_VL14         </td></tr>\n",
       "\t<tr><th scope=row>VL15</th><td>HAstV4        </td><td>s1</td><td>brain</td><td>NA    </td><td>NA    </td><td>10d</td><td>HAstV4_brain_s1_10d_VL15      </td></tr>\n",
       "\t<tr><th scope=row>VL16</th><td>HAstV4        </td><td>s2</td><td>brain</td><td>NA    </td><td>NA    </td><td>10d</td><td>HAstV4_brain_s2_10d_VL16      </td></tr>\n",
       "\t<tr><th scope=row>VL17</th><td>mock          </td><td>s1</td><td>brain</td><td>NA    </td><td>NA    </td><td>10d</td><td>mock_brain_s1_10d_VL17        </td></tr>\n",
       "\t<tr><th scope=row>VL18</th><td>mock          </td><td>s2</td><td>brain</td><td>NA    </td><td>NA    </td><td>10d</td><td>mock_brain_s2_10d_VL18        </td></tr>\n",
       "\t<tr><th scope=row>VL19</th><td>mock + trypsin</td><td>s1</td><td>brain</td><td>NA    </td><td>NA    </td><td>10d</td><td>mock+trypsin_brain_s1_10d_VL19</td></tr>\n",
       "\t<tr><th scope=row>VL20</th><td>mock + trypsin</td><td>s2</td><td>brain</td><td>NA    </td><td>NA    </td><td>10d</td><td>mock+trypsin_brain_s2_10d_VL20</td></tr>\n",
       "\t<tr><th scope=row>VL21</th><td>mock          </td><td>s1</td><td>gut  </td><td>undiff</td><td>duo354</td><td>24h</td><td>mock_gut_undiff_duo354_s1_VL21</td></tr>\n",
       "\t<tr><th scope=row>VL22</th><td>mock          </td><td>s2</td><td>gut  </td><td>undiff</td><td>duo354</td><td>24h</td><td>mock_gut_undiff_duo354_s2_VL22</td></tr>\n",
       "\t<tr><th scope=row>VL23</th><td>mock          </td><td>s3</td><td>gut  </td><td>undiff</td><td>duo354</td><td>24h</td><td>mock_gut_undiff_duo354_s3_VL23</td></tr>\n",
       "\t<tr><th scope=row>VL24</th><td>MLB2          </td><td>s1</td><td>gut  </td><td>undiff</td><td>duo354</td><td>24h</td><td>MLB2_gut_undiff_duo354_s1_VL24</td></tr>\n",
       "\t<tr><th scope=row>VL25</th><td>MLB2          </td><td>s2</td><td>gut  </td><td>undiff</td><td>duo354</td><td>24h</td><td>MLB2_gut_undiff_duo354_s2_VL25</td></tr>\n",
       "\t<tr><th scope=row>VL26</th><td>MLB2          </td><td>s3</td><td>gut  </td><td>undiff</td><td>duo354</td><td>24h</td><td>MLB2_gut_undiff_duo354_s3_VL26</td></tr>\n",
       "</tbody>\n",
       "</table>\n"
      ],
      "text/latex": [
       "A data.frame: 16 × 7\n",
       "\\begin{tabular}{r|lllllll}\n",
       "  & condition & replicate & tissue & organoid.stage & organoid.line & timepoint & name\\\\\n",
       "  & <chr> & <chr> & <chr> & <chr> & <chr> & <chr> & <chr>\\\\\n",
       "\\hline\n",
       "\tVL11 & MLB2           & s1 & brain & NA     & NA     & 10d & MLB2\\_brain\\_s1\\_10d\\_VL11        \\\\\n",
       "\tVL12 & MLB2           & s2 & brain & NA     & NA     & 10d & MLB2\\_brain\\_s2\\_10d\\_VL12        \\\\\n",
       "\tVL13 & VA1            & s1 & brain & NA     & NA     & 10d & VA1\\_brain\\_s1\\_10d\\_VL13         \\\\\n",
       "\tVL14 & VA1            & s2 & brain & NA     & NA     & 10d & VA1\\_brain\\_s2\\_10d\\_VL14         \\\\\n",
       "\tVL15 & HAstV4         & s1 & brain & NA     & NA     & 10d & HAstV4\\_brain\\_s1\\_10d\\_VL15      \\\\\n",
       "\tVL16 & HAstV4         & s2 & brain & NA     & NA     & 10d & HAstV4\\_brain\\_s2\\_10d\\_VL16      \\\\\n",
       "\tVL17 & mock           & s1 & brain & NA     & NA     & 10d & mock\\_brain\\_s1\\_10d\\_VL17        \\\\\n",
       "\tVL18 & mock           & s2 & brain & NA     & NA     & 10d & mock\\_brain\\_s2\\_10d\\_VL18        \\\\\n",
       "\tVL19 & mock + trypsin & s1 & brain & NA     & NA     & 10d & mock+trypsin\\_brain\\_s1\\_10d\\_VL19\\\\\n",
       "\tVL20 & mock + trypsin & s2 & brain & NA     & NA     & 10d & mock+trypsin\\_brain\\_s2\\_10d\\_VL20\\\\\n",
       "\tVL21 & mock           & s1 & gut   & undiff & duo354 & 24h & mock\\_gut\\_undiff\\_duo354\\_s1\\_VL21\\\\\n",
       "\tVL22 & mock           & s2 & gut   & undiff & duo354 & 24h & mock\\_gut\\_undiff\\_duo354\\_s2\\_VL22\\\\\n",
       "\tVL23 & mock           & s3 & gut   & undiff & duo354 & 24h & mock\\_gut\\_undiff\\_duo354\\_s3\\_VL23\\\\\n",
       "\tVL24 & MLB2           & s1 & gut   & undiff & duo354 & 24h & MLB2\\_gut\\_undiff\\_duo354\\_s1\\_VL24\\\\\n",
       "\tVL25 & MLB2           & s2 & gut   & undiff & duo354 & 24h & MLB2\\_gut\\_undiff\\_duo354\\_s2\\_VL25\\\\\n",
       "\tVL26 & MLB2           & s3 & gut   & undiff & duo354 & 24h & MLB2\\_gut\\_undiff\\_duo354\\_s3\\_VL26\\\\\n",
       "\\end{tabular}\n"
      ],
      "text/markdown": [
       "\n",
       "A data.frame: 16 × 7\n",
       "\n",
       "| <!--/--> | condition &lt;chr&gt; | replicate &lt;chr&gt; | tissue &lt;chr&gt; | organoid.stage &lt;chr&gt; | organoid.line &lt;chr&gt; | timepoint &lt;chr&gt; | name &lt;chr&gt; |\n",
       "|---|---|---|---|---|---|---|---|\n",
       "| VL11 | MLB2           | s1 | brain | NA     | NA     | 10d | MLB2_brain_s1_10d_VL11         |\n",
       "| VL12 | MLB2           | s2 | brain | NA     | NA     | 10d | MLB2_brain_s2_10d_VL12         |\n",
       "| VL13 | VA1            | s1 | brain | NA     | NA     | 10d | VA1_brain_s1_10d_VL13          |\n",
       "| VL14 | VA1            | s2 | brain | NA     | NA     | 10d | VA1_brain_s2_10d_VL14          |\n",
       "| VL15 | HAstV4         | s1 | brain | NA     | NA     | 10d | HAstV4_brain_s1_10d_VL15       |\n",
       "| VL16 | HAstV4         | s2 | brain | NA     | NA     | 10d | HAstV4_brain_s2_10d_VL16       |\n",
       "| VL17 | mock           | s1 | brain | NA     | NA     | 10d | mock_brain_s1_10d_VL17         |\n",
       "| VL18 | mock           | s2 | brain | NA     | NA     | 10d | mock_brain_s2_10d_VL18         |\n",
       "| VL19 | mock + trypsin | s1 | brain | NA     | NA     | 10d | mock+trypsin_brain_s1_10d_VL19 |\n",
       "| VL20 | mock + trypsin | s2 | brain | NA     | NA     | 10d | mock+trypsin_brain_s2_10d_VL20 |\n",
       "| VL21 | mock           | s1 | gut   | undiff | duo354 | 24h | mock_gut_undiff_duo354_s1_VL21 |\n",
       "| VL22 | mock           | s2 | gut   | undiff | duo354 | 24h | mock_gut_undiff_duo354_s2_VL22 |\n",
       "| VL23 | mock           | s3 | gut   | undiff | duo354 | 24h | mock_gut_undiff_duo354_s3_VL23 |\n",
       "| VL24 | MLB2           | s1 | gut   | undiff | duo354 | 24h | MLB2_gut_undiff_duo354_s1_VL24 |\n",
       "| VL25 | MLB2           | s2 | gut   | undiff | duo354 | 24h | MLB2_gut_undiff_duo354_s2_VL25 |\n",
       "| VL26 | MLB2           | s3 | gut   | undiff | duo354 | 24h | MLB2_gut_undiff_duo354_s3_VL26 |\n",
       "\n"
      ],
      "text/plain": [
       "     condition      replicate tissue organoid.stage organoid.line timepoint\n",
       "VL11 MLB2           s1        brain  NA             NA            10d      \n",
       "VL12 MLB2           s2        brain  NA             NA            10d      \n",
       "VL13 VA1            s1        brain  NA             NA            10d      \n",
       "VL14 VA1            s2        brain  NA             NA            10d      \n",
       "VL15 HAstV4         s1        brain  NA             NA            10d      \n",
       "VL16 HAstV4         s2        brain  NA             NA            10d      \n",
       "VL17 mock           s1        brain  NA             NA            10d      \n",
       "VL18 mock           s2        brain  NA             NA            10d      \n",
       "VL19 mock + trypsin s1        brain  NA             NA            10d      \n",
       "VL20 mock + trypsin s2        brain  NA             NA            10d      \n",
       "VL21 mock           s1        gut    undiff         duo354        24h      \n",
       "VL22 mock           s2        gut    undiff         duo354        24h      \n",
       "VL23 mock           s3        gut    undiff         duo354        24h      \n",
       "VL24 MLB2           s1        gut    undiff         duo354        24h      \n",
       "VL25 MLB2           s2        gut    undiff         duo354        24h      \n",
       "VL26 MLB2           s3        gut    undiff         duo354        24h      \n",
       "     name                          \n",
       "VL11 MLB2_brain_s1_10d_VL11        \n",
       "VL12 MLB2_brain_s2_10d_VL12        \n",
       "VL13 VA1_brain_s1_10d_VL13         \n",
       "VL14 VA1_brain_s2_10d_VL14         \n",
       "VL15 HAstV4_brain_s1_10d_VL15      \n",
       "VL16 HAstV4_brain_s2_10d_VL16      \n",
       "VL17 mock_brain_s1_10d_VL17        \n",
       "VL18 mock_brain_s2_10d_VL18        \n",
       "VL19 mock+trypsin_brain_s1_10d_VL19\n",
       "VL20 mock+trypsin_brain_s2_10d_VL20\n",
       "VL21 mock_gut_undiff_duo354_s1_VL21\n",
       "VL22 mock_gut_undiff_duo354_s2_VL22\n",
       "VL23 mock_gut_undiff_duo354_s3_VL23\n",
       "VL24 MLB2_gut_undiff_duo354_s1_VL24\n",
       "VL25 MLB2_gut_undiff_duo354_s2_VL25\n",
       "VL26 MLB2_gut_undiff_duo354_s3_VL26"
      ]
     },
     "metadata": {},
     "output_type": "display_data"
    }
   ],
   "source": [
    "write.table(samples, file = \"samples_out.tsv\", sep = \"\\t\", row.names = TRUE)\n"
   ]
  },
  {
   "cell_type": "code",
   "execution_count": 3,
   "id": "e7b009bd-ab61-4f10-a725-5bca0e0c24d4",
   "metadata": {},
   "outputs": [
    {
     "name": "stdout",
     "output_type": "stream",
     "text": [
      "          condition replicate tissue organoid.stage organoid.line timepoint\n",
      "VL11           MLB2        s1  brain           <NA>          <NA>       10d\n",
      "VL12           MLB2        s2  brain           <NA>          <NA>       10d\n",
      "VL13            VA1        s1  brain           <NA>          <NA>       10d\n",
      "VL14            VA1        s2  brain           <NA>          <NA>       10d\n",
      "VL15         HAstV4        s1  brain           <NA>          <NA>       10d\n",
      "VL16         HAstV4        s2  brain           <NA>          <NA>       10d\n",
      "VL17           mock        s1  brain           <NA>          <NA>       10d\n",
      "VL18           mock        s2  brain           <NA>          <NA>       10d\n",
      "VL19 mock + trypsin        s1  brain           <NA>          <NA>       10d\n",
      "VL20 mock + trypsin        s2  brain           <NA>          <NA>       10d\n",
      "VL21           mock        s1    gut         undiff        duo354       24h\n",
      "VL22           mock        s2    gut         undiff        duo354       24h\n",
      "VL23           mock        s3    gut         undiff        duo354       24h\n",
      "VL24           MLB2        s1    gut         undiff        duo354       24h\n",
      "VL25           MLB2        s2    gut         undiff        duo354       24h\n",
      "VL26           MLB2        s3    gut         undiff        duo354       24h\n",
      "                               name   id\n",
      "VL11         MLB2_brain_s1_10d_VL11 VL11\n",
      "VL12         MLB2_brain_s2_10d_VL12 VL12\n",
      "VL13          VA1_brain_s1_10d_VL13 VL13\n",
      "VL14          VA1_brain_s2_10d_VL14 VL14\n",
      "VL15       HAstV4_brain_s1_10d_VL15 VL15\n",
      "VL16       HAstV4_brain_s2_10d_VL16 VL16\n",
      "VL17         mock_brain_s1_10d_VL17 VL17\n",
      "VL18         mock_brain_s2_10d_VL18 VL18\n",
      "VL19 mock+trypsin_brain_s1_10d_VL19 VL19\n",
      "VL20 mock+trypsin_brain_s2_10d_VL20 VL20\n",
      "VL21 mock_gut_undiff_duo354_s1_VL21 VL21\n",
      "VL22 mock_gut_undiff_duo354_s2_VL22 VL22\n",
      "VL23 mock_gut_undiff_duo354_s3_VL23 VL23\n",
      "VL24 MLB2_gut_undiff_duo354_s1_VL24 VL24\n",
      "VL25 MLB2_gut_undiff_duo354_s2_VL25 VL25\n",
      "VL26 MLB2_gut_undiff_duo354_s3_VL26 VL26\n"
     ]
    }
   ],
   "source": [
    "# Add the \"id\" column with values VL11 to VL26\n",
    "samples$id <- paste0(\"VL\", 11:26)\n",
    "\n",
    "# View the updated data frame\n",
    "print(samples)"
   ]
  },
  {
   "cell_type": "code",
   "execution_count": 4,
   "id": "a07ef68b-d915-47f6-b8ef-3fabccb395c2",
   "metadata": {},
   "outputs": [],
   "source": [
    "counts = as.matrix(read.csv('../../output/NGS-20250519/counts_analysis/counts_all_genes.csv',row.names = 1))\n",
    "#samples = read.csv('samples.csv',row.names = 1)\n",
    "genes = read.csv('../../output/NGS-20250519/genes.csv',row.names = 1)"
   ]
  },
  {
   "cell_type": "code",
   "execution_count": 5,
   "id": "1ac4d769-456e-41a0-8957-1f208c493b19",
   "metadata": {},
   "outputs": [
    {
     "data": {
      "text/html": [
       "<table class=\"dataframe\">\n",
       "<caption>A matrix: 3 × 16 of type int</caption>\n",
       "<thead>\n",
       "\t<tr><th></th><th scope=col>MLB2_brain_s1_10d_VL11</th><th scope=col>MLB2_brain_s2_10d_VL12</th><th scope=col>VA1_brain_s1_10d_VL13</th><th scope=col>VA1_brain_s2_10d_VL14</th><th scope=col>HAstV4_brain_s1_10d_VL15</th><th scope=col>HAstV4_brain_s2_10d_VL16</th><th scope=col>mock_brain_s1_10d_VL17</th><th scope=col>mock_brain_s2_10d_VL18</th><th scope=col>mock+trypsin_brain_s1_10d_VL19</th><th scope=col>mock+trypsin_brain_s2_10d_VL20</th><th scope=col>mock_gut_undiff_duo354_s1_VL21</th><th scope=col>mock_gut_undiff_duo354_s2_VL22</th><th scope=col>mock_gut_undiff_duo354_s3_VL23</th><th scope=col>MLB2_gut_undiff_duo354_s1_VL24</th><th scope=col>MLB2_gut_undiff_duo354_s2_VL25</th><th scope=col>MLB2_gut_undiff_duo354_s3_VL26</th></tr>\n",
       "</thead>\n",
       "<tbody>\n",
       "\t<tr><th scope=row>HAstV4</th><td>      0</td><td>      0</td><td>     0</td><td>     0</td><td>24</td><td>30</td><td>0</td><td>0</td><td>0</td><td>0</td><td>0</td><td>0</td><td>0</td><td>     0</td><td>     0</td><td>     0</td></tr>\n",
       "\t<tr><th scope=row>MLB2</th><td>7759682</td><td>4351901</td><td>     0</td><td>     0</td><td> 0</td><td> 2</td><td>0</td><td>0</td><td>2</td><td>0</td><td>0</td><td>0</td><td>0</td><td>360646</td><td>350751</td><td>404083</td></tr>\n",
       "\t<tr><th scope=row>VA1</th><td>      0</td><td>      0</td><td>981036</td><td>716999</td><td> 0</td><td> 0</td><td>0</td><td>0</td><td>0</td><td>0</td><td>0</td><td>0</td><td>0</td><td>     0</td><td>     0</td><td>     0</td></tr>\n",
       "</tbody>\n",
       "</table>\n"
      ],
      "text/latex": [
       "A matrix: 3 × 16 of type int\n",
       "\\begin{tabular}{r|llllllllllllllll}\n",
       "  & MLB2\\_brain\\_s1\\_10d\\_VL11 & MLB2\\_brain\\_s2\\_10d\\_VL12 & VA1\\_brain\\_s1\\_10d\\_VL13 & VA1\\_brain\\_s2\\_10d\\_VL14 & HAstV4\\_brain\\_s1\\_10d\\_VL15 & HAstV4\\_brain\\_s2\\_10d\\_VL16 & mock\\_brain\\_s1\\_10d\\_VL17 & mock\\_brain\\_s2\\_10d\\_VL18 & mock+trypsin\\_brain\\_s1\\_10d\\_VL19 & mock+trypsin\\_brain\\_s2\\_10d\\_VL20 & mock\\_gut\\_undiff\\_duo354\\_s1\\_VL21 & mock\\_gut\\_undiff\\_duo354\\_s2\\_VL22 & mock\\_gut\\_undiff\\_duo354\\_s3\\_VL23 & MLB2\\_gut\\_undiff\\_duo354\\_s1\\_VL24 & MLB2\\_gut\\_undiff\\_duo354\\_s2\\_VL25 & MLB2\\_gut\\_undiff\\_duo354\\_s3\\_VL26\\\\\n",
       "\\hline\n",
       "\tHAstV4 &       0 &       0 &      0 &      0 & 24 & 30 & 0 & 0 & 0 & 0 & 0 & 0 & 0 &      0 &      0 &      0\\\\\n",
       "\tMLB2 & 7759682 & 4351901 &      0 &      0 &  0 &  2 & 0 & 0 & 2 & 0 & 0 & 0 & 0 & 360646 & 350751 & 404083\\\\\n",
       "\tVA1 &       0 &       0 & 981036 & 716999 &  0 &  0 & 0 & 0 & 0 & 0 & 0 & 0 & 0 &      0 &      0 &      0\\\\\n",
       "\\end{tabular}\n"
      ],
      "text/markdown": [
       "\n",
       "A matrix: 3 × 16 of type int\n",
       "\n",
       "| <!--/--> | MLB2_brain_s1_10d_VL11 | MLB2_brain_s2_10d_VL12 | VA1_brain_s1_10d_VL13 | VA1_brain_s2_10d_VL14 | HAstV4_brain_s1_10d_VL15 | HAstV4_brain_s2_10d_VL16 | mock_brain_s1_10d_VL17 | mock_brain_s2_10d_VL18 | mock+trypsin_brain_s1_10d_VL19 | mock+trypsin_brain_s2_10d_VL20 | mock_gut_undiff_duo354_s1_VL21 | mock_gut_undiff_duo354_s2_VL22 | mock_gut_undiff_duo354_s3_VL23 | MLB2_gut_undiff_duo354_s1_VL24 | MLB2_gut_undiff_duo354_s2_VL25 | MLB2_gut_undiff_duo354_s3_VL26 |\n",
       "|---|---|---|---|---|---|---|---|---|---|---|---|---|---|---|---|---|\n",
       "| HAstV4 |       0 |       0 |      0 |      0 | 24 | 30 | 0 | 0 | 0 | 0 | 0 | 0 | 0 |      0 |      0 |      0 |\n",
       "| MLB2 | 7759682 | 4351901 |      0 |      0 |  0 |  2 | 0 | 0 | 2 | 0 | 0 | 0 | 0 | 360646 | 350751 | 404083 |\n",
       "| VA1 |       0 |       0 | 981036 | 716999 |  0 |  0 | 0 | 0 | 0 | 0 | 0 | 0 | 0 |      0 |      0 |      0 |\n",
       "\n"
      ],
      "text/plain": [
       "       MLB2_brain_s1_10d_VL11 MLB2_brain_s2_10d_VL12 VA1_brain_s1_10d_VL13\n",
       "HAstV4       0                      0                     0               \n",
       "MLB2   7759682                4351901                     0               \n",
       "VA1          0                      0                981036               \n",
       "       VA1_brain_s2_10d_VL14 HAstV4_brain_s1_10d_VL15 HAstV4_brain_s2_10d_VL16\n",
       "HAstV4      0                24                       30                      \n",
       "MLB2        0                 0                        2                      \n",
       "VA1    716999                 0                        0                      \n",
       "       mock_brain_s1_10d_VL17 mock_brain_s2_10d_VL18\n",
       "HAstV4 0                      0                     \n",
       "MLB2   0                      0                     \n",
       "VA1    0                      0                     \n",
       "       mock+trypsin_brain_s1_10d_VL19 mock+trypsin_brain_s2_10d_VL20\n",
       "HAstV4 0                              0                             \n",
       "MLB2   2                              0                             \n",
       "VA1    0                              0                             \n",
       "       mock_gut_undiff_duo354_s1_VL21 mock_gut_undiff_duo354_s2_VL22\n",
       "HAstV4 0                              0                             \n",
       "MLB2   0                              0                             \n",
       "VA1    0                              0                             \n",
       "       mock_gut_undiff_duo354_s3_VL23 MLB2_gut_undiff_duo354_s1_VL24\n",
       "HAstV4 0                                   0                        \n",
       "MLB2   0                              360646                        \n",
       "VA1    0                                   0                        \n",
       "       MLB2_gut_undiff_duo354_s2_VL25 MLB2_gut_undiff_duo354_s3_VL26\n",
       "HAstV4      0                              0                        \n",
       "MLB2   350751                         404083                        \n",
       "VA1         0                              0                        "
      ]
     },
     "metadata": {},
     "output_type": "display_data"
    }
   ],
   "source": [
    "vcounts = counts[genes$gene_biotype =='viral' ,]\n",
    "colnames(vcounts) = samples$name\n",
    "vcounts"
   ]
  },
  {
   "cell_type": "code",
   "execution_count": 6,
   "id": "dc4743f3-f850-47e5-bc3f-35f4a2401848",
   "metadata": {},
   "outputs": [],
   "source": [
    "colours = c(\n",
    "    HAstV4='#ff9301',\n",
    "    MLB2='#592bf5',\n",
    "    VA1='#1fbd6b',\n",
    "    mock='#919190'\n",
    "    #mock + trypsin='#e6194b'\n",
    "    )"
   ]
  },
  {
   "cell_type": "code",
   "execution_count": 6,
   "id": "1ab5d545-3892-4c7c-96aa-d3f35b24a96c",
   "metadata": {},
   "outputs": [],
   "source": [
    "#write.csv(vcounts,'../../output/NGS-20250519/counts_analysis/viral_genes.csv')"
   ]
  },
  {
   "cell_type": "code",
   "execution_count": 6,
   "id": "bb5db9c4-3ca2-4553-ad07-464c02c7d4d3",
   "metadata": {},
   "outputs": [],
   "source": [
    "#vcounts=read.table('../../output/NGS-20250519/counts_analysis/viral_genes.csv')"
   ]
  },
  {
   "cell_type": "code",
   "execution_count": 7,
   "id": "a8a7e65c-0b6b-4625-a426-8a046ef44b26",
   "metadata": {},
   "outputs": [
    {
     "data": {
      "image/png": "[encoded data removed]",
      "text/plain": [
       "plot without title"
      ]
     },
     "metadata": {
      "image/png": {
       "height": 1050,
       "width": 1050
      }
     },
     "output_type": "display_data"
    }
   ],
   "source": [
    "#viral expression for all samples VL11-VL20\n",
    "vcpm = sweep(vcounts,2,colSums(counts),'/')*1e6\n",
    "#pdf('../../figures/brain/01_viral_expression.pdf',w=8,h=8.5)\n",
    "par(mfrow=c(2,2),mar=c(6,4,1,0))\n",
    "options(repr.plot.width = 14, repr.plot.height = 14, repr.plot.res = 150) # defaults = 7,7,120\n",
    "barplot(log10(1+t(vcpm)),beside = TRUE,border=NA,xlab='Genome',ylab='log10(cpm+1)',col=colours[samples$condition])\n",
    "legend('topleft',fill=colours,legend=names(colours),bty='n',border=NA)\n",
    "barplot(log10(1+vcpm),beside = TRUE,border=NA,ylab='log10(cpm+1)',las=3,legend.text = TRUE,args.legend = list(bty='n',border=NA),col=colours[rownames(vcpm)])\n",
    "\n",
    "barplot(t(vcpm),beside = TRUE,border=NA,xlab='Genome',ylab='cpm',col=colours[samples$condition])\n",
    "legend('topleft',fill=colours,legend=names(colours),bty='n',border=NA)\n",
    "barplot(vcpm,beside = TRUE,border=NA,ylab='cpm',las=3,legend.text = TRUE,args.legend = list(bty='n',border=NA),col=colours[rownames(vcpm)])\n",
    "#dev.off()"
   ]
  },
  {
   "cell_type": "code",
   "execution_count": 9,
   "id": "acd8d5e7-f0dc-4122-a01b-742650ce8be4",
   "metadata": {},
   "outputs": [
    {
     "data": {
      "text/html": [
       "<strong>pdf:</strong> 2"
      ],
      "text/latex": [
       "\\textbf{pdf:} 2"
      ],
      "text/markdown": [
       "**pdf:** 2"
      ],
      "text/plain": [
       "pdf \n",
       "  2 "
      ]
     },
     "metadata": {},
     "output_type": "display_data"
    }
   ],
   "source": [
    "#viral expression for gut samples\n",
    "# Фильтруем образцы по ID\n",
    "subset_ids <- paste0(\"VL\", 21:26)\n",
    "keep_samples <- samples$id %in% subset_ids\n",
    "vcpm_sub <- vcpm[, keep_samples]\n",
    "samples_sub <- samples[keep_samples, ]\n",
    "\n",
    "pdf('../../figures/NGS-20250519/021_viral_expression_gut_VL21-26.pdf', w = 8, h = 8.5)\n",
    "\n",
    "# Увеличиваем левый отступ с 4 до 6 (mar = c(bottom, left, top, right))\n",
    "par(mfrow = c(2, 2), mar = c(10, 6, 2, 0), oma = c(0, 0, 3, 0))\n",
    "\n",
    "# График 1\n",
    "  beside = TRUE,\n",
    "  border = NA,\n",
    "  xlab = 'Genome',\n",
    "  ylab = 'log10(cpm+1)',\n",
    "  col = colours[samples_sub$condition],\n",
    "  las = 2,\n",
    "  cex.names = 0.6\n",
    ")\n",
    "legend('topleft', fill = colours, legend = names(colours), bty = 'n', border = NA)\n",
    "\n",
    "# График 2\n",
    "barplot(\n",
    "  log10(1 + vcpm_sub),\n",
    "  beside = TRUE,\n",
    "  border = NA,\n",
    "  ylab = 'log10(cpm+1)',\n",
    "  las = 2,\n",
    "  cex.names = 0.6,\n",
    "  legend.text = FALSE,\n",
    "  args.legend = list(bty = 'n', border = NA),\n",
    "  col = colours[rownames(vcpm_sub)]\n",
    ")\n",
    "legend('topleft', fill = colours, legend = names(colours), bty = 'n', border = NA)\n",
    "\n",
    "# График 3 — ось Y рисуем вручную с отступом\n",
    "bp3 <- barplot(\n",
    "  t(vcpm_sub),\n",
    "  beside = TRUE,\n",
    "  border = NA,\n",
    "  xlab = 'Genome',\n",
    "  ylab = '',\n",
    "  col = colours[samples_sub$condition],\n",
    "  las = 2,\n",
    "  cex.names = 0.6,\n",
    "  axes = FALSE\n",
    ")\n",
    "axis(2, las = 2, cex.axis = 0.6)\n",
    "mtext('cpm', side = 2, line = 4.5)\n",
    "legend('topleft', fill = colours, legend = names(colours), bty = 'n', border = NA)\n",
    "\n",
    "# График 4 — тоже с ручной осью Y\n",
    "bp4 <- barplot(\n",
    "  vcpm_sub,\n",
    "  beside = TRUE,\n",
    "  border = NA,\n",
    "  ylab = '',\n",
    "  las = 2,\n",
    "  cex.names = 0.6,\n",
    "  legend.text = FALSE,\n",
    "  args.legend = list(bty = 'n', border = NA),\n",
    "  col = colours[rownames(vcpm_sub)],\n",
    "  axes = FALSE\n",
    ")\n",
    "axis(2, las = 2, cex.axis = 0.6)\n",
    "mtext('cpm', side = 2, line = 4.5)\n",
    "legend('topleft', fill = colours, legend = names(colours), bty = 'n', border = NA)\n",
    "# Общий заголовок\n",
    "mtext(\"Viral expression in gut samples in 354duo\", outer = TRUE, line = 1, cex = 1.4, font = 2)\n",
    "\n",
    "dev.off()\n"
   ]
  },
  {
   "cell_type": "markdown",
   "id": "312f7ee8-2fde-42fb-9b2a-15ef244e34cd",
   "metadata": {},
   "source": [
    "# Human protein coding expression"
   ]
  },
  {
   "cell_type": "code",
   "execution_count": 10,
   "id": "95011b55-8343-4972-8494-9a162c53c1aa",
   "metadata": {},
   "outputs": [],
   "source": [
    "counts = as.matrix(read.csv('../../output/NGS-20250519/counts_analysis/counts_all_genes.csv',row.names = 1))\n",
    "#samples = read.csv('samples.csv',row.names = 1)\n",
    "#genes = read.csv('../../output/NGS-20250519/genes.csv',row.names = 1)"
   ]
  },
  {
   "cell_type": "code",
   "execution_count": 11,
   "id": "72291909-8195-40dc-a7ae-bab32952848e",
   "metadata": {},
   "outputs": [
    {
     "data": {
      "text/html": [
       "<style>\n",
       ".list-inline {list-style: none; margin:0; padding: 0}\n",
       ".list-inline>li {display: inline-block}\n",
       ".list-inline>li:not(:last-child)::after {content: \"\\00b7\"; padding: 0 .5ex}\n",
       "</style>\n",
       "<ol class=list-inline><li>20070</li><li>16</li></ol>\n"
      ],
      "text/latex": [
       "\\begin{enumerate*}\n",
       "\\item 20070\n",
       "\\item 16\n",
       "\\end{enumerate*}\n"
      ],
      "text/markdown": [
       "1. 20070\n",
       "2. 16\n",
       "\n",
       "\n"
      ],
      "text/plain": [
       "[1] 20070    16"
      ]
     },
     "metadata": {},
     "output_type": "display_data"
    }
   ],
   "source": [
    "pccounts = counts[genes$gene_biotype == 'protein_coding', ]\n",
    "dim(pccounts)"
   ]
  },
  {
   "cell_type": "code",
   "execution_count": 12,
   "id": "cd46e391-9362-4c96-a4e4-c732cf59add7",
   "metadata": {},
   "outputs": [],
   "source": [
    "#write.csv(counts,'../../output/NGS-20250519/counts_protein_coding.csv')"
   ]
  },
  {
   "cell_type": "code",
   "execution_count": 79,
   "id": "333f11a1-b145-47ab-8b34-687f41abaf9b",
   "metadata": {},
   "outputs": [
    {
     "name": "stderr",
     "output_type": "stream",
     "text": [
      "Warning message in DESeqDataSet(se, design = design, ignoreRank):\n",
      "“some variables in design formula are characters, converting to factors”\n"
     ]
    },
    {
     "data": {
      "text/plain": [
       "class: DESeqDataSet \n",
       "dim: 20070 8 \n",
       "metadata(1): version\n",
       "assays(1): counts\n",
       "rownames(20070): ENSG00000142611 ENSG00000157911 ... ENSG00000268674\n",
       "  ENSG00000277475\n",
       "rowData names(0):\n",
       "colnames(8): MLB2_s1 MLB2_s2 ... mock_s1 mock_s2\n",
       "colData names(7): id fname1 ... timepoint name"
      ]
     },
     "metadata": {},
     "output_type": "display_data"
    }
   ],
   "source": [
    "rownames(samples) = colnames(counts) = samples$name\n",
    "deseq = DESeqDataSetFromMatrix(countData = counts,\n",
    "                              colData = samples,\n",
    "                               design = ~ condition)\n",
    "deseq"
   ]
  },
  {
   "cell_type": "code",
   "execution_count": 81,
   "id": "4d7a4281-ac85-4a5a-8461-519555e0e60a",
   "metadata": {},
   "outputs": [
    {
     "data": {
      "text/plain": [
       "\n",
       "FALSE  TRUE \n",
       " 4965 15105 "
      ]
     },
     "metadata": {},
     "output_type": "display_data"
    },
    {
     "data": {
      "image/png": "[encoded data removed]",
      "text/plain": [
       "Plot with title “Histogram of (log10(total + 1))”"
      ]
     },
     "metadata": {
      "image/png": {
       "height": 420,
       "width": 420
      }
     },
     "output_type": "display_data"
    }
   ],
   "source": [
    "# filtes genes by total read counts\n",
    "options(repr.plot.width = 7, repr.plot.height = 7, repr.plot.res = 120)\n",
    "total = rowSums(counts(deseq))\n",
    "hist((log10(total + 1)),100)\n",
    "table(total>=10)"
   ]
  },
  {
   "cell_type": "code",
   "execution_count": 82,
   "id": "b8a0a698-3786-4931-82d2-34a92ea17593",
   "metadata": {},
   "outputs": [
    {
     "data": {
      "text/html": [
       "<table class=\"dataframe\">\n",
       "<caption>A matrix: 4 × 8 of type lgl</caption>\n",
       "<thead>\n",
       "\t<tr><th></th><th scope=col>MLB2_s1</th><th scope=col>MLB2_s2</th><th scope=col>VA1_s1</th><th scope=col>VA1_s2</th><th scope=col>HAstV4_s1</th><th scope=col>HAstV4_s2</th><th scope=col>mock_s1</th><th scope=col>mock_s2</th></tr>\n",
       "</thead>\n",
       "<tbody>\n",
       "\t<tr><th scope=row>ENSG00000142611</th><td>TRUE</td><td>TRUE</td><td>TRUE</td><td>TRUE</td><td>TRUE</td><td>TRUE</td><td>TRUE</td><td>TRUE</td></tr>\n",
       "\t<tr><th scope=row>ENSG00000157911</th><td>TRUE</td><td>TRUE</td><td>TRUE</td><td>TRUE</td><td>TRUE</td><td>TRUE</td><td>TRUE</td><td>TRUE</td></tr>\n",
       "\t<tr><th scope=row>ENSG00000142655</th><td>TRUE</td><td>TRUE</td><td>TRUE</td><td>TRUE</td><td>TRUE</td><td>TRUE</td><td>TRUE</td><td>TRUE</td></tr>\n",
       "\t<tr><th scope=row>ENSG00000149527</th><td>TRUE</td><td>TRUE</td><td>TRUE</td><td>TRUE</td><td>TRUE</td><td>TRUE</td><td>TRUE</td><td>TRUE</td></tr>\n",
       "</tbody>\n",
       "</table>\n"
      ],
      "text/latex": [
       "A matrix: 4 × 8 of type lgl\n",
       "\\begin{tabular}{r|llllllll}\n",
       "  & MLB2\\_s1 & MLB2\\_s2 & VA1\\_s1 & VA1\\_s2 & HAstV4\\_s1 & HAstV4\\_s2 & mock\\_s1 & mock\\_s2\\\\\n",
       "\\hline\n",
       "\tENSG00000142611 & TRUE & TRUE & TRUE & TRUE & TRUE & TRUE & TRUE & TRUE\\\\\n",
       "\tENSG00000157911 & TRUE & TRUE & TRUE & TRUE & TRUE & TRUE & TRUE & TRUE\\\\\n",
       "\tENSG00000142655 & TRUE & TRUE & TRUE & TRUE & TRUE & TRUE & TRUE & TRUE\\\\\n",
       "\tENSG00000149527 & TRUE & TRUE & TRUE & TRUE & TRUE & TRUE & TRUE & TRUE\\\\\n",
       "\\end{tabular}\n"
      ],
      "text/markdown": [
       "\n",
       "A matrix: 4 × 8 of type lgl\n",
       "\n",
       "| <!--/--> | MLB2_s1 | MLB2_s2 | VA1_s1 | VA1_s2 | HAstV4_s1 | HAstV4_s2 | mock_s1 | mock_s2 |\n",
       "|---|---|---|---|---|---|---|---|---|\n",
       "| ENSG00000142611 | TRUE | TRUE | TRUE | TRUE | TRUE | TRUE | TRUE | TRUE |\n",
       "| ENSG00000157911 | TRUE | TRUE | TRUE | TRUE | TRUE | TRUE | TRUE | TRUE |\n",
       "| ENSG00000142655 | TRUE | TRUE | TRUE | TRUE | TRUE | TRUE | TRUE | TRUE |\n",
       "| ENSG00000149527 | TRUE | TRUE | TRUE | TRUE | TRUE | TRUE | TRUE | TRUE |\n",
       "\n"
      ],
      "text/plain": [
       "                MLB2_s1 MLB2_s2 VA1_s1 VA1_s2 HAstV4_s1 HAstV4_s2 mock_s1\n",
       "ENSG00000142611 TRUE    TRUE    TRUE   TRUE   TRUE      TRUE      TRUE   \n",
       "ENSG00000157911 TRUE    TRUE    TRUE   TRUE   TRUE      TRUE      TRUE   \n",
       "ENSG00000142655 TRUE    TRUE    TRUE   TRUE   TRUE      TRUE      TRUE   \n",
       "ENSG00000149527 TRUE    TRUE    TRUE   TRUE   TRUE      TRUE      TRUE   \n",
       "                mock_s2\n",
       "ENSG00000142611 TRUE   \n",
       "ENSG00000157911 TRUE   \n",
       "ENSG00000142655 TRUE   \n",
       "ENSG00000149527 TRUE   "
      ]
     },
     "metadata": {},
     "output_type": "display_data"
    }
   ],
   "source": [
    "counts(deseq)[1:4,]>=10"
   ]
  },
  {
   "cell_type": "code",
   "execution_count": 83,
   "id": "0722ccfd-431c-4832-a573-0f876a7dab6d",
   "metadata": {},
   "outputs": [
    {
     "data": {
      "text/plain": [
       "nsamples10\n",
       "    0     1     2     3     4     5     6     7     8 \n",
       " 5325   952   459   347   320   304   317   488 11558 "
      ]
     },
     "metadata": {},
     "output_type": "display_data"
    }
   ],
   "source": [
    "# filtes genes \n",
    "nsamples10 = rowSums(counts(deseq)>=10)\n",
    "table(nsamples10)"
   ]
  },
  {
   "cell_type": "code",
   "execution_count": 84,
   "id": "d5fb396d-81b9-49e3-9a30-ce379061101c",
   "metadata": {},
   "outputs": [
    {
     "data": {
      "text/plain": [
       "class: DESeqDataSet \n",
       "dim: 13793 8 \n",
       "metadata(1): version\n",
       "assays(1): counts\n",
       "rownames(13793): ENSG00000142611 ENSG00000157911 ... ENSG00000278817\n",
       "  ENSG00000271254\n",
       "rowData names(0):\n",
       "colnames(8): MLB2_s1 MLB2_s2 ... mock_s1 mock_s2\n",
       "colData names(7): id fname1 ... timepoint name"
      ]
     },
     "metadata": {},
     "output_type": "display_data"
    }
   ],
   "source": [
    "# remove genes with less than 10 reads in total\n",
    "#deseq = deseq[total>=10,]\n",
    "deseq = deseq[nsamples10>=2,]\n",
    "deseq"
   ]
  },
  {
   "cell_type": "code",
   "execution_count": 85,
   "id": "c36044e6-08e7-4829-aa83-785331e6fbf1",
   "metadata": {},
   "outputs": [
    {
     "data": {
      "text/plain": [
       "class: DESeqTransform \n",
       "dim: 13793 8 \n",
       "metadata(1): version\n",
       "assays(1): ''\n",
       "rownames(13793): ENSG00000142611 ENSG00000157911 ... ENSG00000278817\n",
       "  ENSG00000271254\n",
       "rowData names(4): baseMean baseVar allZero dispFit\n",
       "colnames(8): MLB2_s1 MLB2_s2 ... mock_s1 mock_s2\n",
       "colData names(8): id fname1 ... name sizeFactor"
      ]
     },
     "metadata": {},
     "output_type": "display_data"
    }
   ],
   "source": [
    "vsd = vst(deseq, blind=TRUE)\n",
    "vsd"
   ]
  },
  {
   "cell_type": "code",
   "execution_count": 89,
   "id": "f9cce934-3026-4d23-ae58-59b84eb9a6e9",
   "metadata": {},
   "outputs": [
    {
     "name": "stderr",
     "output_type": "stream",
     "text": [
      "using ntop=500 top features by variance\n",
      "\n"
     ]
    },
    {
     "data": {
      "image/png": "[encoded data removed]",
      "text/plain": [
       "plot without title"
      ]
     },
     "metadata": {
      "image/png": {
       "height": 420,
       "width": 420
      }
     },
     "output_type": "display_data"
    }
   ],
   "source": [
    "#pdf('../../figures/brain/02_human_plotPCA_condition.pdf',w=8,h=8.5)\n",
    "plotPCA(vsd, intgroup=c(\"condition\"))\n",
    "#dev.off()"
   ]
  },
  {
   "cell_type": "code",
   "execution_count": 88,
   "id": "d9fe066d-d164-4750-8245-aa7baa833d93",
   "metadata": {},
   "outputs": [
    {
     "name": "stderr",
     "output_type": "stream",
     "text": [
      "using ntop=500 top features by variance\n",
      "\n"
     ]
    },
    {
     "data": {
      "image/png": "[encoded data removed]",
      "text/plain": [
       "plot without title"
      ]
     },
     "metadata": {
      "image/png": {
       "height": 420,
       "width": 420
      }
     },
     "output_type": "display_data"
    }
   ],
   "source": [
    "plotPCA(vsd, intgroup=c(\"replicate\"))"
   ]
  },
  {
   "cell_type": "code",
   "execution_count": 95,
   "id": "2f6e846a-1b4d-49ae-a9a8-60088eeb9ffd",
   "metadata": {},
   "outputs": [
    {
     "data": {
      "image/png": "[encoded data removed]",
      "text/plain": [
       "plot without title"
      ]
     },
     "metadata": {
      "image/png": {
       "height": 420,
       "width": 420
      }
     },
     "output_type": "display_data"
    }
   ],
   "source": [
    "#pdf('../../figures/brain/03_human_heatmap.pdf',w=8,h=8.5)\n",
    "cor = cor(counts(deseq),method = 'sp')\n",
    "#cor = cor(vsd@assays@data[[1]],method = 'p')\n",
    "heatmap(cor,distfun = function(x)as.dist(1-x),symm = TRUE,margins = c(6,6))\n",
    "#dev.off()"
   ]
  },
  {
   "cell_type": "markdown",
   "id": "0511c1ee-82b8-41e2-9ea2-6b441410a2f8",
   "metadata": {},
   "source": [
    "## all viruses together"
   ]
  },
  {
   "cell_type": "code",
   "execution_count": 94,
   "id": "fc8bd17d-a0b7-4e0c-a7bf-f1f4861aae7d",
   "metadata": {},
   "outputs": [
    {
     "name": "stderr",
     "output_type": "stream",
     "text": [
      "estimating size factors\n",
      "\n",
      "estimating dispersions\n",
      "\n",
      "gene-wise dispersion estimates\n",
      "\n",
      "mean-dispersion relationship\n",
      "\n",
      "final dispersion estimates\n",
      "\n",
      "fitting model and testing\n",
      "\n"
     ]
    }
   ],
   "source": [
    "deseq = DESeq(deseq)"
   ]
  },
  {
   "cell_type": "code",
   "execution_count": 96,
   "id": "db2865fe-725f-4d24-af4f-cb3dd89b1aef",
   "metadata": {},
   "outputs": [],
   "source": [
    "cnds = c('MLB2','VA1','HAstV4')\n",
    "res = lapply(cnds,function(c)results(deseq,contrast = c('condition','mock',c)))\n",
    "names(res) = cnds"
   ]
  },
  {
   "cell_type": "code",
   "execution_count": 97,
   "id": "5bc78cbb-5544-4134-84ce-fab28561c70e",
   "metadata": {},
   "outputs": [
    {
     "data": {
      "text/html": [
       "<style>\n",
       ".dl-inline {width: auto; margin:0; padding: 0}\n",
       ".dl-inline>dt, .dl-inline>dd {float: none; width: auto; display: inline-block}\n",
       ".dl-inline>dt::after {content: \":\\0020\"; padding-right: .5ex}\n",
       ".dl-inline>dt:not(:first-of-type) {padding-left: .5ex}\n",
       "</style><dl class=dl-inline><dt>MLB2.sign</dt><dd>1</dd><dt>VA1.sign</dt><dd>1</dd><dt>HAstV4.sign</dt><dd>8</dd></dl>\n"
      ],
      "text/latex": [
       "\\begin{description*}\n",
       "\\item[MLB2.sign] 1\n",
       "\\item[VA1.sign] 1\n",
       "\\item[HAstV4.sign] 8\n",
       "\\end{description*}\n"
      ],
      "text/markdown": [
       "MLB2.sign\n",
       ":   1VA1.sign\n",
       ":   1HAstV4.sign\n",
       ":   8\n",
       "\n"
      ],
      "text/plain": [
       "  MLB2.sign    VA1.sign HAstV4.sign \n",
       "          1           1           8 "
      ]
     },
     "metadata": {},
     "output_type": "display_data"
    }
   ],
   "source": [
    "sapply(res,function(x){\n",
    "    c(sign=sum(x$padj<0.2 & abs(x$log2FoldChange)>0))\n",
    "})"
   ]
  },
  {
   "cell_type": "code",
   "execution_count": 98,
   "id": "4340bd86-3e00-4e80-b13e-5f09aefcf613",
   "metadata": {},
   "outputs": [
    {
     "data": {
      "text/html": [
       "<dl>\n",
       "\t<dt>$MLB2</dt>\n",
       "\t\t<dd><table class=\"dataframe\">\n",
       "<caption>A data.frame: 1 × 4</caption>\n",
       "<thead>\n",
       "\t<tr><th></th><th scope=col>baseMean</th><th scope=col>log2FoldChange</th><th scope=col>padj</th><th scope=col>gene_name</th></tr>\n",
       "\t<tr><th></th><th scope=col>&lt;dbl&gt;</th><th scope=col>&lt;dbl&gt;</th><th scope=col>&lt;dbl&gt;</th><th scope=col>&lt;chr&gt;</th></tr>\n",
       "</thead>\n",
       "<tbody>\n",
       "\t<tr><th scope=row>ENSG00000120549</th><td>56.63075</td><td>-4.307891</td><td>0.05841395</td><td>KIAA1217</td></tr>\n",
       "</tbody>\n",
       "</table>\n",
       "</dd>\n",
       "\t<dt>$VA1</dt>\n",
       "\t\t<dd><table class=\"dataframe\">\n",
       "<caption>A data.frame: 1 × 4</caption>\n",
       "<thead>\n",
       "\t<tr><th></th><th scope=col>baseMean</th><th scope=col>log2FoldChange</th><th scope=col>padj</th><th scope=col>gene_name</th></tr>\n",
       "\t<tr><th></th><th scope=col>&lt;dbl&gt;</th><th scope=col>&lt;dbl&gt;</th><th scope=col>&lt;dbl&gt;</th><th scope=col>&lt;chr&gt;</th></tr>\n",
       "</thead>\n",
       "<tbody>\n",
       "\t<tr><th scope=row>ENSG00000117707</th><td>71.74059</td><td>-2.735477</td><td>0.151899</td><td>PROX1</td></tr>\n",
       "</tbody>\n",
       "</table>\n",
       "</dd>\n",
       "\t<dt>$HAstV4</dt>\n",
       "\t\t<dd><table class=\"dataframe\">\n",
       "<caption>A data.frame: 8 × 4</caption>\n",
       "<thead>\n",
       "\t<tr><th></th><th scope=col>baseMean</th><th scope=col>log2FoldChange</th><th scope=col>padj</th><th scope=col>gene_name</th></tr>\n",
       "\t<tr><th></th><th scope=col>&lt;dbl&gt;</th><th scope=col>&lt;dbl&gt;</th><th scope=col>&lt;dbl&gt;</th><th scope=col>&lt;chr&gt;</th></tr>\n",
       "</thead>\n",
       "<tbody>\n",
       "\t<tr><th scope=row>ENSG00000134996</th><td>   22.01861</td><td>-8.2759903</td><td>0.014391531</td><td>OSTF1   </td></tr>\n",
       "\t<tr><th scope=row>ENSG00000120549</th><td>   56.63075</td><td>-3.7729169</td><td>0.112426714</td><td>KIAA1217</td></tr>\n",
       "\t<tr><th scope=row>ENSG00000117707</th><td>   71.74059</td><td>-2.9096761</td><td>0.014391531</td><td>PROX1   </td></tr>\n",
       "\t<tr><th scope=row>ENSG00000099194</th><td>11607.43869</td><td> 0.5846564</td><td>0.015716726</td><td>SCD     </td></tr>\n",
       "\t<tr><th scope=row>ENSG00000112972</th><td> 9309.05277</td><td> 0.7391143</td><td>0.040180885</td><td>HMGCS1  </td></tr>\n",
       "\t<tr><th scope=row>ENSG00000186480</th><td> 2232.65296</td><td> 0.7702800</td><td>0.015716726</td><td>INSIG1  </td></tr>\n",
       "\t<tr><th scope=row>ENSG00000168298</th><td>  251.87048</td><td> 1.9679312</td><td>0.001829131</td><td>H1-4    </td></tr>\n",
       "\t<tr><th scope=row>ENSG00000107611</th><td>   20.86809</td><td> 7.4067033</td><td>0.189235989</td><td>CUBN    </td></tr>\n",
       "</tbody>\n",
       "</table>\n",
       "</dd>\n",
       "</dl>\n"
      ],
      "text/latex": [
       "\\begin{description}\n",
       "\\item[\\$MLB2] A data.frame: 1 × 4\n",
       "\\begin{tabular}{r|llll}\n",
       "  & baseMean & log2FoldChange & padj & gene\\_name\\\\\n",
       "  & <dbl> & <dbl> & <dbl> & <chr>\\\\\n",
       "\\hline\n",
       "\tENSG00000120549 & 56.63075 & -4.307891 & 0.05841395 & KIAA1217\\\\\n",
       "\\end{tabular}\n",
       "\n",
       "\\item[\\$VA1] A data.frame: 1 × 4\n",
       "\\begin{tabular}{r|llll}\n",
       "  & baseMean & log2FoldChange & padj & gene\\_name\\\\\n",
       "  & <dbl> & <dbl> & <dbl> & <chr>\\\\\n",
       "\\hline\n",
       "\tENSG00000117707 & 71.74059 & -2.735477 & 0.151899 & PROX1\\\\\n",
       "\\end{tabular}\n",
       "\n",
       "\\item[\\$HAstV4] A data.frame: 8 × 4\n",
       "\\begin{tabular}{r|llll}\n",
       "  & baseMean & log2FoldChange & padj & gene\\_name\\\\\n",
       "  & <dbl> & <dbl> & <dbl> & <chr>\\\\\n",
       "\\hline\n",
       "\tENSG00000134996 &    22.01861 & -8.2759903 & 0.014391531 & OSTF1   \\\\\n",
       "\tENSG00000120549 &    56.63075 & -3.7729169 & 0.112426714 & KIAA1217\\\\\n",
       "\tENSG00000117707 &    71.74059 & -2.9096761 & 0.014391531 & PROX1   \\\\\n",
       "\tENSG00000099194 & 11607.43869 &  0.5846564 & 0.015716726 & SCD     \\\\\n",
       "\tENSG00000112972 &  9309.05277 &  0.7391143 & 0.040180885 & HMGCS1  \\\\\n",
       "\tENSG00000186480 &  2232.65296 &  0.7702800 & 0.015716726 & INSIG1  \\\\\n",
       "\tENSG00000168298 &   251.87048 &  1.9679312 & 0.001829131 & H1-4    \\\\\n",
       "\tENSG00000107611 &    20.86809 &  7.4067033 & 0.189235989 & CUBN    \\\\\n",
       "\\end{tabular}\n",
       "\n",
       "\\end{description}\n"
      ],
      "text/markdown": [
       "$MLB2\n",
       ":   \n",
       "A data.frame: 1 × 4\n",
       "\n",
       "| <!--/--> | baseMean &lt;dbl&gt; | log2FoldChange &lt;dbl&gt; | padj &lt;dbl&gt; | gene_name &lt;chr&gt; |\n",
       "|---|---|---|---|---|\n",
       "| ENSG00000120549 | 56.63075 | -4.307891 | 0.05841395 | KIAA1217 |\n",
       "\n",
       "\n",
       "$VA1\n",
       ":   \n",
       "A data.frame: 1 × 4\n",
       "\n",
       "| <!--/--> | baseMean &lt;dbl&gt; | log2FoldChange &lt;dbl&gt; | padj &lt;dbl&gt; | gene_name &lt;chr&gt; |\n",
       "|---|---|---|---|---|\n",
       "| ENSG00000117707 | 71.74059 | -2.735477 | 0.151899 | PROX1 |\n",
       "\n",
       "\n",
       "$HAstV4\n",
       ":   \n",
       "A data.frame: 8 × 4\n",
       "\n",
       "| <!--/--> | baseMean &lt;dbl&gt; | log2FoldChange &lt;dbl&gt; | padj &lt;dbl&gt; | gene_name &lt;chr&gt; |\n",
       "|---|---|---|---|---|\n",
       "| ENSG00000134996 |    22.01861 | -8.2759903 | 0.014391531 | OSTF1    |\n",
       "| ENSG00000120549 |    56.63075 | -3.7729169 | 0.112426714 | KIAA1217 |\n",
       "| ENSG00000117707 |    71.74059 | -2.9096761 | 0.014391531 | PROX1    |\n",
       "| ENSG00000099194 | 11607.43869 |  0.5846564 | 0.015716726 | SCD      |\n",
       "| ENSG00000112972 |  9309.05277 |  0.7391143 | 0.040180885 | HMGCS1   |\n",
       "| ENSG00000186480 |  2232.65296 |  0.7702800 | 0.015716726 | INSIG1   |\n",
       "| ENSG00000168298 |   251.87048 |  1.9679312 | 0.001829131 | H1-4     |\n",
       "| ENSG00000107611 |    20.86809 |  7.4067033 | 0.189235989 | CUBN     |\n",
       "\n",
       "\n",
       "\n",
       "\n"
      ],
      "text/plain": [
       "$MLB2\n",
       "                baseMean log2FoldChange       padj gene_name\n",
       "ENSG00000120549 56.63075      -4.307891 0.05841395  KIAA1217\n",
       "\n",
       "$VA1\n",
       "                baseMean log2FoldChange     padj gene_name\n",
       "ENSG00000117707 71.74059      -2.735477 0.151899     PROX1\n",
       "\n",
       "$HAstV4\n",
       "                   baseMean log2FoldChange        padj gene_name\n",
       "ENSG00000134996    22.01861     -8.2759903 0.014391531     OSTF1\n",
       "ENSG00000120549    56.63075     -3.7729169 0.112426714  KIAA1217\n",
       "ENSG00000117707    71.74059     -2.9096761 0.014391531     PROX1\n",
       "ENSG00000099194 11607.43869      0.5846564 0.015716726       SCD\n",
       "ENSG00000112972  9309.05277      0.7391143 0.040180885    HMGCS1\n",
       "ENSG00000186480  2232.65296      0.7702800 0.015716726    INSIG1\n",
       "ENSG00000168298   251.87048      1.9679312 0.001829131      H1-4\n",
       "ENSG00000107611    20.86809      7.4067033 0.189235989      CUBN\n"
      ]
     },
     "metadata": {},
     "output_type": "display_data"
    }
   ],
   "source": [
    "lapply(res,function(x){\n",
    "    f = x$padj<0.2\n",
    "    f[is.na(f)] = FALSE\n",
    "    x = as.data.frame(x[f,c(1,2,6)])\n",
    "    x$gene_name = genes[rownames(x),'gene_name']\n",
    "    x[order(x$log2FoldChange),]\n",
    "})"
   ]
  },
  {
   "cell_type": "code",
   "execution_count": 99,
   "id": "f99733af-1e47-476f-89bc-2221439ce8c2",
   "metadata": {},
   "outputs": [
    {
     "data": {
      "image/png": "[encoded data removed]",
      "text/plain": [
       "plot without title"
      ]
     },
     "metadata": {
      "image/png": {
       "height": 400,
       "width": 1200
      }
     },
     "output_type": "display_data"
    }
   ],
   "source": [
    "options(repr.plot.width = 12, repr.plot.height = 4, repr.plot.res = 200)\n",
    "par(mfrow=c(1,3))\n",
    "plot(res$VA1$log2FoldChange,res$MLB2$log2FoldChange,pch=19,xlab='VA1',ylab='MLB2')\n",
    "plot(res$VA1$log2FoldChange,res$HAstV4$log2FoldChange,pch=19)\n",
    "plot(res$MLB2$log2FoldChange,res$HAstV4$log2FoldChange,pch=19)"
   ]
  },
  {
   "cell_type": "code",
   "execution_count": 100,
   "id": "120510f3-3d74-4a77-b80e-bfbbe4dc6a39",
   "metadata": {},
   "outputs": [
    {
     "data": {
      "text/plain": [
       "DataFrame with 10 rows and 7 columns\n",
       "                 baseMean log2FoldChange     lfcSE      stat     pvalue\n",
       "                <numeric>      <numeric> <numeric> <numeric>  <numeric>\n",
       "ENSG00000203740   3.33807        5.73612   3.55411   1.61394 0.10654091\n",
       "ENSG00000173626   5.99661        6.64991   2.96425   2.24337 0.02487311\n",
       "ENSG00000237541   3.18316        5.54891   4.07310   1.36233 0.17309345\n",
       "ENSG00000182070   3.91979        5.64794   3.50415   1.61179 0.10700810\n",
       "ENSG00000196932   3.60204        5.74123   3.53883   1.62235 0.10472828\n",
       "ENSG00000183346   8.59305        5.19681   2.63420   1.97283 0.04851549\n",
       "ENSG00000205693   3.48515        5.82920   3.94394   1.47801 0.13940438\n",
       "ENSG00000256950   3.67160        5.88561   3.49244   1.68524 0.09194202\n",
       "ENSG00000184206   4.92729        5.71745   2.80227   2.04029 0.04132134\n",
       "ENSG00000124253   9.10534        7.10391   2.61028   2.72152 0.00649833\n",
       "                     padj genes[rownames(sel), \"gene_name\"]\n",
       "                <numeric>                       <character>\n",
       "ENSG00000203740         1                             NTMT2\n",
       "ENSG00000173626         1                          TRAPPC3L\n",
       "ENSG00000237541         1                          HLA-DQA2\n",
       "ENSG00000182070         1                            OR52A1\n",
       "ENSG00000196932         1                            TMEM26\n",
       "ENSG00000183346         1                          CABCOCO1\n",
       "ENSG00000205693         1                            MANSC4\n",
       "ENSG00000256950         1                                NA\n",
       "ENSG00000184206         1                          GOLGA6L4\n",
       "ENSG00000124253         1                              PCK1"
      ]
     },
     "metadata": {},
     "output_type": "display_data"
    }
   ],
   "source": [
    "f = res$MLB2$log2FoldChange>5 & res$VA1$log2FoldChange>5\n",
    "sel = res$VA1[f,]\n",
    "cbind(sel,genes[rownames(sel),'gene_name'])"
   ]
  },
  {
   "cell_type": "markdown",
   "id": "30a70461-e2d2-46d9-8590-71a2b6055c00",
   "metadata": {},
   "source": [
    "## One virus by one"
   ]
  },
  {
   "cell_type": "code",
   "execution_count": 101,
   "id": "6d86e212-be7e-4b67-92c6-a42ad56c5ea3",
   "metadata": {},
   "outputs": [
    {
     "name": "stderr",
     "output_type": "stream",
     "text": [
      "Warning message in DESeqDataSet(se, design = design, ignoreRank):\n",
      "“some variables in design formula are characters, converting to factors”\n",
      "estimating size factors\n",
      "\n",
      "estimating dispersions\n",
      "\n",
      "gene-wise dispersion estimates\n",
      "\n",
      "mean-dispersion relationship\n",
      "\n",
      "final dispersion estimates\n",
      "\n",
      "fitting model and testing\n",
      "\n",
      "Warning message in DESeqDataSet(se, design = design, ignoreRank):\n",
      "“some variables in design formula are characters, converting to factors”\n",
      "estimating size factors\n",
      "\n",
      "estimating dispersions\n",
      "\n",
      "gene-wise dispersion estimates\n",
      "\n",
      "mean-dispersion relationship\n",
      "\n",
      "final dispersion estimates\n",
      "\n",
      "fitting model and testing\n",
      "\n",
      "Warning message in DESeqDataSet(se, design = design, ignoreRank):\n",
      "“some variables in design formula are characters, converting to factors”\n",
      "estimating size factors\n",
      "\n",
      "estimating dispersions\n",
      "\n",
      "gene-wise dispersion estimates\n",
      "\n",
      "mean-dispersion relationship\n",
      "\n",
      "final dispersion estimates\n",
      "\n",
      "fitting model and testing\n",
      "\n"
     ]
    }
   ],
   "source": [
    "cnds = c('MLB2','VA1','HAstV4')\n",
    "res2 = lapply(cnds,function(c){\n",
    "    f = samples$condition %in% c('mock',c)\n",
    "    x = DESeqDataSetFromMatrix(countData = counts[rownames(deseq),f],\n",
    "                              colData = samples[f,],\n",
    "                               design = ~ condition)\n",
    "    x = DESeq(x)\n",
    "    results(x,contrast = c('condition','mock',c))\n",
    "    })\n",
    "names(res2) = cnds"
   ]
  },
  {
   "cell_type": "code",
   "execution_count": 102,
   "id": "edb4d500-0dfc-4282-8573-30645da60c90",
   "metadata": {},
   "outputs": [
    {
     "data": {
      "text/html": [
       "<style>\n",
       ".dl-inline {width: auto; margin:0; padding: 0}\n",
       ".dl-inline>dt, .dl-inline>dd {float: none; width: auto; display: inline-block}\n",
       ".dl-inline>dt::after {content: \":\\0020\"; padding-right: .5ex}\n",
       ".dl-inline>dt:not(:first-of-type) {padding-left: .5ex}\n",
       "</style><dl class=dl-inline><dt>MLB2.sign</dt><dd>8</dd><dt>VA1.sign</dt><dd>0</dd><dt>HAstV4.sign</dt><dd>2</dd></dl>\n"
      ],
      "text/latex": [
       "\\begin{description*}\n",
       "\\item[MLB2.sign] 8\n",
       "\\item[VA1.sign] 0\n",
       "\\item[HAstV4.sign] 2\n",
       "\\end{description*}\n"
      ],
      "text/markdown": [
       "MLB2.sign\n",
       ":   8VA1.sign\n",
       ":   0HAstV4.sign\n",
       ":   2\n",
       "\n"
      ],
      "text/plain": [
       "  MLB2.sign    VA1.sign HAstV4.sign \n",
       "          8           0           2 "
      ]
     },
     "metadata": {},
     "output_type": "display_data"
    }
   ],
   "source": [
    "sapply(res2,function(x){\n",
    "    c(sign=sum(x$padj<0.05 & abs(x$log2FoldChange)>0,na.rm=T))\n",
    "})"
   ]
  },
  {
   "cell_type": "code",
   "execution_count": 103,
   "id": "48411b5e-1491-4aa8-a0ae-6dec5bc52cb9",
   "metadata": {},
   "outputs": [
    {
     "data": {
      "text/html": [
       "<dl>\n",
       "\t<dt>$MLB2</dt>\n",
       "\t\t<dd><table class=\"dataframe\">\n",
       "<caption>A data.frame: 8 × 4</caption>\n",
       "<thead>\n",
       "\t<tr><th></th><th scope=col>baseMean</th><th scope=col>log2FoldChange</th><th scope=col>padj</th><th scope=col>gene_name</th></tr>\n",
       "\t<tr><th></th><th scope=col>&lt;dbl&gt;</th><th scope=col>&lt;dbl&gt;</th><th scope=col>&lt;dbl&gt;</th><th scope=col>&lt;chr&gt;</th></tr>\n",
       "</thead>\n",
       "<tbody>\n",
       "\t<tr><th scope=row>ENSG00000120549</th><td>  50.11637</td><td>-4.3102477</td><td>1.160747e-02</td><td>KIAA1217</td></tr>\n",
       "\t<tr><th scope=row>ENSG00000113916</th><td> 329.06114</td><td>-1.7771026</td><td>1.160747e-02</td><td>BCL6    </td></tr>\n",
       "\t<tr><th scope=row>ENSG00000175745</th><td>2845.22291</td><td>-1.3115234</td><td>2.433423e-10</td><td>NR2F1   </td></tr>\n",
       "\t<tr><th scope=row>ENSG00000185551</th><td> 784.95780</td><td>-1.2095558</td><td>1.483149e-02</td><td>NR2F2   </td></tr>\n",
       "\t<tr><th scope=row>ENSG00000155760</th><td> 743.09792</td><td>-1.1658143</td><td>1.851594e-02</td><td>FZD7    </td></tr>\n",
       "\t<tr><th scope=row>ENSG00000076356</th><td> 866.29096</td><td>-0.9564076</td><td>1.483149e-02</td><td>PLXNA2  </td></tr>\n",
       "\t<tr><th scope=row>ENSG00000150471</th><td>1322.63791</td><td>-0.8491480</td><td>1.851594e-02</td><td>ADGRL3  </td></tr>\n",
       "\t<tr><th scope=row>ENSG00000174963</th><td>  54.97500</td><td> 4.5654600</td><td>3.421440e-02</td><td>ZIC4    </td></tr>\n",
       "</tbody>\n",
       "</table>\n",
       "</dd>\n",
       "\t<dt>$VA1</dt>\n",
       "\t\t<dd><table class=\"dataframe\">\n",
       "<caption>A data.frame: 0 × 4</caption>\n",
       "<thead>\n",
       "\t<tr><th scope=col>baseMean</th><th scope=col>log2FoldChange</th><th scope=col>padj</th><th scope=col>gene_name</th></tr>\n",
       "\t<tr><th scope=col>&lt;dbl&gt;</th><th scope=col>&lt;dbl&gt;</th><th scope=col>&lt;dbl&gt;</th><th scope=col>&lt;chr&gt;</th></tr>\n",
       "</thead>\n",
       "<tbody>\n",
       "</tbody>\n",
       "</table>\n",
       "</dd>\n",
       "\t<dt>$HAstV4</dt>\n",
       "\t\t<dd><table class=\"dataframe\">\n",
       "<caption>A data.frame: 2 × 4</caption>\n",
       "<thead>\n",
       "\t<tr><th></th><th scope=col>baseMean</th><th scope=col>log2FoldChange</th><th scope=col>padj</th><th scope=col>gene_name</th></tr>\n",
       "\t<tr><th></th><th scope=col>&lt;dbl&gt;</th><th scope=col>&lt;dbl&gt;</th><th scope=col>&lt;dbl&gt;</th><th scope=col>&lt;chr&gt;</th></tr>\n",
       "</thead>\n",
       "<tbody>\n",
       "\t<tr><th scope=row>ENSG00000134996</th><td> 29.80408</td><td>-8.276793</td><td>0.031746594</td><td>OSTF1</td></tr>\n",
       "\t<tr><th scope=row>ENSG00000168298</th><td>260.84989</td><td> 1.967171</td><td>0.005380798</td><td>H1-4 </td></tr>\n",
       "</tbody>\n",
       "</table>\n",
       "</dd>\n",
       "</dl>\n"
      ],
      "text/latex": [
       "\\begin{description}\n",
       "\\item[\\$MLB2] A data.frame: 8 × 4\n",
       "\\begin{tabular}{r|llll}\n",
       "  & baseMean & log2FoldChange & padj & gene\\_name\\\\\n",
       "  & <dbl> & <dbl> & <dbl> & <chr>\\\\\n",
       "\\hline\n",
       "\tENSG00000120549 &   50.11637 & -4.3102477 & 1.160747e-02 & KIAA1217\\\\\n",
       "\tENSG00000113916 &  329.06114 & -1.7771026 & 1.160747e-02 & BCL6    \\\\\n",
       "\tENSG00000175745 & 2845.22291 & -1.3115234 & 2.433423e-10 & NR2F1   \\\\\n",
       "\tENSG00000185551 &  784.95780 & -1.2095558 & 1.483149e-02 & NR2F2   \\\\\n",
       "\tENSG00000155760 &  743.09792 & -1.1658143 & 1.851594e-02 & FZD7    \\\\\n",
       "\tENSG00000076356 &  866.29096 & -0.9564076 & 1.483149e-02 & PLXNA2  \\\\\n",
       "\tENSG00000150471 & 1322.63791 & -0.8491480 & 1.851594e-02 & ADGRL3  \\\\\n",
       "\tENSG00000174963 &   54.97500 &  4.5654600 & 3.421440e-02 & ZIC4    \\\\\n",
       "\\end{tabular}\n",
       "\n",
       "\\item[\\$VA1] A data.frame: 0 × 4\n",
       "\\begin{tabular}{llll}\n",
       " baseMean & log2FoldChange & padj & gene\\_name\\\\\n",
       " <dbl> & <dbl> & <dbl> & <chr>\\\\\n",
       "\\hline\n",
       "\\end{tabular}\n",
       "\n",
       "\\item[\\$HAstV4] A data.frame: 2 × 4\n",
       "\\begin{tabular}{r|llll}\n",
       "  & baseMean & log2FoldChange & padj & gene\\_name\\\\\n",
       "  & <dbl> & <dbl> & <dbl> & <chr>\\\\\n",
       "\\hline\n",
       "\tENSG00000134996 &  29.80408 & -8.276793 & 0.031746594 & OSTF1\\\\\n",
       "\tENSG00000168298 & 260.84989 &  1.967171 & 0.005380798 & H1-4 \\\\\n",
       "\\end{tabular}\n",
       "\n",
       "\\end{description}\n"
      ],
      "text/markdown": [
       "$MLB2\n",
       ":   \n",
       "A data.frame: 8 × 4\n",
       "\n",
       "| <!--/--> | baseMean &lt;dbl&gt; | log2FoldChange &lt;dbl&gt; | padj &lt;dbl&gt; | gene_name &lt;chr&gt; |\n",
       "|---|---|---|---|---|\n",
       "| ENSG00000120549 |   50.11637 | -4.3102477 | 1.160747e-02 | KIAA1217 |\n",
       "| ENSG00000113916 |  329.06114 | -1.7771026 | 1.160747e-02 | BCL6     |\n",
       "| ENSG00000175745 | 2845.22291 | -1.3115234 | 2.433423e-10 | NR2F1    |\n",
       "| ENSG00000185551 |  784.95780 | -1.2095558 | 1.483149e-02 | NR2F2    |\n",
       "| ENSG00000155760 |  743.09792 | -1.1658143 | 1.851594e-02 | FZD7     |\n",
       "| ENSG00000076356 |  866.29096 | -0.9564076 | 1.483149e-02 | PLXNA2   |\n",
       "| ENSG00000150471 | 1322.63791 | -0.8491480 | 1.851594e-02 | ADGRL3   |\n",
       "| ENSG00000174963 |   54.97500 |  4.5654600 | 3.421440e-02 | ZIC4     |\n",
       "\n",
       "\n",
       "$VA1\n",
       ":   \n",
       "A data.frame: 0 × 4\n",
       "\n",
       "| baseMean &lt;dbl&gt; | log2FoldChange &lt;dbl&gt; | padj &lt;dbl&gt; | gene_name &lt;chr&gt; |\n",
       "|---|---|---|---|\n",
       "\n",
       "\n",
       "$HAstV4\n",
       ":   \n",
       "A data.frame: 2 × 4\n",
       "\n",
       "| <!--/--> | baseMean &lt;dbl&gt; | log2FoldChange &lt;dbl&gt; | padj &lt;dbl&gt; | gene_name &lt;chr&gt; |\n",
       "|---|---|---|---|---|\n",
       "| ENSG00000134996 |  29.80408 | -8.276793 | 0.031746594 | OSTF1 |\n",
       "| ENSG00000168298 | 260.84989 |  1.967171 | 0.005380798 | H1-4  |\n",
       "\n",
       "\n",
       "\n",
       "\n"
      ],
      "text/plain": [
       "$MLB2\n",
       "                  baseMean log2FoldChange         padj gene_name\n",
       "ENSG00000120549   50.11637     -4.3102477 1.160747e-02  KIAA1217\n",
       "ENSG00000113916  329.06114     -1.7771026 1.160747e-02      BCL6\n",
       "ENSG00000175745 2845.22291     -1.3115234 2.433423e-10     NR2F1\n",
       "ENSG00000185551  784.95780     -1.2095558 1.483149e-02     NR2F2\n",
       "ENSG00000155760  743.09792     -1.1658143 1.851594e-02      FZD7\n",
       "ENSG00000076356  866.29096     -0.9564076 1.483149e-02    PLXNA2\n",
       "ENSG00000150471 1322.63791     -0.8491480 1.851594e-02    ADGRL3\n",
       "ENSG00000174963   54.97500      4.5654600 3.421440e-02      ZIC4\n",
       "\n",
       "$VA1\n",
       "[1] baseMean       log2FoldChange padj           gene_name     \n",
       "<0 rows> (or 0-length row.names)\n",
       "\n",
       "$HAstV4\n",
       "                 baseMean log2FoldChange        padj gene_name\n",
       "ENSG00000134996  29.80408      -8.276793 0.031746594     OSTF1\n",
       "ENSG00000168298 260.84989       1.967171 0.005380798      H1-4\n"
      ]
     },
     "metadata": {},
     "output_type": "display_data"
    }
   ],
   "source": [
    "lapply(res2,function(x){\n",
    "    f = x$padj<0.05 & abs(x$log2FoldChange)>0\n",
    "    f[is.na(f)] = FALSE\n",
    "    x = as.data.frame(x[f,c(1,2,6)])\n",
    "    x$gene_name = genes[rownames(x),'gene_name']\n",
    "    x[order(x$log2FoldChange),]\n",
    "})"
   ]
  },
  {
   "cell_type": "code",
   "execution_count": 104,
   "id": "9bdabb0a-7589-4f32-b605-22fecf8e9505",
   "metadata": {},
   "outputs": [
    {
     "data": {
      "text/html": [
       "<dl>\n",
       "\t<dt>$MLB2</dt>\n",
       "\t\t<dd><table class=\"dataframe\">\n",
       "<caption>A data.frame: 0 × 4</caption>\n",
       "<thead>\n",
       "\t<tr><th scope=col>baseMean</th><th scope=col>log2FoldChange</th><th scope=col>padj</th><th scope=col>gene_name</th></tr>\n",
       "\t<tr><th scope=col>&lt;dbl&gt;</th><th scope=col>&lt;dbl&gt;</th><th scope=col>&lt;dbl&gt;</th><th scope=col>&lt;chr&gt;</th></tr>\n",
       "</thead>\n",
       "<tbody>\n",
       "</tbody>\n",
       "</table>\n",
       "</dd>\n",
       "\t<dt>$VA1</dt>\n",
       "\t\t<dd><table class=\"dataframe\">\n",
       "<caption>A data.frame: 0 × 4</caption>\n",
       "<thead>\n",
       "\t<tr><th scope=col>baseMean</th><th scope=col>log2FoldChange</th><th scope=col>padj</th><th scope=col>gene_name</th></tr>\n",
       "\t<tr><th scope=col>&lt;dbl&gt;</th><th scope=col>&lt;dbl&gt;</th><th scope=col>&lt;dbl&gt;</th><th scope=col>&lt;chr&gt;</th></tr>\n",
       "</thead>\n",
       "<tbody>\n",
       "</tbody>\n",
       "</table>\n",
       "</dd>\n",
       "\t<dt>$HAstV4</dt>\n",
       "\t\t<dd><table class=\"dataframe\">\n",
       "<caption>A data.frame: 3 × 4</caption>\n",
       "<thead>\n",
       "\t<tr><th></th><th scope=col>baseMean</th><th scope=col>log2FoldChange</th><th scope=col>padj</th><th scope=col>gene_name</th></tr>\n",
       "\t<tr><th></th><th scope=col>&lt;dbl&gt;</th><th scope=col>&lt;dbl&gt;</th><th scope=col>&lt;dbl&gt;</th><th scope=col>&lt;chr&gt;</th></tr>\n",
       "</thead>\n",
       "<tbody>\n",
       "\t<tr><th scope=row>ENSG00000134996</th><td> 22.01861</td><td>-8.275990</td><td>0.014391531</td><td>OSTF1</td></tr>\n",
       "\t<tr><th scope=row>ENSG00000117707</th><td> 71.74059</td><td>-2.909676</td><td>0.014391531</td><td>PROX1</td></tr>\n",
       "\t<tr><th scope=row>ENSG00000168298</th><td>251.87048</td><td> 1.967931</td><td>0.001829131</td><td>H1-4 </td></tr>\n",
       "</tbody>\n",
       "</table>\n",
       "</dd>\n",
       "</dl>\n"
      ],
      "text/latex": [
       "\\begin{description}\n",
       "\\item[\\$MLB2] A data.frame: 0 × 4\n",
       "\\begin{tabular}{llll}\n",
       " baseMean & log2FoldChange & padj & gene\\_name\\\\\n",
       " <dbl> & <dbl> & <dbl> & <chr>\\\\\n",
       "\\hline\n",
       "\\end{tabular}\n",
       "\n",
       "\\item[\\$VA1] A data.frame: 0 × 4\n",
       "\\begin{tabular}{llll}\n",
       " baseMean & log2FoldChange & padj & gene\\_name\\\\\n",
       " <dbl> & <dbl> & <dbl> & <chr>\\\\\n",
       "\\hline\n",
       "\\end{tabular}\n",
       "\n",
       "\\item[\\$HAstV4] A data.frame: 3 × 4\n",
       "\\begin{tabular}{r|llll}\n",
       "  & baseMean & log2FoldChange & padj & gene\\_name\\\\\n",
       "  & <dbl> & <dbl> & <dbl> & <chr>\\\\\n",
       "\\hline\n",
       "\tENSG00000134996 &  22.01861 & -8.275990 & 0.014391531 & OSTF1\\\\\n",
       "\tENSG00000117707 &  71.74059 & -2.909676 & 0.014391531 & PROX1\\\\\n",
       "\tENSG00000168298 & 251.87048 &  1.967931 & 0.001829131 & H1-4 \\\\\n",
       "\\end{tabular}\n",
       "\n",
       "\\end{description}\n"
      ],
      "text/markdown": [
       "$MLB2\n",
       ":   \n",
       "A data.frame: 0 × 4\n",
       "\n",
       "| baseMean &lt;dbl&gt; | log2FoldChange &lt;dbl&gt; | padj &lt;dbl&gt; | gene_name &lt;chr&gt; |\n",
       "|---|---|---|---|\n",
       "\n",
       "\n",
       "$VA1\n",
       ":   \n",
       "A data.frame: 0 × 4\n",
       "\n",
       "| baseMean &lt;dbl&gt; | log2FoldChange &lt;dbl&gt; | padj &lt;dbl&gt; | gene_name &lt;chr&gt; |\n",
       "|---|---|---|---|\n",
       "\n",
       "\n",
       "$HAstV4\n",
       ":   \n",
       "A data.frame: 3 × 4\n",
       "\n",
       "| <!--/--> | baseMean &lt;dbl&gt; | log2FoldChange &lt;dbl&gt; | padj &lt;dbl&gt; | gene_name &lt;chr&gt; |\n",
       "|---|---|---|---|---|\n",
       "| ENSG00000134996 |  22.01861 | -8.275990 | 0.014391531 | OSTF1 |\n",
       "| ENSG00000117707 |  71.74059 | -2.909676 | 0.014391531 | PROX1 |\n",
       "| ENSG00000168298 | 251.87048 |  1.967931 | 0.001829131 | H1-4  |\n",
       "\n",
       "\n",
       "\n",
       "\n"
      ],
      "text/plain": [
       "$MLB2\n",
       "[1] baseMean       log2FoldChange padj           gene_name     \n",
       "<0 rows> (or 0-length row.names)\n",
       "\n",
       "$VA1\n",
       "[1] baseMean       log2FoldChange padj           gene_name     \n",
       "<0 rows> (or 0-length row.names)\n",
       "\n",
       "$HAstV4\n",
       "                 baseMean log2FoldChange        padj gene_name\n",
       "ENSG00000134996  22.01861      -8.275990 0.014391531     OSTF1\n",
       "ENSG00000117707  71.74059      -2.909676 0.014391531     PROX1\n",
       "ENSG00000168298 251.87048       1.967931 0.001829131      H1-4\n"
      ]
     },
     "metadata": {},
     "output_type": "display_data"
    }
   ],
   "source": [
    "lapply(res,function(x){\n",
    "    f = x$padj<0.05 & abs(x$log2FoldChange)>1\n",
    "    f[is.na(f)] = FALSE\n",
    "    x = as.data.frame(x[f,c(1,2,6)])\n",
    "    x$gene_name = genes[rownames(x),'gene_name']\n",
    "    x[order(x$log2FoldChange),]\n",
    "})"
   ]
  },
  {
   "cell_type": "markdown",
   "id": "df626f7a-a758-48b8-a0a2-cb4f40abff30",
   "metadata": {},
   "source": [
    "#res and res2 - data from \"all virus together' and \"one virus by one\""
   ]
  }
 ],
 "metadata": {
  "kernelspec": {
   "display_name": "R",
   "language": "R",
   "name": "ir"
  },
  "language_info": {
   "codemirror_mode": "r",
   "file_extension": ".r",
   "mimetype": "text/x-r-source",
   "name": "R",
   "pygments_lexer": "r",
   "version": "4.4.2"
  }
 },
 "nbformat": 4,
 "nbformat_minor": 5
}
