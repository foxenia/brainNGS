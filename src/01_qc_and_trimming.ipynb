{
 "cells": [
  {
   "cell_type": "markdown",
   "id": "fe7e68d4-21d3-46a5-9bd3-3774d00f1798",
   "metadata": {},
   "source": [
    "# Create sample table"
   ]
  },
  {
   "cell_type": "code",
   "execution_count": 1,
   "id": "18a01d07-60ce-4579-93cf-612ecc308e00",
   "metadata": {},
   "outputs": [
    {
     "data": {
      "text/html": [
       "<table class=\"dataframe\">\n",
       "<caption>A data.frame: 8 × 1</caption>\n",
       "<thead>\n",
       "\t<tr><th scope=col>id</th></tr>\n",
       "\t<tr><th scope=col>&lt;chr&gt;</th></tr>\n",
       "</thead>\n",
       "<tbody>\n",
       "\t<tr><td>VL1</td></tr>\n",
       "\t<tr><td>VL2</td></tr>\n",
       "\t<tr><td>VL3</td></tr>\n",
       "\t<tr><td>VL4</td></tr>\n",
       "\t<tr><td>VL5</td></tr>\n",
       "\t<tr><td>VL6</td></tr>\n",
       "\t<tr><td>VL7</td></tr>\n",
       "\t<tr><td>VL8</td></tr>\n",
       "</tbody>\n",
       "</table>\n"
      ],
      "text/latex": [
       "A data.frame: 8 × 1\n",
       "\\begin{tabular}{l}\n",
       " id\\\\\n",
       " <chr>\\\\\n",
       "\\hline\n",
       "\t VL1\\\\\n",
       "\t VL2\\\\\n",
       "\t VL3\\\\\n",
       "\t VL4\\\\\n",
       "\t VL5\\\\\n",
       "\t VL6\\\\\n",
       "\t VL7\\\\\n",
       "\t VL8\\\\\n",
       "\\end{tabular}\n"
      ],
      "text/markdown": [
       "\n",
       "A data.frame: 8 × 1\n",
       "\n",
       "| id &lt;chr&gt; |\n",
       "|---|\n",
       "| VL1 |\n",
       "| VL2 |\n",
       "| VL3 |\n",
       "| VL4 |\n",
       "| VL5 |\n",
       "| VL6 |\n",
       "| VL7 |\n",
       "| VL8 |\n",
       "\n"
      ],
      "text/plain": [
       "  id \n",
       "1 VL1\n",
       "2 VL2\n",
       "3 VL3\n",
       "4 VL4\n",
       "5 VL5\n",
       "6 VL6\n",
       "7 VL7\n",
       "8 VL8"
      ]
     },
     "metadata": {},
     "output_type": "display_data"
    }
   ],
   "source": [
    "samples = data.frame(id=paste0(\"VL\",1:8))\n",
    "samples"
   ]
  },
  {
   "cell_type": "code",
   "execution_count": 3,
   "id": "51e7a731-73e3-4c0a-b535-8d5c750b330d",
   "metadata": {},
   "outputs": [
    {
     "data": {
      "text/html": [
       "<style>\n",
       ".list-inline {list-style: none; margin:0; padding: 0}\n",
       ".list-inline>li {display: inline-block}\n",
       ".list-inline>li:not(:last-child)::after {content: \"\\00b7\"; padding: 0 .5ex}\n",
       "</style>\n",
       "<ol class=list-inline><li>TRUE</li><li>TRUE</li><li>TRUE</li><li>TRUE</li><li>TRUE</li><li>TRUE</li><li>TRUE</li><li>TRUE</li><li>TRUE</li><li>TRUE</li><li>TRUE</li><li>TRUE</li><li>TRUE</li><li>TRUE</li><li>TRUE</li><li>TRUE</li></ol>\n"
      ],
      "text/latex": [
       "\\begin{enumerate*}\n",
       "\\item TRUE\n",
       "\\item TRUE\n",
       "\\item TRUE\n",
       "\\item TRUE\n",
       "\\item TRUE\n",
       "\\item TRUE\n",
       "\\item TRUE\n",
       "\\item TRUE\n",
       "\\item TRUE\n",
       "\\item TRUE\n",
       "\\item TRUE\n",
       "\\item TRUE\n",
       "\\item TRUE\n",
       "\\item TRUE\n",
       "\\item TRUE\n",
       "\\item TRUE\n",
       "\\end{enumerate*}\n"
      ],
      "text/markdown": [
       "1. TRUE\n",
       "2. TRUE\n",
       "3. TRUE\n",
       "4. TRUE\n",
       "5. TRUE\n",
       "6. TRUE\n",
       "7. TRUE\n",
       "8. TRUE\n",
       "9. TRUE\n",
       "10. TRUE\n",
       "11. TRUE\n",
       "12. TRUE\n",
       "13. TRUE\n",
       "14. TRUE\n",
       "15. TRUE\n",
       "16. TRUE\n",
       "\n",
       "\n"
      ],
      "text/plain": [
       " [1] TRUE TRUE TRUE TRUE TRUE TRUE TRUE TRUE TRUE TRUE TRUE TRUE TRUE TRUE TRUE\n",
       "[16] TRUE"
      ]
     },
     "metadata": {},
     "output_type": "display_data"
    }
   ],
   "source": [
    "samples$fname1 = paste0(\"../data/NGS-V.Lulla-40921/\",samples$id,\"_S\",1:8,\"_R1_001.fastq.gz\")\n",
    "samples$fname2 = paste0(\"../data/NGS-V.Lulla-40921_repeat/\",samples$id,\"_S\",1:8,\"_R1_001.fastq.gz\")\n",
    "file.exists(c(samples$fname1,samples$fname2))"
   ]
  },
  {
   "cell_type": "code",
   "execution_count": 5,
   "id": "987f946c-0c2c-45db-b81c-4a8b023de206",
   "metadata": {},
   "outputs": [
    {
     "data": {
      "text/html": [
       "<style>\n",
       ".list-inline {list-style: none; margin:0; padding: 0}\n",
       ".list-inline>li {display: inline-block}\n",
       ".list-inline>li:not(:last-child)::after {content: \"\\00b7\"; padding: 0 .5ex}\n",
       "</style>\n",
       "<ol class=list-inline><li>TRUE</li><li>TRUE</li><li>TRUE</li><li>TRUE</li><li>TRUE</li><li>TRUE</li><li>TRUE</li><li>TRUE</li></ol>\n"
      ],
      "text/latex": [
       "\\begin{enumerate*}\n",
       "\\item TRUE\n",
       "\\item TRUE\n",
       "\\item TRUE\n",
       "\\item TRUE\n",
       "\\item TRUE\n",
       "\\item TRUE\n",
       "\\item TRUE\n",
       "\\item TRUE\n",
       "\\end{enumerate*}\n"
      ],
      "text/markdown": [
       "1. TRUE\n",
       "2. TRUE\n",
       "3. TRUE\n",
       "4. TRUE\n",
       "5. TRUE\n",
       "6. TRUE\n",
       "7. TRUE\n",
       "8. TRUE\n",
       "\n",
       "\n"
      ],
      "text/plain": [
       "[1] TRUE TRUE TRUE TRUE TRUE TRUE TRUE TRUE"
      ]
     },
     "metadata": {},
     "output_type": "display_data"
    }
   ],
   "source": [
    "newname = paste0(\"../data/NGS-V.Lulla-40921_repeat/\",samples$id,\"_S\",1:8,\"r_R1_001.fastq.gz\")\n",
    "#file.rename(samples$fname2, newname)"
   ]
  },
  {
   "cell_type": "code",
   "execution_count": 7,
   "id": "68bbf352-7dc3-4448-982d-9f5d1bf0a7fc",
   "metadata": {},
   "outputs": [
    {
     "data": {
      "text/html": [
       "<style>\n",
       ".list-inline {list-style: none; margin:0; padding: 0}\n",
       ".list-inline>li {display: inline-block}\n",
       ".list-inline>li:not(:last-child)::after {content: \"\\00b7\"; padding: 0 .5ex}\n",
       "</style>\n",
       "<ol class=list-inline><li>TRUE</li><li>TRUE</li><li>TRUE</li><li>TRUE</li><li>TRUE</li><li>TRUE</li><li>TRUE</li><li>TRUE</li><li>TRUE</li><li>TRUE</li><li>TRUE</li><li>TRUE</li><li>TRUE</li><li>TRUE</li><li>TRUE</li><li>TRUE</li></ol>\n"
      ],
      "text/latex": [
       "\\begin{enumerate*}\n",
       "\\item TRUE\n",
       "\\item TRUE\n",
       "\\item TRUE\n",
       "\\item TRUE\n",
       "\\item TRUE\n",
       "\\item TRUE\n",
       "\\item TRUE\n",
       "\\item TRUE\n",
       "\\item TRUE\n",
       "\\item TRUE\n",
       "\\item TRUE\n",
       "\\item TRUE\n",
       "\\item TRUE\n",
       "\\item TRUE\n",
       "\\item TRUE\n",
       "\\item TRUE\n",
       "\\end{enumerate*}\n"
      ],
      "text/markdown": [
       "1. TRUE\n",
       "2. TRUE\n",
       "3. TRUE\n",
       "4. TRUE\n",
       "5. TRUE\n",
       "6. TRUE\n",
       "7. TRUE\n",
       "8. TRUE\n",
       "9. TRUE\n",
       "10. TRUE\n",
       "11. TRUE\n",
       "12. TRUE\n",
       "13. TRUE\n",
       "14. TRUE\n",
       "15. TRUE\n",
       "16. TRUE\n",
       "\n",
       "\n"
      ],
      "text/plain": [
       " [1] TRUE TRUE TRUE TRUE TRUE TRUE TRUE TRUE TRUE TRUE TRUE TRUE TRUE TRUE TRUE\n",
       "[16] TRUE"
      ]
     },
     "metadata": {},
     "output_type": "display_data"
    }
   ],
   "source": [
    "samples$fname2 = newname\n",
    "file.exists(c(samples$fname1,samples$fname2))"
   ]
  },
  {
   "cell_type": "code",
   "execution_count": 9,
   "id": "ecf39db9-d628-46c8-bb7c-20d574386ed3",
   "metadata": {},
   "outputs": [],
   "source": [
    "write.csv(samples,\"samples.csv\")"
   ]
  },
  {
   "cell_type": "markdown",
   "id": "8372731c-6f5e-4f73-be05-5066e468b01a",
   "metadata": {},
   "source": [
    "# FastQC\n",
    "change kernel to python since bash is not working in R one"
   ]
  },
  {
   "cell_type": "code",
   "execution_count": 1,
   "id": "81746ccd-1a63-467b-b49b-f41a69aa08d3",
   "metadata": {},
   "outputs": [
    {
     "name": "stdout",
     "output_type": "stream",
     "text": [
      "application/gzip\n"
     ]
    },
    {
     "name": "stderr",
     "output_type": "stream",
     "text": [
      "Started analysis of VL1_S1r_R1_001.fastq.gz\n",
      "Approx 5% complete for VL1_S1r_R1_001.fastq.gz\n",
      "Approx 10% complete for VL1_S1r_R1_001.fastq.gz\n",
      "Approx 15% complete for VL1_S1r_R1_001.fastq.gz\n",
      "Approx 20% complete for VL1_S1r_R1_001.fastq.gz\n",
      "Approx 25% complete for VL1_S1r_R1_001.fastq.gz\n",
      "Approx 30% complete for VL1_S1r_R1_001.fastq.gz\n",
      "Approx 35% complete for VL1_S1r_R1_001.fastq.gz\n",
      "Approx 40% complete for VL1_S1r_R1_001.fastq.gz\n",
      "Approx 45% complete for VL1_S1r_R1_001.fastq.gz\n",
      "Approx 50% complete for VL1_S1r_R1_001.fastq.gz\n",
      "Approx 55% complete for VL1_S1r_R1_001.fastq.gz\n",
      "Approx 60% complete for VL1_S1r_R1_001.fastq.gz\n",
      "Approx 65% complete for VL1_S1r_R1_001.fastq.gz\n",
      "Approx 70% complete for VL1_S1r_R1_001.fastq.gz\n",
      "Approx 75% complete for VL1_S1r_R1_001.fastq.gz\n",
      "Approx 80% complete for VL1_S1r_R1_001.fastq.gz\n",
      "Approx 85% complete for VL1_S1r_R1_001.fastq.gz\n",
      "Approx 90% complete for VL1_S1r_R1_001.fastq.gz\n",
      "Approx 95% complete for VL1_S1r_R1_001.fastq.gz\n"
     ]
    },
    {
     "name": "stdout",
     "output_type": "stream",
     "text": [
      "Analysis complete for VL1_S1r_R1_001.fastq.gz\n",
      "application/gzip\n"
     ]
    },
    {
     "name": "stderr",
     "output_type": "stream",
     "text": [
      "Started analysis of VL2_S2r_R1_001.fastq.gz\n",
      "Approx 5% complete for VL2_S2r_R1_001.fastq.gz\n",
      "Approx 10% complete for VL2_S2r_R1_001.fastq.gz\n",
      "Approx 15% complete for VL2_S2r_R1_001.fastq.gz\n",
      "Approx 20% complete for VL2_S2r_R1_001.fastq.gz\n",
      "Approx 25% complete for VL2_S2r_R1_001.fastq.gz\n",
      "Approx 30% complete for VL2_S2r_R1_001.fastq.gz\n",
      "Approx 35% complete for VL2_S2r_R1_001.fastq.gz\n",
      "Approx 40% complete for VL2_S2r_R1_001.fastq.gz\n",
      "Approx 45% complete for VL2_S2r_R1_001.fastq.gz\n",
      "Approx 50% complete for VL2_S2r_R1_001.fastq.gz\n",
      "Approx 55% complete for VL2_S2r_R1_001.fastq.gz\n",
      "Approx 60% complete for VL2_S2r_R1_001.fastq.gz\n",
      "Approx 65% complete for VL2_S2r_R1_001.fastq.gz\n",
      "Approx 70% complete for VL2_S2r_R1_001.fastq.gz\n",
      "Approx 75% complete for VL2_S2r_R1_001.fastq.gz\n",
      "Approx 80% complete for VL2_S2r_R1_001.fastq.gz\n",
      "Approx 85% complete for VL2_S2r_R1_001.fastq.gz\n",
      "Approx 90% complete for VL2_S2r_R1_001.fastq.gz\n",
      "Approx 95% complete for VL2_S2r_R1_001.fastq.gz\n"
     ]
    },
    {
     "name": "stdout",
     "output_type": "stream",
     "text": [
      "Analysis complete for VL2_S2r_R1_001.fastq.gz\n",
      "application/gzip\n"
     ]
    },
    {
     "name": "stderr",
     "output_type": "stream",
     "text": [
      "Started analysis of VL3_S3r_R1_001.fastq.gz\n",
      "Approx 5% complete for VL3_S3r_R1_001.fastq.gz\n",
      "Approx 10% complete for VL3_S3r_R1_001.fastq.gz\n",
      "Approx 15% complete for VL3_S3r_R1_001.fastq.gz\n",
      "Approx 20% complete for VL3_S3r_R1_001.fastq.gz\n",
      "Approx 25% complete for VL3_S3r_R1_001.fastq.gz\n",
      "Approx 30% complete for VL3_S3r_R1_001.fastq.gz\n",
      "Approx 35% complete for VL3_S3r_R1_001.fastq.gz\n",
      "Approx 40% complete for VL3_S3r_R1_001.fastq.gz\n",
      "Approx 45% complete for VL3_S3r_R1_001.fastq.gz\n",
      "Approx 50% complete for VL3_S3r_R1_001.fastq.gz\n",
      "Approx 55% complete for VL3_S3r_R1_001.fastq.gz\n",
      "Approx 60% complete for VL3_S3r_R1_001.fastq.gz\n",
      "Approx 65% complete for VL3_S3r_R1_001.fastq.gz\n",
      "Approx 70% complete for VL3_S3r_R1_001.fastq.gz\n",
      "Approx 75% complete for VL3_S3r_R1_001.fastq.gz\n",
      "Approx 80% complete for VL3_S3r_R1_001.fastq.gz\n",
      "Approx 85% complete for VL3_S3r_R1_001.fastq.gz\n",
      "Approx 90% complete for VL3_S3r_R1_001.fastq.gz\n",
      "Approx 95% complete for VL3_S3r_R1_001.fastq.gz\n"
     ]
    },
    {
     "name": "stdout",
     "output_type": "stream",
     "text": [
      "Analysis complete for VL3_S3r_R1_001.fastq.gz\n",
      "application/gzip\n"
     ]
    },
    {
     "name": "stderr",
     "output_type": "stream",
     "text": [
      "Started analysis of VL4_S4r_R1_001.fastq.gz\n",
      "Approx 5% complete for VL4_S4r_R1_001.fastq.gz\n",
      "Approx 10% complete for VL4_S4r_R1_001.fastq.gz\n",
      "Approx 15% complete for VL4_S4r_R1_001.fastq.gz\n",
      "Approx 20% complete for VL4_S4r_R1_001.fastq.gz\n",
      "Approx 25% complete for VL4_S4r_R1_001.fastq.gz\n",
      "Approx 30% complete for VL4_S4r_R1_001.fastq.gz\n",
      "Approx 35% complete for VL4_S4r_R1_001.fastq.gz\n",
      "Approx 40% complete for VL4_S4r_R1_001.fastq.gz\n",
      "Approx 45% complete for VL4_S4r_R1_001.fastq.gz\n",
      "Approx 50% complete for VL4_S4r_R1_001.fastq.gz\n",
      "Approx 55% complete for VL4_S4r_R1_001.fastq.gz\n",
      "Approx 60% complete for VL4_S4r_R1_001.fastq.gz\n",
      "Approx 65% complete for VL4_S4r_R1_001.fastq.gz\n",
      "Approx 70% complete for VL4_S4r_R1_001.fastq.gz\n",
      "Approx 75% complete for VL4_S4r_R1_001.fastq.gz\n",
      "Approx 80% complete for VL4_S4r_R1_001.fastq.gz\n",
      "Approx 85% complete for VL4_S4r_R1_001.fastq.gz\n",
      "Approx 90% complete for VL4_S4r_R1_001.fastq.gz\n",
      "Approx 95% complete for VL4_S4r_R1_001.fastq.gz\n"
     ]
    },
    {
     "name": "stdout",
     "output_type": "stream",
     "text": [
      "Analysis complete for VL4_S4r_R1_001.fastq.gz\n",
      "application/gzip\n"
     ]
    },
    {
     "name": "stderr",
     "output_type": "stream",
     "text": [
      "Started analysis of VL5_S5r_R1_001.fastq.gz\n",
      "Approx 5% complete for VL5_S5r_R1_001.fastq.gz\n",
      "Approx 10% complete for VL5_S5r_R1_001.fastq.gz\n",
      "Approx 15% complete for VL5_S5r_R1_001.fastq.gz\n",
      "Approx 20% complete for VL5_S5r_R1_001.fastq.gz\n",
      "Approx 25% complete for VL5_S5r_R1_001.fastq.gz\n",
      "Approx 30% complete for VL5_S5r_R1_001.fastq.gz\n",
      "Approx 35% complete for VL5_S5r_R1_001.fastq.gz\n",
      "Approx 40% complete for VL5_S5r_R1_001.fastq.gz\n",
      "Approx 45% complete for VL5_S5r_R1_001.fastq.gz\n",
      "Approx 50% complete for VL5_S5r_R1_001.fastq.gz\n",
      "Approx 55% complete for VL5_S5r_R1_001.fastq.gz\n",
      "Approx 60% complete for VL5_S5r_R1_001.fastq.gz\n",
      "Approx 65% complete for VL5_S5r_R1_001.fastq.gz\n",
      "Approx 70% complete for VL5_S5r_R1_001.fastq.gz\n",
      "Approx 75% complete for VL5_S5r_R1_001.fastq.gz\n",
      "Approx 80% complete for VL5_S5r_R1_001.fastq.gz\n",
      "Approx 85% complete for VL5_S5r_R1_001.fastq.gz\n",
      "Approx 90% complete for VL5_S5r_R1_001.fastq.gz\n",
      "Approx 95% complete for VL5_S5r_R1_001.fastq.gz\n"
     ]
    },
    {
     "name": "stdout",
     "output_type": "stream",
     "text": [
      "Analysis complete for VL5_S5r_R1_001.fastq.gz\n",
      "application/gzip\n"
     ]
    },
    {
     "name": "stderr",
     "output_type": "stream",
     "text": [
      "Started analysis of VL6_S6r_R1_001.fastq.gz\n",
      "Approx 5% complete for VL6_S6r_R1_001.fastq.gz\n",
      "Approx 10% complete for VL6_S6r_R1_001.fastq.gz\n",
      "Approx 15% complete for VL6_S6r_R1_001.fastq.gz\n",
      "Approx 20% complete for VL6_S6r_R1_001.fastq.gz\n",
      "Approx 25% complete for VL6_S6r_R1_001.fastq.gz\n",
      "Approx 30% complete for VL6_S6r_R1_001.fastq.gz\n",
      "Approx 35% complete for VL6_S6r_R1_001.fastq.gz\n",
      "Approx 40% complete for VL6_S6r_R1_001.fastq.gz\n",
      "Approx 45% complete for VL6_S6r_R1_001.fastq.gz\n",
      "Approx 50% complete for VL6_S6r_R1_001.fastq.gz\n",
      "Approx 55% complete for VL6_S6r_R1_001.fastq.gz\n",
      "Approx 60% complete for VL6_S6r_R1_001.fastq.gz\n",
      "Approx 65% complete for VL6_S6r_R1_001.fastq.gz\n",
      "Approx 70% complete for VL6_S6r_R1_001.fastq.gz\n",
      "Approx 75% complete for VL6_S6r_R1_001.fastq.gz\n",
      "Approx 80% complete for VL6_S6r_R1_001.fastq.gz\n",
      "Approx 85% complete for VL6_S6r_R1_001.fastq.gz\n",
      "Approx 90% complete for VL6_S6r_R1_001.fastq.gz\n",
      "Approx 95% complete for VL6_S6r_R1_001.fastq.gz\n"
     ]
    },
    {
     "name": "stdout",
     "output_type": "stream",
     "text": [
      "Analysis complete for VL6_S6r_R1_001.fastq.gz\n",
      "application/gzip\n"
     ]
    },
    {
     "name": "stderr",
     "output_type": "stream",
     "text": [
      "Started analysis of VL7_S7r_R1_001.fastq.gz\n",
      "Approx 5% complete for VL7_S7r_R1_001.fastq.gz\n",
      "Approx 10% complete for VL7_S7r_R1_001.fastq.gz\n",
      "Approx 15% complete for VL7_S7r_R1_001.fastq.gz\n",
      "Approx 20% complete for VL7_S7r_R1_001.fastq.gz\n",
      "Approx 25% complete for VL7_S7r_R1_001.fastq.gz\n",
      "Approx 30% complete for VL7_S7r_R1_001.fastq.gz\n",
      "Approx 35% complete for VL7_S7r_R1_001.fastq.gz\n",
      "Approx 40% complete for VL7_S7r_R1_001.fastq.gz\n",
      "Approx 45% complete for VL7_S7r_R1_001.fastq.gz\n",
      "Approx 50% complete for VL7_S7r_R1_001.fastq.gz\n",
      "Approx 55% complete for VL7_S7r_R1_001.fastq.gz\n",
      "Approx 60% complete for VL7_S7r_R1_001.fastq.gz\n",
      "Approx 65% complete for VL7_S7r_R1_001.fastq.gz\n",
      "Approx 70% complete for VL7_S7r_R1_001.fastq.gz\n",
      "Approx 75% complete for VL7_S7r_R1_001.fastq.gz\n",
      "Approx 80% complete for VL7_S7r_R1_001.fastq.gz\n",
      "Approx 85% complete for VL7_S7r_R1_001.fastq.gz\n",
      "Approx 90% complete for VL7_S7r_R1_001.fastq.gz\n",
      "Approx 95% complete for VL7_S7r_R1_001.fastq.gz\n"
     ]
    },
    {
     "name": "stdout",
     "output_type": "stream",
     "text": [
      "Analysis complete for VL7_S7r_R1_001.fastq.gz\n",
      "application/gzip\n"
     ]
    },
    {
     "name": "stderr",
     "output_type": "stream",
     "text": [
      "Started analysis of VL8_S8r_R1_001.fastq.gz\n",
      "Approx 5% complete for VL8_S8r_R1_001.fastq.gz\n",
      "Approx 10% complete for VL8_S8r_R1_001.fastq.gz\n",
      "Approx 15% complete for VL8_S8r_R1_001.fastq.gz\n",
      "Approx 20% complete for VL8_S8r_R1_001.fastq.gz\n",
      "Approx 25% complete for VL8_S8r_R1_001.fastq.gz\n",
      "Approx 30% complete for VL8_S8r_R1_001.fastq.gz\n",
      "Approx 35% complete for VL8_S8r_R1_001.fastq.gz\n",
      "Approx 40% complete for VL8_S8r_R1_001.fastq.gz\n",
      "Approx 45% complete for VL8_S8r_R1_001.fastq.gz\n",
      "Approx 50% complete for VL8_S8r_R1_001.fastq.gz\n",
      "Approx 55% complete for VL8_S8r_R1_001.fastq.gz\n",
      "Approx 60% complete for VL8_S8r_R1_001.fastq.gz\n",
      "Approx 65% complete for VL8_S8r_R1_001.fastq.gz\n",
      "Approx 70% complete for VL8_S8r_R1_001.fastq.gz\n",
      "Approx 75% complete for VL8_S8r_R1_001.fastq.gz\n",
      "Approx 80% complete for VL8_S8r_R1_001.fastq.gz\n",
      "Approx 85% complete for VL8_S8r_R1_001.fastq.gz\n",
      "Approx 90% complete for VL8_S8r_R1_001.fastq.gz\n",
      "Approx 95% complete for VL8_S8r_R1_001.fastq.gz\n"
     ]
    },
    {
     "name": "stdout",
     "output_type": "stream",
     "text": [
      "Analysis complete for VL8_S8r_R1_001.fastq.gz\n",
      "application/gzip\n"
     ]
    },
    {
     "name": "stderr",
     "output_type": "stream",
     "text": [
      "Started analysis of VL1_S1_R1_001.fastq.gz\n",
      "Approx 5% complete for VL1_S1_R1_001.fastq.gz\n",
      "Approx 10% complete for VL1_S1_R1_001.fastq.gz\n",
      "Approx 15% complete for VL1_S1_R1_001.fastq.gz\n",
      "Approx 20% complete for VL1_S1_R1_001.fastq.gz\n",
      "Approx 25% complete for VL1_S1_R1_001.fastq.gz\n",
      "Approx 30% complete for VL1_S1_R1_001.fastq.gz\n",
      "Approx 35% complete for VL1_S1_R1_001.fastq.gz\n",
      "Approx 40% complete for VL1_S1_R1_001.fastq.gz\n",
      "Approx 45% complete for VL1_S1_R1_001.fastq.gz\n",
      "Approx 50% complete for VL1_S1_R1_001.fastq.gz\n",
      "Approx 55% complete for VL1_S1_R1_001.fastq.gz\n",
      "Approx 60% complete for VL1_S1_R1_001.fastq.gz\n",
      "Approx 65% complete for VL1_S1_R1_001.fastq.gz\n",
      "Approx 70% complete for VL1_S1_R1_001.fastq.gz\n",
      "Approx 75% complete for VL1_S1_R1_001.fastq.gz\n",
      "Approx 80% complete for VL1_S1_R1_001.fastq.gz\n",
      "Approx 85% complete for VL1_S1_R1_001.fastq.gz\n",
      "Approx 90% complete for VL1_S1_R1_001.fastq.gz\n",
      "Approx 95% complete for VL1_S1_R1_001.fastq.gz\n"
     ]
    },
    {
     "name": "stdout",
     "output_type": "stream",
     "text": [
      "Analysis complete for VL1_S1_R1_001.fastq.gz\n",
      "application/gzip\n"
     ]
    },
    {
     "name": "stderr",
     "output_type": "stream",
     "text": [
      "Started analysis of VL2_S2_R1_001.fastq.gz\n",
      "Approx 5% complete for VL2_S2_R1_001.fastq.gz\n",
      "Approx 10% complete for VL2_S2_R1_001.fastq.gz\n",
      "Approx 15% complete for VL2_S2_R1_001.fastq.gz\n",
      "Approx 20% complete for VL2_S2_R1_001.fastq.gz\n",
      "Approx 25% complete for VL2_S2_R1_001.fastq.gz\n",
      "Approx 30% complete for VL2_S2_R1_001.fastq.gz\n",
      "Approx 35% complete for VL2_S2_R1_001.fastq.gz\n",
      "Approx 40% complete for VL2_S2_R1_001.fastq.gz\n",
      "Approx 45% complete for VL2_S2_R1_001.fastq.gz\n",
      "Approx 50% complete for VL2_S2_R1_001.fastq.gz\n",
      "Approx 55% complete for VL2_S2_R1_001.fastq.gz\n",
      "Approx 60% complete for VL2_S2_R1_001.fastq.gz\n",
      "Approx 65% complete for VL2_S2_R1_001.fastq.gz\n",
      "Approx 70% complete for VL2_S2_R1_001.fastq.gz\n",
      "Approx 75% complete for VL2_S2_R1_001.fastq.gz\n",
      "Approx 80% complete for VL2_S2_R1_001.fastq.gz\n",
      "Approx 85% complete for VL2_S2_R1_001.fastq.gz\n",
      "Approx 90% complete for VL2_S2_R1_001.fastq.gz\n",
      "Approx 95% complete for VL2_S2_R1_001.fastq.gz\n"
     ]
    },
    {
     "name": "stdout",
     "output_type": "stream",
     "text": [
      "Analysis complete for VL2_S2_R1_001.fastq.gz\n",
      "application/gzip\n"
     ]
    },
    {
     "name": "stderr",
     "output_type": "stream",
     "text": [
      "Started analysis of VL3_S3_R1_001.fastq.gz\n",
      "Approx 5% complete for VL3_S3_R1_001.fastq.gz\n",
      "Approx 10% complete for VL3_S3_R1_001.fastq.gz\n",
      "Approx 15% complete for VL3_S3_R1_001.fastq.gz\n",
      "Approx 20% complete for VL3_S3_R1_001.fastq.gz\n",
      "Approx 25% complete for VL3_S3_R1_001.fastq.gz\n",
      "Approx 30% complete for VL3_S3_R1_001.fastq.gz\n",
      "Approx 35% complete for VL3_S3_R1_001.fastq.gz\n",
      "Approx 40% complete for VL3_S3_R1_001.fastq.gz\n",
      "Approx 45% complete for VL3_S3_R1_001.fastq.gz\n",
      "Approx 50% complete for VL3_S3_R1_001.fastq.gz\n",
      "Approx 55% complete for VL3_S3_R1_001.fastq.gz\n",
      "Approx 60% complete for VL3_S3_R1_001.fastq.gz\n",
      "Approx 65% complete for VL3_S3_R1_001.fastq.gz\n",
      "Approx 70% complete for VL3_S3_R1_001.fastq.gz\n",
      "Approx 75% complete for VL3_S3_R1_001.fastq.gz\n",
      "Approx 80% complete for VL3_S3_R1_001.fastq.gz\n",
      "Approx 85% complete for VL3_S3_R1_001.fastq.gz\n",
      "Approx 90% complete for VL3_S3_R1_001.fastq.gz\n",
      "Approx 95% complete for VL3_S3_R1_001.fastq.gz\n"
     ]
    },
    {
     "name": "stdout",
     "output_type": "stream",
     "text": [
      "Analysis complete for VL3_S3_R1_001.fastq.gz\n",
      "application/gzip\n"
     ]
    },
    {
     "name": "stderr",
     "output_type": "stream",
     "text": [
      "Started analysis of VL4_S4_R1_001.fastq.gz\n",
      "Approx 5% complete for VL4_S4_R1_001.fastq.gz\n",
      "Approx 10% complete for VL4_S4_R1_001.fastq.gz\n",
      "Approx 15% complete for VL4_S4_R1_001.fastq.gz\n",
      "Approx 20% complete for VL4_S4_R1_001.fastq.gz\n",
      "Approx 25% complete for VL4_S4_R1_001.fastq.gz\n",
      "Approx 30% complete for VL4_S4_R1_001.fastq.gz\n",
      "Approx 35% complete for VL4_S4_R1_001.fastq.gz\n",
      "Approx 40% complete for VL4_S4_R1_001.fastq.gz\n",
      "Approx 45% complete for VL4_S4_R1_001.fastq.gz\n",
      "Approx 50% complete for VL4_S4_R1_001.fastq.gz\n",
      "Approx 55% complete for VL4_S4_R1_001.fastq.gz\n",
      "Approx 60% complete for VL4_S4_R1_001.fastq.gz\n",
      "Approx 65% complete for VL4_S4_R1_001.fastq.gz\n",
      "Approx 70% complete for VL4_S4_R1_001.fastq.gz\n",
      "Approx 75% complete for VL4_S4_R1_001.fastq.gz\n",
      "Approx 80% complete for VL4_S4_R1_001.fastq.gz\n",
      "Approx 85% complete for VL4_S4_R1_001.fastq.gz\n",
      "Approx 90% complete for VL4_S4_R1_001.fastq.gz\n",
      "Approx 95% complete for VL4_S4_R1_001.fastq.gz\n"
     ]
    },
    {
     "name": "stdout",
     "output_type": "stream",
     "text": [
      "Analysis complete for VL4_S4_R1_001.fastq.gz\n",
      "application/gzip\n"
     ]
    },
    {
     "name": "stderr",
     "output_type": "stream",
     "text": [
      "Started analysis of VL5_S5_R1_001.fastq.gz\n",
      "Approx 5% complete for VL5_S5_R1_001.fastq.gz\n",
      "Approx 10% complete for VL5_S5_R1_001.fastq.gz\n",
      "Approx 15% complete for VL5_S5_R1_001.fastq.gz\n",
      "Approx 20% complete for VL5_S5_R1_001.fastq.gz\n",
      "Approx 25% complete for VL5_S5_R1_001.fastq.gz\n",
      "Approx 30% complete for VL5_S5_R1_001.fastq.gz\n",
      "Approx 35% complete for VL5_S5_R1_001.fastq.gz\n",
      "Approx 40% complete for VL5_S5_R1_001.fastq.gz\n",
      "Approx 45% complete for VL5_S5_R1_001.fastq.gz\n",
      "Approx 50% complete for VL5_S5_R1_001.fastq.gz\n",
      "Approx 55% complete for VL5_S5_R1_001.fastq.gz\n",
      "Approx 60% complete for VL5_S5_R1_001.fastq.gz\n",
      "Approx 65% complete for VL5_S5_R1_001.fastq.gz\n",
      "Approx 70% complete for VL5_S5_R1_001.fastq.gz\n",
      "Approx 75% complete for VL5_S5_R1_001.fastq.gz\n",
      "Approx 80% complete for VL5_S5_R1_001.fastq.gz\n",
      "Approx 85% complete for VL5_S5_R1_001.fastq.gz\n",
      "Approx 90% complete for VL5_S5_R1_001.fastq.gz\n",
      "Approx 95% complete for VL5_S5_R1_001.fastq.gz\n"
     ]
    },
    {
     "name": "stdout",
     "output_type": "stream",
     "text": [
      "Analysis complete for VL5_S5_R1_001.fastq.gz\n",
      "application/gzip\n"
     ]
    },
    {
     "name": "stderr",
     "output_type": "stream",
     "text": [
      "Started analysis of VL6_S6_R1_001.fastq.gz\n",
      "Approx 5% complete for VL6_S6_R1_001.fastq.gz\n",
      "Approx 10% complete for VL6_S6_R1_001.fastq.gz\n",
      "Approx 15% complete for VL6_S6_R1_001.fastq.gz\n",
      "Approx 20% complete for VL6_S6_R1_001.fastq.gz\n",
      "Approx 25% complete for VL6_S6_R1_001.fastq.gz\n",
      "Approx 30% complete for VL6_S6_R1_001.fastq.gz\n",
      "Approx 35% complete for VL6_S6_R1_001.fastq.gz\n",
      "Approx 40% complete for VL6_S6_R1_001.fastq.gz\n",
      "Approx 45% complete for VL6_S6_R1_001.fastq.gz\n",
      "Approx 50% complete for VL6_S6_R1_001.fastq.gz\n",
      "Approx 55% complete for VL6_S6_R1_001.fastq.gz\n",
      "Approx 60% complete for VL6_S6_R1_001.fastq.gz\n",
      "Approx 65% complete for VL6_S6_R1_001.fastq.gz\n",
      "Approx 70% complete for VL6_S6_R1_001.fastq.gz\n",
      "Approx 75% complete for VL6_S6_R1_001.fastq.gz\n",
      "Approx 80% complete for VL6_S6_R1_001.fastq.gz\n",
      "Approx 85% complete for VL6_S6_R1_001.fastq.gz\n",
      "Approx 90% complete for VL6_S6_R1_001.fastq.gz\n",
      "Approx 95% complete for VL6_S6_R1_001.fastq.gz\n"
     ]
    },
    {
     "name": "stdout",
     "output_type": "stream",
     "text": [
      "Analysis complete for VL6_S6_R1_001.fastq.gz\n",
      "application/gzip\n"
     ]
    },
    {
     "name": "stderr",
     "output_type": "stream",
     "text": [
      "Started analysis of VL7_S7_R1_001.fastq.gz\n",
      "Approx 5% complete for VL7_S7_R1_001.fastq.gz\n",
      "Approx 10% complete for VL7_S7_R1_001.fastq.gz\n",
      "Approx 15% complete for VL7_S7_R1_001.fastq.gz\n",
      "Approx 20% complete for VL7_S7_R1_001.fastq.gz\n",
      "Approx 25% complete for VL7_S7_R1_001.fastq.gz\n",
      "Approx 30% complete for VL7_S7_R1_001.fastq.gz\n",
      "Approx 35% complete for VL7_S7_R1_001.fastq.gz\n",
      "Approx 40% complete for VL7_S7_R1_001.fastq.gz\n",
      "Approx 45% complete for VL7_S7_R1_001.fastq.gz\n",
      "Approx 50% complete for VL7_S7_R1_001.fastq.gz\n",
      "Approx 55% complete for VL7_S7_R1_001.fastq.gz\n",
      "Approx 60% complete for VL7_S7_R1_001.fastq.gz\n",
      "Approx 65% complete for VL7_S7_R1_001.fastq.gz\n",
      "Approx 70% complete for VL7_S7_R1_001.fastq.gz\n",
      "Approx 75% complete for VL7_S7_R1_001.fastq.gz\n",
      "Approx 80% complete for VL7_S7_R1_001.fastq.gz\n",
      "Approx 85% complete for VL7_S7_R1_001.fastq.gz\n",
      "Approx 90% complete for VL7_S7_R1_001.fastq.gz\n",
      "Approx 95% complete for VL7_S7_R1_001.fastq.gz\n"
     ]
    },
    {
     "name": "stdout",
     "output_type": "stream",
     "text": [
      "Analysis complete for VL7_S7_R1_001.fastq.gz\n",
      "application/gzip\n"
     ]
    },
    {
     "name": "stderr",
     "output_type": "stream",
     "text": [
      "Started analysis of VL8_S8_R1_001.fastq.gz\n",
      "Approx 5% complete for VL8_S8_R1_001.fastq.gz\n",
      "Approx 10% complete for VL8_S8_R1_001.fastq.gz\n",
      "Approx 15% complete for VL8_S8_R1_001.fastq.gz\n",
      "Approx 20% complete for VL8_S8_R1_001.fastq.gz\n",
      "Approx 25% complete for VL8_S8_R1_001.fastq.gz\n",
      "Approx 30% complete for VL8_S8_R1_001.fastq.gz\n",
      "Approx 35% complete for VL8_S8_R1_001.fastq.gz\n",
      "Approx 40% complete for VL8_S8_R1_001.fastq.gz\n",
      "Approx 45% complete for VL8_S8_R1_001.fastq.gz\n",
      "Approx 50% complete for VL8_S8_R1_001.fastq.gz\n",
      "Approx 55% complete for VL8_S8_R1_001.fastq.gz\n",
      "Approx 60% complete for VL8_S8_R1_001.fastq.gz\n",
      "Approx 65% complete for VL8_S8_R1_001.fastq.gz\n",
      "Approx 70% complete for VL8_S8_R1_001.fastq.gz\n",
      "Approx 75% complete for VL8_S8_R1_001.fastq.gz\n",
      "Approx 80% complete for VL8_S8_R1_001.fastq.gz\n",
      "Approx 85% complete for VL8_S8_R1_001.fastq.gz\n",
      "Approx 90% complete for VL8_S8_R1_001.fastq.gz\n",
      "Approx 95% complete for VL8_S8_R1_001.fastq.gz\n"
     ]
    },
    {
     "name": "stdout",
     "output_type": "stream",
     "text": [
      "Analysis complete for VL8_S8_R1_001.fastq.gz\n"
     ]
    }
   ],
   "source": [
    "%%bash\n",
    "mkdir -p ../output/fastqc\n",
    "for file in ../data/*/*fastq.gz\n",
    "do\n",
    "    fastqc $file -o ../output/fastqc\n",
    "done"
   ]
  },
  {
   "cell_type": "code",
   "execution_count": 9,
   "id": "a6ae3a6e-b5e8-4190-adc5-cf2fd8538e10",
   "metadata": {},
   "outputs": [
    {
     "name": "stderr",
     "output_type": "stream",
     "text": [
      "\n",
      "\u001b[38;5;208m///\u001b[0m \u001b]8;id=287775;https://multiqc.info\u001b\\\u001b[1mMultiQC\u001b[0m\u001b]8;;\u001b\\ 🔍 \u001b[2mv1.26\u001b[0m\n",
      "\n",
      "\u001b[34m       file_search\u001b[0m | Search path: /home/foxenia/projects/brainNGS/output/fastqc\n",
      "\u001b[2K         \u001b[34msearching\u001b[0m | \u001b[38;2;114;156;31m━━━━━━━━━━━━━━━━━━━━━━━━━━━━━━━━━━━━━━━━\u001b[0m \u001b[35m100%\u001b[0m \u001b[32m32/32\u001b[0m  ./output/fastqc/VL8_S8r_R1_001_fastqc.zip\u001b[0m_fastqc.zip\u001b[0m\n",
      "\u001b[?25h\u001b[34m            fastqc\u001b[0m | Found 16 reports\n",
      "\u001b[34m     write_results\u001b[0m | Data        : /home/foxenia/projects/brainNGS/output/multiqc/multiqc_data\n",
      "\u001b[34m     write_results\u001b[0m | Report      : /home/foxenia/projects/brainNGS/output/multiqc/multiqc_report.html\n",
      "\u001b[34m           multiqc\u001b[0m | MultiQC complete\n"
     ]
    }
   ],
   "source": [
    "%%bash\n",
    "multiqc -o ../output/multiqc ../output/fastqc"
   ]
  },
  {
   "cell_type": "markdown",
   "id": "676fe88a-f191-4363-a5b6-5d900db1ad0e",
   "metadata": {},
   "source": [
    "# Trimming\n",
    "\n",
    "\n",
    "Trimming - based on guidelines here - https://www.lexogen.com/wp-content/uploads/2019/12/015UG108V0140-QuantSeq-Data-Analysis-Pipeline_2017-07-03.pdf\n",
    "\n",
    "polyA.fa.gz is https://github.com/BioInfoTools/BBMap/raw/master/resources/polyA.fa.gz, truseq.fa.gz is https://github.com/BioInfoTools/BBMap/raw/master/resources/truseq.fa.gz, both downloaded 16/01/25. truseq is the truseq adapters, polyA is just AAAAAAAA in a fasta file\n",
    "\n",
    "    ref - reference file containing kmers to trim\n",
    "    k=13 - Kmer length, looks for matches >= 13nt\n",
    "    ktrim=r - Trim reads to remove bases matching reference kmers\n",
    "    useshortkmers=t - Allow shorter kmers at read ends\n",
    "    mink=5 - shorter kmers at read ends should be >=5nt\n",
    "    qtrim=r - quality trim reads, right end only\n",
    "    trimq=10 - minimum score to quality trim\n",
    "    minlength=20 - discard reads <20nt after trimming\n",
    "\n"
   ]
  },
  {
   "cell_type": "code",
   "execution_count": 12,
   "id": "756491ec-660f-4914-9f03-1ba59314dd9f",
   "metadata": {},
   "outputs": [
    {
     "name": "stdout",
     "output_type": "stream",
     "text": [
      "../data/NGS-V.Lulla-40921_repeat/VL1_S1r_R1_001.fastq.gz VL1_S1r_R1_001_trimmed.fastq.gz\n",
      "../data/NGS-V.Lulla-40921_repeat/VL2_S2r_R1_001.fastq.gz VL2_S2r_R1_001_trimmed.fastq.gz\n",
      "../data/NGS-V.Lulla-40921_repeat/VL3_S3r_R1_001.fastq.gz VL3_S3r_R1_001_trimmed.fastq.gz\n",
      "../data/NGS-V.Lulla-40921_repeat/VL4_S4r_R1_001.fastq.gz VL4_S4r_R1_001_trimmed.fastq.gz\n",
      "../data/NGS-V.Lulla-40921_repeat/VL5_S5r_R1_001.fastq.gz VL5_S5r_R1_001_trimmed.fastq.gz\n",
      "../data/NGS-V.Lulla-40921_repeat/VL6_S6r_R1_001.fastq.gz VL6_S6r_R1_001_trimmed.fastq.gz\n",
      "../data/NGS-V.Lulla-40921_repeat/VL7_S7r_R1_001.fastq.gz VL7_S7r_R1_001_trimmed.fastq.gz\n",
      "../data/NGS-V.Lulla-40921_repeat/VL8_S8r_R1_001.fastq.gz VL8_S8r_R1_001_trimmed.fastq.gz\n",
      "../data/NGS-V.Lulla-40921/VL1_S1_R1_001.fastq.gz VL1_S1_R1_001_trimmed.fastq.gz\n",
      "../data/NGS-V.Lulla-40921/VL2_S2_R1_001.fastq.gz VL2_S2_R1_001_trimmed.fastq.gz\n",
      "../data/NGS-V.Lulla-40921/VL3_S3_R1_001.fastq.gz VL3_S3_R1_001_trimmed.fastq.gz\n",
      "../data/NGS-V.Lulla-40921/VL4_S4_R1_001.fastq.gz VL4_S4_R1_001_trimmed.fastq.gz\n",
      "../data/NGS-V.Lulla-40921/VL5_S5_R1_001.fastq.gz VL5_S5_R1_001_trimmed.fastq.gz\n",
      "../data/NGS-V.Lulla-40921/VL6_S6_R1_001.fastq.gz VL6_S6_R1_001_trimmed.fastq.gz\n",
      "../data/NGS-V.Lulla-40921/VL7_S7_R1_001.fastq.gz VL7_S7_R1_001_trimmed.fastq.gz\n",
      "../data/NGS-V.Lulla-40921/VL8_S8_R1_001.fastq.gz VL8_S8_R1_001_trimmed.fastq.gz\n"
     ]
    }
   ],
   "source": [
    "%%bash\n",
    "mkdir -p ../data/trimmed_bbduk\n",
    "for file in ../data/N*/*fastq.gz\n",
    "do\n",
    "    out=$(echo $file | cut -d \"/\" -f4 | sed 's/.fastq.gz/_trimmed.fastq.gz/')\n",
    "    log=$(echo $out | sed 's/_trimmed.fastq.gz/.log/')\n",
    "    echo $file $out\n",
    "    /home/foxenia/bin/bbmap/bbduk.sh \\\n",
    "          in=$file \\\n",
    "          out=../data/trimmed_bbduk/$out \\\n",
    "          ref=adapters/polyA.fa.gz,adapters/truseq.fa.gz \\\n",
    "          k=13 ktrim=r useshortkmers=t \\\n",
    "          mink=5 qtrim=r trimq=10 minlength=20 &> ../data/trimmed_bbduk/$log\n",
    "done"
   ]
  },
  {
   "cell_type": "code",
   "execution_count": 13,
   "id": "4b570a62-ece6-4f50-bd21-fbe686b21370",
   "metadata": {},
   "outputs": [
    {
     "name": "stdout",
     "output_type": "stream",
     "text": [
      "application/gzip\n"
     ]
    },
    {
     "name": "stderr",
     "output_type": "stream",
     "text": [
      "Started analysis of VL1_S1_R1_001_trimmed.fastq.gz\n",
      "Approx 5% complete for VL1_S1_R1_001_trimmed.fastq.gz\n",
      "Approx 10% complete for VL1_S1_R1_001_trimmed.fastq.gz\n",
      "Approx 15% complete for VL1_S1_R1_001_trimmed.fastq.gz\n",
      "Approx 20% complete for VL1_S1_R1_001_trimmed.fastq.gz\n",
      "Approx 25% complete for VL1_S1_R1_001_trimmed.fastq.gz\n",
      "Approx 30% complete for VL1_S1_R1_001_trimmed.fastq.gz\n",
      "Approx 35% complete for VL1_S1_R1_001_trimmed.fastq.gz\n",
      "Approx 40% complete for VL1_S1_R1_001_trimmed.fastq.gz\n",
      "Approx 45% complete for VL1_S1_R1_001_trimmed.fastq.gz\n",
      "Approx 50% complete for VL1_S1_R1_001_trimmed.fastq.gz\n",
      "Approx 55% complete for VL1_S1_R1_001_trimmed.fastq.gz\n",
      "Approx 60% complete for VL1_S1_R1_001_trimmed.fastq.gz\n",
      "Approx 65% complete for VL1_S1_R1_001_trimmed.fastq.gz\n",
      "Approx 70% complete for VL1_S1_R1_001_trimmed.fastq.gz\n",
      "Approx 75% complete for VL1_S1_R1_001_trimmed.fastq.gz\n",
      "Approx 80% complete for VL1_S1_R1_001_trimmed.fastq.gz\n",
      "Approx 85% complete for VL1_S1_R1_001_trimmed.fastq.gz\n",
      "Approx 90% complete for VL1_S1_R1_001_trimmed.fastq.gz\n",
      "Approx 95% complete for VL1_S1_R1_001_trimmed.fastq.gz\n"
     ]
    },
    {
     "name": "stdout",
     "output_type": "stream",
     "text": [
      "Analysis complete for VL1_S1_R1_001_trimmed.fastq.gz\n",
      "application/gzip\n"
     ]
    },
    {
     "name": "stderr",
     "output_type": "stream",
     "text": [
      "Started analysis of VL1_S1r_R1_001_trimmed.fastq.gz\n",
      "Approx 5% complete for VL1_S1r_R1_001_trimmed.fastq.gz\n",
      "Approx 10% complete for VL1_S1r_R1_001_trimmed.fastq.gz\n",
      "Approx 15% complete for VL1_S1r_R1_001_trimmed.fastq.gz\n",
      "Approx 20% complete for VL1_S1r_R1_001_trimmed.fastq.gz\n",
      "Approx 25% complete for VL1_S1r_R1_001_trimmed.fastq.gz\n",
      "Approx 30% complete for VL1_S1r_R1_001_trimmed.fastq.gz\n",
      "Approx 35% complete for VL1_S1r_R1_001_trimmed.fastq.gz\n",
      "Approx 40% complete for VL1_S1r_R1_001_trimmed.fastq.gz\n",
      "Approx 45% complete for VL1_S1r_R1_001_trimmed.fastq.gz\n",
      "Approx 50% complete for VL1_S1r_R1_001_trimmed.fastq.gz\n",
      "Approx 55% complete for VL1_S1r_R1_001_trimmed.fastq.gz\n",
      "Approx 60% complete for VL1_S1r_R1_001_trimmed.fastq.gz\n",
      "Approx 65% complete for VL1_S1r_R1_001_trimmed.fastq.gz\n",
      "Approx 70% complete for VL1_S1r_R1_001_trimmed.fastq.gz\n",
      "Approx 75% complete for VL1_S1r_R1_001_trimmed.fastq.gz\n",
      "Approx 80% complete for VL1_S1r_R1_001_trimmed.fastq.gz\n",
      "Approx 85% complete for VL1_S1r_R1_001_trimmed.fastq.gz\n",
      "Approx 90% complete for VL1_S1r_R1_001_trimmed.fastq.gz\n",
      "Approx 95% complete for VL1_S1r_R1_001_trimmed.fastq.gz\n"
     ]
    },
    {
     "name": "stdout",
     "output_type": "stream",
     "text": [
      "Analysis complete for VL1_S1r_R1_001_trimmed.fastq.gz\n",
      "application/gzip\n"
     ]
    },
    {
     "name": "stderr",
     "output_type": "stream",
     "text": [
      "Started analysis of VL2_S2_R1_001_trimmed.fastq.gz\n",
      "Approx 5% complete for VL2_S2_R1_001_trimmed.fastq.gz\n",
      "Approx 10% complete for VL2_S2_R1_001_trimmed.fastq.gz\n",
      "Approx 15% complete for VL2_S2_R1_001_trimmed.fastq.gz\n",
      "Approx 20% complete for VL2_S2_R1_001_trimmed.fastq.gz\n",
      "Approx 25% complete for VL2_S2_R1_001_trimmed.fastq.gz\n",
      "Approx 30% complete for VL2_S2_R1_001_trimmed.fastq.gz\n",
      "Approx 35% complete for VL2_S2_R1_001_trimmed.fastq.gz\n",
      "Approx 40% complete for VL2_S2_R1_001_trimmed.fastq.gz\n",
      "Approx 45% complete for VL2_S2_R1_001_trimmed.fastq.gz\n",
      "Approx 50% complete for VL2_S2_R1_001_trimmed.fastq.gz\n",
      "Approx 55% complete for VL2_S2_R1_001_trimmed.fastq.gz\n",
      "Approx 60% complete for VL2_S2_R1_001_trimmed.fastq.gz\n",
      "Approx 65% complete for VL2_S2_R1_001_trimmed.fastq.gz\n",
      "Approx 70% complete for VL2_S2_R1_001_trimmed.fastq.gz\n",
      "Approx 75% complete for VL2_S2_R1_001_trimmed.fastq.gz\n",
      "Approx 80% complete for VL2_S2_R1_001_trimmed.fastq.gz\n",
      "Approx 85% complete for VL2_S2_R1_001_trimmed.fastq.gz\n",
      "Approx 90% complete for VL2_S2_R1_001_trimmed.fastq.gz\n",
      "Approx 95% complete for VL2_S2_R1_001_trimmed.fastq.gz\n"
     ]
    },
    {
     "name": "stdout",
     "output_type": "stream",
     "text": [
      "Analysis complete for VL2_S2_R1_001_trimmed.fastq.gz\n",
      "application/gzip\n"
     ]
    },
    {
     "name": "stderr",
     "output_type": "stream",
     "text": [
      "Started analysis of VL2_S2r_R1_001_trimmed.fastq.gz\n",
      "Approx 5% complete for VL2_S2r_R1_001_trimmed.fastq.gz\n",
      "Approx 10% complete for VL2_S2r_R1_001_trimmed.fastq.gz\n",
      "Approx 15% complete for VL2_S2r_R1_001_trimmed.fastq.gz\n",
      "Approx 20% complete for VL2_S2r_R1_001_trimmed.fastq.gz\n",
      "Approx 25% complete for VL2_S2r_R1_001_trimmed.fastq.gz\n",
      "Approx 30% complete for VL2_S2r_R1_001_trimmed.fastq.gz\n",
      "Approx 35% complete for VL2_S2r_R1_001_trimmed.fastq.gz\n",
      "Approx 40% complete for VL2_S2r_R1_001_trimmed.fastq.gz\n",
      "Approx 45% complete for VL2_S2r_R1_001_trimmed.fastq.gz\n",
      "Approx 50% complete for VL2_S2r_R1_001_trimmed.fastq.gz\n",
      "Approx 55% complete for VL2_S2r_R1_001_trimmed.fastq.gz\n",
      "Approx 60% complete for VL2_S2r_R1_001_trimmed.fastq.gz\n",
      "Approx 65% complete for VL2_S2r_R1_001_trimmed.fastq.gz\n",
      "Approx 70% complete for VL2_S2r_R1_001_trimmed.fastq.gz\n",
      "Approx 75% complete for VL2_S2r_R1_001_trimmed.fastq.gz\n",
      "Approx 80% complete for VL2_S2r_R1_001_trimmed.fastq.gz\n",
      "Approx 85% complete for VL2_S2r_R1_001_trimmed.fastq.gz\n",
      "Approx 90% complete for VL2_S2r_R1_001_trimmed.fastq.gz\n",
      "Approx 95% complete for VL2_S2r_R1_001_trimmed.fastq.gz\n"
     ]
    },
    {
     "name": "stdout",
     "output_type": "stream",
     "text": [
      "Analysis complete for VL2_S2r_R1_001_trimmed.fastq.gz\n",
      "application/gzip\n"
     ]
    },
    {
     "name": "stderr",
     "output_type": "stream",
     "text": [
      "Started analysis of VL3_S3_R1_001_trimmed.fastq.gz\n",
      "Approx 5% complete for VL3_S3_R1_001_trimmed.fastq.gz\n",
      "Approx 10% complete for VL3_S3_R1_001_trimmed.fastq.gz\n",
      "Approx 15% complete for VL3_S3_R1_001_trimmed.fastq.gz\n",
      "Approx 20% complete for VL3_S3_R1_001_trimmed.fastq.gz\n",
      "Approx 25% complete for VL3_S3_R1_001_trimmed.fastq.gz\n",
      "Approx 30% complete for VL3_S3_R1_001_trimmed.fastq.gz\n",
      "Approx 35% complete for VL3_S3_R1_001_trimmed.fastq.gz\n",
      "Approx 40% complete for VL3_S3_R1_001_trimmed.fastq.gz\n",
      "Approx 45% complete for VL3_S3_R1_001_trimmed.fastq.gz\n",
      "Approx 50% complete for VL3_S3_R1_001_trimmed.fastq.gz\n",
      "Approx 55% complete for VL3_S3_R1_001_trimmed.fastq.gz\n",
      "Approx 60% complete for VL3_S3_R1_001_trimmed.fastq.gz\n",
      "Approx 65% complete for VL3_S3_R1_001_trimmed.fastq.gz\n",
      "Approx 70% complete for VL3_S3_R1_001_trimmed.fastq.gz\n",
      "Approx 75% complete for VL3_S3_R1_001_trimmed.fastq.gz\n",
      "Approx 80% complete for VL3_S3_R1_001_trimmed.fastq.gz\n",
      "Approx 85% complete for VL3_S3_R1_001_trimmed.fastq.gz\n",
      "Approx 90% complete for VL3_S3_R1_001_trimmed.fastq.gz\n",
      "Approx 95% complete for VL3_S3_R1_001_trimmed.fastq.gz\n"
     ]
    },
    {
     "name": "stdout",
     "output_type": "stream",
     "text": [
      "Analysis complete for VL3_S3_R1_001_trimmed.fastq.gz\n",
      "application/gzip\n"
     ]
    },
    {
     "name": "stderr",
     "output_type": "stream",
     "text": [
      "Started analysis of VL3_S3r_R1_001_trimmed.fastq.gz\n",
      "Approx 5% complete for VL3_S3r_R1_001_trimmed.fastq.gz\n",
      "Approx 10% complete for VL3_S3r_R1_001_trimmed.fastq.gz\n",
      "Approx 15% complete for VL3_S3r_R1_001_trimmed.fastq.gz\n",
      "Approx 20% complete for VL3_S3r_R1_001_trimmed.fastq.gz\n",
      "Approx 25% complete for VL3_S3r_R1_001_trimmed.fastq.gz\n",
      "Approx 30% complete for VL3_S3r_R1_001_trimmed.fastq.gz\n",
      "Approx 35% complete for VL3_S3r_R1_001_trimmed.fastq.gz\n",
      "Approx 40% complete for VL3_S3r_R1_001_trimmed.fastq.gz\n",
      "Approx 45% complete for VL3_S3r_R1_001_trimmed.fastq.gz\n",
      "Approx 50% complete for VL3_S3r_R1_001_trimmed.fastq.gz\n",
      "Approx 55% complete for VL3_S3r_R1_001_trimmed.fastq.gz\n",
      "Approx 60% complete for VL3_S3r_R1_001_trimmed.fastq.gz\n",
      "Approx 65% complete for VL3_S3r_R1_001_trimmed.fastq.gz\n",
      "Approx 70% complete for VL3_S3r_R1_001_trimmed.fastq.gz\n",
      "Approx 75% complete for VL3_S3r_R1_001_trimmed.fastq.gz\n",
      "Approx 80% complete for VL3_S3r_R1_001_trimmed.fastq.gz\n",
      "Approx 85% complete for VL3_S3r_R1_001_trimmed.fastq.gz\n",
      "Approx 90% complete for VL3_S3r_R1_001_trimmed.fastq.gz\n",
      "Approx 95% complete for VL3_S3r_R1_001_trimmed.fastq.gz\n"
     ]
    },
    {
     "name": "stdout",
     "output_type": "stream",
     "text": [
      "Analysis complete for VL3_S3r_R1_001_trimmed.fastq.gz\n",
      "application/gzip\n"
     ]
    },
    {
     "name": "stderr",
     "output_type": "stream",
     "text": [
      "Started analysis of VL4_S4_R1_001_trimmed.fastq.gz\n",
      "Approx 5% complete for VL4_S4_R1_001_trimmed.fastq.gz\n",
      "Approx 10% complete for VL4_S4_R1_001_trimmed.fastq.gz\n",
      "Approx 15% complete for VL4_S4_R1_001_trimmed.fastq.gz\n",
      "Approx 20% complete for VL4_S4_R1_001_trimmed.fastq.gz\n",
      "Approx 25% complete for VL4_S4_R1_001_trimmed.fastq.gz\n",
      "Approx 30% complete for VL4_S4_R1_001_trimmed.fastq.gz\n",
      "Approx 35% complete for VL4_S4_R1_001_trimmed.fastq.gz\n",
      "Approx 40% complete for VL4_S4_R1_001_trimmed.fastq.gz\n",
      "Approx 45% complete for VL4_S4_R1_001_trimmed.fastq.gz\n",
      "Approx 50% complete for VL4_S4_R1_001_trimmed.fastq.gz\n",
      "Approx 55% complete for VL4_S4_R1_001_trimmed.fastq.gz\n",
      "Approx 60% complete for VL4_S4_R1_001_trimmed.fastq.gz\n",
      "Approx 65% complete for VL4_S4_R1_001_trimmed.fastq.gz\n",
      "Approx 70% complete for VL4_S4_R1_001_trimmed.fastq.gz\n",
      "Approx 75% complete for VL4_S4_R1_001_trimmed.fastq.gz\n",
      "Approx 80% complete for VL4_S4_R1_001_trimmed.fastq.gz\n",
      "Approx 85% complete for VL4_S4_R1_001_trimmed.fastq.gz\n",
      "Approx 90% complete for VL4_S4_R1_001_trimmed.fastq.gz\n",
      "Approx 95% complete for VL4_S4_R1_001_trimmed.fastq.gz\n"
     ]
    },
    {
     "name": "stdout",
     "output_type": "stream",
     "text": [
      "Analysis complete for VL4_S4_R1_001_trimmed.fastq.gz\n",
      "application/gzip\n"
     ]
    },
    {
     "name": "stderr",
     "output_type": "stream",
     "text": [
      "Started analysis of VL4_S4r_R1_001_trimmed.fastq.gz\n",
      "Approx 5% complete for VL4_S4r_R1_001_trimmed.fastq.gz\n",
      "Approx 10% complete for VL4_S4r_R1_001_trimmed.fastq.gz\n",
      "Approx 15% complete for VL4_S4r_R1_001_trimmed.fastq.gz\n",
      "Approx 20% complete for VL4_S4r_R1_001_trimmed.fastq.gz\n",
      "Approx 25% complete for VL4_S4r_R1_001_trimmed.fastq.gz\n",
      "Approx 30% complete for VL4_S4r_R1_001_trimmed.fastq.gz\n",
      "Approx 35% complete for VL4_S4r_R1_001_trimmed.fastq.gz\n",
      "Approx 40% complete for VL4_S4r_R1_001_trimmed.fastq.gz\n",
      "Approx 45% complete for VL4_S4r_R1_001_trimmed.fastq.gz\n",
      "Approx 50% complete for VL4_S4r_R1_001_trimmed.fastq.gz\n",
      "Approx 55% complete for VL4_S4r_R1_001_trimmed.fastq.gz\n",
      "Approx 60% complete for VL4_S4r_R1_001_trimmed.fastq.gz\n",
      "Approx 65% complete for VL4_S4r_R1_001_trimmed.fastq.gz\n",
      "Approx 70% complete for VL4_S4r_R1_001_trimmed.fastq.gz\n",
      "Approx 75% complete for VL4_S4r_R1_001_trimmed.fastq.gz\n",
      "Approx 80% complete for VL4_S4r_R1_001_trimmed.fastq.gz\n",
      "Approx 85% complete for VL4_S4r_R1_001_trimmed.fastq.gz\n",
      "Approx 90% complete for VL4_S4r_R1_001_trimmed.fastq.gz\n",
      "Approx 95% complete for VL4_S4r_R1_001_trimmed.fastq.gz\n"
     ]
    },
    {
     "name": "stdout",
     "output_type": "stream",
     "text": [
      "Analysis complete for VL4_S4r_R1_001_trimmed.fastq.gz\n",
      "application/gzip\n"
     ]
    },
    {
     "name": "stderr",
     "output_type": "stream",
     "text": [
      "Started analysis of VL5_S5_R1_001_trimmed.fastq.gz\n",
      "Approx 5% complete for VL5_S5_R1_001_trimmed.fastq.gz\n",
      "Approx 10% complete for VL5_S5_R1_001_trimmed.fastq.gz\n",
      "Approx 15% complete for VL5_S5_R1_001_trimmed.fastq.gz\n",
      "Approx 20% complete for VL5_S5_R1_001_trimmed.fastq.gz\n",
      "Approx 25% complete for VL5_S5_R1_001_trimmed.fastq.gz\n",
      "Approx 30% complete for VL5_S5_R1_001_trimmed.fastq.gz\n",
      "Approx 35% complete for VL5_S5_R1_001_trimmed.fastq.gz\n",
      "Approx 40% complete for VL5_S5_R1_001_trimmed.fastq.gz\n",
      "Approx 45% complete for VL5_S5_R1_001_trimmed.fastq.gz\n",
      "Approx 50% complete for VL5_S5_R1_001_trimmed.fastq.gz\n",
      "Approx 55% complete for VL5_S5_R1_001_trimmed.fastq.gz\n",
      "Approx 60% complete for VL5_S5_R1_001_trimmed.fastq.gz\n",
      "Approx 65% complete for VL5_S5_R1_001_trimmed.fastq.gz\n",
      "Approx 70% complete for VL5_S5_R1_001_trimmed.fastq.gz\n",
      "Approx 75% complete for VL5_S5_R1_001_trimmed.fastq.gz\n",
      "Approx 80% complete for VL5_S5_R1_001_trimmed.fastq.gz\n",
      "Approx 85% complete for VL5_S5_R1_001_trimmed.fastq.gz\n",
      "Approx 90% complete for VL5_S5_R1_001_trimmed.fastq.gz\n",
      "Approx 95% complete for VL5_S5_R1_001_trimmed.fastq.gz\n"
     ]
    },
    {
     "name": "stdout",
     "output_type": "stream",
     "text": [
      "Analysis complete for VL5_S5_R1_001_trimmed.fastq.gz\n",
      "application/gzip\n"
     ]
    },
    {
     "name": "stderr",
     "output_type": "stream",
     "text": [
      "Started analysis of VL5_S5r_R1_001_trimmed.fastq.gz\n",
      "Approx 5% complete for VL5_S5r_R1_001_trimmed.fastq.gz\n",
      "Approx 10% complete for VL5_S5r_R1_001_trimmed.fastq.gz\n",
      "Approx 15% complete for VL5_S5r_R1_001_trimmed.fastq.gz\n",
      "Approx 20% complete for VL5_S5r_R1_001_trimmed.fastq.gz\n",
      "Approx 25% complete for VL5_S5r_R1_001_trimmed.fastq.gz\n",
      "Approx 30% complete for VL5_S5r_R1_001_trimmed.fastq.gz\n",
      "Approx 35% complete for VL5_S5r_R1_001_trimmed.fastq.gz\n",
      "Approx 40% complete for VL5_S5r_R1_001_trimmed.fastq.gz\n",
      "Approx 45% complete for VL5_S5r_R1_001_trimmed.fastq.gz\n",
      "Approx 50% complete for VL5_S5r_R1_001_trimmed.fastq.gz\n",
      "Approx 55% complete for VL5_S5r_R1_001_trimmed.fastq.gz\n",
      "Approx 60% complete for VL5_S5r_R1_001_trimmed.fastq.gz\n",
      "Approx 65% complete for VL5_S5r_R1_001_trimmed.fastq.gz\n",
      "Approx 70% complete for VL5_S5r_R1_001_trimmed.fastq.gz\n",
      "Approx 75% complete for VL5_S5r_R1_001_trimmed.fastq.gz\n",
      "Approx 80% complete for VL5_S5r_R1_001_trimmed.fastq.gz\n",
      "Approx 85% complete for VL5_S5r_R1_001_trimmed.fastq.gz\n",
      "Approx 90% complete for VL5_S5r_R1_001_trimmed.fastq.gz\n",
      "Approx 95% complete for VL5_S5r_R1_001_trimmed.fastq.gz\n"
     ]
    },
    {
     "name": "stdout",
     "output_type": "stream",
     "text": [
      "Analysis complete for VL5_S5r_R1_001_trimmed.fastq.gz\n",
      "application/gzip\n"
     ]
    },
    {
     "name": "stderr",
     "output_type": "stream",
     "text": [
      "Started analysis of VL6_S6_R1_001_trimmed.fastq.gz\n",
      "Approx 5% complete for VL6_S6_R1_001_trimmed.fastq.gz\n",
      "Approx 10% complete for VL6_S6_R1_001_trimmed.fastq.gz\n",
      "Approx 15% complete for VL6_S6_R1_001_trimmed.fastq.gz\n",
      "Approx 20% complete for VL6_S6_R1_001_trimmed.fastq.gz\n",
      "Approx 25% complete for VL6_S6_R1_001_trimmed.fastq.gz\n",
      "Approx 30% complete for VL6_S6_R1_001_trimmed.fastq.gz\n",
      "Approx 35% complete for VL6_S6_R1_001_trimmed.fastq.gz\n",
      "Approx 40% complete for VL6_S6_R1_001_trimmed.fastq.gz\n",
      "Approx 45% complete for VL6_S6_R1_001_trimmed.fastq.gz\n",
      "Approx 50% complete for VL6_S6_R1_001_trimmed.fastq.gz\n",
      "Approx 55% complete for VL6_S6_R1_001_trimmed.fastq.gz\n",
      "Approx 60% complete for VL6_S6_R1_001_trimmed.fastq.gz\n",
      "Approx 65% complete for VL6_S6_R1_001_trimmed.fastq.gz\n",
      "Approx 70% complete for VL6_S6_R1_001_trimmed.fastq.gz\n",
      "Approx 75% complete for VL6_S6_R1_001_trimmed.fastq.gz\n",
      "Approx 80% complete for VL6_S6_R1_001_trimmed.fastq.gz\n",
      "Approx 85% complete for VL6_S6_R1_001_trimmed.fastq.gz\n",
      "Approx 90% complete for VL6_S6_R1_001_trimmed.fastq.gz\n",
      "Approx 95% complete for VL6_S6_R1_001_trimmed.fastq.gz\n"
     ]
    },
    {
     "name": "stdout",
     "output_type": "stream",
     "text": [
      "Analysis complete for VL6_S6_R1_001_trimmed.fastq.gz\n",
      "application/gzip\n"
     ]
    },
    {
     "name": "stderr",
     "output_type": "stream",
     "text": [
      "Started analysis of VL6_S6r_R1_001_trimmed.fastq.gz\n",
      "Approx 5% complete for VL6_S6r_R1_001_trimmed.fastq.gz\n",
      "Approx 10% complete for VL6_S6r_R1_001_trimmed.fastq.gz\n",
      "Approx 15% complete for VL6_S6r_R1_001_trimmed.fastq.gz\n",
      "Approx 20% complete for VL6_S6r_R1_001_trimmed.fastq.gz\n",
      "Approx 25% complete for VL6_S6r_R1_001_trimmed.fastq.gz\n",
      "Approx 30% complete for VL6_S6r_R1_001_trimmed.fastq.gz\n",
      "Approx 35% complete for VL6_S6r_R1_001_trimmed.fastq.gz\n",
      "Approx 40% complete for VL6_S6r_R1_001_trimmed.fastq.gz\n",
      "Approx 45% complete for VL6_S6r_R1_001_trimmed.fastq.gz\n",
      "Approx 50% complete for VL6_S6r_R1_001_trimmed.fastq.gz\n",
      "Approx 55% complete for VL6_S6r_R1_001_trimmed.fastq.gz\n",
      "Approx 60% complete for VL6_S6r_R1_001_trimmed.fastq.gz\n",
      "Approx 65% complete for VL6_S6r_R1_001_trimmed.fastq.gz\n",
      "Approx 70% complete for VL6_S6r_R1_001_trimmed.fastq.gz\n",
      "Approx 75% complete for VL6_S6r_R1_001_trimmed.fastq.gz\n",
      "Approx 80% complete for VL6_S6r_R1_001_trimmed.fastq.gz\n",
      "Approx 85% complete for VL6_S6r_R1_001_trimmed.fastq.gz\n",
      "Approx 90% complete for VL6_S6r_R1_001_trimmed.fastq.gz\n",
      "Approx 95% complete for VL6_S6r_R1_001_trimmed.fastq.gz\n"
     ]
    },
    {
     "name": "stdout",
     "output_type": "stream",
     "text": [
      "Analysis complete for VL6_S6r_R1_001_trimmed.fastq.gz\n",
      "application/gzip\n"
     ]
    },
    {
     "name": "stderr",
     "output_type": "stream",
     "text": [
      "Started analysis of VL7_S7_R1_001_trimmed.fastq.gz\n",
      "Approx 5% complete for VL7_S7_R1_001_trimmed.fastq.gz\n",
      "Approx 10% complete for VL7_S7_R1_001_trimmed.fastq.gz\n",
      "Approx 15% complete for VL7_S7_R1_001_trimmed.fastq.gz\n",
      "Approx 20% complete for VL7_S7_R1_001_trimmed.fastq.gz\n",
      "Approx 25% complete for VL7_S7_R1_001_trimmed.fastq.gz\n",
      "Approx 30% complete for VL7_S7_R1_001_trimmed.fastq.gz\n",
      "Approx 35% complete for VL7_S7_R1_001_trimmed.fastq.gz\n",
      "Approx 40% complete for VL7_S7_R1_001_trimmed.fastq.gz\n",
      "Approx 45% complete for VL7_S7_R1_001_trimmed.fastq.gz\n",
      "Approx 50% complete for VL7_S7_R1_001_trimmed.fastq.gz\n",
      "Approx 55% complete for VL7_S7_R1_001_trimmed.fastq.gz\n",
      "Approx 60% complete for VL7_S7_R1_001_trimmed.fastq.gz\n",
      "Approx 65% complete for VL7_S7_R1_001_trimmed.fastq.gz\n",
      "Approx 70% complete for VL7_S7_R1_001_trimmed.fastq.gz\n",
      "Approx 75% complete for VL7_S7_R1_001_trimmed.fastq.gz\n",
      "Approx 80% complete for VL7_S7_R1_001_trimmed.fastq.gz\n",
      "Approx 85% complete for VL7_S7_R1_001_trimmed.fastq.gz\n",
      "Approx 90% complete for VL7_S7_R1_001_trimmed.fastq.gz\n",
      "Approx 95% complete for VL7_S7_R1_001_trimmed.fastq.gz\n"
     ]
    },
    {
     "name": "stdout",
     "output_type": "stream",
     "text": [
      "Analysis complete for VL7_S7_R1_001_trimmed.fastq.gz\n",
      "application/gzip\n"
     ]
    },
    {
     "name": "stderr",
     "output_type": "stream",
     "text": [
      "Started analysis of VL7_S7r_R1_001_trimmed.fastq.gz\n",
      "Approx 5% complete for VL7_S7r_R1_001_trimmed.fastq.gz\n",
      "Approx 10% complete for VL7_S7r_R1_001_trimmed.fastq.gz\n",
      "Approx 15% complete for VL7_S7r_R1_001_trimmed.fastq.gz\n",
      "Approx 20% complete for VL7_S7r_R1_001_trimmed.fastq.gz\n",
      "Approx 25% complete for VL7_S7r_R1_001_trimmed.fastq.gz\n",
      "Approx 30% complete for VL7_S7r_R1_001_trimmed.fastq.gz\n",
      "Approx 35% complete for VL7_S7r_R1_001_trimmed.fastq.gz\n",
      "Approx 40% complete for VL7_S7r_R1_001_trimmed.fastq.gz\n",
      "Approx 45% complete for VL7_S7r_R1_001_trimmed.fastq.gz\n",
      "Approx 50% complete for VL7_S7r_R1_001_trimmed.fastq.gz\n",
      "Approx 55% complete for VL7_S7r_R1_001_trimmed.fastq.gz\n",
      "Approx 60% complete for VL7_S7r_R1_001_trimmed.fastq.gz\n",
      "Approx 65% complete for VL7_S7r_R1_001_trimmed.fastq.gz\n",
      "Approx 70% complete for VL7_S7r_R1_001_trimmed.fastq.gz\n",
      "Approx 75% complete for VL7_S7r_R1_001_trimmed.fastq.gz\n",
      "Approx 80% complete for VL7_S7r_R1_001_trimmed.fastq.gz\n",
      "Approx 85% complete for VL7_S7r_R1_001_trimmed.fastq.gz\n",
      "Approx 90% complete for VL7_S7r_R1_001_trimmed.fastq.gz\n",
      "Approx 95% complete for VL7_S7r_R1_001_trimmed.fastq.gz\n"
     ]
    },
    {
     "name": "stdout",
     "output_type": "stream",
     "text": [
      "Analysis complete for VL7_S7r_R1_001_trimmed.fastq.gz\n",
      "application/gzip\n"
     ]
    },
    {
     "name": "stderr",
     "output_type": "stream",
     "text": [
      "Started analysis of VL8_S8_R1_001_trimmed.fastq.gz\n",
      "Approx 5% complete for VL8_S8_R1_001_trimmed.fastq.gz\n",
      "Approx 10% complete for VL8_S8_R1_001_trimmed.fastq.gz\n",
      "Approx 15% complete for VL8_S8_R1_001_trimmed.fastq.gz\n",
      "Approx 20% complete for VL8_S8_R1_001_trimmed.fastq.gz\n",
      "Approx 25% complete for VL8_S8_R1_001_trimmed.fastq.gz\n",
      "Approx 30% complete for VL8_S8_R1_001_trimmed.fastq.gz\n",
      "Approx 35% complete for VL8_S8_R1_001_trimmed.fastq.gz\n",
      "Approx 40% complete for VL8_S8_R1_001_trimmed.fastq.gz\n",
      "Approx 45% complete for VL8_S8_R1_001_trimmed.fastq.gz\n",
      "Approx 50% complete for VL8_S8_R1_001_trimmed.fastq.gz\n",
      "Approx 55% complete for VL8_S8_R1_001_trimmed.fastq.gz\n",
      "Approx 60% complete for VL8_S8_R1_001_trimmed.fastq.gz\n",
      "Approx 65% complete for VL8_S8_R1_001_trimmed.fastq.gz\n",
      "Approx 70% complete for VL8_S8_R1_001_trimmed.fastq.gz\n",
      "Approx 75% complete for VL8_S8_R1_001_trimmed.fastq.gz\n",
      "Approx 80% complete for VL8_S8_R1_001_trimmed.fastq.gz\n",
      "Approx 85% complete for VL8_S8_R1_001_trimmed.fastq.gz\n",
      "Approx 90% complete for VL8_S8_R1_001_trimmed.fastq.gz\n",
      "Approx 95% complete for VL8_S8_R1_001_trimmed.fastq.gz\n"
     ]
    },
    {
     "name": "stdout",
     "output_type": "stream",
     "text": [
      "Analysis complete for VL8_S8_R1_001_trimmed.fastq.gz\n",
      "application/gzip\n"
     ]
    },
    {
     "name": "stderr",
     "output_type": "stream",
     "text": [
      "Started analysis of VL8_S8r_R1_001_trimmed.fastq.gz\n",
      "Approx 5% complete for VL8_S8r_R1_001_trimmed.fastq.gz\n",
      "Approx 10% complete for VL8_S8r_R1_001_trimmed.fastq.gz\n",
      "Approx 15% complete for VL8_S8r_R1_001_trimmed.fastq.gz\n",
      "Approx 20% complete for VL8_S8r_R1_001_trimmed.fastq.gz\n",
      "Approx 25% complete for VL8_S8r_R1_001_trimmed.fastq.gz\n",
      "Approx 30% complete for VL8_S8r_R1_001_trimmed.fastq.gz\n",
      "Approx 35% complete for VL8_S8r_R1_001_trimmed.fastq.gz\n",
      "Approx 40% complete for VL8_S8r_R1_001_trimmed.fastq.gz\n",
      "Approx 45% complete for VL8_S8r_R1_001_trimmed.fastq.gz\n",
      "Approx 50% complete for VL8_S8r_R1_001_trimmed.fastq.gz\n",
      "Approx 55% complete for VL8_S8r_R1_001_trimmed.fastq.gz\n",
      "Approx 60% complete for VL8_S8r_R1_001_trimmed.fastq.gz\n",
      "Approx 65% complete for VL8_S8r_R1_001_trimmed.fastq.gz\n",
      "Approx 70% complete for VL8_S8r_R1_001_trimmed.fastq.gz\n",
      "Approx 75% complete for VL8_S8r_R1_001_trimmed.fastq.gz\n",
      "Approx 80% complete for VL8_S8r_R1_001_trimmed.fastq.gz\n",
      "Approx 85% complete for VL8_S8r_R1_001_trimmed.fastq.gz\n",
      "Approx 90% complete for VL8_S8r_R1_001_trimmed.fastq.gz\n",
      "Approx 95% complete for VL8_S8r_R1_001_trimmed.fastq.gz\n"
     ]
    },
    {
     "name": "stdout",
     "output_type": "stream",
     "text": [
      "Analysis complete for VL8_S8r_R1_001_trimmed.fastq.gz\n"
     ]
    }
   ],
   "source": [
    "%%bash\n",
    "mkdir -p ../output/fastqc_trimmed_bbduk\n",
    "for file in ../data/trimmed_bbduk/*fastq.gz\n",
    "do\n",
    "    fastqc $file -o ../output/fastqc_trimmed_bbduk\n",
    "done"
   ]
  },
  {
   "cell_type": "code",
   "execution_count": 16,
   "id": "80ec3cfd-3c77-4b81-b53d-13fa6b3dc3eb",
   "metadata": {},
   "outputs": [
    {
     "name": "stderr",
     "output_type": "stream",
     "text": [
      "\n",
      "\u001b[38;5;208m///\u001b[0m \u001b]8;id=331065;https://multiqc.info\u001b\\\u001b[1mMultiQC\u001b[0m\u001b]8;;\u001b\\ 🔍 \u001b[2mv1.26\u001b[0m\n",
      "\n",
      "\u001b[34m       file_search\u001b[0m | Search path: /home/foxenia/projects/brainNGS/output/fastqc_trimmed_bbduk\n",
      "\u001b[2K         \u001b[34msearching\u001b[0m | \u001b[38;2;114;156;31m━━━━━━━━━━━━━━━━━━━━━━━━━━━━━━━━━━━━━━━━\u001b[0m \u001b[35m100%\u001b[0m \u001b[32m32/32\u001b[0m   \n",
      "\u001b[?25h\u001b[34m            fastqc\u001b[0m | Found 16 reports\n",
      "\u001b[34m     write_results\u001b[0m | Data        : /home/foxenia/projects/brainNGS/output/multiqc_trimmed_bbduk/multiqc_data\n",
      "\u001b[34m     write_results\u001b[0m | Report      : /home/foxenia/projects/brainNGS/output/multiqc_trimmed_bbduk/multiqc_report.html\n",
      "\u001b[34m           multiqc\u001b[0m | MultiQC complete\n"
     ]
    }
   ],
   "source": [
    "%%bash\n",
    "multiqc -o ../output/multiqc_trimmed_bbduk ../output/fastqc_trimmed_bbduk"
   ]
  },
  {
   "cell_type": "code",
   "execution_count": null,
   "id": "7763d7cb-8323-4178-af46-d5d540be05fb",
   "metadata": {},
   "outputs": [],
   "source": []
  }
 ],
 "metadata": {
  "kernelspec": {
   "display_name": "Python 3 (ipykernel)",
   "language": "python",
   "name": "python3"
  },
  "language_info": {
   "codemirror_mode": {
    "name": "ipython",
    "version": 3
   },
   "file_extension": ".py",
   "mimetype": "text/x-python",
   "name": "python",
   "nbconvert_exporter": "python",
   "pygments_lexer": "ipython3",
   "version": "3.13.1"
  }
 },
 "nbformat": 4,
 "nbformat_minor": 5
}
