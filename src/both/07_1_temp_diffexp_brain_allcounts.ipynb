{
 "cells": [
  {
   "cell_type": "code",
   "execution_count": 1,
   "id": "f9cc9ef3-4a78-4617-9eb0-170e47c23fb6",
   "metadata": {},
   "outputs": [
    {
     "name": "stdout",
     "output_type": "stream",
     "text": [
      "[1] \"condition\"      \"replicate\"      \"organoid_stage\" \"id\"            \n",
      "[5] \"name\"           \"tissue\"        \n"
     ]
    }
   ],
   "source": [
    "samples <- read.table('both_samples.tsv')\n",
    "# Переименовываем столбец 'virus' на 'condition'\n",
    "colnames(samples)[colnames(samples) == \"virus\"] <- \"condition\"\n",
    "# Проверяем, что столбец был переименован\n",
    "print(colnames(samples))\n",
    "# Если нужно сохранить измененный файл\n",
    "write.table(samples, 'both_samples_condition.tsv')\n"
   ]
  },
  {
   "cell_type": "code",
   "execution_count": 2,
   "id": "3858b1cc-982b-41e3-b4cf-e96fba1599ad",
   "metadata": {},
   "outputs": [
    {
     "name": "stderr",
     "output_type": "stream",
     "text": [
      "\n",
      "Attaching package: ‘dplyr’\n",
      "\n",
      "\n",
      "The following objects are masked from ‘package:stats’:\n",
      "\n",
      "    filter, lag\n",
      "\n",
      "\n",
      "The following objects are masked from ‘package:base’:\n",
      "\n",
      "    intersect, setdiff, setequal, union\n",
      "\n",
      "\n"
     ]
    }
   ],
   "source": [
    "#load library and create subsets\n",
    "library(dplyr)\n",
    "\n",
    "samples <- read.table('both_samples_condition.tsv')\n",
    "\n",
    "bsamples <- samples %>% filter(tissue == \"brain\")\n",
    "gsamples <- samples %>% filter(tissue == \"gut\")\n",
    "gundiffsamples <- samples %>% filter(tissue == \"gut\", organoid_stage == \"undiff\")\n",
    "gdiffsamples <- samples %>% filter(tissue == \"gut\", organoid_stage == \"diff\")\n"
   ]
  },
  {
   "cell_type": "code",
   "execution_count": 3,
   "id": "ba863866-4ec1-4870-b122-8fd8b301e87e",
   "metadata": {},
   "outputs": [
    {
     "data": {
      "text/html": [
       "<table class=\"dataframe\">\n",
       "<caption>A data.frame: 8 × 6</caption>\n",
       "<thead>\n",
       "\t<tr><th></th><th scope=col>condition</th><th scope=col>replicate</th><th scope=col>organoid_stage</th><th scope=col>id</th><th scope=col>name</th><th scope=col>tissue</th></tr>\n",
       "\t<tr><th></th><th scope=col>&lt;chr&gt;</th><th scope=col>&lt;int&gt;</th><th scope=col>&lt;chr&gt;</th><th scope=col>&lt;chr&gt;</th><th scope=col>&lt;chr&gt;</th><th scope=col>&lt;chr&gt;</th></tr>\n",
       "</thead>\n",
       "<tbody>\n",
       "\t<tr><th scope=row>VL1</th><td>MLB2  </td><td>1</td><td>4d</td><td>VL1</td><td>MLB2_brain_4d_VL1  </td><td>brain</td></tr>\n",
       "\t<tr><th scope=row>VL2</th><td>MLB2  </td><td>2</td><td>4d</td><td>VL2</td><td>MLB2_brain_4d_VL2  </td><td>brain</td></tr>\n",
       "\t<tr><th scope=row>VL3</th><td>VA1   </td><td>1</td><td>4d</td><td>VL3</td><td>VA1_brain_4d_VL3   </td><td>brain</td></tr>\n",
       "\t<tr><th scope=row>VL4</th><td>VA1   </td><td>2</td><td>4d</td><td>VL4</td><td>VA1_brain_4d_VL4   </td><td>brain</td></tr>\n",
       "\t<tr><th scope=row>VL5</th><td>HAstV4</td><td>1</td><td>4d</td><td>VL5</td><td>HAstV4_brain_4d_VL5</td><td>brain</td></tr>\n",
       "\t<tr><th scope=row>VL6</th><td>HAstV4</td><td>2</td><td>4d</td><td>VL6</td><td>HAstV4_brain_4d_VL6</td><td>brain</td></tr>\n",
       "\t<tr><th scope=row>VL7</th><td>Mock  </td><td>1</td><td>4d</td><td>VL7</td><td>Mock_brain_4d_VL7  </td><td>brain</td></tr>\n",
       "\t<tr><th scope=row>VL8</th><td>Mock  </td><td>2</td><td>4d</td><td>VL8</td><td>Mock_brain_4d_VL8  </td><td>brain</td></tr>\n",
       "</tbody>\n",
       "</table>\n"
      ],
      "text/latex": [
       "A data.frame: 8 × 6\n",
       "\\begin{tabular}{r|llllll}\n",
       "  & condition & replicate & organoid\\_stage & id & name & tissue\\\\\n",
       "  & <chr> & <int> & <chr> & <chr> & <chr> & <chr>\\\\\n",
       "\\hline\n",
       "\tVL1 & MLB2   & 1 & 4d & VL1 & MLB2\\_brain\\_4d\\_VL1   & brain\\\\\n",
       "\tVL2 & MLB2   & 2 & 4d & VL2 & MLB2\\_brain\\_4d\\_VL2   & brain\\\\\n",
       "\tVL3 & VA1    & 1 & 4d & VL3 & VA1\\_brain\\_4d\\_VL3    & brain\\\\\n",
       "\tVL4 & VA1    & 2 & 4d & VL4 & VA1\\_brain\\_4d\\_VL4    & brain\\\\\n",
       "\tVL5 & HAstV4 & 1 & 4d & VL5 & HAstV4\\_brain\\_4d\\_VL5 & brain\\\\\n",
       "\tVL6 & HAstV4 & 2 & 4d & VL6 & HAstV4\\_brain\\_4d\\_VL6 & brain\\\\\n",
       "\tVL7 & Mock   & 1 & 4d & VL7 & Mock\\_brain\\_4d\\_VL7   & brain\\\\\n",
       "\tVL8 & Mock   & 2 & 4d & VL8 & Mock\\_brain\\_4d\\_VL8   & brain\\\\\n",
       "\\end{tabular}\n"
      ],
      "text/markdown": [
       "\n",
       "A data.frame: 8 × 6\n",
       "\n",
       "| <!--/--> | condition &lt;chr&gt; | replicate &lt;int&gt; | organoid_stage &lt;chr&gt; | id &lt;chr&gt; | name &lt;chr&gt; | tissue &lt;chr&gt; |\n",
       "|---|---|---|---|---|---|---|\n",
       "| VL1 | MLB2   | 1 | 4d | VL1 | MLB2_brain_4d_VL1   | brain |\n",
       "| VL2 | MLB2   | 2 | 4d | VL2 | MLB2_brain_4d_VL2   | brain |\n",
       "| VL3 | VA1    | 1 | 4d | VL3 | VA1_brain_4d_VL3    | brain |\n",
       "| VL4 | VA1    | 2 | 4d | VL4 | VA1_brain_4d_VL4    | brain |\n",
       "| VL5 | HAstV4 | 1 | 4d | VL5 | HAstV4_brain_4d_VL5 | brain |\n",
       "| VL6 | HAstV4 | 2 | 4d | VL6 | HAstV4_brain_4d_VL6 | brain |\n",
       "| VL7 | Mock   | 1 | 4d | VL7 | Mock_brain_4d_VL7   | brain |\n",
       "| VL8 | Mock   | 2 | 4d | VL8 | Mock_brain_4d_VL8   | brain |\n",
       "\n"
      ],
      "text/plain": [
       "    condition replicate organoid_stage id  name                tissue\n",
       "VL1 MLB2      1         4d             VL1 MLB2_brain_4d_VL1   brain \n",
       "VL2 MLB2      2         4d             VL2 MLB2_brain_4d_VL2   brain \n",
       "VL3 VA1       1         4d             VL3 VA1_brain_4d_VL3    brain \n",
       "VL4 VA1       2         4d             VL4 VA1_brain_4d_VL4    brain \n",
       "VL5 HAstV4    1         4d             VL5 HAstV4_brain_4d_VL5 brain \n",
       "VL6 HAstV4    2         4d             VL6 HAstV4_brain_4d_VL6 brain \n",
       "VL7 Mock      1         4d             VL7 Mock_brain_4d_VL7   brain \n",
       "VL8 Mock      2         4d             VL8 Mock_brain_4d_VL8   brain "
      ]
     },
     "metadata": {},
     "output_type": "display_data"
    }
   ],
   "source": [
    "bsamples"
   ]
  },
  {
   "cell_type": "code",
   "execution_count": 4,
   "id": "4100dfe6-1a40-4911-9a4b-c4a987781257",
   "metadata": {},
   "outputs": [
    {
     "data": {
      "text/html": [
       "<style>\n",
       ".list-inline {list-style: none; margin:0; padding: 0}\n",
       ".list-inline>li {display: inline-block}\n",
       ".list-inline>li:not(:last-child)::after {content: \"\\00b7\"; padding: 0 .5ex}\n",
       "</style>\n",
       "<ol class=list-inline><li>62757</li><li>32</li></ol>\n"
      ],
      "text/latex": [
       "\\begin{enumerate*}\n",
       "\\item 62757\n",
       "\\item 32\n",
       "\\end{enumerate*}\n"
      ],
      "text/markdown": [
       "1. 62757\n",
       "2. 32\n",
       "\n",
       "\n"
      ],
      "text/plain": [
       "[1] 62757    32"
      ]
     },
     "metadata": {},
     "output_type": "display_data"
    }
   ],
   "source": [
    "#table both_counts.tsv contains all counts (viral, protein_coding and others)\n",
    "counts <- read.table('both_counts.tsv')\n",
    "dim(counts)"
   ]
  },
  {
   "cell_type": "code",
   "execution_count": 5,
   "id": "f8963580-11ed-4d69-83c3-91613f2bc35a",
   "metadata": {},
   "outputs": [
    {
     "name": "stdout",
     "output_type": "stream",
     "text": [
      "[1] \"VL1\" \"VL2\" \"VL3\" \"VL4\" \"VL5\" \"VL6\" \"VL7\" \"VL8\"\n"
     ]
    }
   ],
   "source": [
    "bcounts <- counts[, grep(\"^VL\", colnames(counts)), drop = FALSE]\n",
    "# Проверяем, что в bcounts только колонки с префиксом \"VL\"\n",
    "print(colnames(bcounts))"
   ]
  },
  {
   "cell_type": "code",
   "execution_count": 6,
   "id": "9892a61a-3f66-467e-a385-5fae80c1fe07",
   "metadata": {},
   "outputs": [
    {
     "name": "stdout",
     "output_type": "stream",
     "text": [
      " [1] \"S22\" \"S10\" \"S23\" \"S11\" \"S24\" \"S12\" \"S16\" \"S4\"  \"S17\" \"S5\"  \"S18\" \"S6\" \n",
      "[13] \"S13\" \"S1\"  \"S14\" \"S2\"  \"S15\" \"S3\"  \"S19\" \"S7\"  \"S20\" \"S8\"  \"S21\" \"S9\" \n"
     ]
    }
   ],
   "source": [
    "# Выбираем колонки, не начинающиеся с \"VL\" для gut\n",
    "gcounts <- counts[, !grepl(\"^VL\", colnames(counts)), drop = FALSE]\n",
    "print(colnames(gcounts))"
   ]
  },
  {
   "cell_type": "code",
   "execution_count": 7,
   "id": "78bbd84f-0c68-42ac-aa06-3bb2f24fab6d",
   "metadata": {},
   "outputs": [
    {
     "name": "stderr",
     "output_type": "stream",
     "text": [
      "Loading required package: S4Vectors\n",
      "\n",
      "Loading required package: stats4\n",
      "\n",
      "Loading required package: BiocGenerics\n",
      "\n",
      "\n",
      "Attaching package: ‘BiocGenerics’\n",
      "\n",
      "\n",
      "The following objects are masked from ‘package:dplyr’:\n",
      "\n",
      "    combine, intersect, setdiff, union\n",
      "\n",
      "\n",
      "The following objects are masked from ‘package:stats’:\n",
      "\n",
      "    IQR, mad, sd, var, xtabs\n",
      "\n",
      "\n",
      "The following objects are masked from ‘package:base’:\n",
      "\n",
      "    anyDuplicated, aperm, append, as.data.frame, basename, cbind,\n",
      "    colnames, dirname, do.call, duplicated, eval, evalq, Filter, Find,\n",
      "    get, grep, grepl, intersect, is.unsorted, lapply, Map, mapply,\n",
      "    match, mget, order, paste, pmax, pmax.int, pmin, pmin.int,\n",
      "    Position, rank, rbind, Reduce, rownames, sapply, saveRDS, setdiff,\n",
      "    table, tapply, union, unique, unsplit, which.max, which.min\n",
      "\n",
      "\n",
      "\n",
      "Attaching package: ‘S4Vectors’\n",
      "\n",
      "\n",
      "The following objects are masked from ‘package:dplyr’:\n",
      "\n",
      "    first, rename\n",
      "\n",
      "\n",
      "The following object is masked from ‘package:utils’:\n",
      "\n",
      "    findMatches\n",
      "\n",
      "\n",
      "The following objects are masked from ‘package:base’:\n",
      "\n",
      "    expand.grid, I, unname\n",
      "\n",
      "\n",
      "Loading required package: IRanges\n",
      "\n",
      "\n",
      "Attaching package: ‘IRanges’\n",
      "\n",
      "\n",
      "The following objects are masked from ‘package:dplyr’:\n",
      "\n",
      "    collapse, desc, slice\n",
      "\n",
      "\n",
      "Loading required package: GenomicRanges\n",
      "\n",
      "Loading required package: GenomeInfoDb\n",
      "\n",
      "Loading required package: SummarizedExperiment\n",
      "\n",
      "Loading required package: MatrixGenerics\n",
      "\n",
      "Loading required package: matrixStats\n",
      "\n",
      "\n",
      "Attaching package: ‘matrixStats’\n",
      "\n",
      "\n",
      "The following object is masked from ‘package:dplyr’:\n",
      "\n",
      "    count\n",
      "\n",
      "\n",
      "\n",
      "Attaching package: ‘MatrixGenerics’\n",
      "\n",
      "\n",
      "The following objects are masked from ‘package:matrixStats’:\n",
      "\n",
      "    colAlls, colAnyNAs, colAnys, colAvgsPerRowSet, colCollapse,\n",
      "    colCounts, colCummaxs, colCummins, colCumprods, colCumsums,\n",
      "    colDiffs, colIQRDiffs, colIQRs, colLogSumExps, colMadDiffs,\n",
      "    colMads, colMaxs, colMeans2, colMedians, colMins, colOrderStats,\n",
      "    colProds, colQuantiles, colRanges, colRanks, colSdDiffs, colSds,\n",
      "    colSums2, colTabulates, colVarDiffs, colVars, colWeightedMads,\n",
      "    colWeightedMeans, colWeightedMedians, colWeightedSds,\n",
      "    colWeightedVars, rowAlls, rowAnyNAs, rowAnys, rowAvgsPerColSet,\n",
      "    rowCollapse, rowCounts, rowCummaxs, rowCummins, rowCumprods,\n",
      "    rowCumsums, rowDiffs, rowIQRDiffs, rowIQRs, rowLogSumExps,\n",
      "    rowMadDiffs, rowMads, rowMaxs, rowMeans2, rowMedians, rowMins,\n",
      "    rowOrderStats, rowProds, rowQuantiles, rowRanges, rowRanks,\n",
      "    rowSdDiffs, rowSds, rowSums2, rowTabulates, rowVarDiffs, rowVars,\n",
      "    rowWeightedMads, rowWeightedMeans, rowWeightedMedians,\n",
      "    rowWeightedSds, rowWeightedVars\n",
      "\n",
      "\n",
      "Loading required package: Biobase\n",
      "\n",
      "Welcome to Bioconductor\n",
      "\n",
      "    Vignettes contain introductory material; view with\n",
      "    'browseVignettes()'. To cite Bioconductor, see\n",
      "    'citation(\"Biobase\")', and for packages 'citation(\"pkgname\")'.\n",
      "\n",
      "\n",
      "\n",
      "Attaching package: ‘Biobase’\n",
      "\n",
      "\n",
      "The following object is masked from ‘package:MatrixGenerics’:\n",
      "\n",
      "    rowMedians\n",
      "\n",
      "\n",
      "The following objects are masked from ‘package:matrixStats’:\n",
      "\n",
      "    anyMissing, rowMedians\n",
      "\n",
      "\n"
     ]
    }
   ],
   "source": [
    "library(DESeq2)\n",
    "colours = c(\n",
    "    HAstV4='#ff9301',\n",
    "    MLB2='#592bf5',\n",
    "    VA1='#1fbd6b',\n",
    "    mock='#919190')"
   ]
  },
  {
   "cell_type": "code",
   "execution_count": 8,
   "id": "272fa099-71c8-4b97-a527-9c2607a54113",
   "metadata": {},
   "outputs": [
    {
     "name": "stderr",
     "output_type": "stream",
     "text": [
      "Warning message in DESeqDataSet(se, design = design, ignoreRank):\n",
      "“some variables in design formula are characters, converting to factors”\n"
     ]
    },
    {
     "data": {
      "text/plain": [
       "class: DESeqDataSet \n",
       "dim: 62757 8 \n",
       "metadata(1): version\n",
       "assays(1): counts\n",
       "rownames(62757): ENSG00000279928 ENSG00000228037 ... MLB2 VA1\n",
       "rowData names(0):\n",
       "colnames(8): MLB2_brain_4d_VL1 MLB2_brain_4d_VL2 ... Mock_brain_4d_VL7\n",
       "  Mock_brain_4d_VL8\n",
       "colData names(6): condition replicate ... name tissue"
      ]
     },
     "metadata": {},
     "output_type": "display_data"
    }
   ],
   "source": [
    "rownames(bsamples) = colnames(bcounts) = bsamples$name\n",
    "deseq = DESeqDataSetFromMatrix(countData = bcounts,\n",
    "                              colData = bsamples,\n",
    "                               design = ~ condition)\n",
    "deseq"
   ]
  },
  {
   "cell_type": "code",
   "execution_count": 10,
   "id": "caa59881-409b-43fe-898a-7814de52a01f",
   "metadata": {},
   "outputs": [
    {
     "data": {
      "text/plain": [
       "\n",
       "FALSE  TRUE \n",
       "39029 23728 "
      ]
     },
     "metadata": {},
     "output_type": "display_data"
    },
    {
     "data": {
      "image/png": "[encoded data removed]",
      "text/plain": [
       "Plot with title “Histogram of (log10(total + 1))”"
      ]
     },
     "metadata": {
      "image/png": {
       "height": 420,
       "width": 420
      }
     },
     "output_type": "display_data"
    }
   ],
   "source": [
    "# filtes genes by total read counts\n",
    "options(repr.plot.width = 7, repr.plot.height = 7, repr.plot.res = 120)\n",
    "total = rowSums(counts(deseq))\n",
    "hist((log10(total + 1)),100)\n",
    "table(total>=10)"
   ]
  },
  {
   "cell_type": "code",
   "execution_count": null,
   "id": "53eb052b-41b0-4bcb-9bcd-df66cce25c1d",
   "metadata": {},
   "outputs": [],
   "source": []
  }
 ],
 "metadata": {
  "kernelspec": {
   "display_name": "R",
   "language": "R",
   "name": "ir"
  },
  "language_info": {
   "codemirror_mode": "r",
   "file_extension": ".r",
   "mimetype": "text/x-r-source",
   "name": "R",
   "pygments_lexer": "r",
   "version": "4.4.2"
  }
 },
 "nbformat": 4,
 "nbformat_minor": 5
}
