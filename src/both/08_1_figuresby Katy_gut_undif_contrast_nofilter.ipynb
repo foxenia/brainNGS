{
 "cells": [
  {
   "cell_type": "markdown",
   "id": "e4c63bf9-2b59-4138-a155-f295928a1f69",
   "metadata": {},
   "source": [
    "**Load raw data**"
   ]
  },
  {
   "cell_type": "code",
   "execution_count": 1,
   "id": "10f97f46-5af2-462a-98df-88ad091a7934",
   "metadata": {},
   "outputs": [
    {
     "name": "stderr",
     "output_type": "stream",
     "text": [
      "\n",
      "Attaching package: ‘dplyr’\n",
      "\n",
      "\n",
      "The following objects are masked from ‘package:stats’:\n",
      "\n",
      "    filter, lag\n",
      "\n",
      "\n",
      "The following objects are masked from ‘package:base’:\n",
      "\n",
      "    intersect, setdiff, setequal, union\n",
      "\n",
      "\n"
     ]
    }
   ],
   "source": [
    "#load library and create subsets\n",
    "library(dplyr)\n",
    "\n",
    "samples <- read.table('both_samples_condition.tsv')\n",
    "\n",
    "#bsamples <- samples %>% filter(tissue == \"brain\")\n",
    "#gsamples <- samples %>% filter(tissue == \"gut\")\n",
    "gundiffsamples <- samples %>% filter(tissue == \"gut\", organoid_stage == \"undiff\")\n",
    "#gdiffsamples <- samples %>% filter(tissue == \"gut\", organoid_stage == \"diff\")"
   ]
  },
  {
   "cell_type": "code",
   "execution_count": 2,
   "id": "423984f0-d8c0-4300-9d4d-903bd5afc899",
   "metadata": {},
   "outputs": [
    {
     "data": {
      "text/html": [
       "<table class=\"dataframe\">\n",
       "<caption>A data.frame: 12 × 6</caption>\n",
       "<thead>\n",
       "\t<tr><th></th><th scope=col>condition</th><th scope=col>replicate</th><th scope=col>organoid_stage</th><th scope=col>id</th><th scope=col>name</th><th scope=col>tissue</th></tr>\n",
       "\t<tr><th></th><th scope=col>&lt;chr&gt;</th><th scope=col>&lt;int&gt;</th><th scope=col>&lt;chr&gt;</th><th scope=col>&lt;chr&gt;</th><th scope=col>&lt;chr&gt;</th><th scope=col>&lt;chr&gt;</th></tr>\n",
       "</thead>\n",
       "<tbody>\n",
       "\t<tr><th scope=row>S10</th><td>VA1   </td><td>3</td><td>undiff</td><td>S10</td><td>VA1_gut_undiff_S10   </td><td>gut</td></tr>\n",
       "\t<tr><th scope=row>S11</th><td>HAstV4</td><td>2</td><td>undiff</td><td>S11</td><td>HAstV4_gut_undiff_S11</td><td>gut</td></tr>\n",
       "\t<tr><th scope=row>S12</th><td>HAstV4</td><td>3</td><td>undiff</td><td>S12</td><td>HAstV4_gut_undiff_S12</td><td>gut</td></tr>\n",
       "\t<tr><th scope=row>S4</th><td>MLB2  </td><td>1</td><td>undiff</td><td>S4 </td><td>MLB2_gut_undiff_S4   </td><td>gut</td></tr>\n",
       "\t<tr><th scope=row>S5</th><td>MLB2  </td><td>2</td><td>undiff</td><td>S5 </td><td>MLB2_gut_undiff_S5   </td><td>gut</td></tr>\n",
       "\t<tr><th scope=row>S6</th><td>MLB2  </td><td>3</td><td>undiff</td><td>S6 </td><td>MLB2_gut_undiff_S6   </td><td>gut</td></tr>\n",
       "\t<tr><th scope=row>S1</th><td>Mock  </td><td>1</td><td>undiff</td><td>S1 </td><td>Mock_gut_undiff_S1   </td><td>gut</td></tr>\n",
       "\t<tr><th scope=row>S2</th><td>Mock  </td><td>2</td><td>undiff</td><td>S2 </td><td>Mock_gut_undiff_S2   </td><td>gut</td></tr>\n",
       "\t<tr><th scope=row>S3</th><td>Mock  </td><td>3</td><td>undiff</td><td>S3 </td><td>Mock_gut_undiff_S3   </td><td>gut</td></tr>\n",
       "\t<tr><th scope=row>S7</th><td>VA1   </td><td>1</td><td>undiff</td><td>S7 </td><td>VA1_gut_undiff_S7    </td><td>gut</td></tr>\n",
       "\t<tr><th scope=row>S8</th><td>VA1   </td><td>2</td><td>undiff</td><td>S8 </td><td>VA1_gut_undiff_S8    </td><td>gut</td></tr>\n",
       "\t<tr><th scope=row>S9</th><td>HAstV4</td><td>1</td><td>undiff</td><td>S9 </td><td>HAstV4_gut_undiff_S9 </td><td>gut</td></tr>\n",
       "</tbody>\n",
       "</table>\n"
      ],
      "text/latex": [
       "A data.frame: 12 × 6\n",
       "\\begin{tabular}{r|llllll}\n",
       "  & condition & replicate & organoid\\_stage & id & name & tissue\\\\\n",
       "  & <chr> & <int> & <chr> & <chr> & <chr> & <chr>\\\\\n",
       "\\hline\n",
       "\tS10 & VA1    & 3 & undiff & S10 & VA1\\_gut\\_undiff\\_S10    & gut\\\\\n",
       "\tS11 & HAstV4 & 2 & undiff & S11 & HAstV4\\_gut\\_undiff\\_S11 & gut\\\\\n",
       "\tS12 & HAstV4 & 3 & undiff & S12 & HAstV4\\_gut\\_undiff\\_S12 & gut\\\\\n",
       "\tS4 & MLB2   & 1 & undiff & S4  & MLB2\\_gut\\_undiff\\_S4    & gut\\\\\n",
       "\tS5 & MLB2   & 2 & undiff & S5  & MLB2\\_gut\\_undiff\\_S5    & gut\\\\\n",
       "\tS6 & MLB2   & 3 & undiff & S6  & MLB2\\_gut\\_undiff\\_S6    & gut\\\\\n",
       "\tS1 & Mock   & 1 & undiff & S1  & Mock\\_gut\\_undiff\\_S1    & gut\\\\\n",
       "\tS2 & Mock   & 2 & undiff & S2  & Mock\\_gut\\_undiff\\_S2    & gut\\\\\n",
       "\tS3 & Mock   & 3 & undiff & S3  & Mock\\_gut\\_undiff\\_S3    & gut\\\\\n",
       "\tS7 & VA1    & 1 & undiff & S7  & VA1\\_gut\\_undiff\\_S7     & gut\\\\\n",
       "\tS8 & VA1    & 2 & undiff & S8  & VA1\\_gut\\_undiff\\_S8     & gut\\\\\n",
       "\tS9 & HAstV4 & 1 & undiff & S9  & HAstV4\\_gut\\_undiff\\_S9  & gut\\\\\n",
       "\\end{tabular}\n"
      ],
      "text/markdown": [
       "\n",
       "A data.frame: 12 × 6\n",
       "\n",
       "| <!--/--> | condition &lt;chr&gt; | replicate &lt;int&gt; | organoid_stage &lt;chr&gt; | id &lt;chr&gt; | name &lt;chr&gt; | tissue &lt;chr&gt; |\n",
       "|---|---|---|---|---|---|---|\n",
       "| S10 | VA1    | 3 | undiff | S10 | VA1_gut_undiff_S10    | gut |\n",
       "| S11 | HAstV4 | 2 | undiff | S11 | HAstV4_gut_undiff_S11 | gut |\n",
       "| S12 | HAstV4 | 3 | undiff | S12 | HAstV4_gut_undiff_S12 | gut |\n",
       "| S4 | MLB2   | 1 | undiff | S4  | MLB2_gut_undiff_S4    | gut |\n",
       "| S5 | MLB2   | 2 | undiff | S5  | MLB2_gut_undiff_S5    | gut |\n",
       "| S6 | MLB2   | 3 | undiff | S6  | MLB2_gut_undiff_S6    | gut |\n",
       "| S1 | Mock   | 1 | undiff | S1  | Mock_gut_undiff_S1    | gut |\n",
       "| S2 | Mock   | 2 | undiff | S2  | Mock_gut_undiff_S2    | gut |\n",
       "| S3 | Mock   | 3 | undiff | S3  | Mock_gut_undiff_S3    | gut |\n",
       "| S7 | VA1    | 1 | undiff | S7  | VA1_gut_undiff_S7     | gut |\n",
       "| S8 | VA1    | 2 | undiff | S8  | VA1_gut_undiff_S8     | gut |\n",
       "| S9 | HAstV4 | 1 | undiff | S9  | HAstV4_gut_undiff_S9  | gut |\n",
       "\n"
      ],
      "text/plain": [
       "    condition replicate organoid_stage id  name                  tissue\n",
       "S10 VA1       3         undiff         S10 VA1_gut_undiff_S10    gut   \n",
       "S11 HAstV4    2         undiff         S11 HAstV4_gut_undiff_S11 gut   \n",
       "S12 HAstV4    3         undiff         S12 HAstV4_gut_undiff_S12 gut   \n",
       "S4  MLB2      1         undiff         S4  MLB2_gut_undiff_S4    gut   \n",
       "S5  MLB2      2         undiff         S5  MLB2_gut_undiff_S5    gut   \n",
       "S6  MLB2      3         undiff         S6  MLB2_gut_undiff_S6    gut   \n",
       "S1  Mock      1         undiff         S1  Mock_gut_undiff_S1    gut   \n",
       "S2  Mock      2         undiff         S2  Mock_gut_undiff_S2    gut   \n",
       "S3  Mock      3         undiff         S3  Mock_gut_undiff_S3    gut   \n",
       "S7  VA1       1         undiff         S7  VA1_gut_undiff_S7     gut   \n",
       "S8  VA1       2         undiff         S8  VA1_gut_undiff_S8     gut   \n",
       "S9  HAstV4    1         undiff         S9  HAstV4_gut_undiff_S9  gut   "
      ]
     },
     "metadata": {},
     "output_type": "display_data"
    }
   ],
   "source": [
    "gundiffsamples"
   ]
  },
  {
   "cell_type": "code",
   "execution_count": 3,
   "id": "6607ef59-9c7b-4f4c-8ed6-2ea6c533029b",
   "metadata": {},
   "outputs": [
    {
     "data": {
      "text/html": [
       "<style>\n",
       ".list-inline {list-style: none; margin:0; padding: 0}\n",
       ".list-inline>li {display: inline-block}\n",
       ".list-inline>li:not(:last-child)::after {content: \"\\00b7\"; padding: 0 .5ex}\n",
       "</style>\n",
       "<ol class=list-inline><li>20070</li><li>24</li></ol>\n"
      ],
      "text/latex": [
       "\\begin{enumerate*}\n",
       "\\item 20070\n",
       "\\item 24\n",
       "\\end{enumerate*}\n"
      ],
      "text/markdown": [
       "1. 20070\n",
       "2. 24\n",
       "\n",
       "\n"
      ],
      "text/plain": [
       "[1] 20070    24"
      ]
     },
     "metadata": {},
     "output_type": "display_data"
    }
   ],
   "source": [
    "gpccounts = as.matrix(read.csv('../../output/gut/counts_protein_coding.csv',row.names = 1))\n",
    "dim(gpccounts)"
   ]
  },
  {
   "cell_type": "code",
   "execution_count": 4,
   "id": "1b631833-b4a4-4dab-b4a8-96cf08bc4d1f",
   "metadata": {},
   "outputs": [
    {
     "data": {
      "text/html": [
       "<table class=\"dataframe\">\n",
       "<caption>A data.frame: 4 × 7</caption>\n",
       "<thead>\n",
       "\t<tr><th></th><th scope=col>chr</th><th scope=col>start</th><th scope=col>end</th><th scope=col>strand</th><th scope=col>gene_id</th><th scope=col>gene_name</th><th scope=col>gene_biotype</th></tr>\n",
       "\t<tr><th></th><th scope=col>&lt;chr&gt;</th><th scope=col>&lt;int&gt;</th><th scope=col>&lt;int&gt;</th><th scope=col>&lt;chr&gt;</th><th scope=col>&lt;chr&gt;</th><th scope=col>&lt;chr&gt;</th><th scope=col>&lt;chr&gt;</th></tr>\n",
       "</thead>\n",
       "<tbody>\n",
       "\t<tr><th scope=row>ENSG00000279928</th><td>1</td><td> 182696</td><td> 184174</td><td>+</td><td>ENSG00000279928</td><td>DDX11L17</td><td>unprocessed_pseudogene</td></tr>\n",
       "\t<tr><th scope=row>ENSG00000228037</th><td>1</td><td>2581560</td><td>2584533</td><td>+</td><td>ENSG00000228037</td><td>NA      </td><td>lncRNA                </td></tr>\n",
       "\t<tr><th scope=row>ENSG00000142611</th><td>1</td><td>3069168</td><td>3438621</td><td>+</td><td>ENSG00000142611</td><td>PRDM16  </td><td>protein_coding        </td></tr>\n",
       "\t<tr><th scope=row>ENSG00000284616</th><td>1</td><td>5301928</td><td>5307394</td><td>-</td><td>ENSG00000284616</td><td>NA      </td><td>lncRNA                </td></tr>\n",
       "</tbody>\n",
       "</table>\n"
      ],
      "text/latex": [
       "A data.frame: 4 × 7\n",
       "\\begin{tabular}{r|lllllll}\n",
       "  & chr & start & end & strand & gene\\_id & gene\\_name & gene\\_biotype\\\\\n",
       "  & <chr> & <int> & <int> & <chr> & <chr> & <chr> & <chr>\\\\\n",
       "\\hline\n",
       "\tENSG00000279928 & 1 &  182696 &  184174 & + & ENSG00000279928 & DDX11L17 & unprocessed\\_pseudogene\\\\\n",
       "\tENSG00000228037 & 1 & 2581560 & 2584533 & + & ENSG00000228037 & NA       & lncRNA                \\\\\n",
       "\tENSG00000142611 & 1 & 3069168 & 3438621 & + & ENSG00000142611 & PRDM16   & protein\\_coding        \\\\\n",
       "\tENSG00000284616 & 1 & 5301928 & 5307394 & - & ENSG00000284616 & NA       & lncRNA                \\\\\n",
       "\\end{tabular}\n"
      ],
      "text/markdown": [
       "\n",
       "A data.frame: 4 × 7\n",
       "\n",
       "| <!--/--> | chr &lt;chr&gt; | start &lt;int&gt; | end &lt;int&gt; | strand &lt;chr&gt; | gene_id &lt;chr&gt; | gene_name &lt;chr&gt; | gene_biotype &lt;chr&gt; |\n",
       "|---|---|---|---|---|---|---|---|\n",
       "| ENSG00000279928 | 1 |  182696 |  184174 | + | ENSG00000279928 | DDX11L17 | unprocessed_pseudogene |\n",
       "| ENSG00000228037 | 1 | 2581560 | 2584533 | + | ENSG00000228037 | NA       | lncRNA                 |\n",
       "| ENSG00000142611 | 1 | 3069168 | 3438621 | + | ENSG00000142611 | PRDM16   | protein_coding         |\n",
       "| ENSG00000284616 | 1 | 5301928 | 5307394 | - | ENSG00000284616 | NA       | lncRNA                 |\n",
       "\n"
      ],
      "text/plain": [
       "                chr start   end     strand gene_id         gene_name\n",
       "ENSG00000279928 1    182696  184174 +      ENSG00000279928 DDX11L17 \n",
       "ENSG00000228037 1   2581560 2584533 +      ENSG00000228037 NA       \n",
       "ENSG00000142611 1   3069168 3438621 +      ENSG00000142611 PRDM16   \n",
       "ENSG00000284616 1   5301928 5307394 -      ENSG00000284616 NA       \n",
       "                gene_biotype          \n",
       "ENSG00000279928 unprocessed_pseudogene\n",
       "ENSG00000228037 lncRNA                \n",
       "ENSG00000142611 protein_coding        \n",
       "ENSG00000284616 lncRNA                "
      ]
     },
     "metadata": {},
     "output_type": "display_data"
    }
   ],
   "source": [
    "#load genes (using gut_genes, since brain's one was confused)\n",
    "ggenes = read.csv('../../output/gut/gut_genes.csv',row.names = 1)\n",
    "ggenes[1:4,]"
   ]
  },
  {
   "cell_type": "code",
   "execution_count": 5,
   "id": "060dd656-de2f-4ff4-87ce-1eb725a7a05d",
   "metadata": {},
   "outputs": [
    {
     "name": "stderr",
     "output_type": "stream",
     "text": [
      "Loading required package: S4Vectors\n",
      "\n",
      "Loading required package: stats4\n",
      "\n",
      "Loading required package: BiocGenerics\n",
      "\n",
      "\n",
      "Attaching package: ‘BiocGenerics’\n",
      "\n",
      "\n",
      "The following objects are masked from ‘package:dplyr’:\n",
      "\n",
      "    combine, intersect, setdiff, union\n",
      "\n",
      "\n",
      "The following objects are masked from ‘package:stats’:\n",
      "\n",
      "    IQR, mad, sd, var, xtabs\n",
      "\n",
      "\n",
      "The following objects are masked from ‘package:base’:\n",
      "\n",
      "    anyDuplicated, aperm, append, as.data.frame, basename, cbind,\n",
      "    colnames, dirname, do.call, duplicated, eval, evalq, Filter, Find,\n",
      "    get, grep, grepl, intersect, is.unsorted, lapply, Map, mapply,\n",
      "    match, mget, order, paste, pmax, pmax.int, pmin, pmin.int,\n",
      "    Position, rank, rbind, Reduce, rownames, sapply, saveRDS, setdiff,\n",
      "    table, tapply, union, unique, unsplit, which.max, which.min\n",
      "\n",
      "\n",
      "\n",
      "Attaching package: ‘S4Vectors’\n",
      "\n",
      "\n",
      "The following objects are masked from ‘package:dplyr’:\n",
      "\n",
      "    first, rename\n",
      "\n",
      "\n",
      "The following object is masked from ‘package:utils’:\n",
      "\n",
      "    findMatches\n",
      "\n",
      "\n",
      "The following objects are masked from ‘package:base’:\n",
      "\n",
      "    expand.grid, I, unname\n",
      "\n",
      "\n",
      "Loading required package: IRanges\n",
      "\n",
      "\n",
      "Attaching package: ‘IRanges’\n",
      "\n",
      "\n",
      "The following objects are masked from ‘package:dplyr’:\n",
      "\n",
      "    collapse, desc, slice\n",
      "\n",
      "\n",
      "Loading required package: GenomicRanges\n",
      "\n",
      "Loading required package: GenomeInfoDb\n",
      "\n",
      "Loading required package: SummarizedExperiment\n",
      "\n",
      "Loading required package: MatrixGenerics\n",
      "\n",
      "Loading required package: matrixStats\n",
      "\n",
      "\n",
      "Attaching package: ‘matrixStats’\n",
      "\n",
      "\n",
      "The following object is masked from ‘package:dplyr’:\n",
      "\n",
      "    count\n",
      "\n",
      "\n",
      "\n",
      "Attaching package: ‘MatrixGenerics’\n",
      "\n",
      "\n",
      "The following objects are masked from ‘package:matrixStats’:\n",
      "\n",
      "    colAlls, colAnyNAs, colAnys, colAvgsPerRowSet, colCollapse,\n",
      "    colCounts, colCummaxs, colCummins, colCumprods, colCumsums,\n",
      "    colDiffs, colIQRDiffs, colIQRs, colLogSumExps, colMadDiffs,\n",
      "    colMads, colMaxs, colMeans2, colMedians, colMins, colOrderStats,\n",
      "    colProds, colQuantiles, colRanges, colRanks, colSdDiffs, colSds,\n",
      "    colSums2, colTabulates, colVarDiffs, colVars, colWeightedMads,\n",
      "    colWeightedMeans, colWeightedMedians, colWeightedSds,\n",
      "    colWeightedVars, rowAlls, rowAnyNAs, rowAnys, rowAvgsPerColSet,\n",
      "    rowCollapse, rowCounts, rowCummaxs, rowCummins, rowCumprods,\n",
      "    rowCumsums, rowDiffs, rowIQRDiffs, rowIQRs, rowLogSumExps,\n",
      "    rowMadDiffs, rowMads, rowMaxs, rowMeans2, rowMedians, rowMins,\n",
      "    rowOrderStats, rowProds, rowQuantiles, rowRanges, rowRanks,\n",
      "    rowSdDiffs, rowSds, rowSums2, rowTabulates, rowVarDiffs, rowVars,\n",
      "    rowWeightedMads, rowWeightedMeans, rowWeightedMedians,\n",
      "    rowWeightedSds, rowWeightedVars\n",
      "\n",
      "\n",
      "Loading required package: Biobase\n",
      "\n",
      "Welcome to Bioconductor\n",
      "\n",
      "    Vignettes contain introductory material; view with\n",
      "    'browseVignettes()'. To cite Bioconductor, see\n",
      "    'citation(\"Biobase\")', and for packages 'citation(\"pkgname\")'.\n",
      "\n",
      "\n",
      "\n",
      "Attaching package: ‘Biobase’\n",
      "\n",
      "\n",
      "The following object is masked from ‘package:MatrixGenerics’:\n",
      "\n",
      "    rowMedians\n",
      "\n",
      "\n",
      "The following objects are masked from ‘package:matrixStats’:\n",
      "\n",
      "    anyMissing, rowMedians\n",
      "\n",
      "\n"
     ]
    }
   ],
   "source": [
    "library(DESeq2)\n",
    "colours = c(\n",
    "    HAstV4_diff='#b80101',\n",
    "    HAstV4='#ff9301',\n",
    "    HAstV4_undiff='#ffc101',\n",
    "    MLB2_diff='#7b0fa6',\n",
    "    MLB2='#592bf5',\n",
    "    MLB2_undiff='#679ffa',\n",
    "    VA1_diff='#1a5d3a',\n",
    "    VA1='#1fbd6b',\n",
    "    VA1_undiff='#82de25',\n",
    "    Mock_diff='#4b4b49',\n",
    "    Mock='#919190',\n",
    "    Mock_undiff='#c5c5c0',\n",
    "    diff='#aa05b2',\n",
    "    undiff='#f68ed7')"
   ]
  },
  {
   "cell_type": "code",
   "execution_count": 6,
   "id": "0fb356d9-90d9-4545-8c8b-19475664a928",
   "metadata": {},
   "outputs": [
    {
     "data": {
      "text/html": [
       "<table class=\"dataframe\">\n",
       "<caption>A matrix: 20070 × 12 of type int</caption>\n",
       "<thead>\n",
       "\t<tr><th></th><th scope=col>S10</th><th scope=col>S11</th><th scope=col>S12</th><th scope=col>S4</th><th scope=col>S5</th><th scope=col>S6</th><th scope=col>S1</th><th scope=col>S2</th><th scope=col>S3</th><th scope=col>S7</th><th scope=col>S8</th><th scope=col>S9</th></tr>\n",
       "</thead>\n",
       "<tbody>\n",
       "\t<tr><th scope=row>ENSG00000142611</th><td>247</td><td> 314</td><td> 242</td><td> 382</td><td> 382</td><td> 361</td><td> 450</td><td> 315</td><td> 469</td><td> 374</td><td>252</td><td> 304</td></tr>\n",
       "\t<tr><th scope=row>ENSG00000157911</th><td> 94</td><td> 141</td><td> 148</td><td> 170</td><td> 132</td><td> 138</td><td> 175</td><td> 126</td><td> 166</td><td> 179</td><td> 71</td><td>  96</td></tr>\n",
       "\t<tr><th scope=row>ENSG00000142655</th><td> 73</td><td> 189</td><td> 146</td><td>  74</td><td>  83</td><td> 175</td><td> 116</td><td> 126</td><td>  50</td><td> 104</td><td>112</td><td> 104</td></tr>\n",
       "\t<tr><th scope=row>ENSG00000149527</th><td>  0</td><td>  33</td><td>   0</td><td>   3</td><td>  10</td><td>   0</td><td>  14</td><td>  18</td><td>  15</td><td>  27</td><td>  0</td><td>   0</td></tr>\n",
       "\t<tr><th scope=row>ENSG00000171621</th><td> 91</td><td>  51</td><td> 162</td><td> 168</td><td>  50</td><td> 119</td><td> 173</td><td>  54</td><td>  56</td><td>  97</td><td>128</td><td> 175</td></tr>\n",
       "\t<tr><th scope=row>ENSG00000142583</th><td> 26</td><td>   7</td><td>  13</td><td>  14</td><td>  22</td><td>   5</td><td>  17</td><td>  21</td><td>  29</td><td>  12</td><td> 15</td><td>  46</td></tr>\n",
       "\t<tr><th scope=row>ENSG00000173614</th><td> 74</td><td> 132</td><td>  85</td><td> 136</td><td>  61</td><td> 191</td><td> 113</td><td> 105</td><td> 134</td><td>  50</td><td> 95</td><td> 119</td></tr>\n",
       "\t<tr><th scope=row>ENSG00000162592</th><td>  0</td><td>   9</td><td>   0</td><td>   6</td><td>   0</td><td>   0</td><td>   0</td><td>   0</td><td>   9</td><td>   0</td><td>  0</td><td>   0</td></tr>\n",
       "\t<tr><th scope=row>ENSG00000204624</th><td>  0</td><td>   0</td><td>   0</td><td>   0</td><td>   0</td><td>   0</td><td>   0</td><td>   0</td><td>   0</td><td>   0</td><td>  0</td><td>   0</td></tr>\n",
       "\t<tr><th scope=row>ENSG00000142606</th><td> 38</td><td>  21</td><td>  15</td><td>  74</td><td>  19</td><td>  58</td><td>  19</td><td>   0</td><td>  61</td><td>  24</td><td> 31</td><td>  20</td></tr>\n",
       "\t<tr><th scope=row>ENSG00000171729</th><td>587</td><td> 768</td><td> 973</td><td> 797</td><td> 729</td><td> 711</td><td>1105</td><td> 764</td><td> 635</td><td> 655</td><td>503</td><td> 614</td></tr>\n",
       "\t<tr><th scope=row>ENSG00000037637</th><td>167</td><td> 123</td><td> 148</td><td> 175</td><td> 200</td><td> 159</td><td> 228</td><td>  77</td><td> 134</td><td>  88</td><td>109</td><td> 209</td></tr>\n",
       "\t<tr><th scope=row>ENSG00000159423</th><td> 28</td><td> 108</td><td>  78</td><td>  52</td><td>  75</td><td>  91</td><td>  27</td><td>  12</td><td>  68</td><td>  24</td><td> 48</td><td>  72</td></tr>\n",
       "\t<tr><th scope=row>ENSG00000157916</th><td>720</td><td>1500</td><td>1329</td><td>1125</td><td> 921</td><td>1039</td><td>1304</td><td>1068</td><td>1061</td><td> 738</td><td>643</td><td> 770</td></tr>\n",
       "\t<tr><th scope=row>ENSG00000157881</th><td> 18</td><td>   9</td><td>  39</td><td>  25</td><td>  26</td><td>  14</td><td>  36</td><td>  21</td><td>  20</td><td>  37</td><td> 17</td><td>  34</td></tr>\n",
       "\t<tr><th scope=row>ENSG00000048707</th><td>412</td><td> 502</td><td> 629</td><td> 568</td><td> 368</td><td> 425</td><td> 566</td><td> 467</td><td> 460</td><td> 526</td><td>323</td><td> 499</td></tr>\n",
       "\t<tr><th scope=row>ENSG00000162444</th><td>  0</td><td>   0</td><td>   0</td><td>   0</td><td>   0</td><td>   0</td><td>   0</td><td>   0</td><td>   0</td><td>   0</td><td>  0</td><td>   0</td></tr>\n",
       "\t<tr><th scope=row>ENSG00000180758</th><td> 66</td><td>  94</td><td> 131</td><td> 105</td><td>  79</td><td>  86</td><td>  79</td><td>  91</td><td> 108</td><td>  82</td><td> 80</td><td>  92</td></tr>\n",
       "\t<tr><th scope=row>ENSG00000184677</th><td>226</td><td> 283</td><td> 252</td><td> 231</td><td> 258</td><td> 205</td><td> 384</td><td> 245</td><td> 248</td><td> 220</td><td>310</td><td> 314</td></tr>\n",
       "\t<tr><th scope=row>ENSG00000131697</th><td> 44</td><td>  22</td><td>  50</td><td>  42</td><td>  45</td><td>  91</td><td>  34</td><td>  94</td><td>  84</td><td>  72</td><td> 27</td><td>  15</td></tr>\n",
       "\t<tr><th scope=row>ENSG00000197921</th><td>  0</td><td>   1</td><td>   0</td><td>   4</td><td>   0</td><td>   0</td><td>   0</td><td>   0</td><td>   0</td><td>   0</td><td>  0</td><td>   0</td></tr>\n",
       "\t<tr><th scope=row>ENSG00000055070</th><td>456</td><td> 588</td><td> 698</td><td> 642</td><td> 656</td><td> 635</td><td> 713</td><td> 559</td><td> 782</td><td> 465</td><td>441</td><td> 605</td></tr>\n",
       "\t<tr><th scope=row>ENSG00000175087</th><td> 39</td><td>  24</td><td>  18</td><td>  38</td><td>  77</td><td>  89</td><td>  32</td><td>  52</td><td>  70</td><td>  29</td><td> 27</td><td>  30</td></tr>\n",
       "\t<tr><th scope=row>ENSG00000162511</th><td>  0</td><td>   0</td><td>   0</td><td>   0</td><td>   0</td><td>   0</td><td>   0</td><td>   0</td><td>   0</td><td>   0</td><td>  0</td><td>   0</td></tr>\n",
       "\t<tr><th scope=row>ENSG00000158014</th><td> 10</td><td>  19</td><td>  16</td><td>   3</td><td>  45</td><td>   0</td><td>  28</td><td>  37</td><td>  49</td><td>  14</td><td>  4</td><td>  17</td></tr>\n",
       "\t<tr><th scope=row>ENSG00000204138</th><td>823</td><td>1376</td><td>1931</td><td> 958</td><td> 914</td><td> 883</td><td>1101</td><td> 804</td><td> 948</td><td>1064</td><td>872</td><td>1470</td></tr>\n",
       "\t<tr><th scope=row>ENSG00000142675</th><td>104</td><td> 241</td><td> 275</td><td> 175</td><td> 219</td><td> 166</td><td> 238</td><td> 161</td><td> 275</td><td> 208</td><td>152</td><td> 210</td></tr>\n",
       "\t<tr><th scope=row>ENSG00000197245</th><td>  0</td><td>   0</td><td>  18</td><td>   0</td><td>   0</td><td>   0</td><td>   0</td><td>   0</td><td>   8</td><td>   0</td><td>  0</td><td>   0</td></tr>\n",
       "\t<tr><th scope=row>ENSG00000130772</th><td> 76</td><td> 147</td><td>  93</td><td> 107</td><td>  92</td><td> 149</td><td> 125</td><td>  37</td><td>  45</td><td> 100</td><td> 83</td><td>  41</td></tr>\n",
       "\t<tr><th scope=row>ENSG00000090020</th><td>734</td><td> 843</td><td> 891</td><td>1244</td><td>1023</td><td> 915</td><td>1453</td><td>1419</td><td>1466</td><td>1070</td><td>607</td><td>1101</td></tr>\n",
       "\t<tr><th scope=row>⋮</th><td>⋮</td><td>⋮</td><td>⋮</td><td>⋮</td><td>⋮</td><td>⋮</td><td>⋮</td><td>⋮</td><td>⋮</td><td>⋮</td><td>⋮</td><td>⋮</td></tr>\n",
       "\t<tr><th scope=row>ENSG00000198840</th><td> 76436</td><td>105385</td><td>102297</td><td>118299</td><td>108220</td><td>111797</td><td>114640</td><td>102620</td><td>106156</td><td> 75255</td><td> 81760</td><td> 73757</td></tr>\n",
       "\t<tr><th scope=row>ENSG00000212907</th><td> 17900</td><td> 25279</td><td> 21588</td><td> 30351</td><td> 24699</td><td> 23929</td><td> 28646</td><td> 24138</td><td> 26486</td><td> 18936</td><td> 21013</td><td> 18218</td></tr>\n",
       "\t<tr><th scope=row>ENSG00000198886</th><td>190734</td><td>287536</td><td>272026</td><td>302997</td><td>300094</td><td>293769</td><td>317941</td><td>265626</td><td>317926</td><td>218184</td><td>216317</td><td>247023</td></tr>\n",
       "\t<tr><th scope=row>ENSG00000198786</th><td>113288</td><td>148169</td><td>137888</td><td>171357</td><td>155606</td><td>155758</td><td>190492</td><td>139675</td><td>181696</td><td>136943</td><td>135198</td><td>140845</td></tr>\n",
       "\t<tr><th scope=row>ENSG00000198695</th><td>   550</td><td>   684</td><td>   481</td><td>   553</td><td>   658</td><td>   398</td><td>   528</td><td>   353</td><td>   390</td><td>   378</td><td>   646</td><td>   550</td></tr>\n",
       "\t<tr><th scope=row>ENSG00000198727</th><td> 66275</td><td> 96021</td><td> 96699</td><td>102751</td><td>105152</td><td>107418</td><td>107904</td><td> 99262</td><td>114572</td><td> 72842</td><td> 70716</td><td> 84222</td></tr>\n",
       "\t<tr><th scope=row>ENSG00000274175</th><td>     0</td><td>     0</td><td>     0</td><td>     0</td><td>     0</td><td>     0</td><td>     0</td><td>     0</td><td>     0</td><td>     0</td><td>     0</td><td>     0</td></tr>\n",
       "\t<tr><th scope=row>ENSG00000273554</th><td>     0</td><td>     0</td><td>     0</td><td>     0</td><td>     0</td><td>     0</td><td>     0</td><td>     0</td><td>     0</td><td>     0</td><td>     0</td><td>     0</td></tr>\n",
       "\t<tr><th scope=row>ENSG00000275869</th><td>     0</td><td>     0</td><td>     0</td><td>     0</td><td>     0</td><td>     0</td><td>     0</td><td>     0</td><td>     0</td><td>     0</td><td>     0</td><td>     0</td></tr>\n",
       "\t<tr><th scope=row>ENSG00000277836</th><td>     0</td><td>     0</td><td>     0</td><td>     0</td><td>     0</td><td>     0</td><td>     0</td><td>     0</td><td>     0</td><td>     0</td><td>     0</td><td>     0</td></tr>\n",
       "\t<tr><th scope=row>ENSG00000275249</th><td>     0</td><td>     0</td><td>     0</td><td>     0</td><td>     0</td><td>     0</td><td>     0</td><td>     0</td><td>     0</td><td>     0</td><td>     0</td><td>     0</td></tr>\n",
       "\t<tr><th scope=row>ENSG00000274792</th><td>     0</td><td>     0</td><td>     0</td><td>     0</td><td>     0</td><td>     0</td><td>     0</td><td>     0</td><td>     0</td><td>     0</td><td>     0</td><td>     0</td></tr>\n",
       "\t<tr><th scope=row>ENSG00000276760</th><td>     0</td><td>     0</td><td>     0</td><td>     0</td><td>     0</td><td>     0</td><td>     0</td><td>     0</td><td>     0</td><td>     0</td><td>     0</td><td>     0</td></tr>\n",
       "\t<tr><th scope=row>ENSG00000278704</th><td>     0</td><td>     0</td><td>     0</td><td>     0</td><td>     0</td><td>     0</td><td>     0</td><td>     0</td><td>     0</td><td>     0</td><td>     0</td><td>     0</td></tr>\n",
       "\t<tr><th scope=row>ENSG00000277400</th><td>     0</td><td>     0</td><td>     0</td><td>     0</td><td>     0</td><td>     0</td><td>     0</td><td>     0</td><td>     0</td><td>     0</td><td>     0</td><td>     0</td></tr>\n",
       "\t<tr><th scope=row>ENSG00000274847</th><td>     2</td><td>     0</td><td>     0</td><td>    15</td><td>     0</td><td>     0</td><td>     0</td><td>     0</td><td>    14</td><td>     5</td><td>     4</td><td>     0</td></tr>\n",
       "\t<tr><th scope=row>ENSG00000276256</th><td>    18</td><td>     4</td><td>    27</td><td>    39</td><td>    38</td><td>    21</td><td>    29</td><td>    44</td><td>    55</td><td>    29</td><td>    11</td><td>     0</td></tr>\n",
       "\t<tr><th scope=row>ENSG00000273748</th><td>    23</td><td>    51</td><td>    85</td><td>    37</td><td>    55</td><td>    36</td><td>    99</td><td>    37</td><td>    56</td><td>    23</td><td>    58</td><td>     9</td></tr>\n",
       "\t<tr><th scope=row>ENSG00000277196</th><td>     0</td><td>     0</td><td>     0</td><td>     0</td><td>     0</td><td>     0</td><td>     0</td><td>     0</td><td>     0</td><td>     0</td><td>     0</td><td>     0</td></tr>\n",
       "\t<tr><th scope=row>ENSG00000278817</th><td>    13</td><td>     0</td><td>     6</td><td>     7</td><td>     1</td><td>    10</td><td>    28</td><td>     0</td><td>     0</td><td>    66</td><td>     0</td><td>    35</td></tr>\n",
       "\t<tr><th scope=row>ENSG00000276017</th><td>     0</td><td>     0</td><td>     0</td><td>     0</td><td>     0</td><td>     0</td><td>     0</td><td>     0</td><td>     0</td><td>     0</td><td>     0</td><td>     0</td></tr>\n",
       "\t<tr><th scope=row>ENSG00000277630</th><td>     0</td><td>     0</td><td>     0</td><td>     0</td><td>     0</td><td>     0</td><td>     0</td><td>     0</td><td>     0</td><td>     0</td><td>     0</td><td>     0</td></tr>\n",
       "\t<tr><th scope=row>ENSG00000278384</th><td>     0</td><td>     0</td><td>     0</td><td>    11</td><td>     0</td><td>     0</td><td>     0</td><td>     1</td><td>    23</td><td>     0</td><td>     0</td><td>     0</td></tr>\n",
       "\t<tr><th scope=row>ENSG00000278633</th><td>     0</td><td>     0</td><td>     0</td><td>     0</td><td>     0</td><td>     0</td><td>     0</td><td>     0</td><td>     0</td><td>     0</td><td>     0</td><td>     0</td></tr>\n",
       "\t<tr><th scope=row>ENSG00000276345</th><td>     0</td><td>     3</td><td>     0</td><td>     6</td><td>     0</td><td>     1</td><td>     0</td><td>     0</td><td>     0</td><td>     0</td><td>     0</td><td>     0</td></tr>\n",
       "\t<tr><th scope=row>ENSG00000275063</th><td>     0</td><td>     0</td><td>     0</td><td>     0</td><td>     0</td><td>     0</td><td>     0</td><td>     0</td><td>     0</td><td>     0</td><td>     0</td><td>     0</td></tr>\n",
       "\t<tr><th scope=row>ENSG00000277856</th><td>     0</td><td>     0</td><td>     0</td><td>     0</td><td>     0</td><td>     0</td><td>     0</td><td>     0</td><td>     0</td><td>     0</td><td>     0</td><td>     0</td></tr>\n",
       "\t<tr><th scope=row>ENSG00000271254</th><td>     4</td><td>     0</td><td>    21</td><td>    54</td><td>     0</td><td>     1</td><td>    19</td><td>     7</td><td>    29</td><td>    41</td><td>     5</td><td>    79</td></tr>\n",
       "\t<tr><th scope=row>ENSG00000268674</th><td>     0</td><td>     0</td><td>     0</td><td>     0</td><td>     0</td><td>     0</td><td>     0</td><td>     0</td><td>     0</td><td>     0</td><td>     0</td><td>     0</td></tr>\n",
       "\t<tr><th scope=row>ENSG00000277475</th><td>     0</td><td>     0</td><td>     0</td><td>     0</td><td>     0</td><td>     0</td><td>     0</td><td>     0</td><td>     0</td><td>     0</td><td>     0</td><td>     0</td></tr>\n",
       "</tbody>\n",
       "</table>\n"
      ],
      "text/latex": [
       "A matrix: 20070 × 12 of type int\n",
       "\\begin{tabular}{r|llllllllllll}\n",
       "  & S10 & S11 & S12 & S4 & S5 & S6 & S1 & S2 & S3 & S7 & S8 & S9\\\\\n",
       "\\hline\n",
       "\tENSG00000142611 & 247 &  314 &  242 &  382 &  382 &  361 &  450 &  315 &  469 &  374 & 252 &  304\\\\\n",
       "\tENSG00000157911 &  94 &  141 &  148 &  170 &  132 &  138 &  175 &  126 &  166 &  179 &  71 &   96\\\\\n",
       "\tENSG00000142655 &  73 &  189 &  146 &   74 &   83 &  175 &  116 &  126 &   50 &  104 & 112 &  104\\\\\n",
       "\tENSG00000149527 &   0 &   33 &    0 &    3 &   10 &    0 &   14 &   18 &   15 &   27 &   0 &    0\\\\\n",
       "\tENSG00000171621 &  91 &   51 &  162 &  168 &   50 &  119 &  173 &   54 &   56 &   97 & 128 &  175\\\\\n",
       "\tENSG00000142583 &  26 &    7 &   13 &   14 &   22 &    5 &   17 &   21 &   29 &   12 &  15 &   46\\\\\n",
       "\tENSG00000173614 &  74 &  132 &   85 &  136 &   61 &  191 &  113 &  105 &  134 &   50 &  95 &  119\\\\\n",
       "\tENSG00000162592 &   0 &    9 &    0 &    6 &    0 &    0 &    0 &    0 &    9 &    0 &   0 &    0\\\\\n",
       "\tENSG00000204624 &   0 &    0 &    0 &    0 &    0 &    0 &    0 &    0 &    0 &    0 &   0 &    0\\\\\n",
       "\tENSG00000142606 &  38 &   21 &   15 &   74 &   19 &   58 &   19 &    0 &   61 &   24 &  31 &   20\\\\\n",
       "\tENSG00000171729 & 587 &  768 &  973 &  797 &  729 &  711 & 1105 &  764 &  635 &  655 & 503 &  614\\\\\n",
       "\tENSG00000037637 & 167 &  123 &  148 &  175 &  200 &  159 &  228 &   77 &  134 &   88 & 109 &  209\\\\\n",
       "\tENSG00000159423 &  28 &  108 &   78 &   52 &   75 &   91 &   27 &   12 &   68 &   24 &  48 &   72\\\\\n",
       "\tENSG00000157916 & 720 & 1500 & 1329 & 1125 &  921 & 1039 & 1304 & 1068 & 1061 &  738 & 643 &  770\\\\\n",
       "\tENSG00000157881 &  18 &    9 &   39 &   25 &   26 &   14 &   36 &   21 &   20 &   37 &  17 &   34\\\\\n",
       "\tENSG00000048707 & 412 &  502 &  629 &  568 &  368 &  425 &  566 &  467 &  460 &  526 & 323 &  499\\\\\n",
       "\tENSG00000162444 &   0 &    0 &    0 &    0 &    0 &    0 &    0 &    0 &    0 &    0 &   0 &    0\\\\\n",
       "\tENSG00000180758 &  66 &   94 &  131 &  105 &   79 &   86 &   79 &   91 &  108 &   82 &  80 &   92\\\\\n",
       "\tENSG00000184677 & 226 &  283 &  252 &  231 &  258 &  205 &  384 &  245 &  248 &  220 & 310 &  314\\\\\n",
       "\tENSG00000131697 &  44 &   22 &   50 &   42 &   45 &   91 &   34 &   94 &   84 &   72 &  27 &   15\\\\\n",
       "\tENSG00000197921 &   0 &    1 &    0 &    4 &    0 &    0 &    0 &    0 &    0 &    0 &   0 &    0\\\\\n",
       "\tENSG00000055070 & 456 &  588 &  698 &  642 &  656 &  635 &  713 &  559 &  782 &  465 & 441 &  605\\\\\n",
       "\tENSG00000175087 &  39 &   24 &   18 &   38 &   77 &   89 &   32 &   52 &   70 &   29 &  27 &   30\\\\\n",
       "\tENSG00000162511 &   0 &    0 &    0 &    0 &    0 &    0 &    0 &    0 &    0 &    0 &   0 &    0\\\\\n",
       "\tENSG00000158014 &  10 &   19 &   16 &    3 &   45 &    0 &   28 &   37 &   49 &   14 &   4 &   17\\\\\n",
       "\tENSG00000204138 & 823 & 1376 & 1931 &  958 &  914 &  883 & 1101 &  804 &  948 & 1064 & 872 & 1470\\\\\n",
       "\tENSG00000142675 & 104 &  241 &  275 &  175 &  219 &  166 &  238 &  161 &  275 &  208 & 152 &  210\\\\\n",
       "\tENSG00000197245 &   0 &    0 &   18 &    0 &    0 &    0 &    0 &    0 &    8 &    0 &   0 &    0\\\\\n",
       "\tENSG00000130772 &  76 &  147 &   93 &  107 &   92 &  149 &  125 &   37 &   45 &  100 &  83 &   41\\\\\n",
       "\tENSG00000090020 & 734 &  843 &  891 & 1244 & 1023 &  915 & 1453 & 1419 & 1466 & 1070 & 607 & 1101\\\\\n",
       "\t⋮ & ⋮ & ⋮ & ⋮ & ⋮ & ⋮ & ⋮ & ⋮ & ⋮ & ⋮ & ⋮ & ⋮ & ⋮\\\\\n",
       "\tENSG00000198840 &  76436 & 105385 & 102297 & 118299 & 108220 & 111797 & 114640 & 102620 & 106156 &  75255 &  81760 &  73757\\\\\n",
       "\tENSG00000212907 &  17900 &  25279 &  21588 &  30351 &  24699 &  23929 &  28646 &  24138 &  26486 &  18936 &  21013 &  18218\\\\\n",
       "\tENSG00000198886 & 190734 & 287536 & 272026 & 302997 & 300094 & 293769 & 317941 & 265626 & 317926 & 218184 & 216317 & 247023\\\\\n",
       "\tENSG00000198786 & 113288 & 148169 & 137888 & 171357 & 155606 & 155758 & 190492 & 139675 & 181696 & 136943 & 135198 & 140845\\\\\n",
       "\tENSG00000198695 &    550 &    684 &    481 &    553 &    658 &    398 &    528 &    353 &    390 &    378 &    646 &    550\\\\\n",
       "\tENSG00000198727 &  66275 &  96021 &  96699 & 102751 & 105152 & 107418 & 107904 &  99262 & 114572 &  72842 &  70716 &  84222\\\\\n",
       "\tENSG00000274175 &      0 &      0 &      0 &      0 &      0 &      0 &      0 &      0 &      0 &      0 &      0 &      0\\\\\n",
       "\tENSG00000273554 &      0 &      0 &      0 &      0 &      0 &      0 &      0 &      0 &      0 &      0 &      0 &      0\\\\\n",
       "\tENSG00000275869 &      0 &      0 &      0 &      0 &      0 &      0 &      0 &      0 &      0 &      0 &      0 &      0\\\\\n",
       "\tENSG00000277836 &      0 &      0 &      0 &      0 &      0 &      0 &      0 &      0 &      0 &      0 &      0 &      0\\\\\n",
       "\tENSG00000275249 &      0 &      0 &      0 &      0 &      0 &      0 &      0 &      0 &      0 &      0 &      0 &      0\\\\\n",
       "\tENSG00000274792 &      0 &      0 &      0 &      0 &      0 &      0 &      0 &      0 &      0 &      0 &      0 &      0\\\\\n",
       "\tENSG00000276760 &      0 &      0 &      0 &      0 &      0 &      0 &      0 &      0 &      0 &      0 &      0 &      0\\\\\n",
       "\tENSG00000278704 &      0 &      0 &      0 &      0 &      0 &      0 &      0 &      0 &      0 &      0 &      0 &      0\\\\\n",
       "\tENSG00000277400 &      0 &      0 &      0 &      0 &      0 &      0 &      0 &      0 &      0 &      0 &      0 &      0\\\\\n",
       "\tENSG00000274847 &      2 &      0 &      0 &     15 &      0 &      0 &      0 &      0 &     14 &      5 &      4 &      0\\\\\n",
       "\tENSG00000276256 &     18 &      4 &     27 &     39 &     38 &     21 &     29 &     44 &     55 &     29 &     11 &      0\\\\\n",
       "\tENSG00000273748 &     23 &     51 &     85 &     37 &     55 &     36 &     99 &     37 &     56 &     23 &     58 &      9\\\\\n",
       "\tENSG00000277196 &      0 &      0 &      0 &      0 &      0 &      0 &      0 &      0 &      0 &      0 &      0 &      0\\\\\n",
       "\tENSG00000278817 &     13 &      0 &      6 &      7 &      1 &     10 &     28 &      0 &      0 &     66 &      0 &     35\\\\\n",
       "\tENSG00000276017 &      0 &      0 &      0 &      0 &      0 &      0 &      0 &      0 &      0 &      0 &      0 &      0\\\\\n",
       "\tENSG00000277630 &      0 &      0 &      0 &      0 &      0 &      0 &      0 &      0 &      0 &      0 &      0 &      0\\\\\n",
       "\tENSG00000278384 &      0 &      0 &      0 &     11 &      0 &      0 &      0 &      1 &     23 &      0 &      0 &      0\\\\\n",
       "\tENSG00000278633 &      0 &      0 &      0 &      0 &      0 &      0 &      0 &      0 &      0 &      0 &      0 &      0\\\\\n",
       "\tENSG00000276345 &      0 &      3 &      0 &      6 &      0 &      1 &      0 &      0 &      0 &      0 &      0 &      0\\\\\n",
       "\tENSG00000275063 &      0 &      0 &      0 &      0 &      0 &      0 &      0 &      0 &      0 &      0 &      0 &      0\\\\\n",
       "\tENSG00000277856 &      0 &      0 &      0 &      0 &      0 &      0 &      0 &      0 &      0 &      0 &      0 &      0\\\\\n",
       "\tENSG00000271254 &      4 &      0 &     21 &     54 &      0 &      1 &     19 &      7 &     29 &     41 &      5 &     79\\\\\n",
       "\tENSG00000268674 &      0 &      0 &      0 &      0 &      0 &      0 &      0 &      0 &      0 &      0 &      0 &      0\\\\\n",
       "\tENSG00000277475 &      0 &      0 &      0 &      0 &      0 &      0 &      0 &      0 &      0 &      0 &      0 &      0\\\\\n",
       "\\end{tabular}\n"
      ],
      "text/markdown": [
       "\n",
       "A matrix: 20070 × 12 of type int\n",
       "\n",
       "| <!--/--> | S10 | S11 | S12 | S4 | S5 | S6 | S1 | S2 | S3 | S7 | S8 | S9 |\n",
       "|---|---|---|---|---|---|---|---|---|---|---|---|---|\n",
       "| ENSG00000142611 | 247 |  314 |  242 |  382 |  382 |  361 |  450 |  315 |  469 |  374 | 252 |  304 |\n",
       "| ENSG00000157911 |  94 |  141 |  148 |  170 |  132 |  138 |  175 |  126 |  166 |  179 |  71 |   96 |\n",
       "| ENSG00000142655 |  73 |  189 |  146 |   74 |   83 |  175 |  116 |  126 |   50 |  104 | 112 |  104 |\n",
       "| ENSG00000149527 |   0 |   33 |    0 |    3 |   10 |    0 |   14 |   18 |   15 |   27 |   0 |    0 |\n",
       "| ENSG00000171621 |  91 |   51 |  162 |  168 |   50 |  119 |  173 |   54 |   56 |   97 | 128 |  175 |\n",
       "| ENSG00000142583 |  26 |    7 |   13 |   14 |   22 |    5 |   17 |   21 |   29 |   12 |  15 |   46 |\n",
       "| ENSG00000173614 |  74 |  132 |   85 |  136 |   61 |  191 |  113 |  105 |  134 |   50 |  95 |  119 |\n",
       "| ENSG00000162592 |   0 |    9 |    0 |    6 |    0 |    0 |    0 |    0 |    9 |    0 |   0 |    0 |\n",
       "| ENSG00000204624 |   0 |    0 |    0 |    0 |    0 |    0 |    0 |    0 |    0 |    0 |   0 |    0 |\n",
       "| ENSG00000142606 |  38 |   21 |   15 |   74 |   19 |   58 |   19 |    0 |   61 |   24 |  31 |   20 |\n",
       "| ENSG00000171729 | 587 |  768 |  973 |  797 |  729 |  711 | 1105 |  764 |  635 |  655 | 503 |  614 |\n",
       "| ENSG00000037637 | 167 |  123 |  148 |  175 |  200 |  159 |  228 |   77 |  134 |   88 | 109 |  209 |\n",
       "| ENSG00000159423 |  28 |  108 |   78 |   52 |   75 |   91 |   27 |   12 |   68 |   24 |  48 |   72 |\n",
       "| ENSG00000157916 | 720 | 1500 | 1329 | 1125 |  921 | 1039 | 1304 | 1068 | 1061 |  738 | 643 |  770 |\n",
       "| ENSG00000157881 |  18 |    9 |   39 |   25 |   26 |   14 |   36 |   21 |   20 |   37 |  17 |   34 |\n",
       "| ENSG00000048707 | 412 |  502 |  629 |  568 |  368 |  425 |  566 |  467 |  460 |  526 | 323 |  499 |\n",
       "| ENSG00000162444 |   0 |    0 |    0 |    0 |    0 |    0 |    0 |    0 |    0 |    0 |   0 |    0 |\n",
       "| ENSG00000180758 |  66 |   94 |  131 |  105 |   79 |   86 |   79 |   91 |  108 |   82 |  80 |   92 |\n",
       "| ENSG00000184677 | 226 |  283 |  252 |  231 |  258 |  205 |  384 |  245 |  248 |  220 | 310 |  314 |\n",
       "| ENSG00000131697 |  44 |   22 |   50 |   42 |   45 |   91 |   34 |   94 |   84 |   72 |  27 |   15 |\n",
       "| ENSG00000197921 |   0 |    1 |    0 |    4 |    0 |    0 |    0 |    0 |    0 |    0 |   0 |    0 |\n",
       "| ENSG00000055070 | 456 |  588 |  698 |  642 |  656 |  635 |  713 |  559 |  782 |  465 | 441 |  605 |\n",
       "| ENSG00000175087 |  39 |   24 |   18 |   38 |   77 |   89 |   32 |   52 |   70 |   29 |  27 |   30 |\n",
       "| ENSG00000162511 |   0 |    0 |    0 |    0 |    0 |    0 |    0 |    0 |    0 |    0 |   0 |    0 |\n",
       "| ENSG00000158014 |  10 |   19 |   16 |    3 |   45 |    0 |   28 |   37 |   49 |   14 |   4 |   17 |\n",
       "| ENSG00000204138 | 823 | 1376 | 1931 |  958 |  914 |  883 | 1101 |  804 |  948 | 1064 | 872 | 1470 |\n",
       "| ENSG00000142675 | 104 |  241 |  275 |  175 |  219 |  166 |  238 |  161 |  275 |  208 | 152 |  210 |\n",
       "| ENSG00000197245 |   0 |    0 |   18 |    0 |    0 |    0 |    0 |    0 |    8 |    0 |   0 |    0 |\n",
       "| ENSG00000130772 |  76 |  147 |   93 |  107 |   92 |  149 |  125 |   37 |   45 |  100 |  83 |   41 |\n",
       "| ENSG00000090020 | 734 |  843 |  891 | 1244 | 1023 |  915 | 1453 | 1419 | 1466 | 1070 | 607 | 1101 |\n",
       "| ⋮ | ⋮ | ⋮ | ⋮ | ⋮ | ⋮ | ⋮ | ⋮ | ⋮ | ⋮ | ⋮ | ⋮ | ⋮ |\n",
       "| ENSG00000198840 |  76436 | 105385 | 102297 | 118299 | 108220 | 111797 | 114640 | 102620 | 106156 |  75255 |  81760 |  73757 |\n",
       "| ENSG00000212907 |  17900 |  25279 |  21588 |  30351 |  24699 |  23929 |  28646 |  24138 |  26486 |  18936 |  21013 |  18218 |\n",
       "| ENSG00000198886 | 190734 | 287536 | 272026 | 302997 | 300094 | 293769 | 317941 | 265626 | 317926 | 218184 | 216317 | 247023 |\n",
       "| ENSG00000198786 | 113288 | 148169 | 137888 | 171357 | 155606 | 155758 | 190492 | 139675 | 181696 | 136943 | 135198 | 140845 |\n",
       "| ENSG00000198695 |    550 |    684 |    481 |    553 |    658 |    398 |    528 |    353 |    390 |    378 |    646 |    550 |\n",
       "| ENSG00000198727 |  66275 |  96021 |  96699 | 102751 | 105152 | 107418 | 107904 |  99262 | 114572 |  72842 |  70716 |  84222 |\n",
       "| ENSG00000274175 |      0 |      0 |      0 |      0 |      0 |      0 |      0 |      0 |      0 |      0 |      0 |      0 |\n",
       "| ENSG00000273554 |      0 |      0 |      0 |      0 |      0 |      0 |      0 |      0 |      0 |      0 |      0 |      0 |\n",
       "| ENSG00000275869 |      0 |      0 |      0 |      0 |      0 |      0 |      0 |      0 |      0 |      0 |      0 |      0 |\n",
       "| ENSG00000277836 |      0 |      0 |      0 |      0 |      0 |      0 |      0 |      0 |      0 |      0 |      0 |      0 |\n",
       "| ENSG00000275249 |      0 |      0 |      0 |      0 |      0 |      0 |      0 |      0 |      0 |      0 |      0 |      0 |\n",
       "| ENSG00000274792 |      0 |      0 |      0 |      0 |      0 |      0 |      0 |      0 |      0 |      0 |      0 |      0 |\n",
       "| ENSG00000276760 |      0 |      0 |      0 |      0 |      0 |      0 |      0 |      0 |      0 |      0 |      0 |      0 |\n",
       "| ENSG00000278704 |      0 |      0 |      0 |      0 |      0 |      0 |      0 |      0 |      0 |      0 |      0 |      0 |\n",
       "| ENSG00000277400 |      0 |      0 |      0 |      0 |      0 |      0 |      0 |      0 |      0 |      0 |      0 |      0 |\n",
       "| ENSG00000274847 |      2 |      0 |      0 |     15 |      0 |      0 |      0 |      0 |     14 |      5 |      4 |      0 |\n",
       "| ENSG00000276256 |     18 |      4 |     27 |     39 |     38 |     21 |     29 |     44 |     55 |     29 |     11 |      0 |\n",
       "| ENSG00000273748 |     23 |     51 |     85 |     37 |     55 |     36 |     99 |     37 |     56 |     23 |     58 |      9 |\n",
       "| ENSG00000277196 |      0 |      0 |      0 |      0 |      0 |      0 |      0 |      0 |      0 |      0 |      0 |      0 |\n",
       "| ENSG00000278817 |     13 |      0 |      6 |      7 |      1 |     10 |     28 |      0 |      0 |     66 |      0 |     35 |\n",
       "| ENSG00000276017 |      0 |      0 |      0 |      0 |      0 |      0 |      0 |      0 |      0 |      0 |      0 |      0 |\n",
       "| ENSG00000277630 |      0 |      0 |      0 |      0 |      0 |      0 |      0 |      0 |      0 |      0 |      0 |      0 |\n",
       "| ENSG00000278384 |      0 |      0 |      0 |     11 |      0 |      0 |      0 |      1 |     23 |      0 |      0 |      0 |\n",
       "| ENSG00000278633 |      0 |      0 |      0 |      0 |      0 |      0 |      0 |      0 |      0 |      0 |      0 |      0 |\n",
       "| ENSG00000276345 |      0 |      3 |      0 |      6 |      0 |      1 |      0 |      0 |      0 |      0 |      0 |      0 |\n",
       "| ENSG00000275063 |      0 |      0 |      0 |      0 |      0 |      0 |      0 |      0 |      0 |      0 |      0 |      0 |\n",
       "| ENSG00000277856 |      0 |      0 |      0 |      0 |      0 |      0 |      0 |      0 |      0 |      0 |      0 |      0 |\n",
       "| ENSG00000271254 |      4 |      0 |     21 |     54 |      0 |      1 |     19 |      7 |     29 |     41 |      5 |     79 |\n",
       "| ENSG00000268674 |      0 |      0 |      0 |      0 |      0 |      0 |      0 |      0 |      0 |      0 |      0 |      0 |\n",
       "| ENSG00000277475 |      0 |      0 |      0 |      0 |      0 |      0 |      0 |      0 |      0 |      0 |      0 |      0 |\n",
       "\n"
      ],
      "text/plain": [
       "                S10    S11    S12    S4     S5     S6     S1     S2     S3    \n",
       "ENSG00000142611 247     314    242    382    382    361    450    315    469  \n",
       "ENSG00000157911  94     141    148    170    132    138    175    126    166  \n",
       "ENSG00000142655  73     189    146     74     83    175    116    126     50  \n",
       "ENSG00000149527   0      33      0      3     10      0     14     18     15  \n",
       "ENSG00000171621  91      51    162    168     50    119    173     54     56  \n",
       "ENSG00000142583  26       7     13     14     22      5     17     21     29  \n",
       "ENSG00000173614  74     132     85    136     61    191    113    105    134  \n",
       "ENSG00000162592   0       9      0      6      0      0      0      0      9  \n",
       "ENSG00000204624   0       0      0      0      0      0      0      0      0  \n",
       "ENSG00000142606  38      21     15     74     19     58     19      0     61  \n",
       "ENSG00000171729 587     768    973    797    729    711   1105    764    635  \n",
       "ENSG00000037637 167     123    148    175    200    159    228     77    134  \n",
       "ENSG00000159423  28     108     78     52     75     91     27     12     68  \n",
       "ENSG00000157916 720    1500   1329   1125    921   1039   1304   1068   1061  \n",
       "ENSG00000157881  18       9     39     25     26     14     36     21     20  \n",
       "ENSG00000048707 412     502    629    568    368    425    566    467    460  \n",
       "ENSG00000162444   0       0      0      0      0      0      0      0      0  \n",
       "ENSG00000180758  66      94    131    105     79     86     79     91    108  \n",
       "ENSG00000184677 226     283    252    231    258    205    384    245    248  \n",
       "ENSG00000131697  44      22     50     42     45     91     34     94     84  \n",
       "ENSG00000197921   0       1      0      4      0      0      0      0      0  \n",
       "ENSG00000055070 456     588    698    642    656    635    713    559    782  \n",
       "ENSG00000175087  39      24     18     38     77     89     32     52     70  \n",
       "ENSG00000162511   0       0      0      0      0      0      0      0      0  \n",
       "ENSG00000158014  10      19     16      3     45      0     28     37     49  \n",
       "ENSG00000204138 823    1376   1931    958    914    883   1101    804    948  \n",
       "ENSG00000142675 104     241    275    175    219    166    238    161    275  \n",
       "ENSG00000197245   0       0     18      0      0      0      0      0      8  \n",
       "ENSG00000130772  76     147     93    107     92    149    125     37     45  \n",
       "ENSG00000090020 734     843    891   1244   1023    915   1453   1419   1466  \n",
       "⋮               ⋮      ⋮      ⋮      ⋮      ⋮      ⋮      ⋮      ⋮      ⋮     \n",
       "ENSG00000198840  76436 105385 102297 118299 108220 111797 114640 102620 106156\n",
       "ENSG00000212907  17900  25279  21588  30351  24699  23929  28646  24138  26486\n",
       "ENSG00000198886 190734 287536 272026 302997 300094 293769 317941 265626 317926\n",
       "ENSG00000198786 113288 148169 137888 171357 155606 155758 190492 139675 181696\n",
       "ENSG00000198695    550    684    481    553    658    398    528    353    390\n",
       "ENSG00000198727  66275  96021  96699 102751 105152 107418 107904  99262 114572\n",
       "ENSG00000274175      0      0      0      0      0      0      0      0      0\n",
       "ENSG00000273554      0      0      0      0      0      0      0      0      0\n",
       "ENSG00000275869      0      0      0      0      0      0      0      0      0\n",
       "ENSG00000277836      0      0      0      0      0      0      0      0      0\n",
       "ENSG00000275249      0      0      0      0      0      0      0      0      0\n",
       "ENSG00000274792      0      0      0      0      0      0      0      0      0\n",
       "ENSG00000276760      0      0      0      0      0      0      0      0      0\n",
       "ENSG00000278704      0      0      0      0      0      0      0      0      0\n",
       "ENSG00000277400      0      0      0      0      0      0      0      0      0\n",
       "ENSG00000274847      2      0      0     15      0      0      0      0     14\n",
       "ENSG00000276256     18      4     27     39     38     21     29     44     55\n",
       "ENSG00000273748     23     51     85     37     55     36     99     37     56\n",
       "ENSG00000277196      0      0      0      0      0      0      0      0      0\n",
       "ENSG00000278817     13      0      6      7      1     10     28      0      0\n",
       "ENSG00000276017      0      0      0      0      0      0      0      0      0\n",
       "ENSG00000277630      0      0      0      0      0      0      0      0      0\n",
       "ENSG00000278384      0      0      0     11      0      0      0      1     23\n",
       "ENSG00000278633      0      0      0      0      0      0      0      0      0\n",
       "ENSG00000276345      0      3      0      6      0      1      0      0      0\n",
       "ENSG00000275063      0      0      0      0      0      0      0      0      0\n",
       "ENSG00000277856      0      0      0      0      0      0      0      0      0\n",
       "ENSG00000271254      4      0     21     54      0      1     19      7     29\n",
       "ENSG00000268674      0      0      0      0      0      0      0      0      0\n",
       "ENSG00000277475      0      0      0      0      0      0      0      0      0\n",
       "                S7     S8     S9    \n",
       "ENSG00000142611  374   252     304  \n",
       "ENSG00000157911  179    71      96  \n",
       "ENSG00000142655  104   112     104  \n",
       "ENSG00000149527   27     0       0  \n",
       "ENSG00000171621   97   128     175  \n",
       "ENSG00000142583   12    15      46  \n",
       "ENSG00000173614   50    95     119  \n",
       "ENSG00000162592    0     0       0  \n",
       "ENSG00000204624    0     0       0  \n",
       "ENSG00000142606   24    31      20  \n",
       "ENSG00000171729  655   503     614  \n",
       "ENSG00000037637   88   109     209  \n",
       "ENSG00000159423   24    48      72  \n",
       "ENSG00000157916  738   643     770  \n",
       "ENSG00000157881   37    17      34  \n",
       "ENSG00000048707  526   323     499  \n",
       "ENSG00000162444    0     0       0  \n",
       "ENSG00000180758   82    80      92  \n",
       "ENSG00000184677  220   310     314  \n",
       "ENSG00000131697   72    27      15  \n",
       "ENSG00000197921    0     0       0  \n",
       "ENSG00000055070  465   441     605  \n",
       "ENSG00000175087   29    27      30  \n",
       "ENSG00000162511    0     0       0  \n",
       "ENSG00000158014   14     4      17  \n",
       "ENSG00000204138 1064   872    1470  \n",
       "ENSG00000142675  208   152     210  \n",
       "ENSG00000197245    0     0       0  \n",
       "ENSG00000130772  100    83      41  \n",
       "ENSG00000090020 1070   607    1101  \n",
       "⋮               ⋮      ⋮      ⋮     \n",
       "ENSG00000198840  75255  81760  73757\n",
       "ENSG00000212907  18936  21013  18218\n",
       "ENSG00000198886 218184 216317 247023\n",
       "ENSG00000198786 136943 135198 140845\n",
       "ENSG00000198695    378    646    550\n",
       "ENSG00000198727  72842  70716  84222\n",
       "ENSG00000274175      0      0      0\n",
       "ENSG00000273554      0      0      0\n",
       "ENSG00000275869      0      0      0\n",
       "ENSG00000277836      0      0      0\n",
       "ENSG00000275249      0      0      0\n",
       "ENSG00000274792      0      0      0\n",
       "ENSG00000276760      0      0      0\n",
       "ENSG00000278704      0      0      0\n",
       "ENSG00000277400      0      0      0\n",
       "ENSG00000274847      5      4      0\n",
       "ENSG00000276256     29     11      0\n",
       "ENSG00000273748     23     58      9\n",
       "ENSG00000277196      0      0      0\n",
       "ENSG00000278817     66      0     35\n",
       "ENSG00000276017      0      0      0\n",
       "ENSG00000277630      0      0      0\n",
       "ENSG00000278384      0      0      0\n",
       "ENSG00000278633      0      0      0\n",
       "ENSG00000276345      0      0      0\n",
       "ENSG00000275063      0      0      0\n",
       "ENSG00000277856      0      0      0\n",
       "ENSG00000271254     41      5     79\n",
       "ENSG00000268674      0      0      0\n",
       "ENSG00000277475      0      0      0"
      ]
     },
     "metadata": {},
     "output_type": "display_data"
    }
   ],
   "source": [
    "gpccounts = gpccounts[,rownames(gundiffsamples)]\n",
    "gpccounts"
   ]
  },
  {
   "cell_type": "code",
   "execution_count": 7,
   "id": "0fa68256-37a7-496d-941d-556f90ea83ef",
   "metadata": {},
   "outputs": [
    {
     "data": {
      "text/html": [
       "<style>\n",
       ".list-inline {list-style: none; margin:0; padding: 0}\n",
       ".list-inline>li {display: inline-block}\n",
       ".list-inline>li:not(:last-child)::after {content: \"\\00b7\"; padding: 0 .5ex}\n",
       "</style>\n",
       "<ol class=list-inline><li>'S10'</li><li>'S11'</li><li>'S12'</li><li>'S4'</li><li>'S5'</li><li>'S6'</li><li>'S1'</li><li>'S2'</li><li>'S3'</li><li>'S7'</li><li>'S8'</li><li>'S9'</li></ol>\n"
      ],
      "text/latex": [
       "\\begin{enumerate*}\n",
       "\\item 'S10'\n",
       "\\item 'S11'\n",
       "\\item 'S12'\n",
       "\\item 'S4'\n",
       "\\item 'S5'\n",
       "\\item 'S6'\n",
       "\\item 'S1'\n",
       "\\item 'S2'\n",
       "\\item 'S3'\n",
       "\\item 'S7'\n",
       "\\item 'S8'\n",
       "\\item 'S9'\n",
       "\\end{enumerate*}\n"
      ],
      "text/markdown": [
       "1. 'S10'\n",
       "2. 'S11'\n",
       "3. 'S12'\n",
       "4. 'S4'\n",
       "5. 'S5'\n",
       "6. 'S6'\n",
       "7. 'S1'\n",
       "8. 'S2'\n",
       "9. 'S3'\n",
       "10. 'S7'\n",
       "11. 'S8'\n",
       "12. 'S9'\n",
       "\n",
       "\n"
      ],
      "text/plain": [
       " [1] \"S10\" \"S11\" \"S12\" \"S4\"  \"S5\"  \"S6\"  \"S1\"  \"S2\"  \"S3\"  \"S7\"  \"S8\"  \"S9\" "
      ]
     },
     "metadata": {},
     "output_type": "display_data"
    },
    {
     "data": {
      "text/html": [
       "<style>\n",
       ".list-inline {list-style: none; margin:0; padding: 0}\n",
       ".list-inline>li {display: inline-block}\n",
       ".list-inline>li:not(:last-child)::after {content: \"\\00b7\"; padding: 0 .5ex}\n",
       "</style>\n",
       "<ol class=list-inline><li>'S10'</li><li>'S11'</li><li>'S12'</li><li>'S4'</li><li>'S5'</li><li>'S6'</li><li>'S1'</li><li>'S2'</li><li>'S3'</li><li>'S7'</li><li>'S8'</li><li>'S9'</li></ol>\n"
      ],
      "text/latex": [
       "\\begin{enumerate*}\n",
       "\\item 'S10'\n",
       "\\item 'S11'\n",
       "\\item 'S12'\n",
       "\\item 'S4'\n",
       "\\item 'S5'\n",
       "\\item 'S6'\n",
       "\\item 'S1'\n",
       "\\item 'S2'\n",
       "\\item 'S3'\n",
       "\\item 'S7'\n",
       "\\item 'S8'\n",
       "\\item 'S9'\n",
       "\\end{enumerate*}\n"
      ],
      "text/markdown": [
       "1. 'S10'\n",
       "2. 'S11'\n",
       "3. 'S12'\n",
       "4. 'S4'\n",
       "5. 'S5'\n",
       "6. 'S6'\n",
       "7. 'S1'\n",
       "8. 'S2'\n",
       "9. 'S3'\n",
       "10. 'S7'\n",
       "11. 'S8'\n",
       "12. 'S9'\n",
       "\n",
       "\n"
      ],
      "text/plain": [
       " [1] \"S10\" \"S11\" \"S12\" \"S4\"  \"S5\"  \"S6\"  \"S1\"  \"S2\"  \"S3\"  \"S7\"  \"S8\"  \"S9\" "
      ]
     },
     "metadata": {},
     "output_type": "display_data"
    }
   ],
   "source": [
    "colnames(gpccounts)\n",
    "rownames(gundiffsamples)"
   ]
  },
  {
   "cell_type": "markdown",
   "id": "2da49512-a07e-40a8-9b0b-b463373be8f3",
   "metadata": {},
   "source": [
    "**DeSeq**"
   ]
  },
  {
   "cell_type": "code",
   "execution_count": 8,
   "id": "7fbe074d-b04d-4fee-98f5-54b142de6855",
   "metadata": {},
   "outputs": [
    {
     "name": "stderr",
     "output_type": "stream",
     "text": [
      "Warning message in DESeqDataSet(se, design = design, ignoreRank):\n",
      "“some variables in design formula are characters, converting to factors”\n"
     ]
    },
    {
     "data": {
      "text/plain": [
       "class: DESeqDataSet \n",
       "dim: 20070 12 \n",
       "metadata(1): version\n",
       "assays(1): counts\n",
       "rownames(20070): ENSG00000142611 ENSG00000157911 ... ENSG00000268674\n",
       "  ENSG00000277475\n",
       "rowData names(0):\n",
       "colnames(12): VA1_gut_undiff_S10 HAstV4_gut_undiff_S11 ...\n",
       "  VA1_gut_undiff_S8 HAstV4_gut_undiff_S9\n",
       "colData names(6): condition replicate ... name tissue"
      ]
     },
     "metadata": {},
     "output_type": "display_data"
    }
   ],
   "source": [
    "rownames(gundiffsamples) = colnames(gpccounts) = gundiffsamples$name\n",
    "deseq = DESeqDataSetFromMatrix(countData = gpccounts,\n",
    "                              colData = gundiffsamples,\n",
    "                               design = ~ condition)\n",
    "deseq"
   ]
  },
  {
   "cell_type": "code",
   "execution_count": 9,
   "id": "7d62e568-a8fe-49bb-a0b2-551011e6675f",
   "metadata": {},
   "outputs": [
    {
     "name": "stdout",
     "output_type": "stream",
     "text": [
      "[1] 20070\n"
     ]
    }
   ],
   "source": [
    "print (nrow(deseq))"
   ]
  },
  {
   "cell_type": "code",
   "execution_count": 11,
   "id": "a1d6ea99-c1ad-429d-b8cc-80cb1f4212eb",
   "metadata": {},
   "outputs": [],
   "source": [
    "#filter the 'deseq' dataset, retaining only genes that have at least 3 samples with counts greater than or equal to 10.\n",
    "smallestGroupSize <- 3\n",
    "deseq = deseq[rowSums(counts(deseq) >= 10) >= smallestGroupSize, ]"
   ]
  },
  {
   "cell_type": "code",
   "execution_count": 12,
   "id": "f055db33-76f0-465d-bfb6-ce060175e927",
   "metadata": {},
   "outputs": [],
   "source": [
    "#Size factors are estimated for each sample in the dataset and used to scale the counts, making them comparable across samples.\n",
    "deseq <- estimateSizeFactors(deseq)"
   ]
  },
  {
   "cell_type": "code",
   "execution_count": 14,
   "id": "d1b22b5e-cd4a-4230-a43a-6907d2eef1f1",
   "metadata": {},
   "outputs": [
    {
     "name": "stderr",
     "output_type": "stream",
     "text": [
      "using ntop=500 top features by variance\n",
      "\n"
     ]
    },
    {
     "data": {
      "image/png": "[encoded data removed]",
      "text/plain": [
       "plot without title"
      ]
     },
     "metadata": {
      "image/png": {
       "height": 420,
       "width": 420
      }
     },
     "output_type": "display_data"
    }
   ],
   "source": [
    "#stabilizes the variance across different expression levels.\n",
    "#Apply a \"variance stabilising transformation\" to the data - this is just used for plotting.\n",
    "vsd <- vst(deseq, blind=TRUE)\n",
    "plotPCA(vsd)"
   ]
  },
  {
   "cell_type": "code",
   "execution_count": 15,
   "id": "714266a0-1bc2-4077-a92a-a97815626e22",
   "metadata": {},
   "outputs": [],
   "source": [
    "#return the variance-stabilized count matrix \n",
    "vsd = assay(vsd)"
   ]
  },
  {
   "cell_type": "code",
   "execution_count": 16,
   "id": "c61cdc57-0002-4d9b-b767-7e19f304536b",
   "metadata": {},
   "outputs": [
    {
     "name": "stderr",
     "output_type": "stream",
     "text": [
      "Updating HTML index of packages in '.Library'\n",
      "\n",
      "Making 'packages.html' ...\n",
      " done\n",
      "\n",
      "'getOption(\"repos\")' replaces Bioconductor standard repositories, see\n",
      "'help(\"repositories\", package = \"BiocManager\")' for details.\n",
      "Replacement repositories:\n",
      "    CRAN: https://cran.r-project.org\n",
      "\n",
      "Bioconductor version 3.20 (BiocManager 1.30.25), R 4.4.2 (2024-10-31)\n",
      "\n",
      "Warning message:\n",
      "“package(s) not installed when version(s) same as or greater than current; use\n",
      "  `force = TRUE` to re-install: 'biomaRt'”\n",
      "Old packages: 'bit', 'bit64', 'bslib', 'caret', 'cli', 'clock', 'cluster',\n",
      "  'commonmark', 'cpp11', 'curl', 'data.table', 'GenomeInfoDb', 'gower',\n",
      "  'hardhat', 'httr2', 'jsonlite', 'knitr', 'locfit', 'MASS', 'Matrix', 'mime',\n",
      "  'nlme', 'openssl', 'parallelly', 'processx', 'ps', 'purrr', 'R6',\n",
      "  'RcppArmadillo', 'readxl', 'recipes', 'SparseArray', 'systemfonts',\n",
      "  'textshaping', 'tinytex', 'tzdb', 'xfun', 'xml2', 'zoo'\n",
      "\n"
     ]
    }
   ],
   "source": [
    "# Install biomaRt if you haven't installed it yet\n",
    "install.packages(\"BiocManager\")\n",
    "BiocManager::install(\"biomaRt\")\n",
    "\n",
    "# Load the package\n",
    "library(biomaRt)"
   ]
  },
  {
   "cell_type": "code",
   "execution_count": 17,
   "id": "730ec937-5961-496c-996d-b45ebffa2084",
   "metadata": {},
   "outputs": [
    {
     "data": {
      "text/html": [
       "TRUE"
      ],
      "text/latex": [
       "TRUE"
      ],
      "text/markdown": [
       "TRUE"
      ],
      "text/plain": [
       "[1] TRUE"
      ]
     },
     "metadata": {},
     "output_type": "display_data"
    }
   ],
   "source": [
    "#Check there are no duplicate gene names in the counts table. Should be TRUE.\n",
    "nrow(gpccounts) == length(unique(rownames(gpccounts)))"
   ]
  },
  {
   "cell_type": "code",
   "execution_count": 18,
   "id": "3e57e669-2849-497c-ba9d-e3e0b4608d71",
   "metadata": {},
   "outputs": [],
   "source": [
    "#Read the BiomaRt database to get the HGNC IDs for the genes (rather than the ENSEMBL IDs)\n",
    "#Get the unique gene names\n",
    "allgenes = unique(rownames(gpccounts))"
   ]
  },
  {
   "cell_type": "code",
   "execution_count": 19,
   "id": "234c3f12-74c3-41bd-8e86-3e0387120bcd",
   "metadata": {},
   "outputs": [
    {
     "ename": "ERROR",
     "evalue": "\u001b[1m\u001b[33mError\u001b[39m in `req_perform()`:\u001b[22m\n\u001b[33m!\u001b[39m Failed to perform HTTP request.\n\u001b[1mCaused by error in `curl::curl_fetch_memory()`:\u001b[22m\n\u001b[33m!\u001b[39m Timeout was reached [www.ensembl.org]: Operation timed out after 10002 milliseconds with 0 bytes received\n",
     "output_type": "error",
     "traceback": [
      "\u001b[1m\u001b[33mError\u001b[39m in `req_perform()`:\u001b[22m\n\u001b[33m!\u001b[39m Failed to perform HTTP request.\n\u001b[1mCaused by error in `curl::curl_fetch_memory()`:\u001b[22m\n\u001b[33m!\u001b[39m Timeout was reached [www.ensembl.org]: Operation timed out after 10002 milliseconds with 0 bytes received\nTraceback:\n",
      "1. .constructEnsemblURL(version = version, GRCh = GRCh, mirror = mirror)",
      "2. .listEnsemblArchives(https = TRUE, http_config = list())",
      "3. .checkArchiveList(https, http_config)",
      "4. .getArchiveList(https = https, http_config = http_config)",
      "5. req_perform(html_request)",
      "6. handle_resp(req, resp, error_call = error_call)",
      "7. cnd_signal(resp)",
      "8. signal_abort(cnd)",
      "9. signalCondition(cnd)"
     ]
    }
   ],
   "source": [
    "#Link to the database\n",
    "hostname = 'hsapiens'\n",
    "ensembl = useEnsembl('ENSEMBL_MART_ENSEMBL',\n",
    "                     paste0(hostname, \"_gene_ensembl\"),\n",
    "                     version=110)"
   ]
  },
  {
   "cell_type": "code",
   "execution_count": null,
   "id": "b1c8e096-0879-4d25-a297-c618b4d1f6bf",
   "metadata": {},
   "outputs": [],
   "source": []
  },
  {
   "cell_type": "code",
   "execution_count": null,
   "id": "7ad4d394-e999-45c2-a53a-4548c507f28a",
   "metadata": {},
   "outputs": [],
   "source": []
  }
 ],
 "metadata": {
  "kernelspec": {
   "display_name": "R",
   "language": "R",
   "name": "ir"
  },
  "language_info": {
   "codemirror_mode": "r",
   "file_extension": ".r",
   "mimetype": "text/x-r-source",
   "name": "R",
   "pygments_lexer": "r",
   "version": "4.4.2"
  }
 },
 "nbformat": 4,
 "nbformat_minor": 5
}
