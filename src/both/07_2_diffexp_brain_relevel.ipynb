{
 "cells": [
  {
   "cell_type": "code",
   "execution_count": 1,
   "id": "0c719d41-8926-4538-92ea-3c8da9b15f73",
   "metadata": {},
   "outputs": [
    {
     "name": "stderr",
     "output_type": "stream",
     "text": [
      "\n",
      "Attaching package: ‘dplyr’\n",
      "\n",
      "\n",
      "The following objects are masked from ‘package:stats’:\n",
      "\n",
      "    filter, lag\n",
      "\n",
      "\n",
      "The following objects are masked from ‘package:base’:\n",
      "\n",
      "    intersect, setdiff, setequal, union\n",
      "\n",
      "\n"
     ]
    }
   ],
   "source": [
    "#load library and create subsets\n",
    "library(dplyr)\n",
    "\n",
    "samples <- read.table('both_samples_condition.tsv')\n",
    "\n",
    "bsamples <- samples %>% filter(tissue == \"brain\")\n",
    "#gsamples <- samples %>% filter(tissue == \"gut\")\n",
    "#gundiffsamples <- samples %>% filter(tissue == \"gut\", organoid_stage == \"undiff\")\n",
    "#gdiffsamples <- samples %>% filter(tissue == \"gut\", organoid_stage == \"diff\")\n"
   ]
  },
  {
   "cell_type": "code",
   "execution_count": 2,
   "id": "b9f5dc7f-e5c8-40fe-adef-4ac30f2bc140",
   "metadata": {},
   "outputs": [
    {
     "data": {
      "text/html": [
       "<table class=\"dataframe\">\n",
       "<caption>A data.frame: 8 × 6</caption>\n",
       "<thead>\n",
       "\t<tr><th></th><th scope=col>condition</th><th scope=col>replicate</th><th scope=col>organoid_stage</th><th scope=col>id</th><th scope=col>name</th><th scope=col>tissue</th></tr>\n",
       "\t<tr><th></th><th scope=col>&lt;chr&gt;</th><th scope=col>&lt;int&gt;</th><th scope=col>&lt;chr&gt;</th><th scope=col>&lt;chr&gt;</th><th scope=col>&lt;chr&gt;</th><th scope=col>&lt;chr&gt;</th></tr>\n",
       "</thead>\n",
       "<tbody>\n",
       "\t<tr><th scope=row>VL1</th><td>MLB2  </td><td>1</td><td>4d</td><td>VL1</td><td>MLB2_brain_4d_VL1  </td><td>brain</td></tr>\n",
       "\t<tr><th scope=row>VL2</th><td>MLB2  </td><td>2</td><td>4d</td><td>VL2</td><td>MLB2_brain_4d_VL2  </td><td>brain</td></tr>\n",
       "\t<tr><th scope=row>VL3</th><td>VA1   </td><td>1</td><td>4d</td><td>VL3</td><td>VA1_brain_4d_VL3   </td><td>brain</td></tr>\n",
       "\t<tr><th scope=row>VL4</th><td>VA1   </td><td>2</td><td>4d</td><td>VL4</td><td>VA1_brain_4d_VL4   </td><td>brain</td></tr>\n",
       "\t<tr><th scope=row>VL5</th><td>HAstV4</td><td>1</td><td>4d</td><td>VL5</td><td>HAstV4_brain_4d_VL5</td><td>brain</td></tr>\n",
       "\t<tr><th scope=row>VL6</th><td>HAstV4</td><td>2</td><td>4d</td><td>VL6</td><td>HAstV4_brain_4d_VL6</td><td>brain</td></tr>\n",
       "\t<tr><th scope=row>VL7</th><td>Mock  </td><td>1</td><td>4d</td><td>VL7</td><td>Mock_brain_4d_VL7  </td><td>brain</td></tr>\n",
       "\t<tr><th scope=row>VL8</th><td>Mock  </td><td>2</td><td>4d</td><td>VL8</td><td>Mock_brain_4d_VL8  </td><td>brain</td></tr>\n",
       "</tbody>\n",
       "</table>\n"
      ],
      "text/latex": [
       "A data.frame: 8 × 6\n",
       "\\begin{tabular}{r|llllll}\n",
       "  & condition & replicate & organoid\\_stage & id & name & tissue\\\\\n",
       "  & <chr> & <int> & <chr> & <chr> & <chr> & <chr>\\\\\n",
       "\\hline\n",
       "\tVL1 & MLB2   & 1 & 4d & VL1 & MLB2\\_brain\\_4d\\_VL1   & brain\\\\\n",
       "\tVL2 & MLB2   & 2 & 4d & VL2 & MLB2\\_brain\\_4d\\_VL2   & brain\\\\\n",
       "\tVL3 & VA1    & 1 & 4d & VL3 & VA1\\_brain\\_4d\\_VL3    & brain\\\\\n",
       "\tVL4 & VA1    & 2 & 4d & VL4 & VA1\\_brain\\_4d\\_VL4    & brain\\\\\n",
       "\tVL5 & HAstV4 & 1 & 4d & VL5 & HAstV4\\_brain\\_4d\\_VL5 & brain\\\\\n",
       "\tVL6 & HAstV4 & 2 & 4d & VL6 & HAstV4\\_brain\\_4d\\_VL6 & brain\\\\\n",
       "\tVL7 & Mock   & 1 & 4d & VL7 & Mock\\_brain\\_4d\\_VL7   & brain\\\\\n",
       "\tVL8 & Mock   & 2 & 4d & VL8 & Mock\\_brain\\_4d\\_VL8   & brain\\\\\n",
       "\\end{tabular}\n"
      ],
      "text/markdown": [
       "\n",
       "A data.frame: 8 × 6\n",
       "\n",
       "| <!--/--> | condition &lt;chr&gt; | replicate &lt;int&gt; | organoid_stage &lt;chr&gt; | id &lt;chr&gt; | name &lt;chr&gt; | tissue &lt;chr&gt; |\n",
       "|---|---|---|---|---|---|---|\n",
       "| VL1 | MLB2   | 1 | 4d | VL1 | MLB2_brain_4d_VL1   | brain |\n",
       "| VL2 | MLB2   | 2 | 4d | VL2 | MLB2_brain_4d_VL2   | brain |\n",
       "| VL3 | VA1    | 1 | 4d | VL3 | VA1_brain_4d_VL3    | brain |\n",
       "| VL4 | VA1    | 2 | 4d | VL4 | VA1_brain_4d_VL4    | brain |\n",
       "| VL5 | HAstV4 | 1 | 4d | VL5 | HAstV4_brain_4d_VL5 | brain |\n",
       "| VL6 | HAstV4 | 2 | 4d | VL6 | HAstV4_brain_4d_VL6 | brain |\n",
       "| VL7 | Mock   | 1 | 4d | VL7 | Mock_brain_4d_VL7   | brain |\n",
       "| VL8 | Mock   | 2 | 4d | VL8 | Mock_brain_4d_VL8   | brain |\n",
       "\n"
      ],
      "text/plain": [
       "    condition replicate organoid_stage id  name                tissue\n",
       "VL1 MLB2      1         4d             VL1 MLB2_brain_4d_VL1   brain \n",
       "VL2 MLB2      2         4d             VL2 MLB2_brain_4d_VL2   brain \n",
       "VL3 VA1       1         4d             VL3 VA1_brain_4d_VL3    brain \n",
       "VL4 VA1       2         4d             VL4 VA1_brain_4d_VL4    brain \n",
       "VL5 HAstV4    1         4d             VL5 HAstV4_brain_4d_VL5 brain \n",
       "VL6 HAstV4    2         4d             VL6 HAstV4_brain_4d_VL6 brain \n",
       "VL7 Mock      1         4d             VL7 Mock_brain_4d_VL7   brain \n",
       "VL8 Mock      2         4d             VL8 Mock_brain_4d_VL8   brain "
      ]
     },
     "metadata": {},
     "output_type": "display_data"
    }
   ],
   "source": [
    "bsamples"
   ]
  },
  {
   "cell_type": "code",
   "execution_count": 3,
   "id": "ef8b8b22-e59a-44e6-a869-3773a2fa58da",
   "metadata": {},
   "outputs": [
    {
     "data": {
      "text/html": [
       "<style>\n",
       ".list-inline {list-style: none; margin:0; padding: 0}\n",
       ".list-inline>li {display: inline-block}\n",
       ".list-inline>li:not(:last-child)::after {content: \"\\00b7\"; padding: 0 .5ex}\n",
       "</style>\n",
       "<ol class=list-inline><li>20070</li><li>8</li></ol>\n"
      ],
      "text/latex": [
       "\\begin{enumerate*}\n",
       "\\item 20070\n",
       "\\item 8\n",
       "\\end{enumerate*}\n"
      ],
      "text/markdown": [
       "1. 20070\n",
       "2. 8\n",
       "\n",
       "\n"
      ],
      "text/plain": [
       "[1] 20070     8"
      ]
     },
     "metadata": {},
     "output_type": "display_data"
    }
   ],
   "source": [
    "bpccounts = as.matrix(read.csv('../../output/brain/counts_protein_coding.csv',row.names = 1))\n",
    "dim(bpccounts)"
   ]
  },
  {
   "cell_type": "code",
   "execution_count": 4,
   "id": "0de48186-750a-431e-aa19-33cac6db5569",
   "metadata": {},
   "outputs": [
    {
     "name": "stderr",
     "output_type": "stream",
     "text": [
      "Loading required package: S4Vectors\n",
      "\n",
      "Loading required package: stats4\n",
      "\n",
      "Loading required package: BiocGenerics\n",
      "\n",
      "\n",
      "Attaching package: ‘BiocGenerics’\n",
      "\n",
      "\n",
      "The following objects are masked from ‘package:dplyr’:\n",
      "\n",
      "    combine, intersect, setdiff, union\n",
      "\n",
      "\n",
      "The following objects are masked from ‘package:stats’:\n",
      "\n",
      "    IQR, mad, sd, var, xtabs\n",
      "\n",
      "\n",
      "The following objects are masked from ‘package:base’:\n",
      "\n",
      "    anyDuplicated, aperm, append, as.data.frame, basename, cbind,\n",
      "    colnames, dirname, do.call, duplicated, eval, evalq, Filter, Find,\n",
      "    get, grep, grepl, intersect, is.unsorted, lapply, Map, mapply,\n",
      "    match, mget, order, paste, pmax, pmax.int, pmin, pmin.int,\n",
      "    Position, rank, rbind, Reduce, rownames, sapply, saveRDS, setdiff,\n",
      "    table, tapply, union, unique, unsplit, which.max, which.min\n",
      "\n",
      "\n",
      "\n",
      "Attaching package: ‘S4Vectors’\n",
      "\n",
      "\n",
      "The following objects are masked from ‘package:dplyr’:\n",
      "\n",
      "    first, rename\n",
      "\n",
      "\n",
      "The following object is masked from ‘package:utils’:\n",
      "\n",
      "    findMatches\n",
      "\n",
      "\n",
      "The following objects are masked from ‘package:base’:\n",
      "\n",
      "    expand.grid, I, unname\n",
      "\n",
      "\n",
      "Loading required package: IRanges\n",
      "\n",
      "\n",
      "Attaching package: ‘IRanges’\n",
      "\n",
      "\n",
      "The following objects are masked from ‘package:dplyr’:\n",
      "\n",
      "    collapse, desc, slice\n",
      "\n",
      "\n",
      "Loading required package: GenomicRanges\n",
      "\n",
      "Loading required package: GenomeInfoDb\n",
      "\n",
      "Loading required package: SummarizedExperiment\n",
      "\n",
      "Loading required package: MatrixGenerics\n",
      "\n",
      "Loading required package: matrixStats\n",
      "\n",
      "\n",
      "Attaching package: ‘matrixStats’\n",
      "\n",
      "\n",
      "The following object is masked from ‘package:dplyr’:\n",
      "\n",
      "    count\n",
      "\n",
      "\n",
      "\n",
      "Attaching package: ‘MatrixGenerics’\n",
      "\n",
      "\n",
      "The following objects are masked from ‘package:matrixStats’:\n",
      "\n",
      "    colAlls, colAnyNAs, colAnys, colAvgsPerRowSet, colCollapse,\n",
      "    colCounts, colCummaxs, colCummins, colCumprods, colCumsums,\n",
      "    colDiffs, colIQRDiffs, colIQRs, colLogSumExps, colMadDiffs,\n",
      "    colMads, colMaxs, colMeans2, colMedians, colMins, colOrderStats,\n",
      "    colProds, colQuantiles, colRanges, colRanks, colSdDiffs, colSds,\n",
      "    colSums2, colTabulates, colVarDiffs, colVars, colWeightedMads,\n",
      "    colWeightedMeans, colWeightedMedians, colWeightedSds,\n",
      "    colWeightedVars, rowAlls, rowAnyNAs, rowAnys, rowAvgsPerColSet,\n",
      "    rowCollapse, rowCounts, rowCummaxs, rowCummins, rowCumprods,\n",
      "    rowCumsums, rowDiffs, rowIQRDiffs, rowIQRs, rowLogSumExps,\n",
      "    rowMadDiffs, rowMads, rowMaxs, rowMeans2, rowMedians, rowMins,\n",
      "    rowOrderStats, rowProds, rowQuantiles, rowRanges, rowRanks,\n",
      "    rowSdDiffs, rowSds, rowSums2, rowTabulates, rowVarDiffs, rowVars,\n",
      "    rowWeightedMads, rowWeightedMeans, rowWeightedMedians,\n",
      "    rowWeightedSds, rowWeightedVars\n",
      "\n",
      "\n",
      "Loading required package: Biobase\n",
      "\n",
      "Welcome to Bioconductor\n",
      "\n",
      "    Vignettes contain introductory material; view with\n",
      "    'browseVignettes()'. To cite Bioconductor, see\n",
      "    'citation(\"Biobase\")', and for packages 'citation(\"pkgname\")'.\n",
      "\n",
      "\n",
      "\n",
      "Attaching package: ‘Biobase’\n",
      "\n",
      "\n",
      "The following object is masked from ‘package:MatrixGenerics’:\n",
      "\n",
      "    rowMedians\n",
      "\n",
      "\n",
      "The following objects are masked from ‘package:matrixStats’:\n",
      "\n",
      "    anyMissing, rowMedians\n",
      "\n",
      "\n"
     ]
    }
   ],
   "source": [
    "library(DESeq2)\n",
    "colours = c(\n",
    "    HAstV4='#ff9301',\n",
    "    MLB2='#592bf5',\n",
    "    VA1='#1fbd6b',\n",
    "    mock='#919190')"
   ]
  },
  {
   "cell_type": "code",
   "execution_count": 5,
   "id": "ff98036e-82f6-440d-8b4a-cf535cabdd88",
   "metadata": {},
   "outputs": [
    {
     "data": {
      "text/html": [
       "<table class=\"dataframe\">\n",
       "<caption>A matrix: 20070 × 8 of type int</caption>\n",
       "<thead>\n",
       "\t<tr><th></th><th scope=col>VL1</th><th scope=col>VL2</th><th scope=col>VL3</th><th scope=col>VL4</th><th scope=col>VL5</th><th scope=col>VL6</th><th scope=col>VL7</th><th scope=col>VL8</th></tr>\n",
       "</thead>\n",
       "<tbody>\n",
       "\t<tr><th scope=row>ENSG00000142611</th><td> 362</td><td> 678</td><td> 397</td><td> 488</td><td> 622</td><td> 578</td><td> 342</td><td> 466</td></tr>\n",
       "\t<tr><th scope=row>ENSG00000157911</th><td> 222</td><td> 402</td><td> 462</td><td> 437</td><td> 546</td><td> 288</td><td> 209</td><td> 346</td></tr>\n",
       "\t<tr><th scope=row>ENSG00000142655</th><td>  92</td><td> 206</td><td> 256</td><td> 298</td><td> 232</td><td> 143</td><td> 190</td><td> 223</td></tr>\n",
       "\t<tr><th scope=row>ENSG00000149527</th><td>  68</td><td> 159</td><td> 194</td><td> 231</td><td> 214</td><td> 201</td><td> 127</td><td>  92</td></tr>\n",
       "\t<tr><th scope=row>ENSG00000171621</th><td>  22</td><td>  44</td><td>  90</td><td> 107</td><td>  16</td><td>  55</td><td>  65</td><td>  46</td></tr>\n",
       "\t<tr><th scope=row>ENSG00000142583</th><td>   0</td><td>   0</td><td>   0</td><td>   0</td><td>   0</td><td>   7</td><td>   0</td><td>   0</td></tr>\n",
       "\t<tr><th scope=row>ENSG00000173614</th><td>  45</td><td> 143</td><td> 181</td><td>  59</td><td> 124</td><td> 119</td><td>  87</td><td>  80</td></tr>\n",
       "\t<tr><th scope=row>ENSG00000162592</th><td>   0</td><td>   9</td><td>  18</td><td>   0</td><td>   0</td><td>   0</td><td>   0</td><td>   0</td></tr>\n",
       "\t<tr><th scope=row>ENSG00000204624</th><td> 169</td><td> 483</td><td> 321</td><td> 294</td><td> 219</td><td> 393</td><td> 379</td><td> 300</td></tr>\n",
       "\t<tr><th scope=row>ENSG00000142606</th><td>   5</td><td>  19</td><td>   2</td><td>   5</td><td>  12</td><td>   3</td><td>   6</td><td>   2</td></tr>\n",
       "\t<tr><th scope=row>ENSG00000171729</th><td>  91</td><td>  68</td><td>  95</td><td>  55</td><td>  47</td><td>  46</td><td>  44</td><td>  53</td></tr>\n",
       "\t<tr><th scope=row>ENSG00000037637</th><td> 309</td><td> 470</td><td> 421</td><td> 396</td><td> 367</td><td> 618</td><td> 367</td><td> 494</td></tr>\n",
       "\t<tr><th scope=row>ENSG00000159423</th><td>  28</td><td> 100</td><td> 141</td><td>  72</td><td> 119</td><td> 157</td><td>  70</td><td> 122</td></tr>\n",
       "\t<tr><th scope=row>ENSG00000157916</th><td> 567</td><td>1043</td><td>1216</td><td>1035</td><td>1409</td><td>1006</td><td> 863</td><td> 890</td></tr>\n",
       "\t<tr><th scope=row>ENSG00000157881</th><td>  79</td><td> 188</td><td> 123</td><td> 218</td><td> 146</td><td> 195</td><td> 107</td><td> 170</td></tr>\n",
       "\t<tr><th scope=row>ENSG00000048707</th><td> 338</td><td> 457</td><td> 367</td><td> 559</td><td> 466</td><td> 303</td><td> 371</td><td> 456</td></tr>\n",
       "\t<tr><th scope=row>ENSG00000162444</th><td>   1</td><td>   5</td><td>   0</td><td>   0</td><td>   0</td><td>   0</td><td>   0</td><td>   0</td></tr>\n",
       "\t<tr><th scope=row>ENSG00000180758</th><td>  60</td><td>  53</td><td>  88</td><td>  60</td><td>  42</td><td>  45</td><td> 124</td><td>  49</td></tr>\n",
       "\t<tr><th scope=row>ENSG00000184677</th><td> 105</td><td> 243</td><td> 267</td><td> 201</td><td> 200</td><td> 210</td><td> 132</td><td> 160</td></tr>\n",
       "\t<tr><th scope=row>ENSG00000131697</th><td>  48</td><td> 109</td><td> 100</td><td>  51</td><td> 127</td><td> 110</td><td>  98</td><td> 124</td></tr>\n",
       "\t<tr><th scope=row>ENSG00000197921</th><td> 920</td><td>1634</td><td>1041</td><td>1203</td><td> 868</td><td> 904</td><td> 917</td><td>1226</td></tr>\n",
       "\t<tr><th scope=row>ENSG00000055070</th><td> 403</td><td> 787</td><td> 965</td><td> 572</td><td> 821</td><td> 488</td><td> 703</td><td> 818</td></tr>\n",
       "\t<tr><th scope=row>ENSG00000175087</th><td> 138</td><td> 272</td><td> 231</td><td> 317</td><td> 293</td><td> 225</td><td> 208</td><td> 195</td></tr>\n",
       "\t<tr><th scope=row>ENSG00000162511</th><td>   0</td><td>   0</td><td>   0</td><td>   0</td><td>   0</td><td>   0</td><td>   0</td><td>   0</td></tr>\n",
       "\t<tr><th scope=row>ENSG00000158014</th><td>   7</td><td>  13</td><td>  57</td><td>  55</td><td>   2</td><td>  13</td><td>  23</td><td>  13</td></tr>\n",
       "\t<tr><th scope=row>ENSG00000204138</th><td>1068</td><td>2336</td><td>1762</td><td>1586</td><td>2107</td><td>1643</td><td>1307</td><td>2131</td></tr>\n",
       "\t<tr><th scope=row>ENSG00000142675</th><td>  17</td><td>  40</td><td>  11</td><td>   0</td><td>   4</td><td>  11</td><td>  13</td><td>   4</td></tr>\n",
       "\t<tr><th scope=row>ENSG00000197245</th><td>  20</td><td>   9</td><td>   0</td><td>  10</td><td>   8</td><td>   1</td><td>  11</td><td>  18</td></tr>\n",
       "\t<tr><th scope=row>ENSG00000130772</th><td> 143</td><td> 271</td><td> 315</td><td> 191</td><td> 207</td><td> 243</td><td> 173</td><td> 198</td></tr>\n",
       "\t<tr><th scope=row>ENSG00000090020</th><td>  34</td><td>  76</td><td>  44</td><td> 102</td><td> 101</td><td>  54</td><td>  42</td><td>  57</td></tr>\n",
       "\t<tr><th scope=row>⋮</th><td>⋮</td><td>⋮</td><td>⋮</td><td>⋮</td><td>⋮</td><td>⋮</td><td>⋮</td><td>⋮</td></tr>\n",
       "\t<tr><th scope=row>ENSG00000198840</th><td>13390</td><td>26433</td><td> 42228</td><td>27746</td><td> 42433</td><td>25436</td><td>22811</td><td> 32248</td></tr>\n",
       "\t<tr><th scope=row>ENSG00000212907</th><td> 4556</td><td> 9264</td><td> 14504</td><td> 9082</td><td> 15383</td><td> 8958</td><td> 7890</td><td> 12141</td></tr>\n",
       "\t<tr><th scope=row>ENSG00000198886</th><td>49464</td><td>97231</td><td>148158</td><td>94017</td><td>126958</td><td>88753</td><td>83981</td><td>107149</td></tr>\n",
       "\t<tr><th scope=row>ENSG00000198786</th><td>13638</td><td>23455</td><td> 38913</td><td>24897</td><td> 33311</td><td>21926</td><td>21897</td><td> 27576</td></tr>\n",
       "\t<tr><th scope=row>ENSG00000198695</th><td> 1061</td><td> 1754</td><td>  1538</td><td> 1408</td><td>  1653</td><td> 1722</td><td> 1696</td><td>  1452</td></tr>\n",
       "\t<tr><th scope=row>ENSG00000198727</th><td> 8957</td><td>17689</td><td> 28389</td><td>18844</td><td> 26433</td><td>16801</td><td>14468</td><td> 19537</td></tr>\n",
       "\t<tr><th scope=row>ENSG00000274175</th><td>    0</td><td>    0</td><td>     0</td><td>    0</td><td>     0</td><td>    0</td><td>    0</td><td>     0</td></tr>\n",
       "\t<tr><th scope=row>ENSG00000273554</th><td>    0</td><td>    0</td><td>     0</td><td>    0</td><td>     0</td><td>    0</td><td>    0</td><td>     0</td></tr>\n",
       "\t<tr><th scope=row>ENSG00000275869</th><td>    0</td><td>    0</td><td>     0</td><td>    0</td><td>     0</td><td>    0</td><td>    0</td><td>     0</td></tr>\n",
       "\t<tr><th scope=row>ENSG00000277836</th><td>    0</td><td>    0</td><td>     0</td><td>    0</td><td>     0</td><td>    0</td><td>    0</td><td>     0</td></tr>\n",
       "\t<tr><th scope=row>ENSG00000275249</th><td>    0</td><td>    0</td><td>     0</td><td>    0</td><td>     0</td><td>    0</td><td>    0</td><td>     0</td></tr>\n",
       "\t<tr><th scope=row>ENSG00000274792</th><td>    0</td><td>    0</td><td>     0</td><td>    0</td><td>     0</td><td>    0</td><td>    0</td><td>     0</td></tr>\n",
       "\t<tr><th scope=row>ENSG00000276760</th><td>    0</td><td>    0</td><td>     0</td><td>    0</td><td>     0</td><td>    0</td><td>    0</td><td>     0</td></tr>\n",
       "\t<tr><th scope=row>ENSG00000278704</th><td>    0</td><td>    0</td><td>     0</td><td>    0</td><td>     0</td><td>    0</td><td>    0</td><td>     0</td></tr>\n",
       "\t<tr><th scope=row>ENSG00000277400</th><td>    0</td><td>    0</td><td>     0</td><td>    0</td><td>     0</td><td>    0</td><td>    0</td><td>     0</td></tr>\n",
       "\t<tr><th scope=row>ENSG00000274847</th><td>    0</td><td>    0</td><td>     0</td><td>    0</td><td>     0</td><td>    0</td><td>    0</td><td>     0</td></tr>\n",
       "\t<tr><th scope=row>ENSG00000276256</th><td>   82</td><td>   67</td><td>    95</td><td>  133</td><td>    77</td><td>   86</td><td>   48</td><td>    40</td></tr>\n",
       "\t<tr><th scope=row>ENSG00000273748</th><td>   34</td><td>   92</td><td>   219</td><td>   95</td><td>   130</td><td>  127</td><td>   98</td><td>   250</td></tr>\n",
       "\t<tr><th scope=row>ENSG00000277196</th><td>    0</td><td>    0</td><td>     0</td><td>    0</td><td>     0</td><td>    0</td><td>    0</td><td>     0</td></tr>\n",
       "\t<tr><th scope=row>ENSG00000278817</th><td>   61</td><td>  160</td><td>   137</td><td>  143</td><td>   122</td><td>   66</td><td>  144</td><td>   101</td></tr>\n",
       "\t<tr><th scope=row>ENSG00000276017</th><td>    0</td><td>    0</td><td>     0</td><td>    0</td><td>     0</td><td>    0</td><td>    0</td><td>     0</td></tr>\n",
       "\t<tr><th scope=row>ENSG00000277630</th><td>    0</td><td>    0</td><td>     0</td><td>    0</td><td>     0</td><td>    0</td><td>    0</td><td>     0</td></tr>\n",
       "\t<tr><th scope=row>ENSG00000278384</th><td>    0</td><td>    0</td><td>     0</td><td>    0</td><td>     0</td><td>    0</td><td>    0</td><td>     0</td></tr>\n",
       "\t<tr><th scope=row>ENSG00000278633</th><td>    0</td><td>    0</td><td>     0</td><td>    0</td><td>     0</td><td>    0</td><td>    0</td><td>     0</td></tr>\n",
       "\t<tr><th scope=row>ENSG00000276345</th><td>    1</td><td>    0</td><td>     0</td><td>    0</td><td>     0</td><td>    0</td><td>    0</td><td>     0</td></tr>\n",
       "\t<tr><th scope=row>ENSG00000275063</th><td>    0</td><td>    0</td><td>     0</td><td>    0</td><td>     0</td><td>    0</td><td>    0</td><td>     0</td></tr>\n",
       "\t<tr><th scope=row>ENSG00000277856</th><td>    0</td><td>    0</td><td>     0</td><td>    0</td><td>     0</td><td>    0</td><td>    0</td><td>     0</td></tr>\n",
       "\t<tr><th scope=row>ENSG00000271254</th><td>    2</td><td>   43</td><td>     6</td><td>   10</td><td>     0</td><td>    5</td><td>    0</td><td>    10</td></tr>\n",
       "\t<tr><th scope=row>ENSG00000268674</th><td>    0</td><td>    0</td><td>     0</td><td>    0</td><td>     0</td><td>    0</td><td>    0</td><td>     0</td></tr>\n",
       "\t<tr><th scope=row>ENSG00000277475</th><td>    0</td><td>    0</td><td>     0</td><td>    0</td><td>     0</td><td>    0</td><td>    0</td><td>     0</td></tr>\n",
       "</tbody>\n",
       "</table>\n"
      ],
      "text/latex": [
       "A matrix: 20070 × 8 of type int\n",
       "\\begin{tabular}{r|llllllll}\n",
       "  & VL1 & VL2 & VL3 & VL4 & VL5 & VL6 & VL7 & VL8\\\\\n",
       "\\hline\n",
       "\tENSG00000142611 &  362 &  678 &  397 &  488 &  622 &  578 &  342 &  466\\\\\n",
       "\tENSG00000157911 &  222 &  402 &  462 &  437 &  546 &  288 &  209 &  346\\\\\n",
       "\tENSG00000142655 &   92 &  206 &  256 &  298 &  232 &  143 &  190 &  223\\\\\n",
       "\tENSG00000149527 &   68 &  159 &  194 &  231 &  214 &  201 &  127 &   92\\\\\n",
       "\tENSG00000171621 &   22 &   44 &   90 &  107 &   16 &   55 &   65 &   46\\\\\n",
       "\tENSG00000142583 &    0 &    0 &    0 &    0 &    0 &    7 &    0 &    0\\\\\n",
       "\tENSG00000173614 &   45 &  143 &  181 &   59 &  124 &  119 &   87 &   80\\\\\n",
       "\tENSG00000162592 &    0 &    9 &   18 &    0 &    0 &    0 &    0 &    0\\\\\n",
       "\tENSG00000204624 &  169 &  483 &  321 &  294 &  219 &  393 &  379 &  300\\\\\n",
       "\tENSG00000142606 &    5 &   19 &    2 &    5 &   12 &    3 &    6 &    2\\\\\n",
       "\tENSG00000171729 &   91 &   68 &   95 &   55 &   47 &   46 &   44 &   53\\\\\n",
       "\tENSG00000037637 &  309 &  470 &  421 &  396 &  367 &  618 &  367 &  494\\\\\n",
       "\tENSG00000159423 &   28 &  100 &  141 &   72 &  119 &  157 &   70 &  122\\\\\n",
       "\tENSG00000157916 &  567 & 1043 & 1216 & 1035 & 1409 & 1006 &  863 &  890\\\\\n",
       "\tENSG00000157881 &   79 &  188 &  123 &  218 &  146 &  195 &  107 &  170\\\\\n",
       "\tENSG00000048707 &  338 &  457 &  367 &  559 &  466 &  303 &  371 &  456\\\\\n",
       "\tENSG00000162444 &    1 &    5 &    0 &    0 &    0 &    0 &    0 &    0\\\\\n",
       "\tENSG00000180758 &   60 &   53 &   88 &   60 &   42 &   45 &  124 &   49\\\\\n",
       "\tENSG00000184677 &  105 &  243 &  267 &  201 &  200 &  210 &  132 &  160\\\\\n",
       "\tENSG00000131697 &   48 &  109 &  100 &   51 &  127 &  110 &   98 &  124\\\\\n",
       "\tENSG00000197921 &  920 & 1634 & 1041 & 1203 &  868 &  904 &  917 & 1226\\\\\n",
       "\tENSG00000055070 &  403 &  787 &  965 &  572 &  821 &  488 &  703 &  818\\\\\n",
       "\tENSG00000175087 &  138 &  272 &  231 &  317 &  293 &  225 &  208 &  195\\\\\n",
       "\tENSG00000162511 &    0 &    0 &    0 &    0 &    0 &    0 &    0 &    0\\\\\n",
       "\tENSG00000158014 &    7 &   13 &   57 &   55 &    2 &   13 &   23 &   13\\\\\n",
       "\tENSG00000204138 & 1068 & 2336 & 1762 & 1586 & 2107 & 1643 & 1307 & 2131\\\\\n",
       "\tENSG00000142675 &   17 &   40 &   11 &    0 &    4 &   11 &   13 &    4\\\\\n",
       "\tENSG00000197245 &   20 &    9 &    0 &   10 &    8 &    1 &   11 &   18\\\\\n",
       "\tENSG00000130772 &  143 &  271 &  315 &  191 &  207 &  243 &  173 &  198\\\\\n",
       "\tENSG00000090020 &   34 &   76 &   44 &  102 &  101 &   54 &   42 &   57\\\\\n",
       "\t⋮ & ⋮ & ⋮ & ⋮ & ⋮ & ⋮ & ⋮ & ⋮ & ⋮\\\\\n",
       "\tENSG00000198840 & 13390 & 26433 &  42228 & 27746 &  42433 & 25436 & 22811 &  32248\\\\\n",
       "\tENSG00000212907 &  4556 &  9264 &  14504 &  9082 &  15383 &  8958 &  7890 &  12141\\\\\n",
       "\tENSG00000198886 & 49464 & 97231 & 148158 & 94017 & 126958 & 88753 & 83981 & 107149\\\\\n",
       "\tENSG00000198786 & 13638 & 23455 &  38913 & 24897 &  33311 & 21926 & 21897 &  27576\\\\\n",
       "\tENSG00000198695 &  1061 &  1754 &   1538 &  1408 &   1653 &  1722 &  1696 &   1452\\\\\n",
       "\tENSG00000198727 &  8957 & 17689 &  28389 & 18844 &  26433 & 16801 & 14468 &  19537\\\\\n",
       "\tENSG00000274175 &     0 &     0 &      0 &     0 &      0 &     0 &     0 &      0\\\\\n",
       "\tENSG00000273554 &     0 &     0 &      0 &     0 &      0 &     0 &     0 &      0\\\\\n",
       "\tENSG00000275869 &     0 &     0 &      0 &     0 &      0 &     0 &     0 &      0\\\\\n",
       "\tENSG00000277836 &     0 &     0 &      0 &     0 &      0 &     0 &     0 &      0\\\\\n",
       "\tENSG00000275249 &     0 &     0 &      0 &     0 &      0 &     0 &     0 &      0\\\\\n",
       "\tENSG00000274792 &     0 &     0 &      0 &     0 &      0 &     0 &     0 &      0\\\\\n",
       "\tENSG00000276760 &     0 &     0 &      0 &     0 &      0 &     0 &     0 &      0\\\\\n",
       "\tENSG00000278704 &     0 &     0 &      0 &     0 &      0 &     0 &     0 &      0\\\\\n",
       "\tENSG00000277400 &     0 &     0 &      0 &     0 &      0 &     0 &     0 &      0\\\\\n",
       "\tENSG00000274847 &     0 &     0 &      0 &     0 &      0 &     0 &     0 &      0\\\\\n",
       "\tENSG00000276256 &    82 &    67 &     95 &   133 &     77 &    86 &    48 &     40\\\\\n",
       "\tENSG00000273748 &    34 &    92 &    219 &    95 &    130 &   127 &    98 &    250\\\\\n",
       "\tENSG00000277196 &     0 &     0 &      0 &     0 &      0 &     0 &     0 &      0\\\\\n",
       "\tENSG00000278817 &    61 &   160 &    137 &   143 &    122 &    66 &   144 &    101\\\\\n",
       "\tENSG00000276017 &     0 &     0 &      0 &     0 &      0 &     0 &     0 &      0\\\\\n",
       "\tENSG00000277630 &     0 &     0 &      0 &     0 &      0 &     0 &     0 &      0\\\\\n",
       "\tENSG00000278384 &     0 &     0 &      0 &     0 &      0 &     0 &     0 &      0\\\\\n",
       "\tENSG00000278633 &     0 &     0 &      0 &     0 &      0 &     0 &     0 &      0\\\\\n",
       "\tENSG00000276345 &     1 &     0 &      0 &     0 &      0 &     0 &     0 &      0\\\\\n",
       "\tENSG00000275063 &     0 &     0 &      0 &     0 &      0 &     0 &     0 &      0\\\\\n",
       "\tENSG00000277856 &     0 &     0 &      0 &     0 &      0 &     0 &     0 &      0\\\\\n",
       "\tENSG00000271254 &     2 &    43 &      6 &    10 &      0 &     5 &     0 &     10\\\\\n",
       "\tENSG00000268674 &     0 &     0 &      0 &     0 &      0 &     0 &     0 &      0\\\\\n",
       "\tENSG00000277475 &     0 &     0 &      0 &     0 &      0 &     0 &     0 &      0\\\\\n",
       "\\end{tabular}\n"
      ],
      "text/markdown": [
       "\n",
       "A matrix: 20070 × 8 of type int\n",
       "\n",
       "| <!--/--> | VL1 | VL2 | VL3 | VL4 | VL5 | VL6 | VL7 | VL8 |\n",
       "|---|---|---|---|---|---|---|---|---|\n",
       "| ENSG00000142611 |  362 |  678 |  397 |  488 |  622 |  578 |  342 |  466 |\n",
       "| ENSG00000157911 |  222 |  402 |  462 |  437 |  546 |  288 |  209 |  346 |\n",
       "| ENSG00000142655 |   92 |  206 |  256 |  298 |  232 |  143 |  190 |  223 |\n",
       "| ENSG00000149527 |   68 |  159 |  194 |  231 |  214 |  201 |  127 |   92 |\n",
       "| ENSG00000171621 |   22 |   44 |   90 |  107 |   16 |   55 |   65 |   46 |\n",
       "| ENSG00000142583 |    0 |    0 |    0 |    0 |    0 |    7 |    0 |    0 |\n",
       "| ENSG00000173614 |   45 |  143 |  181 |   59 |  124 |  119 |   87 |   80 |\n",
       "| ENSG00000162592 |    0 |    9 |   18 |    0 |    0 |    0 |    0 |    0 |\n",
       "| ENSG00000204624 |  169 |  483 |  321 |  294 |  219 |  393 |  379 |  300 |\n",
       "| ENSG00000142606 |    5 |   19 |    2 |    5 |   12 |    3 |    6 |    2 |\n",
       "| ENSG00000171729 |   91 |   68 |   95 |   55 |   47 |   46 |   44 |   53 |\n",
       "| ENSG00000037637 |  309 |  470 |  421 |  396 |  367 |  618 |  367 |  494 |\n",
       "| ENSG00000159423 |   28 |  100 |  141 |   72 |  119 |  157 |   70 |  122 |\n",
       "| ENSG00000157916 |  567 | 1043 | 1216 | 1035 | 1409 | 1006 |  863 |  890 |\n",
       "| ENSG00000157881 |   79 |  188 |  123 |  218 |  146 |  195 |  107 |  170 |\n",
       "| ENSG00000048707 |  338 |  457 |  367 |  559 |  466 |  303 |  371 |  456 |\n",
       "| ENSG00000162444 |    1 |    5 |    0 |    0 |    0 |    0 |    0 |    0 |\n",
       "| ENSG00000180758 |   60 |   53 |   88 |   60 |   42 |   45 |  124 |   49 |\n",
       "| ENSG00000184677 |  105 |  243 |  267 |  201 |  200 |  210 |  132 |  160 |\n",
       "| ENSG00000131697 |   48 |  109 |  100 |   51 |  127 |  110 |   98 |  124 |\n",
       "| ENSG00000197921 |  920 | 1634 | 1041 | 1203 |  868 |  904 |  917 | 1226 |\n",
       "| ENSG00000055070 |  403 |  787 |  965 |  572 |  821 |  488 |  703 |  818 |\n",
       "| ENSG00000175087 |  138 |  272 |  231 |  317 |  293 |  225 |  208 |  195 |\n",
       "| ENSG00000162511 |    0 |    0 |    0 |    0 |    0 |    0 |    0 |    0 |\n",
       "| ENSG00000158014 |    7 |   13 |   57 |   55 |    2 |   13 |   23 |   13 |\n",
       "| ENSG00000204138 | 1068 | 2336 | 1762 | 1586 | 2107 | 1643 | 1307 | 2131 |\n",
       "| ENSG00000142675 |   17 |   40 |   11 |    0 |    4 |   11 |   13 |    4 |\n",
       "| ENSG00000197245 |   20 |    9 |    0 |   10 |    8 |    1 |   11 |   18 |\n",
       "| ENSG00000130772 |  143 |  271 |  315 |  191 |  207 |  243 |  173 |  198 |\n",
       "| ENSG00000090020 |   34 |   76 |   44 |  102 |  101 |   54 |   42 |   57 |\n",
       "| ⋮ | ⋮ | ⋮ | ⋮ | ⋮ | ⋮ | ⋮ | ⋮ | ⋮ |\n",
       "| ENSG00000198840 | 13390 | 26433 |  42228 | 27746 |  42433 | 25436 | 22811 |  32248 |\n",
       "| ENSG00000212907 |  4556 |  9264 |  14504 |  9082 |  15383 |  8958 |  7890 |  12141 |\n",
       "| ENSG00000198886 | 49464 | 97231 | 148158 | 94017 | 126958 | 88753 | 83981 | 107149 |\n",
       "| ENSG00000198786 | 13638 | 23455 |  38913 | 24897 |  33311 | 21926 | 21897 |  27576 |\n",
       "| ENSG00000198695 |  1061 |  1754 |   1538 |  1408 |   1653 |  1722 |  1696 |   1452 |\n",
       "| ENSG00000198727 |  8957 | 17689 |  28389 | 18844 |  26433 | 16801 | 14468 |  19537 |\n",
       "| ENSG00000274175 |     0 |     0 |      0 |     0 |      0 |     0 |     0 |      0 |\n",
       "| ENSG00000273554 |     0 |     0 |      0 |     0 |      0 |     0 |     0 |      0 |\n",
       "| ENSG00000275869 |     0 |     0 |      0 |     0 |      0 |     0 |     0 |      0 |\n",
       "| ENSG00000277836 |     0 |     0 |      0 |     0 |      0 |     0 |     0 |      0 |\n",
       "| ENSG00000275249 |     0 |     0 |      0 |     0 |      0 |     0 |     0 |      0 |\n",
       "| ENSG00000274792 |     0 |     0 |      0 |     0 |      0 |     0 |     0 |      0 |\n",
       "| ENSG00000276760 |     0 |     0 |      0 |     0 |      0 |     0 |     0 |      0 |\n",
       "| ENSG00000278704 |     0 |     0 |      0 |     0 |      0 |     0 |     0 |      0 |\n",
       "| ENSG00000277400 |     0 |     0 |      0 |     0 |      0 |     0 |     0 |      0 |\n",
       "| ENSG00000274847 |     0 |     0 |      0 |     0 |      0 |     0 |     0 |      0 |\n",
       "| ENSG00000276256 |    82 |    67 |     95 |   133 |     77 |    86 |    48 |     40 |\n",
       "| ENSG00000273748 |    34 |    92 |    219 |    95 |    130 |   127 |    98 |    250 |\n",
       "| ENSG00000277196 |     0 |     0 |      0 |     0 |      0 |     0 |     0 |      0 |\n",
       "| ENSG00000278817 |    61 |   160 |    137 |   143 |    122 |    66 |   144 |    101 |\n",
       "| ENSG00000276017 |     0 |     0 |      0 |     0 |      0 |     0 |     0 |      0 |\n",
       "| ENSG00000277630 |     0 |     0 |      0 |     0 |      0 |     0 |     0 |      0 |\n",
       "| ENSG00000278384 |     0 |     0 |      0 |     0 |      0 |     0 |     0 |      0 |\n",
       "| ENSG00000278633 |     0 |     0 |      0 |     0 |      0 |     0 |     0 |      0 |\n",
       "| ENSG00000276345 |     1 |     0 |      0 |     0 |      0 |     0 |     0 |      0 |\n",
       "| ENSG00000275063 |     0 |     0 |      0 |     0 |      0 |     0 |     0 |      0 |\n",
       "| ENSG00000277856 |     0 |     0 |      0 |     0 |      0 |     0 |     0 |      0 |\n",
       "| ENSG00000271254 |     2 |    43 |      6 |    10 |      0 |     5 |     0 |     10 |\n",
       "| ENSG00000268674 |     0 |     0 |      0 |     0 |      0 |     0 |     0 |      0 |\n",
       "| ENSG00000277475 |     0 |     0 |      0 |     0 |      0 |     0 |     0 |      0 |\n",
       "\n"
      ],
      "text/plain": [
       "                VL1   VL2   VL3    VL4   VL5    VL6   VL7   VL8   \n",
       "ENSG00000142611  362   678   397    488   622    578   342   466  \n",
       "ENSG00000157911  222   402   462    437   546    288   209   346  \n",
       "ENSG00000142655   92   206   256    298   232    143   190   223  \n",
       "ENSG00000149527   68   159   194    231   214    201   127    92  \n",
       "ENSG00000171621   22    44    90    107    16     55    65    46  \n",
       "ENSG00000142583    0     0     0      0     0      7     0     0  \n",
       "ENSG00000173614   45   143   181     59   124    119    87    80  \n",
       "ENSG00000162592    0     9    18      0     0      0     0     0  \n",
       "ENSG00000204624  169   483   321    294   219    393   379   300  \n",
       "ENSG00000142606    5    19     2      5    12      3     6     2  \n",
       "ENSG00000171729   91    68    95     55    47     46    44    53  \n",
       "ENSG00000037637  309   470   421    396   367    618   367   494  \n",
       "ENSG00000159423   28   100   141     72   119    157    70   122  \n",
       "ENSG00000157916  567  1043  1216   1035  1409   1006   863   890  \n",
       "ENSG00000157881   79   188   123    218   146    195   107   170  \n",
       "ENSG00000048707  338   457   367    559   466    303   371   456  \n",
       "ENSG00000162444    1     5     0      0     0      0     0     0  \n",
       "ENSG00000180758   60    53    88     60    42     45   124    49  \n",
       "ENSG00000184677  105   243   267    201   200    210   132   160  \n",
       "ENSG00000131697   48   109   100     51   127    110    98   124  \n",
       "ENSG00000197921  920  1634  1041   1203   868    904   917  1226  \n",
       "ENSG00000055070  403   787   965    572   821    488   703   818  \n",
       "ENSG00000175087  138   272   231    317   293    225   208   195  \n",
       "ENSG00000162511    0     0     0      0     0      0     0     0  \n",
       "ENSG00000158014    7    13    57     55     2     13    23    13  \n",
       "ENSG00000204138 1068  2336  1762   1586  2107   1643  1307  2131  \n",
       "ENSG00000142675   17    40    11      0     4     11    13     4  \n",
       "ENSG00000197245   20     9     0     10     8      1    11    18  \n",
       "ENSG00000130772  143   271   315    191   207    243   173   198  \n",
       "ENSG00000090020   34    76    44    102   101     54    42    57  \n",
       "⋮               ⋮     ⋮     ⋮      ⋮     ⋮      ⋮     ⋮     ⋮     \n",
       "ENSG00000198840 13390 26433  42228 27746  42433 25436 22811  32248\n",
       "ENSG00000212907  4556  9264  14504  9082  15383  8958  7890  12141\n",
       "ENSG00000198886 49464 97231 148158 94017 126958 88753 83981 107149\n",
       "ENSG00000198786 13638 23455  38913 24897  33311 21926 21897  27576\n",
       "ENSG00000198695  1061  1754   1538  1408   1653  1722  1696   1452\n",
       "ENSG00000198727  8957 17689  28389 18844  26433 16801 14468  19537\n",
       "ENSG00000274175     0     0      0     0      0     0     0      0\n",
       "ENSG00000273554     0     0      0     0      0     0     0      0\n",
       "ENSG00000275869     0     0      0     0      0     0     0      0\n",
       "ENSG00000277836     0     0      0     0      0     0     0      0\n",
       "ENSG00000275249     0     0      0     0      0     0     0      0\n",
       "ENSG00000274792     0     0      0     0      0     0     0      0\n",
       "ENSG00000276760     0     0      0     0      0     0     0      0\n",
       "ENSG00000278704     0     0      0     0      0     0     0      0\n",
       "ENSG00000277400     0     0      0     0      0     0     0      0\n",
       "ENSG00000274847     0     0      0     0      0     0     0      0\n",
       "ENSG00000276256    82    67     95   133     77    86    48     40\n",
       "ENSG00000273748    34    92    219    95    130   127    98    250\n",
       "ENSG00000277196     0     0      0     0      0     0     0      0\n",
       "ENSG00000278817    61   160    137   143    122    66   144    101\n",
       "ENSG00000276017     0     0      0     0      0     0     0      0\n",
       "ENSG00000277630     0     0      0     0      0     0     0      0\n",
       "ENSG00000278384     0     0      0     0      0     0     0      0\n",
       "ENSG00000278633     0     0      0     0      0     0     0      0\n",
       "ENSG00000276345     1     0      0     0      0     0     0      0\n",
       "ENSG00000275063     0     0      0     0      0     0     0      0\n",
       "ENSG00000277856     0     0      0     0      0     0     0      0\n",
       "ENSG00000271254     2    43      6    10      0     5     0     10\n",
       "ENSG00000268674     0     0      0     0      0     0     0      0\n",
       "ENSG00000277475     0     0      0     0      0     0     0      0"
      ]
     },
     "metadata": {},
     "output_type": "display_data"
    }
   ],
   "source": [
    "bpccounts = bpccounts[,rownames(bsamples)]\n",
    "bpccounts"
   ]
  },
  {
   "cell_type": "code",
   "execution_count": 5,
   "id": "47fdc284-0f26-414a-b2af-affbf30120fc",
   "metadata": {},
   "outputs": [
    {
     "name": "stderr",
     "output_type": "stream",
     "text": [
      "Warning message in DESeqDataSet(se, design = design, ignoreRank):\n",
      "“some variables in design formula are characters, converting to factors”\n"
     ]
    },
    {
     "data": {
      "text/plain": [
       "class: DESeqDataSet \n",
       "dim: 20070 8 \n",
       "metadata(1): version\n",
       "assays(1): counts\n",
       "rownames(20070): ENSG00000142611 ENSG00000157911 ... ENSG00000268674\n",
       "  ENSG00000277475\n",
       "rowData names(0):\n",
       "colnames(8): MLB2_brain_4d_VL1 MLB2_brain_4d_VL2 ... Mock_brain_4d_VL7\n",
       "  Mock_brain_4d_VL8\n",
       "colData names(6): condition replicate ... name tissue"
      ]
     },
     "metadata": {},
     "output_type": "display_data"
    }
   ],
   "source": [
    "rownames(bsamples) = colnames(bpccounts) = bsamples$name\n",
    "deseq = DESeqDataSetFromMatrix(countData = bpccounts,\n",
    "                              colData = bsamples,\n",
    "                               design = ~ condition)\n",
    "deseq"
   ]
  },
  {
   "cell_type": "code",
   "execution_count": 6,
   "id": "e40135af-3cdf-42a9-8b30-286f87537ce1",
   "metadata": {},
   "outputs": [
    {
     "data": {
      "text/plain": [
       "\n",
       "FALSE  TRUE \n",
       " 4965 15105 "
      ]
     },
     "metadata": {},
     "output_type": "display_data"
    },
    {
     "data": {
      "image/png": "[encoded data removed]",
      "text/plain": [
       "Plot with title “Histogram of (log10(total + 1))”"
      ]
     },
     "metadata": {
      "image/png": {
       "height": 420,
       "width": 420
      }
     },
     "output_type": "display_data"
    }
   ],
   "source": [
    "# filter genes by total read counts (true if >10 reads)\n",
    "options(repr.plot.width = 7, repr.plot.height = 7, repr.plot.res = 120)\n",
    "total = rowSums(counts(deseq))\n",
    "hist((log10(total + 1)),100)\n",
    "table(total>=10)"
   ]
  },
  {
   "cell_type": "code",
   "execution_count": 7,
   "id": "44265b9a-e6b7-4bad-b861-5272d7b78a2a",
   "metadata": {},
   "outputs": [
    {
     "data": {
      "text/html": [
       "<table class=\"dataframe\">\n",
       "<caption>A matrix: 10 × 8 of type lgl</caption>\n",
       "<thead>\n",
       "\t<tr><th></th><th scope=col>MLB2_brain_4d_VL1</th><th scope=col>MLB2_brain_4d_VL2</th><th scope=col>VA1_brain_4d_VL3</th><th scope=col>VA1_brain_4d_VL4</th><th scope=col>HAstV4_brain_4d_VL5</th><th scope=col>HAstV4_brain_4d_VL6</th><th scope=col>Mock_brain_4d_VL7</th><th scope=col>Mock_brain_4d_VL8</th></tr>\n",
       "</thead>\n",
       "<tbody>\n",
       "\t<tr><th scope=row>ENSG00000142611</th><td> TRUE</td><td> TRUE</td><td> TRUE</td><td> TRUE</td><td> TRUE</td><td> TRUE</td><td> TRUE</td><td> TRUE</td></tr>\n",
       "\t<tr><th scope=row>ENSG00000157911</th><td> TRUE</td><td> TRUE</td><td> TRUE</td><td> TRUE</td><td> TRUE</td><td> TRUE</td><td> TRUE</td><td> TRUE</td></tr>\n",
       "\t<tr><th scope=row>ENSG00000142655</th><td> TRUE</td><td> TRUE</td><td> TRUE</td><td> TRUE</td><td> TRUE</td><td> TRUE</td><td> TRUE</td><td> TRUE</td></tr>\n",
       "\t<tr><th scope=row>ENSG00000149527</th><td> TRUE</td><td> TRUE</td><td> TRUE</td><td> TRUE</td><td> TRUE</td><td> TRUE</td><td> TRUE</td><td> TRUE</td></tr>\n",
       "\t<tr><th scope=row>ENSG00000171621</th><td> TRUE</td><td> TRUE</td><td> TRUE</td><td> TRUE</td><td> TRUE</td><td> TRUE</td><td> TRUE</td><td> TRUE</td></tr>\n",
       "\t<tr><th scope=row>ENSG00000142583</th><td>FALSE</td><td>FALSE</td><td>FALSE</td><td>FALSE</td><td>FALSE</td><td>FALSE</td><td>FALSE</td><td>FALSE</td></tr>\n",
       "\t<tr><th scope=row>ENSG00000173614</th><td> TRUE</td><td> TRUE</td><td> TRUE</td><td> TRUE</td><td> TRUE</td><td> TRUE</td><td> TRUE</td><td> TRUE</td></tr>\n",
       "\t<tr><th scope=row>ENSG00000162592</th><td>FALSE</td><td>FALSE</td><td> TRUE</td><td>FALSE</td><td>FALSE</td><td>FALSE</td><td>FALSE</td><td>FALSE</td></tr>\n",
       "\t<tr><th scope=row>ENSG00000204624</th><td> TRUE</td><td> TRUE</td><td> TRUE</td><td> TRUE</td><td> TRUE</td><td> TRUE</td><td> TRUE</td><td> TRUE</td></tr>\n",
       "\t<tr><th scope=row>ENSG00000142606</th><td>FALSE</td><td> TRUE</td><td>FALSE</td><td>FALSE</td><td> TRUE</td><td>FALSE</td><td>FALSE</td><td>FALSE</td></tr>\n",
       "</tbody>\n",
       "</table>\n"
      ],
      "text/latex": [
       "A matrix: 10 × 8 of type lgl\n",
       "\\begin{tabular}{r|llllllll}\n",
       "  & MLB2\\_brain\\_4d\\_VL1 & MLB2\\_brain\\_4d\\_VL2 & VA1\\_brain\\_4d\\_VL3 & VA1\\_brain\\_4d\\_VL4 & HAstV4\\_brain\\_4d\\_VL5 & HAstV4\\_brain\\_4d\\_VL6 & Mock\\_brain\\_4d\\_VL7 & Mock\\_brain\\_4d\\_VL8\\\\\n",
       "\\hline\n",
       "\tENSG00000142611 &  TRUE &  TRUE &  TRUE &  TRUE &  TRUE &  TRUE &  TRUE &  TRUE\\\\\n",
       "\tENSG00000157911 &  TRUE &  TRUE &  TRUE &  TRUE &  TRUE &  TRUE &  TRUE &  TRUE\\\\\n",
       "\tENSG00000142655 &  TRUE &  TRUE &  TRUE &  TRUE &  TRUE &  TRUE &  TRUE &  TRUE\\\\\n",
       "\tENSG00000149527 &  TRUE &  TRUE &  TRUE &  TRUE &  TRUE &  TRUE &  TRUE &  TRUE\\\\\n",
       "\tENSG00000171621 &  TRUE &  TRUE &  TRUE &  TRUE &  TRUE &  TRUE &  TRUE &  TRUE\\\\\n",
       "\tENSG00000142583 & FALSE & FALSE & FALSE & FALSE & FALSE & FALSE & FALSE & FALSE\\\\\n",
       "\tENSG00000173614 &  TRUE &  TRUE &  TRUE &  TRUE &  TRUE &  TRUE &  TRUE &  TRUE\\\\\n",
       "\tENSG00000162592 & FALSE & FALSE &  TRUE & FALSE & FALSE & FALSE & FALSE & FALSE\\\\\n",
       "\tENSG00000204624 &  TRUE &  TRUE &  TRUE &  TRUE &  TRUE &  TRUE &  TRUE &  TRUE\\\\\n",
       "\tENSG00000142606 & FALSE &  TRUE & FALSE & FALSE &  TRUE & FALSE & FALSE & FALSE\\\\\n",
       "\\end{tabular}\n"
      ],
      "text/markdown": [
       "\n",
       "A matrix: 10 × 8 of type lgl\n",
       "\n",
       "| <!--/--> | MLB2_brain_4d_VL1 | MLB2_brain_4d_VL2 | VA1_brain_4d_VL3 | VA1_brain_4d_VL4 | HAstV4_brain_4d_VL5 | HAstV4_brain_4d_VL6 | Mock_brain_4d_VL7 | Mock_brain_4d_VL8 |\n",
       "|---|---|---|---|---|---|---|---|---|\n",
       "| ENSG00000142611 |  TRUE |  TRUE |  TRUE |  TRUE |  TRUE |  TRUE |  TRUE |  TRUE |\n",
       "| ENSG00000157911 |  TRUE |  TRUE |  TRUE |  TRUE |  TRUE |  TRUE |  TRUE |  TRUE |\n",
       "| ENSG00000142655 |  TRUE |  TRUE |  TRUE |  TRUE |  TRUE |  TRUE |  TRUE |  TRUE |\n",
       "| ENSG00000149527 |  TRUE |  TRUE |  TRUE |  TRUE |  TRUE |  TRUE |  TRUE |  TRUE |\n",
       "| ENSG00000171621 |  TRUE |  TRUE |  TRUE |  TRUE |  TRUE |  TRUE |  TRUE |  TRUE |\n",
       "| ENSG00000142583 | FALSE | FALSE | FALSE | FALSE | FALSE | FALSE | FALSE | FALSE |\n",
       "| ENSG00000173614 |  TRUE |  TRUE |  TRUE |  TRUE |  TRUE |  TRUE |  TRUE |  TRUE |\n",
       "| ENSG00000162592 | FALSE | FALSE |  TRUE | FALSE | FALSE | FALSE | FALSE | FALSE |\n",
       "| ENSG00000204624 |  TRUE |  TRUE |  TRUE |  TRUE |  TRUE |  TRUE |  TRUE |  TRUE |\n",
       "| ENSG00000142606 | FALSE |  TRUE | FALSE | FALSE |  TRUE | FALSE | FALSE | FALSE |\n",
       "\n"
      ],
      "text/plain": [
       "                MLB2_brain_4d_VL1 MLB2_brain_4d_VL2 VA1_brain_4d_VL3\n",
       "ENSG00000142611  TRUE              TRUE              TRUE           \n",
       "ENSG00000157911  TRUE              TRUE              TRUE           \n",
       "ENSG00000142655  TRUE              TRUE              TRUE           \n",
       "ENSG00000149527  TRUE              TRUE              TRUE           \n",
       "ENSG00000171621  TRUE              TRUE              TRUE           \n",
       "ENSG00000142583 FALSE             FALSE             FALSE           \n",
       "ENSG00000173614  TRUE              TRUE              TRUE           \n",
       "ENSG00000162592 FALSE             FALSE              TRUE           \n",
       "ENSG00000204624  TRUE              TRUE              TRUE           \n",
       "ENSG00000142606 FALSE              TRUE             FALSE           \n",
       "                VA1_brain_4d_VL4 HAstV4_brain_4d_VL5 HAstV4_brain_4d_VL6\n",
       "ENSG00000142611  TRUE             TRUE                TRUE              \n",
       "ENSG00000157911  TRUE             TRUE                TRUE              \n",
       "ENSG00000142655  TRUE             TRUE                TRUE              \n",
       "ENSG00000149527  TRUE             TRUE                TRUE              \n",
       "ENSG00000171621  TRUE             TRUE                TRUE              \n",
       "ENSG00000142583 FALSE            FALSE               FALSE              \n",
       "ENSG00000173614  TRUE             TRUE                TRUE              \n",
       "ENSG00000162592 FALSE            FALSE               FALSE              \n",
       "ENSG00000204624  TRUE             TRUE                TRUE              \n",
       "ENSG00000142606 FALSE             TRUE               FALSE              \n",
       "                Mock_brain_4d_VL7 Mock_brain_4d_VL8\n",
       "ENSG00000142611  TRUE              TRUE            \n",
       "ENSG00000157911  TRUE              TRUE            \n",
       "ENSG00000142655  TRUE              TRUE            \n",
       "ENSG00000149527  TRUE              TRUE            \n",
       "ENSG00000171621  TRUE              TRUE            \n",
       "ENSG00000142583 FALSE             FALSE            \n",
       "ENSG00000173614  TRUE              TRUE            \n",
       "ENSG00000162592 FALSE             FALSE            \n",
       "ENSG00000204624  TRUE              TRUE            \n",
       "ENSG00000142606 FALSE             FALSE            "
      ]
     },
     "metadata": {},
     "output_type": "display_data"
    }
   ],
   "source": [
    "counts(deseq)[1:10,]>=10"
   ]
  },
  {
   "cell_type": "code",
   "execution_count": 8,
   "id": "297e2955-5a40-404e-9b59-615387c176f2",
   "metadata": {},
   "outputs": [
    {
     "data": {
      "text/plain": [
       "nbsamples10\n",
       "    0     1     2     3     4     5     6     7     8 \n",
       " 5325   952   459   347   320   304   317   488 11558 "
      ]
     },
     "metadata": {},
     "output_type": "display_data"
    }
   ],
   "source": [
    "# filter genes (Counting the number of samples where each gene has ≥10 reads (e.g., 459 genes have ≥10 reads in two samples))\n",
    "nbsamples10 = rowSums(counts(deseq)>=10)\n",
    "table(nbsamples10)"
   ]
  },
  {
   "cell_type": "code",
   "execution_count": 9,
   "id": "f86c6e40-0da8-460b-97f6-d624850b4e49",
   "metadata": {},
   "outputs": [
    {
     "data": {
      "text/plain": [
       "class: DESeqDataSet \n",
       "dim: 13793 8 \n",
       "metadata(1): version\n",
       "assays(1): counts\n",
       "rownames(13793): ENSG00000142611 ENSG00000157911 ... ENSG00000278817\n",
       "  ENSG00000271254\n",
       "rowData names(0):\n",
       "colnames(8): MLB2_brain_4d_VL1 MLB2_brain_4d_VL2 ... Mock_brain_4d_VL7\n",
       "  Mock_brain_4d_VL8\n",
       "colData names(6): condition replicate ... name tissue"
      ]
     },
     "metadata": {},
     "output_type": "display_data"
    }
   ],
   "source": [
    "# remove genes with less than 10 reads in total in at least 2 samples.\n",
    "#deseq = deseq[total>=10,]\n",
    "deseq = deseq[nbsamples10>=2,]\n",
    "deseq"
   ]
  },
  {
   "cell_type": "code",
   "execution_count": 10,
   "id": "f4e83ae9-be89-4af6-b35b-a106ffbc5e8c",
   "metadata": {},
   "outputs": [],
   "source": [
    "#pre-filtering\n",
    "smallestGroupSize <- 3\n",
    "keep <- rowSums(counts(deseq) >= 10) >= smallestGroupSize\n",
    "deseq <- deseq[keep,]"
   ]
  },
  {
   "cell_type": "code",
   "execution_count": 11,
   "id": "4891764c-4f45-4703-8922-fa3ae9f6a266",
   "metadata": {},
   "outputs": [
    {
     "data": {
      "text/html": [
       "<style>\n",
       ".list-inline {list-style: none; margin:0; padding: 0}\n",
       ".list-inline>li {display: inline-block}\n",
       ".list-inline>li:not(:last-child)::after {content: \"\\00b7\"; padding: 0 .5ex}\n",
       "</style>\n",
       "<ol class=list-inline><li>13334</li><li>8</li></ol>\n"
      ],
      "text/latex": [
       "\\begin{enumerate*}\n",
       "\\item 13334\n",
       "\\item 8\n",
       "\\end{enumerate*}\n"
      ],
      "text/markdown": [
       "1. 13334\n",
       "2. 8\n",
       "\n",
       "\n"
      ],
      "text/plain": [
       "[1] 13334     8"
      ]
     },
     "metadata": {},
     "output_type": "display_data"
    }
   ],
   "source": [
    "dim(deseq)\n"
   ]
  },
  {
   "cell_type": "code",
   "execution_count": 13,
   "id": "784482bf-9fa2-4875-80ae-37f5b17fbc6d",
   "metadata": {},
   "outputs": [
    {
     "data": {
      "text/html": [
       "<style>\n",
       ".list-inline {list-style: none; margin:0; padding: 0}\n",
       ".list-inline>li {display: inline-block}\n",
       ".list-inline>li:not(:last-child)::after {content: \"\\00b7\"; padding: 0 .5ex}\n",
       "</style>\n",
       "<ol class=list-inline><li>'HAstV4'</li><li>'MLB2'</li><li>'Mock'</li><li>'VA1'</li></ol>\n"
      ],
      "text/latex": [
       "\\begin{enumerate*}\n",
       "\\item 'HAstV4'\n",
       "\\item 'MLB2'\n",
       "\\item 'Mock'\n",
       "\\item 'VA1'\n",
       "\\end{enumerate*}\n"
      ],
      "text/markdown": [
       "1. 'HAstV4'\n",
       "2. 'MLB2'\n",
       "3. 'Mock'\n",
       "4. 'VA1'\n",
       "\n",
       "\n"
      ],
      "text/plain": [
       "[1] \"HAstV4\" \"MLB2\"   \"Mock\"   \"VA1\"   "
      ]
     },
     "metadata": {},
     "output_type": "display_data"
    }
   ],
   "source": [
    "levels(deseq$condition)"
   ]
  },
  {
   "cell_type": "code",
   "execution_count": 15,
   "id": "f1ace7a0-85d8-421c-80dd-ce13741c0c19",
   "metadata": {},
   "outputs": [],
   "source": [
    "#Note on factor levels - specifying the reference level as Mock\n",
    "deseq$condition <- relevel(deseq$condition, ref = \"Mock\")"
   ]
  },
  {
   "cell_type": "code",
   "execution_count": 22,
   "id": "2a11541a-4fd1-4c30-aed1-3978e795c022",
   "metadata": {},
   "outputs": [
    {
     "name": "stderr",
     "output_type": "stream",
     "text": [
      "using pre-existing size factors\n",
      "\n",
      "estimating dispersions\n",
      "\n",
      "found already estimated dispersions, replacing these\n",
      "\n",
      "gene-wise dispersion estimates\n",
      "\n",
      "mean-dispersion relationship\n",
      "\n",
      "final dispersion estimates\n",
      "\n",
      "fitting model and testing\n",
      "\n"
     ]
    },
    {
     "data": {
      "text/plain": [
       "log2 fold change (MLE): condition VA1 vs Mock \n",
       "Wald test p-value: condition VA1 vs Mock \n",
       "DataFrame with 13334 rows and 6 columns\n",
       "                   baseMean log2FoldChange     lfcSE       stat    pvalue\n",
       "                  <numeric>      <numeric> <numeric>  <numeric> <numeric>\n",
       "ENSG00000142611    482.1434     -0.0677873  0.259653  -0.261069 0.7940394\n",
       "ENSG00000157911    349.5208      0.4947761  0.320647   1.543053 0.1228178\n",
       "ENSG00000142655    196.7115      0.2172159  0.364955   0.595185 0.5517198\n",
       "ENSG00000149527    153.7660      0.7330622  0.420251   1.744344 0.0810991\n",
       "ENSG00000171621     53.8773      0.6027595  0.745651   0.808367 0.4188794\n",
       "...                     ...            ...       ...        ...       ...\n",
       "ENSG00000198727 18042.62927      0.2527119  0.167124  1.5121255 0.1305019\n",
       "ENSG00000276256    78.84019      1.1610610  0.607987  1.9096798 0.0561745\n",
       "ENSG00000273748   123.86313     -0.3605661  0.537511 -0.6708069 0.5023436\n",
       "ENSG00000278817   112.81590     -0.0373715  0.491779 -0.0759925 0.9394251\n",
       "ENSG00000271254     8.53232      0.5540303  2.060174  0.2689241 0.7879881\n",
       "                     padj\n",
       "                <numeric>\n",
       "ENSG00000142611  0.999865\n",
       "ENSG00000157911  0.999865\n",
       "ENSG00000142655  0.999865\n",
       "ENSG00000149527  0.999865\n",
       "ENSG00000171621  0.999865\n",
       "...                   ...\n",
       "ENSG00000198727  0.999865\n",
       "ENSG00000276256  0.999865\n",
       "ENSG00000273748  0.999865\n",
       "ENSG00000278817  0.999865\n",
       "ENSG00000271254  0.999865"
      ]
     },
     "metadata": {},
     "output_type": "display_data"
    }
   ],
   "source": [
    "# Run DESeq analysis\n",
    "deseq <- DESeq(deseq)\n",
    "# This will give you the results comparing each condition to \"Mock\" (due to relevel)\n",
    "res <- results(deseq)\n",
    "res"
   ]
  },
  {
   "cell_type": "code",
   "execution_count": 17,
   "id": "a30e24fa-72cf-4fe0-8f2a-b2d12d6c81df",
   "metadata": {},
   "outputs": [
    {
     "data": {
      "text/html": [
       "<style>\n",
       ".list-inline {list-style: none; margin:0; padding: 0}\n",
       ".list-inline>li {display: inline-block}\n",
       ".list-inline>li:not(:last-child)::after {content: \"\\00b7\"; padding: 0 .5ex}\n",
       "</style>\n",
       "<ol class=list-inline><li>'Mock'</li><li>'HAstV4'</li><li>'MLB2'</li><li>'VA1'</li></ol>\n"
      ],
      "text/latex": [
       "\\begin{enumerate*}\n",
       "\\item 'Mock'\n",
       "\\item 'HAstV4'\n",
       "\\item 'MLB2'\n",
       "\\item 'VA1'\n",
       "\\end{enumerate*}\n"
      ],
      "text/markdown": [
       "1. 'Mock'\n",
       "2. 'HAstV4'\n",
       "3. 'MLB2'\n",
       "4. 'VA1'\n",
       "\n",
       "\n"
      ],
      "text/plain": [
       "[1] \"Mock\"   \"HAstV4\" \"MLB2\"   \"VA1\"   "
      ]
     },
     "metadata": {},
     "output_type": "display_data"
    }
   ],
   "source": [
    "levels(deseq$condition)"
   ]
  },
  {
   "cell_type": "code",
   "execution_count": 21,
   "id": "ee6848a0-608a-4f8b-a460-8268c281efd9",
   "metadata": {},
   "outputs": [
    {
     "data": {
      "text/plain": [
       "DataFrame with 8 rows and 7 columns\n",
       "                    condition replicate organoid_stage          id\n",
       "                     <factor> <integer>    <character> <character>\n",
       "MLB2_brain_4d_VL1      MLB2           1             4d         VL1\n",
       "MLB2_brain_4d_VL2      MLB2           2             4d         VL2\n",
       "VA1_brain_4d_VL3       VA1            1             4d         VL3\n",
       "VA1_brain_4d_VL4       VA1            2             4d         VL4\n",
       "HAstV4_brain_4d_VL5    HAstV4         1             4d         VL5\n",
       "HAstV4_brain_4d_VL6    HAstV4         2             4d         VL6\n",
       "Mock_brain_4d_VL7      Mock           1             4d         VL7\n",
       "Mock_brain_4d_VL8      Mock           2             4d         VL8\n",
       "                                   name      tissue sizeFactor\n",
       "                            <character> <character>  <numeric>\n",
       "MLB2_brain_4d_VL1     MLB2_brain_4d_VL1       brain   0.644985\n",
       "MLB2_brain_4d_VL2     MLB2_brain_4d_VL2       brain   1.193597\n",
       "VA1_brain_4d_VL3       VA1_brain_4d_VL3       brain   1.192063\n",
       "VA1_brain_4d_VL4       VA1_brain_4d_VL4       brain   1.072428\n",
       "HAstV4_brain_4d_VL5 HAstV4_brain_4d_VL5       brain   1.174468\n",
       "HAstV4_brain_4d_VL6 HAstV4_brain_4d_VL6       brain   0.988010\n",
       "Mock_brain_4d_VL7     Mock_brain_4d_VL7       brain   0.918083\n",
       "Mock_brain_4d_VL8     Mock_brain_4d_VL8       brain   1.029486"
      ]
     },
     "metadata": {},
     "output_type": "display_data"
    }
   ],
   "source": [
    "colData(deseq)"
   ]
  },
  {
   "cell_type": "code",
   "execution_count": 23,
   "id": "0007b560-2eb4-44d4-973c-b25a8574ef45",
   "metadata": {},
   "outputs": [],
   "source": [
    "#We can order our results table by the smallest p value\n",
    "resOrdered <- res[order(res$pvalue),]"
   ]
  },
  {
   "cell_type": "code",
   "execution_count": 24,
   "id": "55a2768a-4d6f-4e4e-87ce-f8681265534a",
   "metadata": {},
   "outputs": [
    {
     "name": "stdout",
     "output_type": "stream",
     "text": [
      "\n",
      "out of 13334 with nonzero total read count\n",
      "adjusted p-value < 0.1\n",
      "LFC > 0 (up)       : 0, 0%\n",
      "LFC < 0 (down)     : 0, 0%\n",
      "outliers [1]       : 0, 0%\n",
      "low counts [2]     : 0, 0%\n",
      "(mean count < 4)\n",
      "[1] see 'cooksCutoff' argument of ?results\n",
      "[2] see 'independentFiltering' argument of ?results\n",
      "\n"
     ]
    }
   ],
   "source": [
    "summary(res)"
   ]
  },
  {
   "cell_type": "code",
   "execution_count": 25,
   "id": "0bde7c64-22e9-42f8-a669-64576daf9fb1",
   "metadata": {},
   "outputs": [
    {
     "data": {
      "text/html": [
       "0"
      ],
      "text/latex": [
       "0"
      ],
      "text/markdown": [
       "0"
      ],
      "text/plain": [
       "[1] 0"
      ]
     },
     "metadata": {},
     "output_type": "display_data"
    }
   ],
   "source": [
    "sum(res$padj < 0.1, na.rm=TRUE)"
   ]
  },
  {
   "cell_type": "code",
   "execution_count": 26,
   "id": "f2a00cf5-68a0-45c2-ad8c-b423cb0ffdf4",
   "metadata": {},
   "outputs": [
    {
     "data": {
      "text/plain": [
       "log2 fold change (MLE): condition VA1 vs Mock \n",
       "Wald test p-value: condition VA1 vs Mock \n",
       "DataFrame with 6 rows and 6 columns\n",
       "                 baseMean log2FoldChange     lfcSE      stat    pvalue\n",
       "                <numeric>      <numeric> <numeric> <numeric> <numeric>\n",
       "ENSG00000142611  482.1434     -0.0677873  0.259653 -0.261069 0.7940394\n",
       "ENSG00000157911  349.5208      0.4947761  0.320647  1.543053 0.1228178\n",
       "ENSG00000142655  196.7115      0.2172159  0.364955  0.595185 0.5517198\n",
       "ENSG00000149527  153.7660      0.7330622  0.420251  1.744344 0.0810991\n",
       "ENSG00000171621   53.8773      0.6027595  0.745651  0.808367 0.4188794\n",
       "ENSG00000173614   99.3654      0.2647750  0.577515  0.458473 0.6466129\n",
       "                     padj\n",
       "                <numeric>\n",
       "ENSG00000142611  0.999865\n",
       "ENSG00000157911  0.999865\n",
       "ENSG00000142655  0.999865\n",
       "ENSG00000149527  0.999865\n",
       "ENSG00000171621  0.999865\n",
       "ENSG00000173614  0.999865"
      ]
     },
     "metadata": {},
     "output_type": "display_data"
    }
   ],
   "source": [
    "head(res)\n"
   ]
  },
  {
   "cell_type": "code",
   "execution_count": 27,
   "id": "5d79ba96-c387-4f5a-a150-51801819beb7",
   "metadata": {},
   "outputs": [
    {
     "data": {
      "text/plain": [
       "log2 fold change (MLE): condition VA1 vs Mock \n",
       "Wald test p-value: condition VA1 vs Mock \n",
       "DataFrame with 20 rows and 6 columns\n",
       "                 baseMean log2FoldChange     lfcSE      stat      pvalue\n",
       "                <numeric>      <numeric> <numeric> <numeric>   <numeric>\n",
       "ENSG00000198633  18.62087       -7.43103   1.99511  -3.72462 0.000195609\n",
       "ENSG00000128655  18.20223        7.33755   1.88079   3.90131 0.000095675\n",
       "ENSG00000101282  12.88081        7.20366   2.21381   3.25397 0.001138060\n",
       "ENSG00000124253   9.10517       -7.10325   4.78971  -1.48302 0.138067911\n",
       "ENSG00000151224  13.60206        7.08187   4.37896   1.61725 0.105824398\n",
       "...                   ...            ...       ...       ...         ...\n",
       "ENSG00000183508   7.28961        6.49483   2.46362   2.63630  0.00838152\n",
       "ENSG00000158125   8.74603        6.40186   2.31736   2.76257  0.00573481\n",
       "ENSG00000145945   9.22228        6.39652   2.14155   2.98686  0.00281860\n",
       "ENSG00000198624   9.09882        6.37191   2.24816   2.83427  0.00459300\n",
       "ENSG00000064787  10.29664       -6.36887   2.05278  -3.10256  0.00191853\n",
       "                     padj\n",
       "                <numeric>\n",
       "ENSG00000198633  0.434707\n",
       "ENSG00000128655  0.361032\n",
       "ENSG00000101282  0.689768\n",
       "ENSG00000124253  0.999865\n",
       "ENSG00000151224  0.999865\n",
       "...                   ...\n",
       "ENSG00000183508  0.999865\n",
       "ENSG00000158125  0.999865\n",
       "ENSG00000145945  0.963672\n",
       "ENSG00000198624  0.999865\n",
       "ENSG00000064787  0.844977"
      ]
     },
     "metadata": {},
     "output_type": "display_data"
    }
   ],
   "source": [
    "#Если p-value слишком высокие, попробуйте сортировать по log2 Fold Change, чтобы увидеть, какие гены имеют наибольшие изменения экспрессии. вывод первых 20 генов.\n",
    "resOrderedLFC <- res[order(abs(res$log2FoldChange), decreasing = TRUE), ]\n",
    "head(resOrderedLFC, 20)"
   ]
  },
  {
   "cell_type": "code",
   "execution_count": 28,
   "id": "88b2567f-22f9-4da1-84b5-f5407c5fe220",
   "metadata": {},
   "outputs": [],
   "source": [
    "#записать в таблицу гены, сортированные по log2 Fold Change, чтобы увидеть, какие гены имеют наибольшие изменения экспрессии\n",
    "write.table(resOrdered, file = \"results_deseq_relevelMock_sortedLFC.tsv\", sep = \"\\t\", quote = FALSE, row.names = TRUE)\n"
   ]
  },
  {
   "cell_type": "code",
   "execution_count": 29,
   "id": "54ec70e7-3320-455a-b7be-fc9dfe388a64",
   "metadata": {},
   "outputs": [
    {
     "data": {
      "text/plain": [
       "log2 fold change (MLE): condition VA1 vs Mock \n",
       "Wald test p-value: condition VA1 vs Mock \n",
       "DataFrame with 20 rows and 6 columns\n",
       "                 baseMean log2FoldChange     lfcSE      stat      pvalue\n",
       "                <numeric>      <numeric> <numeric> <numeric>   <numeric>\n",
       "ENSG00000117707   71.7438        2.73574  0.612403   4.46723 7.92402e-06\n",
       "ENSG00000128655   18.2022        7.33755  1.880793   3.90131 9.56750e-05\n",
       "ENSG00000128610  143.9691        2.67462  0.689389   3.87970 1.04584e-04\n",
       "ENSG00000006534   36.8968        3.87020  1.003771   3.85566 1.15416e-04\n",
       "ENSG00000134996   22.0190        6.75609  1.770251   3.81646 1.35380e-04\n",
       "...                   ...            ...       ...       ...         ...\n",
       "ENSG00000120549   56.6318       3.108708  0.930771   3.33993 0.000837998\n",
       "ENSG00000143321 2882.9190      -0.522209  0.157833  -3.30863 0.000937540\n",
       "ENSG00000187634   53.4298      -2.302776  0.696111  -3.30806 0.000939458\n",
       "ENSG00000013810  762.5236      -0.690170  0.210866  -3.27302 0.001064042\n",
       "ENSG00000137561   14.9366      -7.030606  2.151040  -3.26847 0.001081313\n",
       "                     padj\n",
       "                <numeric>\n",
       "ENSG00000117707  0.105659\n",
       "ENSG00000128655  0.361032\n",
       "ENSG00000128610  0.361032\n",
       "ENSG00000006534  0.361032\n",
       "ENSG00000134996  0.361032\n",
       "...                   ...\n",
       "ENSG00000120549  0.689768\n",
       "ENSG00000143321  0.689768\n",
       "ENSG00000187634  0.689768\n",
       "ENSG00000013810  0.689768\n",
       "ENSG00000137561  0.689768"
      ]
     },
     "metadata": {},
     "output_type": "display_data"
    }
   ],
   "source": [
    "#Даже если у вас нет значимых p-value (< 0.05 или < 0.1), вы все равно можете отсортировать таблицу результатов по самому маленькому p-value, чтобы посмотреть, какие гены показывают хотя бы какие-то различия.\n",
    "resOrdered <- res[order(res$pvalue, na.last = NA), ]  # na.last=NA убирает NA\n",
    "head(resOrdered, 20) "
   ]
  },
  {
   "cell_type": "code",
   "execution_count": 30,
   "id": "05ee51d0-0c1c-4db5-8a2b-38876e7927b6",
   "metadata": {},
   "outputs": [
    {
     "data": {
      "text/html": [
       "0"
      ],
      "text/latex": [
       "0"
      ],
      "text/markdown": [
       "0"
      ],
      "text/plain": [
       "[1] 0"
      ]
     },
     "metadata": {},
     "output_type": "display_data"
    }
   ],
   "source": [
    "#How many adjusted p-values were less than 0.1?\n",
    "sum(res$padj < 0.1, na.rm=TRUE)"
   ]
  },
  {
   "cell_type": "code",
   "execution_count": 31,
   "id": "db31660a-66f1-4284-ab20-8b2b8dd0c314",
   "metadata": {},
   "outputs": [
    {
     "name": "stdout",
     "output_type": "stream",
     "text": [
      "\n",
      "out of 13334 with nonzero total read count\n",
      "adjusted p-value < 0.05\n",
      "LFC > 0 (up)       : 0, 0%\n",
      "LFC < 0 (down)     : 0, 0%\n",
      "outliers [1]       : 0, 0%\n",
      "low counts [2]     : 0, 0%\n",
      "(mean count < 4)\n",
      "[1] see 'cooksCutoff' argument of ?results\n",
      "[2] see 'independentFiltering' argument of ?results\n",
      "\n"
     ]
    }
   ],
   "source": [
    "res05 <- results(deseq, alpha=0.05)\n",
    "summary(res05)"
   ]
  },
  {
   "cell_type": "code",
   "execution_count": 32,
   "id": "010711b6-e8b0-46e9-94fe-04150f703f1b",
   "metadata": {},
   "outputs": [
    {
     "data": {
      "text/html": [
       "0"
      ],
      "text/latex": [
       "0"
      ],
      "text/markdown": [
       "0"
      ],
      "text/plain": [
       "[1] 0"
      ]
     },
     "metadata": {},
     "output_type": "display_data"
    }
   ],
   "source": [
    "sum(res05$padj < 0.05, na.rm=TRUE)\n",
    "\n"
   ]
  },
  {
   "cell_type": "code",
   "execution_count": 34,
   "id": "e71a75fb-a714-4a16-b066-4e62525271ab",
   "metadata": {},
   "outputs": [
    {
     "name": "stderr",
     "output_type": "stream",
     "text": [
      "Updating HTML index of packages in '.Library'\n",
      "\n",
      "Making 'packages.html' ...\n",
      " done\n",
      "\n",
      "'getOption(\"repos\")' replaces Bioconductor standard repositories, see\n",
      "'help(\"repositories\", package = \"BiocManager\")' for details.\n",
      "Replacement repositories:\n",
      "    CRAN: https://cran.r-project.org\n",
      "\n",
      "Bioconductor version 3.20 (BiocManager 1.30.25), R 4.4.2 (2024-10-31)\n",
      "\n",
      "Installing package(s) 'IHW'\n",
      "\n",
      "also installing the dependencies ‘slam’, ‘lpsymphony’, ‘fdrtool’\n",
      "\n",
      "\n",
      "Updating HTML index of packages in '.Library'\n",
      "\n",
      "Making 'packages.html' ...\n",
      " done\n",
      "\n",
      "Old packages: 'bit64', 'bslib', 'caret', 'cli', 'clock', 'cpp11', 'curl',\n",
      "  'data.table', 'GenomeInfoDb', 'gower', 'hardhat', 'jsonlite', 'locfit',\n",
      "  'MASS', 'Matrix', 'nlme', 'openssl', 'parallelly', 'processx', 'ps', 'purrr',\n",
      "  'R6', 'RcppArmadillo', 'readxl', 'recipes', 'SparseArray', 'systemfonts',\n",
      "  'textshaping', 'tinytex', 'xfun', 'xml2', 'zoo'\n",
      "\n"
     ]
    }
   ],
   "source": [
    "install.packages(\"BiocManager\")\n",
    "BiocManager::install(\"IHW\")"
   ]
  },
  {
   "cell_type": "code",
   "execution_count": 35,
   "id": "b9b56312-fb3b-4f79-89c8-96790453989c",
   "metadata": {},
   "outputs": [
    {
     "name": "stdout",
     "output_type": "stream",
     "text": [
      "\n",
      "out of 13334 with nonzero total read count\n",
      "adjusted p-value < 0.1\n",
      "LFC > 0 (up)       : 0, 0%\n",
      "LFC < 0 (down)     : 0, 0%\n",
      "outliers [1]       : 0, 0%\n",
      "[1] see 'cooksCutoff' argument of ?results\n",
      "see metadata(res)$ihwResult on hypothesis weighting\n",
      "\n"
     ]
    },
    {
     "data": {
      "text/html": [
       "0"
      ],
      "text/latex": [
       "0"
      ],
      "text/markdown": [
       "0"
      ],
      "text/plain": [
       "[1] 0"
      ]
     },
     "metadata": {},
     "output_type": "display_data"
    },
    {
     "data": {
      "text/plain": [
       "ihwResult object with 13334 hypothesis tests \n",
       "Nominal FDR control level: 0.1 \n",
       "Split into 8 bins, based on an ordinal covariate"
      ]
     },
     "metadata": {},
     "output_type": "display_data"
    }
   ],
   "source": [
    "# (unevaluated code chunk)\n",
    "library(\"IHW\")\n",
    "resIHW <- results(deseq, filterFun=ihw)\n",
    "summary(resIHW)\n",
    "sum(resIHW$padj < 0.1, na.rm=TRUE)\n",
    "metadata(resIHW)$ihwResult"
   ]
  },
  {
   "cell_type": "code",
   "execution_count": null,
   "id": "709b351d-0333-4275-a310-92119767cba8",
   "metadata": {},
   "outputs": [],
   "source": []
  }
 ],
 "metadata": {
  "kernelspec": {
   "display_name": "R",
   "language": "R",
   "name": "ir"
  },
  "language_info": {
   "codemirror_mode": "r",
   "file_extension": ".r",
   "mimetype": "text/x-r-source",
   "name": "R",
   "pygments_lexer": "r",
   "version": "4.4.2"
  }
 },
 "nbformat": 4,
 "nbformat_minor": 5
}
