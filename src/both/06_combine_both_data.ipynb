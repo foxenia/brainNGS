{
 "cells": [
  {
   "cell_type": "code",
   "execution_count": 3,
   "id": "92fb9d53-e06a-4c0c-bfec-998bb71816d5",
   "metadata": {},
   "outputs": [
    {
     "data": {
      "text/html": [
       "<table class=\"dataframe\">\n",
       "<caption>A data.frame: 24 × 5</caption>\n",
       "<thead>\n",
       "\t<tr><th></th><th scope=col>virus</th><th scope=col>replicate</th><th scope=col>organoid_stage</th><th scope=col>id</th><th scope=col>name</th></tr>\n",
       "\t<tr><th></th><th scope=col>&lt;chr&gt;</th><th scope=col>&lt;int&gt;</th><th scope=col>&lt;chr&gt;</th><th scope=col>&lt;chr&gt;</th><th scope=col>&lt;chr&gt;</th></tr>\n",
       "</thead>\n",
       "<tbody>\n",
       "\t<tr><th scope=row>S22</th><td>HAstV4</td><td>1</td><td>diff  </td><td>S22</td><td>HAstV4_1_diff_S22  </td></tr>\n",
       "\t<tr><th scope=row>S10</th><td>VA1   </td><td>3</td><td>undiff</td><td>S10</td><td>VA1_3_undiff_S10   </td></tr>\n",
       "\t<tr><th scope=row>S23</th><td>HAstV4</td><td>2</td><td>diff  </td><td>S23</td><td>HAstV4_2_diff_S23  </td></tr>\n",
       "\t<tr><th scope=row>S11</th><td>HAstV4</td><td>2</td><td>undiff</td><td>S11</td><td>HAstV4_2_undiff_S11</td></tr>\n",
       "\t<tr><th scope=row>S24</th><td>HAstV4</td><td>3</td><td>diff  </td><td>S24</td><td>HAstV4_3_diff_S24  </td></tr>\n",
       "\t<tr><th scope=row>S12</th><td>HAstV4</td><td>3</td><td>undiff</td><td>S12</td><td>HAstV4_3_undiff_S12</td></tr>\n",
       "\t<tr><th scope=row>S16</th><td>MLB2  </td><td>1</td><td>diff  </td><td>S16</td><td>MLB2_1_diff_S16    </td></tr>\n",
       "\t<tr><th scope=row>S4</th><td>MLB2  </td><td>1</td><td>undiff</td><td>S4 </td><td>MLB2_1_undiff_S4   </td></tr>\n",
       "\t<tr><th scope=row>S17</th><td>MLB2  </td><td>2</td><td>diff  </td><td>S17</td><td>MLB2_2_diff_S17    </td></tr>\n",
       "\t<tr><th scope=row>S5</th><td>MLB2  </td><td>2</td><td>undiff</td><td>S5 </td><td>MLB2_2_undiff_S5   </td></tr>\n",
       "\t<tr><th scope=row>S18</th><td>MLB2  </td><td>3</td><td>diff  </td><td>S18</td><td>MLB2_3_diff_S18    </td></tr>\n",
       "\t<tr><th scope=row>S6</th><td>MLB2  </td><td>3</td><td>undiff</td><td>S6 </td><td>MLB2_3_undiff_S6   </td></tr>\n",
       "\t<tr><th scope=row>S13</th><td>Mock  </td><td>1</td><td>diff  </td><td>S13</td><td>Mock_1_diff_S13    </td></tr>\n",
       "\t<tr><th scope=row>S1</th><td>Mock  </td><td>1</td><td>undiff</td><td>S1 </td><td>Mock_1_undiff_S1   </td></tr>\n",
       "\t<tr><th scope=row>S14</th><td>Mock  </td><td>2</td><td>diff  </td><td>S14</td><td>Mock_2_diff_S14    </td></tr>\n",
       "\t<tr><th scope=row>S2</th><td>Mock  </td><td>2</td><td>undiff</td><td>S2 </td><td>Mock_2_undiff_S2   </td></tr>\n",
       "\t<tr><th scope=row>S15</th><td>Mock  </td><td>3</td><td>diff  </td><td>S15</td><td>Mock_3_diff_S15    </td></tr>\n",
       "\t<tr><th scope=row>S3</th><td>Mock  </td><td>3</td><td>undiff</td><td>S3 </td><td>Mock_3_undiff_S3   </td></tr>\n",
       "\t<tr><th scope=row>S19</th><td>VA1   </td><td>1</td><td>diff  </td><td>S19</td><td>VA1_1_diff_S19     </td></tr>\n",
       "\t<tr><th scope=row>S7</th><td>VA1   </td><td>1</td><td>undiff</td><td>S7 </td><td>VA1_1_undiff_S7    </td></tr>\n",
       "\t<tr><th scope=row>S20</th><td>VA1   </td><td>2</td><td>diff  </td><td>S20</td><td>VA1_2_diff_S20     </td></tr>\n",
       "\t<tr><th scope=row>S8</th><td>VA1   </td><td>2</td><td>undiff</td><td>S8 </td><td>VA1_2_undiff_S8    </td></tr>\n",
       "\t<tr><th scope=row>S21</th><td>VA1   </td><td>3</td><td>diff  </td><td>S21</td><td>VA1_3_diff_S21     </td></tr>\n",
       "\t<tr><th scope=row>S9</th><td>HAstV4</td><td>1</td><td>undiff</td><td>S9 </td><td>HAstV4_1_undiff_S9 </td></tr>\n",
       "</tbody>\n",
       "</table>\n"
      ],
      "text/latex": [
       "A data.frame: 24 × 5\n",
       "\\begin{tabular}{r|lllll}\n",
       "  & virus & replicate & organoid\\_stage & id & name\\\\\n",
       "  & <chr> & <int> & <chr> & <chr> & <chr>\\\\\n",
       "\\hline\n",
       "\tS22 & HAstV4 & 1 & diff   & S22 & HAstV4\\_1\\_diff\\_S22  \\\\\n",
       "\tS10 & VA1    & 3 & undiff & S10 & VA1\\_3\\_undiff\\_S10   \\\\\n",
       "\tS23 & HAstV4 & 2 & diff   & S23 & HAstV4\\_2\\_diff\\_S23  \\\\\n",
       "\tS11 & HAstV4 & 2 & undiff & S11 & HAstV4\\_2\\_undiff\\_S11\\\\\n",
       "\tS24 & HAstV4 & 3 & diff   & S24 & HAstV4\\_3\\_diff\\_S24  \\\\\n",
       "\tS12 & HAstV4 & 3 & undiff & S12 & HAstV4\\_3\\_undiff\\_S12\\\\\n",
       "\tS16 & MLB2   & 1 & diff   & S16 & MLB2\\_1\\_diff\\_S16    \\\\\n",
       "\tS4 & MLB2   & 1 & undiff & S4  & MLB2\\_1\\_undiff\\_S4   \\\\\n",
       "\tS17 & MLB2   & 2 & diff   & S17 & MLB2\\_2\\_diff\\_S17    \\\\\n",
       "\tS5 & MLB2   & 2 & undiff & S5  & MLB2\\_2\\_undiff\\_S5   \\\\\n",
       "\tS18 & MLB2   & 3 & diff   & S18 & MLB2\\_3\\_diff\\_S18    \\\\\n",
       "\tS6 & MLB2   & 3 & undiff & S6  & MLB2\\_3\\_undiff\\_S6   \\\\\n",
       "\tS13 & Mock   & 1 & diff   & S13 & Mock\\_1\\_diff\\_S13    \\\\\n",
       "\tS1 & Mock   & 1 & undiff & S1  & Mock\\_1\\_undiff\\_S1   \\\\\n",
       "\tS14 & Mock   & 2 & diff   & S14 & Mock\\_2\\_diff\\_S14    \\\\\n",
       "\tS2 & Mock   & 2 & undiff & S2  & Mock\\_2\\_undiff\\_S2   \\\\\n",
       "\tS15 & Mock   & 3 & diff   & S15 & Mock\\_3\\_diff\\_S15    \\\\\n",
       "\tS3 & Mock   & 3 & undiff & S3  & Mock\\_3\\_undiff\\_S3   \\\\\n",
       "\tS19 & VA1    & 1 & diff   & S19 & VA1\\_1\\_diff\\_S19     \\\\\n",
       "\tS7 & VA1    & 1 & undiff & S7  & VA1\\_1\\_undiff\\_S7    \\\\\n",
       "\tS20 & VA1    & 2 & diff   & S20 & VA1\\_2\\_diff\\_S20     \\\\\n",
       "\tS8 & VA1    & 2 & undiff & S8  & VA1\\_2\\_undiff\\_S8    \\\\\n",
       "\tS21 & VA1    & 3 & diff   & S21 & VA1\\_3\\_diff\\_S21     \\\\\n",
       "\tS9 & HAstV4 & 1 & undiff & S9  & HAstV4\\_1\\_undiff\\_S9 \\\\\n",
       "\\end{tabular}\n"
      ],
      "text/markdown": [
       "\n",
       "A data.frame: 24 × 5\n",
       "\n",
       "| <!--/--> | virus &lt;chr&gt; | replicate &lt;int&gt; | organoid_stage &lt;chr&gt; | id &lt;chr&gt; | name &lt;chr&gt; |\n",
       "|---|---|---|---|---|---|\n",
       "| S22 | HAstV4 | 1 | diff   | S22 | HAstV4_1_diff_S22   |\n",
       "| S10 | VA1    | 3 | undiff | S10 | VA1_3_undiff_S10    |\n",
       "| S23 | HAstV4 | 2 | diff   | S23 | HAstV4_2_diff_S23   |\n",
       "| S11 | HAstV4 | 2 | undiff | S11 | HAstV4_2_undiff_S11 |\n",
       "| S24 | HAstV4 | 3 | diff   | S24 | HAstV4_3_diff_S24   |\n",
       "| S12 | HAstV4 | 3 | undiff | S12 | HAstV4_3_undiff_S12 |\n",
       "| S16 | MLB2   | 1 | diff   | S16 | MLB2_1_diff_S16     |\n",
       "| S4 | MLB2   | 1 | undiff | S4  | MLB2_1_undiff_S4    |\n",
       "| S17 | MLB2   | 2 | diff   | S17 | MLB2_2_diff_S17     |\n",
       "| S5 | MLB2   | 2 | undiff | S5  | MLB2_2_undiff_S5    |\n",
       "| S18 | MLB2   | 3 | diff   | S18 | MLB2_3_diff_S18     |\n",
       "| S6 | MLB2   | 3 | undiff | S6  | MLB2_3_undiff_S6    |\n",
       "| S13 | Mock   | 1 | diff   | S13 | Mock_1_diff_S13     |\n",
       "| S1 | Mock   | 1 | undiff | S1  | Mock_1_undiff_S1    |\n",
       "| S14 | Mock   | 2 | diff   | S14 | Mock_2_diff_S14     |\n",
       "| S2 | Mock   | 2 | undiff | S2  | Mock_2_undiff_S2    |\n",
       "| S15 | Mock   | 3 | diff   | S15 | Mock_3_diff_S15     |\n",
       "| S3 | Mock   | 3 | undiff | S3  | Mock_3_undiff_S3    |\n",
       "| S19 | VA1    | 1 | diff   | S19 | VA1_1_diff_S19      |\n",
       "| S7 | VA1    | 1 | undiff | S7  | VA1_1_undiff_S7     |\n",
       "| S20 | VA1    | 2 | diff   | S20 | VA1_2_diff_S20      |\n",
       "| S8 | VA1    | 2 | undiff | S8  | VA1_2_undiff_S8     |\n",
       "| S21 | VA1    | 3 | diff   | S21 | VA1_3_diff_S21      |\n",
       "| S9 | HAstV4 | 1 | undiff | S9  | HAstV4_1_undiff_S9  |\n",
       "\n"
      ],
      "text/plain": [
       "    virus  replicate organoid_stage id  name               \n",
       "S22 HAstV4 1         diff           S22 HAstV4_1_diff_S22  \n",
       "S10 VA1    3         undiff         S10 VA1_3_undiff_S10   \n",
       "S23 HAstV4 2         diff           S23 HAstV4_2_diff_S23  \n",
       "S11 HAstV4 2         undiff         S11 HAstV4_2_undiff_S11\n",
       "S24 HAstV4 3         diff           S24 HAstV4_3_diff_S24  \n",
       "S12 HAstV4 3         undiff         S12 HAstV4_3_undiff_S12\n",
       "S16 MLB2   1         diff           S16 MLB2_1_diff_S16    \n",
       "S4  MLB2   1         undiff         S4  MLB2_1_undiff_S4   \n",
       "S17 MLB2   2         diff           S17 MLB2_2_diff_S17    \n",
       "S5  MLB2   2         undiff         S5  MLB2_2_undiff_S5   \n",
       "S18 MLB2   3         diff           S18 MLB2_3_diff_S18    \n",
       "S6  MLB2   3         undiff         S6  MLB2_3_undiff_S6   \n",
       "S13 Mock   1         diff           S13 Mock_1_diff_S13    \n",
       "S1  Mock   1         undiff         S1  Mock_1_undiff_S1   \n",
       "S14 Mock   2         diff           S14 Mock_2_diff_S14    \n",
       "S2  Mock   2         undiff         S2  Mock_2_undiff_S2   \n",
       "S15 Mock   3         diff           S15 Mock_3_diff_S15    \n",
       "S3  Mock   3         undiff         S3  Mock_3_undiff_S3   \n",
       "S19 VA1    1         diff           S19 VA1_1_diff_S19     \n",
       "S7  VA1    1         undiff         S7  VA1_1_undiff_S7    \n",
       "S20 VA1    2         diff           S20 VA1_2_diff_S20     \n",
       "S8  VA1    2         undiff         S8  VA1_2_undiff_S8    \n",
       "S21 VA1    3         diff           S21 VA1_3_diff_S21     \n",
       "S9  HAstV4 1         undiff         S9  HAstV4_1_undiff_S9 "
      ]
     },
     "metadata": {},
     "output_type": "display_data"
    }
   ],
   "source": [
    "gsamples = read.table('../gut/gut_samples_mod.tsv')\n",
    "samples$name = paste(samples$virus, samples$replicate, samples$organoid_stage, samples$id, sep='_')\n",
    "write.table(gsamples, 'gsamples.tsv')\n",
    "gsamples"
   ]
  },
  {
   "cell_type": "code",
   "execution_count": 39,
   "id": "6d6856ac-4016-4e71-9f2a-686373c0ab91",
   "metadata": {},
   "outputs": [
    {
     "data": {
      "text/html": [
       "<table class=\"dataframe\">\n",
       "<caption>A data.frame: 8 × 7</caption>\n",
       "<thead>\n",
       "\t<tr><th></th><th scope=col>id</th><th scope=col>fname1</th><th scope=col>fname2</th><th scope=col>condition</th><th scope=col>replicate</th><th scope=col>timepoint</th><th scope=col>name</th></tr>\n",
       "\t<tr><th></th><th scope=col>&lt;chr&gt;</th><th scope=col>&lt;chr&gt;</th><th scope=col>&lt;chr&gt;</th><th scope=col>&lt;chr&gt;</th><th scope=col>&lt;chr&gt;</th><th scope=col>&lt;chr&gt;</th><th scope=col>&lt;chr&gt;</th></tr>\n",
       "</thead>\n",
       "<tbody>\n",
       "\t<tr><th scope=row>VL1</th><td>VL1</td><td>../data/NGS-V.Lulla-40921/VL1_S1_R1_001.fastq.gz</td><td>../data/NGS-V.Lulla-40921_repeat/VL1_S1r_R1_001.fastq.gz</td><td>MLB2  </td><td>s1</td><td>4d</td><td>MLB2_s1  </td></tr>\n",
       "\t<tr><th scope=row>VL2</th><td>VL2</td><td>../data/NGS-V.Lulla-40921/VL2_S2_R1_001.fastq.gz</td><td>../data/NGS-V.Lulla-40921_repeat/VL2_S2r_R1_001.fastq.gz</td><td>MLB2  </td><td>s2</td><td>4d</td><td>MLB2_s2  </td></tr>\n",
       "\t<tr><th scope=row>VL3</th><td>VL3</td><td>../data/NGS-V.Lulla-40921/VL3_S3_R1_001.fastq.gz</td><td>../data/NGS-V.Lulla-40921_repeat/VL3_S3r_R1_001.fastq.gz</td><td>VA1   </td><td>s1</td><td>4d</td><td>VA1_s1   </td></tr>\n",
       "\t<tr><th scope=row>VL4</th><td>VL4</td><td>../data/NGS-V.Lulla-40921/VL4_S4_R1_001.fastq.gz</td><td>../data/NGS-V.Lulla-40921_repeat/VL4_S4r_R1_001.fastq.gz</td><td>VA1   </td><td>s2</td><td>4d</td><td>VA1_s2   </td></tr>\n",
       "\t<tr><th scope=row>VL5</th><td>VL5</td><td>../data/NGS-V.Lulla-40921/VL5_S5_R1_001.fastq.gz</td><td>../data/NGS-V.Lulla-40921_repeat/VL5_S5r_R1_001.fastq.gz</td><td>HAstV4</td><td>s1</td><td>4d</td><td>HAstV4_s1</td></tr>\n",
       "\t<tr><th scope=row>VL6</th><td>VL6</td><td>../data/NGS-V.Lulla-40921/VL6_S6_R1_001.fastq.gz</td><td>../data/NGS-V.Lulla-40921_repeat/VL6_S6r_R1_001.fastq.gz</td><td>HAstV4</td><td>s2</td><td>4d</td><td>HAstV4_s2</td></tr>\n",
       "\t<tr><th scope=row>VL7</th><td>VL7</td><td>../data/NGS-V.Lulla-40921/VL7_S7_R1_001.fastq.gz</td><td>../data/NGS-V.Lulla-40921_repeat/VL7_S7r_R1_001.fastq.gz</td><td>mock  </td><td>s1</td><td>4d</td><td>mock_s1  </td></tr>\n",
       "\t<tr><th scope=row>VL8</th><td>VL8</td><td>../data/NGS-V.Lulla-40921/VL8_S8_R1_001.fastq.gz</td><td>../data/NGS-V.Lulla-40921_repeat/VL8_S8r_R1_001.fastq.gz</td><td>mock  </td><td>s2</td><td>4d</td><td>mock_s2  </td></tr>\n",
       "</tbody>\n",
       "</table>\n"
      ],
      "text/latex": [
       "A data.frame: 8 × 7\n",
       "\\begin{tabular}{r|lllllll}\n",
       "  & id & fname1 & fname2 & condition & replicate & timepoint & name\\\\\n",
       "  & <chr> & <chr> & <chr> & <chr> & <chr> & <chr> & <chr>\\\\\n",
       "\\hline\n",
       "\tVL1 & VL1 & ../data/NGS-V.Lulla-40921/VL1\\_S1\\_R1\\_001.fastq.gz & ../data/NGS-V.Lulla-40921\\_repeat/VL1\\_S1r\\_R1\\_001.fastq.gz & MLB2   & s1 & 4d & MLB2\\_s1  \\\\\n",
       "\tVL2 & VL2 & ../data/NGS-V.Lulla-40921/VL2\\_S2\\_R1\\_001.fastq.gz & ../data/NGS-V.Lulla-40921\\_repeat/VL2\\_S2r\\_R1\\_001.fastq.gz & MLB2   & s2 & 4d & MLB2\\_s2  \\\\\n",
       "\tVL3 & VL3 & ../data/NGS-V.Lulla-40921/VL3\\_S3\\_R1\\_001.fastq.gz & ../data/NGS-V.Lulla-40921\\_repeat/VL3\\_S3r\\_R1\\_001.fastq.gz & VA1    & s1 & 4d & VA1\\_s1   \\\\\n",
       "\tVL4 & VL4 & ../data/NGS-V.Lulla-40921/VL4\\_S4\\_R1\\_001.fastq.gz & ../data/NGS-V.Lulla-40921\\_repeat/VL4\\_S4r\\_R1\\_001.fastq.gz & VA1    & s2 & 4d & VA1\\_s2   \\\\\n",
       "\tVL5 & VL5 & ../data/NGS-V.Lulla-40921/VL5\\_S5\\_R1\\_001.fastq.gz & ../data/NGS-V.Lulla-40921\\_repeat/VL5\\_S5r\\_R1\\_001.fastq.gz & HAstV4 & s1 & 4d & HAstV4\\_s1\\\\\n",
       "\tVL6 & VL6 & ../data/NGS-V.Lulla-40921/VL6\\_S6\\_R1\\_001.fastq.gz & ../data/NGS-V.Lulla-40921\\_repeat/VL6\\_S6r\\_R1\\_001.fastq.gz & HAstV4 & s2 & 4d & HAstV4\\_s2\\\\\n",
       "\tVL7 & VL7 & ../data/NGS-V.Lulla-40921/VL7\\_S7\\_R1\\_001.fastq.gz & ../data/NGS-V.Lulla-40921\\_repeat/VL7\\_S7r\\_R1\\_001.fastq.gz & mock   & s1 & 4d & mock\\_s1  \\\\\n",
       "\tVL8 & VL8 & ../data/NGS-V.Lulla-40921/VL8\\_S8\\_R1\\_001.fastq.gz & ../data/NGS-V.Lulla-40921\\_repeat/VL8\\_S8r\\_R1\\_001.fastq.gz & mock   & s2 & 4d & mock\\_s2  \\\\\n",
       "\\end{tabular}\n"
      ],
      "text/markdown": [
       "\n",
       "A data.frame: 8 × 7\n",
       "\n",
       "| <!--/--> | id &lt;chr&gt; | fname1 &lt;chr&gt; | fname2 &lt;chr&gt; | condition &lt;chr&gt; | replicate &lt;chr&gt; | timepoint &lt;chr&gt; | name &lt;chr&gt; |\n",
       "|---|---|---|---|---|---|---|---|\n",
       "| VL1 | VL1 | ../data/NGS-V.Lulla-40921/VL1_S1_R1_001.fastq.gz | ../data/NGS-V.Lulla-40921_repeat/VL1_S1r_R1_001.fastq.gz | MLB2   | s1 | 4d | MLB2_s1   |\n",
       "| VL2 | VL2 | ../data/NGS-V.Lulla-40921/VL2_S2_R1_001.fastq.gz | ../data/NGS-V.Lulla-40921_repeat/VL2_S2r_R1_001.fastq.gz | MLB2   | s2 | 4d | MLB2_s2   |\n",
       "| VL3 | VL3 | ../data/NGS-V.Lulla-40921/VL3_S3_R1_001.fastq.gz | ../data/NGS-V.Lulla-40921_repeat/VL3_S3r_R1_001.fastq.gz | VA1    | s1 | 4d | VA1_s1    |\n",
       "| VL4 | VL4 | ../data/NGS-V.Lulla-40921/VL4_S4_R1_001.fastq.gz | ../data/NGS-V.Lulla-40921_repeat/VL4_S4r_R1_001.fastq.gz | VA1    | s2 | 4d | VA1_s2    |\n",
       "| VL5 | VL5 | ../data/NGS-V.Lulla-40921/VL5_S5_R1_001.fastq.gz | ../data/NGS-V.Lulla-40921_repeat/VL5_S5r_R1_001.fastq.gz | HAstV4 | s1 | 4d | HAstV4_s1 |\n",
       "| VL6 | VL6 | ../data/NGS-V.Lulla-40921/VL6_S6_R1_001.fastq.gz | ../data/NGS-V.Lulla-40921_repeat/VL6_S6r_R1_001.fastq.gz | HAstV4 | s2 | 4d | HAstV4_s2 |\n",
       "| VL7 | VL7 | ../data/NGS-V.Lulla-40921/VL7_S7_R1_001.fastq.gz | ../data/NGS-V.Lulla-40921_repeat/VL7_S7r_R1_001.fastq.gz | mock   | s1 | 4d | mock_s1   |\n",
       "| VL8 | VL8 | ../data/NGS-V.Lulla-40921/VL8_S8_R1_001.fastq.gz | ../data/NGS-V.Lulla-40921_repeat/VL8_S8r_R1_001.fastq.gz | mock   | s2 | 4d | mock_s2   |\n",
       "\n"
      ],
      "text/plain": [
       "    id  fname1                                          \n",
       "VL1 VL1 ../data/NGS-V.Lulla-40921/VL1_S1_R1_001.fastq.gz\n",
       "VL2 VL2 ../data/NGS-V.Lulla-40921/VL2_S2_R1_001.fastq.gz\n",
       "VL3 VL3 ../data/NGS-V.Lulla-40921/VL3_S3_R1_001.fastq.gz\n",
       "VL4 VL4 ../data/NGS-V.Lulla-40921/VL4_S4_R1_001.fastq.gz\n",
       "VL5 VL5 ../data/NGS-V.Lulla-40921/VL5_S5_R1_001.fastq.gz\n",
       "VL6 VL6 ../data/NGS-V.Lulla-40921/VL6_S6_R1_001.fastq.gz\n",
       "VL7 VL7 ../data/NGS-V.Lulla-40921/VL7_S7_R1_001.fastq.gz\n",
       "VL8 VL8 ../data/NGS-V.Lulla-40921/VL8_S8_R1_001.fastq.gz\n",
       "    fname2                                                   condition\n",
       "VL1 ../data/NGS-V.Lulla-40921_repeat/VL1_S1r_R1_001.fastq.gz MLB2     \n",
       "VL2 ../data/NGS-V.Lulla-40921_repeat/VL2_S2r_R1_001.fastq.gz MLB2     \n",
       "VL3 ../data/NGS-V.Lulla-40921_repeat/VL3_S3r_R1_001.fastq.gz VA1      \n",
       "VL4 ../data/NGS-V.Lulla-40921_repeat/VL4_S4r_R1_001.fastq.gz VA1      \n",
       "VL5 ../data/NGS-V.Lulla-40921_repeat/VL5_S5r_R1_001.fastq.gz HAstV4   \n",
       "VL6 ../data/NGS-V.Lulla-40921_repeat/VL6_S6r_R1_001.fastq.gz HAstV4   \n",
       "VL7 ../data/NGS-V.Lulla-40921_repeat/VL7_S7r_R1_001.fastq.gz mock     \n",
       "VL8 ../data/NGS-V.Lulla-40921_repeat/VL8_S8r_R1_001.fastq.gz mock     \n",
       "    replicate timepoint name     \n",
       "VL1 s1        4d        MLB2_s1  \n",
       "VL2 s2        4d        MLB2_s2  \n",
       "VL3 s1        4d        VA1_s1   \n",
       "VL4 s2        4d        VA1_s2   \n",
       "VL5 s1        4d        HAstV4_s1\n",
       "VL6 s2        4d        HAstV4_s2\n",
       "VL7 s1        4d        mock_s1  \n",
       "VL8 s2        4d        mock_s2  "
      ]
     },
     "metadata": {},
     "output_type": "display_data"
    }
   ],
   "source": [
    "bsamples = read.csv('../brain/samples.csv',row.names = 1)\n",
    "write.table(bsamples, 'bsamples.tsv')\n",
    "bsamples"
   ]
  },
  {
   "cell_type": "code",
   "execution_count": 40,
   "id": "248800e9-9a8e-462b-9150-eb0ecfc126a3",
   "metadata": {},
   "outputs": [
    {
     "data": {
      "text/html": [
       "<table class=\"dataframe\">\n",
       "<caption>A data.frame: 8 × 6</caption>\n",
       "<thead>\n",
       "\t<tr><th></th><th scope=col>virus</th><th scope=col>replicate</th><th scope=col>organoid_stage</th><th scope=col>id</th><th scope=col>name</th><th scope=col>tissue</th></tr>\n",
       "\t<tr><th></th><th scope=col>&lt;chr&gt;</th><th scope=col>&lt;chr&gt;</th><th scope=col>&lt;chr&gt;</th><th scope=col>&lt;chr&gt;</th><th scope=col>&lt;chr&gt;</th><th scope=col>&lt;chr&gt;</th></tr>\n",
       "</thead>\n",
       "<tbody>\n",
       "\t<tr><th scope=row>VL1</th><td>MLB2  </td><td>1</td><td>4d</td><td>VL1</td><td>MLB2_s1  </td><td>brain</td></tr>\n",
       "\t<tr><th scope=row>VL2</th><td>MLB2  </td><td>2</td><td>4d</td><td>VL2</td><td>MLB2_s2  </td><td>brain</td></tr>\n",
       "\t<tr><th scope=row>VL3</th><td>VA1   </td><td>1</td><td>4d</td><td>VL3</td><td>VA1_s1   </td><td>brain</td></tr>\n",
       "\t<tr><th scope=row>VL4</th><td>VA1   </td><td>2</td><td>4d</td><td>VL4</td><td>VA1_s2   </td><td>brain</td></tr>\n",
       "\t<tr><th scope=row>VL5</th><td>HAstV4</td><td>1</td><td>4d</td><td>VL5</td><td>HAstV4_s1</td><td>brain</td></tr>\n",
       "\t<tr><th scope=row>VL6</th><td>HAstV4</td><td>2</td><td>4d</td><td>VL6</td><td>HAstV4_s2</td><td>brain</td></tr>\n",
       "\t<tr><th scope=row>VL7</th><td>Mock  </td><td>1</td><td>4d</td><td>VL7</td><td>mock_s1  </td><td>brain</td></tr>\n",
       "\t<tr><th scope=row>VL8</th><td>Mock  </td><td>2</td><td>4d</td><td>VL8</td><td>mock_s2  </td><td>brain</td></tr>\n",
       "</tbody>\n",
       "</table>\n"
      ],
      "text/latex": [
       "A data.frame: 8 × 6\n",
       "\\begin{tabular}{r|llllll}\n",
       "  & virus & replicate & organoid\\_stage & id & name & tissue\\\\\n",
       "  & <chr> & <chr> & <chr> & <chr> & <chr> & <chr>\\\\\n",
       "\\hline\n",
       "\tVL1 & MLB2   & 1 & 4d & VL1 & MLB2\\_s1   & brain\\\\\n",
       "\tVL2 & MLB2   & 2 & 4d & VL2 & MLB2\\_s2   & brain\\\\\n",
       "\tVL3 & VA1    & 1 & 4d & VL3 & VA1\\_s1    & brain\\\\\n",
       "\tVL4 & VA1    & 2 & 4d & VL4 & VA1\\_s2    & brain\\\\\n",
       "\tVL5 & HAstV4 & 1 & 4d & VL5 & HAstV4\\_s1 & brain\\\\\n",
       "\tVL6 & HAstV4 & 2 & 4d & VL6 & HAstV4\\_s2 & brain\\\\\n",
       "\tVL7 & Mock   & 1 & 4d & VL7 & mock\\_s1   & brain\\\\\n",
       "\tVL8 & Mock   & 2 & 4d & VL8 & mock\\_s2   & brain\\\\\n",
       "\\end{tabular}\n"
      ],
      "text/markdown": [
       "\n",
       "A data.frame: 8 × 6\n",
       "\n",
       "| <!--/--> | virus &lt;chr&gt; | replicate &lt;chr&gt; | organoid_stage &lt;chr&gt; | id &lt;chr&gt; | name &lt;chr&gt; | tissue &lt;chr&gt; |\n",
       "|---|---|---|---|---|---|---|\n",
       "| VL1 | MLB2   | 1 | 4d | VL1 | MLB2_s1   | brain |\n",
       "| VL2 | MLB2   | 2 | 4d | VL2 | MLB2_s2   | brain |\n",
       "| VL3 | VA1    | 1 | 4d | VL3 | VA1_s1    | brain |\n",
       "| VL4 | VA1    | 2 | 4d | VL4 | VA1_s2    | brain |\n",
       "| VL5 | HAstV4 | 1 | 4d | VL5 | HAstV4_s1 | brain |\n",
       "| VL6 | HAstV4 | 2 | 4d | VL6 | HAstV4_s2 | brain |\n",
       "| VL7 | Mock   | 1 | 4d | VL7 | mock_s1   | brain |\n",
       "| VL8 | Mock   | 2 | 4d | VL8 | mock_s2   | brain |\n",
       "\n"
      ],
      "text/plain": [
       "    virus  replicate organoid_stage id  name      tissue\n",
       "VL1 MLB2   1         4d             VL1 MLB2_s1   brain \n",
       "VL2 MLB2   2         4d             VL2 MLB2_s2   brain \n",
       "VL3 VA1    1         4d             VL3 VA1_s1    brain \n",
       "VL4 VA1    2         4d             VL4 VA1_s2    brain \n",
       "VL5 HAstV4 1         4d             VL5 HAstV4_s1 brain \n",
       "VL6 HAstV4 2         4d             VL6 HAstV4_s2 brain \n",
       "VL7 Mock   1         4d             VL7 mock_s1   brain \n",
       "VL8 Mock   2         4d             VL8 mock_s2   brain "
      ]
     },
     "metadata": {},
     "output_type": "display_data"
    }
   ],
   "source": [
    "bsamples$tissue = \"brain\"\n",
    "gsamples$tissue = \"gut\"\n",
    "bsamples$replicate = (substr(bsamples$replicate, 2, 3))\n",
    "bsamples$virus = bsamples$condition\n",
    "bsamples$virus[bsamples$virus==\"mock\"]=\"Mock\"\n",
    "bsamples$organoid_stage = bsamples$timepoint\n",
    "bsamples[,colnames(gsamples)]"
   ]
  },
  {
   "cell_type": "code",
   "execution_count": 41,
   "id": "e70dc105-7c17-4f4b-ba44-60303b87c778",
   "metadata": {},
   "outputs": [
    {
     "data": {
      "text/html": [
       "<table class=\"dataframe\">\n",
       "<caption>A data.frame: 32 × 6</caption>\n",
       "<thead>\n",
       "\t<tr><th></th><th scope=col>virus</th><th scope=col>replicate</th><th scope=col>organoid_stage</th><th scope=col>id</th><th scope=col>name</th><th scope=col>tissue</th></tr>\n",
       "\t<tr><th></th><th scope=col>&lt;chr&gt;</th><th scope=col>&lt;chr&gt;</th><th scope=col>&lt;chr&gt;</th><th scope=col>&lt;chr&gt;</th><th scope=col>&lt;chr&gt;</th><th scope=col>&lt;chr&gt;</th></tr>\n",
       "</thead>\n",
       "<tbody>\n",
       "\t<tr><th scope=row>VL1</th><td>MLB2  </td><td>1</td><td>4d    </td><td>VL1</td><td>MLB2_s1            </td><td>brain</td></tr>\n",
       "\t<tr><th scope=row>VL2</th><td>MLB2  </td><td>2</td><td>4d    </td><td>VL2</td><td>MLB2_s2            </td><td>brain</td></tr>\n",
       "\t<tr><th scope=row>VL3</th><td>VA1   </td><td>1</td><td>4d    </td><td>VL3</td><td>VA1_s1             </td><td>brain</td></tr>\n",
       "\t<tr><th scope=row>VL4</th><td>VA1   </td><td>2</td><td>4d    </td><td>VL4</td><td>VA1_s2             </td><td>brain</td></tr>\n",
       "\t<tr><th scope=row>VL5</th><td>HAstV4</td><td>1</td><td>4d    </td><td>VL5</td><td>HAstV4_s1          </td><td>brain</td></tr>\n",
       "\t<tr><th scope=row>VL6</th><td>HAstV4</td><td>2</td><td>4d    </td><td>VL6</td><td>HAstV4_s2          </td><td>brain</td></tr>\n",
       "\t<tr><th scope=row>VL7</th><td>Mock  </td><td>1</td><td>4d    </td><td>VL7</td><td>mock_s1            </td><td>brain</td></tr>\n",
       "\t<tr><th scope=row>VL8</th><td>Mock  </td><td>2</td><td>4d    </td><td>VL8</td><td>mock_s2            </td><td>brain</td></tr>\n",
       "\t<tr><th scope=row>S22</th><td>HAstV4</td><td>1</td><td>diff  </td><td>S22</td><td>HAstV4_1_diff_S22  </td><td>gut  </td></tr>\n",
       "\t<tr><th scope=row>S10</th><td>VA1   </td><td>3</td><td>undiff</td><td>S10</td><td>VA1_3_undiff_S10   </td><td>gut  </td></tr>\n",
       "\t<tr><th scope=row>S23</th><td>HAstV4</td><td>2</td><td>diff  </td><td>S23</td><td>HAstV4_2_diff_S23  </td><td>gut  </td></tr>\n",
       "\t<tr><th scope=row>S11</th><td>HAstV4</td><td>2</td><td>undiff</td><td>S11</td><td>HAstV4_2_undiff_S11</td><td>gut  </td></tr>\n",
       "\t<tr><th scope=row>S24</th><td>HAstV4</td><td>3</td><td>diff  </td><td>S24</td><td>HAstV4_3_diff_S24  </td><td>gut  </td></tr>\n",
       "\t<tr><th scope=row>S12</th><td>HAstV4</td><td>3</td><td>undiff</td><td>S12</td><td>HAstV4_3_undiff_S12</td><td>gut  </td></tr>\n",
       "\t<tr><th scope=row>S16</th><td>MLB2  </td><td>1</td><td>diff  </td><td>S16</td><td>MLB2_1_diff_S16    </td><td>gut  </td></tr>\n",
       "\t<tr><th scope=row>S4</th><td>MLB2  </td><td>1</td><td>undiff</td><td>S4 </td><td>MLB2_1_undiff_S4   </td><td>gut  </td></tr>\n",
       "\t<tr><th scope=row>S17</th><td>MLB2  </td><td>2</td><td>diff  </td><td>S17</td><td>MLB2_2_diff_S17    </td><td>gut  </td></tr>\n",
       "\t<tr><th scope=row>S5</th><td>MLB2  </td><td>2</td><td>undiff</td><td>S5 </td><td>MLB2_2_undiff_S5   </td><td>gut  </td></tr>\n",
       "\t<tr><th scope=row>S18</th><td>MLB2  </td><td>3</td><td>diff  </td><td>S18</td><td>MLB2_3_diff_S18    </td><td>gut  </td></tr>\n",
       "\t<tr><th scope=row>S6</th><td>MLB2  </td><td>3</td><td>undiff</td><td>S6 </td><td>MLB2_3_undiff_S6   </td><td>gut  </td></tr>\n",
       "\t<tr><th scope=row>S13</th><td>Mock  </td><td>1</td><td>diff  </td><td>S13</td><td>Mock_1_diff_S13    </td><td>gut  </td></tr>\n",
       "\t<tr><th scope=row>S1</th><td>Mock  </td><td>1</td><td>undiff</td><td>S1 </td><td>Mock_1_undiff_S1   </td><td>gut  </td></tr>\n",
       "\t<tr><th scope=row>S14</th><td>Mock  </td><td>2</td><td>diff  </td><td>S14</td><td>Mock_2_diff_S14    </td><td>gut  </td></tr>\n",
       "\t<tr><th scope=row>S2</th><td>Mock  </td><td>2</td><td>undiff</td><td>S2 </td><td>Mock_2_undiff_S2   </td><td>gut  </td></tr>\n",
       "\t<tr><th scope=row>S15</th><td>Mock  </td><td>3</td><td>diff  </td><td>S15</td><td>Mock_3_diff_S15    </td><td>gut  </td></tr>\n",
       "\t<tr><th scope=row>S3</th><td>Mock  </td><td>3</td><td>undiff</td><td>S3 </td><td>Mock_3_undiff_S3   </td><td>gut  </td></tr>\n",
       "\t<tr><th scope=row>S19</th><td>VA1   </td><td>1</td><td>diff  </td><td>S19</td><td>VA1_1_diff_S19     </td><td>gut  </td></tr>\n",
       "\t<tr><th scope=row>S7</th><td>VA1   </td><td>1</td><td>undiff</td><td>S7 </td><td>VA1_1_undiff_S7    </td><td>gut  </td></tr>\n",
       "\t<tr><th scope=row>S20</th><td>VA1   </td><td>2</td><td>diff  </td><td>S20</td><td>VA1_2_diff_S20     </td><td>gut  </td></tr>\n",
       "\t<tr><th scope=row>S8</th><td>VA1   </td><td>2</td><td>undiff</td><td>S8 </td><td>VA1_2_undiff_S8    </td><td>gut  </td></tr>\n",
       "\t<tr><th scope=row>S21</th><td>VA1   </td><td>3</td><td>diff  </td><td>S21</td><td>VA1_3_diff_S21     </td><td>gut  </td></tr>\n",
       "\t<tr><th scope=row>S9</th><td>HAstV4</td><td>1</td><td>undiff</td><td>S9 </td><td>HAstV4_1_undiff_S9 </td><td>gut  </td></tr>\n",
       "</tbody>\n",
       "</table>\n"
      ],
      "text/latex": [
       "A data.frame: 32 × 6\n",
       "\\begin{tabular}{r|llllll}\n",
       "  & virus & replicate & organoid\\_stage & id & name & tissue\\\\\n",
       "  & <chr> & <chr> & <chr> & <chr> & <chr> & <chr>\\\\\n",
       "\\hline\n",
       "\tVL1 & MLB2   & 1 & 4d     & VL1 & MLB2\\_s1             & brain\\\\\n",
       "\tVL2 & MLB2   & 2 & 4d     & VL2 & MLB2\\_s2             & brain\\\\\n",
       "\tVL3 & VA1    & 1 & 4d     & VL3 & VA1\\_s1              & brain\\\\\n",
       "\tVL4 & VA1    & 2 & 4d     & VL4 & VA1\\_s2              & brain\\\\\n",
       "\tVL5 & HAstV4 & 1 & 4d     & VL5 & HAstV4\\_s1           & brain\\\\\n",
       "\tVL6 & HAstV4 & 2 & 4d     & VL6 & HAstV4\\_s2           & brain\\\\\n",
       "\tVL7 & Mock   & 1 & 4d     & VL7 & mock\\_s1             & brain\\\\\n",
       "\tVL8 & Mock   & 2 & 4d     & VL8 & mock\\_s2             & brain\\\\\n",
       "\tS22 & HAstV4 & 1 & diff   & S22 & HAstV4\\_1\\_diff\\_S22   & gut  \\\\\n",
       "\tS10 & VA1    & 3 & undiff & S10 & VA1\\_3\\_undiff\\_S10    & gut  \\\\\n",
       "\tS23 & HAstV4 & 2 & diff   & S23 & HAstV4\\_2\\_diff\\_S23   & gut  \\\\\n",
       "\tS11 & HAstV4 & 2 & undiff & S11 & HAstV4\\_2\\_undiff\\_S11 & gut  \\\\\n",
       "\tS24 & HAstV4 & 3 & diff   & S24 & HAstV4\\_3\\_diff\\_S24   & gut  \\\\\n",
       "\tS12 & HAstV4 & 3 & undiff & S12 & HAstV4\\_3\\_undiff\\_S12 & gut  \\\\\n",
       "\tS16 & MLB2   & 1 & diff   & S16 & MLB2\\_1\\_diff\\_S16     & gut  \\\\\n",
       "\tS4 & MLB2   & 1 & undiff & S4  & MLB2\\_1\\_undiff\\_S4    & gut  \\\\\n",
       "\tS17 & MLB2   & 2 & diff   & S17 & MLB2\\_2\\_diff\\_S17     & gut  \\\\\n",
       "\tS5 & MLB2   & 2 & undiff & S5  & MLB2\\_2\\_undiff\\_S5    & gut  \\\\\n",
       "\tS18 & MLB2   & 3 & diff   & S18 & MLB2\\_3\\_diff\\_S18     & gut  \\\\\n",
       "\tS6 & MLB2   & 3 & undiff & S6  & MLB2\\_3\\_undiff\\_S6    & gut  \\\\\n",
       "\tS13 & Mock   & 1 & diff   & S13 & Mock\\_1\\_diff\\_S13     & gut  \\\\\n",
       "\tS1 & Mock   & 1 & undiff & S1  & Mock\\_1\\_undiff\\_S1    & gut  \\\\\n",
       "\tS14 & Mock   & 2 & diff   & S14 & Mock\\_2\\_diff\\_S14     & gut  \\\\\n",
       "\tS2 & Mock   & 2 & undiff & S2  & Mock\\_2\\_undiff\\_S2    & gut  \\\\\n",
       "\tS15 & Mock   & 3 & diff   & S15 & Mock\\_3\\_diff\\_S15     & gut  \\\\\n",
       "\tS3 & Mock   & 3 & undiff & S3  & Mock\\_3\\_undiff\\_S3    & gut  \\\\\n",
       "\tS19 & VA1    & 1 & diff   & S19 & VA1\\_1\\_diff\\_S19      & gut  \\\\\n",
       "\tS7 & VA1    & 1 & undiff & S7  & VA1\\_1\\_undiff\\_S7     & gut  \\\\\n",
       "\tS20 & VA1    & 2 & diff   & S20 & VA1\\_2\\_diff\\_S20      & gut  \\\\\n",
       "\tS8 & VA1    & 2 & undiff & S8  & VA1\\_2\\_undiff\\_S8     & gut  \\\\\n",
       "\tS21 & VA1    & 3 & diff   & S21 & VA1\\_3\\_diff\\_S21      & gut  \\\\\n",
       "\tS9 & HAstV4 & 1 & undiff & S9  & HAstV4\\_1\\_undiff\\_S9  & gut  \\\\\n",
       "\\end{tabular}\n"
      ],
      "text/markdown": [
       "\n",
       "A data.frame: 32 × 6\n",
       "\n",
       "| <!--/--> | virus &lt;chr&gt; | replicate &lt;chr&gt; | organoid_stage &lt;chr&gt; | id &lt;chr&gt; | name &lt;chr&gt; | tissue &lt;chr&gt; |\n",
       "|---|---|---|---|---|---|---|\n",
       "| VL1 | MLB2   | 1 | 4d     | VL1 | MLB2_s1             | brain |\n",
       "| VL2 | MLB2   | 2 | 4d     | VL2 | MLB2_s2             | brain |\n",
       "| VL3 | VA1    | 1 | 4d     | VL3 | VA1_s1              | brain |\n",
       "| VL4 | VA1    | 2 | 4d     | VL4 | VA1_s2              | brain |\n",
       "| VL5 | HAstV4 | 1 | 4d     | VL5 | HAstV4_s1           | brain |\n",
       "| VL6 | HAstV4 | 2 | 4d     | VL6 | HAstV4_s2           | brain |\n",
       "| VL7 | Mock   | 1 | 4d     | VL7 | mock_s1             | brain |\n",
       "| VL8 | Mock   | 2 | 4d     | VL8 | mock_s2             | brain |\n",
       "| S22 | HAstV4 | 1 | diff   | S22 | HAstV4_1_diff_S22   | gut   |\n",
       "| S10 | VA1    | 3 | undiff | S10 | VA1_3_undiff_S10    | gut   |\n",
       "| S23 | HAstV4 | 2 | diff   | S23 | HAstV4_2_diff_S23   | gut   |\n",
       "| S11 | HAstV4 | 2 | undiff | S11 | HAstV4_2_undiff_S11 | gut   |\n",
       "| S24 | HAstV4 | 3 | diff   | S24 | HAstV4_3_diff_S24   | gut   |\n",
       "| S12 | HAstV4 | 3 | undiff | S12 | HAstV4_3_undiff_S12 | gut   |\n",
       "| S16 | MLB2   | 1 | diff   | S16 | MLB2_1_diff_S16     | gut   |\n",
       "| S4 | MLB2   | 1 | undiff | S4  | MLB2_1_undiff_S4    | gut   |\n",
       "| S17 | MLB2   | 2 | diff   | S17 | MLB2_2_diff_S17     | gut   |\n",
       "| S5 | MLB2   | 2 | undiff | S5  | MLB2_2_undiff_S5    | gut   |\n",
       "| S18 | MLB2   | 3 | diff   | S18 | MLB2_3_diff_S18     | gut   |\n",
       "| S6 | MLB2   | 3 | undiff | S6  | MLB2_3_undiff_S6    | gut   |\n",
       "| S13 | Mock   | 1 | diff   | S13 | Mock_1_diff_S13     | gut   |\n",
       "| S1 | Mock   | 1 | undiff | S1  | Mock_1_undiff_S1    | gut   |\n",
       "| S14 | Mock   | 2 | diff   | S14 | Mock_2_diff_S14     | gut   |\n",
       "| S2 | Mock   | 2 | undiff | S2  | Mock_2_undiff_S2    | gut   |\n",
       "| S15 | Mock   | 3 | diff   | S15 | Mock_3_diff_S15     | gut   |\n",
       "| S3 | Mock   | 3 | undiff | S3  | Mock_3_undiff_S3    | gut   |\n",
       "| S19 | VA1    | 1 | diff   | S19 | VA1_1_diff_S19      | gut   |\n",
       "| S7 | VA1    | 1 | undiff | S7  | VA1_1_undiff_S7     | gut   |\n",
       "| S20 | VA1    | 2 | diff   | S20 | VA1_2_diff_S20      | gut   |\n",
       "| S8 | VA1    | 2 | undiff | S8  | VA1_2_undiff_S8     | gut   |\n",
       "| S21 | VA1    | 3 | diff   | S21 | VA1_3_diff_S21      | gut   |\n",
       "| S9 | HAstV4 | 1 | undiff | S9  | HAstV4_1_undiff_S9  | gut   |\n",
       "\n"
      ],
      "text/plain": [
       "    virus  replicate organoid_stage id  name                tissue\n",
       "VL1 MLB2   1         4d             VL1 MLB2_s1             brain \n",
       "VL2 MLB2   2         4d             VL2 MLB2_s2             brain \n",
       "VL3 VA1    1         4d             VL3 VA1_s1              brain \n",
       "VL4 VA1    2         4d             VL4 VA1_s2              brain \n",
       "VL5 HAstV4 1         4d             VL5 HAstV4_s1           brain \n",
       "VL6 HAstV4 2         4d             VL6 HAstV4_s2           brain \n",
       "VL7 Mock   1         4d             VL7 mock_s1             brain \n",
       "VL8 Mock   2         4d             VL8 mock_s2             brain \n",
       "S22 HAstV4 1         diff           S22 HAstV4_1_diff_S22   gut   \n",
       "S10 VA1    3         undiff         S10 VA1_3_undiff_S10    gut   \n",
       "S23 HAstV4 2         diff           S23 HAstV4_2_diff_S23   gut   \n",
       "S11 HAstV4 2         undiff         S11 HAstV4_2_undiff_S11 gut   \n",
       "S24 HAstV4 3         diff           S24 HAstV4_3_diff_S24   gut   \n",
       "S12 HAstV4 3         undiff         S12 HAstV4_3_undiff_S12 gut   \n",
       "S16 MLB2   1         diff           S16 MLB2_1_diff_S16     gut   \n",
       "S4  MLB2   1         undiff         S4  MLB2_1_undiff_S4    gut   \n",
       "S17 MLB2   2         diff           S17 MLB2_2_diff_S17     gut   \n",
       "S5  MLB2   2         undiff         S5  MLB2_2_undiff_S5    gut   \n",
       "S18 MLB2   3         diff           S18 MLB2_3_diff_S18     gut   \n",
       "S6  MLB2   3         undiff         S6  MLB2_3_undiff_S6    gut   \n",
       "S13 Mock   1         diff           S13 Mock_1_diff_S13     gut   \n",
       "S1  Mock   1         undiff         S1  Mock_1_undiff_S1    gut   \n",
       "S14 Mock   2         diff           S14 Mock_2_diff_S14     gut   \n",
       "S2  Mock   2         undiff         S2  Mock_2_undiff_S2    gut   \n",
       "S15 Mock   3         diff           S15 Mock_3_diff_S15     gut   \n",
       "S3  Mock   3         undiff         S3  Mock_3_undiff_S3    gut   \n",
       "S19 VA1    1         diff           S19 VA1_1_diff_S19      gut   \n",
       "S7  VA1    1         undiff         S7  VA1_1_undiff_S7     gut   \n",
       "S20 VA1    2         diff           S20 VA1_2_diff_S20      gut   \n",
       "S8  VA1    2         undiff         S8  VA1_2_undiff_S8     gut   \n",
       "S21 VA1    3         diff           S21 VA1_3_diff_S21      gut   \n",
       "S9  HAstV4 1         undiff         S9  HAstV4_1_undiff_S9  gut   "
      ]
     },
     "metadata": {},
     "output_type": "display_data"
    }
   ],
   "source": [
    "samples=rbind(bsamples[,colnames(gsamples)],gsamples)\n",
    "samples"
   ]
  },
  {
   "cell_type": "code",
   "execution_count": 45,
   "id": "a212d5d0-0e43-42a9-b591-7e0e39e63055",
   "metadata": {},
   "outputs": [
    {
     "data": {
      "text/html": [
       "<table class=\"dataframe\">\n",
       "<caption>A data.frame: 32 × 6</caption>\n",
       "<thead>\n",
       "\t<tr><th></th><th scope=col>virus</th><th scope=col>replicate</th><th scope=col>organoid_stage</th><th scope=col>id</th><th scope=col>name</th><th scope=col>tissue</th></tr>\n",
       "\t<tr><th></th><th scope=col>&lt;chr&gt;</th><th scope=col>&lt;chr&gt;</th><th scope=col>&lt;chr&gt;</th><th scope=col>&lt;chr&gt;</th><th scope=col>&lt;chr&gt;</th><th scope=col>&lt;chr&gt;</th></tr>\n",
       "</thead>\n",
       "<tbody>\n",
       "\t<tr><th scope=row>VL1</th><td>MLB2  </td><td>1</td><td>4d    </td><td>VL1</td><td>MLB2_brain_4d_VL1    </td><td>brain</td></tr>\n",
       "\t<tr><th scope=row>VL2</th><td>MLB2  </td><td>2</td><td>4d    </td><td>VL2</td><td>MLB2_brain_4d_VL2    </td><td>brain</td></tr>\n",
       "\t<tr><th scope=row>VL3</th><td>VA1   </td><td>1</td><td>4d    </td><td>VL3</td><td>VA1_brain_4d_VL3     </td><td>brain</td></tr>\n",
       "\t<tr><th scope=row>VL4</th><td>VA1   </td><td>2</td><td>4d    </td><td>VL4</td><td>VA1_brain_4d_VL4     </td><td>brain</td></tr>\n",
       "\t<tr><th scope=row>VL5</th><td>HAstV4</td><td>1</td><td>4d    </td><td>VL5</td><td>HAstV4_brain_4d_VL5  </td><td>brain</td></tr>\n",
       "\t<tr><th scope=row>VL6</th><td>HAstV4</td><td>2</td><td>4d    </td><td>VL6</td><td>HAstV4_brain_4d_VL6  </td><td>brain</td></tr>\n",
       "\t<tr><th scope=row>VL7</th><td>Mock  </td><td>1</td><td>4d    </td><td>VL7</td><td>Mock_brain_4d_VL7    </td><td>brain</td></tr>\n",
       "\t<tr><th scope=row>VL8</th><td>Mock  </td><td>2</td><td>4d    </td><td>VL8</td><td>Mock_brain_4d_VL8    </td><td>brain</td></tr>\n",
       "\t<tr><th scope=row>S22</th><td>HAstV4</td><td>1</td><td>diff  </td><td>S22</td><td>HAstV4_gut_diff_S22  </td><td>gut  </td></tr>\n",
       "\t<tr><th scope=row>S10</th><td>VA1   </td><td>3</td><td>undiff</td><td>S10</td><td>VA1_gut_undiff_S10   </td><td>gut  </td></tr>\n",
       "\t<tr><th scope=row>S23</th><td>HAstV4</td><td>2</td><td>diff  </td><td>S23</td><td>HAstV4_gut_diff_S23  </td><td>gut  </td></tr>\n",
       "\t<tr><th scope=row>S11</th><td>HAstV4</td><td>2</td><td>undiff</td><td>S11</td><td>HAstV4_gut_undiff_S11</td><td>gut  </td></tr>\n",
       "\t<tr><th scope=row>S24</th><td>HAstV4</td><td>3</td><td>diff  </td><td>S24</td><td>HAstV4_gut_diff_S24  </td><td>gut  </td></tr>\n",
       "\t<tr><th scope=row>S12</th><td>HAstV4</td><td>3</td><td>undiff</td><td>S12</td><td>HAstV4_gut_undiff_S12</td><td>gut  </td></tr>\n",
       "\t<tr><th scope=row>S16</th><td>MLB2  </td><td>1</td><td>diff  </td><td>S16</td><td>MLB2_gut_diff_S16    </td><td>gut  </td></tr>\n",
       "\t<tr><th scope=row>S4</th><td>MLB2  </td><td>1</td><td>undiff</td><td>S4 </td><td>MLB2_gut_undiff_S4   </td><td>gut  </td></tr>\n",
       "\t<tr><th scope=row>S17</th><td>MLB2  </td><td>2</td><td>diff  </td><td>S17</td><td>MLB2_gut_diff_S17    </td><td>gut  </td></tr>\n",
       "\t<tr><th scope=row>S5</th><td>MLB2  </td><td>2</td><td>undiff</td><td>S5 </td><td>MLB2_gut_undiff_S5   </td><td>gut  </td></tr>\n",
       "\t<tr><th scope=row>S18</th><td>MLB2  </td><td>3</td><td>diff  </td><td>S18</td><td>MLB2_gut_diff_S18    </td><td>gut  </td></tr>\n",
       "\t<tr><th scope=row>S6</th><td>MLB2  </td><td>3</td><td>undiff</td><td>S6 </td><td>MLB2_gut_undiff_S6   </td><td>gut  </td></tr>\n",
       "\t<tr><th scope=row>S13</th><td>Mock  </td><td>1</td><td>diff  </td><td>S13</td><td>Mock_gut_diff_S13    </td><td>gut  </td></tr>\n",
       "\t<tr><th scope=row>S1</th><td>Mock  </td><td>1</td><td>undiff</td><td>S1 </td><td>Mock_gut_undiff_S1   </td><td>gut  </td></tr>\n",
       "\t<tr><th scope=row>S14</th><td>Mock  </td><td>2</td><td>diff  </td><td>S14</td><td>Mock_gut_diff_S14    </td><td>gut  </td></tr>\n",
       "\t<tr><th scope=row>S2</th><td>Mock  </td><td>2</td><td>undiff</td><td>S2 </td><td>Mock_gut_undiff_S2   </td><td>gut  </td></tr>\n",
       "\t<tr><th scope=row>S15</th><td>Mock  </td><td>3</td><td>diff  </td><td>S15</td><td>Mock_gut_diff_S15    </td><td>gut  </td></tr>\n",
       "\t<tr><th scope=row>S3</th><td>Mock  </td><td>3</td><td>undiff</td><td>S3 </td><td>Mock_gut_undiff_S3   </td><td>gut  </td></tr>\n",
       "\t<tr><th scope=row>S19</th><td>VA1   </td><td>1</td><td>diff  </td><td>S19</td><td>VA1_gut_diff_S19     </td><td>gut  </td></tr>\n",
       "\t<tr><th scope=row>S7</th><td>VA1   </td><td>1</td><td>undiff</td><td>S7 </td><td>VA1_gut_undiff_S7    </td><td>gut  </td></tr>\n",
       "\t<tr><th scope=row>S20</th><td>VA1   </td><td>2</td><td>diff  </td><td>S20</td><td>VA1_gut_diff_S20     </td><td>gut  </td></tr>\n",
       "\t<tr><th scope=row>S8</th><td>VA1   </td><td>2</td><td>undiff</td><td>S8 </td><td>VA1_gut_undiff_S8    </td><td>gut  </td></tr>\n",
       "\t<tr><th scope=row>S21</th><td>VA1   </td><td>3</td><td>diff  </td><td>S21</td><td>VA1_gut_diff_S21     </td><td>gut  </td></tr>\n",
       "\t<tr><th scope=row>S9</th><td>HAstV4</td><td>1</td><td>undiff</td><td>S9 </td><td>HAstV4_gut_undiff_S9 </td><td>gut  </td></tr>\n",
       "</tbody>\n",
       "</table>\n"
      ],
      "text/latex": [
       "A data.frame: 32 × 6\n",
       "\\begin{tabular}{r|llllll}\n",
       "  & virus & replicate & organoid\\_stage & id & name & tissue\\\\\n",
       "  & <chr> & <chr> & <chr> & <chr> & <chr> & <chr>\\\\\n",
       "\\hline\n",
       "\tVL1 & MLB2   & 1 & 4d     & VL1 & MLB2\\_brain\\_4d\\_VL1     & brain\\\\\n",
       "\tVL2 & MLB2   & 2 & 4d     & VL2 & MLB2\\_brain\\_4d\\_VL2     & brain\\\\\n",
       "\tVL3 & VA1    & 1 & 4d     & VL3 & VA1\\_brain\\_4d\\_VL3      & brain\\\\\n",
       "\tVL4 & VA1    & 2 & 4d     & VL4 & VA1\\_brain\\_4d\\_VL4      & brain\\\\\n",
       "\tVL5 & HAstV4 & 1 & 4d     & VL5 & HAstV4\\_brain\\_4d\\_VL5   & brain\\\\\n",
       "\tVL6 & HAstV4 & 2 & 4d     & VL6 & HAstV4\\_brain\\_4d\\_VL6   & brain\\\\\n",
       "\tVL7 & Mock   & 1 & 4d     & VL7 & Mock\\_brain\\_4d\\_VL7     & brain\\\\\n",
       "\tVL8 & Mock   & 2 & 4d     & VL8 & Mock\\_brain\\_4d\\_VL8     & brain\\\\\n",
       "\tS22 & HAstV4 & 1 & diff   & S22 & HAstV4\\_gut\\_diff\\_S22   & gut  \\\\\n",
       "\tS10 & VA1    & 3 & undiff & S10 & VA1\\_gut\\_undiff\\_S10    & gut  \\\\\n",
       "\tS23 & HAstV4 & 2 & diff   & S23 & HAstV4\\_gut\\_diff\\_S23   & gut  \\\\\n",
       "\tS11 & HAstV4 & 2 & undiff & S11 & HAstV4\\_gut\\_undiff\\_S11 & gut  \\\\\n",
       "\tS24 & HAstV4 & 3 & diff   & S24 & HAstV4\\_gut\\_diff\\_S24   & gut  \\\\\n",
       "\tS12 & HAstV4 & 3 & undiff & S12 & HAstV4\\_gut\\_undiff\\_S12 & gut  \\\\\n",
       "\tS16 & MLB2   & 1 & diff   & S16 & MLB2\\_gut\\_diff\\_S16     & gut  \\\\\n",
       "\tS4 & MLB2   & 1 & undiff & S4  & MLB2\\_gut\\_undiff\\_S4    & gut  \\\\\n",
       "\tS17 & MLB2   & 2 & diff   & S17 & MLB2\\_gut\\_diff\\_S17     & gut  \\\\\n",
       "\tS5 & MLB2   & 2 & undiff & S5  & MLB2\\_gut\\_undiff\\_S5    & gut  \\\\\n",
       "\tS18 & MLB2   & 3 & diff   & S18 & MLB2\\_gut\\_diff\\_S18     & gut  \\\\\n",
       "\tS6 & MLB2   & 3 & undiff & S6  & MLB2\\_gut\\_undiff\\_S6    & gut  \\\\\n",
       "\tS13 & Mock   & 1 & diff   & S13 & Mock\\_gut\\_diff\\_S13     & gut  \\\\\n",
       "\tS1 & Mock   & 1 & undiff & S1  & Mock\\_gut\\_undiff\\_S1    & gut  \\\\\n",
       "\tS14 & Mock   & 2 & diff   & S14 & Mock\\_gut\\_diff\\_S14     & gut  \\\\\n",
       "\tS2 & Mock   & 2 & undiff & S2  & Mock\\_gut\\_undiff\\_S2    & gut  \\\\\n",
       "\tS15 & Mock   & 3 & diff   & S15 & Mock\\_gut\\_diff\\_S15     & gut  \\\\\n",
       "\tS3 & Mock   & 3 & undiff & S3  & Mock\\_gut\\_undiff\\_S3    & gut  \\\\\n",
       "\tS19 & VA1    & 1 & diff   & S19 & VA1\\_gut\\_diff\\_S19      & gut  \\\\\n",
       "\tS7 & VA1    & 1 & undiff & S7  & VA1\\_gut\\_undiff\\_S7     & gut  \\\\\n",
       "\tS20 & VA1    & 2 & diff   & S20 & VA1\\_gut\\_diff\\_S20      & gut  \\\\\n",
       "\tS8 & VA1    & 2 & undiff & S8  & VA1\\_gut\\_undiff\\_S8     & gut  \\\\\n",
       "\tS21 & VA1    & 3 & diff   & S21 & VA1\\_gut\\_diff\\_S21      & gut  \\\\\n",
       "\tS9 & HAstV4 & 1 & undiff & S9  & HAstV4\\_gut\\_undiff\\_S9  & gut  \\\\\n",
       "\\end{tabular}\n"
      ],
      "text/markdown": [
       "\n",
       "A data.frame: 32 × 6\n",
       "\n",
       "| <!--/--> | virus &lt;chr&gt; | replicate &lt;chr&gt; | organoid_stage &lt;chr&gt; | id &lt;chr&gt; | name &lt;chr&gt; | tissue &lt;chr&gt; |\n",
       "|---|---|---|---|---|---|---|\n",
       "| VL1 | MLB2   | 1 | 4d     | VL1 | MLB2_brain_4d_VL1     | brain |\n",
       "| VL2 | MLB2   | 2 | 4d     | VL2 | MLB2_brain_4d_VL2     | brain |\n",
       "| VL3 | VA1    | 1 | 4d     | VL3 | VA1_brain_4d_VL3      | brain |\n",
       "| VL4 | VA1    | 2 | 4d     | VL4 | VA1_brain_4d_VL4      | brain |\n",
       "| VL5 | HAstV4 | 1 | 4d     | VL5 | HAstV4_brain_4d_VL5   | brain |\n",
       "| VL6 | HAstV4 | 2 | 4d     | VL6 | HAstV4_brain_4d_VL6   | brain |\n",
       "| VL7 | Mock   | 1 | 4d     | VL7 | Mock_brain_4d_VL7     | brain |\n",
       "| VL8 | Mock   | 2 | 4d     | VL8 | Mock_brain_4d_VL8     | brain |\n",
       "| S22 | HAstV4 | 1 | diff   | S22 | HAstV4_gut_diff_S22   | gut   |\n",
       "| S10 | VA1    | 3 | undiff | S10 | VA1_gut_undiff_S10    | gut   |\n",
       "| S23 | HAstV4 | 2 | diff   | S23 | HAstV4_gut_diff_S23   | gut   |\n",
       "| S11 | HAstV4 | 2 | undiff | S11 | HAstV4_gut_undiff_S11 | gut   |\n",
       "| S24 | HAstV4 | 3 | diff   | S24 | HAstV4_gut_diff_S24   | gut   |\n",
       "| S12 | HAstV4 | 3 | undiff | S12 | HAstV4_gut_undiff_S12 | gut   |\n",
       "| S16 | MLB2   | 1 | diff   | S16 | MLB2_gut_diff_S16     | gut   |\n",
       "| S4 | MLB2   | 1 | undiff | S4  | MLB2_gut_undiff_S4    | gut   |\n",
       "| S17 | MLB2   | 2 | diff   | S17 | MLB2_gut_diff_S17     | gut   |\n",
       "| S5 | MLB2   | 2 | undiff | S5  | MLB2_gut_undiff_S5    | gut   |\n",
       "| S18 | MLB2   | 3 | diff   | S18 | MLB2_gut_diff_S18     | gut   |\n",
       "| S6 | MLB2   | 3 | undiff | S6  | MLB2_gut_undiff_S6    | gut   |\n",
       "| S13 | Mock   | 1 | diff   | S13 | Mock_gut_diff_S13     | gut   |\n",
       "| S1 | Mock   | 1 | undiff | S1  | Mock_gut_undiff_S1    | gut   |\n",
       "| S14 | Mock   | 2 | diff   | S14 | Mock_gut_diff_S14     | gut   |\n",
       "| S2 | Mock   | 2 | undiff | S2  | Mock_gut_undiff_S2    | gut   |\n",
       "| S15 | Mock   | 3 | diff   | S15 | Mock_gut_diff_S15     | gut   |\n",
       "| S3 | Mock   | 3 | undiff | S3  | Mock_gut_undiff_S3    | gut   |\n",
       "| S19 | VA1    | 1 | diff   | S19 | VA1_gut_diff_S19      | gut   |\n",
       "| S7 | VA1    | 1 | undiff | S7  | VA1_gut_undiff_S7     | gut   |\n",
       "| S20 | VA1    | 2 | diff   | S20 | VA1_gut_diff_S20      | gut   |\n",
       "| S8 | VA1    | 2 | undiff | S8  | VA1_gut_undiff_S8     | gut   |\n",
       "| S21 | VA1    | 3 | diff   | S21 | VA1_gut_diff_S21      | gut   |\n",
       "| S9 | HAstV4 | 1 | undiff | S9  | HAstV4_gut_undiff_S9  | gut   |\n",
       "\n"
      ],
      "text/plain": [
       "    virus  replicate organoid_stage id  name                  tissue\n",
       "VL1 MLB2   1         4d             VL1 MLB2_brain_4d_VL1     brain \n",
       "VL2 MLB2   2         4d             VL2 MLB2_brain_4d_VL2     brain \n",
       "VL3 VA1    1         4d             VL3 VA1_brain_4d_VL3      brain \n",
       "VL4 VA1    2         4d             VL4 VA1_brain_4d_VL4      brain \n",
       "VL5 HAstV4 1         4d             VL5 HAstV4_brain_4d_VL5   brain \n",
       "VL6 HAstV4 2         4d             VL6 HAstV4_brain_4d_VL6   brain \n",
       "VL7 Mock   1         4d             VL7 Mock_brain_4d_VL7     brain \n",
       "VL8 Mock   2         4d             VL8 Mock_brain_4d_VL8     brain \n",
       "S22 HAstV4 1         diff           S22 HAstV4_gut_diff_S22   gut   \n",
       "S10 VA1    3         undiff         S10 VA1_gut_undiff_S10    gut   \n",
       "S23 HAstV4 2         diff           S23 HAstV4_gut_diff_S23   gut   \n",
       "S11 HAstV4 2         undiff         S11 HAstV4_gut_undiff_S11 gut   \n",
       "S24 HAstV4 3         diff           S24 HAstV4_gut_diff_S24   gut   \n",
       "S12 HAstV4 3         undiff         S12 HAstV4_gut_undiff_S12 gut   \n",
       "S16 MLB2   1         diff           S16 MLB2_gut_diff_S16     gut   \n",
       "S4  MLB2   1         undiff         S4  MLB2_gut_undiff_S4    gut   \n",
       "S17 MLB2   2         diff           S17 MLB2_gut_diff_S17     gut   \n",
       "S5  MLB2   2         undiff         S5  MLB2_gut_undiff_S5    gut   \n",
       "S18 MLB2   3         diff           S18 MLB2_gut_diff_S18     gut   \n",
       "S6  MLB2   3         undiff         S6  MLB2_gut_undiff_S6    gut   \n",
       "S13 Mock   1         diff           S13 Mock_gut_diff_S13     gut   \n",
       "S1  Mock   1         undiff         S1  Mock_gut_undiff_S1    gut   \n",
       "S14 Mock   2         diff           S14 Mock_gut_diff_S14     gut   \n",
       "S2  Mock   2         undiff         S2  Mock_gut_undiff_S2    gut   \n",
       "S15 Mock   3         diff           S15 Mock_gut_diff_S15     gut   \n",
       "S3  Mock   3         undiff         S3  Mock_gut_undiff_S3    gut   \n",
       "S19 VA1    1         diff           S19 VA1_gut_diff_S19      gut   \n",
       "S7  VA1    1         undiff         S7  VA1_gut_undiff_S7     gut   \n",
       "S20 VA1    2         diff           S20 VA1_gut_diff_S20      gut   \n",
       "S8  VA1    2         undiff         S8  VA1_gut_undiff_S8     gut   \n",
       "S21 VA1    3         diff           S21 VA1_gut_diff_S21      gut   \n",
       "S9  HAstV4 1         undiff         S9  HAstV4_gut_undiff_S9  gut   "
      ]
     },
     "metadata": {},
     "output_type": "display_data"
    }
   ],
   "source": [
    "samples$name=paste(samples$virus,samples$tissue, samples$organoid_stage, samples$id, sep=\"_\")\n",
    "samples"
   ]
  },
  {
   "cell_type": "code",
   "execution_count": 46,
   "id": "275e136e-313a-4e32-96b3-e3e6700b3518",
   "metadata": {},
   "outputs": [],
   "source": [
    "#write.table(samples, 'both_samples.tsv')"
   ]
  },
  {
   "cell_type": "code",
   "execution_count": 23,
   "id": "3f3c637a-8a6d-4504-bb60-7f06e56162cb",
   "metadata": {},
   "outputs": [
    {
     "data": {
      "text/html": [
       "<style>\n",
       ".list-inline {list-style: none; margin:0; padding: 0}\n",
       ".list-inline>li {display: inline-block}\n",
       ".list-inline>li:not(:last-child)::after {content: \"\\00b7\"; padding: 0 .5ex}\n",
       "</style>\n",
       "<ol class=list-inline><li>62757</li><li>8</li></ol>\n"
      ],
      "text/latex": [
       "\\begin{enumerate*}\n",
       "\\item 62757\n",
       "\\item 8\n",
       "\\end{enumerate*}\n"
      ],
      "text/markdown": [
       "1. 62757\n",
       "2. 8\n",
       "\n",
       "\n"
      ],
      "text/plain": [
       "[1] 62757     8"
      ]
     },
     "metadata": {},
     "output_type": "display_data"
    }
   ],
   "source": [
    "bcounts = as.matrix(read.csv('../../output/brain/counts_all_genes.csv',row.names = 1))\n",
    "dim(bcounts)"
   ]
  },
  {
   "cell_type": "code",
   "execution_count": 24,
   "id": "e573f8af-a2fc-44c8-aa06-2cf8689479ac",
   "metadata": {},
   "outputs": [
    {
     "data": {
      "text/html": [
       "<style>\n",
       ".list-inline {list-style: none; margin:0; padding: 0}\n",
       ".list-inline>li {display: inline-block}\n",
       ".list-inline>li:not(:last-child)::after {content: \"\\00b7\"; padding: 0 .5ex}\n",
       "</style>\n",
       "<ol class=list-inline><li>62757</li><li>24</li></ol>\n"
      ],
      "text/latex": [
       "\\begin{enumerate*}\n",
       "\\item 62757\n",
       "\\item 24\n",
       "\\end{enumerate*}\n"
      ],
      "text/markdown": [
       "1. 62757\n",
       "2. 24\n",
       "\n",
       "\n"
      ],
      "text/plain": [
       "[1] 62757    24"
      ]
     },
     "metadata": {},
     "output_type": "display_data"
    }
   ],
   "source": [
    "gcounts = as.matrix(read.csv('../../output/gut/counts_all_genes.csv',row.names = 1))\n",
    "dim(gcounts)"
   ]
  },
  {
   "cell_type": "code",
   "execution_count": 28,
   "id": "45eca704-0297-4f01-bf28-ba1d535d8f6e",
   "metadata": {},
   "outputs": [
    {
     "data": {
      "text/html": [
       "TRUE"
      ],
      "text/latex": [
       "TRUE"
      ],
      "text/markdown": [
       "TRUE"
      ],
      "text/plain": [
       "[1] TRUE"
      ]
     },
     "metadata": {},
     "output_type": "display_data"
    }
   ],
   "source": [
    "all(rownames(bcounts) == rownames(gcounts))"
   ]
  },
  {
   "cell_type": "code",
   "execution_count": 25,
   "id": "1f543e20-2853-449a-bb94-5aac8aafe43a",
   "metadata": {},
   "outputs": [],
   "source": [
    "bgenes = read.csv('../../output/brain/genes_brain.csv',row.names = 1)"
   ]
  },
  {
   "cell_type": "code",
   "execution_count": 26,
   "id": "e9f34c73-8c9e-4c20-a8f7-c37433280829",
   "metadata": {},
   "outputs": [],
   "source": [
    "ggenes = read.csv('../../output/gut/gut_genes.csv',row.names = 1)"
   ]
  },
  {
   "cell_type": "code",
   "execution_count": 29,
   "id": "0c37900a-a57e-4371-abee-f2bcddd94971",
   "metadata": {},
   "outputs": [
    {
     "data": {
      "text/html": [
       "<table class=\"dataframe\">\n",
       "<caption>A data.frame: 4 × 7</caption>\n",
       "<thead>\n",
       "\t<tr><th></th><th scope=col>chr</th><th scope=col>start</th><th scope=col>end</th><th scope=col>strand</th><th scope=col>gene_id</th><th scope=col>gene_name</th><th scope=col>gene_biotype</th></tr>\n",
       "\t<tr><th></th><th scope=col>&lt;chr&gt;</th><th scope=col>&lt;int&gt;</th><th scope=col>&lt;int&gt;</th><th scope=col>&lt;chr&gt;</th><th scope=col>&lt;chr&gt;</th><th scope=col>&lt;chr&gt;</th><th scope=col>&lt;chr&gt;</th></tr>\n",
       "</thead>\n",
       "<tbody>\n",
       "\t<tr><th scope=row>ENSG00000279928</th><td>1</td><td> 182696</td><td> 184174</td><td>+</td><td>ENSG00000279928</td><td>DDX11L17</td><td>unprocessed_pseudogene</td></tr>\n",
       "\t<tr><th scope=row>ENSG00000228037</th><td>1</td><td>2581560</td><td>2584533</td><td>+</td><td>ENSG00000228037</td><td>NA      </td><td>lncRNA                </td></tr>\n",
       "\t<tr><th scope=row>ENSG00000142611</th><td>1</td><td>3069168</td><td>3438621</td><td>+</td><td>ENSG00000142611</td><td>PRDM16  </td><td>protein_coding        </td></tr>\n",
       "\t<tr><th scope=row>ENSG00000284616</th><td>1</td><td>5301928</td><td>5307394</td><td>-</td><td>ENSG00000284616</td><td>NA      </td><td>lncRNA                </td></tr>\n",
       "</tbody>\n",
       "</table>\n"
      ],
      "text/latex": [
       "A data.frame: 4 × 7\n",
       "\\begin{tabular}{r|lllllll}\n",
       "  & chr & start & end & strand & gene\\_id & gene\\_name & gene\\_biotype\\\\\n",
       "  & <chr> & <int> & <int> & <chr> & <chr> & <chr> & <chr>\\\\\n",
       "\\hline\n",
       "\tENSG00000279928 & 1 &  182696 &  184174 & + & ENSG00000279928 & DDX11L17 & unprocessed\\_pseudogene\\\\\n",
       "\tENSG00000228037 & 1 & 2581560 & 2584533 & + & ENSG00000228037 & NA       & lncRNA                \\\\\n",
       "\tENSG00000142611 & 1 & 3069168 & 3438621 & + & ENSG00000142611 & PRDM16   & protein\\_coding        \\\\\n",
       "\tENSG00000284616 & 1 & 5301928 & 5307394 & - & ENSG00000284616 & NA       & lncRNA                \\\\\n",
       "\\end{tabular}\n"
      ],
      "text/markdown": [
       "\n",
       "A data.frame: 4 × 7\n",
       "\n",
       "| <!--/--> | chr &lt;chr&gt; | start &lt;int&gt; | end &lt;int&gt; | strand &lt;chr&gt; | gene_id &lt;chr&gt; | gene_name &lt;chr&gt; | gene_biotype &lt;chr&gt; |\n",
       "|---|---|---|---|---|---|---|---|\n",
       "| ENSG00000279928 | 1 |  182696 |  184174 | + | ENSG00000279928 | DDX11L17 | unprocessed_pseudogene |\n",
       "| ENSG00000228037 | 1 | 2581560 | 2584533 | + | ENSG00000228037 | NA       | lncRNA                 |\n",
       "| ENSG00000142611 | 1 | 3069168 | 3438621 | + | ENSG00000142611 | PRDM16   | protein_coding         |\n",
       "| ENSG00000284616 | 1 | 5301928 | 5307394 | - | ENSG00000284616 | NA       | lncRNA                 |\n",
       "\n"
      ],
      "text/plain": [
       "                chr start   end     strand gene_id         gene_name\n",
       "ENSG00000279928 1    182696  184174 +      ENSG00000279928 DDX11L17 \n",
       "ENSG00000228037 1   2581560 2584533 +      ENSG00000228037 NA       \n",
       "ENSG00000142611 1   3069168 3438621 +      ENSG00000142611 PRDM16   \n",
       "ENSG00000284616 1   5301928 5307394 -      ENSG00000284616 NA       \n",
       "                gene_biotype          \n",
       "ENSG00000279928 unprocessed_pseudogene\n",
       "ENSG00000228037 lncRNA                \n",
       "ENSG00000142611 protein_coding        \n",
       "ENSG00000284616 lncRNA                "
      ]
     },
     "metadata": {},
     "output_type": "display_data"
    }
   ],
   "source": [
    "ggenes[1:4,]"
   ]
  },
  {
   "cell_type": "code",
   "execution_count": 30,
   "id": "f7343ef2-4ab2-4be1-816b-8fabee146949",
   "metadata": {},
   "outputs": [
    {
     "data": {
      "text/html": [
       "<table class=\"dataframe\">\n",
       "<caption>A data.frame: 2 × 7</caption>\n",
       "<thead>\n",
       "\t<tr><th></th><th scope=col>chr</th><th scope=col>start</th><th scope=col>end</th><th scope=col>strand</th><th scope=col>gene_id</th><th scope=col>gene_name</th><th scope=col>gene_biotype</th></tr>\n",
       "\t<tr><th></th><th scope=col>&lt;chr&gt;</th><th scope=col>&lt;chr&gt;</th><th scope=col>&lt;chr&gt;</th><th scope=col>&lt;chr&gt;</th><th scope=col>&lt;chr&gt;</th><th scope=col>&lt;chr&gt;</th><th scope=col>&lt;chr&gt;</th></tr>\n",
       "</thead>\n",
       "<tbody>\n",
       "\t<tr><th scope=row>ENSG00000279928</th><td>1</td><td>+</td><td>ENSG00000279928</td><td>unprocessed_pseudogene</td><td>ENSG00000279928</td><td>DDX11L17</td><td>unprocessed_pseudogene</td></tr>\n",
       "\t<tr><th scope=row>ENSG00000228037</th><td>1</td><td>+</td><td>ENSG00000228037</td><td>lncRNA                </td><td>ENSG00000228037</td><td>NA      </td><td>lncRNA                </td></tr>\n",
       "</tbody>\n",
       "</table>\n"
      ],
      "text/latex": [
       "A data.frame: 2 × 7\n",
       "\\begin{tabular}{r|lllllll}\n",
       "  & chr & start & end & strand & gene\\_id & gene\\_name & gene\\_biotype\\\\\n",
       "  & <chr> & <chr> & <chr> & <chr> & <chr> & <chr> & <chr>\\\\\n",
       "\\hline\n",
       "\tENSG00000279928 & 1 & + & ENSG00000279928 & unprocessed\\_pseudogene & ENSG00000279928 & DDX11L17 & unprocessed\\_pseudogene\\\\\n",
       "\tENSG00000228037 & 1 & + & ENSG00000228037 & lncRNA                 & ENSG00000228037 & NA       & lncRNA                \\\\\n",
       "\\end{tabular}\n"
      ],
      "text/markdown": [
       "\n",
       "A data.frame: 2 × 7\n",
       "\n",
       "| <!--/--> | chr &lt;chr&gt; | start &lt;chr&gt; | end &lt;chr&gt; | strand &lt;chr&gt; | gene_id &lt;chr&gt; | gene_name &lt;chr&gt; | gene_biotype &lt;chr&gt; |\n",
       "|---|---|---|---|---|---|---|---|\n",
       "| ENSG00000279928 | 1 | + | ENSG00000279928 | unprocessed_pseudogene | ENSG00000279928 | DDX11L17 | unprocessed_pseudogene |\n",
       "| ENSG00000228037 | 1 | + | ENSG00000228037 | lncRNA                 | ENSG00000228037 | NA       | lncRNA                 |\n",
       "\n"
      ],
      "text/plain": [
       "                chr start end             strand                \n",
       "ENSG00000279928 1   +     ENSG00000279928 unprocessed_pseudogene\n",
       "ENSG00000228037 1   +     ENSG00000228037 lncRNA                \n",
       "                gene_id         gene_name gene_biotype          \n",
       "ENSG00000279928 ENSG00000279928 DDX11L17  unprocessed_pseudogene\n",
       "ENSG00000228037 ENSG00000228037 NA        lncRNA                "
      ]
     },
     "metadata": {},
     "output_type": "display_data"
    }
   ],
   "source": [
    "bgenes[1:2,]\n",
    "#weird columns, so we are using ggenes"
   ]
  },
  {
   "cell_type": "code",
   "execution_count": 31,
   "id": "8f7ae5f5-7a0d-458d-ab5f-af3319b18cde",
   "metadata": {},
   "outputs": [
    {
     "data": {
      "text/html": [
       "TRUE"
      ],
      "text/latex": [
       "TRUE"
      ],
      "text/markdown": [
       "TRUE"
      ],
      "text/plain": [
       "[1] TRUE"
      ]
     },
     "metadata": {},
     "output_type": "display_data"
    }
   ],
   "source": [
    "all(rownames(bcounts) == rownames(ggenes))"
   ]
  },
  {
   "cell_type": "code",
   "execution_count": 47,
   "id": "7ee1be96-e9fa-487d-b29a-2506ab2a7e3b",
   "metadata": {},
   "outputs": [
    {
     "data": {
      "text/html": [
       "<table class=\"dataframe\">\n",
       "<caption>A matrix: 4 × 32 of type int</caption>\n",
       "<thead>\n",
       "\t<tr><th></th><th scope=col>VL1</th><th scope=col>VL2</th><th scope=col>VL3</th><th scope=col>VL4</th><th scope=col>VL5</th><th scope=col>VL6</th><th scope=col>VL7</th><th scope=col>VL8</th><th scope=col>S22</th><th scope=col>S10</th><th scope=col>⋯</th><th scope=col>S14</th><th scope=col>S2</th><th scope=col>S15</th><th scope=col>S3</th><th scope=col>S19</th><th scope=col>S7</th><th scope=col>S20</th><th scope=col>S8</th><th scope=col>S21</th><th scope=col>S9</th></tr>\n",
       "</thead>\n",
       "<tbody>\n",
       "\t<tr><th scope=row>ENSG00000279928</th><td>  0</td><td>  0</td><td>  0</td><td>  0</td><td>  0</td><td>  0</td><td>  0</td><td>  0</td><td>  0</td><td>  0</td><td>⋯</td><td> 0</td><td>  0</td><td>  0</td><td>  0</td><td>  0</td><td>  0</td><td>  0</td><td>  0</td><td>  0</td><td>  0</td></tr>\n",
       "\t<tr><th scope=row>ENSG00000228037</th><td>  0</td><td>  7</td><td>  0</td><td>  0</td><td>  8</td><td>  3</td><td>  0</td><td>  0</td><td>  0</td><td>  0</td><td>⋯</td><td> 0</td><td>  0</td><td>  0</td><td>  0</td><td>  0</td><td> 11</td><td> 11</td><td>  0</td><td>  0</td><td>  0</td></tr>\n",
       "\t<tr><th scope=row>ENSG00000142611</th><td>362</td><td>678</td><td>397</td><td>488</td><td>622</td><td>578</td><td>342</td><td>466</td><td>195</td><td>247</td><td>⋯</td><td>89</td><td>315</td><td>503</td><td>469</td><td>184</td><td>374</td><td>194</td><td>252</td><td>198</td><td>304</td></tr>\n",
       "\t<tr><th scope=row>ENSG00000284616</th><td>  0</td><td>  0</td><td>  0</td><td>  0</td><td>  0</td><td>  0</td><td>  0</td><td>  0</td><td>  0</td><td>  0</td><td>⋯</td><td> 0</td><td>  0</td><td>  0</td><td>  0</td><td>  0</td><td>  0</td><td>  0</td><td>  0</td><td>  0</td><td>  0</td></tr>\n",
       "</tbody>\n",
       "</table>\n"
      ],
      "text/latex": [
       "A matrix: 4 × 32 of type int\n",
       "\\begin{tabular}{r|lllllllllllllllllllll}\n",
       "  & VL1 & VL2 & VL3 & VL4 & VL5 & VL6 & VL7 & VL8 & S22 & S10 & ⋯ & S14 & S2 & S15 & S3 & S19 & S7 & S20 & S8 & S21 & S9\\\\\n",
       "\\hline\n",
       "\tENSG00000279928 &   0 &   0 &   0 &   0 &   0 &   0 &   0 &   0 &   0 &   0 & ⋯ &  0 &   0 &   0 &   0 &   0 &   0 &   0 &   0 &   0 &   0\\\\\n",
       "\tENSG00000228037 &   0 &   7 &   0 &   0 &   8 &   3 &   0 &   0 &   0 &   0 & ⋯ &  0 &   0 &   0 &   0 &   0 &  11 &  11 &   0 &   0 &   0\\\\\n",
       "\tENSG00000142611 & 362 & 678 & 397 & 488 & 622 & 578 & 342 & 466 & 195 & 247 & ⋯ & 89 & 315 & 503 & 469 & 184 & 374 & 194 & 252 & 198 & 304\\\\\n",
       "\tENSG00000284616 &   0 &   0 &   0 &   0 &   0 &   0 &   0 &   0 &   0 &   0 & ⋯ &  0 &   0 &   0 &   0 &   0 &   0 &   0 &   0 &   0 &   0\\\\\n",
       "\\end{tabular}\n"
      ],
      "text/markdown": [
       "\n",
       "A matrix: 4 × 32 of type int\n",
       "\n",
       "| <!--/--> | VL1 | VL2 | VL3 | VL4 | VL5 | VL6 | VL7 | VL8 | S22 | S10 | ⋯ | S14 | S2 | S15 | S3 | S19 | S7 | S20 | S8 | S21 | S9 |\n",
       "|---|---|---|---|---|---|---|---|---|---|---|---|---|---|---|---|---|---|---|---|---|---|\n",
       "| ENSG00000279928 |   0 |   0 |   0 |   0 |   0 |   0 |   0 |   0 |   0 |   0 | ⋯ |  0 |   0 |   0 |   0 |   0 |   0 |   0 |   0 |   0 |   0 |\n",
       "| ENSG00000228037 |   0 |   7 |   0 |   0 |   8 |   3 |   0 |   0 |   0 |   0 | ⋯ |  0 |   0 |   0 |   0 |   0 |  11 |  11 |   0 |   0 |   0 |\n",
       "| ENSG00000142611 | 362 | 678 | 397 | 488 | 622 | 578 | 342 | 466 | 195 | 247 | ⋯ | 89 | 315 | 503 | 469 | 184 | 374 | 194 | 252 | 198 | 304 |\n",
       "| ENSG00000284616 |   0 |   0 |   0 |   0 |   0 |   0 |   0 |   0 |   0 |   0 | ⋯ |  0 |   0 |   0 |   0 |   0 |   0 |   0 |   0 |   0 |   0 |\n",
       "\n"
      ],
      "text/plain": [
       "                VL1 VL2 VL3 VL4 VL5 VL6 VL7 VL8 S22 S10 ⋯ S14 S2  S15 S3  S19\n",
       "ENSG00000279928   0   0   0   0   0   0   0   0   0   0 ⋯  0    0   0   0   0\n",
       "ENSG00000228037   0   7   0   0   8   3   0   0   0   0 ⋯  0    0   0   0   0\n",
       "ENSG00000142611 362 678 397 488 622 578 342 466 195 247 ⋯ 89  315 503 469 184\n",
       "ENSG00000284616   0   0   0   0   0   0   0   0   0   0 ⋯  0    0   0   0   0\n",
       "                S7  S20 S8  S21 S9 \n",
       "ENSG00000279928   0   0   0   0   0\n",
       "ENSG00000228037  11  11   0   0   0\n",
       "ENSG00000142611 374 194 252 198 304\n",
       "ENSG00000284616   0   0   0   0   0"
      ]
     },
     "metadata": {},
     "output_type": "display_data"
    }
   ],
   "source": [
    "counts=cbind(bcounts,gcounts)\n",
    "counts[1:4,]\n",
    "write.table(counts, 'both_counts.tsv')"
   ]
  },
  {
   "cell_type": "code",
   "execution_count": 33,
   "id": "7168dc48-954f-40ad-9788-a56c1447daba",
   "metadata": {},
   "outputs": [
    {
     "data": {
      "text/html": [
       "<style>\n",
       ".list-inline {list-style: none; margin:0; padding: 0}\n",
       ".list-inline>li {display: inline-block}\n",
       ".list-inline>li:not(:last-child)::after {content: \"\\00b7\"; padding: 0 .5ex}\n",
       "</style>\n",
       "<ol class=list-inline><li>TRUE</li><li>TRUE</li><li>TRUE</li><li>TRUE</li><li>TRUE</li><li>TRUE</li><li>TRUE</li><li>TRUE</li><li>TRUE</li><li>TRUE</li><li>TRUE</li><li>TRUE</li><li>TRUE</li><li>TRUE</li><li>TRUE</li><li>TRUE</li><li>TRUE</li><li>TRUE</li><li>TRUE</li><li>TRUE</li><li>TRUE</li><li>TRUE</li><li>TRUE</li><li>TRUE</li><li>TRUE</li><li>TRUE</li><li>TRUE</li><li>TRUE</li><li>TRUE</li><li>TRUE</li><li>TRUE</li><li>TRUE</li></ol>\n"
      ],
      "text/latex": [
       "\\begin{enumerate*}\n",
       "\\item TRUE\n",
       "\\item TRUE\n",
       "\\item TRUE\n",
       "\\item TRUE\n",
       "\\item TRUE\n",
       "\\item TRUE\n",
       "\\item TRUE\n",
       "\\item TRUE\n",
       "\\item TRUE\n",
       "\\item TRUE\n",
       "\\item TRUE\n",
       "\\item TRUE\n",
       "\\item TRUE\n",
       "\\item TRUE\n",
       "\\item TRUE\n",
       "\\item TRUE\n",
       "\\item TRUE\n",
       "\\item TRUE\n",
       "\\item TRUE\n",
       "\\item TRUE\n",
       "\\item TRUE\n",
       "\\item TRUE\n",
       "\\item TRUE\n",
       "\\item TRUE\n",
       "\\item TRUE\n",
       "\\item TRUE\n",
       "\\item TRUE\n",
       "\\item TRUE\n",
       "\\item TRUE\n",
       "\\item TRUE\n",
       "\\item TRUE\n",
       "\\item TRUE\n",
       "\\end{enumerate*}\n"
      ],
      "text/markdown": [
       "1. TRUE\n",
       "2. TRUE\n",
       "3. TRUE\n",
       "4. TRUE\n",
       "5. TRUE\n",
       "6. TRUE\n",
       "7. TRUE\n",
       "8. TRUE\n",
       "9. TRUE\n",
       "10. TRUE\n",
       "11. TRUE\n",
       "12. TRUE\n",
       "13. TRUE\n",
       "14. TRUE\n",
       "15. TRUE\n",
       "16. TRUE\n",
       "17. TRUE\n",
       "18. TRUE\n",
       "19. TRUE\n",
       "20. TRUE\n",
       "21. TRUE\n",
       "22. TRUE\n",
       "23. TRUE\n",
       "24. TRUE\n",
       "25. TRUE\n",
       "26. TRUE\n",
       "27. TRUE\n",
       "28. TRUE\n",
       "29. TRUE\n",
       "30. TRUE\n",
       "31. TRUE\n",
       "32. TRUE\n",
       "\n",
       "\n"
      ],
      "text/plain": [
       " [1] TRUE TRUE TRUE TRUE TRUE TRUE TRUE TRUE TRUE TRUE TRUE TRUE TRUE TRUE TRUE\n",
       "[16] TRUE TRUE TRUE TRUE TRUE TRUE TRUE TRUE TRUE TRUE TRUE TRUE TRUE TRUE TRUE\n",
       "[31] TRUE TRUE"
      ]
     },
     "metadata": {},
     "output_type": "display_data"
    }
   ],
   "source": [
    "colnames(counts)==rownames(samples)"
   ]
  },
  {
   "cell_type": "code",
   "execution_count": null,
   "id": "ba534f2f-9379-408e-9b90-d9a87f090892",
   "metadata": {},
   "outputs": [],
   "source": []
  }
 ],
 "metadata": {
  "kernelspec": {
   "display_name": "R",
   "language": "R",
   "name": "ir"
  },
  "language_info": {
   "codemirror_mode": "r",
   "file_extension": ".r",
   "mimetype": "text/x-r-source",
   "name": "R",
   "pygments_lexer": "r",
   "version": "4.4.2"
  }
 },
 "nbformat": 4,
 "nbformat_minor": 5
}
