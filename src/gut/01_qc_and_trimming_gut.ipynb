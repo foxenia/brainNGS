{
 "cells": [
  {
   "cell_type": "markdown",
   "id": "fe7e68d4-21d3-46a5-9bd3-3774d00f1798",
   "metadata": {},
   "source": [
    "# Create sample table"
   ]
  },
  {
   "cell_type": "code",
   "execution_count": 1,
   "id": "18a01d07-60ce-4579-93cf-612ecc308e00",
   "metadata": {},
   "outputs": [
    {
     "data": {
      "text/html": [
       "<table class=\"dataframe\">\n",
       "<caption>A data.frame: 24 × 1</caption>\n",
       "<thead>\n",
       "\t<tr><th scope=col>id</th></tr>\n",
       "\t<tr><th scope=col>&lt;int&gt;</th></tr>\n",
       "</thead>\n",
       "<tbody>\n",
       "\t<tr><td> 1</td></tr>\n",
       "\t<tr><td> 2</td></tr>\n",
       "\t<tr><td> 3</td></tr>\n",
       "\t<tr><td> 4</td></tr>\n",
       "\t<tr><td> 5</td></tr>\n",
       "\t<tr><td> 6</td></tr>\n",
       "\t<tr><td> 7</td></tr>\n",
       "\t<tr><td> 8</td></tr>\n",
       "\t<tr><td> 9</td></tr>\n",
       "\t<tr><td>10</td></tr>\n",
       "\t<tr><td>11</td></tr>\n",
       "\t<tr><td>12</td></tr>\n",
       "\t<tr><td>13</td></tr>\n",
       "\t<tr><td>14</td></tr>\n",
       "\t<tr><td>15</td></tr>\n",
       "\t<tr><td>16</td></tr>\n",
       "\t<tr><td>17</td></tr>\n",
       "\t<tr><td>18</td></tr>\n",
       "\t<tr><td>19</td></tr>\n",
       "\t<tr><td>20</td></tr>\n",
       "\t<tr><td>21</td></tr>\n",
       "\t<tr><td>22</td></tr>\n",
       "\t<tr><td>23</td></tr>\n",
       "\t<tr><td>24</td></tr>\n",
       "</tbody>\n",
       "</table>\n"
      ],
      "text/latex": [
       "A data.frame: 24 × 1\n",
       "\\begin{tabular}{l}\n",
       " id\\\\\n",
       " <int>\\\\\n",
       "\\hline\n",
       "\t  1\\\\\n",
       "\t  2\\\\\n",
       "\t  3\\\\\n",
       "\t  4\\\\\n",
       "\t  5\\\\\n",
       "\t  6\\\\\n",
       "\t  7\\\\\n",
       "\t  8\\\\\n",
       "\t  9\\\\\n",
       "\t 10\\\\\n",
       "\t 11\\\\\n",
       "\t 12\\\\\n",
       "\t 13\\\\\n",
       "\t 14\\\\\n",
       "\t 15\\\\\n",
       "\t 16\\\\\n",
       "\t 17\\\\\n",
       "\t 18\\\\\n",
       "\t 19\\\\\n",
       "\t 20\\\\\n",
       "\t 21\\\\\n",
       "\t 22\\\\\n",
       "\t 23\\\\\n",
       "\t 24\\\\\n",
       "\\end{tabular}\n"
      ],
      "text/markdown": [
       "\n",
       "A data.frame: 24 × 1\n",
       "\n",
       "| id &lt;int&gt; |\n",
       "|---|\n",
       "|  1 |\n",
       "|  2 |\n",
       "|  3 |\n",
       "|  4 |\n",
       "|  5 |\n",
       "|  6 |\n",
       "|  7 |\n",
       "|  8 |\n",
       "|  9 |\n",
       "| 10 |\n",
       "| 11 |\n",
       "| 12 |\n",
       "| 13 |\n",
       "| 14 |\n",
       "| 15 |\n",
       "| 16 |\n",
       "| 17 |\n",
       "| 18 |\n",
       "| 19 |\n",
       "| 20 |\n",
       "| 21 |\n",
       "| 22 |\n",
       "| 23 |\n",
       "| 24 |\n",
       "\n"
      ],
      "text/plain": [
       "   id\n",
       "1   1\n",
       "2   2\n",
       "3   3\n",
       "4   4\n",
       "5   5\n",
       "6   6\n",
       "7   7\n",
       "8   8\n",
       "9   9\n",
       "10 10\n",
       "11 11\n",
       "12 12\n",
       "13 13\n",
       "14 14\n",
       "15 15\n",
       "16 16\n",
       "17 17\n",
       "18 18\n",
       "19 19\n",
       "20 20\n",
       "21 21\n",
       "22 22\n",
       "23 23\n",
       "24 24"
      ]
     },
     "metadata": {},
     "output_type": "display_data"
    }
   ],
   "source": [
    "samples = data.frame(id=1:24)\n",
    "samples"
   ]
  },
  {
   "cell_type": "code",
   "execution_count": 6,
   "id": "51e7a731-73e3-4c0a-b535-8d5c750b330d",
   "metadata": {},
   "outputs": [
    {
     "data": {
      "text/html": [
       "<style>\n",
       ".list-inline {list-style: none; margin:0; padding: 0}\n",
       ".list-inline>li {display: inline-block}\n",
       ".list-inline>li:not(:last-child)::after {content: \"\\00b7\"; padding: 0 .5ex}\n",
       "</style>\n",
       "<ol class=list-inline><li>TRUE</li><li>TRUE</li><li>TRUE</li><li>TRUE</li><li>TRUE</li><li>TRUE</li><li>TRUE</li><li>TRUE</li><li>TRUE</li><li>TRUE</li><li>TRUE</li><li>TRUE</li><li>TRUE</li><li>TRUE</li><li>TRUE</li><li>TRUE</li><li>TRUE</li><li>TRUE</li><li>TRUE</li><li>TRUE</li><li>TRUE</li><li>TRUE</li><li>TRUE</li><li>TRUE</li></ol>\n"
      ],
      "text/latex": [
       "\\begin{enumerate*}\n",
       "\\item TRUE\n",
       "\\item TRUE\n",
       "\\item TRUE\n",
       "\\item TRUE\n",
       "\\item TRUE\n",
       "\\item TRUE\n",
       "\\item TRUE\n",
       "\\item TRUE\n",
       "\\item TRUE\n",
       "\\item TRUE\n",
       "\\item TRUE\n",
       "\\item TRUE\n",
       "\\item TRUE\n",
       "\\item TRUE\n",
       "\\item TRUE\n",
       "\\item TRUE\n",
       "\\item TRUE\n",
       "\\item TRUE\n",
       "\\item TRUE\n",
       "\\item TRUE\n",
       "\\item TRUE\n",
       "\\item TRUE\n",
       "\\item TRUE\n",
       "\\item TRUE\n",
       "\\end{enumerate*}\n"
      ],
      "text/markdown": [
       "1. TRUE\n",
       "2. TRUE\n",
       "3. TRUE\n",
       "4. TRUE\n",
       "5. TRUE\n",
       "6. TRUE\n",
       "7. TRUE\n",
       "8. TRUE\n",
       "9. TRUE\n",
       "10. TRUE\n",
       "11. TRUE\n",
       "12. TRUE\n",
       "13. TRUE\n",
       "14. TRUE\n",
       "15. TRUE\n",
       "16. TRUE\n",
       "17. TRUE\n",
       "18. TRUE\n",
       "19. TRUE\n",
       "20. TRUE\n",
       "21. TRUE\n",
       "22. TRUE\n",
       "23. TRUE\n",
       "24. TRUE\n",
       "\n",
       "\n"
      ],
      "text/plain": [
       " [1] TRUE TRUE TRUE TRUE TRUE TRUE TRUE TRUE TRUE TRUE TRUE TRUE TRUE TRUE TRUE\n",
       "[16] TRUE TRUE TRUE TRUE TRUE TRUE TRUE TRUE TRUE"
      ]
     },
     "metadata": {},
     "output_type": "display_data"
    }
   ],
   "source": [
    "samples$fname1 = paste0(\"../../data/NGS-V.Lulla-40843/\",samples$id,\"_S\",samples$id,\"_R1_001.fastq.gz\")\n",
    "file.exists(c(samples$fname1))"
   ]
  },
  {
   "cell_type": "code",
   "execution_count": 8,
   "id": "ecf39db9-d628-46c8-bb7c-20d574386ed3",
   "metadata": {},
   "outputs": [],
   "source": [
    "write.csv(samples,\"samples.csv\")"
   ]
  },
  {
   "cell_type": "markdown",
   "id": "8372731c-6f5e-4f73-be05-5066e468b01a",
   "metadata": {},
   "source": [
    "# FastQC\n",
    "change kernel to python since bash is not working in R one"
   ]
  },
  {
   "cell_type": "code",
   "execution_count": 3,
   "id": "81746ccd-1a63-467b-b49b-f41a69aa08d3",
   "metadata": {
    "scrolled": true
   },
   "outputs": [
    {
     "name": "stderr",
     "output_type": "stream",
     "text": [
      "Started analysis of 10_S10_R1_001.fastq.gz\n",
      "Approx 5% complete for 10_S10_R1_001.fastq.gz\n",
      "Approx 10% complete for 10_S10_R1_001.fastq.gz\n",
      "Approx 15% complete for 10_S10_R1_001.fastq.gz\n",
      "Approx 20% complete for 10_S10_R1_001.fastq.gz\n",
      "Approx 25% complete for 10_S10_R1_001.fastq.gz\n",
      "Approx 30% complete for 10_S10_R1_001.fastq.gz\n",
      "Approx 35% complete for 10_S10_R1_001.fastq.gz\n",
      "Approx 40% complete for 10_S10_R1_001.fastq.gz\n",
      "Approx 45% complete for 10_S10_R1_001.fastq.gz\n",
      "Approx 50% complete for 10_S10_R1_001.fastq.gz\n",
      "Approx 55% complete for 10_S10_R1_001.fastq.gz\n",
      "Approx 60% complete for 10_S10_R1_001.fastq.gz\n",
      "Approx 65% complete for 10_S10_R1_001.fastq.gz\n",
      "Approx 70% complete for 10_S10_R1_001.fastq.gz\n",
      "Approx 75% complete for 10_S10_R1_001.fastq.gz\n",
      "Approx 80% complete for 10_S10_R1_001.fastq.gz\n",
      "Approx 85% complete for 10_S10_R1_001.fastq.gz\n",
      "Approx 90% complete for 10_S10_R1_001.fastq.gz\n",
      "Approx 95% complete for 10_S10_R1_001.fastq.gz\n"
     ]
    },
    {
     "name": "stdout",
     "output_type": "stream",
     "text": [
      "Analysis complete for 10_S10_R1_001.fastq.gz\n"
     ]
    },
    {
     "name": "stderr",
     "output_type": "stream",
     "text": [
      "Started analysis of 11_S11_R1_001.fastq.gz\n",
      "Approx 5% complete for 11_S11_R1_001.fastq.gz\n",
      "Approx 10% complete for 11_S11_R1_001.fastq.gz\n",
      "Approx 15% complete for 11_S11_R1_001.fastq.gz\n",
      "Approx 20% complete for 11_S11_R1_001.fastq.gz\n",
      "Approx 25% complete for 11_S11_R1_001.fastq.gz\n",
      "Approx 30% complete for 11_S11_R1_001.fastq.gz\n",
      "Approx 35% complete for 11_S11_R1_001.fastq.gz\n",
      "Approx 40% complete for 11_S11_R1_001.fastq.gz\n",
      "Approx 45% complete for 11_S11_R1_001.fastq.gz\n",
      "Approx 50% complete for 11_S11_R1_001.fastq.gz\n",
      "Approx 55% complete for 11_S11_R1_001.fastq.gz\n",
      "Approx 60% complete for 11_S11_R1_001.fastq.gz\n",
      "Approx 65% complete for 11_S11_R1_001.fastq.gz\n",
      "Approx 70% complete for 11_S11_R1_001.fastq.gz\n",
      "Approx 75% complete for 11_S11_R1_001.fastq.gz\n",
      "Approx 80% complete for 11_S11_R1_001.fastq.gz\n",
      "Approx 85% complete for 11_S11_R1_001.fastq.gz\n",
      "Approx 90% complete for 11_S11_R1_001.fastq.gz\n",
      "Approx 95% complete for 11_S11_R1_001.fastq.gz\n"
     ]
    },
    {
     "name": "stdout",
     "output_type": "stream",
     "text": [
      "Analysis complete for 11_S11_R1_001.fastq.gz\n"
     ]
    },
    {
     "name": "stderr",
     "output_type": "stream",
     "text": [
      "Started analysis of 12_S12_R1_001.fastq.gz\n",
      "Approx 5% complete for 12_S12_R1_001.fastq.gz\n",
      "Approx 10% complete for 12_S12_R1_001.fastq.gz\n",
      "Approx 15% complete for 12_S12_R1_001.fastq.gz\n",
      "Approx 20% complete for 12_S12_R1_001.fastq.gz\n",
      "Approx 25% complete for 12_S12_R1_001.fastq.gz\n",
      "Approx 30% complete for 12_S12_R1_001.fastq.gz\n",
      "Approx 35% complete for 12_S12_R1_001.fastq.gz\n",
      "Approx 40% complete for 12_S12_R1_001.fastq.gz\n",
      "Approx 45% complete for 12_S12_R1_001.fastq.gz\n",
      "Approx 50% complete for 12_S12_R1_001.fastq.gz\n",
      "Approx 55% complete for 12_S12_R1_001.fastq.gz\n",
      "Approx 60% complete for 12_S12_R1_001.fastq.gz\n",
      "Approx 65% complete for 12_S12_R1_001.fastq.gz\n",
      "Approx 70% complete for 12_S12_R1_001.fastq.gz\n",
      "Approx 75% complete for 12_S12_R1_001.fastq.gz\n",
      "Approx 80% complete for 12_S12_R1_001.fastq.gz\n",
      "Approx 85% complete for 12_S12_R1_001.fastq.gz\n",
      "Approx 90% complete for 12_S12_R1_001.fastq.gz\n",
      "Approx 95% complete for 12_S12_R1_001.fastq.gz\n"
     ]
    },
    {
     "name": "stdout",
     "output_type": "stream",
     "text": [
      "Analysis complete for 12_S12_R1_001.fastq.gz\n"
     ]
    },
    {
     "name": "stderr",
     "output_type": "stream",
     "text": [
      "Started analysis of 13_S13_R1_001.fastq.gz\n",
      "Approx 5% complete for 13_S13_R1_001.fastq.gz\n",
      "Approx 10% complete for 13_S13_R1_001.fastq.gz\n",
      "Approx 15% complete for 13_S13_R1_001.fastq.gz\n",
      "Approx 20% complete for 13_S13_R1_001.fastq.gz\n",
      "Approx 25% complete for 13_S13_R1_001.fastq.gz\n",
      "Approx 30% complete for 13_S13_R1_001.fastq.gz\n",
      "Approx 35% complete for 13_S13_R1_001.fastq.gz\n",
      "Approx 40% complete for 13_S13_R1_001.fastq.gz\n",
      "Approx 45% complete for 13_S13_R1_001.fastq.gz\n",
      "Approx 50% complete for 13_S13_R1_001.fastq.gz\n",
      "Approx 55% complete for 13_S13_R1_001.fastq.gz\n",
      "Approx 60% complete for 13_S13_R1_001.fastq.gz\n",
      "Approx 65% complete for 13_S13_R1_001.fastq.gz\n",
      "Approx 70% complete for 13_S13_R1_001.fastq.gz\n",
      "Approx 75% complete for 13_S13_R1_001.fastq.gz\n",
      "Approx 80% complete for 13_S13_R1_001.fastq.gz\n",
      "Approx 85% complete for 13_S13_R1_001.fastq.gz\n",
      "Approx 90% complete for 13_S13_R1_001.fastq.gz\n",
      "Approx 95% complete for 13_S13_R1_001.fastq.gz\n"
     ]
    },
    {
     "name": "stdout",
     "output_type": "stream",
     "text": [
      "Analysis complete for 13_S13_R1_001.fastq.gz\n"
     ]
    },
    {
     "name": "stderr",
     "output_type": "stream",
     "text": [
      "Started analysis of 14_S14_R1_001.fastq.gz\n",
      "Approx 5% complete for 14_S14_R1_001.fastq.gz\n",
      "Approx 10% complete for 14_S14_R1_001.fastq.gz\n",
      "Approx 15% complete for 14_S14_R1_001.fastq.gz\n",
      "Approx 20% complete for 14_S14_R1_001.fastq.gz\n",
      "Approx 25% complete for 14_S14_R1_001.fastq.gz\n",
      "Approx 30% complete for 14_S14_R1_001.fastq.gz\n",
      "Approx 35% complete for 14_S14_R1_001.fastq.gz\n",
      "Approx 40% complete for 14_S14_R1_001.fastq.gz\n",
      "Approx 45% complete for 14_S14_R1_001.fastq.gz\n",
      "Approx 50% complete for 14_S14_R1_001.fastq.gz\n",
      "Approx 55% complete for 14_S14_R1_001.fastq.gz\n",
      "Approx 60% complete for 14_S14_R1_001.fastq.gz\n",
      "Approx 65% complete for 14_S14_R1_001.fastq.gz\n",
      "Approx 70% complete for 14_S14_R1_001.fastq.gz\n",
      "Approx 75% complete for 14_S14_R1_001.fastq.gz\n",
      "Approx 80% complete for 14_S14_R1_001.fastq.gz\n",
      "Approx 85% complete for 14_S14_R1_001.fastq.gz\n",
      "Approx 90% complete for 14_S14_R1_001.fastq.gz\n",
      "Approx 95% complete for 14_S14_R1_001.fastq.gz\n"
     ]
    },
    {
     "name": "stdout",
     "output_type": "stream",
     "text": [
      "Analysis complete for 14_S14_R1_001.fastq.gz\n"
     ]
    },
    {
     "name": "stderr",
     "output_type": "stream",
     "text": [
      "Started analysis of 15_S15_R1_001.fastq.gz\n",
      "Approx 5% complete for 15_S15_R1_001.fastq.gz\n",
      "Approx 10% complete for 15_S15_R1_001.fastq.gz\n",
      "Approx 15% complete for 15_S15_R1_001.fastq.gz\n",
      "Approx 20% complete for 15_S15_R1_001.fastq.gz\n",
      "Approx 25% complete for 15_S15_R1_001.fastq.gz\n",
      "Approx 30% complete for 15_S15_R1_001.fastq.gz\n",
      "Approx 35% complete for 15_S15_R1_001.fastq.gz\n",
      "Approx 40% complete for 15_S15_R1_001.fastq.gz\n",
      "Approx 45% complete for 15_S15_R1_001.fastq.gz\n",
      "Approx 50% complete for 15_S15_R1_001.fastq.gz\n",
      "Approx 55% complete for 15_S15_R1_001.fastq.gz\n",
      "Approx 60% complete for 15_S15_R1_001.fastq.gz\n",
      "Approx 65% complete for 15_S15_R1_001.fastq.gz\n",
      "Approx 70% complete for 15_S15_R1_001.fastq.gz\n",
      "Approx 75% complete for 15_S15_R1_001.fastq.gz\n",
      "Approx 80% complete for 15_S15_R1_001.fastq.gz\n",
      "Approx 85% complete for 15_S15_R1_001.fastq.gz\n",
      "Approx 90% complete for 15_S15_R1_001.fastq.gz\n",
      "Approx 95% complete for 15_S15_R1_001.fastq.gz\n"
     ]
    },
    {
     "name": "stdout",
     "output_type": "stream",
     "text": [
      "Analysis complete for 15_S15_R1_001.fastq.gz\n"
     ]
    },
    {
     "name": "stderr",
     "output_type": "stream",
     "text": [
      "Started analysis of 16_S16_R1_001.fastq.gz\n",
      "Approx 5% complete for 16_S16_R1_001.fastq.gz\n",
      "Approx 10% complete for 16_S16_R1_001.fastq.gz\n",
      "Approx 15% complete for 16_S16_R1_001.fastq.gz\n",
      "Approx 20% complete for 16_S16_R1_001.fastq.gz\n",
      "Approx 25% complete for 16_S16_R1_001.fastq.gz\n",
      "Approx 30% complete for 16_S16_R1_001.fastq.gz\n",
      "Approx 35% complete for 16_S16_R1_001.fastq.gz\n",
      "Approx 40% complete for 16_S16_R1_001.fastq.gz\n",
      "Approx 45% complete for 16_S16_R1_001.fastq.gz\n",
      "Approx 50% complete for 16_S16_R1_001.fastq.gz\n",
      "Approx 55% complete for 16_S16_R1_001.fastq.gz\n",
      "Approx 60% complete for 16_S16_R1_001.fastq.gz\n",
      "Approx 65% complete for 16_S16_R1_001.fastq.gz\n",
      "Approx 70% complete for 16_S16_R1_001.fastq.gz\n",
      "Approx 75% complete for 16_S16_R1_001.fastq.gz\n",
      "Approx 80% complete for 16_S16_R1_001.fastq.gz\n",
      "Approx 85% complete for 16_S16_R1_001.fastq.gz\n",
      "Approx 90% complete for 16_S16_R1_001.fastq.gz\n",
      "Approx 95% complete for 16_S16_R1_001.fastq.gz\n"
     ]
    },
    {
     "name": "stdout",
     "output_type": "stream",
     "text": [
      "Analysis complete for 16_S16_R1_001.fastq.gz\n"
     ]
    },
    {
     "name": "stderr",
     "output_type": "stream",
     "text": [
      "Started analysis of 17_S17_R1_001.fastq.gz\n",
      "Approx 5% complete for 17_S17_R1_001.fastq.gz\n",
      "Approx 10% complete for 17_S17_R1_001.fastq.gz\n",
      "Approx 15% complete for 17_S17_R1_001.fastq.gz\n",
      "Approx 20% complete for 17_S17_R1_001.fastq.gz\n",
      "Approx 25% complete for 17_S17_R1_001.fastq.gz\n",
      "Approx 30% complete for 17_S17_R1_001.fastq.gz\n",
      "Approx 35% complete for 17_S17_R1_001.fastq.gz\n",
      "Approx 40% complete for 17_S17_R1_001.fastq.gz\n",
      "Approx 45% complete for 17_S17_R1_001.fastq.gz\n",
      "Approx 50% complete for 17_S17_R1_001.fastq.gz\n",
      "Approx 55% complete for 17_S17_R1_001.fastq.gz\n",
      "Approx 60% complete for 17_S17_R1_001.fastq.gz\n",
      "Approx 65% complete for 17_S17_R1_001.fastq.gz\n",
      "Approx 70% complete for 17_S17_R1_001.fastq.gz\n",
      "Approx 75% complete for 17_S17_R1_001.fastq.gz\n",
      "Approx 80% complete for 17_S17_R1_001.fastq.gz\n",
      "Approx 85% complete for 17_S17_R1_001.fastq.gz\n",
      "Approx 90% complete for 17_S17_R1_001.fastq.gz\n",
      "Approx 95% complete for 17_S17_R1_001.fastq.gz\n"
     ]
    },
    {
     "name": "stdout",
     "output_type": "stream",
     "text": [
      "Analysis complete for 17_S17_R1_001.fastq.gz\n"
     ]
    },
    {
     "name": "stderr",
     "output_type": "stream",
     "text": [
      "Started analysis of 18_S18_R1_001.fastq.gz\n",
      "Approx 5% complete for 18_S18_R1_001.fastq.gz\n",
      "Approx 10% complete for 18_S18_R1_001.fastq.gz\n",
      "Approx 15% complete for 18_S18_R1_001.fastq.gz\n",
      "Approx 20% complete for 18_S18_R1_001.fastq.gz\n",
      "Approx 25% complete for 18_S18_R1_001.fastq.gz\n",
      "Approx 30% complete for 18_S18_R1_001.fastq.gz\n",
      "Approx 35% complete for 18_S18_R1_001.fastq.gz\n",
      "Approx 40% complete for 18_S18_R1_001.fastq.gz\n",
      "Approx 45% complete for 18_S18_R1_001.fastq.gz\n",
      "Approx 50% complete for 18_S18_R1_001.fastq.gz\n",
      "Approx 55% complete for 18_S18_R1_001.fastq.gz\n",
      "Approx 60% complete for 18_S18_R1_001.fastq.gz\n",
      "Approx 65% complete for 18_S18_R1_001.fastq.gz\n",
      "Approx 70% complete for 18_S18_R1_001.fastq.gz\n",
      "Approx 75% complete for 18_S18_R1_001.fastq.gz\n",
      "Approx 80% complete for 18_S18_R1_001.fastq.gz\n",
      "Approx 85% complete for 18_S18_R1_001.fastq.gz\n",
      "Approx 90% complete for 18_S18_R1_001.fastq.gz\n",
      "Approx 95% complete for 18_S18_R1_001.fastq.gz\n"
     ]
    },
    {
     "name": "stdout",
     "output_type": "stream",
     "text": [
      "Analysis complete for 18_S18_R1_001.fastq.gz\n"
     ]
    },
    {
     "name": "stderr",
     "output_type": "stream",
     "text": [
      "Started analysis of 19_S19_R1_001.fastq.gz\n",
      "Approx 5% complete for 19_S19_R1_001.fastq.gz\n",
      "Approx 10% complete for 19_S19_R1_001.fastq.gz\n",
      "Approx 15% complete for 19_S19_R1_001.fastq.gz\n",
      "Approx 20% complete for 19_S19_R1_001.fastq.gz\n",
      "Approx 25% complete for 19_S19_R1_001.fastq.gz\n",
      "Approx 30% complete for 19_S19_R1_001.fastq.gz\n",
      "Approx 35% complete for 19_S19_R1_001.fastq.gz\n",
      "Approx 40% complete for 19_S19_R1_001.fastq.gz\n",
      "Approx 45% complete for 19_S19_R1_001.fastq.gz\n",
      "Approx 50% complete for 19_S19_R1_001.fastq.gz\n",
      "Approx 55% complete for 19_S19_R1_001.fastq.gz\n",
      "Approx 60% complete for 19_S19_R1_001.fastq.gz\n",
      "Approx 65% complete for 19_S19_R1_001.fastq.gz\n",
      "Approx 70% complete for 19_S19_R1_001.fastq.gz\n",
      "Approx 75% complete for 19_S19_R1_001.fastq.gz\n",
      "Approx 80% complete for 19_S19_R1_001.fastq.gz\n",
      "Approx 85% complete for 19_S19_R1_001.fastq.gz\n",
      "Approx 90% complete for 19_S19_R1_001.fastq.gz\n",
      "Approx 95% complete for 19_S19_R1_001.fastq.gz\n"
     ]
    },
    {
     "name": "stdout",
     "output_type": "stream",
     "text": [
      "Analysis complete for 19_S19_R1_001.fastq.gz\n"
     ]
    },
    {
     "name": "stderr",
     "output_type": "stream",
     "text": [
      "Started analysis of 1_S1_R1_001.fastq.gz\n",
      "Approx 5% complete for 1_S1_R1_001.fastq.gz\n",
      "Approx 10% complete for 1_S1_R1_001.fastq.gz\n",
      "Approx 15% complete for 1_S1_R1_001.fastq.gz\n",
      "Approx 20% complete for 1_S1_R1_001.fastq.gz\n",
      "Approx 25% complete for 1_S1_R1_001.fastq.gz\n",
      "Approx 30% complete for 1_S1_R1_001.fastq.gz\n",
      "Approx 35% complete for 1_S1_R1_001.fastq.gz\n",
      "Approx 40% complete for 1_S1_R1_001.fastq.gz\n",
      "Approx 45% complete for 1_S1_R1_001.fastq.gz\n",
      "Approx 50% complete for 1_S1_R1_001.fastq.gz\n",
      "Approx 55% complete for 1_S1_R1_001.fastq.gz\n",
      "Approx 60% complete for 1_S1_R1_001.fastq.gz\n",
      "Approx 65% complete for 1_S1_R1_001.fastq.gz\n",
      "Approx 70% complete for 1_S1_R1_001.fastq.gz\n",
      "Approx 75% complete for 1_S1_R1_001.fastq.gz\n",
      "Approx 80% complete for 1_S1_R1_001.fastq.gz\n",
      "Approx 85% complete for 1_S1_R1_001.fastq.gz\n",
      "Approx 90% complete for 1_S1_R1_001.fastq.gz\n",
      "Approx 95% complete for 1_S1_R1_001.fastq.gz\n"
     ]
    },
    {
     "name": "stdout",
     "output_type": "stream",
     "text": [
      "Analysis complete for 1_S1_R1_001.fastq.gz\n"
     ]
    },
    {
     "name": "stderr",
     "output_type": "stream",
     "text": [
      "Started analysis of 20_S20_R1_001.fastq.gz\n",
      "Approx 5% complete for 20_S20_R1_001.fastq.gz\n",
      "Approx 10% complete for 20_S20_R1_001.fastq.gz\n",
      "Approx 15% complete for 20_S20_R1_001.fastq.gz\n",
      "Approx 20% complete for 20_S20_R1_001.fastq.gz\n",
      "Approx 25% complete for 20_S20_R1_001.fastq.gz\n",
      "Approx 30% complete for 20_S20_R1_001.fastq.gz\n",
      "Approx 35% complete for 20_S20_R1_001.fastq.gz\n",
      "Approx 40% complete for 20_S20_R1_001.fastq.gz\n",
      "Approx 45% complete for 20_S20_R1_001.fastq.gz\n",
      "Approx 50% complete for 20_S20_R1_001.fastq.gz\n",
      "Approx 55% complete for 20_S20_R1_001.fastq.gz\n",
      "Approx 60% complete for 20_S20_R1_001.fastq.gz\n",
      "Approx 65% complete for 20_S20_R1_001.fastq.gz\n",
      "Approx 70% complete for 20_S20_R1_001.fastq.gz\n",
      "Approx 75% complete for 20_S20_R1_001.fastq.gz\n",
      "Approx 80% complete for 20_S20_R1_001.fastq.gz\n",
      "Approx 85% complete for 20_S20_R1_001.fastq.gz\n",
      "Approx 90% complete for 20_S20_R1_001.fastq.gz\n",
      "Approx 95% complete for 20_S20_R1_001.fastq.gz\n"
     ]
    },
    {
     "name": "stdout",
     "output_type": "stream",
     "text": [
      "Analysis complete for 20_S20_R1_001.fastq.gz\n"
     ]
    },
    {
     "name": "stderr",
     "output_type": "stream",
     "text": [
      "Started analysis of 21_S21_R1_001.fastq.gz\n",
      "Approx 5% complete for 21_S21_R1_001.fastq.gz\n",
      "Approx 10% complete for 21_S21_R1_001.fastq.gz\n",
      "Approx 15% complete for 21_S21_R1_001.fastq.gz\n",
      "Approx 20% complete for 21_S21_R1_001.fastq.gz\n",
      "Approx 25% complete for 21_S21_R1_001.fastq.gz\n",
      "Approx 30% complete for 21_S21_R1_001.fastq.gz\n",
      "Approx 35% complete for 21_S21_R1_001.fastq.gz\n",
      "Approx 40% complete for 21_S21_R1_001.fastq.gz\n",
      "Approx 45% complete for 21_S21_R1_001.fastq.gz\n",
      "Approx 50% complete for 21_S21_R1_001.fastq.gz\n",
      "Approx 55% complete for 21_S21_R1_001.fastq.gz\n",
      "Approx 60% complete for 21_S21_R1_001.fastq.gz\n",
      "Approx 65% complete for 21_S21_R1_001.fastq.gz\n",
      "Approx 70% complete for 21_S21_R1_001.fastq.gz\n",
      "Approx 75% complete for 21_S21_R1_001.fastq.gz\n",
      "Approx 80% complete for 21_S21_R1_001.fastq.gz\n",
      "Approx 85% complete for 21_S21_R1_001.fastq.gz\n",
      "Approx 90% complete for 21_S21_R1_001.fastq.gz\n",
      "Approx 95% complete for 21_S21_R1_001.fastq.gz\n"
     ]
    },
    {
     "name": "stdout",
     "output_type": "stream",
     "text": [
      "Analysis complete for 21_S21_R1_001.fastq.gz\n"
     ]
    },
    {
     "name": "stderr",
     "output_type": "stream",
     "text": [
      "Started analysis of 22_S22_R1_001.fastq.gz\n",
      "Approx 5% complete for 22_S22_R1_001.fastq.gz\n",
      "Approx 10% complete for 22_S22_R1_001.fastq.gz\n",
      "Approx 15% complete for 22_S22_R1_001.fastq.gz\n",
      "Approx 20% complete for 22_S22_R1_001.fastq.gz\n",
      "Approx 25% complete for 22_S22_R1_001.fastq.gz\n",
      "Approx 30% complete for 22_S22_R1_001.fastq.gz\n",
      "Approx 35% complete for 22_S22_R1_001.fastq.gz\n",
      "Approx 40% complete for 22_S22_R1_001.fastq.gz\n",
      "Approx 45% complete for 22_S22_R1_001.fastq.gz\n",
      "Approx 50% complete for 22_S22_R1_001.fastq.gz\n",
      "Approx 55% complete for 22_S22_R1_001.fastq.gz\n",
      "Approx 60% complete for 22_S22_R1_001.fastq.gz\n",
      "Approx 65% complete for 22_S22_R1_001.fastq.gz\n",
      "Approx 70% complete for 22_S22_R1_001.fastq.gz\n",
      "Approx 75% complete for 22_S22_R1_001.fastq.gz\n",
      "Approx 80% complete for 22_S22_R1_001.fastq.gz\n",
      "Approx 85% complete for 22_S22_R1_001.fastq.gz\n",
      "Approx 90% complete for 22_S22_R1_001.fastq.gz\n",
      "Approx 95% complete for 22_S22_R1_001.fastq.gz\n"
     ]
    },
    {
     "name": "stdout",
     "output_type": "stream",
     "text": [
      "Analysis complete for 22_S22_R1_001.fastq.gz\n"
     ]
    },
    {
     "name": "stderr",
     "output_type": "stream",
     "text": [
      "Started analysis of 23_S23_R1_001.fastq.gz\n",
      "Approx 5% complete for 23_S23_R1_001.fastq.gz\n",
      "Approx 10% complete for 23_S23_R1_001.fastq.gz\n",
      "Approx 15% complete for 23_S23_R1_001.fastq.gz\n",
      "Approx 20% complete for 23_S23_R1_001.fastq.gz\n",
      "Approx 25% complete for 23_S23_R1_001.fastq.gz\n",
      "Approx 30% complete for 23_S23_R1_001.fastq.gz\n",
      "Approx 35% complete for 23_S23_R1_001.fastq.gz\n",
      "Approx 40% complete for 23_S23_R1_001.fastq.gz\n",
      "Approx 45% complete for 23_S23_R1_001.fastq.gz\n",
      "Approx 50% complete for 23_S23_R1_001.fastq.gz\n",
      "Approx 55% complete for 23_S23_R1_001.fastq.gz\n",
      "Approx 60% complete for 23_S23_R1_001.fastq.gz\n",
      "Approx 65% complete for 23_S23_R1_001.fastq.gz\n",
      "Approx 70% complete for 23_S23_R1_001.fastq.gz\n",
      "Approx 75% complete for 23_S23_R1_001.fastq.gz\n",
      "Approx 80% complete for 23_S23_R1_001.fastq.gz\n",
      "Approx 85% complete for 23_S23_R1_001.fastq.gz\n",
      "Approx 90% complete for 23_S23_R1_001.fastq.gz\n",
      "Approx 95% complete for 23_S23_R1_001.fastq.gz\n"
     ]
    },
    {
     "name": "stdout",
     "output_type": "stream",
     "text": [
      "Analysis complete for 23_S23_R1_001.fastq.gz\n"
     ]
    },
    {
     "name": "stderr",
     "output_type": "stream",
     "text": [
      "Started analysis of 24_S24_R1_001.fastq.gz\n",
      "Approx 5% complete for 24_S24_R1_001.fastq.gz\n",
      "Approx 10% complete for 24_S24_R1_001.fastq.gz\n",
      "Approx 15% complete for 24_S24_R1_001.fastq.gz\n",
      "Approx 20% complete for 24_S24_R1_001.fastq.gz\n",
      "Approx 25% complete for 24_S24_R1_001.fastq.gz\n",
      "Approx 30% complete for 24_S24_R1_001.fastq.gz\n",
      "Approx 35% complete for 24_S24_R1_001.fastq.gz\n",
      "Approx 40% complete for 24_S24_R1_001.fastq.gz\n",
      "Approx 45% complete for 24_S24_R1_001.fastq.gz\n",
      "Approx 50% complete for 24_S24_R1_001.fastq.gz\n",
      "Approx 55% complete for 24_S24_R1_001.fastq.gz\n",
      "Approx 60% complete for 24_S24_R1_001.fastq.gz\n",
      "Approx 65% complete for 24_S24_R1_001.fastq.gz\n",
      "Approx 70% complete for 24_S24_R1_001.fastq.gz\n",
      "Approx 75% complete for 24_S24_R1_001.fastq.gz\n",
      "Approx 80% complete for 24_S24_R1_001.fastq.gz\n",
      "Approx 85% complete for 24_S24_R1_001.fastq.gz\n",
      "Approx 90% complete for 24_S24_R1_001.fastq.gz\n",
      "Approx 95% complete for 24_S24_R1_001.fastq.gz\n"
     ]
    },
    {
     "name": "stdout",
     "output_type": "stream",
     "text": [
      "Analysis complete for 24_S24_R1_001.fastq.gz\n"
     ]
    },
    {
     "name": "stderr",
     "output_type": "stream",
     "text": [
      "Started analysis of 2_S2_R1_001.fastq.gz\n",
      "Approx 5% complete for 2_S2_R1_001.fastq.gz\n",
      "Approx 10% complete for 2_S2_R1_001.fastq.gz\n",
      "Approx 15% complete for 2_S2_R1_001.fastq.gz\n",
      "Approx 20% complete for 2_S2_R1_001.fastq.gz\n",
      "Approx 25% complete for 2_S2_R1_001.fastq.gz\n",
      "Approx 30% complete for 2_S2_R1_001.fastq.gz\n",
      "Approx 35% complete for 2_S2_R1_001.fastq.gz\n",
      "Approx 40% complete for 2_S2_R1_001.fastq.gz\n",
      "Approx 45% complete for 2_S2_R1_001.fastq.gz\n",
      "Approx 50% complete for 2_S2_R1_001.fastq.gz\n",
      "Approx 55% complete for 2_S2_R1_001.fastq.gz\n",
      "Approx 60% complete for 2_S2_R1_001.fastq.gz\n",
      "Approx 65% complete for 2_S2_R1_001.fastq.gz\n",
      "Approx 70% complete for 2_S2_R1_001.fastq.gz\n",
      "Approx 75% complete for 2_S2_R1_001.fastq.gz\n",
      "Approx 80% complete for 2_S2_R1_001.fastq.gz\n",
      "Approx 85% complete for 2_S2_R1_001.fastq.gz\n",
      "Approx 90% complete for 2_S2_R1_001.fastq.gz\n",
      "Approx 95% complete for 2_S2_R1_001.fastq.gz\n"
     ]
    },
    {
     "name": "stdout",
     "output_type": "stream",
     "text": [
      "Analysis complete for 2_S2_R1_001.fastq.gz\n"
     ]
    },
    {
     "name": "stderr",
     "output_type": "stream",
     "text": [
      "Started analysis of 3_S3_R1_001.fastq.gz\n",
      "Approx 5% complete for 3_S3_R1_001.fastq.gz\n",
      "Approx 10% complete for 3_S3_R1_001.fastq.gz\n",
      "Approx 15% complete for 3_S3_R1_001.fastq.gz\n",
      "Approx 20% complete for 3_S3_R1_001.fastq.gz\n",
      "Approx 25% complete for 3_S3_R1_001.fastq.gz\n",
      "Approx 30% complete for 3_S3_R1_001.fastq.gz\n",
      "Approx 35% complete for 3_S3_R1_001.fastq.gz\n",
      "Approx 40% complete for 3_S3_R1_001.fastq.gz\n",
      "Approx 45% complete for 3_S3_R1_001.fastq.gz\n",
      "Approx 50% complete for 3_S3_R1_001.fastq.gz\n",
      "Approx 55% complete for 3_S3_R1_001.fastq.gz\n",
      "Approx 60% complete for 3_S3_R1_001.fastq.gz\n",
      "Approx 65% complete for 3_S3_R1_001.fastq.gz\n",
      "Approx 70% complete for 3_S3_R1_001.fastq.gz\n",
      "Approx 75% complete for 3_S3_R1_001.fastq.gz\n",
      "Approx 80% complete for 3_S3_R1_001.fastq.gz\n",
      "Approx 85% complete for 3_S3_R1_001.fastq.gz\n",
      "Approx 90% complete for 3_S3_R1_001.fastq.gz\n",
      "Approx 95% complete for 3_S3_R1_001.fastq.gz\n"
     ]
    },
    {
     "name": "stdout",
     "output_type": "stream",
     "text": [
      "Analysis complete for 3_S3_R1_001.fastq.gz\n"
     ]
    },
    {
     "name": "stderr",
     "output_type": "stream",
     "text": [
      "Started analysis of 4_S4_R1_001.fastq.gz\n",
      "Approx 5% complete for 4_S4_R1_001.fastq.gz\n",
      "Approx 10% complete for 4_S4_R1_001.fastq.gz\n",
      "Approx 15% complete for 4_S4_R1_001.fastq.gz\n",
      "Approx 20% complete for 4_S4_R1_001.fastq.gz\n",
      "Approx 25% complete for 4_S4_R1_001.fastq.gz\n",
      "Approx 30% complete for 4_S4_R1_001.fastq.gz\n",
      "Approx 35% complete for 4_S4_R1_001.fastq.gz\n",
      "Approx 40% complete for 4_S4_R1_001.fastq.gz\n",
      "Approx 45% complete for 4_S4_R1_001.fastq.gz\n",
      "Approx 50% complete for 4_S4_R1_001.fastq.gz\n",
      "Approx 55% complete for 4_S4_R1_001.fastq.gz\n",
      "Approx 60% complete for 4_S4_R1_001.fastq.gz\n",
      "Approx 65% complete for 4_S4_R1_001.fastq.gz\n",
      "Approx 70% complete for 4_S4_R1_001.fastq.gz\n",
      "Approx 75% complete for 4_S4_R1_001.fastq.gz\n",
      "Approx 80% complete for 4_S4_R1_001.fastq.gz\n",
      "Approx 85% complete for 4_S4_R1_001.fastq.gz\n",
      "Approx 90% complete for 4_S4_R1_001.fastq.gz\n",
      "Approx 95% complete for 4_S4_R1_001.fastq.gz\n"
     ]
    },
    {
     "name": "stdout",
     "output_type": "stream",
     "text": [
      "Analysis complete for 4_S4_R1_001.fastq.gz\n"
     ]
    },
    {
     "name": "stderr",
     "output_type": "stream",
     "text": [
      "Started analysis of 5_S5_R1_001.fastq.gz\n",
      "Approx 5% complete for 5_S5_R1_001.fastq.gz\n",
      "Approx 10% complete for 5_S5_R1_001.fastq.gz\n",
      "Approx 15% complete for 5_S5_R1_001.fastq.gz\n",
      "Approx 20% complete for 5_S5_R1_001.fastq.gz\n",
      "Approx 25% complete for 5_S5_R1_001.fastq.gz\n",
      "Approx 30% complete for 5_S5_R1_001.fastq.gz\n",
      "Approx 35% complete for 5_S5_R1_001.fastq.gz\n",
      "Approx 40% complete for 5_S5_R1_001.fastq.gz\n",
      "Approx 45% complete for 5_S5_R1_001.fastq.gz\n",
      "Approx 50% complete for 5_S5_R1_001.fastq.gz\n",
      "Approx 55% complete for 5_S5_R1_001.fastq.gz\n",
      "Approx 60% complete for 5_S5_R1_001.fastq.gz\n",
      "Approx 65% complete for 5_S5_R1_001.fastq.gz\n",
      "Approx 70% complete for 5_S5_R1_001.fastq.gz\n",
      "Approx 75% complete for 5_S5_R1_001.fastq.gz\n",
      "Approx 80% complete for 5_S5_R1_001.fastq.gz\n",
      "Approx 85% complete for 5_S5_R1_001.fastq.gz\n",
      "Approx 90% complete for 5_S5_R1_001.fastq.gz\n",
      "Approx 95% complete for 5_S5_R1_001.fastq.gz\n"
     ]
    },
    {
     "name": "stdout",
     "output_type": "stream",
     "text": [
      "Analysis complete for 5_S5_R1_001.fastq.gz\n"
     ]
    },
    {
     "name": "stderr",
     "output_type": "stream",
     "text": [
      "Started analysis of 6_S6_R1_001.fastq.gz\n",
      "Approx 5% complete for 6_S6_R1_001.fastq.gz\n",
      "Approx 10% complete for 6_S6_R1_001.fastq.gz\n",
      "Approx 15% complete for 6_S6_R1_001.fastq.gz\n",
      "Approx 20% complete for 6_S6_R1_001.fastq.gz\n",
      "Approx 25% complete for 6_S6_R1_001.fastq.gz\n",
      "Approx 30% complete for 6_S6_R1_001.fastq.gz\n",
      "Approx 35% complete for 6_S6_R1_001.fastq.gz\n",
      "Approx 40% complete for 6_S6_R1_001.fastq.gz\n",
      "Approx 45% complete for 6_S6_R1_001.fastq.gz\n",
      "Approx 50% complete for 6_S6_R1_001.fastq.gz\n",
      "Approx 55% complete for 6_S6_R1_001.fastq.gz\n",
      "Approx 60% complete for 6_S6_R1_001.fastq.gz\n",
      "Approx 65% complete for 6_S6_R1_001.fastq.gz\n",
      "Approx 70% complete for 6_S6_R1_001.fastq.gz\n",
      "Approx 75% complete for 6_S6_R1_001.fastq.gz\n",
      "Approx 80% complete for 6_S6_R1_001.fastq.gz\n",
      "Approx 85% complete for 6_S6_R1_001.fastq.gz\n",
      "Approx 90% complete for 6_S6_R1_001.fastq.gz\n",
      "Approx 95% complete for 6_S6_R1_001.fastq.gz\n"
     ]
    },
    {
     "name": "stdout",
     "output_type": "stream",
     "text": [
      "Analysis complete for 6_S6_R1_001.fastq.gz\n"
     ]
    },
    {
     "name": "stderr",
     "output_type": "stream",
     "text": [
      "Started analysis of 7_S7_R1_001.fastq.gz\n",
      "Approx 5% complete for 7_S7_R1_001.fastq.gz\n",
      "Approx 10% complete for 7_S7_R1_001.fastq.gz\n",
      "Approx 15% complete for 7_S7_R1_001.fastq.gz\n",
      "Approx 20% complete for 7_S7_R1_001.fastq.gz\n",
      "Approx 25% complete for 7_S7_R1_001.fastq.gz\n",
      "Approx 30% complete for 7_S7_R1_001.fastq.gz\n",
      "Approx 35% complete for 7_S7_R1_001.fastq.gz\n",
      "Approx 40% complete for 7_S7_R1_001.fastq.gz\n",
      "Approx 45% complete for 7_S7_R1_001.fastq.gz\n",
      "Approx 50% complete for 7_S7_R1_001.fastq.gz\n",
      "Approx 55% complete for 7_S7_R1_001.fastq.gz\n",
      "Approx 60% complete for 7_S7_R1_001.fastq.gz\n",
      "Approx 65% complete for 7_S7_R1_001.fastq.gz\n",
      "Approx 70% complete for 7_S7_R1_001.fastq.gz\n",
      "Approx 75% complete for 7_S7_R1_001.fastq.gz\n",
      "Approx 80% complete for 7_S7_R1_001.fastq.gz\n",
      "Approx 85% complete for 7_S7_R1_001.fastq.gz\n",
      "Approx 90% complete for 7_S7_R1_001.fastq.gz\n",
      "Approx 95% complete for 7_S7_R1_001.fastq.gz\n"
     ]
    },
    {
     "name": "stdout",
     "output_type": "stream",
     "text": [
      "Analysis complete for 7_S7_R1_001.fastq.gz\n"
     ]
    },
    {
     "name": "stderr",
     "output_type": "stream",
     "text": [
      "Started analysis of 8_S8_R1_001.fastq.gz\n",
      "Approx 5% complete for 8_S8_R1_001.fastq.gz\n",
      "Approx 10% complete for 8_S8_R1_001.fastq.gz\n",
      "Approx 15% complete for 8_S8_R1_001.fastq.gz\n",
      "Approx 20% complete for 8_S8_R1_001.fastq.gz\n",
      "Approx 25% complete for 8_S8_R1_001.fastq.gz\n",
      "Approx 30% complete for 8_S8_R1_001.fastq.gz\n",
      "Approx 35% complete for 8_S8_R1_001.fastq.gz\n",
      "Approx 40% complete for 8_S8_R1_001.fastq.gz\n",
      "Approx 45% complete for 8_S8_R1_001.fastq.gz\n",
      "Approx 50% complete for 8_S8_R1_001.fastq.gz\n",
      "Approx 55% complete for 8_S8_R1_001.fastq.gz\n",
      "Approx 60% complete for 8_S8_R1_001.fastq.gz\n",
      "Approx 65% complete for 8_S8_R1_001.fastq.gz\n",
      "Approx 70% complete for 8_S8_R1_001.fastq.gz\n",
      "Approx 75% complete for 8_S8_R1_001.fastq.gz\n",
      "Approx 80% complete for 8_S8_R1_001.fastq.gz\n",
      "Approx 85% complete for 8_S8_R1_001.fastq.gz\n",
      "Approx 90% complete for 8_S8_R1_001.fastq.gz\n",
      "Approx 95% complete for 8_S8_R1_001.fastq.gz\n"
     ]
    },
    {
     "name": "stdout",
     "output_type": "stream",
     "text": [
      "Analysis complete for 8_S8_R1_001.fastq.gz\n"
     ]
    },
    {
     "name": "stderr",
     "output_type": "stream",
     "text": [
      "Started analysis of 9_S9_R1_001.fastq.gz\n",
      "Approx 5% complete for 9_S9_R1_001.fastq.gz\n",
      "Approx 10% complete for 9_S9_R1_001.fastq.gz\n",
      "Approx 15% complete for 9_S9_R1_001.fastq.gz\n",
      "Approx 20% complete for 9_S9_R1_001.fastq.gz\n",
      "Approx 25% complete for 9_S9_R1_001.fastq.gz\n",
      "Approx 30% complete for 9_S9_R1_001.fastq.gz\n",
      "Approx 35% complete for 9_S9_R1_001.fastq.gz\n",
      "Approx 40% complete for 9_S9_R1_001.fastq.gz\n",
      "Approx 45% complete for 9_S9_R1_001.fastq.gz\n",
      "Approx 50% complete for 9_S9_R1_001.fastq.gz\n",
      "Approx 55% complete for 9_S9_R1_001.fastq.gz\n",
      "Approx 60% complete for 9_S9_R1_001.fastq.gz\n",
      "Approx 65% complete for 9_S9_R1_001.fastq.gz\n",
      "Approx 70% complete for 9_S9_R1_001.fastq.gz\n",
      "Approx 75% complete for 9_S9_R1_001.fastq.gz\n",
      "Approx 80% complete for 9_S9_R1_001.fastq.gz\n",
      "Approx 85% complete for 9_S9_R1_001.fastq.gz\n",
      "Approx 90% complete for 9_S9_R1_001.fastq.gz\n",
      "Approx 95% complete for 9_S9_R1_001.fastq.gz\n"
     ]
    },
    {
     "name": "stdout",
     "output_type": "stream",
     "text": [
      "Analysis complete for 9_S9_R1_001.fastq.gz\n"
     ]
    }
   ],
   "source": [
    "%%bash\n",
    "mkdir -p ../../output/gut/fastqc\n",
    "for file in ../../data/NGS-V.Lulla-40843/*fastq.gz\n",
    "do\n",
    "    fastqc $file -o ../../output/gut/fastqc\n",
    "done"
   ]
  },
  {
   "cell_type": "code",
   "execution_count": 4,
   "id": "a6ae3a6e-b5e8-4190-adc5-cf2fd8538e10",
   "metadata": {},
   "outputs": [
    {
     "name": "stderr",
     "output_type": "stream",
     "text": [
      "\n",
      "\u001b[91m///\u001b[0m \u001b]8;id=318490;https://multiqc.info\u001b\\\u001b[1mMultiQC\u001b[0m\u001b]8;;\u001b\\ 🔍 \u001b[2mv1.26\u001b[0m\n",
      "\n",
      "\u001b[34m     version_check\u001b[0m | \u001b[33mMultiQC Version v1.27 now available!\u001b[0m\n",
      "\u001b[34m       file_search\u001b[0m | Search path: /mnt/data4A/ksenia/projects/brainNGS/output/gut/fastqc\n",
      "\u001b[2K         \u001b[34msearching\u001b[0m | \u001b[90m━━━━━━━━━━━━━━━━━━━━━━━━━━━━━━━━━━━━━━━━\u001b[0m \u001b[35m100%\u001b[0m \u001b[32m48/48\u001b[0m  p\u001b[0m.html\u001b[0m\n",
      "\u001b[?25h\u001b[34m            fastqc\u001b[0m | Found 24 reports\n",
      "\u001b[34m     write_results\u001b[0m | Data        : /mnt/data4A/ksenia/projects/brainNGS/output/gut/multiqc/multiqc_data\n",
      "\u001b[34m     write_results\u001b[0m | Report      : /mnt/data4A/ksenia/projects/brainNGS/output/gut/multiqc/multiqc_report.html\n",
      "\u001b[34m           multiqc\u001b[0m | MultiQC complete\n"
     ]
    }
   ],
   "source": [
    "%%bash\n",
    "multiqc -o ../../output/gut/multiqc ../../output/gut/fastqc"
   ]
  },
  {
   "cell_type": "markdown",
   "id": "676fe88a-f191-4363-a5b6-5d900db1ad0e",
   "metadata": {},
   "source": [
    "# Trimming\n",
    "\n",
    "\n",
    "Trimming - based on guidelines here - https://www.lexogen.com/wp-content/uploads/2019/12/015UG108V0140-QuantSeq-Data-Analysis-Pipeline_2017-07-03.pdf\n",
    "\n",
    "polyA.fa.gz is https://github.com/BioInfoTools/BBMap/raw/master/resources/polyA.fa.gz, truseq.fa.gz is https://github.com/BioInfoTools/BBMap/raw/master/resources/truseq.fa.gz, both downloaded 16/01/25. truseq is the truseq adapters, polyA is just AAAAAAAA in a fasta file\n",
    "\n",
    "    ref - reference file containing kmers to trim\n",
    "    k=13 - Kmer length, looks for matches >= 13nt\n",
    "    ktrim=r - Trim reads to remove bases matching reference kmers\n",
    "    useshortkmers=t - Allow shorter kmers at read ends\n",
    "    mink=5 - shorter kmers at read ends should be >=5nt\n",
    "    qtrim=r - quality trim reads, right end only\n",
    "    trimq=10 - minimum score to quality trim\n",
    "    minlength=20 - discard reads <20nt after trimming\n",
    "\n"
   ]
  },
  {
   "cell_type": "code",
   "execution_count": null,
   "id": "065114c8-d0f5-45b6-8448-9c176f0a393f",
   "metadata": {},
   "outputs": [],
   "source": [
    "#conda install bioconda::bbmap"
   ]
  },
  {
   "cell_type": "code",
   "execution_count": 7,
   "id": "756491ec-660f-4914-9f03-1ba59314dd9f",
   "metadata": {},
   "outputs": [
    {
     "name": "stdout",
     "output_type": "stream",
     "text": [
      "../../data/NGS-V.Lulla-40843/10_S10_R1_001.fastq.gz 10_S10_R1_001_trimmed.fastq.gz\n",
      "../../data/NGS-V.Lulla-40843/11_S11_R1_001.fastq.gz 11_S11_R1_001_trimmed.fastq.gz\n",
      "../../data/NGS-V.Lulla-40843/12_S12_R1_001.fastq.gz 12_S12_R1_001_trimmed.fastq.gz\n",
      "../../data/NGS-V.Lulla-40843/13_S13_R1_001.fastq.gz 13_S13_R1_001_trimmed.fastq.gz\n",
      "../../data/NGS-V.Lulla-40843/14_S14_R1_001.fastq.gz 14_S14_R1_001_trimmed.fastq.gz\n",
      "../../data/NGS-V.Lulla-40843/15_S15_R1_001.fastq.gz 15_S15_R1_001_trimmed.fastq.gz\n",
      "../../data/NGS-V.Lulla-40843/16_S16_R1_001.fastq.gz 16_S16_R1_001_trimmed.fastq.gz\n",
      "../../data/NGS-V.Lulla-40843/17_S17_R1_001.fastq.gz 17_S17_R1_001_trimmed.fastq.gz\n",
      "../../data/NGS-V.Lulla-40843/18_S18_R1_001.fastq.gz 18_S18_R1_001_trimmed.fastq.gz\n",
      "../../data/NGS-V.Lulla-40843/19_S19_R1_001.fastq.gz 19_S19_R1_001_trimmed.fastq.gz\n",
      "../../data/NGS-V.Lulla-40843/1_S1_R1_001.fastq.gz 1_S1_R1_001_trimmed.fastq.gz\n",
      "../../data/NGS-V.Lulla-40843/20_S20_R1_001.fastq.gz 20_S20_R1_001_trimmed.fastq.gz\n",
      "../../data/NGS-V.Lulla-40843/21_S21_R1_001.fastq.gz 21_S21_R1_001_trimmed.fastq.gz\n",
      "../../data/NGS-V.Lulla-40843/22_S22_R1_001.fastq.gz 22_S22_R1_001_trimmed.fastq.gz\n",
      "../../data/NGS-V.Lulla-40843/23_S23_R1_001.fastq.gz 23_S23_R1_001_trimmed.fastq.gz\n",
      "../../data/NGS-V.Lulla-40843/24_S24_R1_001.fastq.gz 24_S24_R1_001_trimmed.fastq.gz\n",
      "../../data/NGS-V.Lulla-40843/2_S2_R1_001.fastq.gz 2_S2_R1_001_trimmed.fastq.gz\n",
      "../../data/NGS-V.Lulla-40843/3_S3_R1_001.fastq.gz 3_S3_R1_001_trimmed.fastq.gz\n",
      "../../data/NGS-V.Lulla-40843/4_S4_R1_001.fastq.gz 4_S4_R1_001_trimmed.fastq.gz\n",
      "../../data/NGS-V.Lulla-40843/5_S5_R1_001.fastq.gz 5_S5_R1_001_trimmed.fastq.gz\n",
      "../../data/NGS-V.Lulla-40843/6_S6_R1_001.fastq.gz 6_S6_R1_001_trimmed.fastq.gz\n",
      "../../data/NGS-V.Lulla-40843/7_S7_R1_001.fastq.gz 7_S7_R1_001_trimmed.fastq.gz\n",
      "../../data/NGS-V.Lulla-40843/8_S8_R1_001.fastq.gz 8_S8_R1_001_trimmed.fastq.gz\n",
      "../../data/NGS-V.Lulla-40843/9_S9_R1_001.fastq.gz 9_S9_R1_001_trimmed.fastq.gz\n"
     ]
    }
   ],
   "source": [
    "%%bash\n",
    "mkdir -p ../../data/trimmed_bbduk_gut \n",
    "for file in ../../data/NGS-V.Lulla-40843/*fastq.gz\n",
    "do\n",
    "    out=$(echo $file | cut -d \"/\" -f5 | sed 's/.fastq.gz/_trimmed.fastq.gz/')\n",
    "    log=$(echo $out | sed 's/_trimmed.fastq.gz/.log/')\n",
    "    echo $file $out\n",
    "    bbduk.sh \\\n",
    "          in=$file \\\n",
    "          out=../../data/trimmed_bbduk_gut/$out \\\n",
    "          ref=../adapters/polyA.fa.gz,../adapters/truseq.fa.gz \\\n",
    "          k=13 ktrim=r useshortkmers=t \\\n",
    "          mink=5 qtrim=r trimq=10 minlength=20 &> ../../data/trimmed_bbduk_gut/$log\n",
    "done"
   ]
  },
  {
   "cell_type": "code",
   "execution_count": 8,
   "id": "4b570a62-ece6-4f50-bd21-fbe686b21370",
   "metadata": {
    "scrolled": true
   },
   "outputs": [
    {
     "name": "stderr",
     "output_type": "stream",
     "text": [
      "Started analysis of 10_S10_R1_001_trimmed.fastq.gz\n",
      "Approx 5% complete for 10_S10_R1_001_trimmed.fastq.gz\n",
      "Approx 10% complete for 10_S10_R1_001_trimmed.fastq.gz\n",
      "Approx 15% complete for 10_S10_R1_001_trimmed.fastq.gz\n",
      "Approx 20% complete for 10_S10_R1_001_trimmed.fastq.gz\n",
      "Approx 25% complete for 10_S10_R1_001_trimmed.fastq.gz\n",
      "Approx 30% complete for 10_S10_R1_001_trimmed.fastq.gz\n",
      "Approx 35% complete for 10_S10_R1_001_trimmed.fastq.gz\n",
      "Approx 40% complete for 10_S10_R1_001_trimmed.fastq.gz\n",
      "Approx 45% complete for 10_S10_R1_001_trimmed.fastq.gz\n",
      "Approx 50% complete for 10_S10_R1_001_trimmed.fastq.gz\n",
      "Approx 55% complete for 10_S10_R1_001_trimmed.fastq.gz\n",
      "Approx 60% complete for 10_S10_R1_001_trimmed.fastq.gz\n",
      "Approx 65% complete for 10_S10_R1_001_trimmed.fastq.gz\n",
      "Approx 70% complete for 10_S10_R1_001_trimmed.fastq.gz\n",
      "Approx 75% complete for 10_S10_R1_001_trimmed.fastq.gz\n",
      "Approx 80% complete for 10_S10_R1_001_trimmed.fastq.gz\n",
      "Approx 85% complete for 10_S10_R1_001_trimmed.fastq.gz\n",
      "Approx 90% complete for 10_S10_R1_001_trimmed.fastq.gz\n",
      "Approx 95% complete for 10_S10_R1_001_trimmed.fastq.gz\n"
     ]
    },
    {
     "name": "stdout",
     "output_type": "stream",
     "text": [
      "Analysis complete for 10_S10_R1_001_trimmed.fastq.gz\n"
     ]
    },
    {
     "name": "stderr",
     "output_type": "stream",
     "text": [
      "Started analysis of 11_S11_R1_001_trimmed.fastq.gz\n",
      "Approx 5% complete for 11_S11_R1_001_trimmed.fastq.gz\n",
      "Approx 10% complete for 11_S11_R1_001_trimmed.fastq.gz\n",
      "Approx 15% complete for 11_S11_R1_001_trimmed.fastq.gz\n",
      "Approx 20% complete for 11_S11_R1_001_trimmed.fastq.gz\n",
      "Approx 25% complete for 11_S11_R1_001_trimmed.fastq.gz\n",
      "Approx 30% complete for 11_S11_R1_001_trimmed.fastq.gz\n",
      "Approx 35% complete for 11_S11_R1_001_trimmed.fastq.gz\n",
      "Approx 40% complete for 11_S11_R1_001_trimmed.fastq.gz\n",
      "Approx 45% complete for 11_S11_R1_001_trimmed.fastq.gz\n",
      "Approx 50% complete for 11_S11_R1_001_trimmed.fastq.gz\n",
      "Approx 55% complete for 11_S11_R1_001_trimmed.fastq.gz\n",
      "Approx 60% complete for 11_S11_R1_001_trimmed.fastq.gz\n",
      "Approx 65% complete for 11_S11_R1_001_trimmed.fastq.gz\n",
      "Approx 70% complete for 11_S11_R1_001_trimmed.fastq.gz\n",
      "Approx 75% complete for 11_S11_R1_001_trimmed.fastq.gz\n",
      "Approx 80% complete for 11_S11_R1_001_trimmed.fastq.gz\n",
      "Approx 85% complete for 11_S11_R1_001_trimmed.fastq.gz\n",
      "Approx 90% complete for 11_S11_R1_001_trimmed.fastq.gz\n",
      "Approx 95% complete for 11_S11_R1_001_trimmed.fastq.gz\n"
     ]
    },
    {
     "name": "stdout",
     "output_type": "stream",
     "text": [
      "Analysis complete for 11_S11_R1_001_trimmed.fastq.gz\n"
     ]
    },
    {
     "name": "stderr",
     "output_type": "stream",
     "text": [
      "Started analysis of 12_S12_R1_001_trimmed.fastq.gz\n",
      "Approx 5% complete for 12_S12_R1_001_trimmed.fastq.gz\n",
      "Approx 10% complete for 12_S12_R1_001_trimmed.fastq.gz\n",
      "Approx 15% complete for 12_S12_R1_001_trimmed.fastq.gz\n",
      "Approx 20% complete for 12_S12_R1_001_trimmed.fastq.gz\n",
      "Approx 25% complete for 12_S12_R1_001_trimmed.fastq.gz\n",
      "Approx 30% complete for 12_S12_R1_001_trimmed.fastq.gz\n",
      "Approx 35% complete for 12_S12_R1_001_trimmed.fastq.gz\n",
      "Approx 40% complete for 12_S12_R1_001_trimmed.fastq.gz\n",
      "Approx 45% complete for 12_S12_R1_001_trimmed.fastq.gz\n",
      "Approx 50% complete for 12_S12_R1_001_trimmed.fastq.gz\n",
      "Approx 55% complete for 12_S12_R1_001_trimmed.fastq.gz\n",
      "Approx 60% complete for 12_S12_R1_001_trimmed.fastq.gz\n",
      "Approx 65% complete for 12_S12_R1_001_trimmed.fastq.gz\n",
      "Approx 70% complete for 12_S12_R1_001_trimmed.fastq.gz\n",
      "Approx 75% complete for 12_S12_R1_001_trimmed.fastq.gz\n",
      "Approx 80% complete for 12_S12_R1_001_trimmed.fastq.gz\n",
      "Approx 85% complete for 12_S12_R1_001_trimmed.fastq.gz\n",
      "Approx 90% complete for 12_S12_R1_001_trimmed.fastq.gz\n",
      "Approx 95% complete for 12_S12_R1_001_trimmed.fastq.gz\n"
     ]
    },
    {
     "name": "stdout",
     "output_type": "stream",
     "text": [
      "Analysis complete for 12_S12_R1_001_trimmed.fastq.gz\n"
     ]
    },
    {
     "name": "stderr",
     "output_type": "stream",
     "text": [
      "Started analysis of 13_S13_R1_001_trimmed.fastq.gz\n",
      "Approx 5% complete for 13_S13_R1_001_trimmed.fastq.gz\n",
      "Approx 10% complete for 13_S13_R1_001_trimmed.fastq.gz\n",
      "Approx 15% complete for 13_S13_R1_001_trimmed.fastq.gz\n",
      "Approx 20% complete for 13_S13_R1_001_trimmed.fastq.gz\n",
      "Approx 25% complete for 13_S13_R1_001_trimmed.fastq.gz\n",
      "Approx 30% complete for 13_S13_R1_001_trimmed.fastq.gz\n",
      "Approx 35% complete for 13_S13_R1_001_trimmed.fastq.gz\n",
      "Approx 40% complete for 13_S13_R1_001_trimmed.fastq.gz\n",
      "Approx 45% complete for 13_S13_R1_001_trimmed.fastq.gz\n",
      "Approx 50% complete for 13_S13_R1_001_trimmed.fastq.gz\n",
      "Approx 55% complete for 13_S13_R1_001_trimmed.fastq.gz\n",
      "Approx 60% complete for 13_S13_R1_001_trimmed.fastq.gz\n",
      "Approx 65% complete for 13_S13_R1_001_trimmed.fastq.gz\n",
      "Approx 70% complete for 13_S13_R1_001_trimmed.fastq.gz\n",
      "Approx 75% complete for 13_S13_R1_001_trimmed.fastq.gz\n",
      "Approx 80% complete for 13_S13_R1_001_trimmed.fastq.gz\n",
      "Approx 85% complete for 13_S13_R1_001_trimmed.fastq.gz\n",
      "Approx 90% complete for 13_S13_R1_001_trimmed.fastq.gz\n",
      "Approx 95% complete for 13_S13_R1_001_trimmed.fastq.gz\n"
     ]
    },
    {
     "name": "stdout",
     "output_type": "stream",
     "text": [
      "Analysis complete for 13_S13_R1_001_trimmed.fastq.gz\n"
     ]
    },
    {
     "name": "stderr",
     "output_type": "stream",
     "text": [
      "Started analysis of 14_S14_R1_001_trimmed.fastq.gz\n",
      "Approx 5% complete for 14_S14_R1_001_trimmed.fastq.gz\n",
      "Approx 10% complete for 14_S14_R1_001_trimmed.fastq.gz\n",
      "Approx 15% complete for 14_S14_R1_001_trimmed.fastq.gz\n",
      "Approx 20% complete for 14_S14_R1_001_trimmed.fastq.gz\n",
      "Approx 25% complete for 14_S14_R1_001_trimmed.fastq.gz\n",
      "Approx 30% complete for 14_S14_R1_001_trimmed.fastq.gz\n",
      "Approx 35% complete for 14_S14_R1_001_trimmed.fastq.gz\n",
      "Approx 40% complete for 14_S14_R1_001_trimmed.fastq.gz\n",
      "Approx 45% complete for 14_S14_R1_001_trimmed.fastq.gz\n",
      "Approx 50% complete for 14_S14_R1_001_trimmed.fastq.gz\n",
      "Approx 55% complete for 14_S14_R1_001_trimmed.fastq.gz\n",
      "Approx 60% complete for 14_S14_R1_001_trimmed.fastq.gz\n",
      "Approx 65% complete for 14_S14_R1_001_trimmed.fastq.gz\n",
      "Approx 70% complete for 14_S14_R1_001_trimmed.fastq.gz\n",
      "Approx 75% complete for 14_S14_R1_001_trimmed.fastq.gz\n",
      "Approx 80% complete for 14_S14_R1_001_trimmed.fastq.gz\n",
      "Approx 85% complete for 14_S14_R1_001_trimmed.fastq.gz\n",
      "Approx 90% complete for 14_S14_R1_001_trimmed.fastq.gz\n",
      "Approx 95% complete for 14_S14_R1_001_trimmed.fastq.gz\n"
     ]
    },
    {
     "name": "stdout",
     "output_type": "stream",
     "text": [
      "Analysis complete for 14_S14_R1_001_trimmed.fastq.gz\n"
     ]
    },
    {
     "name": "stderr",
     "output_type": "stream",
     "text": [
      "Started analysis of 15_S15_R1_001_trimmed.fastq.gz\n",
      "Approx 5% complete for 15_S15_R1_001_trimmed.fastq.gz\n",
      "Approx 10% complete for 15_S15_R1_001_trimmed.fastq.gz\n",
      "Approx 15% complete for 15_S15_R1_001_trimmed.fastq.gz\n",
      "Approx 20% complete for 15_S15_R1_001_trimmed.fastq.gz\n",
      "Approx 25% complete for 15_S15_R1_001_trimmed.fastq.gz\n",
      "Approx 30% complete for 15_S15_R1_001_trimmed.fastq.gz\n",
      "Approx 35% complete for 15_S15_R1_001_trimmed.fastq.gz\n",
      "Approx 40% complete for 15_S15_R1_001_trimmed.fastq.gz\n",
      "Approx 45% complete for 15_S15_R1_001_trimmed.fastq.gz\n",
      "Approx 50% complete for 15_S15_R1_001_trimmed.fastq.gz\n",
      "Approx 55% complete for 15_S15_R1_001_trimmed.fastq.gz\n",
      "Approx 60% complete for 15_S15_R1_001_trimmed.fastq.gz\n",
      "Approx 65% complete for 15_S15_R1_001_trimmed.fastq.gz\n",
      "Approx 70% complete for 15_S15_R1_001_trimmed.fastq.gz\n",
      "Approx 75% complete for 15_S15_R1_001_trimmed.fastq.gz\n",
      "Approx 80% complete for 15_S15_R1_001_trimmed.fastq.gz\n",
      "Approx 85% complete for 15_S15_R1_001_trimmed.fastq.gz\n",
      "Approx 90% complete for 15_S15_R1_001_trimmed.fastq.gz\n",
      "Approx 95% complete for 15_S15_R1_001_trimmed.fastq.gz\n"
     ]
    },
    {
     "name": "stdout",
     "output_type": "stream",
     "text": [
      "Analysis complete for 15_S15_R1_001_trimmed.fastq.gz\n"
     ]
    },
    {
     "name": "stderr",
     "output_type": "stream",
     "text": [
      "Started analysis of 16_S16_R1_001_trimmed.fastq.gz\n",
      "Approx 5% complete for 16_S16_R1_001_trimmed.fastq.gz\n",
      "Approx 10% complete for 16_S16_R1_001_trimmed.fastq.gz\n",
      "Approx 15% complete for 16_S16_R1_001_trimmed.fastq.gz\n",
      "Approx 20% complete for 16_S16_R1_001_trimmed.fastq.gz\n",
      "Approx 25% complete for 16_S16_R1_001_trimmed.fastq.gz\n",
      "Approx 30% complete for 16_S16_R1_001_trimmed.fastq.gz\n",
      "Approx 35% complete for 16_S16_R1_001_trimmed.fastq.gz\n",
      "Approx 40% complete for 16_S16_R1_001_trimmed.fastq.gz\n",
      "Approx 45% complete for 16_S16_R1_001_trimmed.fastq.gz\n",
      "Approx 50% complete for 16_S16_R1_001_trimmed.fastq.gz\n",
      "Approx 55% complete for 16_S16_R1_001_trimmed.fastq.gz\n",
      "Approx 60% complete for 16_S16_R1_001_trimmed.fastq.gz\n",
      "Approx 65% complete for 16_S16_R1_001_trimmed.fastq.gz\n",
      "Approx 70% complete for 16_S16_R1_001_trimmed.fastq.gz\n",
      "Approx 75% complete for 16_S16_R1_001_trimmed.fastq.gz\n",
      "Approx 80% complete for 16_S16_R1_001_trimmed.fastq.gz\n",
      "Approx 85% complete for 16_S16_R1_001_trimmed.fastq.gz\n",
      "Approx 90% complete for 16_S16_R1_001_trimmed.fastq.gz\n",
      "Approx 95% complete for 16_S16_R1_001_trimmed.fastq.gz\n"
     ]
    },
    {
     "name": "stdout",
     "output_type": "stream",
     "text": [
      "Analysis complete for 16_S16_R1_001_trimmed.fastq.gz\n"
     ]
    },
    {
     "name": "stderr",
     "output_type": "stream",
     "text": [
      "Started analysis of 17_S17_R1_001_trimmed.fastq.gz\n",
      "Approx 5% complete for 17_S17_R1_001_trimmed.fastq.gz\n",
      "Approx 10% complete for 17_S17_R1_001_trimmed.fastq.gz\n",
      "Approx 15% complete for 17_S17_R1_001_trimmed.fastq.gz\n",
      "Approx 20% complete for 17_S17_R1_001_trimmed.fastq.gz\n",
      "Approx 25% complete for 17_S17_R1_001_trimmed.fastq.gz\n",
      "Approx 30% complete for 17_S17_R1_001_trimmed.fastq.gz\n",
      "Approx 35% complete for 17_S17_R1_001_trimmed.fastq.gz\n",
      "Approx 40% complete for 17_S17_R1_001_trimmed.fastq.gz\n",
      "Approx 45% complete for 17_S17_R1_001_trimmed.fastq.gz\n",
      "Approx 50% complete for 17_S17_R1_001_trimmed.fastq.gz\n",
      "Approx 55% complete for 17_S17_R1_001_trimmed.fastq.gz\n",
      "Approx 60% complete for 17_S17_R1_001_trimmed.fastq.gz\n",
      "Approx 65% complete for 17_S17_R1_001_trimmed.fastq.gz\n",
      "Approx 70% complete for 17_S17_R1_001_trimmed.fastq.gz\n",
      "Approx 75% complete for 17_S17_R1_001_trimmed.fastq.gz\n",
      "Approx 80% complete for 17_S17_R1_001_trimmed.fastq.gz\n",
      "Approx 85% complete for 17_S17_R1_001_trimmed.fastq.gz\n",
      "Approx 90% complete for 17_S17_R1_001_trimmed.fastq.gz\n",
      "Approx 95% complete for 17_S17_R1_001_trimmed.fastq.gz\n"
     ]
    },
    {
     "name": "stdout",
     "output_type": "stream",
     "text": [
      "Analysis complete for 17_S17_R1_001_trimmed.fastq.gz\n"
     ]
    },
    {
     "name": "stderr",
     "output_type": "stream",
     "text": [
      "Started analysis of 18_S18_R1_001_trimmed.fastq.gz\n",
      "Approx 5% complete for 18_S18_R1_001_trimmed.fastq.gz\n",
      "Approx 10% complete for 18_S18_R1_001_trimmed.fastq.gz\n",
      "Approx 15% complete for 18_S18_R1_001_trimmed.fastq.gz\n",
      "Approx 20% complete for 18_S18_R1_001_trimmed.fastq.gz\n",
      "Approx 25% complete for 18_S18_R1_001_trimmed.fastq.gz\n",
      "Approx 30% complete for 18_S18_R1_001_trimmed.fastq.gz\n",
      "Approx 35% complete for 18_S18_R1_001_trimmed.fastq.gz\n",
      "Approx 40% complete for 18_S18_R1_001_trimmed.fastq.gz\n",
      "Approx 45% complete for 18_S18_R1_001_trimmed.fastq.gz\n",
      "Approx 50% complete for 18_S18_R1_001_trimmed.fastq.gz\n",
      "Approx 55% complete for 18_S18_R1_001_trimmed.fastq.gz\n",
      "Approx 60% complete for 18_S18_R1_001_trimmed.fastq.gz\n",
      "Approx 65% complete for 18_S18_R1_001_trimmed.fastq.gz\n",
      "Approx 70% complete for 18_S18_R1_001_trimmed.fastq.gz\n",
      "Approx 75% complete for 18_S18_R1_001_trimmed.fastq.gz\n",
      "Approx 80% complete for 18_S18_R1_001_trimmed.fastq.gz\n",
      "Approx 85% complete for 18_S18_R1_001_trimmed.fastq.gz\n",
      "Approx 90% complete for 18_S18_R1_001_trimmed.fastq.gz\n",
      "Approx 95% complete for 18_S18_R1_001_trimmed.fastq.gz\n"
     ]
    },
    {
     "name": "stdout",
     "output_type": "stream",
     "text": [
      "Analysis complete for 18_S18_R1_001_trimmed.fastq.gz\n"
     ]
    },
    {
     "name": "stderr",
     "output_type": "stream",
     "text": [
      "Started analysis of 19_S19_R1_001_trimmed.fastq.gz\n",
      "Approx 5% complete for 19_S19_R1_001_trimmed.fastq.gz\n",
      "Approx 10% complete for 19_S19_R1_001_trimmed.fastq.gz\n",
      "Approx 15% complete for 19_S19_R1_001_trimmed.fastq.gz\n",
      "Approx 20% complete for 19_S19_R1_001_trimmed.fastq.gz\n",
      "Approx 25% complete for 19_S19_R1_001_trimmed.fastq.gz\n",
      "Approx 30% complete for 19_S19_R1_001_trimmed.fastq.gz\n",
      "Approx 35% complete for 19_S19_R1_001_trimmed.fastq.gz\n",
      "Approx 40% complete for 19_S19_R1_001_trimmed.fastq.gz\n",
      "Approx 45% complete for 19_S19_R1_001_trimmed.fastq.gz\n",
      "Approx 50% complete for 19_S19_R1_001_trimmed.fastq.gz\n",
      "Approx 55% complete for 19_S19_R1_001_trimmed.fastq.gz\n",
      "Approx 60% complete for 19_S19_R1_001_trimmed.fastq.gz\n",
      "Approx 65% complete for 19_S19_R1_001_trimmed.fastq.gz\n",
      "Approx 70% complete for 19_S19_R1_001_trimmed.fastq.gz\n",
      "Approx 75% complete for 19_S19_R1_001_trimmed.fastq.gz\n",
      "Approx 80% complete for 19_S19_R1_001_trimmed.fastq.gz\n",
      "Approx 85% complete for 19_S19_R1_001_trimmed.fastq.gz\n",
      "Approx 90% complete for 19_S19_R1_001_trimmed.fastq.gz\n",
      "Approx 95% complete for 19_S19_R1_001_trimmed.fastq.gz\n"
     ]
    },
    {
     "name": "stdout",
     "output_type": "stream",
     "text": [
      "Analysis complete for 19_S19_R1_001_trimmed.fastq.gz\n"
     ]
    },
    {
     "name": "stderr",
     "output_type": "stream",
     "text": [
      "Started analysis of 1_S1_R1_001_trimmed.fastq.gz\n",
      "Approx 5% complete for 1_S1_R1_001_trimmed.fastq.gz\n",
      "Approx 10% complete for 1_S1_R1_001_trimmed.fastq.gz\n",
      "Approx 15% complete for 1_S1_R1_001_trimmed.fastq.gz\n",
      "Approx 20% complete for 1_S1_R1_001_trimmed.fastq.gz\n",
      "Approx 25% complete for 1_S1_R1_001_trimmed.fastq.gz\n",
      "Approx 30% complete for 1_S1_R1_001_trimmed.fastq.gz\n",
      "Approx 35% complete for 1_S1_R1_001_trimmed.fastq.gz\n",
      "Approx 40% complete for 1_S1_R1_001_trimmed.fastq.gz\n",
      "Approx 45% complete for 1_S1_R1_001_trimmed.fastq.gz\n",
      "Approx 50% complete for 1_S1_R1_001_trimmed.fastq.gz\n",
      "Approx 55% complete for 1_S1_R1_001_trimmed.fastq.gz\n",
      "Approx 60% complete for 1_S1_R1_001_trimmed.fastq.gz\n",
      "Approx 65% complete for 1_S1_R1_001_trimmed.fastq.gz\n",
      "Approx 70% complete for 1_S1_R1_001_trimmed.fastq.gz\n",
      "Approx 75% complete for 1_S1_R1_001_trimmed.fastq.gz\n",
      "Approx 80% complete for 1_S1_R1_001_trimmed.fastq.gz\n",
      "Approx 85% complete for 1_S1_R1_001_trimmed.fastq.gz\n",
      "Approx 90% complete for 1_S1_R1_001_trimmed.fastq.gz\n",
      "Approx 95% complete for 1_S1_R1_001_trimmed.fastq.gz\n"
     ]
    },
    {
     "name": "stdout",
     "output_type": "stream",
     "text": [
      "Analysis complete for 1_S1_R1_001_trimmed.fastq.gz\n"
     ]
    },
    {
     "name": "stderr",
     "output_type": "stream",
     "text": [
      "Started analysis of 20_S20_R1_001_trimmed.fastq.gz\n",
      "Approx 5% complete for 20_S20_R1_001_trimmed.fastq.gz\n",
      "Approx 10% complete for 20_S20_R1_001_trimmed.fastq.gz\n",
      "Approx 15% complete for 20_S20_R1_001_trimmed.fastq.gz\n",
      "Approx 20% complete for 20_S20_R1_001_trimmed.fastq.gz\n",
      "Approx 25% complete for 20_S20_R1_001_trimmed.fastq.gz\n",
      "Approx 30% complete for 20_S20_R1_001_trimmed.fastq.gz\n",
      "Approx 35% complete for 20_S20_R1_001_trimmed.fastq.gz\n",
      "Approx 40% complete for 20_S20_R1_001_trimmed.fastq.gz\n",
      "Approx 45% complete for 20_S20_R1_001_trimmed.fastq.gz\n",
      "Approx 50% complete for 20_S20_R1_001_trimmed.fastq.gz\n",
      "Approx 55% complete for 20_S20_R1_001_trimmed.fastq.gz\n",
      "Approx 60% complete for 20_S20_R1_001_trimmed.fastq.gz\n",
      "Approx 65% complete for 20_S20_R1_001_trimmed.fastq.gz\n",
      "Approx 70% complete for 20_S20_R1_001_trimmed.fastq.gz\n",
      "Approx 75% complete for 20_S20_R1_001_trimmed.fastq.gz\n",
      "Approx 80% complete for 20_S20_R1_001_trimmed.fastq.gz\n",
      "Approx 85% complete for 20_S20_R1_001_trimmed.fastq.gz\n",
      "Approx 90% complete for 20_S20_R1_001_trimmed.fastq.gz\n",
      "Approx 95% complete for 20_S20_R1_001_trimmed.fastq.gz\n"
     ]
    },
    {
     "name": "stdout",
     "output_type": "stream",
     "text": [
      "Analysis complete for 20_S20_R1_001_trimmed.fastq.gz\n"
     ]
    },
    {
     "name": "stderr",
     "output_type": "stream",
     "text": [
      "Started analysis of 21_S21_R1_001_trimmed.fastq.gz\n",
      "Approx 5% complete for 21_S21_R1_001_trimmed.fastq.gz\n",
      "Approx 10% complete for 21_S21_R1_001_trimmed.fastq.gz\n",
      "Approx 15% complete for 21_S21_R1_001_trimmed.fastq.gz\n",
      "Approx 20% complete for 21_S21_R1_001_trimmed.fastq.gz\n",
      "Approx 25% complete for 21_S21_R1_001_trimmed.fastq.gz\n",
      "Approx 30% complete for 21_S21_R1_001_trimmed.fastq.gz\n",
      "Approx 35% complete for 21_S21_R1_001_trimmed.fastq.gz\n",
      "Approx 40% complete for 21_S21_R1_001_trimmed.fastq.gz\n",
      "Approx 45% complete for 21_S21_R1_001_trimmed.fastq.gz\n",
      "Approx 50% complete for 21_S21_R1_001_trimmed.fastq.gz\n",
      "Approx 55% complete for 21_S21_R1_001_trimmed.fastq.gz\n",
      "Approx 60% complete for 21_S21_R1_001_trimmed.fastq.gz\n",
      "Approx 65% complete for 21_S21_R1_001_trimmed.fastq.gz\n",
      "Approx 70% complete for 21_S21_R1_001_trimmed.fastq.gz\n",
      "Approx 75% complete for 21_S21_R1_001_trimmed.fastq.gz\n",
      "Approx 80% complete for 21_S21_R1_001_trimmed.fastq.gz\n",
      "Approx 85% complete for 21_S21_R1_001_trimmed.fastq.gz\n",
      "Approx 90% complete for 21_S21_R1_001_trimmed.fastq.gz\n",
      "Approx 95% complete for 21_S21_R1_001_trimmed.fastq.gz\n"
     ]
    },
    {
     "name": "stdout",
     "output_type": "stream",
     "text": [
      "Analysis complete for 21_S21_R1_001_trimmed.fastq.gz\n"
     ]
    },
    {
     "name": "stderr",
     "output_type": "stream",
     "text": [
      "Started analysis of 22_S22_R1_001_trimmed.fastq.gz\n",
      "Approx 5% complete for 22_S22_R1_001_trimmed.fastq.gz\n",
      "Approx 10% complete for 22_S22_R1_001_trimmed.fastq.gz\n",
      "Approx 15% complete for 22_S22_R1_001_trimmed.fastq.gz\n",
      "Approx 20% complete for 22_S22_R1_001_trimmed.fastq.gz\n",
      "Approx 25% complete for 22_S22_R1_001_trimmed.fastq.gz\n",
      "Approx 30% complete for 22_S22_R1_001_trimmed.fastq.gz\n",
      "Approx 35% complete for 22_S22_R1_001_trimmed.fastq.gz\n",
      "Approx 40% complete for 22_S22_R1_001_trimmed.fastq.gz\n",
      "Approx 45% complete for 22_S22_R1_001_trimmed.fastq.gz\n",
      "Approx 50% complete for 22_S22_R1_001_trimmed.fastq.gz\n",
      "Approx 55% complete for 22_S22_R1_001_trimmed.fastq.gz\n",
      "Approx 60% complete for 22_S22_R1_001_trimmed.fastq.gz\n",
      "Approx 65% complete for 22_S22_R1_001_trimmed.fastq.gz\n",
      "Approx 70% complete for 22_S22_R1_001_trimmed.fastq.gz\n",
      "Approx 75% complete for 22_S22_R1_001_trimmed.fastq.gz\n",
      "Approx 80% complete for 22_S22_R1_001_trimmed.fastq.gz\n",
      "Approx 85% complete for 22_S22_R1_001_trimmed.fastq.gz\n",
      "Approx 90% complete for 22_S22_R1_001_trimmed.fastq.gz\n",
      "Approx 95% complete for 22_S22_R1_001_trimmed.fastq.gz\n"
     ]
    },
    {
     "name": "stdout",
     "output_type": "stream",
     "text": [
      "Analysis complete for 22_S22_R1_001_trimmed.fastq.gz\n"
     ]
    },
    {
     "name": "stderr",
     "output_type": "stream",
     "text": [
      "Started analysis of 23_S23_R1_001_trimmed.fastq.gz\n",
      "Approx 5% complete for 23_S23_R1_001_trimmed.fastq.gz\n",
      "Approx 10% complete for 23_S23_R1_001_trimmed.fastq.gz\n",
      "Approx 15% complete for 23_S23_R1_001_trimmed.fastq.gz\n",
      "Approx 20% complete for 23_S23_R1_001_trimmed.fastq.gz\n",
      "Approx 25% complete for 23_S23_R1_001_trimmed.fastq.gz\n",
      "Approx 30% complete for 23_S23_R1_001_trimmed.fastq.gz\n",
      "Approx 35% complete for 23_S23_R1_001_trimmed.fastq.gz\n",
      "Approx 40% complete for 23_S23_R1_001_trimmed.fastq.gz\n",
      "Approx 45% complete for 23_S23_R1_001_trimmed.fastq.gz\n",
      "Approx 50% complete for 23_S23_R1_001_trimmed.fastq.gz\n",
      "Approx 55% complete for 23_S23_R1_001_trimmed.fastq.gz\n",
      "Approx 60% complete for 23_S23_R1_001_trimmed.fastq.gz\n",
      "Approx 65% complete for 23_S23_R1_001_trimmed.fastq.gz\n",
      "Approx 70% complete for 23_S23_R1_001_trimmed.fastq.gz\n",
      "Approx 75% complete for 23_S23_R1_001_trimmed.fastq.gz\n",
      "Approx 80% complete for 23_S23_R1_001_trimmed.fastq.gz\n",
      "Approx 85% complete for 23_S23_R1_001_trimmed.fastq.gz\n",
      "Approx 90% complete for 23_S23_R1_001_trimmed.fastq.gz\n",
      "Approx 95% complete for 23_S23_R1_001_trimmed.fastq.gz\n"
     ]
    },
    {
     "name": "stdout",
     "output_type": "stream",
     "text": [
      "Analysis complete for 23_S23_R1_001_trimmed.fastq.gz\n"
     ]
    },
    {
     "name": "stderr",
     "output_type": "stream",
     "text": [
      "Started analysis of 24_S24_R1_001_trimmed.fastq.gz\n",
      "Approx 5% complete for 24_S24_R1_001_trimmed.fastq.gz\n",
      "Approx 10% complete for 24_S24_R1_001_trimmed.fastq.gz\n",
      "Approx 15% complete for 24_S24_R1_001_trimmed.fastq.gz\n",
      "Approx 20% complete for 24_S24_R1_001_trimmed.fastq.gz\n",
      "Approx 25% complete for 24_S24_R1_001_trimmed.fastq.gz\n",
      "Approx 30% complete for 24_S24_R1_001_trimmed.fastq.gz\n",
      "Approx 35% complete for 24_S24_R1_001_trimmed.fastq.gz\n",
      "Approx 40% complete for 24_S24_R1_001_trimmed.fastq.gz\n",
      "Approx 45% complete for 24_S24_R1_001_trimmed.fastq.gz\n",
      "Approx 50% complete for 24_S24_R1_001_trimmed.fastq.gz\n",
      "Approx 55% complete for 24_S24_R1_001_trimmed.fastq.gz\n",
      "Approx 60% complete for 24_S24_R1_001_trimmed.fastq.gz\n",
      "Approx 65% complete for 24_S24_R1_001_trimmed.fastq.gz\n",
      "Approx 70% complete for 24_S24_R1_001_trimmed.fastq.gz\n",
      "Approx 75% complete for 24_S24_R1_001_trimmed.fastq.gz\n",
      "Approx 80% complete for 24_S24_R1_001_trimmed.fastq.gz\n",
      "Approx 85% complete for 24_S24_R1_001_trimmed.fastq.gz\n",
      "Approx 90% complete for 24_S24_R1_001_trimmed.fastq.gz\n",
      "Approx 95% complete for 24_S24_R1_001_trimmed.fastq.gz\n"
     ]
    },
    {
     "name": "stdout",
     "output_type": "stream",
     "text": [
      "Analysis complete for 24_S24_R1_001_trimmed.fastq.gz\n"
     ]
    },
    {
     "name": "stderr",
     "output_type": "stream",
     "text": [
      "Started analysis of 2_S2_R1_001_trimmed.fastq.gz\n",
      "Approx 5% complete for 2_S2_R1_001_trimmed.fastq.gz\n",
      "Approx 10% complete for 2_S2_R1_001_trimmed.fastq.gz\n",
      "Approx 15% complete for 2_S2_R1_001_trimmed.fastq.gz\n",
      "Approx 20% complete for 2_S2_R1_001_trimmed.fastq.gz\n",
      "Approx 25% complete for 2_S2_R1_001_trimmed.fastq.gz\n",
      "Approx 30% complete for 2_S2_R1_001_trimmed.fastq.gz\n",
      "Approx 35% complete for 2_S2_R1_001_trimmed.fastq.gz\n",
      "Approx 40% complete for 2_S2_R1_001_trimmed.fastq.gz\n",
      "Approx 45% complete for 2_S2_R1_001_trimmed.fastq.gz\n",
      "Approx 50% complete for 2_S2_R1_001_trimmed.fastq.gz\n",
      "Approx 55% complete for 2_S2_R1_001_trimmed.fastq.gz\n",
      "Approx 60% complete for 2_S2_R1_001_trimmed.fastq.gz\n",
      "Approx 65% complete for 2_S2_R1_001_trimmed.fastq.gz\n",
      "Approx 70% complete for 2_S2_R1_001_trimmed.fastq.gz\n",
      "Approx 75% complete for 2_S2_R1_001_trimmed.fastq.gz\n",
      "Approx 80% complete for 2_S2_R1_001_trimmed.fastq.gz\n",
      "Approx 85% complete for 2_S2_R1_001_trimmed.fastq.gz\n",
      "Approx 90% complete for 2_S2_R1_001_trimmed.fastq.gz\n",
      "Approx 95% complete for 2_S2_R1_001_trimmed.fastq.gz\n"
     ]
    },
    {
     "name": "stdout",
     "output_type": "stream",
     "text": [
      "Analysis complete for 2_S2_R1_001_trimmed.fastq.gz\n"
     ]
    },
    {
     "name": "stderr",
     "output_type": "stream",
     "text": [
      "Started analysis of 3_S3_R1_001_trimmed.fastq.gz\n",
      "Approx 5% complete for 3_S3_R1_001_trimmed.fastq.gz\n",
      "Approx 10% complete for 3_S3_R1_001_trimmed.fastq.gz\n",
      "Approx 15% complete for 3_S3_R1_001_trimmed.fastq.gz\n",
      "Approx 20% complete for 3_S3_R1_001_trimmed.fastq.gz\n",
      "Approx 25% complete for 3_S3_R1_001_trimmed.fastq.gz\n",
      "Approx 30% complete for 3_S3_R1_001_trimmed.fastq.gz\n",
      "Approx 35% complete for 3_S3_R1_001_trimmed.fastq.gz\n",
      "Approx 40% complete for 3_S3_R1_001_trimmed.fastq.gz\n",
      "Approx 45% complete for 3_S3_R1_001_trimmed.fastq.gz\n",
      "Approx 50% complete for 3_S3_R1_001_trimmed.fastq.gz\n",
      "Approx 55% complete for 3_S3_R1_001_trimmed.fastq.gz\n",
      "Approx 60% complete for 3_S3_R1_001_trimmed.fastq.gz\n",
      "Approx 65% complete for 3_S3_R1_001_trimmed.fastq.gz\n",
      "Approx 70% complete for 3_S3_R1_001_trimmed.fastq.gz\n",
      "Approx 75% complete for 3_S3_R1_001_trimmed.fastq.gz\n",
      "Approx 80% complete for 3_S3_R1_001_trimmed.fastq.gz\n",
      "Approx 85% complete for 3_S3_R1_001_trimmed.fastq.gz\n",
      "Approx 90% complete for 3_S3_R1_001_trimmed.fastq.gz\n",
      "Approx 95% complete for 3_S3_R1_001_trimmed.fastq.gz\n"
     ]
    },
    {
     "name": "stdout",
     "output_type": "stream",
     "text": [
      "Analysis complete for 3_S3_R1_001_trimmed.fastq.gz\n"
     ]
    },
    {
     "name": "stderr",
     "output_type": "stream",
     "text": [
      "Started analysis of 4_S4_R1_001_trimmed.fastq.gz\n",
      "Approx 5% complete for 4_S4_R1_001_trimmed.fastq.gz\n",
      "Approx 10% complete for 4_S4_R1_001_trimmed.fastq.gz\n",
      "Approx 15% complete for 4_S4_R1_001_trimmed.fastq.gz\n",
      "Approx 20% complete for 4_S4_R1_001_trimmed.fastq.gz\n",
      "Approx 25% complete for 4_S4_R1_001_trimmed.fastq.gz\n",
      "Approx 30% complete for 4_S4_R1_001_trimmed.fastq.gz\n",
      "Approx 35% complete for 4_S4_R1_001_trimmed.fastq.gz\n",
      "Approx 40% complete for 4_S4_R1_001_trimmed.fastq.gz\n",
      "Approx 45% complete for 4_S4_R1_001_trimmed.fastq.gz\n",
      "Approx 50% complete for 4_S4_R1_001_trimmed.fastq.gz\n",
      "Approx 55% complete for 4_S4_R1_001_trimmed.fastq.gz\n",
      "Approx 60% complete for 4_S4_R1_001_trimmed.fastq.gz\n",
      "Approx 65% complete for 4_S4_R1_001_trimmed.fastq.gz\n",
      "Approx 70% complete for 4_S4_R1_001_trimmed.fastq.gz\n",
      "Approx 75% complete for 4_S4_R1_001_trimmed.fastq.gz\n",
      "Approx 80% complete for 4_S4_R1_001_trimmed.fastq.gz\n",
      "Approx 85% complete for 4_S4_R1_001_trimmed.fastq.gz\n",
      "Approx 90% complete for 4_S4_R1_001_trimmed.fastq.gz\n",
      "Approx 95% complete for 4_S4_R1_001_trimmed.fastq.gz\n"
     ]
    },
    {
     "name": "stdout",
     "output_type": "stream",
     "text": [
      "Analysis complete for 4_S4_R1_001_trimmed.fastq.gz\n"
     ]
    },
    {
     "name": "stderr",
     "output_type": "stream",
     "text": [
      "Started analysis of 5_S5_R1_001_trimmed.fastq.gz\n",
      "Approx 5% complete for 5_S5_R1_001_trimmed.fastq.gz\n",
      "Approx 10% complete for 5_S5_R1_001_trimmed.fastq.gz\n",
      "Approx 15% complete for 5_S5_R1_001_trimmed.fastq.gz\n",
      "Approx 20% complete for 5_S5_R1_001_trimmed.fastq.gz\n",
      "Approx 25% complete for 5_S5_R1_001_trimmed.fastq.gz\n",
      "Approx 30% complete for 5_S5_R1_001_trimmed.fastq.gz\n",
      "Approx 35% complete for 5_S5_R1_001_trimmed.fastq.gz\n",
      "Approx 40% complete for 5_S5_R1_001_trimmed.fastq.gz\n",
      "Approx 45% complete for 5_S5_R1_001_trimmed.fastq.gz\n",
      "Approx 50% complete for 5_S5_R1_001_trimmed.fastq.gz\n",
      "Approx 55% complete for 5_S5_R1_001_trimmed.fastq.gz\n",
      "Approx 60% complete for 5_S5_R1_001_trimmed.fastq.gz\n",
      "Approx 65% complete for 5_S5_R1_001_trimmed.fastq.gz\n",
      "Approx 70% complete for 5_S5_R1_001_trimmed.fastq.gz\n",
      "Approx 75% complete for 5_S5_R1_001_trimmed.fastq.gz\n",
      "Approx 80% complete for 5_S5_R1_001_trimmed.fastq.gz\n",
      "Approx 85% complete for 5_S5_R1_001_trimmed.fastq.gz\n",
      "Approx 90% complete for 5_S5_R1_001_trimmed.fastq.gz\n",
      "Approx 95% complete for 5_S5_R1_001_trimmed.fastq.gz\n"
     ]
    },
    {
     "name": "stdout",
     "output_type": "stream",
     "text": [
      "Analysis complete for 5_S5_R1_001_trimmed.fastq.gz\n"
     ]
    },
    {
     "name": "stderr",
     "output_type": "stream",
     "text": [
      "Started analysis of 6_S6_R1_001_trimmed.fastq.gz\n",
      "Approx 5% complete for 6_S6_R1_001_trimmed.fastq.gz\n",
      "Approx 10% complete for 6_S6_R1_001_trimmed.fastq.gz\n",
      "Approx 15% complete for 6_S6_R1_001_trimmed.fastq.gz\n",
      "Approx 20% complete for 6_S6_R1_001_trimmed.fastq.gz\n",
      "Approx 25% complete for 6_S6_R1_001_trimmed.fastq.gz\n",
      "Approx 30% complete for 6_S6_R1_001_trimmed.fastq.gz\n",
      "Approx 35% complete for 6_S6_R1_001_trimmed.fastq.gz\n",
      "Approx 40% complete for 6_S6_R1_001_trimmed.fastq.gz\n",
      "Approx 45% complete for 6_S6_R1_001_trimmed.fastq.gz\n",
      "Approx 50% complete for 6_S6_R1_001_trimmed.fastq.gz\n",
      "Approx 55% complete for 6_S6_R1_001_trimmed.fastq.gz\n",
      "Approx 60% complete for 6_S6_R1_001_trimmed.fastq.gz\n",
      "Approx 65% complete for 6_S6_R1_001_trimmed.fastq.gz\n",
      "Approx 70% complete for 6_S6_R1_001_trimmed.fastq.gz\n",
      "Approx 75% complete for 6_S6_R1_001_trimmed.fastq.gz\n",
      "Approx 80% complete for 6_S6_R1_001_trimmed.fastq.gz\n",
      "Approx 85% complete for 6_S6_R1_001_trimmed.fastq.gz\n",
      "Approx 90% complete for 6_S6_R1_001_trimmed.fastq.gz\n",
      "Approx 95% complete for 6_S6_R1_001_trimmed.fastq.gz\n"
     ]
    },
    {
     "name": "stdout",
     "output_type": "stream",
     "text": [
      "Analysis complete for 6_S6_R1_001_trimmed.fastq.gz\n"
     ]
    },
    {
     "name": "stderr",
     "output_type": "stream",
     "text": [
      "Started analysis of 7_S7_R1_001_trimmed.fastq.gz\n",
      "Approx 5% complete for 7_S7_R1_001_trimmed.fastq.gz\n",
      "Approx 10% complete for 7_S7_R1_001_trimmed.fastq.gz\n",
      "Approx 15% complete for 7_S7_R1_001_trimmed.fastq.gz\n",
      "Approx 20% complete for 7_S7_R1_001_trimmed.fastq.gz\n",
      "Approx 25% complete for 7_S7_R1_001_trimmed.fastq.gz\n",
      "Approx 30% complete for 7_S7_R1_001_trimmed.fastq.gz\n",
      "Approx 35% complete for 7_S7_R1_001_trimmed.fastq.gz\n",
      "Approx 40% complete for 7_S7_R1_001_trimmed.fastq.gz\n",
      "Approx 45% complete for 7_S7_R1_001_trimmed.fastq.gz\n",
      "Approx 50% complete for 7_S7_R1_001_trimmed.fastq.gz\n",
      "Approx 55% complete for 7_S7_R1_001_trimmed.fastq.gz\n",
      "Approx 60% complete for 7_S7_R1_001_trimmed.fastq.gz\n",
      "Approx 65% complete for 7_S7_R1_001_trimmed.fastq.gz\n",
      "Approx 70% complete for 7_S7_R1_001_trimmed.fastq.gz\n",
      "Approx 75% complete for 7_S7_R1_001_trimmed.fastq.gz\n",
      "Approx 80% complete for 7_S7_R1_001_trimmed.fastq.gz\n",
      "Approx 85% complete for 7_S7_R1_001_trimmed.fastq.gz\n",
      "Approx 90% complete for 7_S7_R1_001_trimmed.fastq.gz\n",
      "Approx 95% complete for 7_S7_R1_001_trimmed.fastq.gz\n"
     ]
    },
    {
     "name": "stdout",
     "output_type": "stream",
     "text": [
      "Analysis complete for 7_S7_R1_001_trimmed.fastq.gz\n"
     ]
    },
    {
     "name": "stderr",
     "output_type": "stream",
     "text": [
      "Started analysis of 8_S8_R1_001_trimmed.fastq.gz\n",
      "Approx 5% complete for 8_S8_R1_001_trimmed.fastq.gz\n",
      "Approx 10% complete for 8_S8_R1_001_trimmed.fastq.gz\n",
      "Approx 15% complete for 8_S8_R1_001_trimmed.fastq.gz\n",
      "Approx 20% complete for 8_S8_R1_001_trimmed.fastq.gz\n",
      "Approx 25% complete for 8_S8_R1_001_trimmed.fastq.gz\n",
      "Approx 30% complete for 8_S8_R1_001_trimmed.fastq.gz\n",
      "Approx 35% complete for 8_S8_R1_001_trimmed.fastq.gz\n",
      "Approx 40% complete for 8_S8_R1_001_trimmed.fastq.gz\n",
      "Approx 45% complete for 8_S8_R1_001_trimmed.fastq.gz\n",
      "Approx 50% complete for 8_S8_R1_001_trimmed.fastq.gz\n",
      "Approx 55% complete for 8_S8_R1_001_trimmed.fastq.gz\n",
      "Approx 60% complete for 8_S8_R1_001_trimmed.fastq.gz\n",
      "Approx 65% complete for 8_S8_R1_001_trimmed.fastq.gz\n",
      "Approx 70% complete for 8_S8_R1_001_trimmed.fastq.gz\n",
      "Approx 75% complete for 8_S8_R1_001_trimmed.fastq.gz\n",
      "Approx 80% complete for 8_S8_R1_001_trimmed.fastq.gz\n",
      "Approx 85% complete for 8_S8_R1_001_trimmed.fastq.gz\n",
      "Approx 90% complete for 8_S8_R1_001_trimmed.fastq.gz\n",
      "Approx 95% complete for 8_S8_R1_001_trimmed.fastq.gz\n"
     ]
    },
    {
     "name": "stdout",
     "output_type": "stream",
     "text": [
      "Analysis complete for 8_S8_R1_001_trimmed.fastq.gz\n"
     ]
    },
    {
     "name": "stderr",
     "output_type": "stream",
     "text": [
      "Started analysis of 9_S9_R1_001_trimmed.fastq.gz\n",
      "Approx 5% complete for 9_S9_R1_001_trimmed.fastq.gz\n",
      "Approx 10% complete for 9_S9_R1_001_trimmed.fastq.gz\n",
      "Approx 15% complete for 9_S9_R1_001_trimmed.fastq.gz\n",
      "Approx 20% complete for 9_S9_R1_001_trimmed.fastq.gz\n",
      "Approx 25% complete for 9_S9_R1_001_trimmed.fastq.gz\n",
      "Approx 30% complete for 9_S9_R1_001_trimmed.fastq.gz\n",
      "Approx 35% complete for 9_S9_R1_001_trimmed.fastq.gz\n",
      "Approx 40% complete for 9_S9_R1_001_trimmed.fastq.gz\n",
      "Approx 45% complete for 9_S9_R1_001_trimmed.fastq.gz\n",
      "Approx 50% complete for 9_S9_R1_001_trimmed.fastq.gz\n",
      "Approx 55% complete for 9_S9_R1_001_trimmed.fastq.gz\n",
      "Approx 60% complete for 9_S9_R1_001_trimmed.fastq.gz\n",
      "Approx 65% complete for 9_S9_R1_001_trimmed.fastq.gz\n",
      "Approx 70% complete for 9_S9_R1_001_trimmed.fastq.gz\n",
      "Approx 75% complete for 9_S9_R1_001_trimmed.fastq.gz\n",
      "Approx 80% complete for 9_S9_R1_001_trimmed.fastq.gz\n",
      "Approx 85% complete for 9_S9_R1_001_trimmed.fastq.gz\n",
      "Approx 90% complete for 9_S9_R1_001_trimmed.fastq.gz\n",
      "Approx 95% complete for 9_S9_R1_001_trimmed.fastq.gz\n"
     ]
    },
    {
     "name": "stdout",
     "output_type": "stream",
     "text": [
      "Analysis complete for 9_S9_R1_001_trimmed.fastq.gz\n"
     ]
    }
   ],
   "source": [
    "%%bash\n",
    "mkdir -p ../../output/gut/fastqc_trimmed_bbduk_gut\n",
    "for file in ../../data/trimmed_bbduk_gut/*fastq.gz\n",
    "do\n",
    "    fastqc $file -o ../../output/gut/fastqc_trimmed_bbduk_gut\n",
    "done"
   ]
  },
  {
   "cell_type": "code",
   "execution_count": 9,
   "id": "80ec3cfd-3c77-4b81-b53d-13fa6b3dc3eb",
   "metadata": {},
   "outputs": [
    {
     "name": "stderr",
     "output_type": "stream",
     "text": [
      "\n",
      "\u001b[91m///\u001b[0m \u001b]8;id=167699;https://multiqc.info\u001b\\\u001b[1mMultiQC\u001b[0m\u001b]8;;\u001b\\ 🔍 \u001b[2mv1.27\u001b[0m\n",
      "\n",
      "\u001b[34m       file_search\u001b[0m | Search path: /mnt/data4A/ksenia/projects/brainNGS/output/gut/fastqc_trimmed_bbduk_gut\n",
      "\u001b[2K         \u001b[34msearching\u001b[0m | \u001b[90m━━━━━━━━━━━━━━━━━━━━━━━━━━━━━━━━━━━━━━━━\u001b[0m \u001b[35m100%\u001b[0m \u001b[32m48/48\u001b[0m  l\u001b[0mm  \n",
      "\u001b[?25h\u001b[34m            fastqc\u001b[0m | Found 24 reports\n",
      "\u001b[34m     write_results\u001b[0m | Data        : /mnt/data4A/ksenia/projects/brainNGS/output/gut/multiqc_trimmed_bbduk_gut/multiqc_data\n",
      "\u001b[34m     write_results\u001b[0m | Report      : /mnt/data4A/ksenia/projects/brainNGS/output/gut/multiqc_trimmed_bbduk_gut/multiqc_report.html\n",
      "\u001b[34m           multiqc\u001b[0m | MultiQC complete\n"
     ]
    }
   ],
   "source": [
    "%%bash\n",
    "multiqc -o ../../output/gut/multiqc_trimmed_bbduk_gut ../../output/gut/fastqc_trimmed_bbduk_gut"
   ]
  },
  {
   "cell_type": "code",
   "execution_count": null,
   "id": "7763d7cb-8323-4178-af46-d5d540be05fb",
   "metadata": {},
   "outputs": [],
   "source": []
  }
 ],
 "metadata": {
  "kernelspec": {
   "display_name": "Python 3 (ipykernel)",
   "language": "python",
   "name": "python3"
  },
  "language_info": {
   "codemirror_mode": {
    "name": "ipython",
    "version": 3
   },
   "file_extension": ".py",
   "mimetype": "text/x-python",
   "name": "python",
   "nbconvert_exporter": "python",
   "pygments_lexer": "ipython3",
   "version": "3.13.1"
  }
 },
 "nbformat": 4,
 "nbformat_minor": 5
}
