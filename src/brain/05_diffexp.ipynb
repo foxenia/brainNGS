{
 "cells": [
  {
   "cell_type": "markdown",
   "id": "acda6456-94a6-49d7-a127-7afcf45a9179",
   "metadata": {},
   "source": [
    "# Load libs"
   ]
  },
  {
   "cell_type": "code",
   "execution_count": 1,
   "id": "e82f7c74-38b8-4c12-9128-77b483a87f98",
   "metadata": {
    "scrolled": true
   },
   "outputs": [
    {
     "name": "stderr",
     "output_type": "stream",
     "text": [
      "Loading required package: S4Vectors\n",
      "\n",
      "Loading required package: stats4\n",
      "\n",
      "Loading required package: BiocGenerics\n",
      "\n",
      "\n",
      "Attaching package: ‘BiocGenerics’\n",
      "\n",
      "\n",
      "The following objects are masked from ‘package:stats’:\n",
      "\n",
      "    IQR, mad, sd, var, xtabs\n",
      "\n",
      "\n",
      "The following objects are masked from ‘package:base’:\n",
      "\n",
      "    anyDuplicated, aperm, append, as.data.frame, basename, cbind,\n",
      "    colnames, dirname, do.call, duplicated, eval, evalq, Filter, Find,\n",
      "    get, grep, grepl, intersect, is.unsorted, lapply, Map, mapply,\n",
      "    match, mget, order, paste, pmax, pmax.int, pmin, pmin.int,\n",
      "    Position, rank, rbind, Reduce, rownames, sapply, saveRDS, setdiff,\n",
      "    table, tapply, union, unique, unsplit, which.max, which.min\n",
      "\n",
      "\n",
      "\n",
      "Attaching package: ‘S4Vectors’\n",
      "\n",
      "\n",
      "The following object is masked from ‘package:utils’:\n",
      "\n",
      "    findMatches\n",
      "\n",
      "\n",
      "The following objects are masked from ‘package:base’:\n",
      "\n",
      "    expand.grid, I, unname\n",
      "\n",
      "\n",
      "Loading required package: IRanges\n",
      "\n",
      "Loading required package: GenomicRanges\n",
      "\n",
      "Loading required package: GenomeInfoDb\n",
      "\n",
      "Loading required package: SummarizedExperiment\n",
      "\n",
      "Loading required package: MatrixGenerics\n",
      "\n",
      "Loading required package: matrixStats\n",
      "\n",
      "\n",
      "Attaching package: ‘MatrixGenerics’\n",
      "\n",
      "\n",
      "The following objects are masked from ‘package:matrixStats’:\n",
      "\n",
      "    colAlls, colAnyNAs, colAnys, colAvgsPerRowSet, colCollapse,\n",
      "    colCounts, colCummaxs, colCummins, colCumprods, colCumsums,\n",
      "    colDiffs, colIQRDiffs, colIQRs, colLogSumExps, colMadDiffs,\n",
      "    colMads, colMaxs, colMeans2, colMedians, colMins, colOrderStats,\n",
      "    colProds, colQuantiles, colRanges, colRanks, colSdDiffs, colSds,\n",
      "    colSums2, colTabulates, colVarDiffs, colVars, colWeightedMads,\n",
      "    colWeightedMeans, colWeightedMedians, colWeightedSds,\n",
      "    colWeightedVars, rowAlls, rowAnyNAs, rowAnys, rowAvgsPerColSet,\n",
      "    rowCollapse, rowCounts, rowCummaxs, rowCummins, rowCumprods,\n",
      "    rowCumsums, rowDiffs, rowIQRDiffs, rowIQRs, rowLogSumExps,\n",
      "    rowMadDiffs, rowMads, rowMaxs, rowMeans2, rowMedians, rowMins,\n",
      "    rowOrderStats, rowProds, rowQuantiles, rowRanges, rowRanks,\n",
      "    rowSdDiffs, rowSds, rowSums2, rowTabulates, rowVarDiffs, rowVars,\n",
      "    rowWeightedMads, rowWeightedMeans, rowWeightedMedians,\n",
      "    rowWeightedSds, rowWeightedVars\n",
      "\n",
      "\n",
      "Loading required package: Biobase\n",
      "\n",
      "Welcome to Bioconductor\n",
      "\n",
      "    Vignettes contain introductory material; view with\n",
      "    'browseVignettes()'. To cite Bioconductor, see\n",
      "    'citation(\"Biobase\")', and for packages 'citation(\"pkgname\")'.\n",
      "\n",
      "\n",
      "\n",
      "Attaching package: ‘Biobase’\n",
      "\n",
      "\n",
      "The following object is masked from ‘package:MatrixGenerics’:\n",
      "\n",
      "    rowMedians\n",
      "\n",
      "\n",
      "The following objects are masked from ‘package:matrixStats’:\n",
      "\n",
      "    anyMissing, rowMedians\n",
      "\n",
      "\n"
     ]
    }
   ],
   "source": [
    "library(DESeq2)"
   ]
  },
  {
   "cell_type": "markdown",
   "id": "b1352bf1-dc7a-41ae-8a26-518d2bdc3b0d",
   "metadata": {},
   "source": [
    "# Prepare samples"
   ]
  },
  {
   "cell_type": "code",
   "execution_count": 16,
   "id": "6fd0a093-de1e-4c10-a886-92c8b4e7cdb0",
   "metadata": {},
   "outputs": [
    {
     "data": {
      "text/html": [
       "<table class=\"dataframe\">\n",
       "<caption>A data.frame: 8 × 5</caption>\n",
       "<thead>\n",
       "\t<tr><th></th><th scope=col>id</th><th scope=col>condition</th><th scope=col>replicate</th><th scope=col>timepoint</th><th scope=col>name</th></tr>\n",
       "\t<tr><th></th><th scope=col>&lt;chr&gt;</th><th scope=col>&lt;chr&gt;</th><th scope=col>&lt;chr&gt;</th><th scope=col>&lt;chr&gt;</th><th scope=col>&lt;chr&gt;</th></tr>\n",
       "</thead>\n",
       "<tbody>\n",
       "\t<tr><th scope=row>VL1</th><td>VL1</td><td>MLB2  </td><td>s1</td><td>4d</td><td>MLB2_s1  </td></tr>\n",
       "\t<tr><th scope=row>VL2</th><td>VL2</td><td>MLB2  </td><td>s2</td><td>4d</td><td>MLB2_s2  </td></tr>\n",
       "\t<tr><th scope=row>VL3</th><td>VL3</td><td>VA1   </td><td>s1</td><td>4d</td><td>VA1_s1   </td></tr>\n",
       "\t<tr><th scope=row>VL4</th><td>VL4</td><td>VA1   </td><td>s2</td><td>4d</td><td>VA1_s2   </td></tr>\n",
       "\t<tr><th scope=row>VL5</th><td>VL5</td><td>HAstV4</td><td>s1</td><td>4d</td><td>HAstV4_s1</td></tr>\n",
       "\t<tr><th scope=row>VL6</th><td>VL6</td><td>HAstV4</td><td>s2</td><td>4d</td><td>HAstV4_s2</td></tr>\n",
       "\t<tr><th scope=row>VL7</th><td>VL7</td><td>mock  </td><td>s1</td><td>4d</td><td>mock_s1  </td></tr>\n",
       "\t<tr><th scope=row>VL8</th><td>VL8</td><td>mock  </td><td>s2</td><td>4d</td><td>mock_s2  </td></tr>\n",
       "</tbody>\n",
       "</table>\n"
      ],
      "text/latex": [
       "A data.frame: 8 × 5\n",
       "\\begin{tabular}{r|lllll}\n",
       "  & id & condition & replicate & timepoint & name\\\\\n",
       "  & <chr> & <chr> & <chr> & <chr> & <chr>\\\\\n",
       "\\hline\n",
       "\tVL1 & VL1 & MLB2   & s1 & 4d & MLB2\\_s1  \\\\\n",
       "\tVL2 & VL2 & MLB2   & s2 & 4d & MLB2\\_s2  \\\\\n",
       "\tVL3 & VL3 & VA1    & s1 & 4d & VA1\\_s1   \\\\\n",
       "\tVL4 & VL4 & VA1    & s2 & 4d & VA1\\_s2   \\\\\n",
       "\tVL5 & VL5 & HAstV4 & s1 & 4d & HAstV4\\_s1\\\\\n",
       "\tVL6 & VL6 & HAstV4 & s2 & 4d & HAstV4\\_s2\\\\\n",
       "\tVL7 & VL7 & mock   & s1 & 4d & mock\\_s1  \\\\\n",
       "\tVL8 & VL8 & mock   & s2 & 4d & mock\\_s2  \\\\\n",
       "\\end{tabular}\n"
      ],
      "text/markdown": [
       "\n",
       "A data.frame: 8 × 5\n",
       "\n",
       "| <!--/--> | id &lt;chr&gt; | condition &lt;chr&gt; | replicate &lt;chr&gt; | timepoint &lt;chr&gt; | name &lt;chr&gt; |\n",
       "|---|---|---|---|---|---|\n",
       "| VL1 | VL1 | MLB2   | s1 | 4d | MLB2_s1   |\n",
       "| VL2 | VL2 | MLB2   | s2 | 4d | MLB2_s2   |\n",
       "| VL3 | VL3 | VA1    | s1 | 4d | VA1_s1    |\n",
       "| VL4 | VL4 | VA1    | s2 | 4d | VA1_s2    |\n",
       "| VL5 | VL5 | HAstV4 | s1 | 4d | HAstV4_s1 |\n",
       "| VL6 | VL6 | HAstV4 | s2 | 4d | HAstV4_s2 |\n",
       "| VL7 | VL7 | mock   | s1 | 4d | mock_s1   |\n",
       "| VL8 | VL8 | mock   | s2 | 4d | mock_s2   |\n",
       "\n"
      ],
      "text/plain": [
       "    id  condition replicate timepoint name     \n",
       "VL1 VL1 MLB2      s1        4d        MLB2_s1  \n",
       "VL2 VL2 MLB2      s2        4d        MLB2_s2  \n",
       "VL3 VL3 VA1       s1        4d        VA1_s1   \n",
       "VL4 VL4 VA1       s2        4d        VA1_s2   \n",
       "VL5 VL5 HAstV4    s1        4d        HAstV4_s1\n",
       "VL6 VL6 HAstV4    s2        4d        HAstV4_s2\n",
       "VL7 VL7 mock      s1        4d        mock_s1  \n",
       "VL8 VL8 mock      s2        4d        mock_s2  "
      ]
     },
     "metadata": {},
     "output_type": "display_data"
    }
   ],
   "source": [
    "samples = read.csv('samples.csv',row.names = 1)\n",
    "samples"
   ]
  },
  {
   "cell_type": "markdown",
   "id": "1134e072-d6ef-4e57-ae8c-9c4195e30bf8",
   "metadata": {},
   "source": [
    "# Load genes"
   ]
  },
  {
   "cell_type": "code",
   "execution_count": 55,
   "id": "61f18039-32bb-4db3-8e80-1030959c2797",
   "metadata": {},
   "outputs": [
    {
     "data": {
      "text/html": [
       "<table class=\"dataframe\">\n",
       "<caption>A data.frame: 3 × 9</caption>\n",
       "<thead>\n",
       "\t<tr><th></th><th scope=col>V1</th><th scope=col>V2</th><th scope=col>V3</th><th scope=col>V4</th><th scope=col>V5</th><th scope=col>V6</th><th scope=col>V7</th><th scope=col>V8</th><th scope=col>V9</th></tr>\n",
       "\t<tr><th></th><th scope=col>&lt;chr&gt;</th><th scope=col>&lt;chr&gt;</th><th scope=col>&lt;chr&gt;</th><th scope=col>&lt;int&gt;</th><th scope=col>&lt;int&gt;</th><th scope=col>&lt;chr&gt;</th><th scope=col>&lt;chr&gt;</th><th scope=col>&lt;chr&gt;</th><th scope=col>&lt;chr&gt;</th></tr>\n",
       "</thead>\n",
       "<tbody>\n",
       "\t<tr><th scope=row>1</th><td>1</td><td>havana        </td><td>gene</td><td> 182696</td><td> 184174</td><td>.</td><td>+</td><td>.</td><td>gene_id ENSG00000279928; gene_version 2; gene_name DDX11L17; gene_source havana; gene_biotype unprocessed_pseudogene;</td></tr>\n",
       "\t<tr><th scope=row>8</th><td>1</td><td>havana        </td><td>gene</td><td>2581560</td><td>2584533</td><td>.</td><td>+</td><td>.</td><td>gene_id ENSG00000228037; gene_version 1; gene_source havana; gene_biotype lncRNA;                                    </td></tr>\n",
       "\t<tr><th scope=row>13</th><td>1</td><td>ensembl_havana</td><td>gene</td><td>3069168</td><td>3438621</td><td>.</td><td>+</td><td>.</td><td>gene_id ENSG00000142611; gene_version 17; gene_name PRDM16; gene_source ensembl_havana; gene_biotype protein_coding; </td></tr>\n",
       "</tbody>\n",
       "</table>\n"
      ],
      "text/latex": [
       "A data.frame: 3 × 9\n",
       "\\begin{tabular}{r|lllllllll}\n",
       "  & V1 & V2 & V3 & V4 & V5 & V6 & V7 & V8 & V9\\\\\n",
       "  & <chr> & <chr> & <chr> & <int> & <int> & <chr> & <chr> & <chr> & <chr>\\\\\n",
       "\\hline\n",
       "\t1 & 1 & havana         & gene &  182696 &  184174 & . & + & . & gene\\_id ENSG00000279928; gene\\_version 2; gene\\_name DDX11L17; gene\\_source havana; gene\\_biotype unprocessed\\_pseudogene;\\\\\n",
       "\t8 & 1 & havana         & gene & 2581560 & 2584533 & . & + & . & gene\\_id ENSG00000228037; gene\\_version 1; gene\\_source havana; gene\\_biotype lncRNA;                                    \\\\\n",
       "\t13 & 1 & ensembl\\_havana & gene & 3069168 & 3438621 & . & + & . & gene\\_id ENSG00000142611; gene\\_version 17; gene\\_name PRDM16; gene\\_source ensembl\\_havana; gene\\_biotype protein\\_coding; \\\\\n",
       "\\end{tabular}\n"
      ],
      "text/markdown": [
       "\n",
       "A data.frame: 3 × 9\n",
       "\n",
       "| <!--/--> | V1 &lt;chr&gt; | V2 &lt;chr&gt; | V3 &lt;chr&gt; | V4 &lt;int&gt; | V5 &lt;int&gt; | V6 &lt;chr&gt; | V7 &lt;chr&gt; | V8 &lt;chr&gt; | V9 &lt;chr&gt; |\n",
       "|---|---|---|---|---|---|---|---|---|---|\n",
       "| 1 | 1 | havana         | gene |  182696 |  184174 | . | + | . | gene_id ENSG00000279928; gene_version 2; gene_name DDX11L17; gene_source havana; gene_biotype unprocessed_pseudogene; |\n",
       "| 8 | 1 | havana         | gene | 2581560 | 2584533 | . | + | . | gene_id ENSG00000228037; gene_version 1; gene_source havana; gene_biotype lncRNA;                                     |\n",
       "| 13 | 1 | ensembl_havana | gene | 3069168 | 3438621 | . | + | . | gene_id ENSG00000142611; gene_version 17; gene_name PRDM16; gene_source ensembl_havana; gene_biotype protein_coding;  |\n",
       "\n"
      ],
      "text/plain": [
       "   V1 V2             V3   V4      V5      V6 V7 V8\n",
       "1  1  havana         gene  182696  184174 .  +  . \n",
       "8  1  havana         gene 2581560 2584533 .  +  . \n",
       "13 1  ensembl_havana gene 3069168 3438621 .  +  . \n",
       "   V9                                                                                                                   \n",
       "1  gene_id ENSG00000279928; gene_version 2; gene_name DDX11L17; gene_source havana; gene_biotype unprocessed_pseudogene;\n",
       "8  gene_id ENSG00000228037; gene_version 1; gene_source havana; gene_biotype lncRNA;                                    \n",
       "13 gene_id ENSG00000142611; gene_version 17; gene_name PRDM16; gene_source ensembl_havana; gene_biotype protein_coding; "
      ]
     },
     "metadata": {},
     "output_type": "display_data"
    }
   ],
   "source": [
    "genes = read.table('../../ref/h38_e110_new/genes_new.gtf',sep='\\t')\n",
    "genes = genes[genes$V3 == 'gene',]\n",
    "genes[1:3,]"
   ]
  },
  {
   "cell_type": "code",
   "execution_count": 56,
   "id": "b865ef3f-b5e1-4bb8-a9c6-91a73775b18e",
   "metadata": {},
   "outputs": [
    {
     "data": {
      "text/html": [
       "<table class=\"dataframe\">\n",
       "<caption>A data.frame: 10 × 3</caption>\n",
       "<thead>\n",
       "\t<tr><th></th><th scope=col>gene_id</th><th scope=col>gene_name</th><th scope=col>gene_biotype</th></tr>\n",
       "\t<tr><th></th><th scope=col>&lt;chr&gt;</th><th scope=col>&lt;chr&gt;</th><th scope=col>&lt;chr&gt;</th></tr>\n",
       "</thead>\n",
       "<tbody>\n",
       "\t<tr><th scope=row>1</th><td>ENSG00000279928</td><td>DDX11L17 </td><td>unprocessed_pseudogene          </td></tr>\n",
       "\t<tr><th scope=row>2</th><td>ENSG00000228037</td><td>NA       </td><td>lncRNA                          </td></tr>\n",
       "\t<tr><th scope=row>3</th><td>ENSG00000142611</td><td>PRDM16   </td><td>protein_coding                  </td></tr>\n",
       "\t<tr><th scope=row>4</th><td>ENSG00000284616</td><td>NA       </td><td>lncRNA                          </td></tr>\n",
       "\t<tr><th scope=row>5</th><td>ENSG00000157911</td><td>PEX10    </td><td>protein_coding                  </td></tr>\n",
       "\t<tr><th scope=row>6</th><td>ENSG00000269896</td><td>NA       </td><td>transcribed_processed_pseudogene</td></tr>\n",
       "\t<tr><th scope=row>7</th><td>ENSG00000228463</td><td>NA       </td><td>transcribed_processed_pseudogene</td></tr>\n",
       "\t<tr><th scope=row>8</th><td>ENSG00000260972</td><td>NA       </td><td>lncRNA                          </td></tr>\n",
       "\t<tr><th scope=row>9</th><td>ENSG00000224340</td><td>RPL21P21 </td><td>processed_pseudogene            </td></tr>\n",
       "\t<tr><th scope=row>10</th><td>ENSG00000226374</td><td>LINC01345</td><td>lncRNA                          </td></tr>\n",
       "</tbody>\n",
       "</table>\n"
      ],
      "text/latex": [
       "A data.frame: 10 × 3\n",
       "\\begin{tabular}{r|lll}\n",
       "  & gene\\_id & gene\\_name & gene\\_biotype\\\\\n",
       "  & <chr> & <chr> & <chr>\\\\\n",
       "\\hline\n",
       "\t1 & ENSG00000279928 & DDX11L17  & unprocessed\\_pseudogene          \\\\\n",
       "\t2 & ENSG00000228037 & NA        & lncRNA                          \\\\\n",
       "\t3 & ENSG00000142611 & PRDM16    & protein\\_coding                  \\\\\n",
       "\t4 & ENSG00000284616 & NA        & lncRNA                          \\\\\n",
       "\t5 & ENSG00000157911 & PEX10     & protein\\_coding                  \\\\\n",
       "\t6 & ENSG00000269896 & NA        & transcribed\\_processed\\_pseudogene\\\\\n",
       "\t7 & ENSG00000228463 & NA        & transcribed\\_processed\\_pseudogene\\\\\n",
       "\t8 & ENSG00000260972 & NA        & lncRNA                          \\\\\n",
       "\t9 & ENSG00000224340 & RPL21P21  & processed\\_pseudogene            \\\\\n",
       "\t10 & ENSG00000226374 & LINC01345 & lncRNA                          \\\\\n",
       "\\end{tabular}\n"
      ],
      "text/markdown": [
       "\n",
       "A data.frame: 10 × 3\n",
       "\n",
       "| <!--/--> | gene_id &lt;chr&gt; | gene_name &lt;chr&gt; | gene_biotype &lt;chr&gt; |\n",
       "|---|---|---|---|\n",
       "| 1 | ENSG00000279928 | DDX11L17  | unprocessed_pseudogene           |\n",
       "| 2 | ENSG00000228037 | NA        | lncRNA                           |\n",
       "| 3 | ENSG00000142611 | PRDM16    | protein_coding                   |\n",
       "| 4 | ENSG00000284616 | NA        | lncRNA                           |\n",
       "| 5 | ENSG00000157911 | PEX10     | protein_coding                   |\n",
       "| 6 | ENSG00000269896 | NA        | transcribed_processed_pseudogene |\n",
       "| 7 | ENSG00000228463 | NA        | transcribed_processed_pseudogene |\n",
       "| 8 | ENSG00000260972 | NA        | lncRNA                           |\n",
       "| 9 | ENSG00000224340 | RPL21P21  | processed_pseudogene             |\n",
       "| 10 | ENSG00000226374 | LINC01345 | lncRNA                           |\n",
       "\n"
      ],
      "text/plain": [
       "   gene_id         gene_name gene_biotype                    \n",
       "1  ENSG00000279928 DDX11L17  unprocessed_pseudogene          \n",
       "2  ENSG00000228037 NA        lncRNA                          \n",
       "3  ENSG00000142611 PRDM16    protein_coding                  \n",
       "4  ENSG00000284616 NA        lncRNA                          \n",
       "5  ENSG00000157911 PEX10     protein_coding                  \n",
       "6  ENSG00000269896 NA        transcribed_processed_pseudogene\n",
       "7  ENSG00000228463 NA        transcribed_processed_pseudogene\n",
       "8  ENSG00000260972 NA        lncRNA                          \n",
       "9  ENSG00000224340 RPL21P21  processed_pseudogene            \n",
       "10 ENSG00000226374 LINC01345 lncRNA                          "
      ]
     },
     "metadata": {},
     "output_type": "display_data"
    }
   ],
   "source": [
    "attr_names = c('gene_id','gene_name','gene_biotype')\n",
    "attrs = strsplit(genes$V9,'; ')\n",
    "attrs = lapply(attrs,function(x){\n",
    "    x = strsplit(x,' ')\n",
    "    x = setNames(sub(';$','',sapply(x,'[',2)),\n",
    "             sapply(x,'[',1))\n",
    "    x[attr_names]\n",
    "})\n",
    "attrs = as.data.frame(do.call(rbind,attrs))\n",
    "colnames(attrs) = attr_names\n",
    "attrs[1:10,]"
   ]
  },
  {
   "cell_type": "code",
   "execution_count": 57,
   "id": "db7dd385-244a-486f-a007-735bf6692f27",
   "metadata": {},
   "outputs": [],
   "source": [
    "attrs$gene_biotype[is.na(attrs$gene_biotype)] = 'viral'"
   ]
  },
  {
   "cell_type": "code",
   "execution_count": 58,
   "id": "24da0ae6-dc64-4be1-b04a-0f704210f8e7",
   "metadata": {},
   "outputs": [
    {
     "data": {
      "text/html": [
       "<table class=\"dataframe\">\n",
       "<caption>A data.frame: 10 × 3</caption>\n",
       "<thead>\n",
       "\t<tr><th></th><th scope=col>gene_id</th><th scope=col>gene_name</th><th scope=col>gene_biotype</th></tr>\n",
       "\t<tr><th></th><th scope=col>&lt;chr&gt;</th><th scope=col>&lt;chr&gt;</th><th scope=col>&lt;chr&gt;</th></tr>\n",
       "</thead>\n",
       "<tbody>\n",
       "\t<tr><th scope=row>1</th><td>ENSG00000279928</td><td>DDX11L17 </td><td>unprocessed_pseudogene          </td></tr>\n",
       "\t<tr><th scope=row>2</th><td>ENSG00000228037</td><td>NA       </td><td>lncRNA                          </td></tr>\n",
       "\t<tr><th scope=row>3</th><td>ENSG00000142611</td><td>PRDM16   </td><td>protein_coding                  </td></tr>\n",
       "\t<tr><th scope=row>4</th><td>ENSG00000284616</td><td>NA       </td><td>lncRNA                          </td></tr>\n",
       "\t<tr><th scope=row>5</th><td>ENSG00000157911</td><td>PEX10    </td><td>protein_coding                  </td></tr>\n",
       "\t<tr><th scope=row>6</th><td>ENSG00000269896</td><td>NA       </td><td>transcribed_processed_pseudogene</td></tr>\n",
       "\t<tr><th scope=row>7</th><td>ENSG00000228463</td><td>NA       </td><td>transcribed_processed_pseudogene</td></tr>\n",
       "\t<tr><th scope=row>8</th><td>ENSG00000260972</td><td>NA       </td><td>lncRNA                          </td></tr>\n",
       "\t<tr><th scope=row>9</th><td>ENSG00000224340</td><td>RPL21P21 </td><td>processed_pseudogene            </td></tr>\n",
       "\t<tr><th scope=row>10</th><td>ENSG00000226374</td><td>LINC01345</td><td>lncRNA                          </td></tr>\n",
       "</tbody>\n",
       "</table>\n"
      ],
      "text/latex": [
       "A data.frame: 10 × 3\n",
       "\\begin{tabular}{r|lll}\n",
       "  & gene\\_id & gene\\_name & gene\\_biotype\\\\\n",
       "  & <chr> & <chr> & <chr>\\\\\n",
       "\\hline\n",
       "\t1 & ENSG00000279928 & DDX11L17  & unprocessed\\_pseudogene          \\\\\n",
       "\t2 & ENSG00000228037 & NA        & lncRNA                          \\\\\n",
       "\t3 & ENSG00000142611 & PRDM16    & protein\\_coding                  \\\\\n",
       "\t4 & ENSG00000284616 & NA        & lncRNA                          \\\\\n",
       "\t5 & ENSG00000157911 & PEX10     & protein\\_coding                  \\\\\n",
       "\t6 & ENSG00000269896 & NA        & transcribed\\_processed\\_pseudogene\\\\\n",
       "\t7 & ENSG00000228463 & NA        & transcribed\\_processed\\_pseudogene\\\\\n",
       "\t8 & ENSG00000260972 & NA        & lncRNA                          \\\\\n",
       "\t9 & ENSG00000224340 & RPL21P21  & processed\\_pseudogene            \\\\\n",
       "\t10 & ENSG00000226374 & LINC01345 & lncRNA                          \\\\\n",
       "\\end{tabular}\n"
      ],
      "text/markdown": [
       "\n",
       "A data.frame: 10 × 3\n",
       "\n",
       "| <!--/--> | gene_id &lt;chr&gt; | gene_name &lt;chr&gt; | gene_biotype &lt;chr&gt; |\n",
       "|---|---|---|---|\n",
       "| 1 | ENSG00000279928 | DDX11L17  | unprocessed_pseudogene           |\n",
       "| 2 | ENSG00000228037 | NA        | lncRNA                           |\n",
       "| 3 | ENSG00000142611 | PRDM16    | protein_coding                   |\n",
       "| 4 | ENSG00000284616 | NA        | lncRNA                           |\n",
       "| 5 | ENSG00000157911 | PEX10     | protein_coding                   |\n",
       "| 6 | ENSG00000269896 | NA        | transcribed_processed_pseudogene |\n",
       "| 7 | ENSG00000228463 | NA        | transcribed_processed_pseudogene |\n",
       "| 8 | ENSG00000260972 | NA        | lncRNA                           |\n",
       "| 9 | ENSG00000224340 | RPL21P21  | processed_pseudogene             |\n",
       "| 10 | ENSG00000226374 | LINC01345 | lncRNA                           |\n",
       "\n"
      ],
      "text/plain": [
       "   gene_id         gene_name gene_biotype                    \n",
       "1  ENSG00000279928 DDX11L17  unprocessed_pseudogene          \n",
       "2  ENSG00000228037 NA        lncRNA                          \n",
       "3  ENSG00000142611 PRDM16    protein_coding                  \n",
       "4  ENSG00000284616 NA        lncRNA                          \n",
       "5  ENSG00000157911 PEX10     protein_coding                  \n",
       "6  ENSG00000269896 NA        transcribed_processed_pseudogene\n",
       "7  ENSG00000228463 NA        transcribed_processed_pseudogene\n",
       "8  ENSG00000260972 NA        lncRNA                          \n",
       "9  ENSG00000224340 RPL21P21  processed_pseudogene            \n",
       "10 ENSG00000226374 LINC01345 lncRNA                          "
      ]
     },
     "metadata": {},
     "output_type": "display_data"
    }
   ],
   "source": [
    "attrs[1:10,]"
   ]
  },
  {
   "cell_type": "code",
   "execution_count": 60,
   "id": "98a0f4f1-25a5-4bf2-9cee-2ba4f04cc65e",
   "metadata": {
    "scrolled": true
   },
   "outputs": [
    {
     "data": {
      "text/html": [
       "<table class=\"dataframe\">\n",
       "<caption>A data.frame: 2 × 7</caption>\n",
       "<thead>\n",
       "\t<tr><th></th><th scope=col>chr</th><th scope=col>start</th><th scope=col>end</th><th scope=col>strand</th><th scope=col>gene_id</th><th scope=col>gene_name</th><th scope=col>gene_biotype</th></tr>\n",
       "\t<tr><th></th><th scope=col>&lt;chr&gt;</th><th scope=col>&lt;chr&gt;</th><th scope=col>&lt;chr&gt;</th><th scope=col>&lt;chr&gt;</th><th scope=col>&lt;chr&gt;</th><th scope=col>&lt;chr&gt;</th><th scope=col>&lt;chr&gt;</th></tr>\n",
       "</thead>\n",
       "<tbody>\n",
       "\t<tr><th scope=row>ENSG00000279928</th><td>1</td><td>+</td><td>ENSG00000279928</td><td>unprocessed_pseudogene</td><td>ENSG00000279928</td><td>DDX11L17</td><td>unprocessed_pseudogene</td></tr>\n",
       "\t<tr><th scope=row>ENSG00000228037</th><td>1</td><td>+</td><td>ENSG00000228037</td><td>lncRNA                </td><td>ENSG00000228037</td><td>NA      </td><td>lncRNA                </td></tr>\n",
       "</tbody>\n",
       "</table>\n"
      ],
      "text/latex": [
       "A data.frame: 2 × 7\n",
       "\\begin{tabular}{r|lllllll}\n",
       "  & chr & start & end & strand & gene\\_id & gene\\_name & gene\\_biotype\\\\\n",
       "  & <chr> & <chr> & <chr> & <chr> & <chr> & <chr> & <chr>\\\\\n",
       "\\hline\n",
       "\tENSG00000279928 & 1 & + & ENSG00000279928 & unprocessed\\_pseudogene & ENSG00000279928 & DDX11L17 & unprocessed\\_pseudogene\\\\\n",
       "\tENSG00000228037 & 1 & + & ENSG00000228037 & lncRNA                 & ENSG00000228037 & NA       & lncRNA                \\\\\n",
       "\\end{tabular}\n"
      ],
      "text/markdown": [
       "\n",
       "A data.frame: 2 × 7\n",
       "\n",
       "| <!--/--> | chr &lt;chr&gt; | start &lt;chr&gt; | end &lt;chr&gt; | strand &lt;chr&gt; | gene_id &lt;chr&gt; | gene_name &lt;chr&gt; | gene_biotype &lt;chr&gt; |\n",
       "|---|---|---|---|---|---|---|---|\n",
       "| ENSG00000279928 | 1 | + | ENSG00000279928 | unprocessed_pseudogene | ENSG00000279928 | DDX11L17 | unprocessed_pseudogene |\n",
       "| ENSG00000228037 | 1 | + | ENSG00000228037 | lncRNA                 | ENSG00000228037 | NA       | lncRNA                 |\n",
       "\n"
      ],
      "text/plain": [
       "                chr start end             strand                \n",
       "ENSG00000279928 1   +     ENSG00000279928 unprocessed_pseudogene\n",
       "ENSG00000228037 1   +     ENSG00000228037 lncRNA                \n",
       "                gene_id         gene_name gene_biotype          \n",
       "ENSG00000279928 ENSG00000279928 DDX11L17  unprocessed_pseudogene\n",
       "ENSG00000228037 ENSG00000228037 NA        lncRNA                "
      ]
     },
     "metadata": {},
     "output_type": "display_data"
    }
   ],
   "source": [
    "genes = genes[,c(1,4,5,7)]\n",
    "colnames(genes) = c('chr','start','end','strand')\n",
    "genes = cbind(genes,attrs)\n",
    "rownames(genes) = genes$gene_id\n",
    "genes[1:2,]"
   ]
  },
  {
   "cell_type": "code",
   "execution_count": 61,
   "id": "ec5a0447-1454-420e-ac48-4b7155c36ee0",
   "metadata": {},
   "outputs": [
    {
     "data": {
      "text/html": [],
      "text/latex": [],
      "text/markdown": [],
      "text/plain": [
       "named integer(0)"
      ]
     },
     "metadata": {},
     "output_type": "display_data"
    }
   ],
   "source": [
    "t=table(genes$gene_id)\n",
    "t[t>1]"
   ]
  },
  {
   "cell_type": "code",
   "execution_count": 62,
   "id": "199ef077-ec61-4b3e-a3cd-ef797d040a63",
   "metadata": {},
   "outputs": [
    {
     "data": {
      "text/plain": [
       "\n",
       "                          artifact                          IG_C_gene \n",
       "                                19                                 14 \n",
       "                   IG_C_pseudogene                          IG_D_gene \n",
       "                                 9                                 37 \n",
       "                         IG_J_gene                    IG_J_pseudogene \n",
       "                                18                                  3 \n",
       "                     IG_pseudogene                          IG_V_gene \n",
       "                                 1                                145 \n",
       "                   IG_V_pseudogene                             lncRNA \n",
       "                               187                              18866 \n",
       "                             miRNA                           misc_RNA \n",
       "                              1879                               2221 \n",
       "                           Mt_rRNA                            Mt_tRNA \n",
       "                                 2                                 22 \n",
       "              processed_pseudogene                     protein_coding \n",
       "                             10148                              20070 \n",
       "                        pseudogene                           ribozyme \n",
       "                                19                                  8 \n",
       "                              rRNA                    rRNA_pseudogene \n",
       "                                53                                497 \n",
       "                            scaRNA                              scRNA \n",
       "                                49                                  1 \n",
       "                            snoRNA                              snRNA \n",
       "                               942                               1910 \n",
       "                              sRNA                                TEC \n",
       "                                 5                               1056 \n",
       "                         TR_C_gene                          TR_D_gene \n",
       "                                 6                                  5 \n",
       "                         TR_J_gene                    TR_J_pseudogene \n",
       "                                79                                  4 \n",
       "                         TR_V_gene                    TR_V_pseudogene \n",
       "                               107                                 33 \n",
       "  transcribed_processed_pseudogene     transcribed_unitary_pseudogene \n",
       "                               512                                155 \n",
       "transcribed_unprocessed_pseudogene    translated_processed_pseudogene \n",
       "                               961                                  2 \n",
       "                unitary_pseudogene             unprocessed_pseudogene \n",
       "                                99                               2609 \n",
       "                         vault_RNA                              viral \n",
       "                                 1                                  3 "
      ]
     },
     "metadata": {},
     "output_type": "display_data"
    }
   ],
   "source": [
    "table(genes$gene_biotype)"
   ]
  },
  {
   "cell_type": "code",
   "execution_count": 63,
   "id": "3c284bf7-cc56-40fb-b026-eca52695ba8b",
   "metadata": {},
   "outputs": [],
   "source": [
    "write.csv(genes,'../../output/brain/genes_brain.csv')"
   ]
  },
  {
   "cell_type": "markdown",
   "id": "903dc032-8f11-499c-9684-540f6bfaa95e",
   "metadata": {},
   "source": [
    "# load counts"
   ]
  },
  {
   "cell_type": "code",
   "execution_count": 64,
   "id": "0418e639-a149-4ef6-9574-ee81fd177b7e",
   "metadata": {},
   "outputs": [],
   "source": [
    "counts = lapply(samples$id, function(s){\n",
    "read.table(paste0('../../output/brain/counts/',s,'.tsv'),row.names = 1)\n",
    "})"
   ]
  },
  {
   "cell_type": "code",
   "execution_count": 65,
   "id": "2567eaee-a59c-4c38-a3b8-effe1eb12d21",
   "metadata": {},
   "outputs": [
    {
     "data": {
      "text/html": [
       "<style>\n",
       ".list-inline {list-style: none; margin:0; padding: 0}\n",
       ".list-inline>li {display: inline-block}\n",
       ".list-inline>li:not(:last-child)::after {content: \"\\00b7\"; padding: 0 .5ex}\n",
       "</style>\n",
       "<ol class=list-inline><li>TRUE</li><li>TRUE</li><li>TRUE</li><li>TRUE</li><li>TRUE</li><li>TRUE</li><li>TRUE</li><li>TRUE</li></ol>\n"
      ],
      "text/latex": [
       "\\begin{enumerate*}\n",
       "\\item TRUE\n",
       "\\item TRUE\n",
       "\\item TRUE\n",
       "\\item TRUE\n",
       "\\item TRUE\n",
       "\\item TRUE\n",
       "\\item TRUE\n",
       "\\item TRUE\n",
       "\\end{enumerate*}\n"
      ],
      "text/markdown": [
       "1. TRUE\n",
       "2. TRUE\n",
       "3. TRUE\n",
       "4. TRUE\n",
       "5. TRUE\n",
       "6. TRUE\n",
       "7. TRUE\n",
       "8. TRUE\n",
       "\n",
       "\n"
      ],
      "text/plain": [
       "[1] TRUE TRUE TRUE TRUE TRUE TRUE TRUE TRUE"
      ]
     },
     "metadata": {},
     "output_type": "display_data"
    }
   ],
   "source": [
    "sapply(counts,function(x)all(rownames(x) == rownames(counts[[1]])))"
   ]
  },
  {
   "cell_type": "code",
   "execution_count": 66,
   "id": "5610a640-d473-45f1-8366-855392baa93d",
   "metadata": {},
   "outputs": [
    {
     "data": {
      "text/html": [
       "<table class=\"dataframe\">\n",
       "<caption>A matrix: 4 × 8 of type int</caption>\n",
       "<thead>\n",
       "\t<tr><th></th><th scope=col>VL1</th><th scope=col>VL2</th><th scope=col>VL3</th><th scope=col>VL4</th><th scope=col>VL5</th><th scope=col>VL6</th><th scope=col>VL7</th><th scope=col>VL8</th></tr>\n",
       "</thead>\n",
       "<tbody>\n",
       "\t<tr><th scope=row>ENSG00000000003</th><td>495</td><td>913</td><td>593</td><td>732</td><td>705</td><td>666</td><td>608</td><td>607</td></tr>\n",
       "\t<tr><th scope=row>ENSG00000000005</th><td>  4</td><td>  0</td><td>  0</td><td>  0</td><td>  0</td><td>  0</td><td>  0</td><td>  0</td></tr>\n",
       "\t<tr><th scope=row>ENSG00000000419</th><td>348</td><td>502</td><td>650</td><td>573</td><td>680</td><td>436</td><td>531</td><td>524</td></tr>\n",
       "\t<tr><th scope=row>ENSG00000000457</th><td> 84</td><td>137</td><td>123</td><td> 92</td><td> 98</td><td> 70</td><td> 41</td><td> 69</td></tr>\n",
       "</tbody>\n",
       "</table>\n"
      ],
      "text/latex": [
       "A matrix: 4 × 8 of type int\n",
       "\\begin{tabular}{r|llllllll}\n",
       "  & VL1 & VL2 & VL3 & VL4 & VL5 & VL6 & VL7 & VL8\\\\\n",
       "\\hline\n",
       "\tENSG00000000003 & 495 & 913 & 593 & 732 & 705 & 666 & 608 & 607\\\\\n",
       "\tENSG00000000005 &   4 &   0 &   0 &   0 &   0 &   0 &   0 &   0\\\\\n",
       "\tENSG00000000419 & 348 & 502 & 650 & 573 & 680 & 436 & 531 & 524\\\\\n",
       "\tENSG00000000457 &  84 & 137 & 123 &  92 &  98 &  70 &  41 &  69\\\\\n",
       "\\end{tabular}\n"
      ],
      "text/markdown": [
       "\n",
       "A matrix: 4 × 8 of type int\n",
       "\n",
       "| <!--/--> | VL1 | VL2 | VL3 | VL4 | VL5 | VL6 | VL7 | VL8 |\n",
       "|---|---|---|---|---|---|---|---|---|\n",
       "| ENSG00000000003 | 495 | 913 | 593 | 732 | 705 | 666 | 608 | 607 |\n",
       "| ENSG00000000005 |   4 |   0 |   0 |   0 |   0 |   0 |   0 |   0 |\n",
       "| ENSG00000000419 | 348 | 502 | 650 | 573 | 680 | 436 | 531 | 524 |\n",
       "| ENSG00000000457 |  84 | 137 | 123 |  92 |  98 |  70 |  41 |  69 |\n",
       "\n"
      ],
      "text/plain": [
       "                VL1 VL2 VL3 VL4 VL5 VL6 VL7 VL8\n",
       "ENSG00000000003 495 913 593 732 705 666 608 607\n",
       "ENSG00000000005   4   0   0   0   0   0   0   0\n",
       "ENSG00000000419 348 502 650 573 680 436 531 524\n",
       "ENSG00000000457  84 137 123  92  98  70  41  69"
      ]
     },
     "metadata": {},
     "output_type": "display_data"
    }
   ],
   "source": [
    "counts = do.call(cbind,counts) # cbind(counts[[1]],counts[[2]],...)\n",
    "colnames(counts) = samples$id\n",
    "#rownames(counts)[rownames(counts)=='VA1_genome'] = 'VA1'\n",
    "counts = as.matrix(counts)\n",
    "counts[1:4,]"
   ]
  },
  {
   "cell_type": "code",
   "execution_count": 67,
   "id": "878ac63e-886c-48c4-8030-d3891409fd0a",
   "metadata": {},
   "outputs": [],
   "source": [
    "mapping_qc = counts[!(rownames(counts) %in% genes$gene_id),]\n",
    "counts = counts[genes$gene_id,]"
   ]
  },
  {
   "cell_type": "code",
   "execution_count": 68,
   "id": "2e170846-e4ed-429d-a66c-1db27b926524",
   "metadata": {},
   "outputs": [
    {
     "data": {
      "text/html": [
       "<table class=\"dataframe\">\n",
       "<caption>A matrix: 45 × 8 of type dbl</caption>\n",
       "<thead>\n",
       "\t<tr><th></th><th scope=col>VL1</th><th scope=col>VL2</th><th scope=col>VL3</th><th scope=col>VL4</th><th scope=col>VL5</th><th scope=col>VL6</th><th scope=col>VL7</th><th scope=col>VL8</th></tr>\n",
       "</thead>\n",
       "<tbody>\n",
       "\t<tr><th scope=row>__no_feature</th><td>2835019</td><td> 5002841</td><td> 4399253</td><td> 4140854</td><td> 4571791</td><td> 4463479</td><td> 4728009</td><td> 4394718</td></tr>\n",
       "\t<tr><th scope=row>__ambiguous</th><td> 215176</td><td>  404554</td><td>  399020</td><td>  352753</td><td>  381856</td><td>  326739</td><td>  329597</td><td>  349293</td></tr>\n",
       "\t<tr><th scope=row>__too_low_aQual</th><td>      0</td><td>       0</td><td>       0</td><td>       0</td><td>       0</td><td>       0</td><td>       0</td><td>       0</td></tr>\n",
       "\t<tr><th scope=row>__not_aligned</th><td>      0</td><td>       0</td><td>       0</td><td>       0</td><td>       0</td><td>       0</td><td>       0</td><td>       0</td></tr>\n",
       "\t<tr><th scope=row>__alignment_not_unique</th><td>3394460</td><td> 6020058</td><td> 5737089</td><td> 4934550</td><td> 5421632</td><td> 5093515</td><td> 5647615</td><td> 5400931</td></tr>\n",
       "\t<tr><th scope=row>artifact</th><td>     81</td><td>     150</td><td>     208</td><td>     131</td><td>     313</td><td>     154</td><td>      81</td><td>     129</td></tr>\n",
       "\t<tr><th scope=row>IG_C_gene</th><td>      0</td><td>       0</td><td>       0</td><td>       0</td><td>       0</td><td>       0</td><td>       0</td><td>       3</td></tr>\n",
       "\t<tr><th scope=row>IG_C_pseudogene</th><td>      0</td><td>       0</td><td>       0</td><td>       0</td><td>       0</td><td>       0</td><td>       0</td><td>       0</td></tr>\n",
       "\t<tr><th scope=row>IG_D_gene</th><td>      0</td><td>       0</td><td>       0</td><td>       0</td><td>       0</td><td>       0</td><td>       0</td><td>       0</td></tr>\n",
       "\t<tr><th scope=row>IG_J_gene</th><td>      0</td><td>       0</td><td>       0</td><td>       0</td><td>       0</td><td>       0</td><td>       0</td><td>       0</td></tr>\n",
       "\t<tr><th scope=row>IG_J_pseudogene</th><td>      0</td><td>       0</td><td>       0</td><td>       0</td><td>       0</td><td>       0</td><td>       0</td><td>       0</td></tr>\n",
       "\t<tr><th scope=row>IG_pseudogene</th><td>      0</td><td>       0</td><td>       0</td><td>       0</td><td>       0</td><td>       0</td><td>       0</td><td>       0</td></tr>\n",
       "\t<tr><th scope=row>IG_V_gene</th><td>      0</td><td>       0</td><td>       0</td><td>       0</td><td>       0</td><td>       0</td><td>       0</td><td>       0</td></tr>\n",
       "\t<tr><th scope=row>IG_V_pseudogene</th><td>      0</td><td>       0</td><td>       0</td><td>       0</td><td>       0</td><td>       0</td><td>       0</td><td>       0</td></tr>\n",
       "\t<tr><th scope=row>lncRNA</th><td> 385436</td><td>  669199</td><td>  660943</td><td>  591186</td><td>  610676</td><td>  660589</td><td>  622878</td><td>  582992</td></tr>\n",
       "\t<tr><th scope=row>miRNA</th><td>    543</td><td>     773</td><td>     733</td><td>     834</td><td>     553</td><td>     766</td><td>     787</td><td>     633</td></tr>\n",
       "\t<tr><th scope=row>misc_RNA</th><td>   2884</td><td>    5438</td><td>    4051</td><td>    4684</td><td>    4805</td><td>    4510</td><td>    5093</td><td>    4254</td></tr>\n",
       "\t<tr><th scope=row>Mt_rRNA</th><td> 507538</td><td>  869477</td><td>  950787</td><td>  748087</td><td>  927050</td><td>  764485</td><td>  846746</td><td>  806867</td></tr>\n",
       "\t<tr><th scope=row>Mt_tRNA</th><td> 116066</td><td>  220299</td><td>  165618</td><td>  180622</td><td>  176690</td><td>  183475</td><td>  195074</td><td>  156024</td></tr>\n",
       "\t<tr><th scope=row>processed_pseudogene</th><td>  22026</td><td>   40943</td><td>   32801</td><td>   31970</td><td>   32277</td><td>   31300</td><td>   34326</td><td>   31786</td></tr>\n",
       "\t<tr><th scope=row>protein_coding</th><td>8087411</td><td>15267969</td><td>14941691</td><td>13229646</td><td>14246344</td><td>12509213</td><td>12117475</td><td>12936665</td></tr>\n",
       "\t<tr><th scope=row>pseudogene</th><td>      2</td><td>       5</td><td>       0</td><td>       0</td><td>       0</td><td>       2</td><td>       0</td><td>       3</td></tr>\n",
       "\t<tr><th scope=row>ribozyme</th><td>     32</td><td>      46</td><td>      21</td><td>      32</td><td>      17</td><td>      12</td><td>      17</td><td>      11</td></tr>\n",
       "\t<tr><th scope=row>rRNA</th><td>      0</td><td>       0</td><td>       0</td><td>       4</td><td>      13</td><td>       0</td><td>       0</td><td>      17</td></tr>\n",
       "\t<tr><th scope=row>rRNA_pseudogene</th><td>    159</td><td>     385</td><td>     214</td><td>     322</td><td>     319</td><td>     221</td><td>     302</td><td>     172</td></tr>\n",
       "\t<tr><th scope=row>scaRNA</th><td>    205</td><td>     444</td><td>     177</td><td>     198</td><td>     208</td><td>     138</td><td>     250</td><td>     150</td></tr>\n",
       "\t<tr><th scope=row>scRNA</th><td>    757</td><td>     806</td><td>     816</td><td>    1005</td><td>    1054</td><td>     690</td><td>     653</td><td>     772</td></tr>\n",
       "\t<tr><th scope=row>snoRNA</th><td>   5769</td><td>    9769</td><td>    6423</td><td>    7748</td><td>    7336</td><td>    6657</td><td>    7213</td><td>    6765</td></tr>\n",
       "\t<tr><th scope=row>snRNA</th><td>  37171</td><td>   54277</td><td>   39555</td><td>   45826</td><td>   54171</td><td>   41584</td><td>   60917</td><td>   47115</td></tr>\n",
       "\t<tr><th scope=row>sRNA</th><td>      0</td><td>       0</td><td>       0</td><td>       0</td><td>       0</td><td>       0</td><td>       0</td><td>       0</td></tr>\n",
       "\t<tr><th scope=row>TEC</th><td>   5043</td><td>    8824</td><td>    8474</td><td>    7581</td><td>    8593</td><td>    8081</td><td>    7948</td><td>    7810</td></tr>\n",
       "\t<tr><th scope=row>TR_C_gene</th><td>      0</td><td>       0</td><td>       0</td><td>       0</td><td>       3</td><td>      23</td><td>       2</td><td>       0</td></tr>\n",
       "\t<tr><th scope=row>TR_D_gene</th><td>      0</td><td>       0</td><td>       0</td><td>       0</td><td>       0</td><td>       0</td><td>       0</td><td>       0</td></tr>\n",
       "\t<tr><th scope=row>TR_J_gene</th><td>      0</td><td>       0</td><td>       0</td><td>       0</td><td>       0</td><td>       0</td><td>       0</td><td>       0</td></tr>\n",
       "\t<tr><th scope=row>TR_J_pseudogene</th><td>      0</td><td>       0</td><td>       0</td><td>       0</td><td>       0</td><td>       0</td><td>       0</td><td>       0</td></tr>\n",
       "\t<tr><th scope=row>TR_V_gene</th><td>      0</td><td>       0</td><td>       0</td><td>       0</td><td>       0</td><td>       0</td><td>       0</td><td>       0</td></tr>\n",
       "\t<tr><th scope=row>TR_V_pseudogene</th><td>      0</td><td>       0</td><td>       0</td><td>       0</td><td>       0</td><td>       1</td><td>       0</td><td>       8</td></tr>\n",
       "\t<tr><th scope=row>transcribed_processed_pseudogene</th><td>   4425</td><td>    7437</td><td>    7345</td><td>    6737</td><td>    6736</td><td>    6268</td><td>    6169</td><td>    6260</td></tr>\n",
       "\t<tr><th scope=row>transcribed_unitary_pseudogene</th><td>   2937</td><td>    4981</td><td>    4259</td><td>    4354</td><td>    4127</td><td>    4789</td><td>    3519</td><td>    3907</td></tr>\n",
       "\t<tr><th scope=row>transcribed_unprocessed_pseudogene</th><td>    359</td><td>     589</td><td>     687</td><td>     648</td><td>     546</td><td>     624</td><td>     552</td><td>     605</td></tr>\n",
       "\t<tr><th scope=row>translated_processed_pseudogene</th><td>      0</td><td>       0</td><td>       0</td><td>       0</td><td>       0</td><td>       0</td><td>       0</td><td>       0</td></tr>\n",
       "\t<tr><th scope=row>unitary_pseudogene</th><td>      4</td><td>      51</td><td>      63</td><td>      31</td><td>      22</td><td>       4</td><td>       3</td><td>      20</td></tr>\n",
       "\t<tr><th scope=row>unprocessed_pseudogene</th><td>   1532</td><td>    2947</td><td>    4157</td><td>    2947</td><td>    3813</td><td>    2707</td><td>    2594</td><td>    3157</td></tr>\n",
       "\t<tr><th scope=row>vault_RNA</th><td>     30</td><td>      62</td><td>      79</td><td>      72</td><td>     123</td><td>     109</td><td>      60</td><td>      67</td></tr>\n",
       "\t<tr><th scope=row>viral</th><td> 152984</td><td>  249475</td><td>  832275</td><td>  894252</td><td>     728</td><td>     935</td><td>       6</td><td>      39</td></tr>\n",
       "</tbody>\n",
       "</table>\n"
      ],
      "text/latex": [
       "A matrix: 45 × 8 of type dbl\n",
       "\\begin{tabular}{r|llllllll}\n",
       "  & VL1 & VL2 & VL3 & VL4 & VL5 & VL6 & VL7 & VL8\\\\\n",
       "\\hline\n",
       "\t\\_\\_no\\_feature & 2835019 &  5002841 &  4399253 &  4140854 &  4571791 &  4463479 &  4728009 &  4394718\\\\\n",
       "\t\\_\\_ambiguous &  215176 &   404554 &   399020 &   352753 &   381856 &   326739 &   329597 &   349293\\\\\n",
       "\t\\_\\_too\\_low\\_aQual &       0 &        0 &        0 &        0 &        0 &        0 &        0 &        0\\\\\n",
       "\t\\_\\_not\\_aligned &       0 &        0 &        0 &        0 &        0 &        0 &        0 &        0\\\\\n",
       "\t\\_\\_alignment\\_not\\_unique & 3394460 &  6020058 &  5737089 &  4934550 &  5421632 &  5093515 &  5647615 &  5400931\\\\\n",
       "\tartifact &      81 &      150 &      208 &      131 &      313 &      154 &       81 &      129\\\\\n",
       "\tIG\\_C\\_gene &       0 &        0 &        0 &        0 &        0 &        0 &        0 &        3\\\\\n",
       "\tIG\\_C\\_pseudogene &       0 &        0 &        0 &        0 &        0 &        0 &        0 &        0\\\\\n",
       "\tIG\\_D\\_gene &       0 &        0 &        0 &        0 &        0 &        0 &        0 &        0\\\\\n",
       "\tIG\\_J\\_gene &       0 &        0 &        0 &        0 &        0 &        0 &        0 &        0\\\\\n",
       "\tIG\\_J\\_pseudogene &       0 &        0 &        0 &        0 &        0 &        0 &        0 &        0\\\\\n",
       "\tIG\\_pseudogene &       0 &        0 &        0 &        0 &        0 &        0 &        0 &        0\\\\\n",
       "\tIG\\_V\\_gene &       0 &        0 &        0 &        0 &        0 &        0 &        0 &        0\\\\\n",
       "\tIG\\_V\\_pseudogene &       0 &        0 &        0 &        0 &        0 &        0 &        0 &        0\\\\\n",
       "\tlncRNA &  385436 &   669199 &   660943 &   591186 &   610676 &   660589 &   622878 &   582992\\\\\n",
       "\tmiRNA &     543 &      773 &      733 &      834 &      553 &      766 &      787 &      633\\\\\n",
       "\tmisc\\_RNA &    2884 &     5438 &     4051 &     4684 &     4805 &     4510 &     5093 &     4254\\\\\n",
       "\tMt\\_rRNA &  507538 &   869477 &   950787 &   748087 &   927050 &   764485 &   846746 &   806867\\\\\n",
       "\tMt\\_tRNA &  116066 &   220299 &   165618 &   180622 &   176690 &   183475 &   195074 &   156024\\\\\n",
       "\tprocessed\\_pseudogene &   22026 &    40943 &    32801 &    31970 &    32277 &    31300 &    34326 &    31786\\\\\n",
       "\tprotein\\_coding & 8087411 & 15267969 & 14941691 & 13229646 & 14246344 & 12509213 & 12117475 & 12936665\\\\\n",
       "\tpseudogene &       2 &        5 &        0 &        0 &        0 &        2 &        0 &        3\\\\\n",
       "\tribozyme &      32 &       46 &       21 &       32 &       17 &       12 &       17 &       11\\\\\n",
       "\trRNA &       0 &        0 &        0 &        4 &       13 &        0 &        0 &       17\\\\\n",
       "\trRNA\\_pseudogene &     159 &      385 &      214 &      322 &      319 &      221 &      302 &      172\\\\\n",
       "\tscaRNA &     205 &      444 &      177 &      198 &      208 &      138 &      250 &      150\\\\\n",
       "\tscRNA &     757 &      806 &      816 &     1005 &     1054 &      690 &      653 &      772\\\\\n",
       "\tsnoRNA &    5769 &     9769 &     6423 &     7748 &     7336 &     6657 &     7213 &     6765\\\\\n",
       "\tsnRNA &   37171 &    54277 &    39555 &    45826 &    54171 &    41584 &    60917 &    47115\\\\\n",
       "\tsRNA &       0 &        0 &        0 &        0 &        0 &        0 &        0 &        0\\\\\n",
       "\tTEC &    5043 &     8824 &     8474 &     7581 &     8593 &     8081 &     7948 &     7810\\\\\n",
       "\tTR\\_C\\_gene &       0 &        0 &        0 &        0 &        3 &       23 &        2 &        0\\\\\n",
       "\tTR\\_D\\_gene &       0 &        0 &        0 &        0 &        0 &        0 &        0 &        0\\\\\n",
       "\tTR\\_J\\_gene &       0 &        0 &        0 &        0 &        0 &        0 &        0 &        0\\\\\n",
       "\tTR\\_J\\_pseudogene &       0 &        0 &        0 &        0 &        0 &        0 &        0 &        0\\\\\n",
       "\tTR\\_V\\_gene &       0 &        0 &        0 &        0 &        0 &        0 &        0 &        0\\\\\n",
       "\tTR\\_V\\_pseudogene &       0 &        0 &        0 &        0 &        0 &        1 &        0 &        8\\\\\n",
       "\ttranscribed\\_processed\\_pseudogene &    4425 &     7437 &     7345 &     6737 &     6736 &     6268 &     6169 &     6260\\\\\n",
       "\ttranscribed\\_unitary\\_pseudogene &    2937 &     4981 &     4259 &     4354 &     4127 &     4789 &     3519 &     3907\\\\\n",
       "\ttranscribed\\_unprocessed\\_pseudogene &     359 &      589 &      687 &      648 &      546 &      624 &      552 &      605\\\\\n",
       "\ttranslated\\_processed\\_pseudogene &       0 &        0 &        0 &        0 &        0 &        0 &        0 &        0\\\\\n",
       "\tunitary\\_pseudogene &       4 &       51 &       63 &       31 &       22 &        4 &        3 &       20\\\\\n",
       "\tunprocessed\\_pseudogene &    1532 &     2947 &     4157 &     2947 &     3813 &     2707 &     2594 &     3157\\\\\n",
       "\tvault\\_RNA &      30 &       62 &       79 &       72 &      123 &      109 &       60 &       67\\\\\n",
       "\tviral &  152984 &   249475 &   832275 &   894252 &      728 &      935 &        6 &       39\\\\\n",
       "\\end{tabular}\n"
      ],
      "text/markdown": [
       "\n",
       "A matrix: 45 × 8 of type dbl\n",
       "\n",
       "| <!--/--> | VL1 | VL2 | VL3 | VL4 | VL5 | VL6 | VL7 | VL8 |\n",
       "|---|---|---|---|---|---|---|---|---|\n",
       "| __no_feature | 2835019 |  5002841 |  4399253 |  4140854 |  4571791 |  4463479 |  4728009 |  4394718 |\n",
       "| __ambiguous |  215176 |   404554 |   399020 |   352753 |   381856 |   326739 |   329597 |   349293 |\n",
       "| __too_low_aQual |       0 |        0 |        0 |        0 |        0 |        0 |        0 |        0 |\n",
       "| __not_aligned |       0 |        0 |        0 |        0 |        0 |        0 |        0 |        0 |\n",
       "| __alignment_not_unique | 3394460 |  6020058 |  5737089 |  4934550 |  5421632 |  5093515 |  5647615 |  5400931 |\n",
       "| artifact |      81 |      150 |      208 |      131 |      313 |      154 |       81 |      129 |\n",
       "| IG_C_gene |       0 |        0 |        0 |        0 |        0 |        0 |        0 |        3 |\n",
       "| IG_C_pseudogene |       0 |        0 |        0 |        0 |        0 |        0 |        0 |        0 |\n",
       "| IG_D_gene |       0 |        0 |        0 |        0 |        0 |        0 |        0 |        0 |\n",
       "| IG_J_gene |       0 |        0 |        0 |        0 |        0 |        0 |        0 |        0 |\n",
       "| IG_J_pseudogene |       0 |        0 |        0 |        0 |        0 |        0 |        0 |        0 |\n",
       "| IG_pseudogene |       0 |        0 |        0 |        0 |        0 |        0 |        0 |        0 |\n",
       "| IG_V_gene |       0 |        0 |        0 |        0 |        0 |        0 |        0 |        0 |\n",
       "| IG_V_pseudogene |       0 |        0 |        0 |        0 |        0 |        0 |        0 |        0 |\n",
       "| lncRNA |  385436 |   669199 |   660943 |   591186 |   610676 |   660589 |   622878 |   582992 |\n",
       "| miRNA |     543 |      773 |      733 |      834 |      553 |      766 |      787 |      633 |\n",
       "| misc_RNA |    2884 |     5438 |     4051 |     4684 |     4805 |     4510 |     5093 |     4254 |\n",
       "| Mt_rRNA |  507538 |   869477 |   950787 |   748087 |   927050 |   764485 |   846746 |   806867 |\n",
       "| Mt_tRNA |  116066 |   220299 |   165618 |   180622 |   176690 |   183475 |   195074 |   156024 |\n",
       "| processed_pseudogene |   22026 |    40943 |    32801 |    31970 |    32277 |    31300 |    34326 |    31786 |\n",
       "| protein_coding | 8087411 | 15267969 | 14941691 | 13229646 | 14246344 | 12509213 | 12117475 | 12936665 |\n",
       "| pseudogene |       2 |        5 |        0 |        0 |        0 |        2 |        0 |        3 |\n",
       "| ribozyme |      32 |       46 |       21 |       32 |       17 |       12 |       17 |       11 |\n",
       "| rRNA |       0 |        0 |        0 |        4 |       13 |        0 |        0 |       17 |\n",
       "| rRNA_pseudogene |     159 |      385 |      214 |      322 |      319 |      221 |      302 |      172 |\n",
       "| scaRNA |     205 |      444 |      177 |      198 |      208 |      138 |      250 |      150 |\n",
       "| scRNA |     757 |      806 |      816 |     1005 |     1054 |      690 |      653 |      772 |\n",
       "| snoRNA |    5769 |     9769 |     6423 |     7748 |     7336 |     6657 |     7213 |     6765 |\n",
       "| snRNA |   37171 |    54277 |    39555 |    45826 |    54171 |    41584 |    60917 |    47115 |\n",
       "| sRNA |       0 |        0 |        0 |        0 |        0 |        0 |        0 |        0 |\n",
       "| TEC |    5043 |     8824 |     8474 |     7581 |     8593 |     8081 |     7948 |     7810 |\n",
       "| TR_C_gene |       0 |        0 |        0 |        0 |        3 |       23 |        2 |        0 |\n",
       "| TR_D_gene |       0 |        0 |        0 |        0 |        0 |        0 |        0 |        0 |\n",
       "| TR_J_gene |       0 |        0 |        0 |        0 |        0 |        0 |        0 |        0 |\n",
       "| TR_J_pseudogene |       0 |        0 |        0 |        0 |        0 |        0 |        0 |        0 |\n",
       "| TR_V_gene |       0 |        0 |        0 |        0 |        0 |        0 |        0 |        0 |\n",
       "| TR_V_pseudogene |       0 |        0 |        0 |        0 |        0 |        1 |        0 |        8 |\n",
       "| transcribed_processed_pseudogene |    4425 |     7437 |     7345 |     6737 |     6736 |     6268 |     6169 |     6260 |\n",
       "| transcribed_unitary_pseudogene |    2937 |     4981 |     4259 |     4354 |     4127 |     4789 |     3519 |     3907 |\n",
       "| transcribed_unprocessed_pseudogene |     359 |      589 |      687 |      648 |      546 |      624 |      552 |      605 |\n",
       "| translated_processed_pseudogene |       0 |        0 |        0 |        0 |        0 |        0 |        0 |        0 |\n",
       "| unitary_pseudogene |       4 |       51 |       63 |       31 |       22 |        4 |        3 |       20 |\n",
       "| unprocessed_pseudogene |    1532 |     2947 |     4157 |     2947 |     3813 |     2707 |     2594 |     3157 |\n",
       "| vault_RNA |      30 |       62 |       79 |       72 |      123 |      109 |       60 |       67 |\n",
       "| viral |  152984 |   249475 |   832275 |   894252 |      728 |      935 |        6 |       39 |\n",
       "\n"
      ],
      "text/plain": [
       "                                   VL1     VL2      VL3      VL4      VL5     \n",
       "__no_feature                       2835019  5002841  4399253  4140854  4571791\n",
       "__ambiguous                         215176   404554   399020   352753   381856\n",
       "__too_low_aQual                          0        0        0        0        0\n",
       "__not_aligned                            0        0        0        0        0\n",
       "__alignment_not_unique             3394460  6020058  5737089  4934550  5421632\n",
       "artifact                                81      150      208      131      313\n",
       "IG_C_gene                                0        0        0        0        0\n",
       "IG_C_pseudogene                          0        0        0        0        0\n",
       "IG_D_gene                                0        0        0        0        0\n",
       "IG_J_gene                                0        0        0        0        0\n",
       "IG_J_pseudogene                          0        0        0        0        0\n",
       "IG_pseudogene                            0        0        0        0        0\n",
       "IG_V_gene                                0        0        0        0        0\n",
       "IG_V_pseudogene                          0        0        0        0        0\n",
       "lncRNA                              385436   669199   660943   591186   610676\n",
       "miRNA                                  543      773      733      834      553\n",
       "misc_RNA                              2884     5438     4051     4684     4805\n",
       "Mt_rRNA                             507538   869477   950787   748087   927050\n",
       "Mt_tRNA                             116066   220299   165618   180622   176690\n",
       "processed_pseudogene                 22026    40943    32801    31970    32277\n",
       "protein_coding                     8087411 15267969 14941691 13229646 14246344\n",
       "pseudogene                               2        5        0        0        0\n",
       "ribozyme                                32       46       21       32       17\n",
       "rRNA                                     0        0        0        4       13\n",
       "rRNA_pseudogene                        159      385      214      322      319\n",
       "scaRNA                                 205      444      177      198      208\n",
       "scRNA                                  757      806      816     1005     1054\n",
       "snoRNA                                5769     9769     6423     7748     7336\n",
       "snRNA                                37171    54277    39555    45826    54171\n",
       "sRNA                                     0        0        0        0        0\n",
       "TEC                                   5043     8824     8474     7581     8593\n",
       "TR_C_gene                                0        0        0        0        3\n",
       "TR_D_gene                                0        0        0        0        0\n",
       "TR_J_gene                                0        0        0        0        0\n",
       "TR_J_pseudogene                          0        0        0        0        0\n",
       "TR_V_gene                                0        0        0        0        0\n",
       "TR_V_pseudogene                          0        0        0        0        0\n",
       "transcribed_processed_pseudogene      4425     7437     7345     6737     6736\n",
       "transcribed_unitary_pseudogene        2937     4981     4259     4354     4127\n",
       "transcribed_unprocessed_pseudogene     359      589      687      648      546\n",
       "translated_processed_pseudogene          0        0        0        0        0\n",
       "unitary_pseudogene                       4       51       63       31       22\n",
       "unprocessed_pseudogene                1532     2947     4157     2947     3813\n",
       "vault_RNA                               30       62       79       72      123\n",
       "viral                               152984   249475   832275   894252      728\n",
       "                                   VL6      VL7      VL8     \n",
       "__no_feature                        4463479  4728009  4394718\n",
       "__ambiguous                          326739   329597   349293\n",
       "__too_low_aQual                           0        0        0\n",
       "__not_aligned                             0        0        0\n",
       "__alignment_not_unique              5093515  5647615  5400931\n",
       "artifact                                154       81      129\n",
       "IG_C_gene                                 0        0        3\n",
       "IG_C_pseudogene                           0        0        0\n",
       "IG_D_gene                                 0        0        0\n",
       "IG_J_gene                                 0        0        0\n",
       "IG_J_pseudogene                           0        0        0\n",
       "IG_pseudogene                             0        0        0\n",
       "IG_V_gene                                 0        0        0\n",
       "IG_V_pseudogene                           0        0        0\n",
       "lncRNA                               660589   622878   582992\n",
       "miRNA                                   766      787      633\n",
       "misc_RNA                               4510     5093     4254\n",
       "Mt_rRNA                              764485   846746   806867\n",
       "Mt_tRNA                              183475   195074   156024\n",
       "processed_pseudogene                  31300    34326    31786\n",
       "protein_coding                     12509213 12117475 12936665\n",
       "pseudogene                                2        0        3\n",
       "ribozyme                                 12       17       11\n",
       "rRNA                                      0        0       17\n",
       "rRNA_pseudogene                         221      302      172\n",
       "scaRNA                                  138      250      150\n",
       "scRNA                                   690      653      772\n",
       "snoRNA                                 6657     7213     6765\n",
       "snRNA                                 41584    60917    47115\n",
       "sRNA                                      0        0        0\n",
       "TEC                                    8081     7948     7810\n",
       "TR_C_gene                                23        2        0\n",
       "TR_D_gene                                 0        0        0\n",
       "TR_J_gene                                 0        0        0\n",
       "TR_J_pseudogene                           0        0        0\n",
       "TR_V_gene                                 0        0        0\n",
       "TR_V_pseudogene                           1        0        8\n",
       "transcribed_processed_pseudogene       6268     6169     6260\n",
       "transcribed_unitary_pseudogene         4789     3519     3907\n",
       "transcribed_unprocessed_pseudogene      624      552      605\n",
       "translated_processed_pseudogene           0        0        0\n",
       "unitary_pseudogene                        4        3       20\n",
       "unprocessed_pseudogene                 2707     2594     3157\n",
       "vault_RNA                               109       60       67\n",
       "viral                                   935        6       39"
      ]
     },
     "metadata": {},
     "output_type": "display_data"
    }
   ],
   "source": [
    "mapping_qc = rbind(mapping_qc,t(sapply(split.data.frame(counts,genes$gene_biotype),colSums)))\n",
    "mapping_qc"
   ]
  },
  {
   "cell_type": "code",
   "execution_count": 69,
   "id": "eaace6e5-bbd0-450d-8652-0e32611e7b5c",
   "metadata": {},
   "outputs": [
    {
     "data": {
      "text/html": [
       "<table class=\"dataframe\">\n",
       "<caption>A matrix: 45 × 8 of type dbl</caption>\n",
       "<thead>\n",
       "\t<tr><th></th><th scope=col>VL1</th><th scope=col>VL2</th><th scope=col>VL3</th><th scope=col>VL4</th><th scope=col>VL5</th><th scope=col>VL6</th><th scope=col>VL7</th><th scope=col>VL8</th></tr>\n",
       "</thead>\n",
       "<tbody>\n",
       "\t<tr><th scope=row>protein_coding</th><td>51.3</td><td>52.9</td><td>53.0</td><td>52.5</td><td>53.8</td><td>51.9</td><td>49.2</td><td>52.3</td></tr>\n",
       "\t<tr><th scope=row>__alignment_not_unique</th><td>21.5</td><td>20.9</td><td>20.3</td><td>19.6</td><td>20.5</td><td>21.1</td><td>22.9</td><td>21.8</td></tr>\n",
       "\t<tr><th scope=row>__no_feature</th><td>18.0</td><td>17.3</td><td>15.6</td><td>16.4</td><td>17.3</td><td>18.5</td><td>19.2</td><td>17.8</td></tr>\n",
       "\t<tr><th scope=row>Mt_rRNA</th><td> 3.2</td><td> 3.0</td><td> 3.4</td><td> 3.0</td><td> 3.5</td><td> 3.2</td><td> 3.4</td><td> 3.3</td></tr>\n",
       "\t<tr><th scope=row>lncRNA</th><td> 2.4</td><td> 2.3</td><td> 2.3</td><td> 2.3</td><td> 2.3</td><td> 2.7</td><td> 2.5</td><td> 2.4</td></tr>\n",
       "\t<tr><th scope=row>__ambiguous</th><td> 1.4</td><td> 1.4</td><td> 1.4</td><td> 1.4</td><td> 1.4</td><td> 1.4</td><td> 1.3</td><td> 1.4</td></tr>\n",
       "\t<tr><th scope=row>viral</th><td> 1.0</td><td> 0.9</td><td> 3.0</td><td> 3.6</td><td> 0.0</td><td> 0.0</td><td> 0.0</td><td> 0.0</td></tr>\n",
       "\t<tr><th scope=row>Mt_tRNA</th><td> 0.7</td><td> 0.8</td><td> 0.6</td><td> 0.7</td><td> 0.7</td><td> 0.8</td><td> 0.8</td><td> 0.6</td></tr>\n",
       "\t<tr><th scope=row>snRNA</th><td> 0.2</td><td> 0.2</td><td> 0.1</td><td> 0.2</td><td> 0.2</td><td> 0.2</td><td> 0.2</td><td> 0.2</td></tr>\n",
       "\t<tr><th scope=row>processed_pseudogene</th><td> 0.1</td><td> 0.1</td><td> 0.1</td><td> 0.1</td><td> 0.1</td><td> 0.1</td><td> 0.1</td><td> 0.1</td></tr>\n",
       "\t<tr><th scope=row>__too_low_aQual</th><td> 0.0</td><td> 0.0</td><td> 0.0</td><td> 0.0</td><td> 0.0</td><td> 0.0</td><td> 0.0</td><td> 0.0</td></tr>\n",
       "\t<tr><th scope=row>__not_aligned</th><td> 0.0</td><td> 0.0</td><td> 0.0</td><td> 0.0</td><td> 0.0</td><td> 0.0</td><td> 0.0</td><td> 0.0</td></tr>\n",
       "\t<tr><th scope=row>artifact</th><td> 0.0</td><td> 0.0</td><td> 0.0</td><td> 0.0</td><td> 0.0</td><td> 0.0</td><td> 0.0</td><td> 0.0</td></tr>\n",
       "\t<tr><th scope=row>IG_C_gene</th><td> 0.0</td><td> 0.0</td><td> 0.0</td><td> 0.0</td><td> 0.0</td><td> 0.0</td><td> 0.0</td><td> 0.0</td></tr>\n",
       "\t<tr><th scope=row>IG_C_pseudogene</th><td> 0.0</td><td> 0.0</td><td> 0.0</td><td> 0.0</td><td> 0.0</td><td> 0.0</td><td> 0.0</td><td> 0.0</td></tr>\n",
       "\t<tr><th scope=row>IG_D_gene</th><td> 0.0</td><td> 0.0</td><td> 0.0</td><td> 0.0</td><td> 0.0</td><td> 0.0</td><td> 0.0</td><td> 0.0</td></tr>\n",
       "\t<tr><th scope=row>IG_J_gene</th><td> 0.0</td><td> 0.0</td><td> 0.0</td><td> 0.0</td><td> 0.0</td><td> 0.0</td><td> 0.0</td><td> 0.0</td></tr>\n",
       "\t<tr><th scope=row>IG_J_pseudogene</th><td> 0.0</td><td> 0.0</td><td> 0.0</td><td> 0.0</td><td> 0.0</td><td> 0.0</td><td> 0.0</td><td> 0.0</td></tr>\n",
       "\t<tr><th scope=row>IG_pseudogene</th><td> 0.0</td><td> 0.0</td><td> 0.0</td><td> 0.0</td><td> 0.0</td><td> 0.0</td><td> 0.0</td><td> 0.0</td></tr>\n",
       "\t<tr><th scope=row>IG_V_gene</th><td> 0.0</td><td> 0.0</td><td> 0.0</td><td> 0.0</td><td> 0.0</td><td> 0.0</td><td> 0.0</td><td> 0.0</td></tr>\n",
       "\t<tr><th scope=row>IG_V_pseudogene</th><td> 0.0</td><td> 0.0</td><td> 0.0</td><td> 0.0</td><td> 0.0</td><td> 0.0</td><td> 0.0</td><td> 0.0</td></tr>\n",
       "\t<tr><th scope=row>miRNA</th><td> 0.0</td><td> 0.0</td><td> 0.0</td><td> 0.0</td><td> 0.0</td><td> 0.0</td><td> 0.0</td><td> 0.0</td></tr>\n",
       "\t<tr><th scope=row>misc_RNA</th><td> 0.0</td><td> 0.0</td><td> 0.0</td><td> 0.0</td><td> 0.0</td><td> 0.0</td><td> 0.0</td><td> 0.0</td></tr>\n",
       "\t<tr><th scope=row>pseudogene</th><td> 0.0</td><td> 0.0</td><td> 0.0</td><td> 0.0</td><td> 0.0</td><td> 0.0</td><td> 0.0</td><td> 0.0</td></tr>\n",
       "\t<tr><th scope=row>ribozyme</th><td> 0.0</td><td> 0.0</td><td> 0.0</td><td> 0.0</td><td> 0.0</td><td> 0.0</td><td> 0.0</td><td> 0.0</td></tr>\n",
       "\t<tr><th scope=row>rRNA</th><td> 0.0</td><td> 0.0</td><td> 0.0</td><td> 0.0</td><td> 0.0</td><td> 0.0</td><td> 0.0</td><td> 0.0</td></tr>\n",
       "\t<tr><th scope=row>rRNA_pseudogene</th><td> 0.0</td><td> 0.0</td><td> 0.0</td><td> 0.0</td><td> 0.0</td><td> 0.0</td><td> 0.0</td><td> 0.0</td></tr>\n",
       "\t<tr><th scope=row>scaRNA</th><td> 0.0</td><td> 0.0</td><td> 0.0</td><td> 0.0</td><td> 0.0</td><td> 0.0</td><td> 0.0</td><td> 0.0</td></tr>\n",
       "\t<tr><th scope=row>scRNA</th><td> 0.0</td><td> 0.0</td><td> 0.0</td><td> 0.0</td><td> 0.0</td><td> 0.0</td><td> 0.0</td><td> 0.0</td></tr>\n",
       "\t<tr><th scope=row>snoRNA</th><td> 0.0</td><td> 0.0</td><td> 0.0</td><td> 0.0</td><td> 0.0</td><td> 0.0</td><td> 0.0</td><td> 0.0</td></tr>\n",
       "\t<tr><th scope=row>sRNA</th><td> 0.0</td><td> 0.0</td><td> 0.0</td><td> 0.0</td><td> 0.0</td><td> 0.0</td><td> 0.0</td><td> 0.0</td></tr>\n",
       "\t<tr><th scope=row>TEC</th><td> 0.0</td><td> 0.0</td><td> 0.0</td><td> 0.0</td><td> 0.0</td><td> 0.0</td><td> 0.0</td><td> 0.0</td></tr>\n",
       "\t<tr><th scope=row>TR_C_gene</th><td> 0.0</td><td> 0.0</td><td> 0.0</td><td> 0.0</td><td> 0.0</td><td> 0.0</td><td> 0.0</td><td> 0.0</td></tr>\n",
       "\t<tr><th scope=row>TR_D_gene</th><td> 0.0</td><td> 0.0</td><td> 0.0</td><td> 0.0</td><td> 0.0</td><td> 0.0</td><td> 0.0</td><td> 0.0</td></tr>\n",
       "\t<tr><th scope=row>TR_J_gene</th><td> 0.0</td><td> 0.0</td><td> 0.0</td><td> 0.0</td><td> 0.0</td><td> 0.0</td><td> 0.0</td><td> 0.0</td></tr>\n",
       "\t<tr><th scope=row>TR_J_pseudogene</th><td> 0.0</td><td> 0.0</td><td> 0.0</td><td> 0.0</td><td> 0.0</td><td> 0.0</td><td> 0.0</td><td> 0.0</td></tr>\n",
       "\t<tr><th scope=row>TR_V_gene</th><td> 0.0</td><td> 0.0</td><td> 0.0</td><td> 0.0</td><td> 0.0</td><td> 0.0</td><td> 0.0</td><td> 0.0</td></tr>\n",
       "\t<tr><th scope=row>TR_V_pseudogene</th><td> 0.0</td><td> 0.0</td><td> 0.0</td><td> 0.0</td><td> 0.0</td><td> 0.0</td><td> 0.0</td><td> 0.0</td></tr>\n",
       "\t<tr><th scope=row>transcribed_processed_pseudogene</th><td> 0.0</td><td> 0.0</td><td> 0.0</td><td> 0.0</td><td> 0.0</td><td> 0.0</td><td> 0.0</td><td> 0.0</td></tr>\n",
       "\t<tr><th scope=row>transcribed_unitary_pseudogene</th><td> 0.0</td><td> 0.0</td><td> 0.0</td><td> 0.0</td><td> 0.0</td><td> 0.0</td><td> 0.0</td><td> 0.0</td></tr>\n",
       "\t<tr><th scope=row>transcribed_unprocessed_pseudogene</th><td> 0.0</td><td> 0.0</td><td> 0.0</td><td> 0.0</td><td> 0.0</td><td> 0.0</td><td> 0.0</td><td> 0.0</td></tr>\n",
       "\t<tr><th scope=row>translated_processed_pseudogene</th><td> 0.0</td><td> 0.0</td><td> 0.0</td><td> 0.0</td><td> 0.0</td><td> 0.0</td><td> 0.0</td><td> 0.0</td></tr>\n",
       "\t<tr><th scope=row>unitary_pseudogene</th><td> 0.0</td><td> 0.0</td><td> 0.0</td><td> 0.0</td><td> 0.0</td><td> 0.0</td><td> 0.0</td><td> 0.0</td></tr>\n",
       "\t<tr><th scope=row>unprocessed_pseudogene</th><td> 0.0</td><td> 0.0</td><td> 0.0</td><td> 0.0</td><td> 0.0</td><td> 0.0</td><td> 0.0</td><td> 0.0</td></tr>\n",
       "\t<tr><th scope=row>vault_RNA</th><td> 0.0</td><td> 0.0</td><td> 0.0</td><td> 0.0</td><td> 0.0</td><td> 0.0</td><td> 0.0</td><td> 0.0</td></tr>\n",
       "</tbody>\n",
       "</table>\n"
      ],
      "text/latex": [
       "A matrix: 45 × 8 of type dbl\n",
       "\\begin{tabular}{r|llllllll}\n",
       "  & VL1 & VL2 & VL3 & VL4 & VL5 & VL6 & VL7 & VL8\\\\\n",
       "\\hline\n",
       "\tprotein\\_coding & 51.3 & 52.9 & 53.0 & 52.5 & 53.8 & 51.9 & 49.2 & 52.3\\\\\n",
       "\t\\_\\_alignment\\_not\\_unique & 21.5 & 20.9 & 20.3 & 19.6 & 20.5 & 21.1 & 22.9 & 21.8\\\\\n",
       "\t\\_\\_no\\_feature & 18.0 & 17.3 & 15.6 & 16.4 & 17.3 & 18.5 & 19.2 & 17.8\\\\\n",
       "\tMt\\_rRNA &  3.2 &  3.0 &  3.4 &  3.0 &  3.5 &  3.2 &  3.4 &  3.3\\\\\n",
       "\tlncRNA &  2.4 &  2.3 &  2.3 &  2.3 &  2.3 &  2.7 &  2.5 &  2.4\\\\\n",
       "\t\\_\\_ambiguous &  1.4 &  1.4 &  1.4 &  1.4 &  1.4 &  1.4 &  1.3 &  1.4\\\\\n",
       "\tviral &  1.0 &  0.9 &  3.0 &  3.6 &  0.0 &  0.0 &  0.0 &  0.0\\\\\n",
       "\tMt\\_tRNA &  0.7 &  0.8 &  0.6 &  0.7 &  0.7 &  0.8 &  0.8 &  0.6\\\\\n",
       "\tsnRNA &  0.2 &  0.2 &  0.1 &  0.2 &  0.2 &  0.2 &  0.2 &  0.2\\\\\n",
       "\tprocessed\\_pseudogene &  0.1 &  0.1 &  0.1 &  0.1 &  0.1 &  0.1 &  0.1 &  0.1\\\\\n",
       "\t\\_\\_too\\_low\\_aQual &  0.0 &  0.0 &  0.0 &  0.0 &  0.0 &  0.0 &  0.0 &  0.0\\\\\n",
       "\t\\_\\_not\\_aligned &  0.0 &  0.0 &  0.0 &  0.0 &  0.0 &  0.0 &  0.0 &  0.0\\\\\n",
       "\tartifact &  0.0 &  0.0 &  0.0 &  0.0 &  0.0 &  0.0 &  0.0 &  0.0\\\\\n",
       "\tIG\\_C\\_gene &  0.0 &  0.0 &  0.0 &  0.0 &  0.0 &  0.0 &  0.0 &  0.0\\\\\n",
       "\tIG\\_C\\_pseudogene &  0.0 &  0.0 &  0.0 &  0.0 &  0.0 &  0.0 &  0.0 &  0.0\\\\\n",
       "\tIG\\_D\\_gene &  0.0 &  0.0 &  0.0 &  0.0 &  0.0 &  0.0 &  0.0 &  0.0\\\\\n",
       "\tIG\\_J\\_gene &  0.0 &  0.0 &  0.0 &  0.0 &  0.0 &  0.0 &  0.0 &  0.0\\\\\n",
       "\tIG\\_J\\_pseudogene &  0.0 &  0.0 &  0.0 &  0.0 &  0.0 &  0.0 &  0.0 &  0.0\\\\\n",
       "\tIG\\_pseudogene &  0.0 &  0.0 &  0.0 &  0.0 &  0.0 &  0.0 &  0.0 &  0.0\\\\\n",
       "\tIG\\_V\\_gene &  0.0 &  0.0 &  0.0 &  0.0 &  0.0 &  0.0 &  0.0 &  0.0\\\\\n",
       "\tIG\\_V\\_pseudogene &  0.0 &  0.0 &  0.0 &  0.0 &  0.0 &  0.0 &  0.0 &  0.0\\\\\n",
       "\tmiRNA &  0.0 &  0.0 &  0.0 &  0.0 &  0.0 &  0.0 &  0.0 &  0.0\\\\\n",
       "\tmisc\\_RNA &  0.0 &  0.0 &  0.0 &  0.0 &  0.0 &  0.0 &  0.0 &  0.0\\\\\n",
       "\tpseudogene &  0.0 &  0.0 &  0.0 &  0.0 &  0.0 &  0.0 &  0.0 &  0.0\\\\\n",
       "\tribozyme &  0.0 &  0.0 &  0.0 &  0.0 &  0.0 &  0.0 &  0.0 &  0.0\\\\\n",
       "\trRNA &  0.0 &  0.0 &  0.0 &  0.0 &  0.0 &  0.0 &  0.0 &  0.0\\\\\n",
       "\trRNA\\_pseudogene &  0.0 &  0.0 &  0.0 &  0.0 &  0.0 &  0.0 &  0.0 &  0.0\\\\\n",
       "\tscaRNA &  0.0 &  0.0 &  0.0 &  0.0 &  0.0 &  0.0 &  0.0 &  0.0\\\\\n",
       "\tscRNA &  0.0 &  0.0 &  0.0 &  0.0 &  0.0 &  0.0 &  0.0 &  0.0\\\\\n",
       "\tsnoRNA &  0.0 &  0.0 &  0.0 &  0.0 &  0.0 &  0.0 &  0.0 &  0.0\\\\\n",
       "\tsRNA &  0.0 &  0.0 &  0.0 &  0.0 &  0.0 &  0.0 &  0.0 &  0.0\\\\\n",
       "\tTEC &  0.0 &  0.0 &  0.0 &  0.0 &  0.0 &  0.0 &  0.0 &  0.0\\\\\n",
       "\tTR\\_C\\_gene &  0.0 &  0.0 &  0.0 &  0.0 &  0.0 &  0.0 &  0.0 &  0.0\\\\\n",
       "\tTR\\_D\\_gene &  0.0 &  0.0 &  0.0 &  0.0 &  0.0 &  0.0 &  0.0 &  0.0\\\\\n",
       "\tTR\\_J\\_gene &  0.0 &  0.0 &  0.0 &  0.0 &  0.0 &  0.0 &  0.0 &  0.0\\\\\n",
       "\tTR\\_J\\_pseudogene &  0.0 &  0.0 &  0.0 &  0.0 &  0.0 &  0.0 &  0.0 &  0.0\\\\\n",
       "\tTR\\_V\\_gene &  0.0 &  0.0 &  0.0 &  0.0 &  0.0 &  0.0 &  0.0 &  0.0\\\\\n",
       "\tTR\\_V\\_pseudogene &  0.0 &  0.0 &  0.0 &  0.0 &  0.0 &  0.0 &  0.0 &  0.0\\\\\n",
       "\ttranscribed\\_processed\\_pseudogene &  0.0 &  0.0 &  0.0 &  0.0 &  0.0 &  0.0 &  0.0 &  0.0\\\\\n",
       "\ttranscribed\\_unitary\\_pseudogene &  0.0 &  0.0 &  0.0 &  0.0 &  0.0 &  0.0 &  0.0 &  0.0\\\\\n",
       "\ttranscribed\\_unprocessed\\_pseudogene &  0.0 &  0.0 &  0.0 &  0.0 &  0.0 &  0.0 &  0.0 &  0.0\\\\\n",
       "\ttranslated\\_processed\\_pseudogene &  0.0 &  0.0 &  0.0 &  0.0 &  0.0 &  0.0 &  0.0 &  0.0\\\\\n",
       "\tunitary\\_pseudogene &  0.0 &  0.0 &  0.0 &  0.0 &  0.0 &  0.0 &  0.0 &  0.0\\\\\n",
       "\tunprocessed\\_pseudogene &  0.0 &  0.0 &  0.0 &  0.0 &  0.0 &  0.0 &  0.0 &  0.0\\\\\n",
       "\tvault\\_RNA &  0.0 &  0.0 &  0.0 &  0.0 &  0.0 &  0.0 &  0.0 &  0.0\\\\\n",
       "\\end{tabular}\n"
      ],
      "text/markdown": [
       "\n",
       "A matrix: 45 × 8 of type dbl\n",
       "\n",
       "| <!--/--> | VL1 | VL2 | VL3 | VL4 | VL5 | VL6 | VL7 | VL8 |\n",
       "|---|---|---|---|---|---|---|---|---|\n",
       "| protein_coding | 51.3 | 52.9 | 53.0 | 52.5 | 53.8 | 51.9 | 49.2 | 52.3 |\n",
       "| __alignment_not_unique | 21.5 | 20.9 | 20.3 | 19.6 | 20.5 | 21.1 | 22.9 | 21.8 |\n",
       "| __no_feature | 18.0 | 17.3 | 15.6 | 16.4 | 17.3 | 18.5 | 19.2 | 17.8 |\n",
       "| Mt_rRNA |  3.2 |  3.0 |  3.4 |  3.0 |  3.5 |  3.2 |  3.4 |  3.3 |\n",
       "| lncRNA |  2.4 |  2.3 |  2.3 |  2.3 |  2.3 |  2.7 |  2.5 |  2.4 |\n",
       "| __ambiguous |  1.4 |  1.4 |  1.4 |  1.4 |  1.4 |  1.4 |  1.3 |  1.4 |\n",
       "| viral |  1.0 |  0.9 |  3.0 |  3.6 |  0.0 |  0.0 |  0.0 |  0.0 |\n",
       "| Mt_tRNA |  0.7 |  0.8 |  0.6 |  0.7 |  0.7 |  0.8 |  0.8 |  0.6 |\n",
       "| snRNA |  0.2 |  0.2 |  0.1 |  0.2 |  0.2 |  0.2 |  0.2 |  0.2 |\n",
       "| processed_pseudogene |  0.1 |  0.1 |  0.1 |  0.1 |  0.1 |  0.1 |  0.1 |  0.1 |\n",
       "| __too_low_aQual |  0.0 |  0.0 |  0.0 |  0.0 |  0.0 |  0.0 |  0.0 |  0.0 |\n",
       "| __not_aligned |  0.0 |  0.0 |  0.0 |  0.0 |  0.0 |  0.0 |  0.0 |  0.0 |\n",
       "| artifact |  0.0 |  0.0 |  0.0 |  0.0 |  0.0 |  0.0 |  0.0 |  0.0 |\n",
       "| IG_C_gene |  0.0 |  0.0 |  0.0 |  0.0 |  0.0 |  0.0 |  0.0 |  0.0 |\n",
       "| IG_C_pseudogene |  0.0 |  0.0 |  0.0 |  0.0 |  0.0 |  0.0 |  0.0 |  0.0 |\n",
       "| IG_D_gene |  0.0 |  0.0 |  0.0 |  0.0 |  0.0 |  0.0 |  0.0 |  0.0 |\n",
       "| IG_J_gene |  0.0 |  0.0 |  0.0 |  0.0 |  0.0 |  0.0 |  0.0 |  0.0 |\n",
       "| IG_J_pseudogene |  0.0 |  0.0 |  0.0 |  0.0 |  0.0 |  0.0 |  0.0 |  0.0 |\n",
       "| IG_pseudogene |  0.0 |  0.0 |  0.0 |  0.0 |  0.0 |  0.0 |  0.0 |  0.0 |\n",
       "| IG_V_gene |  0.0 |  0.0 |  0.0 |  0.0 |  0.0 |  0.0 |  0.0 |  0.0 |\n",
       "| IG_V_pseudogene |  0.0 |  0.0 |  0.0 |  0.0 |  0.0 |  0.0 |  0.0 |  0.0 |\n",
       "| miRNA |  0.0 |  0.0 |  0.0 |  0.0 |  0.0 |  0.0 |  0.0 |  0.0 |\n",
       "| misc_RNA |  0.0 |  0.0 |  0.0 |  0.0 |  0.0 |  0.0 |  0.0 |  0.0 |\n",
       "| pseudogene |  0.0 |  0.0 |  0.0 |  0.0 |  0.0 |  0.0 |  0.0 |  0.0 |\n",
       "| ribozyme |  0.0 |  0.0 |  0.0 |  0.0 |  0.0 |  0.0 |  0.0 |  0.0 |\n",
       "| rRNA |  0.0 |  0.0 |  0.0 |  0.0 |  0.0 |  0.0 |  0.0 |  0.0 |\n",
       "| rRNA_pseudogene |  0.0 |  0.0 |  0.0 |  0.0 |  0.0 |  0.0 |  0.0 |  0.0 |\n",
       "| scaRNA |  0.0 |  0.0 |  0.0 |  0.0 |  0.0 |  0.0 |  0.0 |  0.0 |\n",
       "| scRNA |  0.0 |  0.0 |  0.0 |  0.0 |  0.0 |  0.0 |  0.0 |  0.0 |\n",
       "| snoRNA |  0.0 |  0.0 |  0.0 |  0.0 |  0.0 |  0.0 |  0.0 |  0.0 |\n",
       "| sRNA |  0.0 |  0.0 |  0.0 |  0.0 |  0.0 |  0.0 |  0.0 |  0.0 |\n",
       "| TEC |  0.0 |  0.0 |  0.0 |  0.0 |  0.0 |  0.0 |  0.0 |  0.0 |\n",
       "| TR_C_gene |  0.0 |  0.0 |  0.0 |  0.0 |  0.0 |  0.0 |  0.0 |  0.0 |\n",
       "| TR_D_gene |  0.0 |  0.0 |  0.0 |  0.0 |  0.0 |  0.0 |  0.0 |  0.0 |\n",
       "| TR_J_gene |  0.0 |  0.0 |  0.0 |  0.0 |  0.0 |  0.0 |  0.0 |  0.0 |\n",
       "| TR_J_pseudogene |  0.0 |  0.0 |  0.0 |  0.0 |  0.0 |  0.0 |  0.0 |  0.0 |\n",
       "| TR_V_gene |  0.0 |  0.0 |  0.0 |  0.0 |  0.0 |  0.0 |  0.0 |  0.0 |\n",
       "| TR_V_pseudogene |  0.0 |  0.0 |  0.0 |  0.0 |  0.0 |  0.0 |  0.0 |  0.0 |\n",
       "| transcribed_processed_pseudogene |  0.0 |  0.0 |  0.0 |  0.0 |  0.0 |  0.0 |  0.0 |  0.0 |\n",
       "| transcribed_unitary_pseudogene |  0.0 |  0.0 |  0.0 |  0.0 |  0.0 |  0.0 |  0.0 |  0.0 |\n",
       "| transcribed_unprocessed_pseudogene |  0.0 |  0.0 |  0.0 |  0.0 |  0.0 |  0.0 |  0.0 |  0.0 |\n",
       "| translated_processed_pseudogene |  0.0 |  0.0 |  0.0 |  0.0 |  0.0 |  0.0 |  0.0 |  0.0 |\n",
       "| unitary_pseudogene |  0.0 |  0.0 |  0.0 |  0.0 |  0.0 |  0.0 |  0.0 |  0.0 |\n",
       "| unprocessed_pseudogene |  0.0 |  0.0 |  0.0 |  0.0 |  0.0 |  0.0 |  0.0 |  0.0 |\n",
       "| vault_RNA |  0.0 |  0.0 |  0.0 |  0.0 |  0.0 |  0.0 |  0.0 |  0.0 |\n",
       "\n"
      ],
      "text/plain": [
       "                                   VL1  VL2  VL3  VL4  VL5  VL6  VL7  VL8 \n",
       "protein_coding                     51.3 52.9 53.0 52.5 53.8 51.9 49.2 52.3\n",
       "__alignment_not_unique             21.5 20.9 20.3 19.6 20.5 21.1 22.9 21.8\n",
       "__no_feature                       18.0 17.3 15.6 16.4 17.3 18.5 19.2 17.8\n",
       "Mt_rRNA                             3.2  3.0  3.4  3.0  3.5  3.2  3.4  3.3\n",
       "lncRNA                              2.4  2.3  2.3  2.3  2.3  2.7  2.5  2.4\n",
       "__ambiguous                         1.4  1.4  1.4  1.4  1.4  1.4  1.3  1.4\n",
       "viral                               1.0  0.9  3.0  3.6  0.0  0.0  0.0  0.0\n",
       "Mt_tRNA                             0.7  0.8  0.6  0.7  0.7  0.8  0.8  0.6\n",
       "snRNA                               0.2  0.2  0.1  0.2  0.2  0.2  0.2  0.2\n",
       "processed_pseudogene                0.1  0.1  0.1  0.1  0.1  0.1  0.1  0.1\n",
       "__too_low_aQual                     0.0  0.0  0.0  0.0  0.0  0.0  0.0  0.0\n",
       "__not_aligned                       0.0  0.0  0.0  0.0  0.0  0.0  0.0  0.0\n",
       "artifact                            0.0  0.0  0.0  0.0  0.0  0.0  0.0  0.0\n",
       "IG_C_gene                           0.0  0.0  0.0  0.0  0.0  0.0  0.0  0.0\n",
       "IG_C_pseudogene                     0.0  0.0  0.0  0.0  0.0  0.0  0.0  0.0\n",
       "IG_D_gene                           0.0  0.0  0.0  0.0  0.0  0.0  0.0  0.0\n",
       "IG_J_gene                           0.0  0.0  0.0  0.0  0.0  0.0  0.0  0.0\n",
       "IG_J_pseudogene                     0.0  0.0  0.0  0.0  0.0  0.0  0.0  0.0\n",
       "IG_pseudogene                       0.0  0.0  0.0  0.0  0.0  0.0  0.0  0.0\n",
       "IG_V_gene                           0.0  0.0  0.0  0.0  0.0  0.0  0.0  0.0\n",
       "IG_V_pseudogene                     0.0  0.0  0.0  0.0  0.0  0.0  0.0  0.0\n",
       "miRNA                               0.0  0.0  0.0  0.0  0.0  0.0  0.0  0.0\n",
       "misc_RNA                            0.0  0.0  0.0  0.0  0.0  0.0  0.0  0.0\n",
       "pseudogene                          0.0  0.0  0.0  0.0  0.0  0.0  0.0  0.0\n",
       "ribozyme                            0.0  0.0  0.0  0.0  0.0  0.0  0.0  0.0\n",
       "rRNA                                0.0  0.0  0.0  0.0  0.0  0.0  0.0  0.0\n",
       "rRNA_pseudogene                     0.0  0.0  0.0  0.0  0.0  0.0  0.0  0.0\n",
       "scaRNA                              0.0  0.0  0.0  0.0  0.0  0.0  0.0  0.0\n",
       "scRNA                               0.0  0.0  0.0  0.0  0.0  0.0  0.0  0.0\n",
       "snoRNA                              0.0  0.0  0.0  0.0  0.0  0.0  0.0  0.0\n",
       "sRNA                                0.0  0.0  0.0  0.0  0.0  0.0  0.0  0.0\n",
       "TEC                                 0.0  0.0  0.0  0.0  0.0  0.0  0.0  0.0\n",
       "TR_C_gene                           0.0  0.0  0.0  0.0  0.0  0.0  0.0  0.0\n",
       "TR_D_gene                           0.0  0.0  0.0  0.0  0.0  0.0  0.0  0.0\n",
       "TR_J_gene                           0.0  0.0  0.0  0.0  0.0  0.0  0.0  0.0\n",
       "TR_J_pseudogene                     0.0  0.0  0.0  0.0  0.0  0.0  0.0  0.0\n",
       "TR_V_gene                           0.0  0.0  0.0  0.0  0.0  0.0  0.0  0.0\n",
       "TR_V_pseudogene                     0.0  0.0  0.0  0.0  0.0  0.0  0.0  0.0\n",
       "transcribed_processed_pseudogene    0.0  0.0  0.0  0.0  0.0  0.0  0.0  0.0\n",
       "transcribed_unitary_pseudogene      0.0  0.0  0.0  0.0  0.0  0.0  0.0  0.0\n",
       "transcribed_unprocessed_pseudogene  0.0  0.0  0.0  0.0  0.0  0.0  0.0  0.0\n",
       "translated_processed_pseudogene     0.0  0.0  0.0  0.0  0.0  0.0  0.0  0.0\n",
       "unitary_pseudogene                  0.0  0.0  0.0  0.0  0.0  0.0  0.0  0.0\n",
       "unprocessed_pseudogene              0.0  0.0  0.0  0.0  0.0  0.0  0.0  0.0\n",
       "vault_RNA                           0.0  0.0  0.0  0.0  0.0  0.0  0.0  0.0"
      ]
     },
     "metadata": {},
     "output_type": "display_data"
    }
   ],
   "source": [
    "stat = round(sweep(mapping_qc,2,colSums(mapping_qc),'/')*100,digits = 1)\n",
    "stat[order(rowSums(stat),decreasing = T),]"
   ]
  },
  {
   "cell_type": "code",
   "execution_count": 70,
   "id": "b6519495-6e1c-4ad3-8bcf-58a7d1e4c3b9",
   "metadata": {},
   "outputs": [],
   "source": [
    "write.csv(mapping_qc,'../../output/brain/mapping_qc.csv')\n",
    "write.csv(counts,'../../output/brain/counts_all_genes.csv')"
   ]
  },
  {
   "cell_type": "markdown",
   "id": "49a73981-6885-478b-aad0-a1f7c4111f34",
   "metadata": {},
   "source": [
    "# Viral expression"
   ]
  },
  {
   "cell_type": "code",
   "execution_count": 71,
   "id": "a07ef68b-d915-47f6-b8ef-3fabccb395c2",
   "metadata": {},
   "outputs": [],
   "source": [
    "counts = as.matrix(read.csv('../../output/brain/counts_all_genes.csv',row.names = 1))\n",
    "samples = read.csv('samples.csv',row.names = 1)\n",
    "genes = read.csv('../../output/brain/genes_brain.csv',row.names = 1)"
   ]
  },
  {
   "cell_type": "code",
   "execution_count": 72,
   "id": "1ac4d769-456e-41a0-8957-1f208c493b19",
   "metadata": {},
   "outputs": [
    {
     "data": {
      "text/html": [
       "<table class=\"dataframe\">\n",
       "<caption>A matrix: 3 × 8 of type int</caption>\n",
       "<thead>\n",
       "\t<tr><th></th><th scope=col>MLB2_s1</th><th scope=col>MLB2_s2</th><th scope=col>VA1_s1</th><th scope=col>VA1_s2</th><th scope=col>HAstV4_s1</th><th scope=col>HAstV4_s2</th><th scope=col>mock_s1</th><th scope=col>mock_s2</th></tr>\n",
       "</thead>\n",
       "<tbody>\n",
       "\t<tr><th scope=row>HAstV4</th><td>     0</td><td>     0</td><td>     0</td><td>     0</td><td>669</td><td>911</td><td>0</td><td> 0</td></tr>\n",
       "\t<tr><th scope=row>MLB2</th><td>152981</td><td>249471</td><td>    99</td><td>     0</td><td>  0</td><td> 15</td><td>2</td><td>26</td></tr>\n",
       "\t<tr><th scope=row>VA1</th><td>     3</td><td>     4</td><td>832176</td><td>894252</td><td> 59</td><td>  9</td><td>4</td><td>13</td></tr>\n",
       "</tbody>\n",
       "</table>\n"
      ],
      "text/latex": [
       "A matrix: 3 × 8 of type int\n",
       "\\begin{tabular}{r|llllllll}\n",
       "  & MLB2\\_s1 & MLB2\\_s2 & VA1\\_s1 & VA1\\_s2 & HAstV4\\_s1 & HAstV4\\_s2 & mock\\_s1 & mock\\_s2\\\\\n",
       "\\hline\n",
       "\tHAstV4 &      0 &      0 &      0 &      0 & 669 & 911 & 0 &  0\\\\\n",
       "\tMLB2 & 152981 & 249471 &     99 &      0 &   0 &  15 & 2 & 26\\\\\n",
       "\tVA1 &      3 &      4 & 832176 & 894252 &  59 &   9 & 4 & 13\\\\\n",
       "\\end{tabular}\n"
      ],
      "text/markdown": [
       "\n",
       "A matrix: 3 × 8 of type int\n",
       "\n",
       "| <!--/--> | MLB2_s1 | MLB2_s2 | VA1_s1 | VA1_s2 | HAstV4_s1 | HAstV4_s2 | mock_s1 | mock_s2 |\n",
       "|---|---|---|---|---|---|---|---|---|\n",
       "| HAstV4 |      0 |      0 |      0 |      0 | 669 | 911 | 0 |  0 |\n",
       "| MLB2 | 152981 | 249471 |     99 |      0 |   0 |  15 | 2 | 26 |\n",
       "| VA1 |      3 |      4 | 832176 | 894252 |  59 |   9 | 4 | 13 |\n",
       "\n"
      ],
      "text/plain": [
       "       MLB2_s1 MLB2_s2 VA1_s1 VA1_s2 HAstV4_s1 HAstV4_s2 mock_s1 mock_s2\n",
       "HAstV4      0       0       0      0 669       911       0        0     \n",
       "MLB2   152981  249471      99      0   0        15       2       26     \n",
       "VA1         3       4  832176 894252  59         9       4       13     "
      ]
     },
     "metadata": {},
     "output_type": "display_data"
    }
   ],
   "source": [
    "vcounts = counts[genes$gene_biotype =='viral' ,]\n",
    "colnames(vcounts) = samples$name\n",
    "vcounts"
   ]
  },
  {
   "cell_type": "code",
   "execution_count": 74,
   "id": "a8a7e65c-0b6b-4625-a426-8a046ef44b26",
   "metadata": {},
   "outputs": [
    {
     "data": {
      "text/html": [
       "<strong>pdf:</strong> 2"
      ],
      "text/latex": [
       "\\textbf{pdf:} 2"
      ],
      "text/markdown": [
       "**pdf:** 2"
      ],
      "text/plain": [
       "pdf \n",
       "  2 "
      ]
     },
     "metadata": {},
     "output_type": "display_data"
    }
   ],
   "source": [
    "vcpm = sweep(vcounts,2,colSums(counts),'/')*1e6\n",
    "#pdf('../../figures/brain/01_viral_expression.pdf',w=8,h=8.5)\n",
    "par(mfrow=c(2,2),mar=c(6,4,1,0))\n",
    "options(repr.plot.width = 14, repr.plot.height = 14, repr.plot.res = 150) # defaults = 7,7,120\n",
    "barplot(log10(1+t(vcpm)),beside = TRUE,border=NA,xlab='Genome',ylab='log10(cpm+1)',col=colours[samples$condition])\n",
    "legend('topleft',fill=colours,legend=names(colours),bty='n',border=NA)\n",
    "barplot(log10(1+vcpm),beside = TRUE,border=NA,ylab='log10(cpm+1)',las=3,legend.text = TRUE,args.legend = list(bty='n',border=NA),col=colours[rownames(vcpm)])\n",
    "\n",
    "barplot(t(vcpm),beside = TRUE,border=NA,xlab='Genome',ylab='cpm',col=colours[samples$condition])\n",
    "legend('topleft',fill=colours,legend=names(colours),bty='n',border=NA)\n",
    "barplot(vcpm,beside = TRUE,border=NA,ylab='cpm',las=3,legend.text = TRUE,args.legend = list(bty='n',border=NA),col=colours[rownames(vcpm)])\n",
    "#dev.off()"
   ]
  },
  {
   "cell_type": "markdown",
   "id": "312f7ee8-2fde-42fb-9b2a-15ef244e34cd",
   "metadata": {},
   "source": [
    "# Human protein coding expression"
   ]
  },
  {
   "cell_type": "code",
   "execution_count": 75,
   "id": "72291909-8195-40dc-a7ae-bab32952848e",
   "metadata": {},
   "outputs": [
    {
     "data": {
      "text/html": [
       "<style>\n",
       ".list-inline {list-style: none; margin:0; padding: 0}\n",
       ".list-inline>li {display: inline-block}\n",
       ".list-inline>li:not(:last-child)::after {content: \"\\00b7\"; padding: 0 .5ex}\n",
       "</style>\n",
       "<ol class=list-inline><li>20070</li><li>8</li></ol>\n"
      ],
      "text/latex": [
       "\\begin{enumerate*}\n",
       "\\item 20070\n",
       "\\item 8\n",
       "\\end{enumerate*}\n"
      ],
      "text/markdown": [
       "1. 20070\n",
       "2. 8\n",
       "\n",
       "\n"
      ],
      "text/plain": [
       "[1] 20070     8"
      ]
     },
     "metadata": {},
     "output_type": "display_data"
    }
   ],
   "source": [
    "counts = counts[genes$gene_biotype == 'protein_coding', ]\n",
    "dim(counts)"
   ]
  },
  {
   "cell_type": "code",
   "execution_count": 76,
   "id": "cd46e391-9362-4c96-a4e4-c732cf59add7",
   "metadata": {},
   "outputs": [],
   "source": [
    "#write.csv(counts,'../../output/brain/counts_protein_coding.csv')"
   ]
  },
  {
   "cell_type": "code",
   "execution_count": 79,
   "id": "333f11a1-b145-47ab-8b34-687f41abaf9b",
   "metadata": {},
   "outputs": [
    {
     "name": "stderr",
     "output_type": "stream",
     "text": [
      "Warning message in DESeqDataSet(se, design = design, ignoreRank):\n",
      "“some variables in design formula are characters, converting to factors”\n"
     ]
    },
    {
     "data": {
      "text/plain": [
       "class: DESeqDataSet \n",
       "dim: 20070 8 \n",
       "metadata(1): version\n",
       "assays(1): counts\n",
       "rownames(20070): ENSG00000142611 ENSG00000157911 ... ENSG00000268674\n",
       "  ENSG00000277475\n",
       "rowData names(0):\n",
       "colnames(8): MLB2_s1 MLB2_s2 ... mock_s1 mock_s2\n",
       "colData names(7): id fname1 ... timepoint name"
      ]
     },
     "metadata": {},
     "output_type": "display_data"
    }
   ],
   "source": [
    "rownames(samples) = colnames(counts) = samples$name\n",
    "deseq = DESeqDataSetFromMatrix(countData = counts,\n",
    "                              colData = samples,\n",
    "                               design = ~ condition)\n",
    "deseq"
   ]
  },
  {
   "cell_type": "code",
   "execution_count": 81,
   "id": "4d7a4281-ac85-4a5a-8461-519555e0e60a",
   "metadata": {},
   "outputs": [
    {
     "data": {
      "text/plain": [
       "\n",
       "FALSE  TRUE \n",
       " 4965 15105 "
      ]
     },
     "metadata": {},
     "output_type": "display_data"
    },
    {
     "data": {
      "image/png": "[encoded data removed]",
      "text/plain": [
       "Plot with title “Histogram of (log10(total + 1))”"
      ]
     },
     "metadata": {
      "image/png": {
       "height": 420,
       "width": 420
      }
     },
     "output_type": "display_data"
    }
   ],
   "source": [
    "# filtes genes by total read counts\n",
    "options(repr.plot.width = 7, repr.plot.height = 7, repr.plot.res = 120)\n",
    "total = rowSums(counts(deseq))\n",
    "hist((log10(total + 1)),100)\n",
    "table(total>=10)"
   ]
  },
  {
   "cell_type": "code",
   "execution_count": 82,
   "id": "b8a0a698-3786-4931-82d2-34a92ea17593",
   "metadata": {},
   "outputs": [
    {
     "data": {
      "text/html": [
       "<table class=\"dataframe\">\n",
       "<caption>A matrix: 4 × 8 of type lgl</caption>\n",
       "<thead>\n",
       "\t<tr><th></th><th scope=col>MLB2_s1</th><th scope=col>MLB2_s2</th><th scope=col>VA1_s1</th><th scope=col>VA1_s2</th><th scope=col>HAstV4_s1</th><th scope=col>HAstV4_s2</th><th scope=col>mock_s1</th><th scope=col>mock_s2</th></tr>\n",
       "</thead>\n",
       "<tbody>\n",
       "\t<tr><th scope=row>ENSG00000142611</th><td>TRUE</td><td>TRUE</td><td>TRUE</td><td>TRUE</td><td>TRUE</td><td>TRUE</td><td>TRUE</td><td>TRUE</td></tr>\n",
       "\t<tr><th scope=row>ENSG00000157911</th><td>TRUE</td><td>TRUE</td><td>TRUE</td><td>TRUE</td><td>TRUE</td><td>TRUE</td><td>TRUE</td><td>TRUE</td></tr>\n",
       "\t<tr><th scope=row>ENSG00000142655</th><td>TRUE</td><td>TRUE</td><td>TRUE</td><td>TRUE</td><td>TRUE</td><td>TRUE</td><td>TRUE</td><td>TRUE</td></tr>\n",
       "\t<tr><th scope=row>ENSG00000149527</th><td>TRUE</td><td>TRUE</td><td>TRUE</td><td>TRUE</td><td>TRUE</td><td>TRUE</td><td>TRUE</td><td>TRUE</td></tr>\n",
       "</tbody>\n",
       "</table>\n"
      ],
      "text/latex": [
       "A matrix: 4 × 8 of type lgl\n",
       "\\begin{tabular}{r|llllllll}\n",
       "  & MLB2\\_s1 & MLB2\\_s2 & VA1\\_s1 & VA1\\_s2 & HAstV4\\_s1 & HAstV4\\_s2 & mock\\_s1 & mock\\_s2\\\\\n",
       "\\hline\n",
       "\tENSG00000142611 & TRUE & TRUE & TRUE & TRUE & TRUE & TRUE & TRUE & TRUE\\\\\n",
       "\tENSG00000157911 & TRUE & TRUE & TRUE & TRUE & TRUE & TRUE & TRUE & TRUE\\\\\n",
       "\tENSG00000142655 & TRUE & TRUE & TRUE & TRUE & TRUE & TRUE & TRUE & TRUE\\\\\n",
       "\tENSG00000149527 & TRUE & TRUE & TRUE & TRUE & TRUE & TRUE & TRUE & TRUE\\\\\n",
       "\\end{tabular}\n"
      ],
      "text/markdown": [
       "\n",
       "A matrix: 4 × 8 of type lgl\n",
       "\n",
       "| <!--/--> | MLB2_s1 | MLB2_s2 | VA1_s1 | VA1_s2 | HAstV4_s1 | HAstV4_s2 | mock_s1 | mock_s2 |\n",
       "|---|---|---|---|---|---|---|---|---|\n",
       "| ENSG00000142611 | TRUE | TRUE | TRUE | TRUE | TRUE | TRUE | TRUE | TRUE |\n",
       "| ENSG00000157911 | TRUE | TRUE | TRUE | TRUE | TRUE | TRUE | TRUE | TRUE |\n",
       "| ENSG00000142655 | TRUE | TRUE | TRUE | TRUE | TRUE | TRUE | TRUE | TRUE |\n",
       "| ENSG00000149527 | TRUE | TRUE | TRUE | TRUE | TRUE | TRUE | TRUE | TRUE |\n",
       "\n"
      ],
      "text/plain": [
       "                MLB2_s1 MLB2_s2 VA1_s1 VA1_s2 HAstV4_s1 HAstV4_s2 mock_s1\n",
       "ENSG00000142611 TRUE    TRUE    TRUE   TRUE   TRUE      TRUE      TRUE   \n",
       "ENSG00000157911 TRUE    TRUE    TRUE   TRUE   TRUE      TRUE      TRUE   \n",
       "ENSG00000142655 TRUE    TRUE    TRUE   TRUE   TRUE      TRUE      TRUE   \n",
       "ENSG00000149527 TRUE    TRUE    TRUE   TRUE   TRUE      TRUE      TRUE   \n",
       "                mock_s2\n",
       "ENSG00000142611 TRUE   \n",
       "ENSG00000157911 TRUE   \n",
       "ENSG00000142655 TRUE   \n",
       "ENSG00000149527 TRUE   "
      ]
     },
     "metadata": {},
     "output_type": "display_data"
    }
   ],
   "source": [
    "counts(deseq)[1:4,]>=10"
   ]
  },
  {
   "cell_type": "code",
   "execution_count": 83,
   "id": "0722ccfd-431c-4832-a573-0f876a7dab6d",
   "metadata": {},
   "outputs": [
    {
     "data": {
      "text/plain": [
       "nsamples10\n",
       "    0     1     2     3     4     5     6     7     8 \n",
       " 5325   952   459   347   320   304   317   488 11558 "
      ]
     },
     "metadata": {},
     "output_type": "display_data"
    }
   ],
   "source": [
    "# filtes genes \n",
    "nsamples10 = rowSums(counts(deseq)>=10)\n",
    "table(nsamples10)"
   ]
  },
  {
   "cell_type": "code",
   "execution_count": 84,
   "id": "d5fb396d-81b9-49e3-9a30-ce379061101c",
   "metadata": {},
   "outputs": [
    {
     "data": {
      "text/plain": [
       "class: DESeqDataSet \n",
       "dim: 13793 8 \n",
       "metadata(1): version\n",
       "assays(1): counts\n",
       "rownames(13793): ENSG00000142611 ENSG00000157911 ... ENSG00000278817\n",
       "  ENSG00000271254\n",
       "rowData names(0):\n",
       "colnames(8): MLB2_s1 MLB2_s2 ... mock_s1 mock_s2\n",
       "colData names(7): id fname1 ... timepoint name"
      ]
     },
     "metadata": {},
     "output_type": "display_data"
    }
   ],
   "source": [
    "# remove genes with less than 10 reads in total\n",
    "#deseq = deseq[total>=10,]\n",
    "deseq = deseq[nsamples10>=2,]\n",
    "deseq"
   ]
  },
  {
   "cell_type": "code",
   "execution_count": 85,
   "id": "c36044e6-08e7-4829-aa83-785331e6fbf1",
   "metadata": {},
   "outputs": [
    {
     "data": {
      "text/plain": [
       "class: DESeqTransform \n",
       "dim: 13793 8 \n",
       "metadata(1): version\n",
       "assays(1): ''\n",
       "rownames(13793): ENSG00000142611 ENSG00000157911 ... ENSG00000278817\n",
       "  ENSG00000271254\n",
       "rowData names(4): baseMean baseVar allZero dispFit\n",
       "colnames(8): MLB2_s1 MLB2_s2 ... mock_s1 mock_s2\n",
       "colData names(8): id fname1 ... name sizeFactor"
      ]
     },
     "metadata": {},
     "output_type": "display_data"
    }
   ],
   "source": [
    "vsd = vst(deseq, blind=TRUE)\n",
    "vsd"
   ]
  },
  {
   "cell_type": "code",
   "execution_count": 89,
   "id": "f9cce934-3026-4d23-ae58-59b84eb9a6e9",
   "metadata": {},
   "outputs": [
    {
     "name": "stderr",
     "output_type": "stream",
     "text": [
      "using ntop=500 top features by variance\n",
      "\n"
     ]
    },
    {
     "data": {
      "image/png": "[encoded data removed]",
      "text/plain": [
       "plot without title"
      ]
     },
     "metadata": {
      "image/png": {
       "height": 420,
       "width": 420
      }
     },
     "output_type": "display_data"
    }
   ],
   "source": [
    "#pdf('../../figures/brain/02_human_plotPCA_condition.pdf',w=8,h=8.5)\n",
    "plotPCA(vsd, intgroup=c(\"condition\"))\n",
    "#dev.off()"
   ]
  },
  {
   "cell_type": "code",
   "execution_count": 88,
   "id": "d9fe066d-d164-4750-8245-aa7baa833d93",
   "metadata": {},
   "outputs": [
    {
     "name": "stderr",
     "output_type": "stream",
     "text": [
      "using ntop=500 top features by variance\n",
      "\n"
     ]
    },
    {
     "data": {
      "image/png": "[encoded data removed]",
      "text/plain": [
       "plot without title"
      ]
     },
     "metadata": {
      "image/png": {
       "height": 420,
       "width": 420
      }
     },
     "output_type": "display_data"
    }
   ],
   "source": [
    "plotPCA(vsd, intgroup=c(\"replicate\"))"
   ]
  },
  {
   "cell_type": "code",
   "execution_count": 95,
   "id": "2f6e846a-1b4d-49ae-a9a8-60088eeb9ffd",
   "metadata": {},
   "outputs": [
    {
     "data": {
      "image/png": "[encoded data removed]",
      "text/plain": [
       "plot without title"
      ]
     },
     "metadata": {
      "image/png": {
       "height": 420,
       "width": 420
      }
     },
     "output_type": "display_data"
    }
   ],
   "source": [
    "#pdf('../../figures/brain/03_human_heatmap.pdf',w=8,h=8.5)\n",
    "cor = cor(counts(deseq),method = 'sp')\n",
    "#cor = cor(vsd@assays@data[[1]],method = 'p')\n",
    "heatmap(cor,distfun = function(x)as.dist(1-x),symm = TRUE,margins = c(6,6))\n",
    "#dev.off()"
   ]
  },
  {
   "cell_type": "markdown",
   "id": "0511c1ee-82b8-41e2-9ea2-6b441410a2f8",
   "metadata": {},
   "source": [
    "## all viruses together"
   ]
  },
  {
   "cell_type": "code",
   "execution_count": 94,
   "id": "fc8bd17d-a0b7-4e0c-a7bf-f1f4861aae7d",
   "metadata": {},
   "outputs": [
    {
     "name": "stderr",
     "output_type": "stream",
     "text": [
      "estimating size factors\n",
      "\n",
      "estimating dispersions\n",
      "\n",
      "gene-wise dispersion estimates\n",
      "\n",
      "mean-dispersion relationship\n",
      "\n",
      "final dispersion estimates\n",
      "\n",
      "fitting model and testing\n",
      "\n"
     ]
    }
   ],
   "source": [
    "deseq = DESeq(deseq)"
   ]
  },
  {
   "cell_type": "code",
   "execution_count": 96,
   "id": "db2865fe-725f-4d24-af4f-cb3dd89b1aef",
   "metadata": {},
   "outputs": [],
   "source": [
    "cnds = c('MLB2','VA1','HAstV4')\n",
    "res = lapply(cnds,function(c)results(deseq,contrast = c('condition','mock',c)))\n",
    "names(res) = cnds"
   ]
  },
  {
   "cell_type": "code",
   "execution_count": 97,
   "id": "5bc78cbb-5544-4134-84ce-fab28561c70e",
   "metadata": {},
   "outputs": [
    {
     "data": {
      "text/html": [
       "<style>\n",
       ".dl-inline {width: auto; margin:0; padding: 0}\n",
       ".dl-inline>dt, .dl-inline>dd {float: none; width: auto; display: inline-block}\n",
       ".dl-inline>dt::after {content: \":\\0020\"; padding-right: .5ex}\n",
       ".dl-inline>dt:not(:first-of-type) {padding-left: .5ex}\n",
       "</style><dl class=dl-inline><dt>MLB2.sign</dt><dd>1</dd><dt>VA1.sign</dt><dd>1</dd><dt>HAstV4.sign</dt><dd>8</dd></dl>\n"
      ],
      "text/latex": [
       "\\begin{description*}\n",
       "\\item[MLB2.sign] 1\n",
       "\\item[VA1.sign] 1\n",
       "\\item[HAstV4.sign] 8\n",
       "\\end{description*}\n"
      ],
      "text/markdown": [
       "MLB2.sign\n",
       ":   1VA1.sign\n",
       ":   1HAstV4.sign\n",
       ":   8\n",
       "\n"
      ],
      "text/plain": [
       "  MLB2.sign    VA1.sign HAstV4.sign \n",
       "          1           1           8 "
      ]
     },
     "metadata": {},
     "output_type": "display_data"
    }
   ],
   "source": [
    "sapply(res,function(x){\n",
    "    c(sign=sum(x$padj<0.2 & abs(x$log2FoldChange)>0))\n",
    "})"
   ]
  },
  {
   "cell_type": "code",
   "execution_count": 98,
   "id": "4340bd86-3e00-4e80-b13e-5f09aefcf613",
   "metadata": {},
   "outputs": [
    {
     "data": {
      "text/html": [
       "<dl>\n",
       "\t<dt>$MLB2</dt>\n",
       "\t\t<dd><table class=\"dataframe\">\n",
       "<caption>A data.frame: 1 × 4</caption>\n",
       "<thead>\n",
       "\t<tr><th></th><th scope=col>baseMean</th><th scope=col>log2FoldChange</th><th scope=col>padj</th><th scope=col>gene_name</th></tr>\n",
       "\t<tr><th></th><th scope=col>&lt;dbl&gt;</th><th scope=col>&lt;dbl&gt;</th><th scope=col>&lt;dbl&gt;</th><th scope=col>&lt;chr&gt;</th></tr>\n",
       "</thead>\n",
       "<tbody>\n",
       "\t<tr><th scope=row>ENSG00000120549</th><td>56.63075</td><td>-4.307891</td><td>0.05841395</td><td>KIAA1217</td></tr>\n",
       "</tbody>\n",
       "</table>\n",
       "</dd>\n",
       "\t<dt>$VA1</dt>\n",
       "\t\t<dd><table class=\"dataframe\">\n",
       "<caption>A data.frame: 1 × 4</caption>\n",
       "<thead>\n",
       "\t<tr><th></th><th scope=col>baseMean</th><th scope=col>log2FoldChange</th><th scope=col>padj</th><th scope=col>gene_name</th></tr>\n",
       "\t<tr><th></th><th scope=col>&lt;dbl&gt;</th><th scope=col>&lt;dbl&gt;</th><th scope=col>&lt;dbl&gt;</th><th scope=col>&lt;chr&gt;</th></tr>\n",
       "</thead>\n",
       "<tbody>\n",
       "\t<tr><th scope=row>ENSG00000117707</th><td>71.74059</td><td>-2.735477</td><td>0.151899</td><td>PROX1</td></tr>\n",
       "</tbody>\n",
       "</table>\n",
       "</dd>\n",
       "\t<dt>$HAstV4</dt>\n",
       "\t\t<dd><table class=\"dataframe\">\n",
       "<caption>A data.frame: 8 × 4</caption>\n",
       "<thead>\n",
       "\t<tr><th></th><th scope=col>baseMean</th><th scope=col>log2FoldChange</th><th scope=col>padj</th><th scope=col>gene_name</th></tr>\n",
       "\t<tr><th></th><th scope=col>&lt;dbl&gt;</th><th scope=col>&lt;dbl&gt;</th><th scope=col>&lt;dbl&gt;</th><th scope=col>&lt;chr&gt;</th></tr>\n",
       "</thead>\n",
       "<tbody>\n",
       "\t<tr><th scope=row>ENSG00000134996</th><td>   22.01861</td><td>-8.2759903</td><td>0.014391531</td><td>OSTF1   </td></tr>\n",
       "\t<tr><th scope=row>ENSG00000120549</th><td>   56.63075</td><td>-3.7729169</td><td>0.112426714</td><td>KIAA1217</td></tr>\n",
       "\t<tr><th scope=row>ENSG00000117707</th><td>   71.74059</td><td>-2.9096761</td><td>0.014391531</td><td>PROX1   </td></tr>\n",
       "\t<tr><th scope=row>ENSG00000099194</th><td>11607.43869</td><td> 0.5846564</td><td>0.015716726</td><td>SCD     </td></tr>\n",
       "\t<tr><th scope=row>ENSG00000112972</th><td> 9309.05277</td><td> 0.7391143</td><td>0.040180885</td><td>HMGCS1  </td></tr>\n",
       "\t<tr><th scope=row>ENSG00000186480</th><td> 2232.65296</td><td> 0.7702800</td><td>0.015716726</td><td>INSIG1  </td></tr>\n",
       "\t<tr><th scope=row>ENSG00000168298</th><td>  251.87048</td><td> 1.9679312</td><td>0.001829131</td><td>H1-4    </td></tr>\n",
       "\t<tr><th scope=row>ENSG00000107611</th><td>   20.86809</td><td> 7.4067033</td><td>0.189235989</td><td>CUBN    </td></tr>\n",
       "</tbody>\n",
       "</table>\n",
       "</dd>\n",
       "</dl>\n"
      ],
      "text/latex": [
       "\\begin{description}\n",
       "\\item[\\$MLB2] A data.frame: 1 × 4\n",
       "\\begin{tabular}{r|llll}\n",
       "  & baseMean & log2FoldChange & padj & gene\\_name\\\\\n",
       "  & <dbl> & <dbl> & <dbl> & <chr>\\\\\n",
       "\\hline\n",
       "\tENSG00000120549 & 56.63075 & -4.307891 & 0.05841395 & KIAA1217\\\\\n",
       "\\end{tabular}\n",
       "\n",
       "\\item[\\$VA1] A data.frame: 1 × 4\n",
       "\\begin{tabular}{r|llll}\n",
       "  & baseMean & log2FoldChange & padj & gene\\_name\\\\\n",
       "  & <dbl> & <dbl> & <dbl> & <chr>\\\\\n",
       "\\hline\n",
       "\tENSG00000117707 & 71.74059 & -2.735477 & 0.151899 & PROX1\\\\\n",
       "\\end{tabular}\n",
       "\n",
       "\\item[\\$HAstV4] A data.frame: 8 × 4\n",
       "\\begin{tabular}{r|llll}\n",
       "  & baseMean & log2FoldChange & padj & gene\\_name\\\\\n",
       "  & <dbl> & <dbl> & <dbl> & <chr>\\\\\n",
       "\\hline\n",
       "\tENSG00000134996 &    22.01861 & -8.2759903 & 0.014391531 & OSTF1   \\\\\n",
       "\tENSG00000120549 &    56.63075 & -3.7729169 & 0.112426714 & KIAA1217\\\\\n",
       "\tENSG00000117707 &    71.74059 & -2.9096761 & 0.014391531 & PROX1   \\\\\n",
       "\tENSG00000099194 & 11607.43869 &  0.5846564 & 0.015716726 & SCD     \\\\\n",
       "\tENSG00000112972 &  9309.05277 &  0.7391143 & 0.040180885 & HMGCS1  \\\\\n",
       "\tENSG00000186480 &  2232.65296 &  0.7702800 & 0.015716726 & INSIG1  \\\\\n",
       "\tENSG00000168298 &   251.87048 &  1.9679312 & 0.001829131 & H1-4    \\\\\n",
       "\tENSG00000107611 &    20.86809 &  7.4067033 & 0.189235989 & CUBN    \\\\\n",
       "\\end{tabular}\n",
       "\n",
       "\\end{description}\n"
      ],
      "text/markdown": [
       "$MLB2\n",
       ":   \n",
       "A data.frame: 1 × 4\n",
       "\n",
       "| <!--/--> | baseMean &lt;dbl&gt; | log2FoldChange &lt;dbl&gt; | padj &lt;dbl&gt; | gene_name &lt;chr&gt; |\n",
       "|---|---|---|---|---|\n",
       "| ENSG00000120549 | 56.63075 | -4.307891 | 0.05841395 | KIAA1217 |\n",
       "\n",
       "\n",
       "$VA1\n",
       ":   \n",
       "A data.frame: 1 × 4\n",
       "\n",
       "| <!--/--> | baseMean &lt;dbl&gt; | log2FoldChange &lt;dbl&gt; | padj &lt;dbl&gt; | gene_name &lt;chr&gt; |\n",
       "|---|---|---|---|---|\n",
       "| ENSG00000117707 | 71.74059 | -2.735477 | 0.151899 | PROX1 |\n",
       "\n",
       "\n",
       "$HAstV4\n",
       ":   \n",
       "A data.frame: 8 × 4\n",
       "\n",
       "| <!--/--> | baseMean &lt;dbl&gt; | log2FoldChange &lt;dbl&gt; | padj &lt;dbl&gt; | gene_name &lt;chr&gt; |\n",
       "|---|---|---|---|---|\n",
       "| ENSG00000134996 |    22.01861 | -8.2759903 | 0.014391531 | OSTF1    |\n",
       "| ENSG00000120549 |    56.63075 | -3.7729169 | 0.112426714 | KIAA1217 |\n",
       "| ENSG00000117707 |    71.74059 | -2.9096761 | 0.014391531 | PROX1    |\n",
       "| ENSG00000099194 | 11607.43869 |  0.5846564 | 0.015716726 | SCD      |\n",
       "| ENSG00000112972 |  9309.05277 |  0.7391143 | 0.040180885 | HMGCS1   |\n",
       "| ENSG00000186480 |  2232.65296 |  0.7702800 | 0.015716726 | INSIG1   |\n",
       "| ENSG00000168298 |   251.87048 |  1.9679312 | 0.001829131 | H1-4     |\n",
       "| ENSG00000107611 |    20.86809 |  7.4067033 | 0.189235989 | CUBN     |\n",
       "\n",
       "\n",
       "\n",
       "\n"
      ],
      "text/plain": [
       "$MLB2\n",
       "                baseMean log2FoldChange       padj gene_name\n",
       "ENSG00000120549 56.63075      -4.307891 0.05841395  KIAA1217\n",
       "\n",
       "$VA1\n",
       "                baseMean log2FoldChange     padj gene_name\n",
       "ENSG00000117707 71.74059      -2.735477 0.151899     PROX1\n",
       "\n",
       "$HAstV4\n",
       "                   baseMean log2FoldChange        padj gene_name\n",
       "ENSG00000134996    22.01861     -8.2759903 0.014391531     OSTF1\n",
       "ENSG00000120549    56.63075     -3.7729169 0.112426714  KIAA1217\n",
       "ENSG00000117707    71.74059     -2.9096761 0.014391531     PROX1\n",
       "ENSG00000099194 11607.43869      0.5846564 0.015716726       SCD\n",
       "ENSG00000112972  9309.05277      0.7391143 0.040180885    HMGCS1\n",
       "ENSG00000186480  2232.65296      0.7702800 0.015716726    INSIG1\n",
       "ENSG00000168298   251.87048      1.9679312 0.001829131      H1-4\n",
       "ENSG00000107611    20.86809      7.4067033 0.189235989      CUBN\n"
      ]
     },
     "metadata": {},
     "output_type": "display_data"
    }
   ],
   "source": [
    "lapply(res,function(x){\n",
    "    f = x$padj<0.2\n",
    "    f[is.na(f)] = FALSE\n",
    "    x = as.data.frame(x[f,c(1,2,6)])\n",
    "    x$gene_name = genes[rownames(x),'gene_name']\n",
    "    x[order(x$log2FoldChange),]\n",
    "})"
   ]
  },
  {
   "cell_type": "code",
   "execution_count": 99,
   "id": "f99733af-1e47-476f-89bc-2221439ce8c2",
   "metadata": {},
   "outputs": [
    {
     "data": {
      "image/png": "[encoded data removed]",
      "text/plain": [
       "plot without title"
      ]
     },
     "metadata": {
      "image/png": {
       "height": 400,
       "width": 1200
      }
     },
     "output_type": "display_data"
    }
   ],
   "source": [
    "options(repr.plot.width = 12, repr.plot.height = 4, repr.plot.res = 200)\n",
    "par(mfrow=c(1,3))\n",
    "plot(res$VA1$log2FoldChange,res$MLB2$log2FoldChange,pch=19,xlab='VA1',ylab='MLB2')\n",
    "plot(res$VA1$log2FoldChange,res$HAstV4$log2FoldChange,pch=19)\n",
    "plot(res$MLB2$log2FoldChange,res$HAstV4$log2FoldChange,pch=19)"
   ]
  },
  {
   "cell_type": "code",
   "execution_count": 100,
   "id": "120510f3-3d74-4a77-b80e-bfbbe4dc6a39",
   "metadata": {},
   "outputs": [
    {
     "data": {
      "text/plain": [
       "DataFrame with 10 rows and 7 columns\n",
       "                 baseMean log2FoldChange     lfcSE      stat     pvalue\n",
       "                <numeric>      <numeric> <numeric> <numeric>  <numeric>\n",
       "ENSG00000203740   3.33807        5.73612   3.55411   1.61394 0.10654091\n",
       "ENSG00000173626   5.99661        6.64991   2.96425   2.24337 0.02487311\n",
       "ENSG00000237541   3.18316        5.54891   4.07310   1.36233 0.17309345\n",
       "ENSG00000182070   3.91979        5.64794   3.50415   1.61179 0.10700810\n",
       "ENSG00000196932   3.60204        5.74123   3.53883   1.62235 0.10472828\n",
       "ENSG00000183346   8.59305        5.19681   2.63420   1.97283 0.04851549\n",
       "ENSG00000205693   3.48515        5.82920   3.94394   1.47801 0.13940438\n",
       "ENSG00000256950   3.67160        5.88561   3.49244   1.68524 0.09194202\n",
       "ENSG00000184206   4.92729        5.71745   2.80227   2.04029 0.04132134\n",
       "ENSG00000124253   9.10534        7.10391   2.61028   2.72152 0.00649833\n",
       "                     padj genes[rownames(sel), \"gene_name\"]\n",
       "                <numeric>                       <character>\n",
       "ENSG00000203740         1                             NTMT2\n",
       "ENSG00000173626         1                          TRAPPC3L\n",
       "ENSG00000237541         1                          HLA-DQA2\n",
       "ENSG00000182070         1                            OR52A1\n",
       "ENSG00000196932         1                            TMEM26\n",
       "ENSG00000183346         1                          CABCOCO1\n",
       "ENSG00000205693         1                            MANSC4\n",
       "ENSG00000256950         1                                NA\n",
       "ENSG00000184206         1                          GOLGA6L4\n",
       "ENSG00000124253         1                              PCK1"
      ]
     },
     "metadata": {},
     "output_type": "display_data"
    }
   ],
   "source": [
    "f = res$MLB2$log2FoldChange>5 & res$VA1$log2FoldChange>5\n",
    "sel = res$VA1[f,]\n",
    "cbind(sel,genes[rownames(sel),'gene_name'])"
   ]
  },
  {
   "cell_type": "markdown",
   "id": "30a70461-e2d2-46d9-8590-71a2b6055c00",
   "metadata": {},
   "source": [
    "## One virus by one"
   ]
  },
  {
   "cell_type": "code",
   "execution_count": 101,
   "id": "6d86e212-be7e-4b67-92c6-a42ad56c5ea3",
   "metadata": {},
   "outputs": [
    {
     "name": "stderr",
     "output_type": "stream",
     "text": [
      "Warning message in DESeqDataSet(se, design = design, ignoreRank):\n",
      "“some variables in design formula are characters, converting to factors”\n",
      "estimating size factors\n",
      "\n",
      "estimating dispersions\n",
      "\n",
      "gene-wise dispersion estimates\n",
      "\n",
      "mean-dispersion relationship\n",
      "\n",
      "final dispersion estimates\n",
      "\n",
      "fitting model and testing\n",
      "\n",
      "Warning message in DESeqDataSet(se, design = design, ignoreRank):\n",
      "“some variables in design formula are characters, converting to factors”\n",
      "estimating size factors\n",
      "\n",
      "estimating dispersions\n",
      "\n",
      "gene-wise dispersion estimates\n",
      "\n",
      "mean-dispersion relationship\n",
      "\n",
      "final dispersion estimates\n",
      "\n",
      "fitting model and testing\n",
      "\n",
      "Warning message in DESeqDataSet(se, design = design, ignoreRank):\n",
      "“some variables in design formula are characters, converting to factors”\n",
      "estimating size factors\n",
      "\n",
      "estimating dispersions\n",
      "\n",
      "gene-wise dispersion estimates\n",
      "\n",
      "mean-dispersion relationship\n",
      "\n",
      "final dispersion estimates\n",
      "\n",
      "fitting model and testing\n",
      "\n"
     ]
    }
   ],
   "source": [
    "cnds = c('MLB2','VA1','HAstV4')\n",
    "res2 = lapply(cnds,function(c){\n",
    "    f = samples$condition %in% c('mock',c)\n",
    "    x = DESeqDataSetFromMatrix(countData = counts[rownames(deseq),f],\n",
    "                              colData = samples[f,],\n",
    "                               design = ~ condition)\n",
    "    x = DESeq(x)\n",
    "    results(x,contrast = c('condition','mock',c))\n",
    "    })\n",
    "names(res2) = cnds"
   ]
  },
  {
   "cell_type": "code",
   "execution_count": 102,
   "id": "edb4d500-0dfc-4282-8573-30645da60c90",
   "metadata": {},
   "outputs": [
    {
     "data": {
      "text/html": [
       "<style>\n",
       ".dl-inline {width: auto; margin:0; padding: 0}\n",
       ".dl-inline>dt, .dl-inline>dd {float: none; width: auto; display: inline-block}\n",
       ".dl-inline>dt::after {content: \":\\0020\"; padding-right: .5ex}\n",
       ".dl-inline>dt:not(:first-of-type) {padding-left: .5ex}\n",
       "</style><dl class=dl-inline><dt>MLB2.sign</dt><dd>8</dd><dt>VA1.sign</dt><dd>0</dd><dt>HAstV4.sign</dt><dd>2</dd></dl>\n"
      ],
      "text/latex": [
       "\\begin{description*}\n",
       "\\item[MLB2.sign] 8\n",
       "\\item[VA1.sign] 0\n",
       "\\item[HAstV4.sign] 2\n",
       "\\end{description*}\n"
      ],
      "text/markdown": [
       "MLB2.sign\n",
       ":   8VA1.sign\n",
       ":   0HAstV4.sign\n",
       ":   2\n",
       "\n"
      ],
      "text/plain": [
       "  MLB2.sign    VA1.sign HAstV4.sign \n",
       "          8           0           2 "
      ]
     },
     "metadata": {},
     "output_type": "display_data"
    }
   ],
   "source": [
    "sapply(res2,function(x){\n",
    "    c(sign=sum(x$padj<0.05 & abs(x$log2FoldChange)>0,na.rm=T))\n",
    "})"
   ]
  },
  {
   "cell_type": "code",
   "execution_count": 103,
   "id": "48411b5e-1491-4aa8-a0ae-6dec5bc52cb9",
   "metadata": {},
   "outputs": [
    {
     "data": {
      "text/html": [
       "<dl>\n",
       "\t<dt>$MLB2</dt>\n",
       "\t\t<dd><table class=\"dataframe\">\n",
       "<caption>A data.frame: 8 × 4</caption>\n",
       "<thead>\n",
       "\t<tr><th></th><th scope=col>baseMean</th><th scope=col>log2FoldChange</th><th scope=col>padj</th><th scope=col>gene_name</th></tr>\n",
       "\t<tr><th></th><th scope=col>&lt;dbl&gt;</th><th scope=col>&lt;dbl&gt;</th><th scope=col>&lt;dbl&gt;</th><th scope=col>&lt;chr&gt;</th></tr>\n",
       "</thead>\n",
       "<tbody>\n",
       "\t<tr><th scope=row>ENSG00000120549</th><td>  50.11637</td><td>-4.3102477</td><td>1.160747e-02</td><td>KIAA1217</td></tr>\n",
       "\t<tr><th scope=row>ENSG00000113916</th><td> 329.06114</td><td>-1.7771026</td><td>1.160747e-02</td><td>BCL6    </td></tr>\n",
       "\t<tr><th scope=row>ENSG00000175745</th><td>2845.22291</td><td>-1.3115234</td><td>2.433423e-10</td><td>NR2F1   </td></tr>\n",
       "\t<tr><th scope=row>ENSG00000185551</th><td> 784.95780</td><td>-1.2095558</td><td>1.483149e-02</td><td>NR2F2   </td></tr>\n",
       "\t<tr><th scope=row>ENSG00000155760</th><td> 743.09792</td><td>-1.1658143</td><td>1.851594e-02</td><td>FZD7    </td></tr>\n",
       "\t<tr><th scope=row>ENSG00000076356</th><td> 866.29096</td><td>-0.9564076</td><td>1.483149e-02</td><td>PLXNA2  </td></tr>\n",
       "\t<tr><th scope=row>ENSG00000150471</th><td>1322.63791</td><td>-0.8491480</td><td>1.851594e-02</td><td>ADGRL3  </td></tr>\n",
       "\t<tr><th scope=row>ENSG00000174963</th><td>  54.97500</td><td> 4.5654600</td><td>3.421440e-02</td><td>ZIC4    </td></tr>\n",
       "</tbody>\n",
       "</table>\n",
       "</dd>\n",
       "\t<dt>$VA1</dt>\n",
       "\t\t<dd><table class=\"dataframe\">\n",
       "<caption>A data.frame: 0 × 4</caption>\n",
       "<thead>\n",
       "\t<tr><th scope=col>baseMean</th><th scope=col>log2FoldChange</th><th scope=col>padj</th><th scope=col>gene_name</th></tr>\n",
       "\t<tr><th scope=col>&lt;dbl&gt;</th><th scope=col>&lt;dbl&gt;</th><th scope=col>&lt;dbl&gt;</th><th scope=col>&lt;chr&gt;</th></tr>\n",
       "</thead>\n",
       "<tbody>\n",
       "</tbody>\n",
       "</table>\n",
       "</dd>\n",
       "\t<dt>$HAstV4</dt>\n",
       "\t\t<dd><table class=\"dataframe\">\n",
       "<caption>A data.frame: 2 × 4</caption>\n",
       "<thead>\n",
       "\t<tr><th></th><th scope=col>baseMean</th><th scope=col>log2FoldChange</th><th scope=col>padj</th><th scope=col>gene_name</th></tr>\n",
       "\t<tr><th></th><th scope=col>&lt;dbl&gt;</th><th scope=col>&lt;dbl&gt;</th><th scope=col>&lt;dbl&gt;</th><th scope=col>&lt;chr&gt;</th></tr>\n",
       "</thead>\n",
       "<tbody>\n",
       "\t<tr><th scope=row>ENSG00000134996</th><td> 29.80408</td><td>-8.276793</td><td>0.031746594</td><td>OSTF1</td></tr>\n",
       "\t<tr><th scope=row>ENSG00000168298</th><td>260.84989</td><td> 1.967171</td><td>0.005380798</td><td>H1-4 </td></tr>\n",
       "</tbody>\n",
       "</table>\n",
       "</dd>\n",
       "</dl>\n"
      ],
      "text/latex": [
       "\\begin{description}\n",
       "\\item[\\$MLB2] A data.frame: 8 × 4\n",
       "\\begin{tabular}{r|llll}\n",
       "  & baseMean & log2FoldChange & padj & gene\\_name\\\\\n",
       "  & <dbl> & <dbl> & <dbl> & <chr>\\\\\n",
       "\\hline\n",
       "\tENSG00000120549 &   50.11637 & -4.3102477 & 1.160747e-02 & KIAA1217\\\\\n",
       "\tENSG00000113916 &  329.06114 & -1.7771026 & 1.160747e-02 & BCL6    \\\\\n",
       "\tENSG00000175745 & 2845.22291 & -1.3115234 & 2.433423e-10 & NR2F1   \\\\\n",
       "\tENSG00000185551 &  784.95780 & -1.2095558 & 1.483149e-02 & NR2F2   \\\\\n",
       "\tENSG00000155760 &  743.09792 & -1.1658143 & 1.851594e-02 & FZD7    \\\\\n",
       "\tENSG00000076356 &  866.29096 & -0.9564076 & 1.483149e-02 & PLXNA2  \\\\\n",
       "\tENSG00000150471 & 1322.63791 & -0.8491480 & 1.851594e-02 & ADGRL3  \\\\\n",
       "\tENSG00000174963 &   54.97500 &  4.5654600 & 3.421440e-02 & ZIC4    \\\\\n",
       "\\end{tabular}\n",
       "\n",
       "\\item[\\$VA1] A data.frame: 0 × 4\n",
       "\\begin{tabular}{llll}\n",
       " baseMean & log2FoldChange & padj & gene\\_name\\\\\n",
       " <dbl> & <dbl> & <dbl> & <chr>\\\\\n",
       "\\hline\n",
       "\\end{tabular}\n",
       "\n",
       "\\item[\\$HAstV4] A data.frame: 2 × 4\n",
       "\\begin{tabular}{r|llll}\n",
       "  & baseMean & log2FoldChange & padj & gene\\_name\\\\\n",
       "  & <dbl> & <dbl> & <dbl> & <chr>\\\\\n",
       "\\hline\n",
       "\tENSG00000134996 &  29.80408 & -8.276793 & 0.031746594 & OSTF1\\\\\n",
       "\tENSG00000168298 & 260.84989 &  1.967171 & 0.005380798 & H1-4 \\\\\n",
       "\\end{tabular}\n",
       "\n",
       "\\end{description}\n"
      ],
      "text/markdown": [
       "$MLB2\n",
       ":   \n",
       "A data.frame: 8 × 4\n",
       "\n",
       "| <!--/--> | baseMean &lt;dbl&gt; | log2FoldChange &lt;dbl&gt; | padj &lt;dbl&gt; | gene_name &lt;chr&gt; |\n",
       "|---|---|---|---|---|\n",
       "| ENSG00000120549 |   50.11637 | -4.3102477 | 1.160747e-02 | KIAA1217 |\n",
       "| ENSG00000113916 |  329.06114 | -1.7771026 | 1.160747e-02 | BCL6     |\n",
       "| ENSG00000175745 | 2845.22291 | -1.3115234 | 2.433423e-10 | NR2F1    |\n",
       "| ENSG00000185551 |  784.95780 | -1.2095558 | 1.483149e-02 | NR2F2    |\n",
       "| ENSG00000155760 |  743.09792 | -1.1658143 | 1.851594e-02 | FZD7     |\n",
       "| ENSG00000076356 |  866.29096 | -0.9564076 | 1.483149e-02 | PLXNA2   |\n",
       "| ENSG00000150471 | 1322.63791 | -0.8491480 | 1.851594e-02 | ADGRL3   |\n",
       "| ENSG00000174963 |   54.97500 |  4.5654600 | 3.421440e-02 | ZIC4     |\n",
       "\n",
       "\n",
       "$VA1\n",
       ":   \n",
       "A data.frame: 0 × 4\n",
       "\n",
       "| baseMean &lt;dbl&gt; | log2FoldChange &lt;dbl&gt; | padj &lt;dbl&gt; | gene_name &lt;chr&gt; |\n",
       "|---|---|---|---|\n",
       "\n",
       "\n",
       "$HAstV4\n",
       ":   \n",
       "A data.frame: 2 × 4\n",
       "\n",
       "| <!--/--> | baseMean &lt;dbl&gt; | log2FoldChange &lt;dbl&gt; | padj &lt;dbl&gt; | gene_name &lt;chr&gt; |\n",
       "|---|---|---|---|---|\n",
       "| ENSG00000134996 |  29.80408 | -8.276793 | 0.031746594 | OSTF1 |\n",
       "| ENSG00000168298 | 260.84989 |  1.967171 | 0.005380798 | H1-4  |\n",
       "\n",
       "\n",
       "\n",
       "\n"
      ],
      "text/plain": [
       "$MLB2\n",
       "                  baseMean log2FoldChange         padj gene_name\n",
       "ENSG00000120549   50.11637     -4.3102477 1.160747e-02  KIAA1217\n",
       "ENSG00000113916  329.06114     -1.7771026 1.160747e-02      BCL6\n",
       "ENSG00000175745 2845.22291     -1.3115234 2.433423e-10     NR2F1\n",
       "ENSG00000185551  784.95780     -1.2095558 1.483149e-02     NR2F2\n",
       "ENSG00000155760  743.09792     -1.1658143 1.851594e-02      FZD7\n",
       "ENSG00000076356  866.29096     -0.9564076 1.483149e-02    PLXNA2\n",
       "ENSG00000150471 1322.63791     -0.8491480 1.851594e-02    ADGRL3\n",
       "ENSG00000174963   54.97500      4.5654600 3.421440e-02      ZIC4\n",
       "\n",
       "$VA1\n",
       "[1] baseMean       log2FoldChange padj           gene_name     \n",
       "<0 rows> (or 0-length row.names)\n",
       "\n",
       "$HAstV4\n",
       "                 baseMean log2FoldChange        padj gene_name\n",
       "ENSG00000134996  29.80408      -8.276793 0.031746594     OSTF1\n",
       "ENSG00000168298 260.84989       1.967171 0.005380798      H1-4\n"
      ]
     },
     "metadata": {},
     "output_type": "display_data"
    }
   ],
   "source": [
    "lapply(res2,function(x){\n",
    "    f = x$padj<0.05 & abs(x$log2FoldChange)>0\n",
    "    f[is.na(f)] = FALSE\n",
    "    x = as.data.frame(x[f,c(1,2,6)])\n",
    "    x$gene_name = genes[rownames(x),'gene_name']\n",
    "    x[order(x$log2FoldChange),]\n",
    "})"
   ]
  },
  {
   "cell_type": "code",
   "execution_count": 104,
   "id": "9bdabb0a-7589-4f32-b605-22fecf8e9505",
   "metadata": {},
   "outputs": [
    {
     "data": {
      "text/html": [
       "<dl>\n",
       "\t<dt>$MLB2</dt>\n",
       "\t\t<dd><table class=\"dataframe\">\n",
       "<caption>A data.frame: 0 × 4</caption>\n",
       "<thead>\n",
       "\t<tr><th scope=col>baseMean</th><th scope=col>log2FoldChange</th><th scope=col>padj</th><th scope=col>gene_name</th></tr>\n",
       "\t<tr><th scope=col>&lt;dbl&gt;</th><th scope=col>&lt;dbl&gt;</th><th scope=col>&lt;dbl&gt;</th><th scope=col>&lt;chr&gt;</th></tr>\n",
       "</thead>\n",
       "<tbody>\n",
       "</tbody>\n",
       "</table>\n",
       "</dd>\n",
       "\t<dt>$VA1</dt>\n",
       "\t\t<dd><table class=\"dataframe\">\n",
       "<caption>A data.frame: 0 × 4</caption>\n",
       "<thead>\n",
       "\t<tr><th scope=col>baseMean</th><th scope=col>log2FoldChange</th><th scope=col>padj</th><th scope=col>gene_name</th></tr>\n",
       "\t<tr><th scope=col>&lt;dbl&gt;</th><th scope=col>&lt;dbl&gt;</th><th scope=col>&lt;dbl&gt;</th><th scope=col>&lt;chr&gt;</th></tr>\n",
       "</thead>\n",
       "<tbody>\n",
       "</tbody>\n",
       "</table>\n",
       "</dd>\n",
       "\t<dt>$HAstV4</dt>\n",
       "\t\t<dd><table class=\"dataframe\">\n",
       "<caption>A data.frame: 3 × 4</caption>\n",
       "<thead>\n",
       "\t<tr><th></th><th scope=col>baseMean</th><th scope=col>log2FoldChange</th><th scope=col>padj</th><th scope=col>gene_name</th></tr>\n",
       "\t<tr><th></th><th scope=col>&lt;dbl&gt;</th><th scope=col>&lt;dbl&gt;</th><th scope=col>&lt;dbl&gt;</th><th scope=col>&lt;chr&gt;</th></tr>\n",
       "</thead>\n",
       "<tbody>\n",
       "\t<tr><th scope=row>ENSG00000134996</th><td> 22.01861</td><td>-8.275990</td><td>0.014391531</td><td>OSTF1</td></tr>\n",
       "\t<tr><th scope=row>ENSG00000117707</th><td> 71.74059</td><td>-2.909676</td><td>0.014391531</td><td>PROX1</td></tr>\n",
       "\t<tr><th scope=row>ENSG00000168298</th><td>251.87048</td><td> 1.967931</td><td>0.001829131</td><td>H1-4 </td></tr>\n",
       "</tbody>\n",
       "</table>\n",
       "</dd>\n",
       "</dl>\n"
      ],
      "text/latex": [
       "\\begin{description}\n",
       "\\item[\\$MLB2] A data.frame: 0 × 4\n",
       "\\begin{tabular}{llll}\n",
       " baseMean & log2FoldChange & padj & gene\\_name\\\\\n",
       " <dbl> & <dbl> & <dbl> & <chr>\\\\\n",
       "\\hline\n",
       "\\end{tabular}\n",
       "\n",
       "\\item[\\$VA1] A data.frame: 0 × 4\n",
       "\\begin{tabular}{llll}\n",
       " baseMean & log2FoldChange & padj & gene\\_name\\\\\n",
       " <dbl> & <dbl> & <dbl> & <chr>\\\\\n",
       "\\hline\n",
       "\\end{tabular}\n",
       "\n",
       "\\item[\\$HAstV4] A data.frame: 3 × 4\n",
       "\\begin{tabular}{r|llll}\n",
       "  & baseMean & log2FoldChange & padj & gene\\_name\\\\\n",
       "  & <dbl> & <dbl> & <dbl> & <chr>\\\\\n",
       "\\hline\n",
       "\tENSG00000134996 &  22.01861 & -8.275990 & 0.014391531 & OSTF1\\\\\n",
       "\tENSG00000117707 &  71.74059 & -2.909676 & 0.014391531 & PROX1\\\\\n",
       "\tENSG00000168298 & 251.87048 &  1.967931 & 0.001829131 & H1-4 \\\\\n",
       "\\end{tabular}\n",
       "\n",
       "\\end{description}\n"
      ],
      "text/markdown": [
       "$MLB2\n",
       ":   \n",
       "A data.frame: 0 × 4\n",
       "\n",
       "| baseMean &lt;dbl&gt; | log2FoldChange &lt;dbl&gt; | padj &lt;dbl&gt; | gene_name &lt;chr&gt; |\n",
       "|---|---|---|---|\n",
       "\n",
       "\n",
       "$VA1\n",
       ":   \n",
       "A data.frame: 0 × 4\n",
       "\n",
       "| baseMean &lt;dbl&gt; | log2FoldChange &lt;dbl&gt; | padj &lt;dbl&gt; | gene_name &lt;chr&gt; |\n",
       "|---|---|---|---|\n",
       "\n",
       "\n",
       "$HAstV4\n",
       ":   \n",
       "A data.frame: 3 × 4\n",
       "\n",
       "| <!--/--> | baseMean &lt;dbl&gt; | log2FoldChange &lt;dbl&gt; | padj &lt;dbl&gt; | gene_name &lt;chr&gt; |\n",
       "|---|---|---|---|---|\n",
       "| ENSG00000134996 |  22.01861 | -8.275990 | 0.014391531 | OSTF1 |\n",
       "| ENSG00000117707 |  71.74059 | -2.909676 | 0.014391531 | PROX1 |\n",
       "| ENSG00000168298 | 251.87048 |  1.967931 | 0.001829131 | H1-4  |\n",
       "\n",
       "\n",
       "\n",
       "\n"
      ],
      "text/plain": [
       "$MLB2\n",
       "[1] baseMean       log2FoldChange padj           gene_name     \n",
       "<0 rows> (or 0-length row.names)\n",
       "\n",
       "$VA1\n",
       "[1] baseMean       log2FoldChange padj           gene_name     \n",
       "<0 rows> (or 0-length row.names)\n",
       "\n",
       "$HAstV4\n",
       "                 baseMean log2FoldChange        padj gene_name\n",
       "ENSG00000134996  22.01861      -8.275990 0.014391531     OSTF1\n",
       "ENSG00000117707  71.74059      -2.909676 0.014391531     PROX1\n",
       "ENSG00000168298 251.87048       1.967931 0.001829131      H1-4\n"
      ]
     },
     "metadata": {},
     "output_type": "display_data"
    }
   ],
   "source": [
    "lapply(res,function(x){\n",
    "    f = x$padj<0.05 & abs(x$log2FoldChange)>1\n",
    "    f[is.na(f)] = FALSE\n",
    "    x = as.data.frame(x[f,c(1,2,6)])\n",
    "    x$gene_name = genes[rownames(x),'gene_name']\n",
    "    x[order(x$log2FoldChange),]\n",
    "})"
   ]
  },
  {
   "cell_type": "markdown",
   "id": "df626f7a-a758-48b8-a0a2-cb4f40abff30",
   "metadata": {},
   "source": [
    "#res and res2 - data from \"all virus together' and \"one virus by one\""
   ]
  }
 ],
 "metadata": {
  "kernelspec": {
   "display_name": "R",
   "language": "R",
   "name": "ir"
  },
  "language_info": {
   "codemirror_mode": "r",
   "file_extension": ".r",
   "mimetype": "text/x-r-source",
   "name": "R",
   "pygments_lexer": "r",
   "version": "4.4.2"
  }
 },
 "nbformat": 4,
 "nbformat_minor": 5
}
